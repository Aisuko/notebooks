{
 "cells": [
  {
   "cell_type": "markdown",
   "id": "d15e5779",
   "metadata": {
    "papermill": {
     "duration": 0.007246,
     "end_time": "2023-07-14T12:56:00.567451",
     "exception": false,
     "start_time": "2023-07-14T12:56:00.560205",
     "status": "completed"
    },
    "tags": []
   },
   "source": [
    "### Working with data\n",
    "\n",
    "PyTorch has two primitives to wotk with data:\n",
    "- `torch.utils.data.DataLoader`\n",
    "- `torch.utils.data.Dataset`\n",
    "\n",
    "`Dataset` stores the samples and their corresponding lables, and `DataLoader` wraps an iterable arounf the `Dataset`."
   ]
  },
  {
   "cell_type": "code",
   "execution_count": 1,
   "id": "7e1c42be",
   "metadata": {
    "execution": {
     "iopub.execute_input": "2023-07-14T12:56:00.583000Z",
     "iopub.status.busy": "2023-07-14T12:56:00.582563Z",
     "iopub.status.idle": "2023-07-14T12:56:12.892836Z",
     "shell.execute_reply": "2023-07-14T12:56:12.891421Z"
    },
    "papermill": {
     "duration": 12.321019,
     "end_time": "2023-07-14T12:56:12.895408",
     "exception": false,
     "start_time": "2023-07-14T12:56:00.574389",
     "status": "completed"
    },
    "tags": []
   },
   "outputs": [
    {
     "name": "stdout",
     "output_type": "stream",
     "text": [
      "Looking in indexes: https://download.pytorch.org/whl/cu118\r\n",
      "Requirement already satisfied: torch in /opt/conda/lib/python3.10/site-packages (2.0.0)\r\n",
      "Requirement already satisfied: torchvision in /opt/conda/lib/python3.10/site-packages (0.15.1)\r\n",
      "Requirement already satisfied: torchaudio in /opt/conda/lib/python3.10/site-packages (2.0.1)\r\n",
      "Requirement already satisfied: filelock in /opt/conda/lib/python3.10/site-packages (from torch) (3.12.2)\r\n",
      "Requirement already satisfied: typing-extensions in /opt/conda/lib/python3.10/site-packages (from torch) (4.6.3)\r\n",
      "Requirement already satisfied: sympy in /opt/conda/lib/python3.10/site-packages (from torch) (1.12)\r\n",
      "Requirement already satisfied: networkx in /opt/conda/lib/python3.10/site-packages (from torch) (3.1)\r\n",
      "Requirement already satisfied: jinja2 in /opt/conda/lib/python3.10/site-packages (from torch) (3.1.2)\r\n",
      "Requirement already satisfied: numpy in /opt/conda/lib/python3.10/site-packages (from torchvision) (1.23.5)\r\n",
      "Requirement already satisfied: requests in /opt/conda/lib/python3.10/site-packages (from torchvision) (2.31.0)\r\n",
      "Requirement already satisfied: pillow!=8.3.*,>=5.3.0 in /opt/conda/lib/python3.10/site-packages (from torchvision) (9.5.0)\r\n",
      "Requirement already satisfied: MarkupSafe>=2.0 in /opt/conda/lib/python3.10/site-packages (from jinja2->torch) (2.1.3)\r\n",
      "Requirement already satisfied: charset-normalizer<4,>=2 in /opt/conda/lib/python3.10/site-packages (from requests->torchvision) (3.1.0)\r\n",
      "Requirement already satisfied: idna<4,>=2.5 in /opt/conda/lib/python3.10/site-packages (from requests->torchvision) (3.4)\r\n",
      "Requirement already satisfied: urllib3<3,>=1.21.1 in /opt/conda/lib/python3.10/site-packages (from requests->torchvision) (1.26.15)\r\n",
      "Requirement already satisfied: certifi>=2017.4.17 in /opt/conda/lib/python3.10/site-packages (from requests->torchvision) (2023.5.7)\r\n",
      "Requirement already satisfied: mpmath>=0.19 in /opt/conda/lib/python3.10/site-packages (from sympy->torch) (1.3.0)\r\n",
      "Note: you may need to restart the kernel to use updated packages.\n"
     ]
    }
   ],
   "source": [
    "pip install torch torchvision torchaudio --index-url https://download.pytorch.org/whl/cu118"
   ]
  },
  {
   "cell_type": "code",
   "execution_count": 2,
   "id": "9ec88e50",
   "metadata": {
    "execution": {
     "iopub.execute_input": "2023-07-14T12:56:12.911391Z",
     "iopub.status.busy": "2023-07-14T12:56:12.911049Z",
     "iopub.status.idle": "2023-07-14T12:56:12.916999Z",
     "shell.execute_reply": "2023-07-14T12:56:12.915948Z"
    },
    "papermill": {
     "duration": 0.016356,
     "end_time": "2023-07-14T12:56:12.918922",
     "exception": false,
     "start_time": "2023-07-14T12:56:12.902566",
     "status": "completed"
    },
    "tags": []
   },
   "outputs": [],
   "source": [
    "# check the paltform, Apple Silicon or Linux\n",
    "import os, platform\n",
    "\n",
    "torch_device=\"cpu\"\n",
    "\n",
    "if 'kaggle' in os.environ.get('KAGGLE_URL_BASE','localhost'):\n",
    "    torch_device = 'cuda'\n",
    "else:\n",
    "    torch_device = 'mps' if platform.system() == 'Darwin' else 'cpu'"
   ]
  },
  {
   "cell_type": "code",
   "execution_count": 3,
   "id": "566020ae",
   "metadata": {
    "execution": {
     "iopub.execute_input": "2023-07-14T12:56:12.935164Z",
     "iopub.status.busy": "2023-07-14T12:56:12.933572Z",
     "iopub.status.idle": "2023-07-14T12:56:12.938540Z",
     "shell.execute_reply": "2023-07-14T12:56:12.937705Z"
    },
    "papermill": {
     "duration": 0.014623,
     "end_time": "2023-07-14T12:56:12.940453",
     "exception": false,
     "start_time": "2023-07-14T12:56:12.925830",
     "status": "completed"
    },
    "tags": []
   },
   "outputs": [],
   "source": [
    "os.environ['PYTORCH_ENABLE_MPS_FALLBACK'] = '1'"
   ]
  },
  {
   "cell_type": "code",
   "execution_count": 4,
   "id": "cb94f725",
   "metadata": {
    "execution": {
     "iopub.execute_input": "2023-07-14T12:56:12.956460Z",
     "iopub.status.busy": "2023-07-14T12:56:12.955344Z",
     "iopub.status.idle": "2023-07-14T12:56:12.962732Z",
     "shell.execute_reply": "2023-07-14T12:56:12.961802Z"
    },
    "papermill": {
     "duration": 0.017151,
     "end_time": "2023-07-14T12:56:12.964676",
     "exception": false,
     "start_time": "2023-07-14T12:56:12.947525",
     "status": "completed"
    },
    "tags": []
   },
   "outputs": [
    {
     "data": {
      "text/plain": [
       "'cuda'"
      ]
     },
     "execution_count": 4,
     "metadata": {},
     "output_type": "execute_result"
    }
   ],
   "source": [
    "torch_device"
   ]
  },
  {
   "cell_type": "code",
   "execution_count": 5,
   "id": "614b42b7",
   "metadata": {
    "execution": {
     "iopub.execute_input": "2023-07-14T12:56:12.980450Z",
     "iopub.status.busy": "2023-07-14T12:56:12.979740Z",
     "iopub.status.idle": "2023-07-14T12:56:16.642319Z",
     "shell.execute_reply": "2023-07-14T12:56:16.641329Z"
    },
    "papermill": {
     "duration": 3.673308,
     "end_time": "2023-07-14T12:56:16.645018",
     "exception": false,
     "start_time": "2023-07-14T12:56:12.971710",
     "status": "completed"
    },
    "tags": []
   },
   "outputs": [],
   "source": [
    "%matplotlib inline\n",
    "import torch\n",
    "from torch import nn\n",
    "from torch.utils.data import DataLoader\n",
    "from torchvision import datasets\n",
    "from torchvision.transforms import ToTensor, Lambda, Compose\n",
    "import matplotlib.pyplot as plt"
   ]
  },
  {
   "cell_type": "markdown",
   "id": "ceadf570",
   "metadata": {
    "papermill": {
     "duration": 0.006938,
     "end_time": "2023-07-14T12:56:16.659731",
     "exception": false,
     "start_time": "2023-07-14T12:56:16.652793",
     "status": "completed"
    },
    "tags": []
   },
   "source": [
    "PyTorch offers domain-specific libraries usch as `TorchText`, `TorchVision`, and `TorchAudio`, all of whihc include datasets. For this tutorial, we will be using a TorchVision dataset.\n",
    "\n",
    "The `torchvision.datasets` module contains `Dataset` objects for many real-world vision data like CIFAR and COCO. In thie tutorial, we'll use the `FashionMNIST` dataset. Every TorchVision `Dataset` includes two arguments:\n",
    "- `transform`: modifies the samples\n",
    "- `target_transform`: modifies the labels"
   ]
  },
  {
   "cell_type": "code",
   "execution_count": 6,
   "id": "5861fe87",
   "metadata": {
    "execution": {
     "iopub.execute_input": "2023-07-14T12:56:16.675951Z",
     "iopub.status.busy": "2023-07-14T12:56:16.674821Z",
     "iopub.status.idle": "2023-07-14T12:56:23.482802Z",
     "shell.execute_reply": "2023-07-14T12:56:23.481752Z"
    },
    "papermill": {
     "duration": 6.818493,
     "end_time": "2023-07-14T12:56:23.485321",
     "exception": false,
     "start_time": "2023-07-14T12:56:16.666828",
     "status": "completed"
    },
    "tags": []
   },
   "outputs": [
    {
     "name": "stdout",
     "output_type": "stream",
     "text": [
      "Downloading http://fashion-mnist.s3-website.eu-central-1.amazonaws.com/train-images-idx3-ubyte.gz\n",
      "Downloading http://fashion-mnist.s3-website.eu-central-1.amazonaws.com/train-images-idx3-ubyte.gz to data/FashionMNIST/raw/train-images-idx3-ubyte.gz\n"
     ]
    },
    {
     "name": "stderr",
     "output_type": "stream",
     "text": [
      "100%|██████████| 26421880/26421880 [00:02<00:00, 12542091.87it/s]\n"
     ]
    },
    {
     "name": "stdout",
     "output_type": "stream",
     "text": [
      "Extracting data/FashionMNIST/raw/train-images-idx3-ubyte.gz to data/FashionMNIST/raw\n",
      "\n",
      "Downloading http://fashion-mnist.s3-website.eu-central-1.amazonaws.com/train-labels-idx1-ubyte.gz\n",
      "Downloading http://fashion-mnist.s3-website.eu-central-1.amazonaws.com/train-labels-idx1-ubyte.gz to data/FashionMNIST/raw/train-labels-idx1-ubyte.gz\n"
     ]
    },
    {
     "name": "stderr",
     "output_type": "stream",
     "text": [
      "100%|██████████| 29515/29515 [00:00<00:00, 212555.51it/s]\n"
     ]
    },
    {
     "name": "stdout",
     "output_type": "stream",
     "text": [
      "Extracting data/FashionMNIST/raw/train-labels-idx1-ubyte.gz to data/FashionMNIST/raw\n",
      "\n",
      "Downloading http://fashion-mnist.s3-website.eu-central-1.amazonaws.com/t10k-images-idx3-ubyte.gz\n",
      "Downloading http://fashion-mnist.s3-website.eu-central-1.amazonaws.com/t10k-images-idx3-ubyte.gz to data/FashionMNIST/raw/t10k-images-idx3-ubyte.gz\n"
     ]
    },
    {
     "name": "stderr",
     "output_type": "stream",
     "text": [
      "100%|██████████| 4422102/4422102 [00:01<00:00, 3867646.70it/s]\n"
     ]
    },
    {
     "name": "stdout",
     "output_type": "stream",
     "text": [
      "Extracting data/FashionMNIST/raw/t10k-images-idx3-ubyte.gz to data/FashionMNIST/raw\n",
      "\n",
      "Downloading http://fashion-mnist.s3-website.eu-central-1.amazonaws.com/t10k-labels-idx1-ubyte.gz\n",
      "Downloading http://fashion-mnist.s3-website.eu-central-1.amazonaws.com/t10k-labels-idx1-ubyte.gz to data/FashionMNIST/raw/t10k-labels-idx1-ubyte.gz\n"
     ]
    },
    {
     "name": "stderr",
     "output_type": "stream",
     "text": [
      "100%|██████████| 5148/5148 [00:00<00:00, 7621700.31it/s]"
     ]
    },
    {
     "name": "stdout",
     "output_type": "stream",
     "text": [
      "Extracting data/FashionMNIST/raw/t10k-labels-idx1-ubyte.gz to data/FashionMNIST/raw\n",
      "\n"
     ]
    },
    {
     "name": "stderr",
     "output_type": "stream",
     "text": [
      "\n"
     ]
    }
   ],
   "source": [
    "# Download training data from open datasets\n",
    "training_data = datasets.FashionMNIST(\n",
    "    root=\"data\",\n",
    "    train=True,\n",
    "    download=True,\n",
    "    transform=ToTensor(),\n",
    ")\n",
    "\n",
    "# Download test data from open datasets\n",
    "test_data = datasets.FashionMNIST(\n",
    "    root=\"data\",\n",
    "    train=False,\n",
    "    download=True,\n",
    "    transform=ToTensor(),\n",
    ")\n"
   ]
  },
  {
   "cell_type": "markdown",
   "id": "b3721e26",
   "metadata": {
    "papermill": {
     "duration": 0.010309,
     "end_time": "2023-07-14T12:56:23.506365",
     "exception": false,
     "start_time": "2023-07-14T12:56:23.496056",
     "status": "completed"
    },
    "tags": []
   },
   "source": [
    "We pass the `Dataset` as an argument to `DataLoader`. This wraps an iterable over our dataset, and supports automatic batching, sampling, shuffing and multiprocess data loading. Here we define a batch size of 64, i.e. each element in the dataloader iterable will return a batch of 64 features and labels."
   ]
  },
  {
   "cell_type": "code",
   "execution_count": 7,
   "id": "d191f37e",
   "metadata": {
    "execution": {
     "iopub.execute_input": "2023-07-14T12:56:23.528426Z",
     "iopub.status.busy": "2023-07-14T12:56:23.528108Z",
     "iopub.status.idle": "2023-07-14T12:56:25.125070Z",
     "shell.execute_reply": "2023-07-14T12:56:25.124154Z"
    },
    "papermill": {
     "duration": 1.610701,
     "end_time": "2023-07-14T12:56:25.127465",
     "exception": false,
     "start_time": "2023-07-14T12:56:23.516764",
     "status": "completed"
    },
    "tags": []
   },
   "outputs": [
    {
     "name": "stdout",
     "output_type": "stream",
     "text": [
      "Shape of X [N, C, H, W]:  torch.Size([64, 1, 28, 28])\n",
      "Shape of y:  torch.Size([64]) torch.int64\n"
     ]
    },
    {
     "data": {
      "image/png": "[encoded data removed]",
      "text/plain": [
       "<Figure size 1000x800 with 25 Axes>"
      ]
     },
     "metadata": {},
     "output_type": "display_data"
    }
   ],
   "source": [
    "batch_size = 64\n",
    "\n",
    "# Create data loaders.\n",
    "train_dataloader = DataLoader(training_data, batch_size=batch_size)\n",
    "test_dataloader = DataLoader(test_data, batch_size=batch_size)\n",
    "\n",
    "for X, y in test_dataloader:\n",
    "    print(\"Shape of X [N, C, H, W]: \", X.shape)\n",
    "    print(\"Shape of y: \", y.shape, y.dtype)\n",
    "    break\n",
    "\n",
    "# Display sample data\n",
    "figure = plt.figure(figsize=(10,8))\n",
    "cols, rows =5,5\n",
    "for i in range(1, cols*rows+1):\n",
    "    idx = torch.randint(len(test_data), size=(1,)).item()\n",
    "    img, label = test_data[idx]\n",
    "    figure.add_subplot(rows, cols, i)\n",
    "    plt.title(label)\n",
    "    plt.axis(\"off\")\n",
    "    plt.imshow(img.squeeze(), cmap=\"gray\")\n",
    "plt.show()"
   ]
  },
  {
   "cell_type": "markdown",
   "id": "51a3b029",
   "metadata": {
    "papermill": {
     "duration": 0.011166,
     "end_time": "2023-07-14T12:56:25.150212",
     "exception": false,
     "start_time": "2023-07-14T12:56:25.139046",
     "status": "completed"
    },
    "tags": []
   },
   "source": [
    "### Creating models\n",
    "\n",
    "To define a neural network in PyTorch, we create a class that inherits from `nn.Module`. We define the layers of the network in the `__init__` function and specify how data will pas through the network in the `forward` function. To accelerate operations int he neural network, we move it to the GPU if available."
   ]
  },
  {
   "cell_type": "code",
   "execution_count": 8,
   "id": "11d2fd9e",
   "metadata": {
    "execution": {
     "iopub.execute_input": "2023-07-14T12:56:25.174140Z",
     "iopub.status.busy": "2023-07-14T12:56:25.173557Z",
     "iopub.status.idle": "2023-07-14T12:56:28.172610Z",
     "shell.execute_reply": "2023-07-14T12:56:28.171523Z"
    },
    "papermill": {
     "duration": 3.013986,
     "end_time": "2023-07-14T12:56:28.175378",
     "exception": false,
     "start_time": "2023-07-14T12:56:25.161392",
     "status": "completed"
    },
    "tags": []
   },
   "outputs": [
    {
     "name": "stdout",
     "output_type": "stream",
     "text": [
      "NeuralNetwork(\n",
      "  (flatten): Flatten(start_dim=1, end_dim=-1)\n",
      "  (linear_relu_stack): Sequential(\n",
      "    (0): Linear(in_features=784, out_features=512, bias=True)\n",
      "    (1): ReLU()\n",
      "    (2): Linear(in_features=512, out_features=512, bias=True)\n",
      "    (3): ReLU()\n",
      "    (4): Linear(in_features=512, out_features=10, bias=True)\n",
      "    (5): ReLU()\n",
      "  )\n",
      ")\n"
     ]
    }
   ],
   "source": [
    "# Define model\n",
    "class NeuralNetwork(nn.Module):\n",
    "    def __init__(self):\n",
    "        super(NeuralNetwork, self).__init__()\n",
    "        self.flatten = nn.Flatten()\n",
    "        self.linear_relu_stack = nn.Sequential(\n",
    "            nn.Linear(28*28, 512),\n",
    "            nn.ReLU(),\n",
    "            nn.Linear(512, 512),\n",
    "            nn.ReLU(),\n",
    "            nn.Linear(512, 10),\n",
    "            nn.ReLU()\n",
    "        )\n",
    "\n",
    "    def forward(self, x):\n",
    "        x = self.flatten(x)\n",
    "        logits = self.linear_relu_stack(x)\n",
    "        return logits\n",
    "\n",
    "model = NeuralNetwork().to(torch_device)\n",
    "print(model)"
   ]
  },
  {
   "cell_type": "markdown",
   "id": "4be3af9b",
   "metadata": {
    "papermill": {
     "duration": 0.012643,
     "end_time": "2023-07-14T12:56:28.200370",
     "exception": false,
     "start_time": "2023-07-14T12:56:28.187727",
     "status": "completed"
    },
    "tags": []
   },
   "source": [
    "### Optimizing the Model Parameters\n",
    "\n",
    "To train a model, we need a `loss` funciton and an `optimizer`. We'll be using `nn.CrossEntropyLoss` for loss and `Stochastic Gradient Descent` for optimization."
   ]
  },
  {
   "cell_type": "code",
   "execution_count": 9,
   "id": "297f1452",
   "metadata": {
    "execution": {
     "iopub.execute_input": "2023-07-14T12:56:28.227811Z",
     "iopub.status.busy": "2023-07-14T12:56:28.227444Z",
     "iopub.status.idle": "2023-07-14T12:56:28.233925Z",
     "shell.execute_reply": "2023-07-14T12:56:28.232824Z"
    },
    "papermill": {
     "duration": 0.023502,
     "end_time": "2023-07-14T12:56:28.236404",
     "exception": false,
     "start_time": "2023-07-14T12:56:28.212902",
     "status": "completed"
    },
    "tags": []
   },
   "outputs": [],
   "source": [
    "loss_fn = nn.CrossEntropyLoss()\n",
    "learning_rate = 1e-3\n",
    "optimizer = torch.optim.SGD(model.parameters(), lr=learning_rate)"
   ]
  },
  {
   "cell_type": "markdown",
   "id": "aa8f09ac",
   "metadata": {
    "papermill": {
     "duration": 0.011746,
     "end_time": "2023-07-14T12:56:28.260114",
     "exception": false,
     "start_time": "2023-07-14T12:56:28.248368",
     "status": "completed"
    },
    "tags": []
   },
   "source": [
    "In a single training loop, the model makes predicitons on the training dataset (fed to it in batches), and back-propagates the prediction error to adjust the model's parameters."
   ]
  },
  {
   "cell_type": "code",
   "execution_count": 10,
   "id": "9b028acc",
   "metadata": {
    "execution": {
     "iopub.execute_input": "2023-07-14T12:56:28.287576Z",
     "iopub.status.busy": "2023-07-14T12:56:28.285963Z",
     "iopub.status.idle": "2023-07-14T12:56:28.293590Z",
     "shell.execute_reply": "2023-07-14T12:56:28.292716Z"
    },
    "papermill": {
     "duration": 0.023235,
     "end_time": "2023-07-14T12:56:28.295721",
     "exception": false,
     "start_time": "2023-07-14T12:56:28.272486",
     "status": "completed"
    },
    "tags": []
   },
   "outputs": [],
   "source": [
    "def train(dataloader, model, loss_fn, optimizer):\n",
    "    size = len(dataloader.dataset)\n",
    "    for batch, (X, y) in enumerate(dataloader):\n",
    "        X, y = X.to(torch_device), y.to(torch_device)\n",
    "\n",
    "        # Compute prediction error\n",
    "        pred = model(X)\n",
    "        loss = loss_fn(pred, y)\n",
    "\n",
    "        # Backpropagation\n",
    "        optimizer.zero_grad()\n",
    "        loss.backward()\n",
    "        optimizer.step()\n",
    "\n",
    "        if batch % 100 == 0:\n",
    "            loss, current = loss.item(), batch * len(X)\n",
    "            print(f\"loss: {loss:>7f}  [{current:>5d}/{size:>5d}]\")"
   ]
  },
  {
   "cell_type": "markdown",
   "id": "37b67f2e",
   "metadata": {
    "papermill": {
     "duration": 0.011573,
     "end_time": "2023-07-14T12:56:28.319141",
     "exception": false,
     "start_time": "2023-07-14T12:56:28.307568",
     "status": "completed"
    },
    "tags": []
   },
   "source": [
    "We can also check the model's performance against the test dataset to ensure it is learning."
   ]
  },
  {
   "cell_type": "code",
   "execution_count": 11,
   "id": "9f112e23",
   "metadata": {
    "execution": {
     "iopub.execute_input": "2023-07-14T12:56:28.345591Z",
     "iopub.status.busy": "2023-07-14T12:56:28.344046Z",
     "iopub.status.idle": "2023-07-14T12:56:28.351400Z",
     "shell.execute_reply": "2023-07-14T12:56:28.350541Z"
    },
    "papermill": {
     "duration": 0.022689,
     "end_time": "2023-07-14T12:56:28.353347",
     "exception": false,
     "start_time": "2023-07-14T12:56:28.330658",
     "status": "completed"
    },
    "tags": []
   },
   "outputs": [],
   "source": [
    "def test(dataloader, model):\n",
    "    size = len(dataloader.dataset)\n",
    "    model.eval()\n",
    "    test_loss, correct = 0, 0\n",
    "    with torch.no_grad():\n",
    "        for X, y in dataloader:\n",
    "            X, y = X.to(torch_device), y.to(torch_device)\n",
    "            pred = model(X)\n",
    "            test_loss += loss_fn(pred, y).item()\n",
    "            correct += (pred.argmax(1) == y).type(torch.float).sum().item()\n",
    "    test_loss /= size\n",
    "    correct /= size\n",
    "    print(f\"Test Error: \\n Accuracy: {(100*correct):>0.1f}%, Avg loss: {test_loss:>8f} \\n\")"
   ]
  },
  {
   "cell_type": "markdown",
   "id": "7c1100c6",
   "metadata": {
    "papermill": {
     "duration": 0.011098,
     "end_time": "2023-07-14T12:56:28.375795",
     "exception": false,
     "start_time": "2023-07-14T12:56:28.364697",
     "status": "completed"
    },
    "tags": []
   },
   "source": [
    "The training process is conducted over several iterations (epochs). During each epoch, the model learns parameters to make better predictions. We print the model's accuracy and loss at each epoch;we'd like to see the accuracy increase and the loss decrease with every epoch."
   ]
  },
  {
   "cell_type": "code",
   "execution_count": 12,
   "id": "cd429438",
   "metadata": {
    "execution": {
     "iopub.execute_input": "2023-07-14T12:56:28.400051Z",
     "iopub.status.busy": "2023-07-14T12:56:28.399300Z",
     "iopub.status.idle": "2023-07-14T12:58:35.629167Z",
     "shell.execute_reply": "2023-07-14T12:58:35.628131Z"
    },
    "papermill": {
     "duration": 127.244968,
     "end_time": "2023-07-14T12:58:35.632046",
     "exception": false,
     "start_time": "2023-07-14T12:56:28.387078",
     "status": "completed"
    },
    "tags": []
   },
   "outputs": [
    {
     "name": "stdout",
     "output_type": "stream",
     "text": [
      "Epoch 1\n",
      "-------------------------------\n",
      "loss: 2.308494  [    0/60000]\n",
      "loss: 2.296588  [ 6400/60000]\n",
      "loss: 2.287021  [12800/60000]\n",
      "loss: 2.283428  [19200/60000]\n",
      "loss: 2.258676  [25600/60000]\n",
      "loss: 2.248902  [32000/60000]\n",
      "loss: 2.256778  [38400/60000]\n",
      "loss: 2.229730  [44800/60000]\n",
      "loss: 2.235479  [51200/60000]\n",
      "loss: 2.219395  [57600/60000]\n",
      "Test Error: \n",
      " Accuracy: 42.9%, Avg loss: 0.034587 \n",
      "\n",
      "Epoch 2\n",
      "-------------------------------\n",
      "loss: 2.213954  [    0/60000]\n",
      "loss: 2.204901  [ 6400/60000]\n",
      "loss: 2.165646  [12800/60000]\n",
      "loss: 2.188032  [19200/60000]\n",
      "loss: 2.129601  [25600/60000]\n",
      "loss: 2.101683  [32000/60000]\n",
      "loss: 2.148354  [38400/60000]\n",
      "loss: 2.078846  [44800/60000]\n",
      "loss: 2.094033  [51200/60000]\n",
      "loss: 2.060093  [57600/60000]\n",
      "Test Error: \n",
      " Accuracy: 47.6%, Avg loss: 0.031844 \n",
      "\n",
      "Epoch 3\n",
      "-------------------------------\n",
      "loss: 2.052203  [    0/60000]\n",
      "loss: 2.031123  [ 6400/60000]\n",
      "loss: 1.942568  [12800/60000]\n",
      "loss: 1.991653  [19200/60000]\n",
      "loss: 1.879613  [25600/60000]\n",
      "loss: 1.838736  [32000/60000]\n",
      "loss: 1.895665  [38400/60000]\n",
      "loss: 1.781361  [44800/60000]\n",
      "loss: 1.817366  [51200/60000]\n",
      "loss: 1.755088  [57600/60000]\n",
      "Test Error: \n",
      " Accuracy: 52.5%, Avg loss: 0.026988 \n",
      "\n",
      "Epoch 4\n",
      "-------------------------------\n",
      "loss: 1.766679  [    0/60000]\n",
      "loss: 1.733672  [ 6400/60000]\n",
      "loss: 1.589558  [12800/60000]\n",
      "loss: 1.675186  [19200/60000]\n",
      "loss: 1.540720  [25600/60000]\n",
      "loss: 1.508014  [32000/60000]\n",
      "loss: 1.568318  [38400/60000]\n",
      "loss: 1.442626  [44800/60000]\n",
      "loss: 1.496644  [51200/60000]\n",
      "loss: 1.419694  [57600/60000]\n",
      "Test Error: \n",
      " Accuracy: 60.5%, Avg loss: 0.021996 \n",
      "\n",
      "Epoch 5\n",
      "-------------------------------\n",
      "loss: 1.471030  [    0/60000]\n",
      "loss: 1.448188  [ 6400/60000]\n",
      "loss: 1.279995  [12800/60000]\n",
      "loss: 1.388045  [19200/60000]\n",
      "loss: 1.260358  [25600/60000]\n",
      "loss: 1.258569  [32000/60000]\n",
      "loss: 1.307417  [38400/60000]\n",
      "loss: 1.202097  [44800/60000]\n",
      "loss: 1.254792  [51200/60000]\n",
      "loss: 1.188913  [57600/60000]\n",
      "Test Error: \n",
      " Accuracy: 63.8%, Avg loss: 0.018531 \n",
      "\n",
      "Epoch 6\n",
      "-------------------------------\n",
      "loss: 1.250380  [    0/60000]\n",
      "loss: 1.250093  [ 6400/60000]\n",
      "loss: 1.069033  [12800/60000]\n",
      "loss: 1.199067  [19200/60000]\n",
      "loss: 1.070656  [25600/60000]\n",
      "loss: 1.093424  [32000/60000]\n",
      "loss: 1.142316  [38400/60000]\n",
      "loss: 1.051052  [44800/60000]\n",
      "loss: 1.101059  [51200/60000]\n",
      "loss: 1.051013  [57600/60000]\n",
      "Test Error: \n",
      " Accuracy: 65.1%, Avg loss: 0.016332 \n",
      "\n",
      "Epoch 7\n",
      "-------------------------------\n",
      "loss: 1.101332  [    0/60000]\n",
      "loss: 1.123208  [ 6400/60000]\n",
      "loss: 0.927137  [12800/60000]\n",
      "loss: 1.077815  [19200/60000]\n",
      "loss: 0.950622  [25600/60000]\n",
      "loss: 0.980004  [32000/60000]\n",
      "loss: 1.038803  [38400/60000]\n",
      "loss: 0.955312  [44800/60000]\n",
      "loss: 1.000851  [51200/60000]\n",
      "loss: 0.963740  [57600/60000]\n",
      "Test Error: \n",
      " Accuracy: 66.2%, Avg loss: 0.014901 \n",
      "\n",
      "Epoch 8\n",
      "-------------------------------\n",
      "loss: 0.998091  [    0/60000]\n",
      "loss: 1.040414  [ 6400/60000]\n",
      "loss: 0.829246  [12800/60000]\n",
      "loss: 0.996553  [19200/60000]\n",
      "loss: 0.872683  [25600/60000]\n",
      "loss: 0.898761  [32000/60000]\n",
      "loss: 0.970852  [38400/60000]\n",
      "loss: 0.893854  [44800/60000]\n",
      "loss: 0.932683  [51200/60000]\n",
      "loss: 0.905135  [57600/60000]\n",
      "Test Error: \n",
      " Accuracy: 67.4%, Avg loss: 0.013925 \n",
      "\n",
      "Epoch 9\n",
      "-------------------------------\n",
      "loss: 0.922907  [    0/60000]\n",
      "loss: 0.982160  [ 6400/60000]\n",
      "loss: 0.759088  [12800/60000]\n",
      "loss: 0.938547  [19200/60000]\n",
      "loss: 0.819641  [25600/60000]\n",
      "loss: 0.838542  [32000/60000]\n",
      "loss: 0.922957  [38400/60000]\n",
      "loss: 0.853218  [44800/60000]\n",
      "loss: 0.884287  [51200/60000]\n",
      "loss: 0.862455  [57600/60000]\n",
      "Test Error: \n",
      " Accuracy: 68.6%, Avg loss: 0.013219 \n",
      "\n",
      "Epoch 10\n",
      "-------------------------------\n",
      "loss: 0.864885  [    0/60000]\n",
      "loss: 0.937426  [ 6400/60000]\n",
      "loss: 0.706402  [12800/60000]\n",
      "loss: 0.894599  [19200/60000]\n",
      "loss: 0.780890  [25600/60000]\n",
      "loss: 0.792620  [32000/60000]\n",
      "loss: 0.886069  [38400/60000]\n",
      "loss: 0.824919  [44800/60000]\n",
      "loss: 0.848304  [51200/60000]\n",
      "loss: 0.828851  [57600/60000]\n",
      "Test Error: \n",
      " Accuracy: 69.7%, Avg loss: 0.012676 \n",
      "\n",
      "Epoch 11\n",
      "-------------------------------\n",
      "loss: 0.818067  [    0/60000]\n",
      "loss: 0.900258  [ 6400/60000]\n",
      "loss: 0.664813  [12800/60000]\n",
      "loss: 0.860145  [19200/60000]\n",
      "loss: 0.750775  [25600/60000]\n",
      "loss: 0.756493  [32000/60000]\n",
      "loss: 0.855443  [38400/60000]\n",
      "loss: 0.803925  [44800/60000]\n",
      "loss: 0.820260  [51200/60000]\n",
      "loss: 0.800899  [57600/60000]\n",
      "Test Error: \n",
      " Accuracy: 70.9%, Avg loss: 0.012234 \n",
      "\n",
      "Epoch 12\n",
      "-------------------------------\n",
      "loss: 0.778908  [    0/60000]\n",
      "loss: 0.867470  [ 6400/60000]\n",
      "loss: 0.630780  [12800/60000]\n",
      "loss: 0.832280  [19200/60000]\n",
      "loss: 0.726289  [25600/60000]\n",
      "loss: 0.727265  [32000/60000]\n",
      "loss: 0.828812  [38400/60000]\n",
      "loss: 0.787071  [44800/60000]\n",
      "loss: 0.797249  [51200/60000]\n",
      "loss: 0.776328  [57600/60000]\n",
      "Test Error: \n",
      " Accuracy: 71.9%, Avg loss: 0.011858 \n",
      "\n",
      "Epoch 13\n",
      "-------------------------------\n",
      "loss: 0.744998  [    0/60000]\n",
      "loss: 0.837579  [ 6400/60000]\n",
      "loss: 0.601900  [12800/60000]\n",
      "loss: 0.808820  [19200/60000]\n",
      "loss: 0.705471  [25600/60000]\n",
      "loss: 0.703179  [32000/60000]\n",
      "loss: 0.804489  [38400/60000]\n",
      "loss: 0.772686  [44800/60000]\n",
      "loss: 0.777572  [51200/60000]\n",
      "loss: 0.754219  [57600/60000]\n",
      "Test Error: \n",
      " Accuracy: 73.0%, Avg loss: 0.011527 \n",
      "\n",
      "Epoch 14\n",
      "-------------------------------\n",
      "loss: 0.714801  [    0/60000]\n",
      "loss: 0.810391  [ 6400/60000]\n",
      "loss: 0.576875  [12800/60000]\n",
      "loss: 0.788831  [19200/60000]\n",
      "loss: 0.687247  [25600/60000]\n",
      "loss: 0.682903  [32000/60000]\n",
      "loss: 0.781692  [38400/60000]\n",
      "loss: 0.759718  [44800/60000]\n",
      "loss: 0.760477  [51200/60000]\n",
      "loss: 0.733964  [57600/60000]\n",
      "Test Error: \n",
      " Accuracy: 74.0%, Avg loss: 0.011229 \n",
      "\n",
      "Epoch 15\n",
      "-------------------------------\n",
      "loss: 0.687748  [    0/60000]\n",
      "loss: 0.785146  [ 6400/60000]\n",
      "loss: 0.554798  [12800/60000]\n",
      "loss: 0.771157  [19200/60000]\n",
      "loss: 0.671265  [25600/60000]\n",
      "loss: 0.665597  [32000/60000]\n",
      "loss: 0.760465  [38400/60000]\n",
      "loss: 0.747667  [44800/60000]\n",
      "loss: 0.745171  [51200/60000]\n",
      "loss: 0.715206  [57600/60000]\n",
      "Test Error: \n",
      " Accuracy: 74.9%, Avg loss: 0.010955 \n",
      "\n",
      "Done!\n"
     ]
    }
   ],
   "source": [
    "epochs =15\n",
    "for t in range(epochs):\n",
    "    print(f\"Epoch {t+1}\\n-------------------------------\")\n",
    "    train(train_dataloader, model, loss_fn, optimizer)\n",
    "    test(test_dataloader, model)\n",
    "print(\"Done!\")"
   ]
  },
  {
   "cell_type": "markdown",
   "id": "05188ad1",
   "metadata": {
    "papermill": {
     "duration": 0.022766,
     "end_time": "2023-07-14T12:58:35.678569",
     "exception": false,
     "start_time": "2023-07-14T12:58:35.655803",
     "status": "completed"
    },
    "tags": []
   },
   "source": [
    "The accuracy will initially not be very good(that's OK). Try running the loop got more `epochs` ot adjusting the `learning rate` to a bigger number. It might also be the case that the model configuration we chose might note be the optimal one for this kind of problem(it isn't). Later courses will devle more into the model shapes that work for vision problems."
   ]
  },
  {
   "cell_type": "markdown",
   "id": "431b170b",
   "metadata": {
    "papermill": {
     "duration": 0.02395,
     "end_time": "2023-07-14T12:58:35.725349",
     "exception": false,
     "start_time": "2023-07-14T12:58:35.701399",
     "status": "completed"
    },
    "tags": []
   },
   "source": [
    "### Saving Models\n",
    "\n",
    "A common way to save a model is to serialize the internal state dictionary (containing the model parameters)."
   ]
  },
  {
   "cell_type": "code",
   "execution_count": 13,
   "id": "0c73747e",
   "metadata": {
    "execution": {
     "iopub.execute_input": "2023-07-14T12:58:35.779615Z",
     "iopub.status.busy": "2023-07-14T12:58:35.779176Z",
     "iopub.status.idle": "2023-07-14T12:58:35.795777Z",
     "shell.execute_reply": "2023-07-14T12:58:35.794494Z"
    },
    "papermill": {
     "duration": 0.047279,
     "end_time": "2023-07-14T12:58:35.798040",
     "exception": false,
     "start_time": "2023-07-14T12:58:35.750761",
     "status": "completed"
    },
    "tags": []
   },
   "outputs": [
    {
     "name": "stdout",
     "output_type": "stream",
     "text": [
      "Saved PyTorch Model State to model.pth\n"
     ]
    }
   ],
   "source": [
    "torch.save(model.state_dict(), \"model.pth\")\n",
    "print(\"Saved PyTorch Model State to model.pth\")"
   ]
  },
  {
   "cell_type": "markdown",
   "id": "0d9af685",
   "metadata": {
    "papermill": {
     "duration": 0.021986,
     "end_time": "2023-07-14T12:58:35.843774",
     "exception": false,
     "start_time": "2023-07-14T12:58:35.821788",
     "status": "completed"
    },
    "tags": []
   },
   "source": [
    "### Loading Models\n",
    "The process for loading a model includes re-creating the model structure and loading the state dictionary into it."
   ]
  },
  {
   "cell_type": "code",
   "execution_count": 14,
   "id": "ad610199",
   "metadata": {
    "execution": {
     "iopub.execute_input": "2023-07-14T12:58:35.889850Z",
     "iopub.status.busy": "2023-07-14T12:58:35.889011Z",
     "iopub.status.idle": "2023-07-14T12:58:35.907227Z",
     "shell.execute_reply": "2023-07-14T12:58:35.906236Z"
    },
    "papermill": {
     "duration": 0.043243,
     "end_time": "2023-07-14T12:58:35.909242",
     "exception": false,
     "start_time": "2023-07-14T12:58:35.865999",
     "status": "completed"
    },
    "tags": []
   },
   "outputs": [
    {
     "data": {
      "text/plain": [
       "<All keys matched successfully>"
      ]
     },
     "execution_count": 14,
     "metadata": {},
     "output_type": "execute_result"
    }
   ],
   "source": [
    "model = NeuralNetwork().to(torch_device)\n",
    "model.load_state_dict(torch.load(\"model.pth\"))"
   ]
  },
  {
   "cell_type": "markdown",
   "id": "d0b52be3",
   "metadata": {
    "papermill": {
     "duration": 0.022406,
     "end_time": "2023-07-14T12:58:35.954029",
     "exception": false,
     "start_time": "2023-07-14T12:58:35.931623",
     "status": "completed"
    },
    "tags": []
   },
   "source": [
    "This model can now be used to make predicitons."
   ]
  },
  {
   "cell_type": "code",
   "execution_count": 15,
   "id": "4b8590f8",
   "metadata": {
    "execution": {
     "iopub.execute_input": "2023-07-14T12:58:36.001423Z",
     "iopub.status.busy": "2023-07-14T12:58:35.999910Z",
     "iopub.status.idle": "2023-07-14T12:58:36.011023Z",
     "shell.execute_reply": "2023-07-14T12:58:36.009655Z"
    },
    "papermill": {
     "duration": 0.036642,
     "end_time": "2023-07-14T12:58:36.013053",
     "exception": false,
     "start_time": "2023-07-14T12:58:35.976411",
     "status": "completed"
    },
    "tags": []
   },
   "outputs": [
    {
     "name": "stdout",
     "output_type": "stream",
     "text": [
      "Predicted: \"Ankle Boot\", Actual: \"Ankle Boot\"\n"
     ]
    }
   ],
   "source": [
    "classes = [\n",
    "    \"T-shirt/top\",\n",
    "    \"Trouser\",\n",
    "    \"Pullover\",\n",
    "    \"Dress\",\n",
    "    \"Coat\",\n",
    "    \"Sandal\",\n",
    "    \"Shirt\",\n",
    "    \"Sneaker\",\n",
    "    \"Bag\",\n",
    "    \"Ankle Boot\",\n",
    "]\n",
    "\n",
    "model.eval()\n",
    "x, y = test_data[0][0], test_data[0][1]\n",
    "x = x.to(torch_device)\n",
    "with torch.no_grad():\n",
    "    pred = model(x)\n",
    "    predicted, actual = classes[pred[0].argmax(0)], classes[y]\n",
    "    print(f'Predicted: \"{predicted}\", Actual: \"{actual}\"')"
   ]
  },
  {
   "cell_type": "markdown",
   "id": "64c095dd",
   "metadata": {
    "papermill": {
     "duration": 0.03293,
     "end_time": "2023-07-14T12:58:36.068614",
     "exception": false,
     "start_time": "2023-07-14T12:58:36.035684",
     "status": "completed"
    },
    "tags": []
   },
   "source": [
    "### Summary\n",
    "\n",
    "We built an image recognition model taht could classify images such as: T-sgirt/top, Trouser, Pullover, Dress, Coat, Sandal, Shirt, Sneaker, Bag, and Ankle boots."
   ]
  }
 ],
 "metadata": {
  "kernelspec": {
   "display_name": "Python 3",
   "language": "python",
   "name": "python3"
  },
  "language_info": {
   "codemirror_mode": {
    "name": "ipython",
    "version": 3
   },
   "file_extension": ".py",
   "mimetype": "text/x-python",
   "name": "python",
   "nbconvert_exporter": "python",
   "pygments_lexer": "ipython3",
   "version": "3.10.12"
  },
  "papermill": {
   "default_parameters": {},
   "duration": 167.81919,
   "end_time": "2023-07-14T12:58:38.343536",
   "environment_variables": {},
   "exception": null,
   "input_path": "__notebook__.ipynb",
   "output_path": "__notebook__.ipynb",
   "parameters": {},
   "start_time": "2023-07-14T12:55:50.524346",
   "version": "2.4.0"
  }
 },
 "nbformat": 4,
 "nbformat_minor": 5
}
