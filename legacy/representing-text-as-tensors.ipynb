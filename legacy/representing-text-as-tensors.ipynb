{
 "cells": [
  {
   "cell_type": "markdown",
   "id": "06857d36",
   "metadata": {
    "papermill": {
     "duration": 0.009354,
     "end_time": "2023-07-21T05:09:41.594519",
     "exception": false,
     "start_time": "2023-07-21T05:09:41.585165",
     "status": "completed"
    },
    "tags": []
   },
   "source": [
    "## Representing text\n",
    "\n",
    "If we want ot solve NLP tasks with neural networks, we need some way to represent text as tensors. Computers already represent textual characters as numbers that map to fonts on your screen using encodings such ASCII or UTF-8.\n",
    "\n",
    "<figure><img src=\"https://hostux.social/system/media_attachments/files/110/744/867/966/745/527/original/2da950ca853de826.png\" alt=\"\" width=\"1000\"><figcaption><p>Source from Microsoft Learning </a> </p></figcaption></figure>\n",
    "\n",
    "We understand what each letter **represents**, and how all characters come topgether to form the words of a sentence. However, computers by themeselves do not have such an understanding, and neural network has to learn the meaning during training.\n",
    "\n",
    "Therefore, we can use different approaches when representing text:\n",
    "\n",
    "* **Character-level representation**, when we represent text by treating each character as a number. Given that we have $C$ different characters in out text corpus, the world Hello would be represented by $5*C$ tensor. Each letter would correspond to a tensor column in one-hot encoding.\n",
    "* **Word-level representation**, in which we create a **vocabulary** of all words in our text, and then represent words using one-hot encoding, This approach is somehow better, because each letter by itself does not have much meaning, and thus by using higher-level semantic concepts - words - we simplify the task for the neural network. However, given large dictionary size, we need to deal with high-dimentional sparse tensors.\n",
    "\n",
    "\n",
    "TO unify those approaches, we typically call an atomic piece of text a **a token**. In some cases tokens can be letters, in order cases - words, or parts of words.\n",
    "\n",
    "> For example, we can choose to tokenize `indivisible` as `in -divis -ible`, where the # sign represents that the token is a continuation of the previous word. This would allow the root `divis` to always be reperesented by one token, corresponding to one core meaning.\n",
    "\n",
    "The process of converting text into a sequence of tokens is called **tokenization**. Next, we need to assign each token to a number, which we can feed into a neural network. This is called **vectorization**, and is normally done by building a token vocabulary."
   ]
  },
  {
   "cell_type": "code",
   "execution_count": 1,
   "id": "99ea3b5e",
   "metadata": {
    "execution": {
     "iopub.execute_input": "2023-07-21T05:09:41.614956Z",
     "iopub.status.busy": "2023-07-21T05:09:41.614100Z",
     "iopub.status.idle": "2023-07-21T05:09:52.910867Z",
     "shell.execute_reply": "2023-07-21T05:09:52.909309Z"
    },
    "papermill": {
     "duration": 11.310419,
     "end_time": "2023-07-21T05:09:52.913737",
     "exception": false,
     "start_time": "2023-07-21T05:09:41.603318",
     "status": "completed"
    },
    "tags": []
   },
   "outputs": [
    {
     "name": "stdout",
     "output_type": "stream",
     "text": [
      "Looking in indexes: https://download.pytorch.org/whl/cu118\r\n",
      "Requirement already satisfied: torch in /opt/conda/lib/python3.10/site-packages (2.0.0+cpu)\r\n",
      "Requirement already satisfied: torchvision in /opt/conda/lib/python3.10/site-packages (0.15.1+cpu)\r\n",
      "Requirement already satisfied: torchaudio in /opt/conda/lib/python3.10/site-packages (2.0.1+cpu)\r\n",
      "Requirement already satisfied: torchtext in /opt/conda/lib/python3.10/site-packages (0.15.1+cpu)\r\n",
      "Requirement already satisfied: filelock in /opt/conda/lib/python3.10/site-packages (from torch) (3.12.2)\r\n",
      "Requirement already satisfied: typing-extensions in /opt/conda/lib/python3.10/site-packages (from torch) (4.6.3)\r\n",
      "Requirement already satisfied: sympy in /opt/conda/lib/python3.10/site-packages (from torch) (1.12)\r\n",
      "Requirement already satisfied: networkx in /opt/conda/lib/python3.10/site-packages (from torch) (3.1)\r\n",
      "Requirement already satisfied: jinja2 in /opt/conda/lib/python3.10/site-packages (from torch) (3.1.2)\r\n",
      "Requirement already satisfied: numpy in /opt/conda/lib/python3.10/site-packages (from torchvision) (1.23.5)\r\n",
      "Requirement already satisfied: requests in /opt/conda/lib/python3.10/site-packages (from torchvision) (2.31.0)\r\n",
      "Requirement already satisfied: pillow!=8.3.*,>=5.3.0 in /opt/conda/lib/python3.10/site-packages (from torchvision) (9.5.0)\r\n",
      "Requirement already satisfied: tqdm in /opt/conda/lib/python3.10/site-packages (from torchtext) (4.65.0)\r\n",
      "Requirement already satisfied: torchdata==0.6.0 in /opt/conda/lib/python3.10/site-packages (from torchtext) (0.6.0)\r\n",
      "Requirement already satisfied: urllib3>=1.25 in /opt/conda/lib/python3.10/site-packages (from torchdata==0.6.0->torchtext) (1.26.15)\r\n",
      "Requirement already satisfied: MarkupSafe>=2.0 in /opt/conda/lib/python3.10/site-packages (from jinja2->torch) (2.1.3)\r\n",
      "Requirement already satisfied: charset-normalizer<4,>=2 in /opt/conda/lib/python3.10/site-packages (from requests->torchvision) (3.1.0)\r\n",
      "Requirement already satisfied: idna<4,>=2.5 in /opt/conda/lib/python3.10/site-packages (from requests->torchvision) (3.4)\r\n",
      "Requirement already satisfied: certifi>=2017.4.17 in /opt/conda/lib/python3.10/site-packages (from requests->torchvision) (2023.5.7)\r\n",
      "Requirement already satisfied: mpmath>=0.19 in /opt/conda/lib/python3.10/site-packages (from sympy->torch) (1.3.0)\r\n",
      "Note: you may need to restart the kernel to use updated packages.\n"
     ]
    }
   ],
   "source": [
    "pip install torch torchvision torchaudio torchtext --index-url https://download.pytorch.org/whl/cu118"
   ]
  },
  {
   "cell_type": "code",
   "execution_count": 2,
   "id": "adc42022",
   "metadata": {
    "execution": {
     "iopub.execute_input": "2023-07-21T05:09:52.936239Z",
     "iopub.status.busy": "2023-07-21T05:09:52.935232Z",
     "iopub.status.idle": "2023-07-21T05:10:03.501481Z",
     "shell.execute_reply": "2023-07-21T05:10:03.500607Z"
    },
    "papermill": {
     "duration": 10.580693,
     "end_time": "2023-07-21T05:10:03.503911",
     "exception": false,
     "start_time": "2023-07-21T05:09:52.923218",
     "status": "completed"
    },
    "tags": []
   },
   "outputs": [
    {
     "name": "stdout",
     "output_type": "stream",
     "text": [
      "Note: you may need to restart the kernel to use updated packages.\n"
     ]
    }
   ],
   "source": [
    "pip install portalocker>=2.0.0"
   ]
  },
  {
   "cell_type": "markdown",
   "id": "b30c79be",
   "metadata": {
    "papermill": {
     "duration": 0.008931,
     "end_time": "2023-07-21T05:10:03.522352",
     "exception": false,
     "start_time": "2023-07-21T05:10:03.513421",
     "status": "completed"
    },
    "tags": []
   },
   "source": [
    "## Text classification task\n",
    "\n",
    "We will start with a simple text classification tasks based on **AG_NEWS** dataset, which is to classify news headliness into one of categories: World, Sports, Business or Sci/Tech. This dataset is built into `TorchText`, and we can easily download it by using `torchtext.datasets.AG_NEWS` function."
   ]
  },
  {
   "cell_type": "code",
   "execution_count": 3,
   "id": "4de0d719",
   "metadata": {
    "execution": {
     "iopub.execute_input": "2023-07-21T05:10:03.542185Z",
     "iopub.status.busy": "2023-07-21T05:10:03.541805Z",
     "iopub.status.idle": "2023-07-21T05:10:07.478191Z",
     "shell.execute_reply": "2023-07-21T05:10:07.477222Z"
    },
    "papermill": {
     "duration": 3.949131,
     "end_time": "2023-07-21T05:10:07.480528",
     "exception": false,
     "start_time": "2023-07-21T05:10:03.531397",
     "status": "completed"
    },
    "tags": []
   },
   "outputs": [],
   "source": [
    "import torch\n",
    "import torchtext\n",
    "import os\n",
    "import collections\n",
    "\n",
    "os.makedirs('./data', exist_ok=True)\n",
    "train_dataset, test_dataset = torchtext.datasets.AG_NEWS(root='./data')\n",
    "classes = ['World', 'Sports', 'Business', 'Sci/Tech']"
   ]
  },
  {
   "cell_type": "code",
   "execution_count": 4,
   "id": "89426195",
   "metadata": {
    "execution": {
     "iopub.execute_input": "2023-07-21T05:10:07.500842Z",
     "iopub.status.busy": "2023-07-21T05:10:07.500228Z",
     "iopub.status.idle": "2023-07-21T05:10:07.504971Z",
     "shell.execute_reply": "2023-07-21T05:10:07.504143Z"
    },
    "papermill": {
     "duration": 0.016992,
     "end_time": "2023-07-21T05:10:07.506976",
     "exception": false,
     "start_time": "2023-07-21T05:10:07.489984",
     "status": "completed"
    },
    "tags": []
   },
   "outputs": [],
   "source": [
    "# check the paltform, Apple Silicon or Linux\n",
    "import os, platform\n",
    "\n",
    "torch_device = 'mps' if platform.system() == 'Darwin' else 'cpu'"
   ]
  },
  {
   "cell_type": "code",
   "execution_count": 5,
   "id": "2f41869d",
   "metadata": {
    "execution": {
     "iopub.execute_input": "2023-07-21T05:10:07.526371Z",
     "iopub.status.busy": "2023-07-21T05:10:07.526084Z",
     "iopub.status.idle": "2023-07-21T05:10:07.530038Z",
     "shell.execute_reply": "2023-07-21T05:10:07.529071Z"
    },
    "papermill": {
     "duration": 0.015866,
     "end_time": "2023-07-21T05:10:07.531838",
     "exception": false,
     "start_time": "2023-07-21T05:10:07.515972",
     "status": "completed"
    },
    "tags": []
   },
   "outputs": [],
   "source": [
    "os.environ['PYTORCH_ENABLE_MPS_FALLBACK'] = '1'"
   ]
  },
  {
   "cell_type": "code",
   "execution_count": 6,
   "id": "48377096",
   "metadata": {
    "execution": {
     "iopub.execute_input": "2023-07-21T05:10:07.551298Z",
     "iopub.status.busy": "2023-07-21T05:10:07.550762Z",
     "iopub.status.idle": "2023-07-21T05:10:07.556461Z",
     "shell.execute_reply": "2023-07-21T05:10:07.555794Z"
    },
    "papermill": {
     "duration": 0.017442,
     "end_time": "2023-07-21T05:10:07.558177",
     "exception": false,
     "start_time": "2023-07-21T05:10:07.540735",
     "status": "completed"
    },
    "tags": []
   },
   "outputs": [
    {
     "data": {
      "text/plain": [
       "'cpu'"
      ]
     },
     "execution_count": 6,
     "metadata": {},
     "output_type": "execute_result"
    }
   ],
   "source": [
    "torch_device"
   ]
  },
  {
   "cell_type": "markdown",
   "id": "48b0c880",
   "metadata": {
    "papermill": {
     "duration": 0.00894,
     "end_time": "2023-07-21T05:10:07.576220",
     "exception": false,
     "start_time": "2023-07-21T05:10:07.567280",
     "status": "completed"
    },
    "tags": []
   },
   "source": [
    "Here, `train_dataset` and `test_dataset` contain iterators that return pairs of label (number of class) and text respectively, for example:"
   ]
  },
  {
   "cell_type": "code",
   "execution_count": 7,
   "id": "f8b05ea8",
   "metadata": {
    "execution": {
     "iopub.execute_input": "2023-07-21T05:10:07.596046Z",
     "iopub.status.busy": "2023-07-21T05:10:07.595421Z",
     "iopub.status.idle": "2023-07-21T05:10:07.599969Z",
     "shell.execute_reply": "2023-07-21T05:10:07.598988Z"
    },
    "papermill": {
     "duration": 0.016522,
     "end_time": "2023-07-21T05:10:07.601734",
     "exception": false,
     "start_time": "2023-07-21T05:10:07.585212",
     "status": "completed"
    },
    "tags": []
   },
   "outputs": [
    {
     "name": "stdout",
     "output_type": "stream",
     "text": [
      "ShardingFilterIterDataPipe\n"
     ]
    }
   ],
   "source": [
    "print(train_dataset)"
   ]
  },
  {
   "cell_type": "markdown",
   "id": "e9b925e3",
   "metadata": {
    "papermill": {
     "duration": 0.008906,
     "end_time": "2023-07-21T05:10:07.619714",
     "exception": false,
     "start_time": "2023-07-21T05:10:07.610808",
     "status": "completed"
    },
    "tags": []
   },
   "source": [
    "Let's print out the first 5 new headlines from our datasets:"
   ]
  },
  {
   "cell_type": "code",
   "execution_count": 8,
   "id": "3eb51f67",
   "metadata": {
    "execution": {
     "iopub.execute_input": "2023-07-21T05:10:07.639489Z",
     "iopub.status.busy": "2023-07-21T05:10:07.638896Z",
     "iopub.status.idle": "2023-07-21T05:10:08.228093Z",
     "shell.execute_reply": "2023-07-21T05:10:08.226952Z"
    },
    "papermill": {
     "duration": 0.601933,
     "end_time": "2023-07-21T05:10:08.230665",
     "exception": false,
     "start_time": "2023-07-21T05:10:07.628732",
     "status": "completed"
    },
    "tags": []
   },
   "outputs": [
    {
     "name": "stdout",
     "output_type": "stream",
     "text": [
      "**Sci/Tech** -> Wall St. Bears Claw Back Into the Black (Reuters) Reuters - Short-sellers, Wall Street's dwindling\\band of ultra-cynics, are seeing green again.\n",
      "\n",
      "**Sci/Tech** -> Carlyle Looks Toward Commercial Aerospace (Reuters) Reuters - Private investment firm Carlyle Group,\\which has a reputation for making well-timed and occasionally\\controversial plays in the defense industry, has quietly placed\\its bets on another part of the market.\n",
      "\n",
      "**Sci/Tech** -> Oil and Economy Cloud Stocks' Outlook (Reuters) Reuters - Soaring crude prices plus worries\\about the economy and the outlook for earnings are expected to\\hang over the stock market next week during the depth of the\\summer doldrums.\n",
      "\n",
      "**Sci/Tech** -> Iraq Halts Oil Exports from Main Southern Pipeline (Reuters) Reuters - Authorities have halted oil export\\flows from the main pipeline in southern Iraq after\\intelligence showed a rebel militia could strike\\infrastructure, an oil official said on Saturday.\n",
      "\n",
      "**Sci/Tech** -> Oil prices soar to all-time record, posing new menace to US economy (AFP) AFP - Tearaway world oil prices, toppling records and straining wallets, present a new economic menace barely three months before the US presidential elections.\n",
      "\n"
     ]
    }
   ],
   "source": [
    "for i,x in zip(range(5), train_dataset):\n",
    "    print(f'**{classes[x[0]]}** -> {x[1]}\\n')"
   ]
  },
  {
   "cell_type": "markdown",
   "id": "80c2c80c",
   "metadata": {
    "papermill": {
     "duration": 0.009134,
     "end_time": "2023-07-21T05:10:08.250604",
     "exception": false,
     "start_time": "2023-07-21T05:10:08.241470",
     "status": "completed"
    },
    "tags": []
   },
   "source": [
    "Because datasets are iterators if we want to use the data multiple times we need to convert it to list:"
   ]
  },
  {
   "cell_type": "code",
   "execution_count": 9,
   "id": "8d29bf17",
   "metadata": {
    "execution": {
     "iopub.execute_input": "2023-07-21T05:10:08.270378Z",
     "iopub.status.busy": "2023-07-21T05:10:08.270050Z",
     "iopub.status.idle": "2023-07-21T05:10:10.305270Z",
     "shell.execute_reply": "2023-07-21T05:10:10.304070Z"
    },
    "papermill": {
     "duration": 2.048443,
     "end_time": "2023-07-21T05:10:10.308125",
     "exception": false,
     "start_time": "2023-07-21T05:10:08.259682",
     "status": "completed"
    },
    "tags": []
   },
   "outputs": [],
   "source": [
    "train_dataset, test_dataset = torchtext.datasets.AG_NEWS(root='./data')\n",
    "train_dataset = list(train_dataset)\n",
    "test_dataset = list(test_dataset)"
   ]
  },
  {
   "cell_type": "markdown",
   "id": "9e54e119",
   "metadata": {
    "papermill": {
     "duration": 0.009183,
     "end_time": "2023-07-21T05:10:10.326979",
     "exception": false,
     "start_time": "2023-07-21T05:10:10.317796",
     "status": "completed"
    },
    "tags": []
   },
   "source": [
    "## Tokenization and Vectorization\n",
    "\n",
    "Now we need to convert text into `numbers` that can be represented as tensors. If we want word-level representation, we need to do two things:\n",
    "* First step is convert text to tokens(`tokenization`)\n",
    "* build a `vocabulary` of those tokens"
   ]
  },
  {
   "cell_type": "code",
   "execution_count": 10,
   "id": "ea2d3220",
   "metadata": {
    "execution": {
     "iopub.execute_input": "2023-07-21T05:10:10.347418Z",
     "iopub.status.busy": "2023-07-21T05:10:10.346998Z",
     "iopub.status.idle": "2023-07-21T05:10:10.353189Z",
     "shell.execute_reply": "2023-07-21T05:10:10.352275Z"
    },
    "papermill": {
     "duration": 0.019011,
     "end_time": "2023-07-21T05:10:10.355449",
     "exception": false,
     "start_time": "2023-07-21T05:10:10.336438",
     "status": "completed"
    },
    "tags": []
   },
   "outputs": [
    {
     "name": "stdout",
     "output_type": "stream",
     "text": [
      "\n",
      "first token list: \n",
      "['wall', 'st', '.', 'bears', 'claw', 'back', 'into', 'the', 'black', '(', 'reuters', ')', 'reuters', '-', 'short-sellers', ',', 'wall', 'street', \"'\", 's', 'dwindling\\\\band', 'of', 'ultra-cynics', ',', 'are', 'seeing', 'green', 'again', '.']\n",
      "\n",
      "second token list: \n",
      "['carlyle', 'looks', 'toward', 'commercial', 'aerospace', '(', 'reuters', ')', 'reuters', '-', 'private', 'investment', 'firm', 'carlyle', 'group', ',', '\\\\which', 'has', 'a', 'reputation', 'for', 'making', 'well-timed', 'and', 'occasionally\\\\controversial', 'plays', 'in', 'the', 'defense', 'industry', ',', 'has', 'quietly', 'placed\\\\its', 'bets', 'on', 'another', 'part', 'of', 'the', 'market', '.']\n"
     ]
    }
   ],
   "source": [
    "tokenizer = torchtext.data.utils.get_tokenizer('basic_english')\n",
    "first_sentence = train_dataset[0][1]\n",
    "second_sentence = train_dataset[1][1]\n",
    "\n",
    "f_tokens = tokenizer(first_sentence)\n",
    "s_tokens = tokenizer(second_sentence)\n",
    "\n",
    "print(f'\\nfirst token list: \\n{f_tokens}')\n",
    "print(f'\\nsecond token list: \\n{s_tokens}')"
   ]
  },
  {
   "cell_type": "markdown",
   "id": "ceb4c474",
   "metadata": {
    "papermill": {
     "duration": 0.009128,
     "end_time": "2023-07-21T05:10:10.373902",
     "exception": false,
     "start_time": "2023-07-21T05:10:10.364774",
     "status": "completed"
    },
    "tags": []
   },
   "source": [
    "Next, to convert text to numbers, we will need to build a vocabulary of all tokens. We first build the dictionary using the `Counter` objet, and then create a `Vocab` object that would help us deal with vectorization:"
   ]
  },
  {
   "cell_type": "code",
   "execution_count": 11,
   "id": "68e1558a",
   "metadata": {
    "execution": {
     "iopub.execute_input": "2023-07-21T05:10:10.394093Z",
     "iopub.status.busy": "2023-07-21T05:10:10.393752Z",
     "iopub.status.idle": "2023-07-21T05:10:14.337721Z",
     "shell.execute_reply": "2023-07-21T05:10:14.336753Z"
    },
    "papermill": {
     "duration": 3.957023,
     "end_time": "2023-07-21T05:10:14.340204",
     "exception": false,
     "start_time": "2023-07-21T05:10:10.383181",
     "status": "completed"
    },
    "tags": []
   },
   "outputs": [],
   "source": [
    "import torchtext\n",
    "\n",
    "counter =  collections.Counter()\n",
    "for (label, line) in train_dataset:\n",
    "    counter.update(tokenizer(line))\n",
    "\n",
    "vocab = torchtext.vocab.vocab(counter, min_freq=1)"
   ]
  },
  {
   "cell_type": "markdown",
   "id": "d79200fb",
   "metadata": {
    "papermill": {
     "duration": 0.009703,
     "end_time": "2023-07-21T05:10:14.359699",
     "exception": false,
     "start_time": "2023-07-21T05:10:14.349996",
     "status": "completed"
    },
    "tags": []
   },
   "source": [
    "To see how each word maps to the vocabulary, we'll loop through each word in the list to lookup it's index number in `vocab`. Each word or character is displayed with it's corresponding index. For example, word `the` appears several times in both sentence and it's unique index in the vocab is the number 3."
   ]
  },
  {
   "cell_type": "code",
   "execution_count": 12,
   "id": "d996442f",
   "metadata": {
    "execution": {
     "iopub.execute_input": "2023-07-21T05:10:14.379997Z",
     "iopub.status.busy": "2023-07-21T05:10:14.379489Z",
     "iopub.status.idle": "2023-07-21T05:10:14.387996Z",
     "shell.execute_reply": "2023-07-21T05:10:14.386785Z"
    },
    "papermill": {
     "duration": 0.020725,
     "end_time": "2023-07-21T05:10:14.389792",
     "exception": false,
     "start_time": "2023-07-21T05:10:14.369067",
     "status": "completed"
    },
    "tags": []
   },
   "outputs": [
    {
     "name": "stdout",
     "output_type": "stream",
     "text": [
      "\n",
      "Index lockup in 1st sentence:\n",
      "[[(0, 'wall'), (1, 'st'), (2, '.'), (3, 'bears'), (4, 'claw'), (5, 'back'), (6, 'into'), (7, 'the'), (8, 'black'), (9, '('), (10, 'reuters'), (11, ')'), (10, 'reuters'), (12, '-'), (13, 'short-sellers'), (14, ','), (0, 'wall'), (15, 'street'), (16, \"'\"), (17, 's'), (18, 'dwindling\\\\band'), (19, 'of'), (20, 'ultra-cynics'), (14, ','), (21, 'are'), (22, 'seeing'), (23, 'green'), (24, 'again'), (2, '.')]]\n",
      "\n",
      "Index lockup in 2nd sentence:\n",
      "[[(25, 'carlyle'), (26, 'looks'), (27, 'toward'), (28, 'commercial'), (29, 'aerospace'), (9, '('), (10, 'reuters'), (11, ')'), (10, 'reuters'), (12, '-'), (30, 'private'), (31, 'investment'), (32, 'firm'), (25, 'carlyle'), (33, 'group'), (14, ','), (34, '\\\\which'), (35, 'has'), (36, 'a'), (37, 'reputation'), (38, 'for'), (39, 'making'), (40, 'well-timed'), (41, 'and'), (42, 'occasionally\\\\controversial'), (43, 'plays'), (44, 'in'), (7, 'the'), (45, 'defense'), (46, 'industry'), (14, ','), (35, 'has'), (47, 'quietly'), (48, 'placed\\\\its'), (49, 'bets'), (50, 'on'), (51, 'another'), (52, 'part'), (19, 'of'), (7, 'the'), (53, 'market'), (2, '.')]]\n"
     ]
    }
   ],
   "source": [
    "word_lookup_f = [list((vocab[w],w) for w in f_tokens)]\n",
    "print(f'\\nIndex lockup in 1st sentence:\\n{word_lookup_f}')\n",
    "\n",
    "word_lookup_s = [list((vocab[w],w) for w in s_tokens)]\n",
    "print(f'\\nIndex lockup in 2nd sentence:\\n{word_lookup_s}')"
   ]
  },
  {
   "cell_type": "markdown",
   "id": "56ae9d88",
   "metadata": {
    "papermill": {
     "duration": 0.009396,
     "end_time": "2023-07-21T05:10:14.408559",
     "exception": false,
     "start_time": "2023-07-21T05:10:14.399163",
     "status": "completed"
    },
    "tags": []
   },
   "source": [
    "Using vocabulary, we can easily encode out tokenized string into a set of numbers:"
   ]
  },
  {
   "cell_type": "code",
   "execution_count": 13,
   "id": "8aa7eed8",
   "metadata": {
    "execution": {
     "iopub.execute_input": "2023-07-21T05:10:14.429066Z",
     "iopub.status.busy": "2023-07-21T05:10:14.428656Z",
     "iopub.status.idle": "2023-07-21T05:10:16.786408Z",
     "shell.execute_reply": "2023-07-21T05:10:16.785067Z"
    },
    "papermill": {
     "duration": 2.370702,
     "end_time": "2023-07-21T05:10:16.788702",
     "exception": false,
     "start_time": "2023-07-21T05:10:14.418000",
     "status": "completed"
    },
    "tags": []
   },
   "outputs": [
    {
     "name": "stdout",
     "output_type": "stream",
     "text": [
      "Vocab size: 95810\n",
      "[0, 1, 2, 3, 4, 5, 6, 7, 8, 9, 10, 11, 10, 12, 13, 14, 0, 15, 16, 17, 18, 19, 20, 14, 21, 22, 23, 24, 2]\n"
     ]
    }
   ],
   "source": [
    "vocab_size = len(vocab)\n",
    "print(f'Vocab size: {vocab_size}')\n",
    "\n",
    "def encode(text):\n",
    "    return [vocab.get_stoi()[s] for s in tokenizer(text)]\n",
    "\n",
    "vec=encode(train_dataset[0][1])\n",
    "print(vec)"
   ]
  },
  {
   "cell_type": "markdown",
   "id": "c6ac6aab",
   "metadata": {
    "papermill": {
     "duration": 0.009348,
     "end_time": "2023-07-21T05:10:16.807826",
     "exception": false,
     "start_time": "2023-07-21T05:10:16.798478",
     "status": "completed"
    },
    "tags": []
   },
   "source": [
    "The torchtext `vocab.get_stoi` function allows us to convert from string representation into numbers (the name stoi stands for string-to-integers). To convert the text back from a numeric representation into text, we can use the `vocab.get_itos` dictionary to perform reverse lookup:"
   ]
  },
  {
   "cell_type": "code",
   "execution_count": 14,
   "id": "9e88faa8",
   "metadata": {
    "execution": {
     "iopub.execute_input": "2023-07-21T05:10:16.829117Z",
     "iopub.status.busy": "2023-07-21T05:10:16.828295Z",
     "iopub.status.idle": "2023-07-21T05:10:17.265950Z",
     "shell.execute_reply": "2023-07-21T05:10:17.265045Z"
    },
    "papermill": {
     "duration": 0.450849,
     "end_time": "2023-07-21T05:10:17.268168",
     "exception": false,
     "start_time": "2023-07-21T05:10:16.817319",
     "status": "completed"
    },
    "tags": []
   },
   "outputs": [
    {
     "name": "stdout",
     "output_type": "stream",
     "text": [
      "['wall', 'st', '.', 'bears', 'claw', 'back', 'into', 'the', 'black', '(', 'reuters', ')', 'reuters', '-', 'short-sellers', ',', 'wall', 'street', \"'\", 's', 'dwindling\\\\band', 'of', 'ultra-cynics', ',', 'are', 'seeing', 'green', 'again', '.']\n"
     ]
    }
   ],
   "source": [
    "def decode(text):\n",
    "    return [vocab.get_itos()[i] for i in text]\n",
    "\n",
    "print(decode(vec))"
   ]
  },
  {
   "cell_type": "markdown",
   "id": "2babff16",
   "metadata": {
    "papermill": {
     "duration": 0.009374,
     "end_time": "2023-07-21T05:10:17.288515",
     "exception": false,
     "start_time": "2023-07-21T05:10:17.279141",
     "status": "completed"
    },
    "tags": []
   },
   "source": [
    "## Bag of Words text representation\n",
    "\n",
    "Because words represent meaning, sometimes we can figure out the meaning of a text by just looking at the individual words, regardless of their order in the sentence. For example, when classifying news, words like `weather`, `snow` are likely to indicate `weather forecast`, while words like `stocks`, `dollar` would count towards `financial news`.\n",
    "\n",
    "**Bag of Words** (BoW) vector representation is the most commonly used traditional vector representation. Each word is linked to a vector index, vector element contains the number of occureences of a word in a given document.\n",
    "\n",
    "<figure><img src=\"https://hostux.social/system/media_attachments/files/110/745/067/186/920/286/original/18c9a8e5cd6c7dfb.png\" alt=\"\" width=\"1000\"><figcaption><p>Source from Microsoft Learning </a> </p></figcaption></figure>\n",
    "\n",
    "> Note: You can also think of BoW as a sum of all one-hot-encoded bectors for individual words in the text.\n",
    "\n",
    "Below is an example of how to generate a bag od word representation using the Scikit Learn python library:"
   ]
  },
  {
   "cell_type": "code",
   "execution_count": 15,
   "id": "1c5fc7c7",
   "metadata": {
    "execution": {
     "iopub.execute_input": "2023-07-21T05:10:17.308968Z",
     "iopub.status.busy": "2023-07-21T05:10:17.308619Z",
     "iopub.status.idle": "2023-07-21T05:10:18.348995Z",
     "shell.execute_reply": "2023-07-21T05:10:18.347963Z"
    },
    "papermill": {
     "duration": 1.053337,
     "end_time": "2023-07-21T05:10:18.351328",
     "exception": false,
     "start_time": "2023-07-21T05:10:17.297991",
     "status": "completed"
    },
    "tags": []
   },
   "outputs": [
    {
     "name": "stderr",
     "output_type": "stream",
     "text": [
      "/opt/conda/lib/python3.10/site-packages/scipy/__init__.py:146: UserWarning: A NumPy version >=1.16.5 and <1.23.0 is required for this version of SciPy (detected version 1.23.5\n",
      "  warnings.warn(f\"A NumPy version >={np_minversion} and <{np_maxversion}\"\n"
     ]
    },
    {
     "data": {
      "text/plain": [
       "array([[1, 1, 0, 2, 0, 0, 0, 0, 0]])"
      ]
     },
     "execution_count": 15,
     "metadata": {},
     "output_type": "execute_result"
    }
   ],
   "source": [
    "from sklearn.feature_extraction.text import CountVectorizer\n",
    "vectorizer = CountVectorizer()\n",
    "corpus = [\n",
    "    'I like hot dogs.',\n",
    "    'The dog ran fast.',\n",
    "    'Its hot outside.',\n",
    "]\n",
    "\n",
    "vectorizer.fit_transform(corpus)\n",
    "vectorizer.transform(['My dog likes hot dogs on a hot day.']).toarray()"
   ]
  },
  {
   "cell_type": "markdown",
   "id": "bb4792b0",
   "metadata": {
    "papermill": {
     "duration": 0.009482,
     "end_time": "2023-07-21T05:10:18.370838",
     "exception": false,
     "start_time": "2023-07-21T05:10:18.361356",
     "status": "completed"
    },
    "tags": []
   },
   "source": [
    "To compute bag-of-words vector form the vector representation of our AG_NEWS dataset, we can use the following function:"
   ]
  },
  {
   "cell_type": "markdown",
   "id": "9e003064",
   "metadata": {
    "papermill": {
     "duration": 0.009434,
     "end_time": "2023-07-21T05:10:18.390008",
     "exception": false,
     "start_time": "2023-07-21T05:10:18.380574",
     "status": "completed"
    },
    "tags": []
   },
   "source": [
    "> Note: Here we are using global `vocab_size` variable to specify default size of the vocabulary. Since often vocabulary size id pretty big, we can limit the size of the vocabulary to most frequent words. Try lowering `vocab_size` value and running the code below, and see how it affects the accuracy. You should expect some accuracy drop, but not dramatic, in lieu of higher performance."
   ]
  },
  {
   "cell_type": "code",
   "execution_count": 16,
   "id": "2bf52313",
   "metadata": {
    "execution": {
     "iopub.execute_input": "2023-07-21T05:10:18.411798Z",
     "iopub.status.busy": "2023-07-21T05:10:18.411142Z",
     "iopub.status.idle": "2023-07-21T05:10:20.913702Z",
     "shell.execute_reply": "2023-07-21T05:10:20.912449Z"
    },
    "papermill": {
     "duration": 2.516767,
     "end_time": "2023-07-21T05:10:20.916504",
     "exception": false,
     "start_time": "2023-07-21T05:10:18.399737",
     "status": "completed"
    },
    "tags": []
   },
   "outputs": [
    {
     "name": "stdout",
     "output_type": "stream",
     "text": [
      "sample text:Wall St. Bears Claw Back Into the Black (Reuters) Reuters - Short-sellers, Wall Street's dwindling\\band of ultra-cynics, are seeing green again.\n",
      "bow vector: tensor([2., 1., 2.,  ..., 0., 0., 0.])\n"
     ]
    }
   ],
   "source": [
    "vocab_size = len(vocab)\n",
    "\n",
    "def to_bow(text, bow_vocab_size=vocab_size):\n",
    "    \"\"\"\n",
    "    Convert text string to a bag-of-words tensor.\n",
    "    \"\"\"\n",
    "    res = torch.zeros(bow_vocab_size, dtype=torch.float32)\n",
    "    for i in encode(text):\n",
    "        if i <bow_vocab_size:\n",
    "            res[i] += 1\n",
    "    return res\n",
    "\n",
    "print(f'sample text:{train_dataset[0][1]}')\n",
    "print(f'bow vector: {to_bow(train_dataset[0][1])}')"
   ]
  },
  {
   "cell_type": "markdown",
   "id": "46363a2b",
   "metadata": {
    "papermill": {
     "duration": 0.009712,
     "end_time": "2023-07-21T05:10:20.936472",
     "exception": false,
     "start_time": "2023-07-21T05:10:20.926760",
     "status": "completed"
    },
    "tags": []
   },
   "source": [
    "## Training BoW classifier\n",
    "\n",
    "Now that we have learned how to build Bag-of-Words representation of our text, let's train a classifier on top of it.\n",
    "\n",
    "First, we need to convert our dataset for training in such a way, that all positional vector representations are converted to bag-of-words representation. This can be achieved by passing `bowify` function as `collate_fn` parameter to standard torch `DataLoader`:"
   ]
  },
  {
   "cell_type": "code",
   "execution_count": 17,
   "id": "20ee370d",
   "metadata": {
    "execution": {
     "iopub.execute_input": "2023-07-21T05:10:20.958367Z",
     "iopub.status.busy": "2023-07-21T05:10:20.957440Z",
     "iopub.status.idle": "2023-07-21T05:10:20.963772Z",
     "shell.execute_reply": "2023-07-21T05:10:20.963095Z"
    },
    "papermill": {
     "duration": 0.019426,
     "end_time": "2023-07-21T05:10:20.965778",
     "exception": false,
     "start_time": "2023-07-21T05:10:20.946352",
     "status": "completed"
    },
    "tags": []
   },
   "outputs": [],
   "source": [
    "from torch.utils.data import DataLoader\n",
    "\n",
    "# This collate function gets list of batch_size tuples, and needs to return a pair of label-feature tensors for the whole minibatch\n",
    "def bowify(b):\n",
    "    return(\n",
    "        torch.LongTensor([t[0]-1 for t in b]),\n",
    "        torch.stack([to_bow(t[1]) for t in b])\n",
    "    )\n",
    "\n",
    "train_loader = DataLoader(train_dataset, batch_size=16, shuffle=True, collate_fn=bowify) # collate_fn is the function that merges the list of samples into a mini-batch\n",
    "test_loader = DataLoader(test_dataset, batch_size=16, shuffle=True, collate_fn=bowify)\n"
   ]
  },
  {
   "cell_type": "markdown",
   "id": "91339170",
   "metadata": {
    "papermill": {
     "duration": 0.00968,
     "end_time": "2023-07-21T05:10:20.985307",
     "exception": false,
     "start_time": "2023-07-21T05:10:20.975627",
     "status": "completed"
    },
    "tags": []
   },
   "source": [
    "Now let's define simple classifier neural network that contains one linear layer. The size of the input vector equals to `vocab_size`, and output size coresponds to the number of classes(4). Because we are solving classification task, the final activation function is `LogSoftmax`."
   ]
  },
  {
   "cell_type": "code",
   "execution_count": 18,
   "id": "b77ff8c6",
   "metadata": {
    "execution": {
     "iopub.execute_input": "2023-07-21T05:10:21.006345Z",
     "iopub.status.busy": "2023-07-21T05:10:21.005987Z",
     "iopub.status.idle": "2023-07-21T05:10:21.019472Z",
     "shell.execute_reply": "2023-07-21T05:10:21.018719Z"
    },
    "papermill": {
     "duration": 0.026239,
     "end_time": "2023-07-21T05:10:21.021321",
     "exception": false,
     "start_time": "2023-07-21T05:10:20.995082",
     "status": "completed"
    },
    "tags": []
   },
   "outputs": [],
   "source": [
    "net = torch.nn.Sequential(\n",
    "    torch.nn.Linear(vocab_size, 4),\n",
    "    torch.nn.LogSoftmax(dim=1)\n",
    ")\n",
    "\n",
    "net=net.to(torch_device)"
   ]
  },
  {
   "cell_type": "markdown",
   "id": "8c58599a",
   "metadata": {
    "papermill": {
     "duration": 0.009765,
     "end_time": "2023-07-21T05:10:21.041124",
     "exception": false,
     "start_time": "2023-07-21T05:10:21.031359",
     "status": "completed"
    },
    "tags": []
   },
   "source": [
    "Now we will define standard PyTorch training loop. Because our dataset is quite large, we will train only for one epoch, and sometimes even for less than an epoch(specifying the `epoch_size` parameter allows us to limit training). We would also report accumulated training accuracy during training; the frequency of reporting is pecified using `report_freq` parameter."
   ]
  },
  {
   "cell_type": "code",
   "execution_count": 19,
   "id": "d99dbddd",
   "metadata": {
    "execution": {
     "iopub.execute_input": "2023-07-21T05:10:21.062895Z",
     "iopub.status.busy": "2023-07-21T05:10:21.061927Z",
     "iopub.status.idle": "2023-07-21T05:11:12.267290Z",
     "shell.execute_reply": "2023-07-21T05:11:12.265119Z"
    },
    "papermill": {
     "duration": 51.231993,
     "end_time": "2023-07-21T05:11:12.282976",
     "exception": false,
     "start_time": "2023-07-21T05:10:21.050983",
     "status": "completed"
    },
    "tags": []
   },
   "outputs": [
    {
     "data": {
      "text/plain": [
       "(0.08661112189292908, 0.3125)"
      ]
     },
     "execution_count": 19,
     "metadata": {},
     "output_type": "execute_result"
    }
   ],
   "source": [
    "def train_eopch(net, dataloader, lr=0.01, optimizer=None, loss_fn=torch.nn.NLLLoss(), epoch_size=None, report_freq=200):\n",
    "    optimizer = optimizer or torch.optim.Adam(net.parameters(), lr=lr)\n",
    "    net.train()\n",
    "    total_loss, acc, count,i = 0,0,0,0\n",
    "    for labels, features in dataloader:\n",
    "        labels, features = labels.to(torch_device), features.to(torch_device)\n",
    "        optimizer.zero_grad()\n",
    "        output = net(features)\n",
    "        loss = loss_fn(output, labels)\n",
    "        loss.backward()\n",
    "        optimizer.step()\n",
    "        total_loss += loss\n",
    "        _, predicted = torch.max(output, 1)\n",
    "        acc += (predicted == labels).sum()\n",
    "        count += len(labels)\n",
    "        i+=1\n",
    "        if i%report_freq == 0:\n",
    "            print(f'iteration {count}, loss {total_loss.item()/count}, accuracy {acc.item()/count}') # item() is used to get the value of a tensor\n",
    "        if epoch_size  and count >= epoch_size:\n",
    "            break\n",
    "    \n",
    "    return total_loss.item()/count, acc.item()/count\n",
    "\n",
    "train_eopch(net, train_loader, epoch_size=1)"
   ]
  },
  {
   "cell_type": "markdown",
   "id": "73b18955",
   "metadata": {
    "papermill": {
     "duration": 0.012329,
     "end_time": "2023-07-21T05:11:12.305554",
     "exception": false,
     "start_time": "2023-07-21T05:11:12.293225",
     "status": "completed"
    },
    "tags": []
   },
   "source": [
    "## BiGrams, TriGrams and N-Grams\n",
    "\n",
    "One limitation of a bag of words approach is that some words are part of multi word expressions, for example, the word `hot dog` has a completely different meaning than the words `hot` and `dog` in other contexts. If we represent words `hot` and `dog` always by the same vectors, it can confuse our model.\n",
    "\n",
    "To address this, **N-gram representations** are often used in methods of document classification, where the frequency of each word, **bi-word** ot **tri-word** is useful feature for training classifiers. \n",
    "\n",
    "* In bigram representaion, for example, we will add all word pairs to the vocabulary, in addition to original words.\n",
    "\n",
    "Below is an example of how to generate a bigram bag of word representation using the Scikit Learn:"
   ]
  },
  {
   "cell_type": "code",
   "execution_count": 20,
   "id": "58bc72e2",
   "metadata": {
    "execution": {
     "iopub.execute_input": "2023-07-21T05:11:12.329252Z",
     "iopub.status.busy": "2023-07-21T05:11:12.328860Z",
     "iopub.status.idle": "2023-07-21T05:11:12.339013Z",
     "shell.execute_reply": "2023-07-21T05:11:12.337876Z"
    },
    "papermill": {
     "duration": 0.024136,
     "end_time": "2023-07-21T05:11:12.341057",
     "exception": false,
     "start_time": "2023-07-21T05:11:12.316921",
     "status": "completed"
    },
    "tags": []
   },
   "outputs": [
    {
     "name": "stdout",
     "output_type": "stream",
     "text": [
      "Vocabulary:  {'i': 7, 'like': 11, 'hot': 4, 'dogs': 2, 'i like': 8, 'like hot': 12, 'hot dogs': 5, 'the': 16, 'dog': 0, 'ran': 14, 'fast': 3, 'the dog': 17, 'dog ran': 1, 'ran fast': 15, 'its': 9, 'outside': 13, 'its hot': 10, 'hot outside': 6}\n"
     ]
    },
    {
     "data": {
      "text/plain": [
       "array([[1, 0, 1, 0, 2, 1, 0, 0, 0, 0, 0, 0, 0, 0, 0, 0, 0, 0]])"
      ]
     },
     "execution_count": 20,
     "metadata": {},
     "output_type": "execute_result"
    }
   ],
   "source": [
    "bigram_vectorizer = CountVectorizer(ngram_range=(1,2), token_pattern=r'\\b\\w+\\b', min_df=1)\n",
    "corpus = [\n",
    "    'I like hot dogs.',\n",
    "    'The dog ran fast.',\n",
    "    'Its hot outside.',\n",
    "]\n",
    "\n",
    "bigram_vectorizer.fit_transform(corpus)\n",
    "print(\"Vocabulary: \", bigram_vectorizer.vocabulary_)\n",
    "bigram_vectorizer.transform(['My dog likes hot dogs on a hot day.']).toarray()"
   ]
  },
  {
   "cell_type": "markdown",
   "id": "808a19af",
   "metadata": {
    "papermill": {
     "duration": 0.010159,
     "end_time": "2023-07-21T05:11:12.361568",
     "exception": false,
     "start_time": "2023-07-21T05:11:12.351409",
     "status": "completed"
    },
    "tags": []
   },
   "source": [
    "The **main drawback of N-gram approach** is that vocabulary size starts to grow exremly fast. In practice, we need to combine N-gram representation with some dimensionality reduction technique, such as embeddings, which we will discuss in the next notebook.\n",
    "\n",
    "To use N-gram representaion in our **AG News** dataset, we need to build special ngram vocabulary:"
   ]
  },
  {
   "cell_type": "code",
   "execution_count": 21,
   "id": "9ef54417",
   "metadata": {
    "execution": {
     "iopub.execute_input": "2023-07-21T05:11:12.383591Z",
     "iopub.status.busy": "2023-07-21T05:11:12.383241Z",
     "iopub.status.idle": "2023-07-21T05:11:20.701003Z",
     "shell.execute_reply": "2023-07-21T05:11:20.699587Z"
    },
    "papermill": {
     "duration": 8.331419,
     "end_time": "2023-07-21T05:11:20.703175",
     "exception": false,
     "start_time": "2023-07-21T05:11:12.371756",
     "status": "completed"
    },
    "tags": []
   },
   "outputs": [
    {
     "name": "stdout",
     "output_type": "stream",
     "text": [
      "Bigram vocabulary length: 1308842\n"
     ]
    }
   ],
   "source": [
    "counter = collections.Counter()\n",
    "for (label, line) in train_dataset:\n",
    "    l = tokenizer(line)\n",
    "    counter.update(torchtext.data.utils.ngrams_iterator(l, ngrams=2))\n",
    "\n",
    "bi_vocab = torchtext.vocab.vocab(counter, min_freq=1)\n",
    "\n",
    "print(f'Bigram vocabulary length: {len(bi_vocab)}')"
   ]
  },
  {
   "cell_type": "markdown",
   "id": "3ce61efe",
   "metadata": {
    "papermill": {
     "duration": 0.010195,
     "end_time": "2023-07-21T05:11:20.724283",
     "exception": false,
     "start_time": "2023-07-21T05:11:20.714088",
     "status": "completed"
    },
    "tags": []
   },
   "source": [
    "We could then use the same code as above to train the classifier, however, it would be very memory-inefficient. In the next notebook, we will train bigram classifier using embeedings.\n",
    "\n",
    ">Note: We can only leave those ngrams that occur in the text more than specified number of times. This will make sure that infrequent bigrams will be omitted, and will decrease the dimensionality significantly. To do this, set `min_freq` parameter to a higher value, and observe the length of vocabulary change."
   ]
  },
  {
   "cell_type": "markdown",
   "id": "5025f7f1",
   "metadata": {
    "papermill": {
     "duration": 0.010116,
     "end_time": "2023-07-21T05:11:20.744745",
     "exception": false,
     "start_time": "2023-07-21T05:11:20.734629",
     "status": "completed"
    },
    "tags": []
   },
   "source": [
    "## Term Frequency Inverse Document Frequency TF-IDF\n",
    "\n",
    "In BoW representaion, word occurences are evenly weighted, regardless of the word iteself. However, it is clear that frequent words, such as a,in, etc. are much less important for the classification, than specialized terms. In fact, in most NLP tasks some words are more relevant than others.\n",
    "\n",
    "**TF-IDF** stands for **term frequency-inverse document frequency**. It is a variation of ag of words, where instead of a binary 0/1 value indicating the appearence of a word in a focument, a floating-point value is used, which is related to the frequency of word occurrence in the corpus.\n",
    "\n",
    "More formally, the weights $w_{ij}$ of a word $i$ in the document $j$ is defined as:\n",
    "\n",
    "$$w_{ij} = tf_{ij} \\times \\log({N \\over df_i})$$"
   ]
  },
  {
   "cell_type": "markdown",
   "id": "146f11ae",
   "metadata": {
    "papermill": {
     "duration": 0.009995,
     "end_time": "2023-07-21T05:11:20.765008",
     "exception": false,
     "start_time": "2023-07-21T05:11:20.755013",
     "status": "completed"
    },
    "tags": []
   },
   "source": [
    "where\n",
    "* i is the word\n",
    "* j is the document\n",
    "* $w_{ij}$ is the weight or the importance of the word in the document\n",
    "* $tf_{ij}$ is the number of occurences of word $i$ in the document $j$. i.e. the BoW value we have seen before\n",
    "* $N$ is the number of documents in the collection\n",
    "* $df_i$ is the number of documents containing the word $i$ in the whole collection\n",
    "\n",
    "TF-IDF value $w{ij}$ increases proportionally to the number of times a word appears in the document and is offset by the number of documents in the corpus that contains the word, which helps to adjust for the fact that some words appear more frequently than others. For example, if the word appeears in every document in the collection, $df_{i}=N$, and $w_{ij} = 0$, and those terms would be completely disregarded.\n",
    "\n",
    "We can easily create TF-IDF vectorization of text using Scikit Learn:"
   ]
  },
  {
   "cell_type": "code",
   "execution_count": 22,
   "id": "c060bec7",
   "metadata": {
    "execution": {
     "iopub.execute_input": "2023-07-21T05:11:20.787565Z",
     "iopub.status.busy": "2023-07-21T05:11:20.786941Z",
     "iopub.status.idle": "2023-07-21T05:11:20.803761Z",
     "shell.execute_reply": "2023-07-21T05:11:20.802777Z"
    },
    "papermill": {
     "duration": 0.030535,
     "end_time": "2023-07-21T05:11:20.805814",
     "exception": false,
     "start_time": "2023-07-21T05:11:20.775279",
     "status": "completed"
    },
    "tags": []
   },
   "outputs": [
    {
     "data": {
      "text/plain": [
       "array([[0.43381609, 0.        , 0.43381609, 0.        , 0.65985664,\n",
       "        0.43381609, 0.        , 0.        , 0.        , 0.        ,\n",
       "        0.        , 0.        , 0.        , 0.        , 0.        ,\n",
       "        0.        ]])"
      ]
     },
     "execution_count": 22,
     "metadata": {},
     "output_type": "execute_result"
    }
   ],
   "source": [
    "from sklearn.feature_extraction.text import TfidfVectorizer\n",
    "vectorizer = TfidfVectorizer(ngram_range=(1,2))\n",
    "vectorizer.fit_transform(corpus)\n",
    "vectorizer.transform(['My dog likes hot dogs on a hot day.']).toarray()"
   ]
  },
  {
   "cell_type": "markdown",
   "id": "441a7978",
   "metadata": {
    "papermill": {
     "duration": 0.010554,
     "end_time": "2023-07-21T05:11:20.826871",
     "exception": false,
     "start_time": "2023-07-21T05:11:20.816317",
     "status": "completed"
    },
    "tags": []
   },
   "source": [
    "Or we can implement it ourselves. First, let's compute document frequency $df_{i}$ for each word $i$. We can represent it as tensor of size `vocab_size`. We will limit the number of documents to `N=1000` to speed up processing. For each input sentence, we compute the set of words(represented by their numbers), and increase the corresponding counter:"
   ]
  },
  {
   "cell_type": "code",
   "execution_count": 23,
   "id": "804834b1",
   "metadata": {
    "execution": {
     "iopub.execute_input": "2023-07-21T05:11:20.849409Z",
     "iopub.status.busy": "2023-07-21T05:11:20.849051Z",
     "iopub.status.idle": "2023-07-21T05:11:36.810318Z",
     "shell.execute_reply": "2023-07-21T05:11:36.809388Z"
    },
    "papermill": {
     "duration": 15.975308,
     "end_time": "2023-07-21T05:11:36.812778",
     "exception": false,
     "start_time": "2023-07-21T05:11:20.837470",
     "status": "completed"
    },
    "tags": []
   },
   "outputs": [],
   "source": [
    "N =5\n",
    "df = torch.zeros(vocab_size)\n",
    "for _,line, in train_dataset[:N]:\n",
    "    for i in set(encode(line)):\n",
    "        df[i] += 1"
   ]
  },
  {
   "cell_type": "markdown",
   "id": "93c793e9",
   "metadata": {
    "papermill": {
     "duration": 0.011074,
     "end_time": "2023-07-21T05:11:36.834655",
     "exception": false,
     "start_time": "2023-07-21T05:11:36.823581",
     "status": "completed"
    },
    "tags": []
   },
   "source": [
    "Now that we have document frequencies for each word, we can define `tf_idr` function that will take a string, and produce TF-IDF vector. We will use `to_bow` defined above to calculate term frequency vector, and multiply it by inverse document frequency of the corresponding term. Remeber that all tensor operations are element-wide, which allows us to implement the whole computation as a tensof formula:\n",
    "\n",
    "> Here we use $\\log({N+1\\over df_i+1})$ instead of $\\log({N\\over df_i})$. This yields simiar results, but prevents division by 0 in those cases when $df_i=0$."
   ]
  },
  {
   "cell_type": "code",
   "execution_count": 24,
   "id": "13139065",
   "metadata": {
    "execution": {
     "iopub.execute_input": "2023-07-21T05:11:36.857066Z",
     "iopub.status.busy": "2023-07-21T05:11:36.856695Z",
     "iopub.status.idle": "2023-07-21T05:11:39.265851Z",
     "shell.execute_reply": "2023-07-21T05:11:39.264911Z"
    },
    "papermill": {
     "duration": 2.423094,
     "end_time": "2023-07-21T05:11:39.268281",
     "exception": false,
     "start_time": "2023-07-21T05:11:36.845187",
     "status": "completed"
    },
    "tags": []
   },
   "outputs": [
    {
     "name": "stdout",
     "output_type": "stream",
     "text": [
      "None\n"
     ]
    }
   ],
   "source": [
    "def tf_idf(s):\n",
    "    bow=to_bow(s)\n",
    "    tf = bow*torch.log((N+1)/(df+1))\n",
    "\n",
    "print(tf_idf(train_dataset[0][1]))"
   ]
  },
  {
   "cell_type": "markdown",
   "id": "86faaaf1",
   "metadata": {
    "papermill": {
     "duration": 0.010225,
     "end_time": "2023-07-21T05:11:39.289743",
     "exception": false,
     "start_time": "2023-07-21T05:11:39.279518",
     "status": "completed"
    },
    "tags": []
   },
   "source": [
    "However even though TF-IDF representaions provide frequency weight to different words they are unable to represent meaing or order. As the famous linguist J.R. Firth said in 1935, \"The complete meaning of a word is always contextual, and no study of meaning apart from context can be taken seriously.\". We will learn in the later notebooks how to capture contextual information from text using language modeling."
   ]
  }
 ],
 "metadata": {
  "kernelspec": {
   "display_name": "Python 3",
   "language": "python",
   "name": "python3"
  },
  "language_info": {
   "codemirror_mode": {
    "name": "ipython",
    "version": 3
   },
   "file_extension": ".py",
   "mimetype": "text/x-python",
   "name": "python",
   "nbconvert_exporter": "python",
   "pygments_lexer": "ipython3",
   "version": "3.10.12"
  },
  "papermill": {
   "default_parameters": {},
   "duration": 127.717634,
   "end_time": "2023-07-21T05:11:40.722972",
   "environment_variables": {},
   "exception": null,
   "input_path": "__notebook__.ipynb",
   "output_path": "__notebook__.ipynb",
   "parameters": {},
   "start_time": "2023-07-21T05:09:33.005338",
   "version": "2.4.0"
  }
 },
 "nbformat": 4,
 "nbformat_minor": 5
}
