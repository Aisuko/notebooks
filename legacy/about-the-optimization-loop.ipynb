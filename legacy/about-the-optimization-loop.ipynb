{
 "cells": [
  {
   "cell_type": "markdown",
   "id": "c34176dd",
   "metadata": {
    "papermill": {
     "duration": 0.005905,
     "end_time": "2023-07-14T06:07:56.211285",
     "exception": false,
     "start_time": "2023-07-14T06:07:56.205380",
     "status": "completed"
    },
    "tags": []
   },
   "source": [
    "## Optimizing the model parameters\n",
    "\n",
    "Now that we have a model and it's time to train, validate and test our model by optimizing its parameters on your data. Training a model is an iterative process; in each iteration (called an *epoch*). The model makes a guess about the output, calculates the error in its guess(*loss*), collects the derivatives of the error with respect to its parameters (as we saw in the previous module), and **optimizes** these parameters using gradient descent.\n",
    "\n",
    "### Prerequisite code\n",
    "\n",
    "We will load the code from the previous articles [**Datasets & DataLoaders**](https://www.kaggle.com/code/aisuko/loading-and-normalizing-datasets) and [**Build Model**](https://www.kaggle.com/code/aisuko/building-the-model-layers)."
   ]
  },
  {
   "cell_type": "code",
   "execution_count": 1,
   "id": "3500d154",
   "metadata": {
    "execution": {
     "iopub.execute_input": "2023-07-14T06:07:56.224103Z",
     "iopub.status.busy": "2023-07-14T06:07:56.223647Z",
     "iopub.status.idle": "2023-07-14T06:08:08.344013Z",
     "shell.execute_reply": "2023-07-14T06:08:08.342769Z"
    },
    "papermill": {
     "duration": 12.130353,
     "end_time": "2023-07-14T06:08:08.347195",
     "exception": false,
     "start_time": "2023-07-14T06:07:56.216842",
     "status": "completed"
    },
    "tags": []
   },
   "outputs": [
    {
     "name": "stdout",
     "output_type": "stream",
     "text": [
      "Looking in indexes: https://download.pytorch.org/whl/cu118\r\n",
      "Requirement already satisfied: torch in /opt/conda/lib/python3.10/site-packages (2.0.0)\r\n",
      "Requirement already satisfied: torchvision in /opt/conda/lib/python3.10/site-packages (0.15.1)\r\n",
      "Requirement already satisfied: torchaudio in /opt/conda/lib/python3.10/site-packages (2.0.1)\r\n",
      "Requirement already satisfied: filelock in /opt/conda/lib/python3.10/site-packages (from torch) (3.12.2)\r\n",
      "Requirement already satisfied: typing-extensions in /opt/conda/lib/python3.10/site-packages (from torch) (4.6.3)\r\n",
      "Requirement already satisfied: sympy in /opt/conda/lib/python3.10/site-packages (from torch) (1.12)\r\n",
      "Requirement already satisfied: networkx in /opt/conda/lib/python3.10/site-packages (from torch) (3.1)\r\n",
      "Requirement already satisfied: jinja2 in /opt/conda/lib/python3.10/site-packages (from torch) (3.1.2)\r\n",
      "Requirement already satisfied: numpy in /opt/conda/lib/python3.10/site-packages (from torchvision) (1.23.5)\r\n",
      "Requirement already satisfied: requests in /opt/conda/lib/python3.10/site-packages (from torchvision) (2.31.0)\r\n",
      "Requirement already satisfied: pillow!=8.3.*,>=5.3.0 in /opt/conda/lib/python3.10/site-packages (from torchvision) (9.5.0)\r\n",
      "Requirement already satisfied: MarkupSafe>=2.0 in /opt/conda/lib/python3.10/site-packages (from jinja2->torch) (2.1.3)\r\n",
      "Requirement already satisfied: charset-normalizer<4,>=2 in /opt/conda/lib/python3.10/site-packages (from requests->torchvision) (3.1.0)\r\n",
      "Requirement already satisfied: idna<4,>=2.5 in /opt/conda/lib/python3.10/site-packages (from requests->torchvision) (3.4)\r\n",
      "Requirement already satisfied: urllib3<3,>=1.21.1 in /opt/conda/lib/python3.10/site-packages (from requests->torchvision) (1.26.15)\r\n",
      "Requirement already satisfied: certifi>=2017.4.17 in /opt/conda/lib/python3.10/site-packages (from requests->torchvision) (2023.5.7)\r\n",
      "Requirement already satisfied: mpmath>=0.19 in /opt/conda/lib/python3.10/site-packages (from sympy->torch) (1.3.0)\r\n",
      "Note: you may need to restart the kernel to use updated packages.\n"
     ]
    }
   ],
   "source": [
    "pip install torch torchvision torchaudio --index-url https://download.pytorch.org/whl/cu118"
   ]
  },
  {
   "cell_type": "code",
   "execution_count": 2,
   "id": "1968a81c",
   "metadata": {
    "execution": {
     "iopub.execute_input": "2023-07-14T06:08:08.365167Z",
     "iopub.status.busy": "2023-07-14T06:08:08.364770Z",
     "iopub.status.idle": "2023-07-14T06:08:08.371841Z",
     "shell.execute_reply": "2023-07-14T06:08:08.370988Z"
    },
    "papermill": {
     "duration": 0.020143,
     "end_time": "2023-07-14T06:08:08.375704",
     "exception": false,
     "start_time": "2023-07-14T06:08:08.355561",
     "status": "completed"
    },
    "tags": []
   },
   "outputs": [],
   "source": [
    "# check the paltform, Apple Silicon or Linux\n",
    "import os, platform\n",
    "\n",
    "torch_device=\"cpu\"\n",
    "\n",
    "if 'kaggle' in os.environ.get('KAGGLE_URL_BASE','localhost'):\n",
    "    torch_device = 'cuda'\n",
    "else:\n",
    "    torch_device = 'mps' if platform.system() == 'Darwin' else 'cpu'"
   ]
  },
  {
   "cell_type": "code",
   "execution_count": 3,
   "id": "843df2b5",
   "metadata": {
    "execution": {
     "iopub.execute_input": "2023-07-14T06:08:08.393168Z",
     "iopub.status.busy": "2023-07-14T06:08:08.392807Z",
     "iopub.status.idle": "2023-07-14T06:08:08.397408Z",
     "shell.execute_reply": "2023-07-14T06:08:08.396555Z"
    },
    "papermill": {
     "duration": 0.018337,
     "end_time": "2023-07-14T06:08:08.402175",
     "exception": false,
     "start_time": "2023-07-14T06:08:08.383838",
     "status": "completed"
    },
    "tags": []
   },
   "outputs": [],
   "source": [
    "os.environ['PYTORCH_ENABLE_MPS_FALLBACK'] = '1'"
   ]
  },
  {
   "cell_type": "code",
   "execution_count": 4,
   "id": "41564da1",
   "metadata": {
    "execution": {
     "iopub.execute_input": "2023-07-14T06:08:08.422605Z",
     "iopub.status.busy": "2023-07-14T06:08:08.422267Z",
     "iopub.status.idle": "2023-07-14T06:08:08.433422Z",
     "shell.execute_reply": "2023-07-14T06:08:08.432508Z"
    },
    "papermill": {
     "duration": 0.023349,
     "end_time": "2023-07-14T06:08:08.436080",
     "exception": false,
     "start_time": "2023-07-14T06:08:08.412731",
     "status": "completed"
    },
    "tags": []
   },
   "outputs": [
    {
     "data": {
      "text/plain": [
       "'cuda'"
      ]
     },
     "execution_count": 4,
     "metadata": {},
     "output_type": "execute_result"
    }
   ],
   "source": [
    "torch_device"
   ]
  },
  {
   "cell_type": "code",
   "execution_count": 5,
   "id": "b12a1e2b",
   "metadata": {
    "execution": {
     "iopub.execute_input": "2023-07-14T06:08:08.451468Z",
     "iopub.status.busy": "2023-07-14T06:08:08.451082Z",
     "iopub.status.idle": "2023-07-14T06:08:21.793411Z",
     "shell.execute_reply": "2023-07-14T06:08:21.792407Z"
    },
    "papermill": {
     "duration": 13.352858,
     "end_time": "2023-07-14T06:08:21.795822",
     "exception": false,
     "start_time": "2023-07-14T06:08:08.442964",
     "status": "completed"
    },
    "tags": []
   },
   "outputs": [
    {
     "name": "stdout",
     "output_type": "stream",
     "text": [
      "Downloading http://fashion-mnist.s3-website.eu-central-1.amazonaws.com/train-images-idx3-ubyte.gz\n",
      "Downloading http://fashion-mnist.s3-website.eu-central-1.amazonaws.com/train-images-idx3-ubyte.gz to data/FashionMNIST/raw/train-images-idx3-ubyte.gz\n"
     ]
    },
    {
     "name": "stderr",
     "output_type": "stream",
     "text": [
      "100%|██████████| 26421880/26421880 [00:02<00:00, 12481805.70it/s]\n"
     ]
    },
    {
     "name": "stdout",
     "output_type": "stream",
     "text": [
      "Extracting data/FashionMNIST/raw/train-images-idx3-ubyte.gz to data/FashionMNIST/raw\n",
      "\n",
      "Downloading http://fashion-mnist.s3-website.eu-central-1.amazonaws.com/train-labels-idx1-ubyte.gz\n",
      "Downloading http://fashion-mnist.s3-website.eu-central-1.amazonaws.com/train-labels-idx1-ubyte.gz to data/FashionMNIST/raw/train-labels-idx1-ubyte.gz\n"
     ]
    },
    {
     "name": "stderr",
     "output_type": "stream",
     "text": [
      "100%|██████████| 29515/29515 [00:00<00:00, 210804.40it/s]\n"
     ]
    },
    {
     "name": "stdout",
     "output_type": "stream",
     "text": [
      "Extracting data/FashionMNIST/raw/train-labels-idx1-ubyte.gz to data/FashionMNIST/raw\n",
      "\n",
      "Downloading http://fashion-mnist.s3-website.eu-central-1.amazonaws.com/t10k-images-idx3-ubyte.gz\n",
      "Downloading http://fashion-mnist.s3-website.eu-central-1.amazonaws.com/t10k-images-idx3-ubyte.gz to data/FashionMNIST/raw/t10k-images-idx3-ubyte.gz\n"
     ]
    },
    {
     "name": "stderr",
     "output_type": "stream",
     "text": [
      "100%|██████████| 4422102/4422102 [00:01<00:00, 3894761.31it/s]\n"
     ]
    },
    {
     "name": "stdout",
     "output_type": "stream",
     "text": [
      "Extracting data/FashionMNIST/raw/t10k-images-idx3-ubyte.gz to data/FashionMNIST/raw\n",
      "\n",
      "Downloading http://fashion-mnist.s3-website.eu-central-1.amazonaws.com/t10k-labels-idx1-ubyte.gz\n",
      "Downloading http://fashion-mnist.s3-website.eu-central-1.amazonaws.com/t10k-labels-idx1-ubyte.gz to data/FashionMNIST/raw/t10k-labels-idx1-ubyte.gz\n"
     ]
    },
    {
     "name": "stderr",
     "output_type": "stream",
     "text": [
      "100%|██████████| 5148/5148 [00:00<00:00, 7381975.04it/s]\n"
     ]
    },
    {
     "name": "stdout",
     "output_type": "stream",
     "text": [
      "Extracting data/FashionMNIST/raw/t10k-labels-idx1-ubyte.gz to data/FashionMNIST/raw\n",
      "\n"
     ]
    }
   ],
   "source": [
    "%matplotlib inline\n",
    "import torch\n",
    "from torch import nn\n",
    "from torch.utils.data import DataLoader\n",
    "from torchvision import datasets\n",
    "from torchvision.transforms import ToTensor, Lambda\n",
    "\n",
    "training_data = datasets.FashionMNIST(\n",
    "    root=\"data\",\n",
    "    train=True,\n",
    "    download=True,\n",
    "    transform=ToTensor(),\n",
    ")\n",
    "\n",
    "test_data = datasets.FashionMNIST(\n",
    "    root=\"data\",\n",
    "    train=False,\n",
    "    download=True,\n",
    "    transform=ToTensor(),\n",
    ")\n",
    "\n",
    "train_dataloader = DataLoader(training_data, batch_size=64)\n",
    "test_dataloader = DataLoader(test_data, batch_size=64)\n",
    "\n",
    "class NeuralNetwork(nn.Module):\n",
    "    def __init__(self):\n",
    "        super(NeuralNetwork, self).__init__()\n",
    "        self.flatten = nn.Flatten()\n",
    "        self.linear_relu_stack = nn.Sequential(\n",
    "            nn.Linear(28*28, 512),\n",
    "            nn.ReLU(),\n",
    "            nn.Linear(512, 512),\n",
    "            nn.ReLU(),\n",
    "            nn.Linear(512, 10),\n",
    "            nn.ReLU()\n",
    "        )\n",
    "    def forward(self, x):\n",
    "        x = self.flatten(x)\n",
    "        logits = self.linear_relu_stack(x)\n",
    "        return logits\n",
    "\n",
    "model = NeuralNetwork().to(torch_device)"
   ]
  },
  {
   "cell_type": "markdown",
   "id": "7fe5adb1",
   "metadata": {
    "papermill": {
     "duration": 0.008894,
     "end_time": "2023-07-14T06:08:21.814297",
     "exception": false,
     "start_time": "2023-07-14T06:08:21.805403",
     "status": "completed"
    },
    "tags": []
   },
   "source": [
    "### Setting hyperparameters\n",
    "\n",
    "Hyperparameters are adjustable parameters that let you control the model optimization peocess. Different hyperparameter values can impact model training and the level of accuracy.\n",
    "\n",
    "We define the following hyperparameters for training:\n",
    "* **Number of Epochs** - the number times the entire training dataset is pass through the network.\n",
    "* **Batch Size** - the number of data samples seen by the model in each epoch. Iterates are the number of batches needs to complete an epoch.\n",
    "* **Learning Rate** - the size of steps the model match as it searchs for best weights that will produce a higher model accuracy. Smaller values mean the model will take a longer time to find the best weights, while larger values may result in the model step over and misses the best weights which yields unpredictable behavior during training.\n"
   ]
  },
  {
   "cell_type": "code",
   "execution_count": 6,
   "id": "77a71867",
   "metadata": {
    "execution": {
     "iopub.execute_input": "2023-07-14T06:08:21.834022Z",
     "iopub.status.busy": "2023-07-14T06:08:21.833462Z",
     "iopub.status.idle": "2023-07-14T06:08:21.838212Z",
     "shell.execute_reply": "2023-07-14T06:08:21.837216Z"
    },
    "papermill": {
     "duration": 0.017203,
     "end_time": "2023-07-14T06:08:21.840622",
     "exception": false,
     "start_time": "2023-07-14T06:08:21.823419",
     "status": "completed"
    },
    "tags": []
   },
   "outputs": [],
   "source": [
    "learning_rate = 1e-3\n",
    "batch_size = 64\n",
    "epochs = 5"
   ]
  },
  {
   "cell_type": "markdown",
   "id": "0490a352",
   "metadata": {
    "papermill": {
     "duration": 0.008816,
     "end_time": "2023-07-14T06:08:21.858667",
     "exception": false,
     "start_time": "2023-07-14T06:08:21.849851",
     "status": "completed"
    },
    "tags": []
   },
   "source": [
    "### Add an optimization loop\n",
    "\n",
    "Once we set our hyperparameters, we can then train and optimize our model with an optimization loop. Each iteration of the optimization loop is called an **epoch**.\n",
    "\n",
    "Each epoch consists of two main parts:\n",
    "* **The Train Loop** - iterate over the training dataset and try to converge to optimal parameters.\n",
    "* **The Validation/Test Loop** - iterate over the best dataset to check if model performance is improving.\n",
    "\n",
    "Let's briefly familiarize ourselves with some of the concepts used in the training loop."
   ]
  },
  {
   "cell_type": "markdown",
   "id": "cc3ac8e8",
   "metadata": {
    "papermill": {
     "duration": 0.008803,
     "end_time": "2023-07-14T06:08:21.876556",
     "exception": false,
     "start_time": "2023-07-14T06:08:21.867753",
     "status": "completed"
    },
    "tags": []
   },
   "source": [
    "### Add a loss function\n",
    "\n",
    "When presented with some training data, our untrained network is likely not to give the correct answer. **Loss function** measures the degree of dissimilarity of obtained result to the target value, and it is the loss function that we want to minimize during training. To calculate the loss we make a prediction using the inputs of our given data sample and compare it against the true data label value.\n",
    "\n",
    "Common loss functions include:\n",
    "* `nn.MSELoss` (Mean Square Error) used for regression tasks\n",
    "* `nn.NLLLoss` (Negative Log Likelihood) used for classification\n",
    "* `nn.CrossEntropyLoss` combines `nn.LogSoftmax` and `nn.NLLLoss`\n",
    "\n",
    "We pass our model's output logits to `nn.CrossEntropyLoss`, which will normalize the logits and compute the prediction error."
   ]
  },
  {
   "cell_type": "code",
   "execution_count": 7,
   "id": "6a84d400",
   "metadata": {
    "execution": {
     "iopub.execute_input": "2023-07-14T06:08:21.895745Z",
     "iopub.status.busy": "2023-07-14T06:08:21.895467Z",
     "iopub.status.idle": "2023-07-14T06:08:21.899575Z",
     "shell.execute_reply": "2023-07-14T06:08:21.898702Z"
    },
    "papermill": {
     "duration": 0.016005,
     "end_time": "2023-07-14T06:08:21.901546",
     "exception": false,
     "start_time": "2023-07-14T06:08:21.885541",
     "status": "completed"
    },
    "tags": []
   },
   "outputs": [],
   "source": [
    "# Initialize the loss function\n",
    "loss_fn = nn.CrossEntropyLoss()"
   ]
  },
  {
   "cell_type": "markdown",
   "id": "0c217bbf",
   "metadata": {
    "papermill": {
     "duration": 0.008842,
     "end_time": "2023-07-14T06:08:21.919384",
     "exception": false,
     "start_time": "2023-07-14T06:08:21.910542",
     "status": "completed"
    },
    "tags": []
   },
   "source": [
    "### Optimization pass\n",
    "\n",
    "Optimization is the process of adjusting model parameters to reduce model error in each training step. **Optimization algorithms** define how this process is performed (in this example we use Stochastic Gradient Descent). All optimization logic is encapsulated in the `optimizer` object. Here, we use the SGD optimizer; additionally, there are many different optimizers available in PyTorch such as `ADAM and RMSProp`, that work better for different kinds of models and data.\n",
    "\n",
    "We initialize the optimizer by registering the model's parameters that need to be trained, and passing in the learning rate hyperparameter."
   ]
  },
  {
   "cell_type": "code",
   "execution_count": 8,
   "id": "8bdaf14d",
   "metadata": {
    "execution": {
     "iopub.execute_input": "2023-07-14T06:08:21.939059Z",
     "iopub.status.busy": "2023-07-14T06:08:21.938328Z",
     "iopub.status.idle": "2023-07-14T06:08:21.943187Z",
     "shell.execute_reply": "2023-07-14T06:08:21.942331Z"
    },
    "papermill": {
     "duration": 0.016945,
     "end_time": "2023-07-14T06:08:21.945325",
     "exception": false,
     "start_time": "2023-07-14T06:08:21.928380",
     "status": "completed"
    },
    "tags": []
   },
   "outputs": [],
   "source": [
    "optimizer = torch.optim.SGD(model.parameters(), lr=learning_rate)"
   ]
  },
  {
   "cell_type": "markdown",
   "id": "65d55442",
   "metadata": {
    "papermill": {
     "duration": 0.008834,
     "end_time": "2023-07-14T06:08:21.963214",
     "exception": false,
     "start_time": "2023-07-14T06:08:21.954380",
     "status": "completed"
    },
    "tags": []
   },
   "source": [
    "Inside the training loop, optimization happens in three steps:\n",
    "* Call `optimizer.zero_grad()` to reset the gradients of model parameters. Gradients by default add up; to prevent double-counting, we explicitly zero them at each iteration.\n",
    "* Back-propagate the prediction loss with a call to `loss.backwards()`. PyTorch deposits the gradients of the loss w.r.t each parameter.\n",
    "* Once we have our gradients, we call `optimizer.step()` to adjust the parameters by the gradients collected in the backward pass."
   ]
  },
  {
   "cell_type": "markdown",
   "id": "ff331d42",
   "metadata": {
    "papermill": {
     "duration": 0.008941,
     "end_time": "2023-07-14T06:08:21.981434",
     "exception": false,
     "start_time": "2023-07-14T06:08:21.972493",
     "status": "completed"
    },
    "tags": []
   },
   "source": [
    "### Full implementation\n",
    "\n",
    "We define `train_loop` that loops over our optimization code, and `test_loop` that evaluates the model's performance against out test data."
   ]
  },
  {
   "cell_type": "code",
   "execution_count": 9,
   "id": "560711cd",
   "metadata": {
    "execution": {
     "iopub.execute_input": "2023-07-14T06:08:22.000823Z",
     "iopub.status.busy": "2023-07-14T06:08:22.000544Z",
     "iopub.status.idle": "2023-07-14T06:08:22.009945Z",
     "shell.execute_reply": "2023-07-14T06:08:22.009073Z"
    },
    "papermill": {
     "duration": 0.021384,
     "end_time": "2023-07-14T06:08:22.011878",
     "exception": false,
     "start_time": "2023-07-14T06:08:21.990494",
     "status": "completed"
    },
    "tags": []
   },
   "outputs": [],
   "source": [
    "def train_loop(dataloader, model, loss_fn, optimizer):\n",
    "    size = len(dataloader.dataset)\n",
    "    for batch, (X, y) in enumerate(dataloader):\n",
    "        # Compute prediction and loss\n",
    "        # X input tensor\n",
    "        # y is a tensor of target labels\n",
    "        X, y = X.to(torch_device), y.to(torch_device)\n",
    "        pred = model (X)\n",
    "        loss = loss_fn(pred, y)\n",
    "\n",
    "        # Backpropagation\n",
    "        optimizer.zero_grad()\n",
    "        loss.backward()\n",
    "        optimizer.step()\n",
    "        \n",
    "        if batch % 100 ==0:\n",
    "            loss, current = loss.item(), batch * len(X)\n",
    "            print(f\"loss: {loss:>7f} [{current:>5d}/{size:>5d}]\")\n",
    "\n",
    "def test_loop(dataloader, model, loss_fn):\n",
    "    size = len(dataloader.dataset)\n",
    "    test_loss, correct = 0,0\n",
    "\n",
    "    with torch.no_grad():\n",
    "        for X,y in dataloader:\n",
    "            X, y = X.to(torch_device), y.to(torch_device)\n",
    "            pred = model(X)\n",
    "            test_loss += loss_fn(pred, y).item()\n",
    "            correct += (pred.argmax(1)==y).type(torch.float).sum().item()\n",
    "    test_loss /= size\n",
    "    correct /= size\n",
    "    print(f\"Test Error: \\n Accuracy: {(100*correct):>0.1f}%, Avg loss: {test_loss:>8f} \\n\")"
   ]
  },
  {
   "cell_type": "markdown",
   "id": "32343250",
   "metadata": {
    "papermill": {
     "duration": 0.008936,
     "end_time": "2023-07-14T06:08:22.029800",
     "exception": false,
     "start_time": "2023-07-14T06:08:22.020864",
     "status": "completed"
    },
    "tags": []
   },
   "source": [
    "We initialize the loss function and optimizer, and pass it to `train_loop` and `test_loop`. Feel free to increase the number of epochs to track the model's improving performance."
   ]
  },
  {
   "cell_type": "code",
   "execution_count": 10,
   "id": "138132f0",
   "metadata": {
    "execution": {
     "iopub.execute_input": "2023-07-14T06:08:22.049891Z",
     "iopub.status.busy": "2023-07-14T06:08:22.049076Z",
     "iopub.status.idle": "2023-07-14T06:09:48.486531Z",
     "shell.execute_reply": "2023-07-14T06:09:48.485484Z"
    },
    "papermill": {
     "duration": 86.449691,
     "end_time": "2023-07-14T06:09:48.488876",
     "exception": false,
     "start_time": "2023-07-14T06:08:22.039185",
     "status": "completed"
    },
    "tags": []
   },
   "outputs": [
    {
     "name": "stdout",
     "output_type": "stream",
     "text": [
      "Epoch 1\n",
      "-------------------------------\n",
      "loss: 2.295845 [    0/60000]\n",
      "loss: 2.287287 [ 6400/60000]\n",
      "loss: 2.264145 [12800/60000]\n",
      "loss: 2.258263 [19200/60000]\n",
      "loss: 2.253206 [25600/60000]\n",
      "loss: 2.217708 [32000/60000]\n",
      "loss: 2.228475 [38400/60000]\n",
      "loss: 2.195156 [44800/60000]\n",
      "loss: 2.205586 [51200/60000]\n",
      "loss: 2.166601 [57600/60000]\n",
      "Test Error: \n",
      " Accuracy: 45.2%, Avg loss: 0.034044 \n",
      "\n",
      "Epoch 2\n",
      "-------------------------------\n",
      "loss: 2.190785 [    0/60000]\n",
      "loss: 2.179777 [ 6400/60000]\n",
      "loss: 2.121516 [12800/60000]\n",
      "loss: 2.126018 [19200/60000]\n",
      "loss: 2.093895 [25600/60000]\n",
      "loss: 2.033543 [32000/60000]\n",
      "loss: 2.058730 [38400/60000]\n",
      "loss: 1.988379 [44800/60000]\n",
      "loss: 2.026196 [51200/60000]\n",
      "loss: 1.928759 [57600/60000]\n",
      "Test Error: \n",
      " Accuracy: 56.9%, Avg loss: 0.030517 \n",
      "\n",
      "Epoch 3\n",
      "-------------------------------\n",
      "loss: 1.992478 [    0/60000]\n",
      "loss: 1.960449 [ 6400/60000]\n",
      "loss: 1.847628 [12800/60000]\n",
      "loss: 1.877621 [19200/60000]\n",
      "loss: 1.812933 [25600/60000]\n",
      "loss: 1.727343 [32000/60000]\n",
      "loss: 1.765767 [38400/60000]\n",
      "loss: 1.655001 [44800/60000]\n",
      "loss: 1.738751 [51200/60000]\n",
      "loss: 1.591776 [57600/60000]\n",
      "Test Error: \n",
      " Accuracy: 62.2%, Avg loss: 0.025524 \n",
      "\n",
      "Epoch 4\n",
      "-------------------------------\n",
      "loss: 1.707525 [    0/60000]\n",
      "loss: 1.662410 [ 6400/60000]\n",
      "loss: 1.500269 [12800/60000]\n",
      "loss: 1.563887 [19200/60000]\n",
      "loss: 1.495250 [25600/60000]\n",
      "loss: 1.417386 [32000/60000]\n",
      "loss: 1.454856 [38400/60000]\n",
      "loss: 1.343594 [44800/60000]\n",
      "loss: 1.426639 [51200/60000]\n",
      "loss: 1.286612 [57600/60000]\n",
      "Test Error: \n",
      " Accuracy: 63.8%, Avg loss: 0.020790 \n",
      "\n",
      "Epoch 5\n",
      "-------------------------------\n",
      "loss: 1.412403 [    0/60000]\n",
      "loss: 1.386775 [ 6400/60000]\n",
      "loss: 1.199002 [12800/60000]\n",
      "loss: 1.304125 [19200/60000]\n",
      "loss: 1.200676 [25600/60000]\n",
      "loss: 1.184393 [32000/60000]\n",
      "loss: 1.220766 [38400/60000]\n",
      "loss: 1.128866 [44800/60000]\n",
      "loss: 1.198299 [51200/60000]\n",
      "loss: 1.094331 [57600/60000]\n",
      "Test Error: \n",
      " Accuracy: 64.7%, Avg loss: 0.017629 \n",
      "\n",
      "Epoch 6\n",
      "-------------------------------\n",
      "loss: 1.199708 [    0/60000]\n",
      "loss: 1.203860 [ 6400/60000]\n",
      "loss: 1.000768 [12800/60000]\n",
      "loss: 1.139319 [19200/60000]\n",
      "loss: 1.019045 [25600/60000]\n",
      "loss: 1.032536 [32000/60000]\n",
      "loss: 1.080014 [38400/60000]\n",
      "loss: 0.999004 [44800/60000]\n",
      "loss: 1.061457 [51200/60000]\n",
      "loss: 0.982623 [57600/60000]\n",
      "Test Error: \n",
      " Accuracy: 65.3%, Avg loss: 0.015721 \n",
      "\n",
      "Epoch 7\n",
      "-------------------------------\n",
      "loss: 1.064256 [    0/60000]\n",
      "loss: 1.093001 [ 6400/60000]\n",
      "loss: 0.874813 [12800/60000]\n",
      "loss: 1.035121 [19200/60000]\n",
      "loss: 0.914820 [25600/60000]\n",
      "loss: 0.931000 [32000/60000]\n",
      "loss: 0.994114 [38400/60000]\n",
      "loss: 0.918662 [44800/60000]\n",
      "loss: 0.974380 [51200/60000]\n",
      "loss: 0.912300 [57600/60000]\n",
      "Test Error: \n",
      " Accuracy: 66.1%, Avg loss: 0.014500 \n",
      "\n",
      "Epoch 8\n",
      "-------------------------------\n",
      "loss: 0.971404 [    0/60000]\n",
      "loss: 1.020784 [ 6400/60000]\n",
      "loss: 0.789077 [12800/60000]\n",
      "loss: 0.964484 [19200/60000]\n",
      "loss: 0.849472 [25600/60000]\n",
      "loss: 0.859119 [32000/60000]\n",
      "loss: 0.936605 [38400/60000]\n",
      "loss: 0.866565 [44800/60000]\n",
      "loss: 0.914262 [51200/60000]\n",
      "loss: 0.863674 [57600/60000]\n",
      "Test Error: \n",
      " Accuracy: 67.2%, Avg loss: 0.013655 \n",
      "\n",
      "Epoch 9\n",
      "-------------------------------\n",
      "loss: 0.902636 [    0/60000]\n",
      "loss: 0.968691 [ 6400/60000]\n",
      "loss: 0.726711 [12800/60000]\n",
      "loss: 0.913571 [19200/60000]\n",
      "loss: 0.804907 [25600/60000]\n",
      "loss: 0.805950 [32000/60000]\n",
      "loss: 0.894476 [38400/60000]\n",
      "loss: 0.830994 [44800/60000]\n",
      "loss: 0.870409 [51200/60000]\n",
      "loss: 0.827438 [57600/60000]\n",
      "Test Error: \n",
      " Accuracy: 68.3%, Avg loss: 0.013028 \n",
      "\n",
      "Epoch 10\n",
      "-------------------------------\n",
      "loss: 0.849216 [    0/60000]\n",
      "loss: 0.927265 [ 6400/60000]\n",
      "loss: 0.678995 [12800/60000]\n",
      "loss: 0.874735 [19200/60000]\n",
      "loss: 0.771844 [25600/60000]\n",
      "loss: 0.765559 [32000/60000]\n",
      "loss: 0.861302 [38400/60000]\n",
      "loss: 0.805214 [44800/60000]\n",
      "loss: 0.837124 [51200/60000]\n",
      "loss: 0.798662 [57600/60000]\n",
      "Test Error: \n",
      " Accuracy: 69.3%, Avg loss: 0.012537 \n",
      "\n",
      "Done!\n"
     ]
    }
   ],
   "source": [
    "loss_fn = nn.CrossEntropyLoss()\n",
    "optimizer = torch.optim.SGD(model.parameters(), lr=learning_rate)\n",
    "\n",
    "epochs = 10\n",
    "for t in range(epochs):\n",
    "    print(f\"Epoch {t+1}\\n-------------------------------\")\n",
    "    train_loop(train_dataloader, model, loss_fn, optimizer)\n",
    "    test_loop(test_dataloader, model, loss_fn)\n",
    "print(\"Done!\")"
   ]
  },
  {
   "cell_type": "markdown",
   "id": "94184c8d",
   "metadata": {
    "papermill": {
     "duration": 0.016202,
     "end_time": "2023-07-14T06:09:48.521858",
     "exception": false,
     "start_time": "2023-07-14T06:09:48.505656",
     "status": "completed"
    },
    "tags": []
   },
   "source": [
    "Try running the loop for more `epochs` or adjusting the `learning_rate` to a bigger number. It might also be the case that the model configuration we choise might not be the optimal one for this kind of problem (it isn't)."
   ]
  },
  {
   "cell_type": "markdown",
   "id": "bba0a545",
   "metadata": {
    "papermill": {
     "duration": 0.016136,
     "end_time": "2023-07-14T06:09:48.554287",
     "exception": false,
     "start_time": "2023-07-14T06:09:48.538151",
     "status": "completed"
    },
    "tags": []
   },
   "source": [
    "### Saving models\n",
    "\n",
    "When you are satisfied with the model's performance, you can use `torch.save` to save it. PyTorch models store the learned parameters in an internal state dictionary, called `state_dict`. These can be persisted with the `torch.save` method:\n"
   ]
  },
  {
   "cell_type": "code",
   "execution_count": 11,
   "id": "9d1fd435",
   "metadata": {
    "execution": {
     "iopub.execute_input": "2023-07-14T06:09:48.588286Z",
     "iopub.status.busy": "2023-07-14T06:09:48.587962Z",
     "iopub.status.idle": "2023-07-14T06:09:48.601034Z",
     "shell.execute_reply": "2023-07-14T06:09:48.599993Z"
    },
    "papermill": {
     "duration": 0.032946,
     "end_time": "2023-07-14T06:09:48.603451",
     "exception": false,
     "start_time": "2023-07-14T06:09:48.570505",
     "status": "completed"
    },
    "tags": []
   },
   "outputs": [
    {
     "name": "stdout",
     "output_type": "stream",
     "text": [
      "Saved PyTorch Model State to model.pth\n"
     ]
    }
   ],
   "source": [
    "torch.save(model.state_dict(), \"model.pth\")\n",
    "print(\"Saved PyTorch Model State to model.pth\")"
   ]
  }
 ],
 "metadata": {
  "kernelspec": {
   "display_name": "Python 3",
   "language": "python",
   "name": "python3"
  },
  "language_info": {
   "codemirror_mode": {
    "name": "ipython",
    "version": 3
   },
   "file_extension": ".py",
   "mimetype": "text/x-python",
   "name": "python",
   "nbconvert_exporter": "python",
   "pygments_lexer": "ipython3",
   "version": "3.10.12"
  },
  "papermill": {
   "default_parameters": {},
   "duration": 124.773956,
   "end_time": "2023-07-14T06:09:51.008008",
   "environment_variables": {},
   "exception": null,
   "input_path": "__notebook__.ipynb",
   "output_path": "__notebook__.ipynb",
   "parameters": {},
   "start_time": "2023-07-14T06:07:46.234052",
   "version": "2.4.0"
  }
 },
 "nbformat": 4,
 "nbformat_minor": 5
}
