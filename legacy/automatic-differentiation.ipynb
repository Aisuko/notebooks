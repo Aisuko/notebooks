{
 "cells": [
  {
   "cell_type": "markdown",
   "id": "e82b657d",
   "metadata": {
    "papermill": {
     "duration": 0.006423,
     "end_time": "2023-07-14T05:13:16.431524",
     "exception": false,
     "start_time": "2023-07-14T05:13:16.425101",
     "status": "completed"
    },
    "tags": []
   },
   "source": [
    "### Automatic differentiation with `torch.autograd`\n",
    "\n",
    "When training neural networks, the most frequently used algorithm is `back propagation`. In this algorithm, parameters (model weights) are adjusted to according to the `gradient` of the loss function with respect of the given parameter. `The loss function calculates the difference between the expected output and the actual output that a neural network produces`. **The goal is to get the result of the loss function as close to zero as possible**. The algorithm traverse backwards through the network to adjust weights and bias to retrain the model. That's why it's called back propagation. This back and forward process of retraining the model over time to reduce the loss to 0 is called the `gradient descent`.\n",
    "\n",
    "To compute those gradients, PyTorch has a built-in differentiation engine called `torch.autograd`. It supports automatic computation of gradient for any computational graph.\n",
    "\n",
    "Consider the simplest one-layer neural network, with input `x` and `b`, and some loss function. It can be defined in PyTorch in the following manner:"
   ]
  },
  {
   "cell_type": "code",
   "execution_count": 1,
   "id": "7a882dbe",
   "metadata": {
    "execution": {
     "iopub.execute_input": "2023-07-14T05:13:16.445652Z",
     "iopub.status.busy": "2023-07-14T05:13:16.445154Z",
     "iopub.status.idle": "2023-07-14T05:13:32.603809Z",
     "shell.execute_reply": "2023-07-14T05:13:32.601459Z"
    },
    "papermill": {
     "duration": 16.169822,
     "end_time": "2023-07-14T05:13:32.607515",
     "exception": false,
     "start_time": "2023-07-14T05:13:16.437693",
     "status": "completed"
    },
    "tags": []
   },
   "outputs": [
    {
     "name": "stdout",
     "output_type": "stream",
     "text": [
      "Looking in indexes: https://download.pytorch.org/whl/cu118\r\n",
      "Requirement already satisfied: torch in /opt/conda/lib/python3.10/site-packages (2.0.0+cpu)\r\n",
      "Requirement already satisfied: torchvision in /opt/conda/lib/python3.10/site-packages (0.15.1+cpu)\r\n",
      "Requirement already satisfied: torchaudio in /opt/conda/lib/python3.10/site-packages (2.0.1+cpu)\r\n",
      "Requirement already satisfied: filelock in /opt/conda/lib/python3.10/site-packages (from torch) (3.12.2)\r\n",
      "Requirement already satisfied: typing-extensions in /opt/conda/lib/python3.10/site-packages (from torch) (4.6.3)\r\n",
      "Requirement already satisfied: sympy in /opt/conda/lib/python3.10/site-packages (from torch) (1.12)\r\n",
      "Requirement already satisfied: networkx in /opt/conda/lib/python3.10/site-packages (from torch) (3.1)\r\n",
      "Requirement already satisfied: jinja2 in /opt/conda/lib/python3.10/site-packages (from torch) (3.1.2)\r\n",
      "Requirement already satisfied: numpy in /opt/conda/lib/python3.10/site-packages (from torchvision) (1.23.5)\r\n",
      "Requirement already satisfied: requests in /opt/conda/lib/python3.10/site-packages (from torchvision) (2.31.0)\r\n",
      "Requirement already satisfied: pillow!=8.3.*,>=5.3.0 in /opt/conda/lib/python3.10/site-packages (from torchvision) (9.5.0)\r\n",
      "Requirement already satisfied: MarkupSafe>=2.0 in /opt/conda/lib/python3.10/site-packages (from jinja2->torch) (2.1.3)\r\n",
      "Requirement already satisfied: charset-normalizer<4,>=2 in /opt/conda/lib/python3.10/site-packages (from requests->torchvision) (3.1.0)\r\n",
      "Requirement already satisfied: idna<4,>=2.5 in /opt/conda/lib/python3.10/site-packages (from requests->torchvision) (3.4)\r\n",
      "Requirement already satisfied: urllib3<3,>=1.21.1 in /opt/conda/lib/python3.10/site-packages (from requests->torchvision) (1.26.15)\r\n",
      "Requirement already satisfied: certifi>=2017.4.17 in /opt/conda/lib/python3.10/site-packages (from requests->torchvision) (2023.5.7)\r\n",
      "Requirement already satisfied: mpmath>=0.19 in /opt/conda/lib/python3.10/site-packages (from sympy->torch) (1.3.0)\r\n",
      "Note: you may need to restart the kernel to use updated packages.\n"
     ]
    }
   ],
   "source": [
    "pip install torch torchvision torchaudio --index-url https://download.pytorch.org/whl/cu118"
   ]
  },
  {
   "cell_type": "code",
   "execution_count": 2,
   "id": "5a8bcfa4",
   "metadata": {
    "execution": {
     "iopub.execute_input": "2023-07-14T05:13:32.624211Z",
     "iopub.status.busy": "2023-07-14T05:13:32.623693Z",
     "iopub.status.idle": "2023-07-14T05:13:37.142289Z",
     "shell.execute_reply": "2023-07-14T05:13:37.140722Z"
    },
    "papermill": {
     "duration": 4.530851,
     "end_time": "2023-07-14T05:13:37.145314",
     "exception": false,
     "start_time": "2023-07-14T05:13:32.614463",
     "status": "completed"
    },
    "tags": []
   },
   "outputs": [],
   "source": [
    "%matplotlib inline\n",
    "import torch\n",
    "\n",
    "x = torch.ones(5)\n",
    "y = torch.zeros(3)\n",
    "w = torch.randn(5,3,requires_grad=True)\n",
    "b = torch.randn(3,requires_grad=True)\n",
    "z = torch.matmul(x,w)+b\n",
    "loss = torch.nn.functional.binary_cross_entropy_with_logits(z,y)"
   ]
  },
  {
   "cell_type": "markdown",
   "id": "2e13305c",
   "metadata": {
    "papermill": {
     "duration": 0.006364,
     "end_time": "2023-07-14T05:13:37.158409",
     "exception": false,
     "start_time": "2023-07-14T05:13:37.152045",
     "status": "completed"
    },
    "tags": []
   },
   "source": [
    "### Tensors, Functions and Computational graph\n",
    "This code defines the following `computational graph`:\n",
    "\n",
    "In this network, `w` and `b` are **parameters**, which we need to optimize. Thus, we need to be able to compute the gradients of loss function with respect to those variables. In order to do that, we set the `requires_grad` property of those tensors.\n",
    "\n",
    "> **NOTE**: You can set the value of `requires_grad` when creating a tensor, or later by using `x.requires_grad_(True)` method.\n",
    "\n",
    "A function that we apply to tensors to construct computational graph is in fact an object of class `Function`. This object knows how to compute the function in the `forward` direction, and also how to compute its derivative during the `backward propagation` step. A reference to the backward propagation function is stored in `grad_fn` property of a tensor.`"
   ]
  },
  {
   "cell_type": "code",
   "execution_count": 3,
   "id": "4f4b4014",
   "metadata": {
    "execution": {
     "iopub.execute_input": "2023-07-14T05:13:37.174220Z",
     "iopub.status.busy": "2023-07-14T05:13:37.172835Z",
     "iopub.status.idle": "2023-07-14T05:13:37.179490Z",
     "shell.execute_reply": "2023-07-14T05:13:37.178534Z"
    },
    "papermill": {
     "duration": 0.017242,
     "end_time": "2023-07-14T05:13:37.181950",
     "exception": false,
     "start_time": "2023-07-14T05:13:37.164708",
     "status": "completed"
    },
    "tags": []
   },
   "outputs": [
    {
     "name": "stdout",
     "output_type": "stream",
     "text": [
      "Gradient funciton for z = <AddBackward0 object at 0x79e140902c80>\n",
      "Gradient funciton for loss = <BinaryCrossEntropyWithLogitsBackward0 object at 0x79e140902da0>\n"
     ]
    }
   ],
   "source": [
    "print('Gradient funciton for z =',z.grad_fn)\n",
    "print('Gradient funciton for loss =',loss.grad_fn)"
   ]
  },
  {
   "cell_type": "markdown",
   "id": "b4a66b7d",
   "metadata": {
    "papermill": {
     "duration": 0.006291,
     "end_time": "2023-07-14T05:13:37.194447",
     "exception": false,
     "start_time": "2023-07-14T05:13:37.188156",
     "status": "completed"
    },
    "tags": []
   },
   "source": [
    "### Computing gradients\n",
    "\n",
    "To optimize weights of parameters in the neural network, we need to compute thr derivatives of our loss function with respect to parameters, namely, we need $\\frac{\\partial loss}{\\partial w}$ and $\\frac{\\partial loss}{\\partial b}$ under some fixed values of `x` and `y`. To compute those derivatives, we call `loss.backward()`, and then retrieve the values from `w.grad` and `b.grad`:"
   ]
  },
  {
   "cell_type": "code",
   "execution_count": 4,
   "id": "9fda6da2",
   "metadata": {
    "execution": {
     "iopub.execute_input": "2023-07-14T05:13:37.209731Z",
     "iopub.status.busy": "2023-07-14T05:13:37.208883Z",
     "iopub.status.idle": "2023-07-14T05:13:37.265909Z",
     "shell.execute_reply": "2023-07-14T05:13:37.264543Z"
    },
    "papermill": {
     "duration": 0.068244,
     "end_time": "2023-07-14T05:13:37.269014",
     "exception": false,
     "start_time": "2023-07-14T05:13:37.200770",
     "status": "completed"
    },
    "tags": []
   },
   "outputs": [
    {
     "name": "stdout",
     "output_type": "stream",
     "text": [
      "tensor([[0.0308, 0.3145, 0.0106],\n",
      "        [0.0308, 0.3145, 0.0106],\n",
      "        [0.0308, 0.3145, 0.0106],\n",
      "        [0.0308, 0.3145, 0.0106],\n",
      "        [0.0308, 0.3145, 0.0106]])\n",
      "tensor([0.0308, 0.3145, 0.0106])\n"
     ]
    }
   ],
   "source": [
    "loss.backward()\n",
    "print(w.grad)\n",
    "print(b.grad)"
   ]
  },
  {
   "cell_type": "markdown",
   "id": "5c759597",
   "metadata": {
    "papermill": {
     "duration": 0.00653,
     "end_time": "2023-07-14T05:13:37.282137",
     "exception": false,
     "start_time": "2023-07-14T05:13:37.275607",
     "status": "completed"
    },
    "tags": []
   },
   "source": [
    "> **NOTE**: We can only obtain the `grad` properties for the leaf nodes of the computational graph, which have `requires_grad` property set to `True`. For all other nodes in our graph, gradients will not be available. In additional, we can only perform gradient calculations using `backward` once on a given graph, for performance reasons. If we need to do several `backward` calls on the same graph, we need to pass `retain_graph=True` to the `backward` call."
   ]
  },
  {
   "cell_type": "markdown",
   "id": "0bec514c",
   "metadata": {
    "papermill": {
     "duration": 0.006144,
     "end_time": "2023-07-14T05:13:37.295339",
     "exception": false,
     "start_time": "2023-07-14T05:13:37.289195",
     "status": "completed"
    },
    "tags": []
   },
   "source": [
    "### Disabling gradient tracking\n",
    "\n",
    "By default, all tensors with `requires_grad=True` are tracking their computational history and support gradient computation. however there are some cases when we do not need to do that, for example, when we have trained the model and just want to apply it to some input data, i.e. we only want to do `forward` computations through the network. We can stop tracking computations by surrounding our computation code with `torch.no_grad()` block:"
   ]
  },
  {
   "cell_type": "code",
   "execution_count": 5,
   "id": "5b73b45c",
   "metadata": {
    "execution": {
     "iopub.execute_input": "2023-07-14T05:13:37.311762Z",
     "iopub.status.busy": "2023-07-14T05:13:37.310455Z",
     "iopub.status.idle": "2023-07-14T05:13:37.321514Z",
     "shell.execute_reply": "2023-07-14T05:13:37.320199Z"
    },
    "papermill": {
     "duration": 0.022419,
     "end_time": "2023-07-14T05:13:37.324387",
     "exception": false,
     "start_time": "2023-07-14T05:13:37.301968",
     "status": "completed"
    },
    "tags": []
   },
   "outputs": [
    {
     "name": "stdout",
     "output_type": "stream",
     "text": [
      "True\n",
      "False\n"
     ]
    }
   ],
   "source": [
    "z = torch.matmul(x,w)+b\n",
    "print(z.requires_grad)\n",
    "\n",
    "with torch.no_grad():\n",
    "    z = torch.matmul(x,w)+b\n",
    "print(z.requires_grad)"
   ]
  },
  {
   "cell_type": "markdown",
   "id": "d1996533",
   "metadata": {
    "papermill": {
     "duration": 0.006414,
     "end_time": "2023-07-14T05:13:37.339781",
     "exception": false,
     "start_time": "2023-07-14T05:13:37.333367",
     "status": "completed"
    },
    "tags": []
   },
   "source": [
    "Another way to achieve the same result is to use the `detach()` method on the tensor:"
   ]
  },
  {
   "cell_type": "code",
   "execution_count": 6,
   "id": "8d3a0f4a",
   "metadata": {
    "execution": {
     "iopub.execute_input": "2023-07-14T05:13:37.356024Z",
     "iopub.status.busy": "2023-07-14T05:13:37.355621Z",
     "iopub.status.idle": "2023-07-14T05:13:37.363250Z",
     "shell.execute_reply": "2023-07-14T05:13:37.361777Z"
    },
    "papermill": {
     "duration": 0.01979,
     "end_time": "2023-07-14T05:13:37.366274",
     "exception": false,
     "start_time": "2023-07-14T05:13:37.346484",
     "status": "completed"
    },
    "tags": []
   },
   "outputs": [
    {
     "name": "stdout",
     "output_type": "stream",
     "text": [
      "False\n"
     ]
    }
   ],
   "source": [
    "z = torch.matmul(x,w)+b\n",
    "z_det = z.detach()\n",
    "print(z_det.requires_grad)"
   ]
  },
  {
   "cell_type": "markdown",
   "id": "04a0ebeb",
   "metadata": {
    "papermill": {
     "duration": 0.006572,
     "end_time": "2023-07-14T05:13:37.379878",
     "exception": false,
     "start_time": "2023-07-14T05:13:37.373306",
     "status": "completed"
    },
    "tags": []
   },
   "source": [
    "There are reasons you might want to disable gradient tracking:\n",
    "* To make some parameters in your neural network at `frozen parameters`. This is a very common scenario for fine tuning a pre-trained network\n",
    "* To `speed up computations` when you are only doing forward pass, because computations on tensors that do not track gradients would be more efficient."
   ]
  },
  {
   "cell_type": "markdown",
   "id": "d9cceecf",
   "metadata": {
    "papermill": {
     "duration": 0.006466,
     "end_time": "2023-07-14T05:13:37.393695",
     "exception": false,
     "start_time": "2023-07-14T05:13:37.387229",
     "status": "completed"
    },
    "tags": []
   },
   "source": [
    "### More on Computational Graphs\n",
    "\n",
    "Conceptually, autograd keeps a record of data(tensors) and all excuted operations (along with the resulting new tensors) in a directed acyclic graph (DAG) consisting of [Function](https://pytorch.org/docs/stable/autograd.html#torch.autograd.Function) objects. In this DAG, leaves are the input tensors, roots are the output tensors. By tracing this graph from roots to leaves, you can automatically compute the gradients using the chain rule.\n",
    "\n",
    "In a forward pass, autograd does two things simutaneously:\n",
    "* run the requested operation to compute a resulting tensor\n",
    "* maintain the operations's gradient function in the DAG.\n",
    "\n",
    "The backward pass kicks off when `.backward()` is called on the DAG root. `autograd` then:\n",
    "* computes the gradients from each `.grad_fn`\n",
    "* accumulates them in the respective tensor's `.grad` attribute\n",
    "* using the chain rule, propagates all the way to the leaf tensors.\n",
    "\n",
    "#### DAGs are dynamic in PyTorch\n",
    "\n",
    "An important thing to note is that the graph is recreated from scratch; after each `.backward()` call, autograd starts populating a new graph. This is exactly what allows you to use control flow statements in your model; you can change the shape, size and operations at every iteration if needed."
   ]
  },
  {
   "cell_type": "markdown",
   "id": "66420685",
   "metadata": {
    "papermill": {
     "duration": 0.006518,
     "end_time": "2023-07-14T05:13:37.407146",
     "exception": false,
     "start_time": "2023-07-14T05:13:37.400628",
     "status": "completed"
    },
    "tags": []
   },
   "source": [
    "### Optional reading: Tensor gradients and Jacobian products\n",
    "\n",
    "In many cases, we have a scalar loss function, and we need to compute the gradient with respect to some parameters. However, there are cases when the output function is an arbirary tensor. In this case, PyTorch allows you to compute so-called Jacobian product, and not the actual gradient.\n",
    "\n",
    "For a vector function $\\vec{y}=f(\\vec{x})$, where\n",
    "$\\vec{x}=\\langle x_1,\\dots,x_n\\rangle$ and\n",
    "$\\vec{y}=\\langle y_1,\\dots,y_m\\rangle$, a gradient of\n",
    "$\\vec{y}$ with respect to $\\vec{x}$ is given by **Jacobian\n",
    "matrix**, whose element $J_{ij}$ contains $\\frac{\\partial y_{i}}{\\partial x_{j}}$.\n",
    "\n",
    "Instead of computing the Jacobian matrix itself, PyTorch allows you to compute **Jacobian Product** $v^T\\cdot J$, for a given input vector $v=(v_1 \\dots v_m)$. This is achieved by calling `backward` with $v$ as an argument. The size of $v$ should be the same as the size of the original tensor, with respect to which we want to compute the product:"
   ]
  },
  {
   "cell_type": "code",
   "execution_count": 7,
   "id": "0fbf95af",
   "metadata": {
    "execution": {
     "iopub.execute_input": "2023-07-14T05:13:37.423968Z",
     "iopub.status.busy": "2023-07-14T05:13:37.423557Z",
     "iopub.status.idle": "2023-07-14T05:13:37.439718Z",
     "shell.execute_reply": "2023-07-14T05:13:37.437613Z"
    },
    "papermill": {
     "duration": 0.028233,
     "end_time": "2023-07-14T05:13:37.442754",
     "exception": false,
     "start_time": "2023-07-14T05:13:37.414521",
     "status": "completed"
    },
    "tags": []
   },
   "outputs": [
    {
     "name": "stdout",
     "output_type": "stream",
     "text": [
      "First call\n",
      " tensor([[4., 2., 2., 2., 2.],\n",
      "        [2., 4., 2., 2., 2.],\n",
      "        [2., 2., 4., 2., 2.],\n",
      "        [2., 2., 2., 4., 2.],\n",
      "        [2., 2., 2., 2., 4.]])\n",
      "\n",
      "Second call\n",
      " tensor([[8., 4., 4., 4., 4.],\n",
      "        [4., 8., 4., 4., 4.],\n",
      "        [4., 4., 8., 4., 4.],\n",
      "        [4., 4., 4., 8., 4.],\n",
      "        [4., 4., 4., 4., 8.]])\n",
      "\n",
      "Call after zeroing gradients\n",
      " tensor([[4., 2., 2., 2., 2.],\n",
      "        [2., 4., 2., 2., 2.],\n",
      "        [2., 2., 4., 2., 2.],\n",
      "        [2., 2., 2., 4., 2.],\n",
      "        [2., 2., 2., 2., 4.]])\n"
     ]
    }
   ],
   "source": [
    "inp = torch.eye(5,requires_grad=True)\n",
    "out = (inp+1).pow(2)\n",
    "out.backward(torch.ones_like(inp),retain_graph=True)\n",
    "print('First call\\n',inp.grad)\n",
    "out.backward(torch.ones_like(inp),retain_graph=True)\n",
    "print('\\nSecond call\\n',inp.grad)\n",
    "inp.grad.zero_()\n",
    "out.backward(torch.ones_like(inp),retain_graph=True)\n",
    "print('\\nCall after zeroing gradients\\n',inp.grad)"
   ]
  },
  {
   "cell_type": "markdown",
   "id": "faf6142d",
   "metadata": {
    "papermill": {
     "duration": 0.00638,
     "end_time": "2023-07-14T05:13:37.456122",
     "exception": false,
     "start_time": "2023-07-14T05:13:37.449742",
     "status": "completed"
    },
    "tags": []
   },
   "source": [
    "Notice that when we call backward for the second time with the same argument, the value of the gradient is different. This happens because when doing `backward` propagation, PyTorch **accumulates the gradients**, i.e. the value of computed gradients is added to the `grad` property of all leaf nodes of computational graph. If you want to compute the proper gradients, you need to zero out the `grad` property before. In real-life training an `optimizer` helps us to do this.\n",
    "\n",
    "> NOTE: previously we were calling `backward()` function without parameters. This is essentially equivalent to calling `backward(torch.tensor(1.0))`, which is a useful way to compute the gradients in case of a scalar-valued function, such as loss during neural network training."
   ]
  }
 ],
 "metadata": {
  "kernelspec": {
   "display_name": "Python 3",
   "language": "python",
   "name": "python3"
  },
  "language_info": {
   "codemirror_mode": {
    "name": "ipython",
    "version": 3
   },
   "file_extension": ".py",
   "mimetype": "text/x-python",
   "name": "python",
   "nbconvert_exporter": "python",
   "pygments_lexer": "ipython3",
   "version": "3.10.12"
  },
  "papermill": {
   "default_parameters": {},
   "duration": 38.066175,
   "end_time": "2023-07-14T05:13:39.909529",
   "environment_variables": {},
   "exception": null,
   "input_path": "__notebook__.ipynb",
   "output_path": "__notebook__.ipynb",
   "parameters": {},
   "start_time": "2023-07-14T05:13:01.843354",
   "version": "2.4.0"
  }
 },
 "nbformat": 4,
 "nbformat_minor": 5
}
