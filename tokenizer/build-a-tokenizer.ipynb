{
 "cells": [
  {
   "cell_type": "markdown",
   "id": "1ce1409b",
   "metadata": {
    "papermill": {
     "duration": 0.004761,
     "end_time": "2025-01-27T07:38:08.015541",
     "exception": false,
     "start_time": "2025-01-27T07:38:08.010780",
     "status": "completed"
    },
    "tags": []
   },
   "source": [
    "# Overview\n",
    "\n",
    "The tokenizer is a completely seperate, independent module from the LLM. It has its own training dataset of text, on which you train the vocabulary using the Byte Pair encoding (BPE) algorithm. It then translates back and forth between raw text and sequences of tokens. The LLM later only ever sees the toknes and never directly deals with any text."
   ]
  },
  {
   "cell_type": "code",
   "execution_count": 1,
   "id": "a222ee2a",
   "metadata": {
    "_cell_guid": "b1076dfc-b9ad-4769-8c92-a6c4dae69d19",
    "_uuid": "8f2839f25d086af736a60e9eeb907d3b93b6e0e5",
    "execution": {
     "iopub.execute_input": "2025-01-27T07:38:08.025439Z",
     "iopub.status.busy": "2025-01-27T07:38:08.024942Z",
     "iopub.status.idle": "2025-01-27T07:38:08.034548Z",
     "shell.execute_reply": "2025-01-27T07:38:08.033501Z"
    },
    "papermill": {
     "duration": 0.016345,
     "end_time": "2025-01-27T07:38:08.036212",
     "exception": false,
     "start_time": "2025-01-27T07:38:08.019867",
     "status": "completed"
    },
    "tags": []
   },
   "outputs": [
    {
     "name": "stdout",
     "output_type": "stream",
     "text": [
      "---\n",
      "RMIT University’s AWS Cloud Supercomputing facility, or RACE, opened in July this year for RMIT researchers, who are now using it to power advances into battery technologies, photonics and geospatial science. With its public launch this week, external research partners are now able to use it too. RACE provides fast, secure and private connections – powered by Amazon Web Services (AWS) and AARNet – ideal for workloads that require higher speed and fewer delays than the internet. RACE Director Dr Robert Shen said the increased bandwidth gives researchers, students, and industry partners the ability make discoveries faster and for RMIT to fast-track the time between initial concepts and products going to market. “RACE will enable researchers to test out ideas and solutions up to 80 times faster compared to the existing on-premises servers,” Shen said. “Research typically involves many failures before success: this facility lets researchers fail quickly so they can fine-tune their solutions and improve them.”\n",
      "length: 1020\n",
      "---\n",
      "[82, 77, 73, 84, 32, 85, 110, 105, 118, 101, 114, 115, 105, 116, 121, 226, 128, 153, 115, 32, 65, 87, 83, 32, 67, 108, 111, 117, 100, 32, 83, 117, 112, 101, 114, 99, 111, 109, 112, 117, 116, 105, 110, 103, 32, 102, 97, 99, 105, 108, 105, 116, 121, 44, 32, 111, 114, 32, 82, 65, 67, 69, 44, 32, 111, 112, 101, 110, 101, 100, 32, 105, 110, 32, 74, 117, 108, 121, 32, 116, 104, 105, 115, 32, 121, 101, 97, 114, 32, 102, 111, 114, 32, 82, 77, 73, 84, 32, 114, 101, 115, 101, 97, 114, 99, 104, 101, 114, 115, 44, 32, 119, 104, 111, 32, 97, 114, 101, 32, 110, 111, 119, 32, 117, 115, 105, 110, 103, 32, 105, 116, 32, 116, 111, 32, 112, 111, 119, 101, 114, 32, 97, 100, 118, 97, 110, 99, 101, 115, 32, 105, 110, 116, 111, 32, 98, 97, 116, 116, 101, 114, 121, 32, 116, 101, 99, 104, 110, 111, 108, 111, 103, 105, 101, 115, 44, 32, 112, 104, 111, 116, 111, 110, 105, 99, 115, 32, 97, 110, 100, 32, 103, 101, 111, 115, 112, 97, 116, 105, 97, 108, 32, 115, 99, 105, 101, 110, 99, 101, 46, 32, 87, 105, 116, 104, 32, 105, 116, 115, 32, 112, 117, 98, 108, 105, 99, 32, 108, 97, 117, 110, 99, 104, 32, 116, 104, 105, 115, 32, 119, 101, 101, 107, 44, 32, 101, 120, 116, 101, 114, 110, 97, 108, 32, 114, 101, 115, 101, 97, 114, 99, 104, 32, 112, 97, 114, 116, 110, 101, 114, 115, 32, 97, 114, 101, 32, 110, 111, 119, 32, 97, 98, 108, 101, 32, 116, 111, 32, 117, 115, 101, 32, 105, 116, 32, 116, 111, 111, 46, 32, 82, 65, 67, 69, 32, 112, 114, 111, 118, 105, 100, 101, 115, 32, 102, 97, 115, 116, 44, 32, 115, 101, 99, 117, 114, 101, 32, 97, 110, 100, 32, 112, 114, 105, 118, 97, 116, 101, 32, 99, 111, 110, 110, 101, 99, 116, 105, 111, 110, 115, 32, 226, 128, 147, 32, 112, 111, 119, 101, 114, 101, 100, 32, 98, 121, 32, 65, 109, 97, 122, 111, 110, 32, 87, 101, 98, 32, 83, 101, 114, 118, 105, 99, 101, 115, 32, 40, 65, 87, 83, 41, 32, 97, 110, 100, 32, 65, 65, 82, 78, 101, 116, 32, 226, 128, 147, 32, 105, 100, 101, 97, 108, 32, 102, 111, 114, 32, 119, 111, 114, 107, 108, 111, 97, 100, 115, 32, 116, 104, 97, 116, 32, 114, 101, 113, 117, 105, 114, 101, 32, 104, 105, 103, 104, 101, 114, 32, 115, 112, 101, 101, 100, 32, 97, 110, 100, 32, 102, 101, 119, 101, 114, 32, 100, 101, 108, 97, 121, 115, 32, 116, 104, 97, 110, 32, 116, 104, 101, 32, 105, 110, 116, 101, 114, 110, 101, 116, 46, 32, 82, 65, 67, 69, 32, 68, 105, 114, 101, 99, 116, 111, 114, 32, 68, 114, 32, 82, 111, 98, 101, 114, 116, 32, 83, 104, 101, 110, 32, 115, 97, 105, 100, 32, 116, 104, 101, 32, 105, 110, 99, 114, 101, 97, 115, 101, 100, 32, 98, 97, 110, 100, 119, 105, 100, 116, 104, 32, 103, 105, 118, 101, 115, 32, 114, 101, 115, 101, 97, 114, 99, 104, 101, 114, 115, 44, 32, 115, 116, 117, 100, 101, 110, 116, 115, 44, 32, 97, 110, 100, 32, 105, 110, 100, 117, 115, 116, 114, 121, 32, 112, 97, 114, 116, 110, 101, 114, 115, 32, 116, 104, 101, 32, 97, 98, 105, 108, 105, 116, 121, 32, 109, 97, 107, 101, 32, 100, 105, 115, 99, 111, 118, 101, 114, 105, 101, 115, 32, 102, 97, 115, 116, 101, 114, 32, 97, 110, 100, 32, 102, 111, 114, 32, 82, 77, 73, 84, 32, 116, 111, 32, 102, 97, 115, 116, 45, 116, 114, 97, 99, 107, 32, 116, 104, 101, 32, 116, 105, 109, 101, 32, 98, 101, 116, 119, 101, 101, 110, 32, 105, 110, 105, 116, 105, 97, 108, 32, 99, 111, 110, 99, 101, 112, 116, 115, 32, 97, 110, 100, 32, 112, 114, 111, 100, 117, 99, 116, 115, 32, 103, 111, 105, 110, 103, 32, 116, 111, 32, 109, 97, 114, 107, 101, 116, 46, 32, 226, 128, 156, 82, 65, 67, 69, 32, 119, 105, 108, 108, 32, 101, 110, 97, 98, 108, 101, 32, 114, 101, 115, 101, 97, 114, 99, 104, 101, 114, 115, 32, 116, 111, 32, 116, 101, 115, 116, 32, 111, 117, 116, 32, 105, 100, 101, 97, 115, 32, 97, 110, 100, 32, 115, 111, 108, 117, 116, 105, 111, 110, 115, 32, 117, 112, 32, 116, 111, 32, 56, 48, 32, 116, 105, 109, 101, 115, 32, 102, 97, 115, 116, 101, 114, 32, 99, 111, 109, 112, 97, 114, 101, 100, 32, 116, 111, 32, 116, 104, 101, 32, 101, 120, 105, 115, 116, 105, 110, 103, 32, 111, 110, 45, 112, 114, 101, 109, 105, 115, 101, 115, 32, 115, 101, 114, 118, 101, 114, 115, 44, 226, 128, 157, 32, 83, 104, 101, 110, 32, 115, 97, 105, 100, 46, 32, 226, 128, 156, 82, 101, 115, 101, 97, 114, 99, 104, 32, 116, 121, 112, 105, 99, 97, 108, 108, 121, 32, 105, 110, 118, 111, 108, 118, 101, 115, 32, 109, 97, 110, 121, 32, 102, 97, 105, 108, 117, 114, 101, 115, 32, 98, 101, 102, 111, 114, 101, 32, 115, 117, 99, 99, 101, 115, 115, 58, 32, 116, 104, 105, 115, 32, 102, 97, 99, 105, 108, 105, 116, 121, 32, 108, 101, 116, 115, 32, 114, 101, 115, 101, 97, 114, 99, 104, 101, 114, 115, 32, 102, 97, 105, 108, 32, 113, 117, 105, 99, 107, 108, 121, 32, 115, 111, 32, 116, 104, 101, 121, 32, 99, 97, 110, 32, 102, 105, 110, 101, 45, 116, 117, 110, 101, 32, 116, 104, 101, 105, 114, 32, 115, 111, 108, 117, 116, 105, 111, 110, 115, 32, 97, 110, 100, 32, 105, 109, 112, 114, 111, 118, 101, 32, 116, 104, 101, 109, 46, 226, 128, 157]\n",
      "length: 1034\n"
     ]
    }
   ],
   "source": [
    "text=\"RMIT University’s AWS Cloud Supercomputing facility, or RACE, opened in July this year for RMIT researchers, who are now using it to power advances into battery technologies, photonics and geospatial science. With its public launch this week, external research partners are now able to use it too. RACE provides fast, secure and private connections – powered by Amazon Web Services (AWS) and AARNet – ideal for workloads that require higher speed and fewer delays than the internet. RACE Director Dr Robert Shen said the increased bandwidth gives researchers, students, and industry partners the ability make discoveries faster and for RMIT to fast-track the time between initial concepts and products going to market. “RACE will enable researchers to test out ideas and solutions up to 80 times faster compared to the existing on-premises servers,” Shen said. “Research typically involves many failures before success: this facility lets researchers fail quickly so they can fine-tune their solutions and improve them.”\"\n",
    "\n",
    "tokens=text.encode('utf-8')\n",
    "tokens=list(map(int, tokens)) # 0-255\n",
    "\n",
    "print('---')\n",
    "print(text)\n",
    "print('length:', len(text))\n",
    "print('---')\n",
    "print(tokens)\n",
    "print('length:', len(tokens))"
   ]
  },
  {
   "cell_type": "markdown",
   "id": "64a49ade",
   "metadata": {
    "papermill": {
     "duration": 0.003943,
     "end_time": "2025-01-27T07:38:08.044513",
     "exception": false,
     "start_time": "2025-01-27T07:38:08.040570",
     "status": "completed"
    },
    "tags": []
   },
   "source": [
    "# Merge the most common pairs"
   ]
  },
  {
   "cell_type": "code",
   "execution_count": 2,
   "id": "05d741b9",
   "metadata": {
    "execution": {
     "iopub.execute_input": "2025-01-27T07:38:08.054225Z",
     "iopub.status.busy": "2025-01-27T07:38:08.053832Z",
     "iopub.status.idle": "2025-01-27T07:38:08.078248Z",
     "shell.execute_reply": "2025-01-27T07:38:08.077150Z"
    },
    "papermill": {
     "duration": 0.031225,
     "end_time": "2025-01-27T07:38:08.079929",
     "exception": false,
     "start_time": "2025-01-27T07:38:08.048704",
     "status": "completed"
    },
    "tags": []
   },
   "outputs": [
    {
     "name": "stdout",
     "output_type": "stream",
     "text": [
      "An example for merge function [5, 6, 99, 9, 1]\n",
      "merging (115, 32) into a new token 256\n",
      "merging (101, 114) into a new token 257\n",
      "merging (32, 116) into a new token 258\n",
      "merging (114, 101) into a new token 259\n",
      "merging (100, 32) into a new token 260\n",
      "merging (97, 110) into a new token 261\n",
      "merging (105, 110) into a new token 262\n",
      "merging (258, 104) into a new token 263\n",
      "merging (97, 114) into a new token 264\n",
      "merging (115, 101) into a new token 265\n",
      "merging (105, 116) into a new token 266\n",
      "merging (261, 260) into a new token 267\n",
      "merging (102, 97) into a new token 268\n",
      "merging (44, 32) into a new token 269\n",
      "merging (99, 104) into a new token 270\n",
      "merging (111, 110) into a new token 271\n",
      "merging (115, 116) into a new token 272\n",
      "merging (101, 32) into a new token 273\n",
      "merging (121, 32) into a new token 274\n",
      "merging (226, 128) into a new token 275\n"
     ]
    }
   ],
   "source": [
    "def get_stats(ids):\n",
    "    counts={}\n",
    "    for pair in zip(ids, ids[1:]):\n",
    "        counts[pair]=counts.get(pair,0)+1\n",
    "    return counts\n",
    "\n",
    "def merge(ids, pair, idx):\n",
    "    # replace all consecutive occurences of pair with the new token idx\n",
    "    newids=[]\n",
    "    i=0\n",
    "    while i<len(ids):\n",
    "        # if we are not at the very last position and the pair matches, replace it\n",
    "        if i<len(ids)-1 and ids[i]==pair[0] and ids[i+1]==pair[1]:\n",
    "            newids.append(idx)\n",
    "            i+=2\n",
    "        else:\n",
    "            newids.append(ids[i])\n",
    "            i+=1\n",
    "    return newids\n",
    "\n",
    "# testing\n",
    "print(f\"An example for merge function {merge([5,6,6,7,9,1],[6,7],99)}\")\n",
    "\n",
    "vocab_size=276 # final vocabulary size\n",
    "num_merges=vocab_size-256\n",
    "ids=list(tokens) # copy\n",
    "\n",
    "merges={} # (int, int) -> int\n",
    "for i in range(num_merges):\n",
    "    stats=get_stats(ids)\n",
    "    pair=max(stats, key=stats.get) # get the rank based on the value\n",
    "    idx=256+i\n",
    "    print(f\"merging {pair} into a new token {idx}\" )\n",
    "    ids=merge(ids, pair, idx)\n",
    "    merges[pair]=idx"
   ]
  },
  {
   "cell_type": "code",
   "execution_count": 3,
   "id": "acbe292a",
   "metadata": {
    "execution": {
     "iopub.execute_input": "2025-01-27T07:38:08.089887Z",
     "iopub.status.busy": "2025-01-27T07:38:08.089553Z",
     "iopub.status.idle": "2025-01-27T07:38:08.095636Z",
     "shell.execute_reply": "2025-01-27T07:38:08.094557Z"
    },
    "papermill": {
     "duration": 0.012975,
     "end_time": "2025-01-27T07:38:08.097382",
     "exception": false,
     "start_time": "2025-01-27T07:38:08.084407",
     "status": "completed"
    },
    "tags": []
   },
   "outputs": [
    {
     "name": "stdout",
     "output_type": "stream",
     "text": [
      "tokens length: 1034\n",
      "ids length: 795\n",
      "compression ratio: 1.30X\n"
     ]
    }
   ],
   "source": [
    "print(\"tokens length:\", len(tokens))\n",
    "print(\"ids length:\", len(ids))\n",
    "print(f\"compression ratio: {len(tokens) / len(ids):.2f}X\")"
   ]
  },
  {
   "cell_type": "markdown",
   "id": "a9e0f213",
   "metadata": {
    "papermill": {
     "duration": 0.004142,
     "end_time": "2025-01-27T07:38:08.106134",
     "exception": false,
     "start_time": "2025-01-27T07:38:08.101992",
     "status": "completed"
    },
    "tags": []
   },
   "source": [
    "# Decoding\n",
    "\n",
    "Given a sequence of integers in the range [0, vocab_size], what is the text?\n",
    "\n",
    "**Note: Based on the UTF-8 schema not every character is valid. We use decode(errors=\"replace\") to fix it. Which means the tokenizer process has some issues**"
   ]
  },
  {
   "cell_type": "code",
   "execution_count": 4,
   "id": "1c4cf3a1",
   "metadata": {
    "execution": {
     "iopub.execute_input": "2025-01-27T07:38:08.116378Z",
     "iopub.status.busy": "2025-01-27T07:38:08.115940Z",
     "iopub.status.idle": "2025-01-27T07:38:08.123277Z",
     "shell.execute_reply": "2025-01-27T07:38:08.121964Z"
    },
    "papermill": {
     "duration": 0.014337,
     "end_time": "2025-01-27T07:38:08.124910",
     "exception": false,
     "start_time": "2025-01-27T07:38:08.110573",
     "status": "completed"
    },
    "tags": []
   },
   "outputs": [
    {
     "name": "stdout",
     "output_type": "stream",
     "text": [
      "�\n"
     ]
    }
   ],
   "source": [
    "vocab={idx:bytes([idx]) for idx in range(256)}\n",
    "for (p0, p1), idx in merges.items():\n",
    "    vocab[idx]=vocab[p0]+vocab[p1]\n",
    "\n",
    "def decode(ids):\n",
    "    # given ids (list of integers), return Python string\n",
    "    tokens=b\"\".join(vocab[idx] for idx in ids)\n",
    "    text=tokens.decode(\"utf-8\", errors=\"replace\")\n",
    "    return text\n",
    "\n",
    "print(decode([128]))"
   ]
  },
  {
   "cell_type": "markdown",
   "id": "6bde26b1",
   "metadata": {
    "papermill": {
     "duration": 0.004114,
     "end_time": "2025-01-27T07:38:08.133718",
     "exception": false,
     "start_time": "2025-01-27T07:38:08.129604",
     "status": "completed"
    },
    "tags": []
   },
   "source": [
    "# Encoding\n",
    "\n",
    "Given a string, what are the tokens?"
   ]
  },
  {
   "cell_type": "code",
   "execution_count": 5,
   "id": "d7cbf203",
   "metadata": {
    "execution": {
     "iopub.execute_input": "2025-01-27T07:38:08.143810Z",
     "iopub.status.busy": "2025-01-27T07:38:08.143429Z",
     "iopub.status.idle": "2025-01-27T07:38:08.150777Z",
     "shell.execute_reply": "2025-01-27T07:38:08.149659Z"
    },
    "papermill": {
     "duration": 0.014354,
     "end_time": "2025-01-27T07:38:08.152507",
     "exception": false,
     "start_time": "2025-01-27T07:38:08.138153",
     "status": "completed"
    },
    "tags": []
   },
   "outputs": [
    {
     "data": {
      "text/plain": [
       "{(115, 32): 256,\n",
       " (101, 114): 257,\n",
       " (32, 116): 258,\n",
       " (114, 101): 259,\n",
       " (100, 32): 260,\n",
       " (97, 110): 261,\n",
       " (105, 110): 262,\n",
       " (258, 104): 263,\n",
       " (97, 114): 264,\n",
       " (115, 101): 265,\n",
       " (105, 116): 266,\n",
       " (261, 260): 267,\n",
       " (102, 97): 268,\n",
       " (44, 32): 269,\n",
       " (99, 104): 270,\n",
       " (111, 110): 271,\n",
       " (115, 116): 272,\n",
       " (101, 32): 273,\n",
       " (121, 32): 274,\n",
       " (226, 128): 275}"
      ]
     },
     "execution_count": 5,
     "metadata": {},
     "output_type": "execute_result"
    }
   ],
   "source": [
    "merges"
   ]
  },
  {
   "cell_type": "code",
   "execution_count": 6,
   "id": "9f2ef327",
   "metadata": {
    "execution": {
     "iopub.execute_input": "2025-01-27T07:38:08.163118Z",
     "iopub.status.busy": "2025-01-27T07:38:08.162753Z",
     "iopub.status.idle": "2025-01-27T07:38:08.169421Z",
     "shell.execute_reply": "2025-01-27T07:38:08.168143Z"
    },
    "papermill": {
     "duration": 0.014254,
     "end_time": "2025-01-27T07:38:08.171561",
     "exception": false,
     "start_time": "2025-01-27T07:38:08.157307",
     "status": "completed"
    },
    "tags": []
   },
   "outputs": [
    {
     "name": "stdout",
     "output_type": "stream",
     "text": [
      "[104, 101, 108, 108, 111, 32, 112, 121, 116, 104, 271]\n"
     ]
    }
   ],
   "source": [
    "def encode(text):\n",
    "    # given a string return tokens\n",
    "    tokens=list(text.encode('utf-8'))\n",
    "    while True:\n",
    "        stats=get_stats(tokens)\n",
    "        pair=min(stats, key=lambda p: merges.get(p, float(\"inf\")))\n",
    "        if pair not in merges:\n",
    "            break\n",
    "        idx=merges[pair]\n",
    "        tokens=merge(tokens, pair, idx)\n",
    "    return tokens\n",
    "\n",
    "print(encode('hello python'))"
   ]
  },
  {
   "cell_type": "markdown",
   "id": "d7dc2164",
   "metadata": {
    "papermill": {
     "duration": 0.00421,
     "end_time": "2025-01-27T07:38:08.180528",
     "exception": false,
     "start_time": "2025-01-27T07:38:08.176318",
     "status": "completed"
    },
    "tags": []
   },
   "source": [
    "# Testing"
   ]
  },
  {
   "cell_type": "code",
   "execution_count": 7,
   "id": "fb13852e",
   "metadata": {
    "execution": {
     "iopub.execute_input": "2025-01-27T07:38:08.190915Z",
     "iopub.status.busy": "2025-01-27T07:38:08.190525Z",
     "iopub.status.idle": "2025-01-27T07:38:08.195797Z",
     "shell.execute_reply": "2025-01-27T07:38:08.194603Z"
    },
    "papermill": {
     "duration": 0.012622,
     "end_time": "2025-01-27T07:38:08.197667",
     "exception": false,
     "start_time": "2025-01-27T07:38:08.185045",
     "status": "completed"
    },
    "tags": []
   },
   "outputs": [
    {
     "name": "stdout",
     "output_type": "stream",
     "text": [
      "hello tokenizer\n"
     ]
    }
   ],
   "source": [
    "print(decode(encode(\"hello tokenizer\")))"
   ]
  },
  {
   "cell_type": "code",
   "execution_count": 8,
   "id": "badd85d7",
   "metadata": {
    "execution": {
     "iopub.execute_input": "2025-01-27T07:38:08.208728Z",
     "iopub.status.busy": "2025-01-27T07:38:08.208390Z",
     "iopub.status.idle": "2025-01-27T07:38:08.213717Z",
     "shell.execute_reply": "2025-01-27T07:38:08.212512Z"
    },
    "papermill": {
     "duration": 0.012755,
     "end_time": "2025-01-27T07:38:08.215435",
     "exception": false,
     "start_time": "2025-01-27T07:38:08.202680",
     "status": "completed"
    },
    "tags": []
   },
   "outputs": [
    {
     "name": "stdout",
     "output_type": "stream",
     "text": [
      "True\n"
     ]
    }
   ],
   "source": [
    "valtext='rust fails to build with cargo command error'\n",
    "valtext2=decode(encode(valtext))\n",
    "print(valtext==valtext2)"
   ]
  },
  {
   "cell_type": "markdown",
   "id": "7889bd9d",
   "metadata": {
    "papermill": {
     "duration": 0.004378,
     "end_time": "2025-01-27T07:38:08.224699",
     "exception": false,
     "start_time": "2025-01-27T07:38:08.220321",
     "status": "completed"
    },
    "tags": []
   },
   "source": [
    "# Forced splits using regex patterns (GPT series)"
   ]
  },
  {
   "cell_type": "code",
   "execution_count": 9,
   "id": "1928844e",
   "metadata": {
    "execution": {
     "iopub.execute_input": "2025-01-27T07:38:08.235285Z",
     "iopub.status.busy": "2025-01-27T07:38:08.234927Z",
     "iopub.status.idle": "2025-01-27T07:38:11.141375Z",
     "shell.execute_reply": "2025-01-27T07:38:11.140084Z"
    },
    "papermill": {
     "duration": 2.913666,
     "end_time": "2025-01-27T07:38:11.143065",
     "exception": false,
     "start_time": "2025-01-27T07:38:08.229399",
     "status": "completed"
    },
    "tags": []
   },
   "outputs": [
    {
     "name": "stdout",
     "output_type": "stream",
     "text": [
      "[220, 220, 220, 23748, 995, 10185]\n",
      "[262, 24748, 1917, 12340]\n"
     ]
    }
   ],
   "source": [
    "import tiktoken # only for tokenizer inference\n",
    "\n",
    "# GPT-2 (does not merge spaces)\n",
    "enc = tiktoken.get_encoding(\"gpt2\")\n",
    "print(enc.encode(\"    hello world!!!\"))\n",
    "\n",
    "# GPT-4 (merges spaces)\n",
    "enc = tiktoken.get_encoding(\"cl100k_base\")\n",
    "print(enc.encode(\"    hello world!!!\"))"
   ]
  },
  {
   "cell_type": "code",
   "execution_count": 10,
   "id": "d0214fd0",
   "metadata": {
    "execution": {
     "iopub.execute_input": "2025-01-27T07:38:11.154343Z",
     "iopub.status.busy": "2025-01-27T07:38:11.153965Z",
     "iopub.status.idle": "2025-01-27T07:38:12.779424Z",
     "shell.execute_reply": "2025-01-27T07:38:12.777607Z"
    },
    "papermill": {
     "duration": 1.633508,
     "end_time": "2025-01-27T07:38:12.781814",
     "exception": false,
     "start_time": "2025-01-27T07:38:11.148306",
     "status": "completed"
    },
    "tags": []
   },
   "outputs": [
    {
     "name": "stdout",
     "output_type": "stream",
     "text": [
      "--2025-01-27 07:38:11--  https://openaipublic.blob.core.windows.net/gpt-2/models/1558M/vocab.bpe\r\n",
      "Resolving openaipublic.blob.core.windows.net (openaipublic.blob.core.windows.net)... 57.150.97.129\r\n",
      "Connecting to openaipublic.blob.core.windows.net (openaipublic.blob.core.windows.net)|57.150.97.129|:443... connected.\r\n",
      "HTTP request sent, awaiting response... 200 OK\r\n",
      "Length: 456318 (446K) [application/octet-stream]\r\n",
      "Saving to: ‘vocab.bpe’\r\n",
      "\r\n",
      "vocab.bpe           100%[===================>] 445.62K  1.43MB/s    in 0.3s    \r\n",
      "\r\n",
      "2025-01-27 07:38:11 (1.43 MB/s) - ‘vocab.bpe’ saved [456318/456318]\r\n",
      "\r\n",
      "--2025-01-27 07:38:11--  https://openaipublic.blob.core.windows.net/gpt-2/models/1558M/encoder.json\r\n",
      "Resolving openaipublic.blob.core.windows.net (openaipublic.blob.core.windows.net)... 57.150.97.129\r\n",
      "Connecting to openaipublic.blob.core.windows.net (openaipublic.blob.core.windows.net)|57.150.97.129|:443... connected.\r\n",
      "HTTP request sent, awaiting response... 200 OK\r\n",
      "Length: 1042301 (1018K) [application/json]\r\n",
      "Saving to: ‘encoder.json’\r\n",
      "\r\n",
      "encoder.json        100%[===================>]   1018K  2.15MB/s    in 0.5s    \r\n",
      "\r\n",
      "2025-01-27 07:38:12 (2.15 MB/s) - ‘encoder.json’ saved [1042301/1042301]\r\n",
      "\r\n"
     ]
    }
   ],
   "source": [
    "!wget https://openaipublic.blob.core.windows.net/gpt-2/models/1558M/vocab.bpe\n",
    "!wget https://openaipublic.blob.core.windows.net/gpt-2/models/1558M/encoder.json"
   ]
  },
  {
   "cell_type": "code",
   "execution_count": 11,
   "id": "02c3bbda",
   "metadata": {
    "execution": {
     "iopub.execute_input": "2025-01-27T07:38:12.796271Z",
     "iopub.status.busy": "2025-01-27T07:38:12.795701Z",
     "iopub.status.idle": "2025-01-27T07:38:12.892653Z",
     "shell.execute_reply": "2025-01-27T07:38:12.891637Z"
    },
    "papermill": {
     "duration": 0.106857,
     "end_time": "2025-01-27T07:38:12.894779",
     "exception": false,
     "start_time": "2025-01-27T07:38:12.787922",
     "status": "completed"
    },
    "tags": []
   },
   "outputs": [],
   "source": [
    "# https://github.com/openai/gpt-2/blob/master/src/encoder.py --> the code for inference rather than the training code for tokenizer\n",
    "\n",
    "import os, json\n",
    "\n",
    "with open('encoder.json', 'r') as f:\n",
    "    vocab = json.load(f)\n",
    "\n",
    "with open('vocab.bpe', 'r', encoding=\"utf-8\") as f:\n",
    "    merges = f.read()\n",
    "bpe_merges = [tuple(merge_str.split()) for merge_str in merges.split('\\n')[1:-1]]"
   ]
  },
  {
   "cell_type": "code",
   "execution_count": 12,
   "id": "8d3fd01c",
   "metadata": {
    "execution": {
     "iopub.execute_input": "2025-01-27T07:38:12.907690Z",
     "iopub.status.busy": "2025-01-27T07:38:12.907324Z",
     "iopub.status.idle": "2025-01-27T07:38:12.913323Z",
     "shell.execute_reply": "2025-01-27T07:38:12.912269Z"
    },
    "papermill": {
     "duration": 0.014471,
     "end_time": "2025-01-27T07:38:12.915079",
     "exception": false,
     "start_time": "2025-01-27T07:38:12.900608",
     "status": "completed"
    },
    "tags": []
   },
   "outputs": [
    {
     "data": {
      "text/plain": [
       "50256"
      ]
     },
     "execution_count": 12,
     "metadata": {},
     "output_type": "execute_result"
    }
   ],
   "source": [
    "len(vocab) # 256 raw byte toknes. 50000 merges. +1 speical token only gpt2\n",
    "vocab['<|endoftext|>']"
   ]
  },
  {
   "cell_type": "markdown",
   "id": "b1c36052",
   "metadata": {
    "papermill": {
     "duration": 0.005471,
     "end_time": "2025-01-27T07:38:12.926358",
     "exception": false,
     "start_time": "2025-01-27T07:38:12.920887",
     "status": "completed"
    },
    "tags": []
   },
   "source": [
    "# Reference\n",
    "* https://www.rmit.edu.au/news/all-news/2022/oct/race-hub-launch\n",
    "* https://youtu.be/zduSFxRajkE?feature=shared"
   ]
  }
 ],
 "metadata": {
  "kaggle": {
   "accelerator": "none",
   "dataSources": [],
   "dockerImageVersionId": 30839,
   "isGpuEnabled": false,
   "isInternetEnabled": true,
   "language": "python",
   "sourceType": "notebook"
  },
  "kernelspec": {
   "display_name": "Python 3",
   "language": "python",
   "name": "python3"
  },
  "language_info": {
   "codemirror_mode": {
    "name": "ipython",
    "version": 3
   },
   "file_extension": ".py",
   "mimetype": "text/x-python",
   "name": "python",
   "nbconvert_exporter": "python",
   "pygments_lexer": "ipython3",
   "version": "3.10.12"
  },
  "papermill": {
   "default_parameters": {},
   "duration": 8.350428,
   "end_time": "2025-01-27T07:38:13.553257",
   "environment_variables": {},
   "exception": null,
   "input_path": "__notebook__.ipynb",
   "output_path": "__notebook__.ipynb",
   "parameters": {},
   "start_time": "2025-01-27T07:38:05.202829",
   "version": "2.6.0"
  }
 },
 "nbformat": 4,
 "nbformat_minor": 5
}
