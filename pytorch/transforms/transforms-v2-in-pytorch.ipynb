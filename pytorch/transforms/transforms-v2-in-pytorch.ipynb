{
 "cells": [
  {
   "cell_type": "markdown",
   "id": "9a52d3cc",
   "metadata": {
    "_cell_guid": "b1076dfc-b9ad-4769-8c92-a6c4dae69d19",
    "_uuid": "8f2839f25d086af736a60e9eeb907d3b93b6e0e5",
    "papermill": {
     "duration": 0.005261,
     "end_time": "2024-01-31T05:34:39.744023",
     "exception": false,
     "start_time": "2024-01-31T05:34:39.738762",
     "status": "completed"
    },
    "tags": []
   },
   "source": [
    "# Overview\n",
    "\n",
    "Data does not always come in its final processed form that is required for training machine learning algorithms. We use `transformers` to perform some manipulation of the data and make it suitable for training.\n",
    "\n",
    "For example, the FashionMNIST features are in `PIL Image format`, and the labels are integers. For training, we need the features as normalized tensors, and the labels as one-hot encoded tensors. To make these transformations, we use `ToTensor` and `Lambda`."
   ]
  },
  {
   "cell_type": "code",
   "execution_count": 1,
   "id": "5a0585b8",
   "metadata": {
    "execution": {
     "iopub.execute_input": "2024-01-31T05:34:39.755168Z",
     "iopub.status.busy": "2024-01-31T05:34:39.754770Z",
     "iopub.status.idle": "2024-01-31T05:34:57.952024Z",
     "shell.execute_reply": "2024-01-31T05:34:57.950550Z"
    },
    "papermill": {
     "duration": 18.206186,
     "end_time": "2024-01-31T05:34:57.954876",
     "exception": false,
     "start_time": "2024-01-31T05:34:39.748690",
     "status": "completed"
    },
    "tags": []
   },
   "outputs": [
    {
     "name": "stdout",
     "output_type": "stream",
     "text": [
      "Downloading http://fashion-mnist.s3-website.eu-central-1.amazonaws.com/train-images-idx3-ubyte.gz\n",
      "Downloading http://fashion-mnist.s3-website.eu-central-1.amazonaws.com/train-images-idx3-ubyte.gz to data/FashionMNIST/raw/train-images-idx3-ubyte.gz\n"
     ]
    },
    {
     "name": "stderr",
     "output_type": "stream",
     "text": [
      "100%|██████████| 26421880/26421880 [00:03<00:00, 7833102.11it/s] \n"
     ]
    },
    {
     "name": "stdout",
     "output_type": "stream",
     "text": [
      "Extracting data/FashionMNIST/raw/train-images-idx3-ubyte.gz to data/FashionMNIST/raw\n",
      "\n",
      "Downloading http://fashion-mnist.s3-website.eu-central-1.amazonaws.com/train-labels-idx1-ubyte.gz\n",
      "Downloading http://fashion-mnist.s3-website.eu-central-1.amazonaws.com/train-labels-idx1-ubyte.gz to data/FashionMNIST/raw/train-labels-idx1-ubyte.gz\n"
     ]
    },
    {
     "name": "stderr",
     "output_type": "stream",
     "text": [
      "100%|██████████| 29515/29515 [00:00<00:00, 138744.77it/s]\n"
     ]
    },
    {
     "name": "stdout",
     "output_type": "stream",
     "text": [
      "Extracting data/FashionMNIST/raw/train-labels-idx1-ubyte.gz to data/FashionMNIST/raw\n",
      "\n",
      "Downloading http://fashion-mnist.s3-website.eu-central-1.amazonaws.com/t10k-images-idx3-ubyte.gz\n",
      "Downloading http://fashion-mnist.s3-website.eu-central-1.amazonaws.com/t10k-images-idx3-ubyte.gz to data/FashionMNIST/raw/t10k-images-idx3-ubyte.gz\n"
     ]
    },
    {
     "name": "stderr",
     "output_type": "stream",
     "text": [
      "100%|██████████| 4422102/4422102 [00:01<00:00, 2534033.48it/s]\n"
     ]
    },
    {
     "name": "stdout",
     "output_type": "stream",
     "text": [
      "Extracting data/FashionMNIST/raw/t10k-images-idx3-ubyte.gz to data/FashionMNIST/raw\n",
      "\n",
      "Downloading http://fashion-mnist.s3-website.eu-central-1.amazonaws.com/t10k-labels-idx1-ubyte.gz\n",
      "Downloading http://fashion-mnist.s3-website.eu-central-1.amazonaws.com/t10k-labels-idx1-ubyte.gz to data/FashionMNIST/raw/t10k-labels-idx1-ubyte.gz\n"
     ]
    },
    {
     "name": "stderr",
     "output_type": "stream",
     "text": [
      "100%|██████████| 5148/5148 [00:00<00:00, 13939494.51it/s]"
     ]
    },
    {
     "name": "stdout",
     "output_type": "stream",
     "text": [
      "Extracting data/FashionMNIST/raw/t10k-labels-idx1-ubyte.gz to data/FashionMNIST/raw\n",
      "\n"
     ]
    },
    {
     "name": "stderr",
     "output_type": "stream",
     "text": [
      "\n"
     ]
    }
   ],
   "source": [
    "import torch\n",
    "from torchvision import datasets\n",
    "from torchvision.transforms import ToTensor, Lambda\n",
    "\n",
    "ds=datasets.FashionMNIST(\n",
    "    root='data',\n",
    "    train=True,\n",
    "    download=True,\n",
    "    transform=ToTensor(),\n",
    "    target_transform=Lambda(\n",
    "        lambda y: torch.zeros(10, dtype=torch.float).scatter_(0,torch.tensor(y), value=1))\n",
    ")"
   ]
  },
  {
   "cell_type": "markdown",
   "id": "11ff9c2b",
   "metadata": {
    "papermill": {
     "duration": 0.00882,
     "end_time": "2024-01-31T05:34:57.973750",
     "exception": false,
     "start_time": "2024-01-31T05:34:57.964930",
     "status": "completed"
    },
    "tags": []
   },
   "source": [
    "## ToTensor()\n",
    "\n",
    "ToTensor converts a PIL image or NumPy `ndarray` into a `FloatTensor` and scales the image's pixel intensity values in the range [0,1].\n",
    "\n",
    "\n",
    "## Lambda Transforms\n",
    "\n",
    "Lambda transforms apply any user-defined lambda function. Here, we define a function to turn the integer into a one-hot encoded tensor. It first creates a zero tensor of size 10(the number of labels in our dataset) and calls `scatter_` which assigns a `value=1` on the index as given by the label `y`."
   ]
  },
  {
   "cell_type": "code",
   "execution_count": 2,
   "id": "b8fb1929",
   "metadata": {
    "execution": {
     "iopub.execute_input": "2024-01-31T05:34:57.995370Z",
     "iopub.status.busy": "2024-01-31T05:34:57.994497Z",
     "iopub.status.idle": "2024-01-31T05:34:57.999828Z",
     "shell.execute_reply": "2024-01-31T05:34:57.998960Z"
    },
    "papermill": {
     "duration": 0.020327,
     "end_time": "2024-01-31T05:34:58.003372",
     "exception": false,
     "start_time": "2024-01-31T05:34:57.983045",
     "status": "completed"
    },
    "tags": []
   },
   "outputs": [],
   "source": [
    "target_transform=Lambda(lambda y: torch.zeros(\n",
    "    10, dtype=torch.float).scatter_(dim=0, index=torch.tensor(y), value=1))"
   ]
  },
  {
   "cell_type": "markdown",
   "id": "0d112a47",
   "metadata": {
    "papermill": {
     "duration": 0.009122,
     "end_time": "2024-01-31T05:34:58.023036",
     "exception": false,
     "start_time": "2024-01-31T05:34:58.013914",
     "status": "completed"
    },
    "tags": []
   },
   "source": [
    "# Transforming and Agumenting Images\n",
    "\n",
    "Torchvision supports common computer vision transformations in the `torchvision.transforms` and `torchvision.transforms.v2` modules. Transforms can be used to trainsform or augment data for training or inference of different tasks, like:\n",
    "\n",
    "* image classification\n",
    "* detection\n",
    "* segmentation\n",
    "* video classification\n",
    "\n",
    "Most transformation accept both PIL images and tensot inputs. Both CPU and CUDA tensors are supported. However, we use tensor backend **for performance**.\n",
    "\n",
    "**Tensor image**\n",
    "\n",
    "Tensor image are expected to be of shape (C,H,W), where C is the number of channels, and H and W refer to height and width. Most transforms support batched tensor input. A batch of Tensor images is a tensor of shape(N,C,H,W), where N is a number of images in the batch. The v2 transforms generally accept an arbitrary number of leading dimensions(...,C,H,W) and can handle batched images or batched videos.\n",
    "\n",
    "**Dtype and expected value range**\n",
    "\n",
    "The expected range of the value of a tensor image is impliicity defined by the tensor dtype. Tensir images with a float dtype are expected to have values in [0,1]. Tensor images with an integer dtype expected to have values in [0, MAX_DTYPE] where MAX_DTYPE is the largest value that can be represented in that dtype. Typically, images of dtype `torch.unit8` are expected to have values in [0,255]."
   ]
  },
  {
   "cell_type": "code",
   "execution_count": 3,
   "id": "4e134440",
   "metadata": {
    "execution": {
     "iopub.execute_input": "2024-01-31T05:34:58.044986Z",
     "iopub.status.busy": "2024-01-31T05:34:58.044310Z",
     "iopub.status.idle": "2024-01-31T05:34:58.232153Z",
     "shell.execute_reply": "2024-01-31T05:34:58.231079Z"
    },
    "papermill": {
     "duration": 0.202949,
     "end_time": "2024-01-31T05:34:58.234960",
     "exception": false,
     "start_time": "2024-01-31T05:34:58.032011",
     "status": "completed"
    },
    "tags": []
   },
   "outputs": [
    {
     "data": {
      "text/plain": [
       "tensor([[[-1.3987, -1.3987, -1.3987,  ...,  0.1597,  0.1597,  0.1597],\n",
       "         [-1.3987, -1.3987, -1.3987,  ...,  0.1597,  0.1597,  0.1597],\n",
       "         [-1.3987, -1.3987, -1.3987,  ...,  0.1597,  0.1597,  0.1597],\n",
       "         ...,\n",
       "         [-0.7137, -0.7137, -0.7137,  ..., -1.9980, -1.9980, -1.9980],\n",
       "         [-0.7137, -0.7137, -0.7137,  ..., -1.9980, -1.9980, -1.9980],\n",
       "         [-0.7137, -0.7137, -0.7137,  ..., -1.9980, -1.9980, -1.9980]],\n",
       "\n",
       "        [[ 1.7108,  1.7108,  1.7108,  ..., -0.6176, -0.6176, -0.6176],\n",
       "         [ 1.7108,  1.7108,  1.7108,  ..., -0.6176, -0.6176, -0.6176],\n",
       "         [ 1.7108,  1.7108,  1.7108,  ..., -0.6176, -0.6176, -0.6176],\n",
       "         ...,\n",
       "         [ 2.1310,  2.1310,  2.1310,  ...,  1.4132,  1.4132,  1.4132],\n",
       "         [ 2.1310,  2.1310,  2.1310,  ...,  1.4132,  1.4132,  1.4132],\n",
       "         [ 2.1310,  2.1310,  2.1310,  ...,  1.4132,  1.4132,  1.4132]],\n",
       "\n",
       "        [[-0.0441, -0.0441, -0.0441,  ...,  0.6182,  0.6182,  0.6182],\n",
       "         [-0.0441, -0.0441, -0.0441,  ...,  0.6182,  0.6182,  0.6182],\n",
       "         [-0.0441, -0.0441, -0.0441,  ...,  0.6182,  0.6182,  0.6182],\n",
       "         ...,\n",
       "         [ 1.8731,  1.8731,  1.8731,  ...,  0.7751,  0.7751,  0.7751],\n",
       "         [ 1.8731,  1.8731,  1.8731,  ...,  0.7751,  0.7751,  0.7751],\n",
       "         [ 1.8731,  1.8731,  1.8731,  ...,  0.7751,  0.7751,  0.7751]]])"
      ]
     },
     "execution_count": 3,
     "metadata": {},
     "output_type": "execute_result"
    }
   ],
   "source": [
    "# Image Classitication\n",
    "import torch\n",
    "from torchvision.transforms import v2\n",
    "\n",
    "H,W=32,32\n",
    "# here we use tensor image\n",
    "img=torch.randint(0, 256, size=(3, H, W), dtype=torch.uint8)\n",
    "\n",
    "transforms=v2.Compose(\n",
    "    [\n",
    "        # Resize(antialias=True)\n",
    "        v2.RandomResizedCrop(size=(224,224), antialias=True),\n",
    "        v2.RandomHorizontalFlip(p=0.5),\n",
    "        # Normalize expects float input\n",
    "        v2.ToDtype(torch.float32, scale=True),\n",
    "        v2.Normalize(mean=[0.485, 0.456, 0.406], std=[0.229, 0.224, 0.225]),\n",
    "    ]\n",
    ")\n",
    "\n",
    "img=transforms(img)\n",
    "img"
   ]
  },
  {
   "cell_type": "code",
   "execution_count": 4,
   "id": "0db2ca78",
   "metadata": {
    "execution": {
     "iopub.execute_input": "2024-01-31T05:34:58.255581Z",
     "iopub.status.busy": "2024-01-31T05:34:58.254849Z",
     "iopub.status.idle": "2024-01-31T05:34:58.292112Z",
     "shell.execute_reply": "2024-01-31T05:34:58.290725Z"
    },
    "papermill": {
     "duration": 0.051631,
     "end_time": "2024-01-31T05:34:58.295717",
     "exception": false,
     "start_time": "2024-01-31T05:34:58.244086",
     "status": "completed"
    },
    "tags": []
   },
   "outputs": [
    {
     "data": {
      "text/plain": [
       "{'image': tensor([[[ 0.6733,  0.9070,  0.9631,  ...,  2.3558,  2.1315,  1.9446],\n",
       "          [ 0.6733,  0.9070,  0.9631,  ...,  2.3558,  2.1315,  1.9446],\n",
       "          [ 0.6733,  0.9070,  0.9631,  ...,  2.3558,  2.1315,  1.9446],\n",
       "          ...,\n",
       "          [-0.4484, -0.1213,  0.2994,  ...,  2.9354,  2.1782,  1.5706],\n",
       "          [-0.4484, -0.1213,  0.2994,  ...,  2.9354,  2.1782,  1.5706],\n",
       "          [-0.4484, -0.1213,  0.2994,  ...,  2.9354,  2.1782,  1.5706]],\n",
       " \n",
       "         [[ 7.0867,  6.9401,  6.7936,  ..., -5.5062, -3.8943, -2.5265],\n",
       "          [ 7.0867,  6.9401,  6.7936,  ..., -5.5062, -3.8943, -2.5265],\n",
       "          [ 7.0867,  6.9401,  6.7936,  ..., -5.5062, -3.8943, -2.5265],\n",
       "          ...,\n",
       "          [-1.0416, -1.2370, -1.4128,  ...,  6.7448,  6.7741,  6.7741],\n",
       "          [-1.0416, -1.2370, -1.4128,  ...,  6.7448,  6.7741,  6.7741],\n",
       "          [-1.0416, -1.2370, -1.4128,  ...,  6.7448,  6.7741,  6.7741]],\n",
       " \n",
       "         [[-3.4722, -4.7310, -6.0091,  ...,  4.8744,  4.7582,  4.6614],\n",
       "          [-3.4722, -4.7310, -6.0091,  ...,  4.8744,  4.7582,  4.6614],\n",
       "          [-3.4722, -4.7310, -6.0091,  ...,  4.8744,  4.7582,  4.6614],\n",
       "          ...,\n",
       "          [-4.7116, -5.0505, -5.3701,  ..., -3.4529, -2.9009, -2.4652],\n",
       "          [-4.7116, -5.0505, -5.3701,  ..., -3.4529, -2.9009, -2.4652],\n",
       "          [-4.7116, -5.0505, -5.3701,  ..., -3.4529, -2.9009, -2.4652]]]),\n",
       " 'boxes': BoundingBoxes([[ 70,   9, 204,  91],\n",
       "                [224,   0, 224,   9],\n",
       "                [132,  49, 184, 122]], format=BoundingBoxFormat.XYXY, canvas_size=(224, 224))}"
      ]
     },
     "execution_count": 4,
     "metadata": {},
     "output_type": "execute_result"
    }
   ],
   "source": [
    "# detection\n",
    "from torchvision import tv_tensors\n",
    "\n",
    "img=torch.randint(0, 256, size=(3, H, W), dtype=torch.uint8)\n",
    "boxes=torch.randint(0, H//2, size=(3,4))\n",
    "boxes[:, 2:]+=boxes[:,:2]\n",
    "boxes=tv_tensors.BoundingBoxes(boxes, format=\"XYXY\", canvas_size=(H,W))\n",
    "\n",
    "# the same transforms can be used\n",
    "img, boxes=transforms(img, boxes)\n",
    "# and you can pass arbitary input structures\n",
    "output_dict=transforms({\"image\": img, \"boxes\": boxes})\n",
    "output_dict"
   ]
  },
  {
   "cell_type": "code",
   "execution_count": 5,
   "id": "e13a8bc4",
   "metadata": {
    "execution": {
     "iopub.execute_input": "2024-01-31T05:34:58.317747Z",
     "iopub.status.busy": "2024-01-31T05:34:58.316385Z",
     "iopub.status.idle": "2024-01-31T05:34:58.338792Z",
     "shell.execute_reply": "2024-01-31T05:34:58.337462Z"
    },
    "papermill": {
     "duration": 0.036195,
     "end_time": "2024-01-31T05:34:58.341865",
     "exception": false,
     "start_time": "2024-01-31T05:34:58.305670",
     "status": "completed"
    },
    "tags": []
   },
   "outputs": [
    {
     "data": {
      "text/plain": [
       "tensor([[[148, 112,  73,  ..., 125, 125, 125],\n",
       "         [178, 150, 119,  ..., 125, 125, 125],\n",
       "         [203, 186, 168,  ..., 125, 125, 125],\n",
       "         ...,\n",
       "         [185, 184, 184,  ...,   3,   7,  10],\n",
       "         [181, 181, 180,  ...,   9,  10,   3],\n",
       "         [180, 179, 177,  ...,   3,   7,   5]],\n",
       "\n",
       "        [[139, 103,  65,  ..., 116, 116, 116],\n",
       "         [169, 141, 111,  ..., 116, 116, 116],\n",
       "         [195, 178, 160,  ..., 116, 116, 116],\n",
       "         ...,\n",
       "         [170, 169, 167,  ...,   0,   3,   6],\n",
       "         [168, 169, 165,  ...,   5,   6,   0],\n",
       "         [167, 167, 162,  ...,   0,   3,   1]],\n",
       "\n",
       "        [[158, 120,  80,  ..., 111, 111, 111],\n",
       "         [186, 158, 124,  ..., 111, 111, 111],\n",
       "         [210, 191, 171,  ..., 111, 111, 111],\n",
       "         ...,\n",
       "         [177, 174, 173,  ...,   0,   0,   3],\n",
       "         [175, 173, 170,  ...,   2,   3,   0],\n",
       "         [174, 171, 167,  ...,   0,   0,   0]]], dtype=torch.uint8)"
      ]
     },
     "execution_count": 5,
     "metadata": {},
     "output_type": "execute_result"
    }
   ],
   "source": [
    "# Load image to PyTorch tensor\n",
    "from torchvision.io import read_image\n",
    "\n",
    "img=read_image(\"/kaggle/input/vision/astronaut.jpg\")\n",
    "img"
   ]
  },
  {
   "cell_type": "code",
   "execution_count": 6,
   "id": "b07dce3f",
   "metadata": {
    "execution": {
     "iopub.execute_input": "2024-01-31T05:34:58.362247Z",
     "iopub.status.busy": "2024-01-31T05:34:58.361815Z",
     "iopub.status.idle": "2024-01-31T05:34:58.368466Z",
     "shell.execute_reply": "2024-01-31T05:34:58.367058Z"
    },
    "papermill": {
     "duration": 0.019838,
     "end_time": "2024-01-31T05:34:58.371129",
     "exception": false,
     "start_time": "2024-01-31T05:34:58.351291",
     "status": "completed"
    },
    "tags": []
   },
   "outputs": [
    {
     "name": "stdout",
     "output_type": "stream",
     "text": [
      "torch.uint8\n",
      "torch.Size([3, 512, 512])\n"
     ]
    }
   ],
   "source": [
    "print(img.dtype)\n",
    "print(img.shape)"
   ]
  },
  {
   "cell_type": "markdown",
   "id": "55cefd0c",
   "metadata": {
    "papermill": {
     "duration": 0.009898,
     "end_time": "2024-01-31T05:34:58.391345",
     "exception": false,
     "start_time": "2024-01-31T05:34:58.381447",
     "status": "completed"
    },
    "tags": []
   },
   "source": [
    "# Reference\n",
    "\n",
    "* https://pytorch.org/tutorials/beginner/basics/transforms_tutorial.html\n",
    "* https://pytorch.org/vision/stable/transforms.html\n",
    "* https://pytorch.org/vision/stable/auto_examples/transforms/plot_custom_transforms.html#sphx-glr-auto-examples-transforms-plot-custom-transforms-py"
   ]
  }
 ],
 "metadata": {
  "kaggle": {
   "accelerator": "none",
   "dataSources": [
    {
     "datasetId": 4378998,
     "sourceId": 7517710,
     "sourceType": "datasetVersion"
    }
   ],
   "dockerImageVersionId": 30646,
   "isGpuEnabled": false,
   "isInternetEnabled": true,
   "language": "python",
   "sourceType": "notebook"
  },
  "kernelspec": {
   "display_name": "Python 3",
   "language": "python",
   "name": "python3"
  },
  "language_info": {
   "codemirror_mode": {
    "name": "ipython",
    "version": 3
   },
   "file_extension": ".py",
   "mimetype": "text/x-python",
   "name": "python",
   "nbconvert_exporter": "python",
   "pygments_lexer": "ipython3",
   "version": "3.10.13"
  },
  "papermill": {
   "default_parameters": {},
   "duration": 24.282522,
   "end_time": "2024-01-31T05:35:00.672119",
   "environment_variables": {},
   "exception": null,
   "input_path": "__notebook__.ipynb",
   "output_path": "__notebook__.ipynb",
   "parameters": {},
   "start_time": "2024-01-31T05:34:36.389597",
   "version": "2.5.0"
  }
 },
 "nbformat": 4,
 "nbformat_minor": 5
}
