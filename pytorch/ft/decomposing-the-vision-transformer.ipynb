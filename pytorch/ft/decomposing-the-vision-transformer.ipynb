{
 "cells": [
  {
   "cell_type": "markdown",
   "id": "bc602b9d",
   "metadata": {
    "_cell_guid": "b1076dfc-b9ad-4769-8c92-a6c4dae69d19",
    "_uuid": "8f2839f25d086af736a60e9eeb907d3b93b6e0e5",
    "papermill": {
     "duration": 0.008297,
     "end_time": "2024-09-07T06:21:22.173284",
     "exception": false,
     "start_time": "2024-09-07T06:21:22.164987",
     "status": "completed"
    },
    "tags": []
   },
   "source": [
    "# Overview\n",
    "\n",
    "Learning note from Cristian Leo's article [The Math Behind Vision Transformers](https://medium.com/@cristianleo120/the-math-behind-vision-transformers-95a64a6f0c1a)"
   ]
  },
  {
   "cell_type": "code",
   "execution_count": 1,
   "id": "4d4ea01c",
   "metadata": {
    "execution": {
     "iopub.execute_input": "2024-09-07T06:21:22.189836Z",
     "iopub.status.busy": "2024-09-07T06:21:22.188941Z",
     "iopub.status.idle": "2024-09-07T06:21:28.404664Z",
     "shell.execute_reply": "2024-09-07T06:21:28.403887Z"
    },
    "papermill": {
     "duration": 6.226228,
     "end_time": "2024-09-07T06:21:28.407006",
     "exception": false,
     "start_time": "2024-09-07T06:21:22.180778",
     "status": "completed"
    },
    "tags": []
   },
   "outputs": [],
   "source": [
    "import numpy as np\n",
    "import torch\n",
    "\n",
    "from torch.utils.data import DataLoader\n",
    "from torchvision import datasets, transforms\n",
    "from transformers import ViTForImageClassification"
   ]
  },
  {
   "cell_type": "markdown",
   "id": "9e70953b",
   "metadata": {
    "papermill": {
     "duration": 0.006636,
     "end_time": "2024-09-07T06:21:28.420600",
     "exception": false,
     "start_time": "2024-09-07T06:21:28.413964",
     "status": "completed"
    },
    "tags": []
   },
   "source": [
    "# Decomposing the Vesion Transformer"
   ]
  },
  {
   "cell_type": "code",
   "execution_count": 2,
   "id": "b19f41d2",
   "metadata": {
    "execution": {
     "iopub.execute_input": "2024-09-07T06:21:28.435226Z",
     "iopub.status.busy": "2024-09-07T06:21:28.434796Z",
     "iopub.status.idle": "2024-09-07T06:21:28.462653Z",
     "shell.execute_reply": "2024-09-07T06:21:28.461715Z"
    },
    "papermill": {
     "duration": 0.037344,
     "end_time": "2024-09-07T06:21:28.464626",
     "exception": false,
     "start_time": "2024-09-07T06:21:28.427282",
     "status": "completed"
    },
    "tags": []
   },
   "outputs": [
    {
     "name": "stdout",
     "output_type": "stream",
     "text": [
      "Number of patches: 16\n",
      "Shape of flattened patches: torch.Size([16, 768])\n"
     ]
    }
   ],
   "source": [
    "image_data = torch.randn(64, 64, 3)\n",
    "\n",
    "# Parameters\n",
    "patch_size = 16  # Adjust this to your desired patch size\n",
    "image_height, image_width, num_channels = image_data.shape\n",
    "\n",
    "# Calculate the number of patches\n",
    "num_patches = (image_height * image_width) // (patch_size * patch_size)\n",
    "\n",
    "# Reshape the image data into a sequence of patches\n",
    "patches = image_data.reshape(num_patches, patch_size, patch_size, num_channels)\n",
    "\n",
    "# Flatten the patches into vectors\n",
    "flattened_patches = patches.reshape(num_patches, -1)\n",
    "\n",
    "print(f\"Number of patches: {num_patches}\")\n",
    "print(f\"Shape of flattened patches: {flattened_patches.shape}\")"
   ]
  },
  {
   "cell_type": "code",
   "execution_count": 3,
   "id": "11633b33",
   "metadata": {
    "execution": {
     "iopub.execute_input": "2024-09-07T06:21:28.479257Z",
     "iopub.status.busy": "2024-09-07T06:21:28.478962Z",
     "iopub.status.idle": "2024-09-07T06:21:28.507519Z",
     "shell.execute_reply": "2024-09-07T06:21:28.506390Z"
    },
    "papermill": {
     "duration": 0.039981,
     "end_time": "2024-09-07T06:21:28.511354",
     "exception": false,
     "start_time": "2024-09-07T06:21:28.471373",
     "status": "completed"
    },
    "tags": []
   },
   "outputs": [
    {
     "name": "stdout",
     "output_type": "stream",
     "text": [
      "Shape of patch embeddings: (16, 512)\n"
     ]
    }
   ],
   "source": [
    "def patch_embedding(patches, embedding_dim):\n",
    "    \"\"\"\n",
    "    Performs patch embedding using a linear projection.\n",
    "\n",
    "    Args:\n",
    "        patches (np.ndarray): Flattened patches from the image.\n",
    "        embedding_dim (int): The dimension of the embedding space.\n",
    "\n",
    "    Returns:\n",
    "        np.ndarray: Patch embeddings.\n",
    "    \"\"\"\n",
    "    # Initialize a random projection matrix\n",
    "    projection_matrix = np.random.randn(patches.shape[1], embedding_dim)\n",
    "    return np.dot(patches, projection_matrix)\n",
    "\n",
    "# Define the embedding dimension\n",
    "embedding_dim = 512\n",
    "\n",
    "# Perform patch embedding\n",
    "patch_embeddings = patch_embedding(flattened_patches, embedding_dim)\n",
    "\n",
    "print(f\"Shape of patch embeddings: {patch_embeddings.shape}\")"
   ]
  },
  {
   "cell_type": "code",
   "execution_count": 4,
   "id": "a299d660",
   "metadata": {
    "execution": {
     "iopub.execute_input": "2024-09-07T06:21:28.541338Z",
     "iopub.status.busy": "2024-09-07T06:21:28.540749Z",
     "iopub.status.idle": "2024-09-07T06:21:28.563141Z",
     "shell.execute_reply": "2024-09-07T06:21:28.562029Z"
    },
    "papermill": {
     "duration": 0.040642,
     "end_time": "2024-09-07T06:21:28.566180",
     "exception": false,
     "start_time": "2024-09-07T06:21:28.525538",
     "status": "completed"
    },
    "tags": []
   },
   "outputs": [
    {
     "name": "stdout",
     "output_type": "stream",
     "text": [
      "Shape of positional encodings: (16, 512)\n"
     ]
    }
   ],
   "source": [
    "def positional_encoding(num_patches, embedding_dim):\n",
    "    \"\"\"\n",
    "    Creates positional encoding vectors.\n",
    "\n",
    "    Args:\n",
    "        num_patches (int): The number of patches.\n",
    "        embedding_dim (int): The dimension of the embedding space.\n",
    "\n",
    "    Returns:\n",
    "        np.ndarray: Positional encoding vectors.\n",
    "    \"\"\"\n",
    "    # Create an array of positions\n",
    "    positions = np.arange(num_patches)\n",
    "\n",
    "    # Initialize a matrix to store the encodings\n",
    "    positional_encodings = np.zeros((num_patches, embedding_dim))\n",
    "\n",
    "    # Calculate sine and cosine encodings for different dimensions\n",
    "    for i in range(embedding_dim):\n",
    "        if i % 2 == 0:\n",
    "            positional_encodings[:, i] = np.sin(positions / (10000 ** (2 * i / embedding_dim)))\n",
    "        else:\n",
    "            positional_encodings[:, i] = np.cos(positions / (10000 ** (2 * i / embedding_dim)))\n",
    "\n",
    "    return positional_encodings\n",
    "\n",
    "# Create positional encodings\n",
    "pos_encodings = positional_encoding(num_patches, embedding_dim)\n",
    "\n",
    "print(f\"Shape of positional encodings: {pos_encodings.shape}\")"
   ]
  },
  {
   "cell_type": "code",
   "execution_count": 5,
   "id": "9091e49e",
   "metadata": {
    "execution": {
     "iopub.execute_input": "2024-09-07T06:21:28.596116Z",
     "iopub.status.busy": "2024-09-07T06:21:28.595637Z",
     "iopub.status.idle": "2024-09-07T06:21:35.475564Z",
     "shell.execute_reply": "2024-09-07T06:21:35.474343Z"
    },
    "papermill": {
     "duration": 6.897489,
     "end_time": "2024-09-07T06:21:35.477751",
     "exception": false,
     "start_time": "2024-09-07T06:21:28.580262",
     "status": "completed"
    },
    "tags": []
   },
   "outputs": [
    {
     "name": "stdout",
     "output_type": "stream",
     "text": [
      "Shape of attention output: (16, 512, 512)\n"
     ]
    }
   ],
   "source": [
    "def softmax(x, axis=-1):\n",
    "    \"\"\"Compute softmax values for each set of scores in x.\"\"\"\n",
    "    e_x = np.exp(x - np.max(x, axis=axis, keepdims=True))\n",
    "    return e_x / e_x.sum(axis=axis, keepdims=True)\n",
    "\n",
    "def multihead_attention(inputs, embedding_dim, num_heads):\n",
    "    \"\"\"\n",
    "    Performs multi-head attention.\n",
    "\n",
    "    Args:\n",
    "        inputs (np.ndarray): Input embeddings.\n",
    "        embedding_dim (int): The dimension of the embedding space.\n",
    "        num_heads (int): The number of attention heads.\n",
    "\n",
    "    Returns:\n",
    "        np.ndarray: Attention output.\n",
    "    \"\"\"\n",
    "    # Split the embedding dimension for each head\n",
    "    head_dim = embedding_dim // num_heads\n",
    "\n",
    "    # Initialize random matrices for query, key, and value\n",
    "    Q = np.random.randn(inputs.shape[0], inputs.shape[1], num_heads, head_dim)\n",
    "\n",
    "    K = np.random.randn(inputs.shape[0], inputs.shape[1], num_heads, head_dim)\n",
    "\n",
    "    V = np.random.randn(inputs.shape[0], inputs.shape[1], num_heads, head_dim)\n",
    "\n",
    "    # Calculate attention weights \n",
    "    attention_weights = np.einsum('bqhd,bkhd->bhqk', Q, K) / np.sqrt(head_dim)\n",
    "    attention_weights = softmax(attention_weights, axis=-1)\n",
    "\n",
    "    # Apply attention weights to value\n",
    "    attention_output = np.einsum('bhqk,bkhd->bqhd', attention_weights, V)\n",
    "\n",
    "    # Concatenate attention outputs from different heads\n",
    "    attention_output = attention_output.reshape(inputs.shape[0], inputs.shape[1], -1)\n",
    "    \n",
    "    return attention_output\n",
    "\n",
    "# Define the number of attention heads\n",
    "num_heads = 8\n",
    "\n",
    "# Perform multi-head attention\n",
    "attention_output = multihead_attention(patch_embeddings, embedding_dim, num_heads)\n",
    "\n",
    "print(f\"Shape of attention output: {attention_output.shape}\")"
   ]
  },
  {
   "cell_type": "code",
   "execution_count": 6,
   "id": "4a6fdc43",
   "metadata": {
    "execution": {
     "iopub.execute_input": "2024-09-07T06:21:35.493403Z",
     "iopub.status.busy": "2024-09-07T06:21:35.493106Z",
     "iopub.status.idle": "2024-09-07T06:22:24.608191Z",
     "shell.execute_reply": "2024-09-07T06:22:24.607182Z"
    },
    "papermill": {
     "duration": 49.132594,
     "end_time": "2024-09-07T06:22:24.617612",
     "exception": false,
     "start_time": "2024-09-07T06:21:35.485018",
     "status": "completed"
    },
    "tags": []
   },
   "outputs": [
    {
     "name": "stdout",
     "output_type": "stream",
     "text": [
      "Shape of MLP output: (16, 512, 512)\n"
     ]
    }
   ],
   "source": [
    "def mlp_block(inputs, mlp_dim):\n",
    "    \"\"\"\n",
    "    Performs a simple MLP block.\n",
    "\n",
    "    Args:\n",
    "        inputs (np.ndarray): Input embeddings.\n",
    "        mlp_dim (int): The dimension of the MLP hidden layer.\n",
    "\n",
    "    Returns:\n",
    "        np.ndarray: MLP output.\n",
    "    \"\"\"\n",
    "\n",
    "    # First fully connected layer\n",
    "    hidden_layer = np.dot(inputs, np.random.randn(inputs.shape[1], mlp_dim))\n",
    "    # ReLU activation\n",
    "    hidden_layer = np.maximum(0, hidden_layer)\n",
    "\n",
    "    # Second fully connected layer\n",
    "    mlp_output = np.dot(hidden_layer, np.random.randn(mlp_dim, inputs.shape[1]))\n",
    "    return mlp_output\n",
    "\n",
    "# Define the dimension of the MLP hidden layer\n",
    "mlp_dim = 2048\n",
    "\n",
    "# Perform MLP block\n",
    "mlp_output = mlp_block(attention_output, mlp_dim)\n",
    "\n",
    "print(f\"Shape of MLP output: {mlp_output.shape}\")"
   ]
  },
  {
   "cell_type": "code",
   "execution_count": 7,
   "id": "6c802b03",
   "metadata": {
    "execution": {
     "iopub.execute_input": "2024-09-07T06:22:24.633292Z",
     "iopub.status.busy": "2024-09-07T06:22:24.632983Z",
     "iopub.status.idle": "2024-09-07T06:22:24.686506Z",
     "shell.execute_reply": "2024-09-07T06:22:24.685588Z"
    },
    "papermill": {
     "duration": 0.063924,
     "end_time": "2024-09-07T06:22:24.688736",
     "exception": false,
     "start_time": "2024-09-07T06:22:24.624812",
     "status": "completed"
    },
    "tags": []
   },
   "outputs": [
    {
     "name": "stdout",
     "output_type": "stream",
     "text": [
      "Shape of normalized output: (16, 512, 512)\n"
     ]
    }
   ],
   "source": [
    "def layer_normalization(inputs, epsilon=1e-6):\n",
    "    \"\"\"\n",
    "    Performs layer normalization.\n",
    "\n",
    "    Args:\n",
    "        inputs (np.ndarray): Input embeddings.\n",
    "        epsilon (float): Small value to prevent division by zero.\n",
    "\n",
    "    Returns:\n",
    "        np.ndarray: Normalized outputs.\n",
    "    \"\"\"\n",
    "\n",
    "    # Calculate mean and variance along the last axis\n",
    "    mean = np.mean(inputs, axis=-1, keepdims=True)\n",
    "    variance = np.var(inputs, axis=-1, keepdims=True)\n",
    "\n",
    "    # Normalize the inputs\n",
    "    normalized_inputs = (inputs - mean) / np.sqrt(variance + epsilon)\n",
    "    return normalized_inputs\n",
    "\n",
    "# Perform layer normalization\n",
    "normalized_output = layer_normalization(mlp_output)\n",
    "\n",
    "print(f\"Shape of normalized output: {normalized_output.shape}\")"
   ]
  },
  {
   "cell_type": "code",
   "execution_count": 8,
   "id": "38f7ec21",
   "metadata": {
    "execution": {
     "iopub.execute_input": "2024-09-07T06:22:24.704591Z",
     "iopub.status.busy": "2024-09-07T06:22:24.704276Z",
     "iopub.status.idle": "2024-09-07T06:23:20.159084Z",
     "shell.execute_reply": "2024-09-07T06:23:20.158106Z"
    },
    "papermill": {
     "duration": 55.471588,
     "end_time": "2024-09-07T06:23:20.167648",
     "exception": false,
     "start_time": "2024-09-07T06:22:24.696060",
     "status": "completed"
    },
    "tags": []
   },
   "outputs": [
    {
     "name": "stdout",
     "output_type": "stream",
     "text": [
      "Shape of Transformer output: (16, 512, 512)\n"
     ]
    }
   ],
   "source": [
    "def transformer_encoder_block(inputs, embedding_dim, num_heads, mlp_dim):\n",
    "    \"\"\"\n",
    "    Performs a single Transformer encoder block.\n",
    "\n",
    "    Args:\n",
    "        inputs (np.ndarray): Input embeddings.\n",
    "        embedding_dim (int): The dimension of the embedding space.\n",
    "        num_heads (int): The number of attention heads.\n",
    "        mlp_dim (int): The dimension of the MLP hidden layer.\n",
    "\n",
    "    Returns:\n",
    "        np.ndarray: Output embeddings.\n",
    "    \"\"\"\n",
    "\n",
    "    # Multi-head Attention\n",
    "    attention_output = multihead_attention(inputs, embedding_dim, num_heads)\n",
    "    # Add residual connection\n",
    "    attention_output = inputs.reshape(inputs.shape[0], inputs.shape[1], -1) + attention_output\n",
    "\n",
    "    # Layer Normalization \n",
    "    attention_output = layer_normalization(attention_output)\n",
    "\n",
    "    # MLP Block\n",
    "    mlp_output = mlp_block(attention_output, mlp_dim)\n",
    "    # Add residual connection\n",
    "    mlp_output = attention_output + mlp_output\n",
    "\n",
    "    # Layer Normalization \n",
    "    mlp_output = layer_normalization(mlp_output)\n",
    "\n",
    "    return mlp_output\n",
    "\n",
    "# Perform Transformer encoder block\n",
    "transformer_output = transformer_encoder_block(patch_embeddings, embedding_dim, num_heads, mlp_dim)\n",
    "\n",
    "print(f\"Shape of Transformer output: {transformer_output.shape}\")"
   ]
  },
  {
   "cell_type": "markdown",
   "id": "d9c4900a",
   "metadata": {
    "papermill": {
     "duration": 0.006917,
     "end_time": "2024-09-07T06:23:20.181911",
     "exception": false,
     "start_time": "2024-09-07T06:23:20.174994",
     "status": "completed"
    },
    "tags": []
   },
   "source": [
    "# Define transformations for the dataset"
   ]
  },
  {
   "cell_type": "code",
   "execution_count": 9,
   "id": "22fa9fa5",
   "metadata": {
    "execution": {
     "iopub.execute_input": "2024-09-07T06:23:20.197632Z",
     "iopub.status.busy": "2024-09-07T06:23:20.197274Z",
     "iopub.status.idle": "2024-09-07T06:23:20.202252Z",
     "shell.execute_reply": "2024-09-07T06:23:20.201408Z"
    },
    "papermill": {
     "duration": 0.015272,
     "end_time": "2024-09-07T06:23:20.204261",
     "exception": false,
     "start_time": "2024-09-07T06:23:20.188989",
     "status": "completed"
    },
    "tags": []
   },
   "outputs": [],
   "source": [
    "transform = transforms.Compose([\n",
    "    transforms.Resize((224, 224)),\n",
    "    transforms.ToTensor(),\n",
    "    transforms.Normalize(mean=[0.5, 0.5, 0.5], std=[0.5, 0.5, 0.5])\n",
    "])"
   ]
  },
  {
   "cell_type": "markdown",
   "id": "16e0eca9",
   "metadata": {
    "papermill": {
     "duration": 0.007021,
     "end_time": "2024-09-07T06:23:20.218646",
     "exception": false,
     "start_time": "2024-09-07T06:23:20.211625",
     "status": "completed"
    },
    "tags": []
   },
   "source": [
    "# Load the CIFAR-10 dataset"
   ]
  },
  {
   "cell_type": "code",
   "execution_count": 10,
   "id": "b898c435",
   "metadata": {
    "execution": {
     "iopub.execute_input": "2024-09-07T06:23:20.235794Z",
     "iopub.status.busy": "2024-09-07T06:23:20.235483Z",
     "iopub.status.idle": "2024-09-07T06:23:28.673391Z",
     "shell.execute_reply": "2024-09-07T06:23:28.672601Z"
    },
    "papermill": {
     "duration": 8.448509,
     "end_time": "2024-09-07T06:23:28.675631",
     "exception": false,
     "start_time": "2024-09-07T06:23:20.227122",
     "status": "completed"
    },
    "tags": []
   },
   "outputs": [
    {
     "name": "stdout",
     "output_type": "stream",
     "text": [
      "Downloading https://www.cs.toronto.edu/~kriz/cifar-10-python.tar.gz to ./data/cifar-10-python.tar.gz\n"
     ]
    },
    {
     "name": "stderr",
     "output_type": "stream",
     "text": [
      "100%|██████████| 170498071/170498071 [00:04<00:00, 34970318.69it/s]\n"
     ]
    },
    {
     "name": "stdout",
     "output_type": "stream",
     "text": [
      "Extracting ./data/cifar-10-python.tar.gz to ./data\n",
      "Files already downloaded and verified\n"
     ]
    }
   ],
   "source": [
    "train_dataset = datasets.CIFAR10(root='./data', train=True, download=True, transform=transform)\n",
    "test_dataset = datasets.CIFAR10(root='./data', train=False, download=True, transform=transform)"
   ]
  },
  {
   "cell_type": "code",
   "execution_count": 11,
   "id": "3b4def0d",
   "metadata": {
    "execution": {
     "iopub.execute_input": "2024-09-07T06:23:28.699631Z",
     "iopub.status.busy": "2024-09-07T06:23:28.699335Z",
     "iopub.status.idle": "2024-09-07T06:23:28.704154Z",
     "shell.execute_reply": "2024-09-07T06:23:28.703283Z"
    },
    "papermill": {
     "duration": 0.01902,
     "end_time": "2024-09-07T06:23:28.706292",
     "exception": false,
     "start_time": "2024-09-07T06:23:28.687272",
     "status": "completed"
    },
    "tags": []
   },
   "outputs": [],
   "source": [
    "train_loader = DataLoader(train_dataset, batch_size=32, shuffle=True)\n",
    "test_loader = DataLoader(test_dataset, batch_size=32, shuffle=False)"
   ]
  },
  {
   "cell_type": "markdown",
   "id": "263b206b",
   "metadata": {
    "papermill": {
     "duration": 0.011242,
     "end_time": "2024-09-07T06:23:28.728784",
     "exception": false,
     "start_time": "2024-09-07T06:23:28.717542",
     "status": "completed"
    },
    "tags": []
   },
   "source": [
    "# Load the pre-trained ViT model"
   ]
  },
  {
   "cell_type": "code",
   "execution_count": 12,
   "id": "ba904f3d",
   "metadata": {
    "execution": {
     "iopub.execute_input": "2024-09-07T06:23:28.752426Z",
     "iopub.status.busy": "2024-09-07T06:23:28.752105Z",
     "iopub.status.idle": "2024-09-07T06:23:30.719259Z",
     "shell.execute_reply": "2024-09-07T06:23:30.718338Z"
    },
    "papermill": {
     "duration": 1.98146,
     "end_time": "2024-09-07T06:23:30.721378",
     "exception": false,
     "start_time": "2024-09-07T06:23:28.739918",
     "status": "completed"
    },
    "tags": []
   },
   "outputs": [
    {
     "data": {
      "application/vnd.jupyter.widget-view+json": {
       "model_id": "5e69ce26b8004fb583806496949102fe",
       "version_major": 2,
       "version_minor": 0
      },
      "text/plain": [
       "config.json:   0%|          | 0.00/502 [00:00<?, ?B/s]"
      ]
     },
     "metadata": {},
     "output_type": "display_data"
    },
    {
     "data": {
      "application/vnd.jupyter.widget-view+json": {
       "model_id": "4bba7e1721e2424da8c04d1f2338470b",
       "version_major": 2,
       "version_minor": 0
      },
      "text/plain": [
       "model.safetensors:   0%|          | 0.00/346M [00:00<?, ?B/s]"
      ]
     },
     "metadata": {},
     "output_type": "display_data"
    },
    {
     "name": "stderr",
     "output_type": "stream",
     "text": [
      "Some weights of ViTForImageClassification were not initialized from the model checkpoint at google/vit-base-patch16-224-in21k and are newly initialized: ['classifier.bias', 'classifier.weight']\n",
      "You should probably TRAIN this model on a down-stream task to be able to use it for predictions and inference.\n"
     ]
    }
   ],
   "source": [
    "model = ViTForImageClassification.from_pretrained('google/vit-base-patch16-224-in21k', num_labels=10)"
   ]
  },
  {
   "cell_type": "code",
   "execution_count": 13,
   "id": "63ef7b18",
   "metadata": {
    "execution": {
     "iopub.execute_input": "2024-09-07T06:23:30.746572Z",
     "iopub.status.busy": "2024-09-07T06:23:30.746253Z",
     "iopub.status.idle": "2024-09-07T06:23:31.058762Z",
     "shell.execute_reply": "2024-09-07T06:23:31.057800Z"
    },
    "papermill": {
     "duration": 0.327384,
     "end_time": "2024-09-07T06:23:31.060863",
     "exception": false,
     "start_time": "2024-09-07T06:23:30.733479",
     "status": "completed"
    },
    "tags": []
   },
   "outputs": [
    {
     "data": {
      "text/plain": [
       "ViTForImageClassification(\n",
       "  (vit): ViTModel(\n",
       "    (embeddings): ViTEmbeddings(\n",
       "      (patch_embeddings): ViTPatchEmbeddings(\n",
       "        (projection): Conv2d(3, 768, kernel_size=(16, 16), stride=(16, 16))\n",
       "      )\n",
       "      (dropout): Dropout(p=0.0, inplace=False)\n",
       "    )\n",
       "    (encoder): ViTEncoder(\n",
       "      (layer): ModuleList(\n",
       "        (0-11): 12 x ViTLayer(\n",
       "          (attention): ViTSdpaAttention(\n",
       "            (attention): ViTSdpaSelfAttention(\n",
       "              (query): Linear(in_features=768, out_features=768, bias=True)\n",
       "              (key): Linear(in_features=768, out_features=768, bias=True)\n",
       "              (value): Linear(in_features=768, out_features=768, bias=True)\n",
       "              (dropout): Dropout(p=0.0, inplace=False)\n",
       "            )\n",
       "            (output): ViTSelfOutput(\n",
       "              (dense): Linear(in_features=768, out_features=768, bias=True)\n",
       "              (dropout): Dropout(p=0.0, inplace=False)\n",
       "            )\n",
       "          )\n",
       "          (intermediate): ViTIntermediate(\n",
       "            (dense): Linear(in_features=768, out_features=3072, bias=True)\n",
       "            (intermediate_act_fn): GELUActivation()\n",
       "          )\n",
       "          (output): ViTOutput(\n",
       "            (dense): Linear(in_features=3072, out_features=768, bias=True)\n",
       "            (dropout): Dropout(p=0.0, inplace=False)\n",
       "          )\n",
       "          (layernorm_before): LayerNorm((768,), eps=1e-12, elementwise_affine=True)\n",
       "          (layernorm_after): LayerNorm((768,), eps=1e-12, elementwise_affine=True)\n",
       "        )\n",
       "      )\n",
       "    )\n",
       "    (layernorm): LayerNorm((768,), eps=1e-12, elementwise_affine=True)\n",
       "  )\n",
       "  (classifier): Linear(in_features=768, out_features=10, bias=True)\n",
       ")"
      ]
     },
     "execution_count": 13,
     "metadata": {},
     "output_type": "execute_result"
    }
   ],
   "source": [
    "device='cuda'\n",
    "model.to(device)"
   ]
  },
  {
   "cell_type": "markdown",
   "id": "526e1466",
   "metadata": {
    "papermill": {
     "duration": 0.011489,
     "end_time": "2024-09-07T06:23:31.084316",
     "exception": false,
     "start_time": "2024-09-07T06:23:31.072827",
     "status": "completed"
    },
    "tags": []
   },
   "source": [
    "# Define optimizer and loss function"
   ]
  },
  {
   "cell_type": "code",
   "execution_count": 14,
   "id": "c48b164f",
   "metadata": {
    "execution": {
     "iopub.execute_input": "2024-09-07T06:23:31.109311Z",
     "iopub.status.busy": "2024-09-07T06:23:31.108982Z",
     "iopub.status.idle": "2024-09-07T06:23:31.115006Z",
     "shell.execute_reply": "2024-09-07T06:23:31.114102Z"
    },
    "papermill": {
     "duration": 0.02066,
     "end_time": "2024-09-07T06:23:31.116845",
     "exception": false,
     "start_time": "2024-09-07T06:23:31.096185",
     "status": "completed"
    },
    "tags": []
   },
   "outputs": [],
   "source": [
    "optimizer = torch.optim.Adam(model.parameters(), lr=2e-5)\n",
    "criterion = torch.nn.CrossEntropyLoss()\n",
    "scheduler = torch.optim.lr_scheduler.StepLR(optimizer, step_size=1, gamma=0.1)"
   ]
  },
  {
   "cell_type": "markdown",
   "id": "db5d7107",
   "metadata": {
    "papermill": {
     "duration": 0.011398,
     "end_time": "2024-09-07T06:23:31.139921",
     "exception": false,
     "start_time": "2024-09-07T06:23:31.128523",
     "status": "completed"
    },
    "tags": []
   },
   "source": [
    "# Training"
   ]
  },
  {
   "cell_type": "code",
   "execution_count": 15,
   "id": "672e84cb",
   "metadata": {
    "execution": {
     "iopub.execute_input": "2024-09-07T06:23:31.165152Z",
     "iopub.status.busy": "2024-09-07T06:23:31.164370Z",
     "iopub.status.idle": "2024-09-07T06:55:33.014707Z",
     "shell.execute_reply": "2024-09-07T06:55:33.013678Z"
    },
    "papermill": {
     "duration": 1921.877586,
     "end_time": "2024-09-07T06:55:33.029153",
     "exception": false,
     "start_time": "2024-09-07T06:23:31.151567",
     "status": "completed"
    },
    "tags": []
   },
   "outputs": [
    {
     "name": "stdout",
     "output_type": "stream",
     "text": [
      "Epoch 1, Loss: 0.36186940796906875\n",
      "Epoch 2, Loss: 0.05802386924052422\n"
     ]
    }
   ],
   "source": [
    "for epoch in range(2):\n",
    "    total_loss = 0\n",
    "    for batch in train_loader:\n",
    "        inputs, labels = batch\n",
    "        inputs, labels = inputs.to(device), labels.to(device)\n",
    "        \n",
    "        optimizer.zero_grad()\n",
    "        outputs = model(pixel_values=inputs).logits\n",
    "        loss = criterion(outputs, labels)\n",
    "        loss.backward()\n",
    "        optimizer.step()\n",
    "        \n",
    "        total_loss += loss.item()\n",
    "    \n",
    "    scheduler.step()\n",
    "    print(f\"Epoch {epoch+1}, Loss: {total_loss/len(train_loader)}\")"
   ]
  },
  {
   "cell_type": "markdown",
   "id": "8330a6d4",
   "metadata": {
    "papermill": {
     "duration": 0.011787,
     "end_time": "2024-09-07T06:55:33.054183",
     "exception": false,
     "start_time": "2024-09-07T06:55:33.042396",
     "status": "completed"
    },
    "tags": []
   },
   "source": [
    "# Save the model"
   ]
  },
  {
   "cell_type": "code",
   "execution_count": 16,
   "id": "bafda8fe",
   "metadata": {
    "execution": {
     "iopub.execute_input": "2024-09-07T06:55:33.079558Z",
     "iopub.status.busy": "2024-09-07T06:55:33.079161Z",
     "iopub.status.idle": "2024-09-07T06:55:33.521763Z",
     "shell.execute_reply": "2024-09-07T06:55:33.520935Z"
    },
    "papermill": {
     "duration": 0.457958,
     "end_time": "2024-09-07T06:55:33.523975",
     "exception": false,
     "start_time": "2024-09-07T06:55:33.066017",
     "status": "completed"
    },
    "tags": []
   },
   "outputs": [],
   "source": [
    "torch.save(model.state_dict(), 'vit_cifar10.pth')"
   ]
  },
  {
   "cell_type": "markdown",
   "id": "711c1c55",
   "metadata": {
    "papermill": {
     "duration": 0.011633,
     "end_time": "2024-09-07T06:55:33.547769",
     "exception": false,
     "start_time": "2024-09-07T06:55:33.536136",
     "status": "completed"
    },
    "tags": []
   },
   "source": [
    "# Evaluation loop"
   ]
  },
  {
   "cell_type": "code",
   "execution_count": 17,
   "id": "17de19d1",
   "metadata": {
    "execution": {
     "iopub.execute_input": "2024-09-07T06:55:33.573038Z",
     "iopub.status.busy": "2024-09-07T06:55:33.572659Z",
     "iopub.status.idle": "2024-09-07T06:56:42.951809Z",
     "shell.execute_reply": "2024-09-07T06:56:42.950749Z"
    },
    "papermill": {
     "duration": 69.406278,
     "end_time": "2024-09-07T06:56:42.966105",
     "exception": false,
     "start_time": "2024-09-07T06:55:33.559827",
     "status": "completed"
    },
    "tags": []
   },
   "outputs": [
    {
     "name": "stdout",
     "output_type": "stream",
     "text": [
      "Test Accuracy: 98.5%\n"
     ]
    }
   ],
   "source": [
    "model.eval()\n",
    "correct = 0\n",
    "total = 0\n",
    "with torch.no_grad():\n",
    "    for batch in test_loader:\n",
    "        inputs, labels = batch\n",
    "        inputs, labels = inputs.to(device), labels.to(device)\n",
    "        \n",
    "        outputs = model(pixel_values=inputs).logits\n",
    "        _, predicted = torch.max(outputs, 1)\n",
    "        total += labels.size(0)\n",
    "        correct += (predicted == labels).sum().item()\n",
    "\n",
    "accuracy = 100 * correct / total\n",
    "print(f\"Test Accuracy: {accuracy}%\")"
   ]
  },
  {
   "cell_type": "markdown",
   "id": "0cc40542",
   "metadata": {
    "papermill": {
     "duration": 0.011827,
     "end_time": "2024-09-07T06:56:42.989920",
     "exception": false,
     "start_time": "2024-09-07T06:56:42.978093",
     "status": "completed"
    },
    "tags": []
   },
   "source": [
    "# Acknowledgement\n",
    "* https://medium.com/@cristianleo120/the-math-behind-vision-transformers-95a64a6f0c1a"
   ]
  }
 ],
 "metadata": {
  "kaggle": {
   "accelerator": "gpu",
   "dataSources": [],
   "dockerImageVersionId": 30762,
   "isGpuEnabled": true,
   "isInternetEnabled": true,
   "language": "python",
   "sourceType": "notebook"
  },
  "kernelspec": {
   "display_name": "Python 3",
   "language": "python",
   "name": "python3"
  },
  "language_info": {
   "codemirror_mode": {
    "name": "ipython",
    "version": 3
   },
   "file_extension": ".py",
   "mimetype": "text/x-python",
   "name": "python",
   "nbconvert_exporter": "python",
   "pygments_lexer": "ipython3",
   "version": "3.10.14"
  },
  "papermill": {
   "default_parameters": {},
   "duration": 2125.012469,
   "end_time": "2024-09-07T06:56:44.526458",
   "environment_variables": {},
   "exception": null,
   "input_path": "__notebook__.ipynb",
   "output_path": "__notebook__.ipynb",
   "parameters": {},
   "start_time": "2024-09-07T06:21:19.513989",
   "version": "2.6.0"
  },
  "widgets": {
   "application/vnd.jupyter.widget-state+json": {
    "state": {
     "335f670b3b9b45f9bee3dbd2bb8f62ce": {
      "model_module": "@jupyter-widgets/controls",
      "model_module_version": "1.5.0",
      "model_name": "FloatProgressModel",
      "state": {
       "_dom_classes": [],
       "_model_module": "@jupyter-widgets/controls",
       "_model_module_version": "1.5.0",
       "_model_name": "FloatProgressModel",
       "_view_count": null,
       "_view_module": "@jupyter-widgets/controls",
       "_view_module_version": "1.5.0",
       "_view_name": "ProgressView",
       "bar_style": "success",
       "description": "",
       "description_tooltip": null,
       "layout": "IPY_MODEL_ca1974dbeca44809869aec1ca3a3eb97",
       "max": 345579424.0,
       "min": 0.0,
       "orientation": "horizontal",
       "style": "IPY_MODEL_4ed7df88c6384167b18b24c97052d091",
       "value": 345579424.0
      }
     },
     "4bba7e1721e2424da8c04d1f2338470b": {
      "model_module": "@jupyter-widgets/controls",
      "model_module_version": "1.5.0",
      "model_name": "HBoxModel",
      "state": {
       "_dom_classes": [],
       "_model_module": "@jupyter-widgets/controls",
       "_model_module_version": "1.5.0",
       "_model_name": "HBoxModel",
       "_view_count": null,
       "_view_module": "@jupyter-widgets/controls",
       "_view_module_version": "1.5.0",
       "_view_name": "HBoxView",
       "box_style": "",
       "children": [
        "IPY_MODEL_f41a0d57b571423787a71068fc6c6d0a",
        "IPY_MODEL_335f670b3b9b45f9bee3dbd2bb8f62ce",
        "IPY_MODEL_dd95ddcbb1c2499c85584154a91bce27"
       ],
       "layout": "IPY_MODEL_a7d58864f6ac4c50b326bfd7642f9d21"
      }
     },
     "4ed7df88c6384167b18b24c97052d091": {
      "model_module": "@jupyter-widgets/controls",
      "model_module_version": "1.5.0",
      "model_name": "ProgressStyleModel",
      "state": {
       "_model_module": "@jupyter-widgets/controls",
       "_model_module_version": "1.5.0",
       "_model_name": "ProgressStyleModel",
       "_view_count": null,
       "_view_module": "@jupyter-widgets/base",
       "_view_module_version": "1.2.0",
       "_view_name": "StyleView",
       "bar_color": null,
       "description_width": ""
      }
     },
     "518cac8b5fd84dd098eb8075884c1d35": {
      "model_module": "@jupyter-widgets/controls",
      "model_module_version": "1.5.0",
      "model_name": "HTMLModel",
      "state": {
       "_dom_classes": [],
       "_model_module": "@jupyter-widgets/controls",
       "_model_module_version": "1.5.0",
       "_model_name": "HTMLModel",
       "_view_count": null,
       "_view_module": "@jupyter-widgets/controls",
       "_view_module_version": "1.5.0",
       "_view_name": "HTMLView",
       "description": "",
       "description_tooltip": null,
       "layout": "IPY_MODEL_82a499eb57394745b107178a045f5db5",
       "placeholder": "​",
       "style": "IPY_MODEL_f351b199f2684a6b85a94c67805eb571",
       "value": " 502/502 [00:00&lt;00:00, 37.7kB/s]"
      }
     },
     "5448face61c044a38e2333a09f84834e": {
      "model_module": "@jupyter-widgets/base",
      "model_module_version": "1.2.0",
      "model_name": "LayoutModel",
      "state": {
       "_model_module": "@jupyter-widgets/base",
       "_model_module_version": "1.2.0",
       "_model_name": "LayoutModel",
       "_view_count": null,
       "_view_module": "@jupyter-widgets/base",
       "_view_module_version": "1.2.0",
       "_view_name": "LayoutView",
       "align_content": null,
       "align_items": null,
       "align_self": null,
       "border": null,
       "bottom": null,
       "display": null,
       "flex": null,
       "flex_flow": null,
       "grid_area": null,
       "grid_auto_columns": null,
       "grid_auto_flow": null,
       "grid_auto_rows": null,
       "grid_column": null,
       "grid_gap": null,
       "grid_row": null,
       "grid_template_areas": null,
       "grid_template_columns": null,
       "grid_template_rows": null,
       "height": null,
       "justify_content": null,
       "justify_items": null,
       "left": null,
       "margin": null,
       "max_height": null,
       "max_width": null,
       "min_height": null,
       "min_width": null,
       "object_fit": null,
       "object_position": null,
       "order": null,
       "overflow": null,
       "overflow_x": null,
       "overflow_y": null,
       "padding": null,
       "right": null,
       "top": null,
       "visibility": null,
       "width": null
      }
     },
     "5e69ce26b8004fb583806496949102fe": {
      "model_module": "@jupyter-widgets/controls",
      "model_module_version": "1.5.0",
      "model_name": "HBoxModel",
      "state": {
       "_dom_classes": [],
       "_model_module": "@jupyter-widgets/controls",
       "_model_module_version": "1.5.0",
       "_model_name": "HBoxModel",
       "_view_count": null,
       "_view_module": "@jupyter-widgets/controls",
       "_view_module_version": "1.5.0",
       "_view_name": "HBoxView",
       "box_style": "",
       "children": [
        "IPY_MODEL_612f5b8fffe34ff4ab2689f8eb7579fd",
        "IPY_MODEL_91ef1572813d4a7bbee7a2f0fb08564f",
        "IPY_MODEL_518cac8b5fd84dd098eb8075884c1d35"
       ],
       "layout": "IPY_MODEL_625e5017d3f8490287d5349be2388a17"
      }
     },
     "612f5b8fffe34ff4ab2689f8eb7579fd": {
      "model_module": "@jupyter-widgets/controls",
      "model_module_version": "1.5.0",
      "model_name": "HTMLModel",
      "state": {
       "_dom_classes": [],
       "_model_module": "@jupyter-widgets/controls",
       "_model_module_version": "1.5.0",
       "_model_name": "HTMLModel",
       "_view_count": null,
       "_view_module": "@jupyter-widgets/controls",
       "_view_module_version": "1.5.0",
       "_view_name": "HTMLView",
       "description": "",
       "description_tooltip": null,
       "layout": "IPY_MODEL_7076d373e02f4dbb95cbe689f1e50efb",
       "placeholder": "​",
       "style": "IPY_MODEL_c63aceb05e0b4fb8ae7d70bdaed6b625",
       "value": "config.json: 100%"
      }
     },
     "625e5017d3f8490287d5349be2388a17": {
      "model_module": "@jupyter-widgets/base",
      "model_module_version": "1.2.0",
      "model_name": "LayoutModel",
      "state": {
       "_model_module": "@jupyter-widgets/base",
       "_model_module_version": "1.2.0",
       "_model_name": "LayoutModel",
       "_view_count": null,
       "_view_module": "@jupyter-widgets/base",
       "_view_module_version": "1.2.0",
       "_view_name": "LayoutView",
       "align_content": null,
       "align_items": null,
       "align_self": null,
       "border": null,
       "bottom": null,
       "display": null,
       "flex": null,
       "flex_flow": null,
       "grid_area": null,
       "grid_auto_columns": null,
       "grid_auto_flow": null,
       "grid_auto_rows": null,
       "grid_column": null,
       "grid_gap": null,
       "grid_row": null,
       "grid_template_areas": null,
       "grid_template_columns": null,
       "grid_template_rows": null,
       "height": null,
       "justify_content": null,
       "justify_items": null,
       "left": null,
       "margin": null,
       "max_height": null,
       "max_width": null,
       "min_height": null,
       "min_width": null,
       "object_fit": null,
       "object_position": null,
       "order": null,
       "overflow": null,
       "overflow_x": null,
       "overflow_y": null,
       "padding": null,
       "right": null,
       "top": null,
       "visibility": null,
       "width": null
      }
     },
     "6e9b92e8f5dc478cb7fdfbef8de73bbf": {
      "model_module": "@jupyter-widgets/base",
      "model_module_version": "1.2.0",
      "model_name": "LayoutModel",
      "state": {
       "_model_module": "@jupyter-widgets/base",
       "_model_module_version": "1.2.0",
       "_model_name": "LayoutModel",
       "_view_count": null,
       "_view_module": "@jupyter-widgets/base",
       "_view_module_version": "1.2.0",
       "_view_name": "LayoutView",
       "align_content": null,
       "align_items": null,
       "align_self": null,
       "border": null,
       "bottom": null,
       "display": null,
       "flex": null,
       "flex_flow": null,
       "grid_area": null,
       "grid_auto_columns": null,
       "grid_auto_flow": null,
       "grid_auto_rows": null,
       "grid_column": null,
       "grid_gap": null,
       "grid_row": null,
       "grid_template_areas": null,
       "grid_template_columns": null,
       "grid_template_rows": null,
       "height": null,
       "justify_content": null,
       "justify_items": null,
       "left": null,
       "margin": null,
       "max_height": null,
       "max_width": null,
       "min_height": null,
       "min_width": null,
       "object_fit": null,
       "object_position": null,
       "order": null,
       "overflow": null,
       "overflow_x": null,
       "overflow_y": null,
       "padding": null,
       "right": null,
       "top": null,
       "visibility": null,
       "width": null
      }
     },
     "7076d373e02f4dbb95cbe689f1e50efb": {
      "model_module": "@jupyter-widgets/base",
      "model_module_version": "1.2.0",
      "model_name": "LayoutModel",
      "state": {
       "_model_module": "@jupyter-widgets/base",
       "_model_module_version": "1.2.0",
       "_model_name": "LayoutModel",
       "_view_count": null,
       "_view_module": "@jupyter-widgets/base",
       "_view_module_version": "1.2.0",
       "_view_name": "LayoutView",
       "align_content": null,
       "align_items": null,
       "align_self": null,
       "border": null,
       "bottom": null,
       "display": null,
       "flex": null,
       "flex_flow": null,
       "grid_area": null,
       "grid_auto_columns": null,
       "grid_auto_flow": null,
       "grid_auto_rows": null,
       "grid_column": null,
       "grid_gap": null,
       "grid_row": null,
       "grid_template_areas": null,
       "grid_template_columns": null,
       "grid_template_rows": null,
       "height": null,
       "justify_content": null,
       "justify_items": null,
       "left": null,
       "margin": null,
       "max_height": null,
       "max_width": null,
       "min_height": null,
       "min_width": null,
       "object_fit": null,
       "object_position": null,
       "order": null,
       "overflow": null,
       "overflow_x": null,
       "overflow_y": null,
       "padding": null,
       "right": null,
       "top": null,
       "visibility": null,
       "width": null
      }
     },
     "82a499eb57394745b107178a045f5db5": {
      "model_module": "@jupyter-widgets/base",
      "model_module_version": "1.2.0",
      "model_name": "LayoutModel",
      "state": {
       "_model_module": "@jupyter-widgets/base",
       "_model_module_version": "1.2.0",
       "_model_name": "LayoutModel",
       "_view_count": null,
       "_view_module": "@jupyter-widgets/base",
       "_view_module_version": "1.2.0",
       "_view_name": "LayoutView",
       "align_content": null,
       "align_items": null,
       "align_self": null,
       "border": null,
       "bottom": null,
       "display": null,
       "flex": null,
       "flex_flow": null,
       "grid_area": null,
       "grid_auto_columns": null,
       "grid_auto_flow": null,
       "grid_auto_rows": null,
       "grid_column": null,
       "grid_gap": null,
       "grid_row": null,
       "grid_template_areas": null,
       "grid_template_columns": null,
       "grid_template_rows": null,
       "height": null,
       "justify_content": null,
       "justify_items": null,
       "left": null,
       "margin": null,
       "max_height": null,
       "max_width": null,
       "min_height": null,
       "min_width": null,
       "object_fit": null,
       "object_position": null,
       "order": null,
       "overflow": null,
       "overflow_x": null,
       "overflow_y": null,
       "padding": null,
       "right": null,
       "top": null,
       "visibility": null,
       "width": null
      }
     },
     "91ef1572813d4a7bbee7a2f0fb08564f": {
      "model_module": "@jupyter-widgets/controls",
      "model_module_version": "1.5.0",
      "model_name": "FloatProgressModel",
      "state": {
       "_dom_classes": [],
       "_model_module": "@jupyter-widgets/controls",
       "_model_module_version": "1.5.0",
       "_model_name": "FloatProgressModel",
       "_view_count": null,
       "_view_module": "@jupyter-widgets/controls",
       "_view_module_version": "1.5.0",
       "_view_name": "ProgressView",
       "bar_style": "success",
       "description": "",
       "description_tooltip": null,
       "layout": "IPY_MODEL_9f4d11b63b004b50ae7cc3809bce20f7",
       "max": 502.0,
       "min": 0.0,
       "orientation": "horizontal",
       "style": "IPY_MODEL_ac9aa69bb17f4303a9feab6959f8331b",
       "value": 502.0
      }
     },
     "9f4d11b63b004b50ae7cc3809bce20f7": {
      "model_module": "@jupyter-widgets/base",
      "model_module_version": "1.2.0",
      "model_name": "LayoutModel",
      "state": {
       "_model_module": "@jupyter-widgets/base",
       "_model_module_version": "1.2.0",
       "_model_name": "LayoutModel",
       "_view_count": null,
       "_view_module": "@jupyter-widgets/base",
       "_view_module_version": "1.2.0",
       "_view_name": "LayoutView",
       "align_content": null,
       "align_items": null,
       "align_self": null,
       "border": null,
       "bottom": null,
       "display": null,
       "flex": null,
       "flex_flow": null,
       "grid_area": null,
       "grid_auto_columns": null,
       "grid_auto_flow": null,
       "grid_auto_rows": null,
       "grid_column": null,
       "grid_gap": null,
       "grid_row": null,
       "grid_template_areas": null,
       "grid_template_columns": null,
       "grid_template_rows": null,
       "height": null,
       "justify_content": null,
       "justify_items": null,
       "left": null,
       "margin": null,
       "max_height": null,
       "max_width": null,
       "min_height": null,
       "min_width": null,
       "object_fit": null,
       "object_position": null,
       "order": null,
       "overflow": null,
       "overflow_x": null,
       "overflow_y": null,
       "padding": null,
       "right": null,
       "top": null,
       "visibility": null,
       "width": null
      }
     },
     "a7d58864f6ac4c50b326bfd7642f9d21": {
      "model_module": "@jupyter-widgets/base",
      "model_module_version": "1.2.0",
      "model_name": "LayoutModel",
      "state": {
       "_model_module": "@jupyter-widgets/base",
       "_model_module_version": "1.2.0",
       "_model_name": "LayoutModel",
       "_view_count": null,
       "_view_module": "@jupyter-widgets/base",
       "_view_module_version": "1.2.0",
       "_view_name": "LayoutView",
       "align_content": null,
       "align_items": null,
       "align_self": null,
       "border": null,
       "bottom": null,
       "display": null,
       "flex": null,
       "flex_flow": null,
       "grid_area": null,
       "grid_auto_columns": null,
       "grid_auto_flow": null,
       "grid_auto_rows": null,
       "grid_column": null,
       "grid_gap": null,
       "grid_row": null,
       "grid_template_areas": null,
       "grid_template_columns": null,
       "grid_template_rows": null,
       "height": null,
       "justify_content": null,
       "justify_items": null,
       "left": null,
       "margin": null,
       "max_height": null,
       "max_width": null,
       "min_height": null,
       "min_width": null,
       "object_fit": null,
       "object_position": null,
       "order": null,
       "overflow": null,
       "overflow_x": null,
       "overflow_y": null,
       "padding": null,
       "right": null,
       "top": null,
       "visibility": null,
       "width": null
      }
     },
     "ac9aa69bb17f4303a9feab6959f8331b": {
      "model_module": "@jupyter-widgets/controls",
      "model_module_version": "1.5.0",
      "model_name": "ProgressStyleModel",
      "state": {
       "_model_module": "@jupyter-widgets/controls",
       "_model_module_version": "1.5.0",
       "_model_name": "ProgressStyleModel",
       "_view_count": null,
       "_view_module": "@jupyter-widgets/base",
       "_view_module_version": "1.2.0",
       "_view_name": "StyleView",
       "bar_color": null,
       "description_width": ""
      }
     },
     "b5e6b3a93c15460e8d02c5f07f89cb23": {
      "model_module": "@jupyter-widgets/controls",
      "model_module_version": "1.5.0",
      "model_name": "DescriptionStyleModel",
      "state": {
       "_model_module": "@jupyter-widgets/controls",
       "_model_module_version": "1.5.0",
       "_model_name": "DescriptionStyleModel",
       "_view_count": null,
       "_view_module": "@jupyter-widgets/base",
       "_view_module_version": "1.2.0",
       "_view_name": "StyleView",
       "description_width": ""
      }
     },
     "c4f47d7f78e64c28a8677abcc55eb0d7": {
      "model_module": "@jupyter-widgets/controls",
      "model_module_version": "1.5.0",
      "model_name": "DescriptionStyleModel",
      "state": {
       "_model_module": "@jupyter-widgets/controls",
       "_model_module_version": "1.5.0",
       "_model_name": "DescriptionStyleModel",
       "_view_count": null,
       "_view_module": "@jupyter-widgets/base",
       "_view_module_version": "1.2.0",
       "_view_name": "StyleView",
       "description_width": ""
      }
     },
     "c63aceb05e0b4fb8ae7d70bdaed6b625": {
      "model_module": "@jupyter-widgets/controls",
      "model_module_version": "1.5.0",
      "model_name": "DescriptionStyleModel",
      "state": {
       "_model_module": "@jupyter-widgets/controls",
       "_model_module_version": "1.5.0",
       "_model_name": "DescriptionStyleModel",
       "_view_count": null,
       "_view_module": "@jupyter-widgets/base",
       "_view_module_version": "1.2.0",
       "_view_name": "StyleView",
       "description_width": ""
      }
     },
     "ca1974dbeca44809869aec1ca3a3eb97": {
      "model_module": "@jupyter-widgets/base",
      "model_module_version": "1.2.0",
      "model_name": "LayoutModel",
      "state": {
       "_model_module": "@jupyter-widgets/base",
       "_model_module_version": "1.2.0",
       "_model_name": "LayoutModel",
       "_view_count": null,
       "_view_module": "@jupyter-widgets/base",
       "_view_module_version": "1.2.0",
       "_view_name": "LayoutView",
       "align_content": null,
       "align_items": null,
       "align_self": null,
       "border": null,
       "bottom": null,
       "display": null,
       "flex": null,
       "flex_flow": null,
       "grid_area": null,
       "grid_auto_columns": null,
       "grid_auto_flow": null,
       "grid_auto_rows": null,
       "grid_column": null,
       "grid_gap": null,
       "grid_row": null,
       "grid_template_areas": null,
       "grid_template_columns": null,
       "grid_template_rows": null,
       "height": null,
       "justify_content": null,
       "justify_items": null,
       "left": null,
       "margin": null,
       "max_height": null,
       "max_width": null,
       "min_height": null,
       "min_width": null,
       "object_fit": null,
       "object_position": null,
       "order": null,
       "overflow": null,
       "overflow_x": null,
       "overflow_y": null,
       "padding": null,
       "right": null,
       "top": null,
       "visibility": null,
       "width": null
      }
     },
     "dd95ddcbb1c2499c85584154a91bce27": {
      "model_module": "@jupyter-widgets/controls",
      "model_module_version": "1.5.0",
      "model_name": "HTMLModel",
      "state": {
       "_dom_classes": [],
       "_model_module": "@jupyter-widgets/controls",
       "_model_module_version": "1.5.0",
       "_model_name": "HTMLModel",
       "_view_count": null,
       "_view_module": "@jupyter-widgets/controls",
       "_view_module_version": "1.5.0",
       "_view_name": "HTMLView",
       "description": "",
       "description_tooltip": null,
       "layout": "IPY_MODEL_5448face61c044a38e2333a09f84834e",
       "placeholder": "​",
       "style": "IPY_MODEL_b5e6b3a93c15460e8d02c5f07f89cb23",
       "value": " 346M/346M [00:01&lt;00:00, 307MB/s]"
      }
     },
     "f351b199f2684a6b85a94c67805eb571": {
      "model_module": "@jupyter-widgets/controls",
      "model_module_version": "1.5.0",
      "model_name": "DescriptionStyleModel",
      "state": {
       "_model_module": "@jupyter-widgets/controls",
       "_model_module_version": "1.5.0",
       "_model_name": "DescriptionStyleModel",
       "_view_count": null,
       "_view_module": "@jupyter-widgets/base",
       "_view_module_version": "1.2.0",
       "_view_name": "StyleView",
       "description_width": ""
      }
     },
     "f41a0d57b571423787a71068fc6c6d0a": {
      "model_module": "@jupyter-widgets/controls",
      "model_module_version": "1.5.0",
      "model_name": "HTMLModel",
      "state": {
       "_dom_classes": [],
       "_model_module": "@jupyter-widgets/controls",
       "_model_module_version": "1.5.0",
       "_model_name": "HTMLModel",
       "_view_count": null,
       "_view_module": "@jupyter-widgets/controls",
       "_view_module_version": "1.5.0",
       "_view_name": "HTMLView",
       "description": "",
       "description_tooltip": null,
       "layout": "IPY_MODEL_6e9b92e8f5dc478cb7fdfbef8de73bbf",
       "placeholder": "​",
       "style": "IPY_MODEL_c4f47d7f78e64c28a8677abcc55eb0d7",
       "value": "model.safetensors: 100%"
      }
     }
    },
    "version_major": 2,
    "version_minor": 0
   }
  }
 },
 "nbformat": 4,
 "nbformat_minor": 5
}
