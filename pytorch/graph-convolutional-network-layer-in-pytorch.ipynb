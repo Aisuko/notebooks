{
 "cells": [
  {
   "cell_type": "markdown",
   "id": "5e677b45",
   "metadata": {
    "_cell_guid": "b1076dfc-b9ad-4769-8c92-a6c4dae69d19",
    "_uuid": "8f2839f25d086af736a60e9eeb907d3b93b6e0e5",
    "papermill": {
     "duration": 0.003289,
     "end_time": "2024-04-18T00:54:20.697989",
     "exception": false,
     "start_time": "2024-04-18T00:54:20.694700",
     "status": "completed"
    },
    "tags": []
   },
   "source": [
    "# Overview\n",
    "\n",
    "Graph Neural Networks have emberged as a powerful class of neural networks, desgined to capture the complexity and relational information inherent in graph-structured data. Much like traditional neural networks, onions and ogres, GNNs are composed of layers."
   ]
  },
  {
   "cell_type": "code",
   "execution_count": 1,
   "id": "563f48bc",
   "metadata": {
    "execution": {
     "iopub.execute_input": "2024-04-18T00:54:20.706488Z",
     "iopub.status.busy": "2024-04-18T00:54:20.705256Z",
     "iopub.status.idle": "2024-04-18T00:54:24.643926Z",
     "shell.execute_reply": "2024-04-18T00:54:24.642967Z"
    },
    "papermill": {
     "duration": 3.945335,
     "end_time": "2024-04-18T00:54:24.646433",
     "exception": false,
     "start_time": "2024-04-18T00:54:20.701098",
     "status": "completed"
    },
    "tags": []
   },
   "outputs": [
    {
     "data": {
      "text/plain": [
       "tensor([[ 6.2169,  6.4498],\n",
       "        [12.5922, 14.3301],\n",
       "        [14.5746, 16.7033]], grad_fn=<ReluBackward0>)"
      ]
     },
     "execution_count": 1,
     "metadata": {},
     "output_type": "execute_result"
    }
   ],
   "source": [
    "import torch\n",
    "import torch.nn as nn\n",
    "import torch.nn.functional as F\n",
    "\n",
    "class GCNLayer(nn.Module):\n",
    "    r\"\"\"\n",
    "    Args:\n",
    "        input_dim(int): Dimension of the input\n",
    "        output_dim(iunt): Dimension of the output (a softmax distribution)\n",
    "        A (torch.Tensor): 2D adjacency matrix\n",
    "    \"\"\"\n",
    "    \n",
    "    def __init__(self, input_dim, output_dim, A):\n",
    "        super(GCNLayer, self).__init__()\n",
    "        self.input_dim=input_dim\n",
    "        self.output_dim=output_dim\n",
    "        self.A=A\n",
    "        \n",
    "        #A_hat=A+I\n",
    "        self.A_hat=self.A+torch.eye(self.A.size(0))\n",
    "        \n",
    "        # create diagonal degree matrix D\n",
    "        self.ones=torch.ones(input_dim, input_dim)\n",
    "        self.D=torch.matmul(self.A.float(), self.ones.float())\n",
    "        \n",
    "        # Extract the diagonal elements\n",
    "        self.D=torch.diag(self.D)\n",
    "        \n",
    "        # Create a new tensor with the diagonal elements and zeros elsewhere\n",
    "        self.D=torch.diag_embed(self.D)\n",
    "        \n",
    "        # create D^{-1/2}\n",
    "        self.D_neg_sqrt=torch.diag_embed(torch.diag(torch.pow(self.D, -0.5)))\n",
    "        \n",
    "        # Initialise the weight matrix as a parameter\n",
    "        self.W=nn.Parameter(torch.rand(input_dim, output_dim))\n",
    "        \n",
    "    def forward(self,X):\n",
    "        # D^-1/2 * (A_hat *D^-1/2)\n",
    "        support_1=torch.matmul(self.D_neg_sqrt, torch.matmul(self.A_hat, self.D_neg_sqrt))\n",
    "        \n",
    "        # (D^-1/2 * A_hat * D^-1/2)*(X*W)\n",
    "        support_2=torch.matmul(support_1, torch.matmul(X, self.W))\n",
    "        \n",
    "        # ReLU(D^-1/2 * A_hat * D^-1/2 *X*W)\n",
    "        H=F.relu(support_2)\n",
    "        \n",
    "        return H\n",
    "    \n",
    "    \n",
    "# example usage\n",
    "input_dim=3\n",
    "output_dim=2\n",
    "    \n",
    "A=torch.tensor([[1.,0.,0.],[0.,1.,1.],[0.,1.,1.]])\n",
    "    \n",
    "gcn_layer=GCNLayer(input_dim, output_dim, A)\n",
    "    \n",
    "X=torch.tensor([[1.,2.,3.],[4.,5.,6.],[7.,8.,9.]])\n",
    "    \n",
    "output=gcn_layer(X)\n",
    "\n",
    "output"
   ]
  },
  {
   "cell_type": "markdown",
   "id": "a4ffb93c",
   "metadata": {
    "papermill": {
     "duration": 0.001956,
     "end_time": "2024-04-18T00:54:24.650869",
     "exception": false,
     "start_time": "2024-04-18T00:54:24.648913",
     "status": "completed"
    },
    "tags": []
   },
   "source": [
    "# Acknowledge\n",
    "\n",
    "* https://medium.com/@jrosseruk/demystifying-gcns-a-step-by-step-guide-to-building-a-graph-convolutional-network-layer-in-pytorch-09bf2e788a51"
   ]
  }
 ],
 "metadata": {
  "kaggle": {
   "accelerator": "none",
   "dataSources": [],
   "dockerImageVersionId": 30684,
   "isGpuEnabled": false,
   "isInternetEnabled": true,
   "language": "python",
   "sourceType": "notebook"
  },
  "kernelspec": {
   "display_name": "Python 3",
   "language": "python",
   "name": "python3"
  },
  "language_info": {
   "codemirror_mode": {
    "name": "ipython",
    "version": 3
   },
   "file_extension": ".py",
   "mimetype": "text/x-python",
   "name": "python",
   "nbconvert_exporter": "python",
   "pygments_lexer": "ipython3",
   "version": "3.10.13"
  },
  "papermill": {
   "default_parameters": {},
   "duration": 7.96808,
   "end_time": "2024-04-18T00:54:25.475694",
   "environment_variables": {},
   "exception": null,
   "input_path": "__notebook__.ipynb",
   "output_path": "__notebook__.ipynb",
   "parameters": {},
   "start_time": "2024-04-18T00:54:17.507614",
   "version": "2.5.0"
  }
 },
 "nbformat": 4,
 "nbformat_minor": 5
}
