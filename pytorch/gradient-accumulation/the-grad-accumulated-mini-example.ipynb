{
 "cells": [
  {
   "cell_type": "code",
   "execution_count": 1,
   "id": "ad534196",
   "metadata": {
    "_cell_guid": "b1076dfc-b9ad-4769-8c92-a6c4dae69d19",
    "_uuid": "8f2839f25d086af736a60e9eeb907d3b93b6e0e5",
    "execution": {
     "iopub.execute_input": "2025-02-01T08:41:32.308698Z",
     "iopub.status.busy": "2025-02-01T08:41:32.308226Z",
     "iopub.status.idle": "2025-02-01T08:41:36.287640Z",
     "shell.execute_reply": "2025-02-01T08:41:36.286187Z"
    },
    "papermill": {
     "duration": 3.985797,
     "end_time": "2025-02-01T08:41:36.289702",
     "exception": false,
     "start_time": "2025-02-01T08:41:32.303905",
     "status": "completed"
    },
    "tags": []
   },
   "outputs": [
    {
     "name": "stdout",
     "output_type": "stream",
     "text": [
      "torch.Size([4, 16])\n",
      "torch.Size([4, 1])\n"
     ]
    }
   ],
   "source": [
    "import torch\n",
    "import torch.nn as nn\n",
    "from torch import random, randn\n",
    "from torchinfo import summary\n",
    "\n",
    "## super simple little MLP\n",
    "net=nn.Sequential(\n",
    "    nn.Linear(16,32),\n",
    "    nn.GELU(),\n",
    "    nn.Linear(32,1)\n",
    ")\n",
    "\n",
    "torch.random.manual_seed(42)\n",
    "\n",
    "x=randn(4, 16)\n",
    "y=randn(4, 1)\n",
    "\n",
    "print(x.shape)\n",
    "print(y.shape)"
   ]
  },
  {
   "cell_type": "code",
   "execution_count": 2,
   "id": "2aad5936",
   "metadata": {
    "execution": {
     "iopub.execute_input": "2025-02-01T08:41:36.296354Z",
     "iopub.status.busy": "2025-02-01T08:41:36.295884Z",
     "iopub.status.idle": "2025-02-01T08:41:36.373633Z",
     "shell.execute_reply": "2025-02-01T08:41:36.372513Z"
    },
    "papermill": {
     "duration": 0.083145,
     "end_time": "2025-02-01T08:41:36.375664",
     "exception": false,
     "start_time": "2025-02-01T08:41:36.292519",
     "status": "completed"
    },
    "tags": []
   },
   "outputs": [
    {
     "data": {
      "text/plain": [
       "==========================================================================================\n",
       "Layer (type:depth-idx)                   Output Shape              Param #\n",
       "==========================================================================================\n",
       "Sequential                               [4, 1]                    --\n",
       "├─Linear: 1-1                            [4, 32]                   544\n",
       "├─GELU: 1-2                              [4, 32]                   --\n",
       "├─Linear: 1-3                            [4, 1]                    33\n",
       "==========================================================================================\n",
       "Total params: 577\n",
       "Trainable params: 577\n",
       "Non-trainable params: 0\n",
       "Total mult-adds (M): 0.00\n",
       "==========================================================================================\n",
       "Input size (MB): 0.00\n",
       "Forward/backward pass size (MB): 0.00\n",
       "Params size (MB): 0.00\n",
       "Estimated Total Size (MB): 0.00\n",
       "=========================================================================================="
      ]
     },
     "execution_count": 2,
     "metadata": {},
     "output_type": "execute_result"
    }
   ],
   "source": [
    "summary(net, input_size=(4,16))"
   ]
  },
  {
   "cell_type": "code",
   "execution_count": 3,
   "id": "597053f3",
   "metadata": {
    "_kg_hide-output": true,
    "execution": {
     "iopub.execute_input": "2025-02-01T08:41:36.382269Z",
     "iopub.status.busy": "2025-02-01T08:41:36.381931Z",
     "iopub.status.idle": "2025-02-01T08:41:36.423969Z",
     "shell.execute_reply": "2025-02-01T08:41:36.422884Z"
    },
    "papermill": {
     "duration": 0.047295,
     "end_time": "2025-02-01T08:41:36.425762",
     "exception": false,
     "start_time": "2025-02-01T08:41:36.378467",
     "status": "completed"
    },
    "tags": []
   },
   "outputs": [
    {
     "name": "stdout",
     "output_type": "stream",
     "text": [
      "tensor([[ 1.9269,  1.4873,  0.9007, -2.1055,  0.6784, -1.2345, -0.0431, -1.6047,\n",
      "         -0.7521,  1.6487, -0.3925, -1.4036, -0.7279, -0.5594, -0.7688,  0.7624],\n",
      "        [ 1.6423, -0.1596, -0.4974,  0.4396, -0.7581,  1.0783,  0.8008,  1.6806,\n",
      "          1.2791,  1.2964,  0.6105,  1.3347, -0.2316,  0.0418, -0.2516,  0.8599],\n",
      "        [-1.3847, -0.8712, -0.2234,  1.7174,  0.3189, -0.4245,  0.3057, -0.7746,\n",
      "         -1.5576,  0.9956, -0.8798, -0.6011, -1.2742,  2.1228, -1.2347, -0.4879],\n",
      "        [-0.9138, -0.6581,  0.0780,  0.5258, -0.4880,  1.1914, -0.8140, -0.7360,\n",
      "         -1.4032,  0.0360, -0.0635,  0.6756, -0.0978,  1.8446, -1.1845,  1.3835]])\n"
     ]
    }
   ],
   "source": [
    "print(x)"
   ]
  },
  {
   "cell_type": "code",
   "execution_count": 4,
   "id": "d3da066d",
   "metadata": {
    "_kg_hide-output": true,
    "execution": {
     "iopub.execute_input": "2025-02-01T08:41:36.433778Z",
     "iopub.status.busy": "2025-02-01T08:41:36.433447Z",
     "iopub.status.idle": "2025-02-01T08:41:36.439372Z",
     "shell.execute_reply": "2025-02-01T08:41:36.438299Z"
    },
    "papermill": {
     "duration": 0.012333,
     "end_time": "2025-02-01T08:41:36.440946",
     "exception": false,
     "start_time": "2025-02-01T08:41:36.428613",
     "status": "completed"
    },
    "tags": []
   },
   "outputs": [
    {
     "name": "stdout",
     "output_type": "stream",
     "text": [
      "tensor([ 1.9269,  1.4873,  0.9007, -2.1055,  0.6784, -1.2345, -0.0431, -1.6047,\n",
      "        -0.7521,  1.6487, -0.3925, -1.4036, -0.7279, -0.5594, -0.7688,  0.7624])\n"
     ]
    }
   ],
   "source": [
    "print(x[0])"
   ]
  },
  {
   "cell_type": "code",
   "execution_count": 5,
   "id": "5fce5c88",
   "metadata": {
    "_kg_hide-output": true,
    "execution": {
     "iopub.execute_input": "2025-02-01T08:41:36.448054Z",
     "iopub.status.busy": "2025-02-01T08:41:36.447693Z",
     "iopub.status.idle": "2025-02-01T08:41:36.453473Z",
     "shell.execute_reply": "2025-02-01T08:41:36.452440Z"
    },
    "papermill": {
     "duration": 0.011473,
     "end_time": "2025-02-01T08:41:36.455424",
     "exception": false,
     "start_time": "2025-02-01T08:41:36.443951",
     "status": "completed"
    },
    "tags": []
   },
   "outputs": [
    {
     "name": "stdout",
     "output_type": "stream",
     "text": [
      "tensor([[ 0.1331],\n",
      "        [ 0.8640],\n",
      "        [-1.0157],\n",
      "        [-0.8887]])\n"
     ]
    }
   ],
   "source": [
    "print(y)"
   ]
  },
  {
   "cell_type": "code",
   "execution_count": 6,
   "id": "b44f947b",
   "metadata": {
    "_kg_hide-output": true,
    "execution": {
     "iopub.execute_input": "2025-02-01T08:41:36.462828Z",
     "iopub.status.busy": "2025-02-01T08:41:36.462474Z",
     "iopub.status.idle": "2025-02-01T08:41:36.468245Z",
     "shell.execute_reply": "2025-02-01T08:41:36.467207Z"
    },
    "papermill": {
     "duration": 0.011209,
     "end_time": "2025-02-01T08:41:36.469924",
     "exception": false,
     "start_time": "2025-02-01T08:41:36.458715",
     "status": "completed"
    },
    "tags": []
   },
   "outputs": [
    {
     "name": "stdout",
     "output_type": "stream",
     "text": [
      "tensor([0.1331])\n"
     ]
    }
   ],
   "source": [
    "print(y[0])"
   ]
  },
  {
   "cell_type": "code",
   "execution_count": 7,
   "id": "372a2904",
   "metadata": {
    "execution": {
     "iopub.execute_input": "2025-02-01T08:41:36.477079Z",
     "iopub.status.busy": "2025-02-01T08:41:36.476685Z",
     "iopub.status.idle": "2025-02-01T08:41:36.528288Z",
     "shell.execute_reply": "2025-02-01T08:41:36.527025Z"
    },
    "papermill": {
     "duration": 0.057303,
     "end_time": "2025-02-01T08:41:36.530257",
     "exception": false,
     "start_time": "2025-02-01T08:41:36.472954",
     "status": "completed"
    },
    "tags": []
   },
   "outputs": [
    {
     "name": "stdout",
     "output_type": "stream",
     "text": [
      "tensor([ 0.0764,  0.0304, -0.0048, -0.0403, -0.0077, -0.0008,  0.0250,  0.0585,\n",
      "         0.0830,  0.0015])\n"
     ]
    }
   ],
   "source": [
    "net.zero_grad()\n",
    "\n",
    "yhat=net(x)\n",
    "\n",
    "loss=nn.functional.mse_loss(yhat, y)\n",
    "loss.backward()\n",
    "\n",
    "print(net[0].weight.grad.view(-1)[:10])"
   ]
  }
 ],
 "metadata": {
  "kaggle": {
   "accelerator": "none",
   "dataSources": [],
   "dockerImageVersionId": 30839,
   "isGpuEnabled": false,
   "isInternetEnabled": true,
   "language": "python",
   "sourceType": "notebook"
  },
  "kernelspec": {
   "display_name": "Python 3",
   "language": "python",
   "name": "python3"
  },
  "language_info": {
   "codemirror_mode": {
    "name": "ipython",
    "version": 3
   },
   "file_extension": ".py",
   "mimetype": "text/x-python",
   "name": "python",
   "nbconvert_exporter": "python",
   "pygments_lexer": "ipython3",
   "version": "3.10.12"
  },
  "papermill": {
   "default_parameters": {},
   "duration": 8.531752,
   "end_time": "2025-02-01T08:41:37.955522",
   "environment_variables": {},
   "exception": null,
   "input_path": "__notebook__.ipynb",
   "output_path": "__notebook__.ipynb",
   "parameters": {},
   "start_time": "2025-02-01T08:41:29.423770",
   "version": "2.6.0"
  }
 },
 "nbformat": 4,
 "nbformat_minor": 5
}
