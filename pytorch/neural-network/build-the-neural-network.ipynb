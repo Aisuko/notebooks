{
 "cells": [
  {
   "cell_type": "markdown",
   "id": "cc2d3dff",
   "metadata": {
    "_cell_guid": "b1076dfc-b9ad-4769-8c92-a6c4dae69d19",
    "_uuid": "8f2839f25d086af736a60e9eeb907d3b93b6e0e5",
    "papermill": {
     "duration": 0.005417,
     "end_time": "2024-01-31T07:03:17.957441",
     "exception": false,
     "start_time": "2024-01-31T07:03:17.952024",
     "status": "completed"
    },
    "tags": []
   },
   "source": [
    "# Overview\n",
    "\n",
    "Neural networks comprise of layers/modules that perform operations on data. The `torch.nn` namespace provides all the building blocks you need to build your own neural networks. Every module in PyTorch subclasses the `nn.Module`. A neural network is a module itself that consists of other modules(layers). This nested structure allows for building and managing complex architectures easily.\n",
    "\n",
    "\n",
    "# Define the Neural Network\n",
    "\n",
    "We define our neural network by subclassing `nn.Module`, and initialize the neural network layers in `__init__`. Every `nn.Module` subclass implements the operatioins on input data in the `forward` method."
   ]
  },
  {
   "cell_type": "code",
   "execution_count": 1,
   "id": "be335dd7",
   "metadata": {
    "execution": {
     "iopub.execute_input": "2024-01-31T07:03:17.968203Z",
     "iopub.status.busy": "2024-01-31T07:03:17.967917Z",
     "iopub.status.idle": "2024-01-31T07:03:21.954464Z",
     "shell.execute_reply": "2024-01-31T07:03:21.953500Z"
    },
    "papermill": {
     "duration": 3.994253,
     "end_time": "2024-01-31T07:03:21.956682",
     "exception": false,
     "start_time": "2024-01-31T07:03:17.962429",
     "status": "completed"
    },
    "tags": []
   },
   "outputs": [
    {
     "data": {
      "text/plain": [
       "NeuralNetwork(\n",
       "  (flatten): Flatten(start_dim=1, end_dim=-1)\n",
       "  (linear_relu_stack): Sequential(\n",
       "    (0): Linear(in_features=784, out_features=512, bias=True)\n",
       "    (1): ReLU()\n",
       "    (2): Linear(in_features=512, out_features=512, bias=True)\n",
       "    (3): ReLU()\n",
       "    (4): Linear(in_features=512, out_features=10, bias=True)\n",
       "  )\n",
       ")"
      ]
     },
     "execution_count": 1,
     "metadata": {},
     "output_type": "execute_result"
    }
   ],
   "source": [
    "from torch import nn\n",
    "\n",
    "class NeuralNetwork(nn.Module):\n",
    "    def __init__(self):\n",
    "        super().__init__()\n",
    "        self.flatten=nn.Flatten()\n",
    "        self.linear_relu_stack=nn.Sequential(\n",
    "            nn.Linear(28*28, 512),\n",
    "            nn.ReLU(),\n",
    "            nn.Linear(512,512),\n",
    "            nn.ReLU(),\n",
    "            nn.Linear(512, 10)\n",
    "        )\n",
    "        \n",
    "    def forward(self, x):\n",
    "        x=self.flatten(x)\n",
    "        logits=self.linear_relu_stack(x)\n",
    "        return logits\n",
    "\n",
    "model=NeuralNetwork().to('cuda')\n",
    "# print the model structure\n",
    "model"
   ]
  },
  {
   "cell_type": "markdown",
   "id": "86c392cf",
   "metadata": {
    "papermill": {
     "duration": 0.004824,
     "end_time": "2024-01-31T07:03:21.966848",
     "exception": false,
     "start_time": "2024-01-31T07:03:21.962024",
     "status": "completed"
    },
    "tags": []
   },
   "source": [
    "## How to use it?\n",
    "\n",
    "The use the model, we pass it the input data. This executes the model's forward, along with some background operations.\n",
    "\n",
    "Calling the model on the input returns a 2-dimensional tensor with dim=0 corresponding to each output of 10 raw predicted values for each class, and dim=1 corresponding to the individual values of each output. We get the prediction probabilities by passing it through an instance of the `nn.Softmax` module."
   ]
  },
  {
   "cell_type": "code",
   "execution_count": 2,
   "id": "a56129c1",
   "metadata": {
    "execution": {
     "iopub.execute_input": "2024-01-31T07:03:21.977873Z",
     "iopub.status.busy": "2024-01-31T07:03:21.977522Z",
     "iopub.status.idle": "2024-01-31T07:03:22.195622Z",
     "shell.execute_reply": "2024-01-31T07:03:22.194714Z"
    },
    "papermill": {
     "duration": 0.225935,
     "end_time": "2024-01-31T07:03:22.197666",
     "exception": false,
     "start_time": "2024-01-31T07:03:21.971731",
     "status": "completed"
    },
    "tags": []
   },
   "outputs": [
    {
     "data": {
      "text/plain": [
       "tensor([9], device='cuda:0')"
      ]
     },
     "execution_count": 2,
     "metadata": {},
     "output_type": "execute_result"
    }
   ],
   "source": [
    "import torch\n",
    "\n",
    "X=torch.rand(1, 28, 28, device='cuda')\n",
    "logits=model(X)\n",
    "pred_probab=nn.Softmax(dim=1)(logits)\n",
    "y_pred=pred_probab.argmax(1)\n",
    "y_pred"
   ]
  },
  {
   "cell_type": "markdown",
   "id": "bb63a2aa",
   "metadata": {
    "papermill": {
     "duration": 0.004981,
     "end_time": "2024-01-31T07:03:22.207842",
     "exception": false,
     "start_time": "2024-01-31T07:03:22.202861",
     "status": "completed"
    },
    "tags": []
   },
   "source": [
    "# Model Layers\n",
    "\n",
    "Let's break down the layers in the FashionMNIST model. To illustrate it, we will take a sample minibatch of 3 images of size `28*28` and see what happens to it as we pass it through the network."
   ]
  },
  {
   "cell_type": "code",
   "execution_count": 3,
   "id": "2c1da3d4",
   "metadata": {
    "execution": {
     "iopub.execute_input": "2024-01-31T07:03:22.219165Z",
     "iopub.status.busy": "2024-01-31T07:03:22.218650Z",
     "iopub.status.idle": "2024-01-31T07:03:22.224565Z",
     "shell.execute_reply": "2024-01-31T07:03:22.223774Z"
    },
    "papermill": {
     "duration": 0.013749,
     "end_time": "2024-01-31T07:03:22.226564",
     "exception": false,
     "start_time": "2024-01-31T07:03:22.212815",
     "status": "completed"
    },
    "tags": []
   },
   "outputs": [
    {
     "data": {
      "text/plain": [
       "torch.Size([3, 28, 28])"
      ]
     },
     "execution_count": 3,
     "metadata": {},
     "output_type": "execute_result"
    }
   ],
   "source": [
    "input_image=torch.rand(3, 28,28)\n",
    "input_image.size()"
   ]
  },
  {
   "cell_type": "markdown",
   "id": "314ccc85",
   "metadata": {
    "papermill": {
     "duration": 0.004992,
     "end_time": "2024-01-31T07:03:22.236623",
     "exception": false,
     "start_time": "2024-01-31T07:03:22.231631",
     "status": "completed"
    },
    "tags": []
   },
   "source": [
    "## nn.Flatten\n",
    "\n",
    "We initialize the `nn.Flatten` layer to convert each  2D `28*28` image into a contiguous array of 784 pixel values( the minibatch dimension(at dim=0) is maintained)"
   ]
  },
  {
   "cell_type": "code",
   "execution_count": 4,
   "id": "3717c2b8",
   "metadata": {
    "execution": {
     "iopub.execute_input": "2024-01-31T07:03:22.247712Z",
     "iopub.status.busy": "2024-01-31T07:03:22.247470Z",
     "iopub.status.idle": "2024-01-31T07:03:22.253648Z",
     "shell.execute_reply": "2024-01-31T07:03:22.252862Z"
    },
    "papermill": {
     "duration": 0.013789,
     "end_time": "2024-01-31T07:03:22.255474",
     "exception": false,
     "start_time": "2024-01-31T07:03:22.241685",
     "status": "completed"
    },
    "tags": []
   },
   "outputs": [
    {
     "data": {
      "text/plain": [
       "torch.Size([3, 784])"
      ]
     },
     "execution_count": 4,
     "metadata": {},
     "output_type": "execute_result"
    }
   ],
   "source": [
    "flatten=nn.Flatten()\n",
    "flat_image=flatten(input_image)\n",
    "flat_image.size()"
   ]
  },
  {
   "cell_type": "markdown",
   "id": "9dd9eefe",
   "metadata": {
    "papermill": {
     "duration": 0.005151,
     "end_time": "2024-01-31T07:03:22.265887",
     "exception": false,
     "start_time": "2024-01-31T07:03:22.260736",
     "status": "completed"
    },
    "tags": []
   },
   "source": [
    "## nn.Linear\n",
    "\n",
    "The `linear layer` is a module that applies a linear transformation on the input using it stored weightds and biases"
   ]
  },
  {
   "cell_type": "code",
   "execution_count": 5,
   "id": "ec2705e6",
   "metadata": {
    "execution": {
     "iopub.execute_input": "2024-01-31T07:03:22.277425Z",
     "iopub.status.busy": "2024-01-31T07:03:22.277155Z",
     "iopub.status.idle": "2024-01-31T07:03:22.325716Z",
     "shell.execute_reply": "2024-01-31T07:03:22.324926Z"
    },
    "papermill": {
     "duration": 0.056497,
     "end_time": "2024-01-31T07:03:22.327645",
     "exception": false,
     "start_time": "2024-01-31T07:03:22.271148",
     "status": "completed"
    },
    "tags": []
   },
   "outputs": [
    {
     "data": {
      "text/plain": [
       "torch.Size([3, 20])"
      ]
     },
     "execution_count": 5,
     "metadata": {},
     "output_type": "execute_result"
    }
   ],
   "source": [
    "layer1=nn.Linear(in_features=28*28, out_features=20)\n",
    "hidden1=layer1(flat_image)\n",
    "hidden1.size()"
   ]
  },
  {
   "cell_type": "markdown",
   "id": "087a96e2",
   "metadata": {
    "papermill": {
     "duration": 0.005324,
     "end_time": "2024-01-31T07:03:22.338489",
     "exception": false,
     "start_time": "2024-01-31T07:03:22.333165",
     "status": "completed"
    },
    "tags": []
   },
   "source": [
    "## nn.ReLU\n",
    "\n",
    "Non-linear activations are what create the complex mappings between the model's inputs and outptus. They are applied after linear transformations to introduce `nonlinearity`, helping neural networks learn a wide variety of phenomena.\n",
    "\n",
    "In this model, we use `nn.ReLU` between our linear layers, but there's other activations to introduce non-linearity in your model."
   ]
  },
  {
   "cell_type": "code",
   "execution_count": 6,
   "id": "42e5b15c",
   "metadata": {
    "execution": {
     "iopub.execute_input": "2024-01-31T07:03:22.350275Z",
     "iopub.status.busy": "2024-01-31T07:03:22.349997Z",
     "iopub.status.idle": "2024-01-31T07:03:22.385357Z",
     "shell.execute_reply": "2024-01-31T07:03:22.384398Z"
    },
    "papermill": {
     "duration": 0.043508,
     "end_time": "2024-01-31T07:03:22.387340",
     "exception": false,
     "start_time": "2024-01-31T07:03:22.343832",
     "status": "completed"
    },
    "tags": []
   },
   "outputs": [
    {
     "data": {
      "text/plain": [
       "tensor([[0.0000, 0.1771, 0.0000, 0.0000, 0.0000, 0.0000, 0.0000, 0.3789, 0.0000,\n",
       "         0.1292, 0.2940, 0.4488, 0.0000, 0.0000, 0.4081, 0.9184, 0.0000, 0.1930,\n",
       "         0.0000, 0.3340],\n",
       "        [0.0115, 0.0000, 0.0000, 0.0000, 0.0000, 0.0000, 0.0445, 0.0547, 0.0000,\n",
       "         0.0533, 0.1382, 0.6336, 0.0000, 0.0637, 0.6124, 0.5755, 0.0000, 0.4556,\n",
       "         0.2564, 0.1648],\n",
       "        [0.0000, 0.0190, 0.0000, 0.0000, 0.0000, 0.2212, 0.0679, 0.1994, 0.0000,\n",
       "         0.0000, 0.1587, 0.5104, 0.0000, 0.3075, 0.5165, 0.4977, 0.0000, 0.3520,\n",
       "         0.0000, 0.0000]], grad_fn=<ReluBackward0>)"
      ]
     },
     "execution_count": 6,
     "metadata": {},
     "output_type": "execute_result"
    }
   ],
   "source": [
    "hidden1\n",
    "hidden1=nn.ReLU()(hidden1)\n",
    "hidden1"
   ]
  },
  {
   "cell_type": "markdown",
   "id": "48a626f6",
   "metadata": {
    "papermill": {
     "duration": 0.005445,
     "end_time": "2024-01-31T07:03:22.399358",
     "exception": false,
     "start_time": "2024-01-31T07:03:22.393913",
     "status": "completed"
    },
    "tags": []
   },
   "source": [
    "## nn.Sequential\n",
    "\n",
    "`nn.Sequential` is an ordered container of modules. The data is passed through all the modules in the same order as defined. You can use sequantial containers to put together a quick network like `seq_modules`."
   ]
  },
  {
   "cell_type": "code",
   "execution_count": 7,
   "id": "173e9e90",
   "metadata": {
    "execution": {
     "iopub.execute_input": "2024-01-31T07:03:22.411348Z",
     "iopub.status.busy": "2024-01-31T07:03:22.411102Z",
     "iopub.status.idle": "2024-01-31T07:03:22.420011Z",
     "shell.execute_reply": "2024-01-31T07:03:22.419290Z"
    },
    "papermill": {
     "duration": 0.017024,
     "end_time": "2024-01-31T07:03:22.421834",
     "exception": false,
     "start_time": "2024-01-31T07:03:22.404810",
     "status": "completed"
    },
    "tags": []
   },
   "outputs": [],
   "source": [
    "seq_modules=nn.Sequential(\n",
    "    flatten,\n",
    "    layer1,\n",
    "    nn.ReLU(),\n",
    "    nn.Linear(20,10)\n",
    ")\n",
    "\n",
    "input_image=torch.rand(3,28,28)\n",
    "logits=seq_modules(input_image)"
   ]
  },
  {
   "cell_type": "markdown",
   "id": "5475967a",
   "metadata": {
    "papermill": {
     "duration": 0.005235,
     "end_time": "2024-01-31T07:03:22.432532",
     "exception": false,
     "start_time": "2024-01-31T07:03:22.427297",
     "status": "completed"
    },
    "tags": []
   },
   "source": [
    "## nn.Softmax\n",
    "\n",
    "The last linear layer of the neural network return `logits` -raw values in [-infty, infty]- which are passed to the `nn.Softmax` module. The logits are scaled to values [0,1] representing the model's predicted probabilities for each class. `dim` parameter indicates the dimension along which the values must sum to 1."
   ]
  },
  {
   "cell_type": "code",
   "execution_count": 8,
   "id": "e8517316",
   "metadata": {
    "execution": {
     "iopub.execute_input": "2024-01-31T07:03:22.444513Z",
     "iopub.status.busy": "2024-01-31T07:03:22.444263Z",
     "iopub.status.idle": "2024-01-31T07:03:22.451949Z",
     "shell.execute_reply": "2024-01-31T07:03:22.451292Z"
    },
    "papermill": {
     "duration": 0.01575,
     "end_time": "2024-01-31T07:03:22.453817",
     "exception": false,
     "start_time": "2024-01-31T07:03:22.438067",
     "status": "completed"
    },
    "tags": []
   },
   "outputs": [],
   "source": [
    "softmax=nn.Softmax(dim=1)\n",
    "pred_probab=softmax(logits)"
   ]
  },
  {
   "cell_type": "markdown",
   "id": "196c3228",
   "metadata": {
    "papermill": {
     "duration": 0.005326,
     "end_time": "2024-01-31T07:03:22.464621",
     "exception": false,
     "start_time": "2024-01-31T07:03:22.459295",
     "status": "completed"
    },
    "tags": []
   },
   "source": [
    "# Model Parameters\n",
    "\n",
    "Many layers inside a neural network are `parameterized`, i.e. have associated weights and biases that are optimized during training. Subclassing `nn.Module` automatically tracks all fields defined inside your model object, and makes all parameters accessible using your model's `parameters()` of `named_parameters()` methods."
   ]
  },
  {
   "cell_type": "code",
   "execution_count": 9,
   "id": "1a599509",
   "metadata": {
    "execution": {
     "iopub.execute_input": "2024-01-31T07:03:22.476504Z",
     "iopub.status.busy": "2024-01-31T07:03:22.476258Z",
     "iopub.status.idle": "2024-01-31T07:03:22.754481Z",
     "shell.execute_reply": "2024-01-31T07:03:22.753469Z"
    },
    "papermill": {
     "duration": 0.286848,
     "end_time": "2024-01-31T07:03:22.756990",
     "exception": false,
     "start_time": "2024-01-31T07:03:22.470142",
     "status": "completed"
    },
    "tags": []
   },
   "outputs": [
    {
     "name": "stdout",
     "output_type": "stream",
     "text": [
      "Layer:linear_relu_stack.0.weight | Size: torch.Size([512, 784]) | Values: tensor([[ 0.0077,  0.0262,  0.0144,  ...,  0.0108, -0.0259, -0.0011],\n",
      "        [ 0.0314, -0.0058, -0.0080,  ..., -0.0285, -0.0137, -0.0182]],\n",
      "       device='cuda:0', grad_fn=<SliceBackward0>)\n",
      "Layer:linear_relu_stack.0.bias | Size: torch.Size([512]) | Values: tensor([-0.0142, -0.0329], device='cuda:0', grad_fn=<SliceBackward0>)\n",
      "Layer:linear_relu_stack.2.weight | Size: torch.Size([512, 512]) | Values: tensor([[ 0.0404, -0.0252, -0.0311,  ..., -0.0264, -0.0133,  0.0117],\n",
      "        [-0.0259, -0.0330,  0.0201,  ...,  0.0233, -0.0439, -0.0172]],\n",
      "       device='cuda:0', grad_fn=<SliceBackward0>)\n",
      "Layer:linear_relu_stack.2.bias | Size: torch.Size([512]) | Values: tensor([-0.0034, -0.0051], device='cuda:0', grad_fn=<SliceBackward0>)\n",
      "Layer:linear_relu_stack.4.weight | Size: torch.Size([10, 512]) | Values: tensor([[-0.0347,  0.0083, -0.0411,  ...,  0.0140, -0.0397, -0.0369],\n",
      "        [-0.0205, -0.0041, -0.0242,  ...,  0.0097,  0.0272,  0.0355]],\n",
      "       device='cuda:0', grad_fn=<SliceBackward0>)\n",
      "Layer:linear_relu_stack.4.bias | Size: torch.Size([10]) | Values: tensor([-0.0084, -0.0436], device='cuda:0', grad_fn=<SliceBackward0>)\n"
     ]
    }
   ],
   "source": [
    "for name,param in model.named_parameters():\n",
    "    print(f'Layer:{name} | Size: {param.size()} | Values: {param[:2]}')"
   ]
  },
  {
   "cell_type": "markdown",
   "id": "d64b4918",
   "metadata": {
    "papermill": {
     "duration": 0.005608,
     "end_time": "2024-01-31T07:03:22.768646",
     "exception": false,
     "start_time": "2024-01-31T07:03:22.763038",
     "status": "completed"
    },
    "tags": []
   },
   "source": [
    "# Reference\n",
    "\n",
    "* https://pytorch.org/docs/stable/nn.html\n",
    "* https://pytorch.org/tutorials/beginner/basics/buildmodel_tutorial.html"
   ]
  }
 ],
 "metadata": {
  "kaggle": {
   "accelerator": "gpu",
   "dataSources": [],
   "dockerImageVersionId": 30648,
   "isGpuEnabled": true,
   "isInternetEnabled": true,
   "language": "python",
   "sourceType": "notebook"
  },
  "kernelspec": {
   "display_name": "Python 3",
   "language": "python",
   "name": "python3"
  },
  "language_info": {
   "codemirror_mode": {
    "name": "ipython",
    "version": 3
   },
   "file_extension": ".py",
   "mimetype": "text/x-python",
   "name": "python",
   "nbconvert_exporter": "python",
   "pygments_lexer": "ipython3",
   "version": "3.10.13"
  },
  "papermill": {
   "default_parameters": {},
   "duration": 8.572718,
   "end_time": "2024-01-31T07:03:23.794784",
   "environment_variables": {},
   "exception": null,
   "input_path": "__notebook__.ipynb",
   "output_path": "__notebook__.ipynb",
   "parameters": {},
   "start_time": "2024-01-31T07:03:15.222066",
   "version": "2.5.0"
  }
 },
 "nbformat": 4,
 "nbformat_minor": 5
}
