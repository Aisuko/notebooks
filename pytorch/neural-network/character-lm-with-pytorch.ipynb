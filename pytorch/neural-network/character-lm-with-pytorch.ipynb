{
 "cells": [
  {
   "cell_type": "markdown",
   "id": "2d691706",
   "metadata": {
    "papermill": {
     "duration": 0.004583,
     "end_time": "2024-07-13T01:49:02.924365",
     "exception": false,
     "start_time": "2024-07-13T01:49:02.919782",
     "status": "completed"
    },
    "tags": []
   },
   "source": [
    "# Overview\n",
    "\n",
    "Let's create neural network with PyTorch with following steps:\n",
    "* Pre-process dataset\n",
    "  * Create vocabulary\n",
    "* Convert integer to tensor\n",
    "* Feeding into neural network\n",
    "* Define Neural network\n",
    "* Evaluate loss function"
   ]
  },
  {
   "cell_type": "code",
   "execution_count": 1,
   "id": "ca2be191",
   "metadata": {
    "execution": {
     "iopub.execute_input": "2024-07-13T01:49:02.934421Z",
     "iopub.status.busy": "2024-07-13T01:49:02.934002Z",
     "iopub.status.idle": "2024-07-13T01:49:02.959652Z",
     "shell.execute_reply": "2024-07-13T01:49:02.958301Z"
    },
    "papermill": {
     "duration": 0.033876,
     "end_time": "2024-07-13T01:49:02.962539",
     "exception": false,
     "start_time": "2024-07-13T01:49:02.928663",
     "status": "completed"
    },
    "tags": []
   },
   "outputs": [
    {
     "name": "stdout",
     "output_type": "stream",
     "text": [
      "32033\n"
     ]
    }
   ],
   "source": [
    "words=open('/kaggle/input/character-lm-without-framework/names.txt','r').read().splitlines()\n",
    "print(len(words))"
   ]
  },
  {
   "cell_type": "code",
   "execution_count": 2,
   "id": "0a74272b",
   "metadata": {
    "execution": {
     "iopub.execute_input": "2024-07-13T01:49:02.973287Z",
     "iopub.status.busy": "2024-07-13T01:49:02.972817Z",
     "iopub.status.idle": "2024-07-13T01:49:02.983310Z",
     "shell.execute_reply": "2024-07-13T01:49:02.982170Z"
    },
    "papermill": {
     "duration": 0.018691,
     "end_time": "2024-07-13T01:49:02.985696",
     "exception": false,
     "start_time": "2024-07-13T01:49:02.967005",
     "status": "completed"
    },
    "tags": []
   },
   "outputs": [],
   "source": [
    "chars=sorted(list(set(''.join(words))))\n",
    "stoi={s:i+1 for i,s in enumerate(chars)}\n",
    "stoi['.']=0\n",
    "itos={i:s for s,i in stoi.items()}"
   ]
  },
  {
   "cell_type": "code",
   "execution_count": 3,
   "id": "5587f3a9",
   "metadata": {
    "execution": {
     "iopub.execute_input": "2024-07-13T01:49:02.996182Z",
     "iopub.status.busy": "2024-07-13T01:49:02.995781Z",
     "iopub.status.idle": "2024-07-13T01:49:06.675416Z",
     "shell.execute_reply": "2024-07-13T01:49:06.674031Z"
    },
    "papermill": {
     "duration": 3.687742,
     "end_time": "2024-07-13T01:49:06.677828",
     "exception": false,
     "start_time": "2024-07-13T01:49:02.990086",
     "status": "completed"
    },
    "tags": []
   },
   "outputs": [
    {
     "name": "stdout",
     "output_type": "stream",
     "text": [
      ". e\n",
      "e m\n",
      "m m\n",
      "m a\n",
      "a .\n",
      "tensor([ 0,  5, 13, 13,  1])\n",
      "tensor([ 5, 13, 13,  1,  0])\n"
     ]
    }
   ],
   "source": [
    "import torch\n",
    "\n",
    "# create the training set of bigrams (x,y)\n",
    "xs, ys = [], []\n",
    "\n",
    "for w in words[:1]:\n",
    "    chs= ['.'] +list(w) + ['.']\n",
    "    for ch1, ch2 in zip(chs, chs[1:]):\n",
    "        ix1=stoi[ch1]\n",
    "        ix2=stoi[ch2]\n",
    "        print(ch1,ch2)\n",
    "        xs.append(ix1)\n",
    "        ys.append(ix2)\n",
    "xs=torch.tensor(xs)\n",
    "ys=torch.tensor(ys)\n",
    "print(xs)\n",
    "print(ys)"
   ]
  },
  {
   "cell_type": "markdown",
   "id": "5d5c2e0a",
   "metadata": {
    "_cell_guid": "b1076dfc-b9ad-4769-8c92-a6c4dae69d19",
    "_uuid": "8f2839f25d086af736a60e9eeb907d3b93b6e0e5",
    "papermill": {
     "duration": 0.003994,
     "end_time": "2024-07-13T01:49:06.686204",
     "exception": false,
     "start_time": "2024-07-13T01:49:06.682210",
     "status": "completed"
    },
    "tags": []
   },
   "source": [
    "# One-hot encodings(for integers)\n",
    "\n",
    "```bash\n",
    "# num_classes-> how long you want the tensor to be?\n",
    "torch.nn.functionl.one_hot(13, num_classes=27)\n",
    "```\n",
    "\n",
    "# Feeding data into neural network\n",
    "\n",
    "**Note:** We want to feed data with float type into Neural Network, the float number can save deep tie than integer.\n",
    "\n",
    "We need to use one-hot convert integer to tensor(with fixed length) and feed it into Neural network."
   ]
  },
  {
   "cell_type": "code",
   "execution_count": 4,
   "id": "fe80658d",
   "metadata": {
    "execution": {
     "iopub.execute_input": "2024-07-13T01:49:06.696687Z",
     "iopub.status.busy": "2024-07-13T01:49:06.696119Z",
     "iopub.status.idle": "2024-07-13T01:49:06.749623Z",
     "shell.execute_reply": "2024-07-13T01:49:06.748451Z"
    },
    "papermill": {
     "duration": 0.061569,
     "end_time": "2024-07-13T01:49:06.752019",
     "exception": false,
     "start_time": "2024-07-13T01:49:06.690450",
     "status": "completed"
    },
    "tags": []
   },
   "outputs": [
    {
     "data": {
      "text/plain": [
       "torch.Size([5, 27])"
      ]
     },
     "execution_count": 4,
     "metadata": {},
     "output_type": "execute_result"
    }
   ],
   "source": [
    "import torch.nn.functional as F\n",
    "\n",
    "xenc=F.one_hot(xs, num_classes=27).float() # input to the network: one-hot encoding\n",
    "xenc.shape"
   ]
  },
  {
   "cell_type": "code",
   "execution_count": 5,
   "id": "7fac70eb",
   "metadata": {
    "execution": {
     "iopub.execute_input": "2024-07-13T01:49:06.762624Z",
     "iopub.status.busy": "2024-07-13T01:49:06.762206Z",
     "iopub.status.idle": "2024-07-13T01:49:06.974896Z",
     "shell.execute_reply": "2024-07-13T01:49:06.973746Z"
    },
    "papermill": {
     "duration": 0.220956,
     "end_time": "2024-07-13T01:49:06.977479",
     "exception": false,
     "start_time": "2024-07-13T01:49:06.756523",
     "status": "completed"
    },
    "tags": []
   },
   "outputs": [
    {
     "data": {
      "text/plain": [
       "<matplotlib.image.AxesImage at 0x78de02954790>"
      ]
     },
     "execution_count": 5,
     "metadata": {},
     "output_type": "execute_result"
    },
    {
     "data": {
      "image/png": "[encoded data removed]",
      "text/plain": [
       "<Figure size 640x480 with 1 Axes>"
      ]
     },
     "metadata": {},
     "output_type": "display_data"
    }
   ],
   "source": [
    "import matplotlib.pyplot as plt\n",
    "\n",
    "plt.imshow(xenc)"
   ]
  },
  {
   "cell_type": "markdown",
   "id": "590e29e3",
   "metadata": {
    "papermill": {
     "duration": 0.004552,
     "end_time": "2024-07-13T01:49:06.986802",
     "exception": false,
     "start_time": "2024-07-13T01:49:06.982250",
     "status": "completed"
    },
    "tags": []
   },
   "source": [
    "# Define neurons(Single Layer Network)"
   ]
  },
  {
   "cell_type": "code",
   "execution_count": 6,
   "id": "af3ec55d",
   "metadata": {
    "execution": {
     "iopub.execute_input": "2024-07-13T01:49:06.998029Z",
     "iopub.status.busy": "2024-07-13T01:49:06.997611Z",
     "iopub.status.idle": "2024-07-13T01:49:07.005611Z",
     "shell.execute_reply": "2024-07-13T01:49:07.004476Z"
    },
    "papermill": {
     "duration": 0.016591,
     "end_time": "2024-07-13T01:49:07.008114",
     "exception": false,
     "start_time": "2024-07-13T01:49:06.991523",
     "status": "completed"
    },
    "tags": []
   },
   "outputs": [],
   "source": [
    "# randomly initialize 27 neurons' weights. earch neuron receives 27 inputs\n",
    "g=torch.Generator().manual_seed(2147483647)\n",
    "# randn returns normalize ditribution\n",
    "W=torch.randn((27,27), generator=g) # keep same generate data"
   ]
  },
  {
   "cell_type": "code",
   "execution_count": 7,
   "id": "4ce0e903",
   "metadata": {
    "_kg_hide-output": true,
    "execution": {
     "iopub.execute_input": "2024-07-13T01:49:07.019871Z",
     "iopub.status.busy": "2024-07-13T01:49:07.019495Z",
     "iopub.status.idle": "2024-07-13T01:49:07.066772Z",
     "shell.execute_reply": "2024-07-13T01:49:07.065513Z"
    },
    "papermill": {
     "duration": 0.055963,
     "end_time": "2024-07-13T01:49:07.069239",
     "exception": false,
     "start_time": "2024-07-13T01:49:07.013276",
     "status": "completed"
    },
    "tags": []
   },
   "outputs": [
    {
     "data": {
      "text/plain": [
       "tensor([[ 1.5674e+00, -2.3729e-01, -2.7385e-02, -1.1008e+00,  2.8588e-01,\n",
       "         -2.9643e-02, -1.5471e+00,  6.0489e-01,  7.9136e-02,  9.0462e-01,\n",
       "         -4.7125e-01,  7.8682e-01, -3.2843e-01, -4.3297e-01,  1.3729e+00,\n",
       "          2.9334e+00,  1.5618e+00, -1.6261e+00,  6.7716e-01, -8.4039e-01,\n",
       "          9.8488e-01, -1.4837e-01, -1.4795e+00,  4.4830e-01, -7.0730e-02,\n",
       "          2.4968e+00,  2.4448e+00],\n",
       "        [ 4.7236e-01,  1.4830e+00,  3.1748e-01,  1.0588e+00,  2.3982e+00,\n",
       "          4.6827e-01, -6.5650e-01,  6.1662e-01, -6.2197e-01,  5.1007e-01,\n",
       "          1.3563e+00,  2.3445e-01, -4.5585e-01, -1.3132e-03, -5.1161e-01,\n",
       "          5.5570e-01,  4.7458e-01, -1.3867e+00,  1.6229e+00,  1.7197e-01,\n",
       "          9.8846e-01,  5.0657e-01,  1.0198e+00, -1.9062e+00, -4.2753e-01,\n",
       "         -2.1259e+00,  9.6041e-01],\n",
       "        [ 1.9359e-01,  1.0532e+00,  6.3393e-01,  2.5786e-01,  9.6408e-01,\n",
       "         -2.4855e-01,  2.4756e-02, -3.0404e-02,  1.5622e+00, -4.4852e-01,\n",
       "         -1.2345e+00,  1.1220e+00, -6.7381e-01,  3.7882e-02, -5.5881e-01,\n",
       "         -8.2709e-01,  8.2253e-01, -7.5100e-01,  9.2778e-01, -1.4849e+00,\n",
       "         -2.1293e-01, -1.1860e+00, -6.6092e-01, -2.3348e-01,  1.5447e+00,\n",
       "          6.0061e-01, -7.0909e-01],\n",
       "        [ 1.9359e-01,  1.0532e+00,  6.3393e-01,  2.5786e-01,  9.6408e-01,\n",
       "         -2.4855e-01,  2.4756e-02, -3.0404e-02,  1.5622e+00, -4.4852e-01,\n",
       "         -1.2345e+00,  1.1220e+00, -6.7381e-01,  3.7882e-02, -5.5881e-01,\n",
       "         -8.2709e-01,  8.2253e-01, -7.5100e-01,  9.2778e-01, -1.4849e+00,\n",
       "         -2.1293e-01, -1.1860e+00, -6.6092e-01, -2.3348e-01,  1.5447e+00,\n",
       "          6.0061e-01, -7.0909e-01],\n",
       "        [-6.7006e-01, -1.2199e+00,  3.0314e-01, -1.0725e+00,  7.2762e-01,\n",
       "          5.1114e-02,  1.3095e+00, -8.0220e-01, -8.5042e-01, -1.8068e+00,\n",
       "          1.2523e+00, -1.2256e+00,  1.2165e+00, -9.6478e-01, -2.3211e-01,\n",
       "         -3.4762e-01,  3.3244e-01, -1.3263e+00,  1.1224e+00,  5.9641e-01,\n",
       "          4.5846e-01,  5.4011e-02, -1.7400e+00,  1.1560e-01,  8.0319e-01,\n",
       "          5.4108e-01, -1.1646e+00]])"
      ]
     },
     "execution_count": 7,
     "metadata": {},
     "output_type": "execute_result"
    }
   ],
   "source": [
    "# evaluate all the 27 neurons in 5 input parallel(with dot-product) and return it\n",
    "xenc @ W # (5,27) @ (27,27) -> (5,27)\n",
    "# for everyone of 27 neurons, what is the firing rate of thse neurons(27) on everyone of these 5 examples."
   ]
  },
  {
   "cell_type": "code",
   "execution_count": 8,
   "id": "20ba0ba8",
   "metadata": {
    "execution": {
     "iopub.execute_input": "2024-07-13T01:49:07.081335Z",
     "iopub.status.busy": "2024-07-13T01:49:07.080930Z",
     "iopub.status.idle": "2024-07-13T01:49:07.089895Z",
     "shell.execute_reply": "2024-07-13T01:49:07.088722Z"
    },
    "papermill": {
     "duration": 0.018134,
     "end_time": "2024-07-13T01:49:07.092728",
     "exception": false,
     "start_time": "2024-07-13T01:49:07.074594",
     "status": "completed"
    },
    "tags": []
   },
   "outputs": [
    {
     "data": {
      "text/plain": [
       "tensor(0.0379)"
      ]
     },
     "execution_count": 8,
     "metadata": {},
     "output_type": "execute_result"
    }
   ],
   "source": [
    "# we get element from tensor\n",
    "# it's giving us the firing rate of 13th neuron looking at 3th input\n",
    "# the way this achieved is by dot product between the third input and \n",
    "# the 13th column of or W matrix\n",
    "(xenc @W)[3,13]"
   ]
  },
  {
   "cell_type": "code",
   "execution_count": 9,
   "id": "7f14fdb8",
   "metadata": {
    "execution": {
     "iopub.execute_input": "2024-07-13T01:49:07.106056Z",
     "iopub.status.busy": "2024-07-13T01:49:07.105230Z",
     "iopub.status.idle": "2024-07-13T01:49:07.113506Z",
     "shell.execute_reply": "2024-07-13T01:49:07.112489Z"
    },
    "papermill": {
     "duration": 0.01752,
     "end_time": "2024-07-13T01:49:07.115770",
     "exception": false,
     "start_time": "2024-07-13T01:49:07.098250",
     "status": "completed"
    },
    "tags": []
   },
   "outputs": [
    {
     "data": {
      "text/plain": [
       "tensor(12.3624)"
      ]
     },
     "execution_count": 9,
     "metadata": {},
     "output_type": "execute_result"
    }
   ],
   "source": [
    "# the latest section equal to below, we use the representation above \n",
    "# makes the computing process more efficient\n",
    "(xenc@W).sum()"
   ]
  },
  {
   "cell_type": "markdown",
   "id": "354d01e2",
   "metadata": {
    "papermill": {
     "duration": 0.004867,
     "end_time": "2024-07-13T01:49:07.125891",
     "exception": false,
     "start_time": "2024-07-13T01:49:07.121024",
     "status": "completed"
    },
    "tags": []
   },
   "source": [
    "# Transforming Neural net output into probabilities(The Softmax)\n",
    "\n",
    "In our scenario, we use `exp()` eponentiated converting all the outputs(counts of number in list N)\n",
    "* negative number turned into below 1\n",
    "* positive number tunrned into even more positive numbers(greater than one)\n",
    "\n",
    "\n",
    "# Softmax activation func\n",
    "\n",
    "* input(positive and negative)\n",
    "* $Z_i$ are logits\n",
    "* exp() them\n",
    "* divides and normalizes \n",
    "* output(positive numbers like probabilities)\n",
    "\n",
    "\n",
    "$$\\frac{e^{Z_i}}{\\sum_{j=1}^{K}e^{Z_j}}$$"
   ]
  },
  {
   "cell_type": "code",
   "execution_count": 10,
   "id": "6f2705ee",
   "metadata": {
    "_kg_hide-output": true,
    "execution": {
     "iopub.execute_input": "2024-07-13T01:49:07.137946Z",
     "iopub.status.busy": "2024-07-13T01:49:07.137571Z",
     "iopub.status.idle": "2024-07-13T01:49:07.160582Z",
     "shell.execute_reply": "2024-07-13T01:49:07.159114Z"
    },
    "papermill": {
     "duration": 0.03201,
     "end_time": "2024-07-13T01:49:07.163033",
     "exception": false,
     "start_time": "2024-07-13T01:49:07.131023",
     "status": "completed"
    },
    "tags": []
   },
   "outputs": [
    {
     "name": "stdout",
     "output_type": "stream",
     "text": [
      "tensor([[0.0607, 0.0100, 0.0123, 0.0042, 0.0168, 0.0123, 0.0027, 0.0232, 0.0137,\n",
      "         0.0313, 0.0079, 0.0278, 0.0091, 0.0082, 0.0500, 0.2378, 0.0603, 0.0025,\n",
      "         0.0249, 0.0055, 0.0339, 0.0109, 0.0029, 0.0198, 0.0118, 0.1537, 0.1459],\n",
      "        [0.0290, 0.0796, 0.0248, 0.0521, 0.1989, 0.0289, 0.0094, 0.0335, 0.0097,\n",
      "         0.0301, 0.0702, 0.0228, 0.0115, 0.0181, 0.0108, 0.0315, 0.0291, 0.0045,\n",
      "         0.0916, 0.0215, 0.0486, 0.0300, 0.0501, 0.0027, 0.0118, 0.0022, 0.0472],\n",
      "        [0.0312, 0.0737, 0.0484, 0.0333, 0.0674, 0.0200, 0.0263, 0.0249, 0.1226,\n",
      "         0.0164, 0.0075, 0.0789, 0.0131, 0.0267, 0.0147, 0.0112, 0.0585, 0.0121,\n",
      "         0.0650, 0.0058, 0.0208, 0.0078, 0.0133, 0.0203, 0.1204, 0.0469, 0.0126],\n",
      "        [0.0312, 0.0737, 0.0484, 0.0333, 0.0674, 0.0200, 0.0263, 0.0249, 0.1226,\n",
      "         0.0164, 0.0075, 0.0789, 0.0131, 0.0267, 0.0147, 0.0112, 0.0585, 0.0121,\n",
      "         0.0650, 0.0058, 0.0208, 0.0078, 0.0133, 0.0203, 0.1204, 0.0469, 0.0126],\n",
      "        [0.0150, 0.0086, 0.0396, 0.0100, 0.0606, 0.0308, 0.1084, 0.0131, 0.0125,\n",
      "         0.0048, 0.1024, 0.0086, 0.0988, 0.0112, 0.0232, 0.0207, 0.0408, 0.0078,\n",
      "         0.0899, 0.0531, 0.0463, 0.0309, 0.0051, 0.0329, 0.0654, 0.0503, 0.0091]])\n"
     ]
    }
   ],
   "source": [
    "logits=(xenc@W) # predict logits-counts\n",
    "\n",
    "# These two lines below are together called a softmax\n",
    "counts=logits.exp() # equivalent N matrix\n",
    "# normalize the counts\n",
    "probs=counts/counts.sum(1, keepdims=True) # normalize the rows\n",
    "print(probs)"
   ]
  },
  {
   "cell_type": "code",
   "execution_count": 11,
   "id": "754c7bd2",
   "metadata": {
    "execution": {
     "iopub.execute_input": "2024-07-13T01:49:07.175753Z",
     "iopub.status.busy": "2024-07-13T01:49:07.175350Z",
     "iopub.status.idle": "2024-07-13T01:49:07.194738Z",
     "shell.execute_reply": "2024-07-13T01:49:07.193513Z"
    },
    "papermill": {
     "duration": 0.02927,
     "end_time": "2024-07-13T01:49:07.197639",
     "exception": false,
     "start_time": "2024-07-13T01:49:07.168369",
     "status": "completed"
    },
    "tags": []
   },
   "outputs": [
    {
     "name": "stdout",
     "output_type": "stream",
     "text": [
      "-------\n",
      "bigram example 1: .e (indexes 0,5)\n",
      "input to the neural net: 0\n",
      "output probabilities from the neural net: tensor([0.0607, 0.0100, 0.0123, 0.0042, 0.0168, 0.0123, 0.0027, 0.0232, 0.0137,\n",
      "        0.0313, 0.0079, 0.0278, 0.0091, 0.0082, 0.0500, 0.2378, 0.0603, 0.0025,\n",
      "        0.0249, 0.0055, 0.0339, 0.0109, 0.0029, 0.0198, 0.0118, 0.1537, 0.1459])\n",
      "label (actual next character): 5\n",
      "probability assigned by the net to the correct character: 0.01228625513613224\n",
      "log likelihood: -4.399273872375488\n",
      "negative log likelihood: 4.399273872375488\n",
      "-------\n",
      "bigram example 2: em (indexes 5,13)\n",
      "input to the neural net: 5\n",
      "output probabilities from the neural net: tensor([0.0290, 0.0796, 0.0248, 0.0521, 0.1989, 0.0289, 0.0094, 0.0335, 0.0097,\n",
      "        0.0301, 0.0702, 0.0228, 0.0115, 0.0181, 0.0108, 0.0315, 0.0291, 0.0045,\n",
      "        0.0916, 0.0215, 0.0486, 0.0300, 0.0501, 0.0027, 0.0118, 0.0022, 0.0472])\n",
      "label (actual next character): 13\n",
      "probability assigned by the net to the correct character: 0.018050700426101685\n",
      "log likelihood: -4.014570713043213\n",
      "negative log likelihood: 4.014570713043213\n",
      "-------\n",
      "bigram example 3: mm (indexes 13,13)\n",
      "input to the neural net: 13\n",
      "output probabilities from the neural net: tensor([0.0312, 0.0737, 0.0484, 0.0333, 0.0674, 0.0200, 0.0263, 0.0249, 0.1226,\n",
      "        0.0164, 0.0075, 0.0789, 0.0131, 0.0267, 0.0147, 0.0112, 0.0585, 0.0121,\n",
      "        0.0650, 0.0058, 0.0208, 0.0078, 0.0133, 0.0203, 0.1204, 0.0469, 0.0126])\n",
      "label (actual next character): 13\n",
      "probability assigned by the net to the correct character: 0.026691533625125885\n",
      "log likelihood: -3.623408794403076\n",
      "negative log likelihood: 3.623408794403076\n",
      "-------\n",
      "bigram example 4: ma (indexes 13,1)\n",
      "input to the neural net: 13\n",
      "output probabilities from the neural net: tensor([0.0312, 0.0737, 0.0484, 0.0333, 0.0674, 0.0200, 0.0263, 0.0249, 0.1226,\n",
      "        0.0164, 0.0075, 0.0789, 0.0131, 0.0267, 0.0147, 0.0112, 0.0585, 0.0121,\n",
      "        0.0650, 0.0058, 0.0208, 0.0078, 0.0133, 0.0203, 0.1204, 0.0469, 0.0126])\n",
      "label (actual next character): 1\n",
      "probability assigned by the net to the correct character: 0.07367686182260513\n",
      "log likelihood: -2.6080665588378906\n",
      "negative log likelihood: 2.6080665588378906\n",
      "-------\n",
      "bigram example 5: a. (indexes 1,0)\n",
      "input to the neural net: 1\n",
      "output probabilities from the neural net: tensor([0.0150, 0.0086, 0.0396, 0.0100, 0.0606, 0.0308, 0.1084, 0.0131, 0.0125,\n",
      "        0.0048, 0.1024, 0.0086, 0.0988, 0.0112, 0.0232, 0.0207, 0.0408, 0.0078,\n",
      "        0.0899, 0.0531, 0.0463, 0.0309, 0.0051, 0.0329, 0.0654, 0.0503, 0.0091])\n",
      "label (actual next character): 0\n",
      "probability assigned by the net to the correct character: 0.014977526850998402\n",
      "log likelihood: -4.201204299926758\n",
      "negative log likelihood: 4.201204299926758\n",
      "======\n",
      "averae negative log likelihood, i.e. loss = 3.7693049907684326\n"
     ]
    }
   ],
   "source": [
    "nlls=torch.zeros(5)\n",
    "\n",
    "for i in range(5):\n",
    "    # i-th bigram:\n",
    "    x=xs[i].item() # input character index\n",
    "    y=ys[i].item() # label character index\n",
    "    print('-------')\n",
    "    print(f'bigram example {i+1}: {itos[x]}{itos[y]} (indexes {x},{y})')\n",
    "    print('input to the neural net:',x)\n",
    "    print('output probabilities from the neural net:', probs[i])\n",
    "    print('label (actual next character):',y)\n",
    "    p=probs[i,y]\n",
    "    print('probability assigned by the net to the correct character:', p.item())\n",
    "    logp=torch.log(p)\n",
    "    print('log likelihood:',logp.item())\n",
    "    nll=-logp\n",
    "    print('negative log likelihood:', nll.item())\n",
    "    nlls[i]=nll\n",
    "    \n",
    "print('======')\n",
    "print('averae negative log likelihood, i.e. loss =', nlls.mean().item())"
   ]
  }
 ],
 "metadata": {
  "kaggle": {
   "accelerator": "none",
   "dataSources": [
    {
     "sourceId": 187064505,
     "sourceType": "kernelVersion"
    }
   ],
   "dockerImageVersionId": 30746,
   "isGpuEnabled": false,
   "isInternetEnabled": true,
   "language": "python",
   "sourceType": "notebook"
  },
  "kernelspec": {
   "display_name": "Python 3",
   "language": "python",
   "name": "python3"
  },
  "language_info": {
   "codemirror_mode": {
    "name": "ipython",
    "version": 3
   },
   "file_extension": ".py",
   "mimetype": "text/x-python",
   "name": "python",
   "nbconvert_exporter": "python",
   "pygments_lexer": "ipython3",
   "version": "3.10.13"
  },
  "papermill": {
   "default_parameters": {},
   "duration": 8.030467,
   "end_time": "2024-07-13T01:49:08.025593",
   "environment_variables": {},
   "exception": null,
   "input_path": "__notebook__.ipynb",
   "output_path": "__notebook__.ipynb",
   "parameters": {},
   "start_time": "2024-07-13T01:48:59.995126",
   "version": "2.5.0"
  }
 },
 "nbformat": 4,
 "nbformat_minor": 5
}
