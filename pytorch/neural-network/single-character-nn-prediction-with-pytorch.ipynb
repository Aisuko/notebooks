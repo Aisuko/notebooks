{
 "cells": [
  {
   "cell_type": "markdown",
   "id": "ccc921e1",
   "metadata": {
    "_cell_guid": "b1076dfc-b9ad-4769-8c92-a6c4dae69d19",
    "_uuid": "8f2839f25d086af736a60e9eeb907d3b93b6e0e5",
    "papermill": {
     "duration": 0.005776,
     "end_time": "2024-07-13T06:07:17.919046",
     "exception": false,
     "start_time": "2024-07-13T06:07:17.913270",
     "status": "completed"
    },
    "tags": []
   },
   "source": [
    "# Overview\n",
    "* Define dataset\n",
    "* Create vocab\n",
    "* Define dataset\n",
    "* Define neural network\n",
    "* Define data flow inside nn\n",
    "    * forward pass\n",
    "        * input\n",
    "        * get logits\n",
    "        * softmax\n",
    "            * exp()\n",
    "            * normalization\n",
    "        * calcualte loss func\n",
    "            * negative log likelihood\n",
    "    * backward pass(gradient base optimization)\n",
    "        * update weights\n",
    "* Combine code together\n",
    "\n",
    "# Pre-process data"
   ]
  },
  {
   "cell_type": "code",
   "execution_count": 1,
   "id": "6d9fdf7c",
   "metadata": {
    "execution": {
     "iopub.execute_input": "2024-07-13T06:07:17.932335Z",
     "iopub.status.busy": "2024-07-13T06:07:17.931495Z",
     "iopub.status.idle": "2024-07-13T06:07:17.955824Z",
     "shell.execute_reply": "2024-07-13T06:07:17.954730Z"
    },
    "papermill": {
     "duration": 0.033235,
     "end_time": "2024-07-13T06:07:17.958098",
     "exception": false,
     "start_time": "2024-07-13T06:07:17.924863",
     "status": "completed"
    },
    "tags": []
   },
   "outputs": [
    {
     "name": "stdout",
     "output_type": "stream",
     "text": [
      "32033\n"
     ]
    }
   ],
   "source": [
    "words=open('/kaggle/input/character-lm-without-framework/names.txt','r').read().splitlines()\n",
    "print(len(words))"
   ]
  },
  {
   "cell_type": "markdown",
   "id": "1358d3ea",
   "metadata": {
    "papermill": {
     "duration": 0.005102,
     "end_time": "2024-07-13T06:07:17.968804",
     "exception": false,
     "start_time": "2024-07-13T06:07:17.963702",
     "status": "completed"
    },
    "tags": []
   },
   "source": [
    "# Create vocabulary"
   ]
  },
  {
   "cell_type": "code",
   "execution_count": 2,
   "id": "dbc298ed",
   "metadata": {
    "execution": {
     "iopub.execute_input": "2024-07-13T06:07:17.981548Z",
     "iopub.status.busy": "2024-07-13T06:07:17.980681Z",
     "iopub.status.idle": "2024-07-13T06:07:17.991039Z",
     "shell.execute_reply": "2024-07-13T06:07:17.990003Z"
    },
    "papermill": {
     "duration": 0.018964,
     "end_time": "2024-07-13T06:07:17.993126",
     "exception": false,
     "start_time": "2024-07-13T06:07:17.974162",
     "status": "completed"
    },
    "tags": []
   },
   "outputs": [],
   "source": [
    "chars=sorted(list(set(''.join(words))))\n",
    "stoi={s:i+1 for i,s in enumerate(chars)}\n",
    "stoi['.']=0\n",
    "itos={i:s for s,i in stoi.items()}"
   ]
  },
  {
   "cell_type": "markdown",
   "id": "e399144c",
   "metadata": {
    "papermill": {
     "duration": 0.005134,
     "end_time": "2024-07-13T06:07:18.003724",
     "exception": false,
     "start_time": "2024-07-13T06:07:17.998590",
     "status": "completed"
    },
    "tags": []
   },
   "source": [
    "# Define dataset"
   ]
  },
  {
   "cell_type": "code",
   "execution_count": 3,
   "id": "08b5dec8",
   "metadata": {
    "execution": {
     "iopub.execute_input": "2024-07-13T06:07:18.016064Z",
     "iopub.status.busy": "2024-07-13T06:07:18.015706Z",
     "iopub.status.idle": "2024-07-13T06:07:21.153658Z",
     "shell.execute_reply": "2024-07-13T06:07:21.152585Z"
    },
    "papermill": {
     "duration": 3.146826,
     "end_time": "2024-07-13T06:07:21.156053",
     "exception": false,
     "start_time": "2024-07-13T06:07:18.009227",
     "status": "completed"
    },
    "tags": []
   },
   "outputs": [
    {
     "name": "stdout",
     "output_type": "stream",
     "text": [
      ". e\n",
      "e m\n",
      "m m\n",
      "m a\n",
      "a .\n",
      "tensor([ 0,  5, 13, 13,  1])\n",
      "tensor([ 5, 13, 13,  1,  0])\n",
      "number of examples:  5\n"
     ]
    }
   ],
   "source": [
    "import torch\n",
    "\n",
    "# create the training set of bigrams (x,y)\n",
    "xs, ys = [], []\n",
    "\n",
    "for w in words[:1]:\n",
    "    chs= ['.'] +list(w) + ['.']\n",
    "    for ch1, ch2 in zip(chs, chs[1:]):\n",
    "        ix1=stoi[ch1]\n",
    "        ix2=stoi[ch2]\n",
    "        print(ch1,ch2)\n",
    "        xs.append(ix1)\n",
    "        ys.append(ix2)\n",
    "\n",
    "# create tensor for data and it's label\n",
    "xs=torch.tensor(xs)\n",
    "ys=torch.tensor(ys)\n",
    "print(xs)\n",
    "print(ys)\n",
    "      \n",
    "num=xs.nelement()\n",
    "print('number of examples: ', num)"
   ]
  },
  {
   "cell_type": "markdown",
   "id": "6c22f501",
   "metadata": {
    "papermill": {
     "duration": 0.005382,
     "end_time": "2024-07-13T06:07:21.166989",
     "exception": false,
     "start_time": "2024-07-13T06:07:21.161607",
     "status": "completed"
    },
    "tags": []
   },
   "source": [
    "# Define Neural Network"
   ]
  },
  {
   "cell_type": "code",
   "execution_count": 4,
   "id": "166a698f",
   "metadata": {
    "execution": {
     "iopub.execute_input": "2024-07-13T06:07:21.179608Z",
     "iopub.status.busy": "2024-07-13T06:07:21.179092Z",
     "iopub.status.idle": "2024-07-13T06:07:21.192220Z",
     "shell.execute_reply": "2024-07-13T06:07:21.191298Z"
    },
    "papermill": {
     "duration": 0.022119,
     "end_time": "2024-07-13T06:07:21.194481",
     "exception": false,
     "start_time": "2024-07-13T06:07:21.172362",
     "status": "completed"
    },
    "tags": []
   },
   "outputs": [],
   "source": [
    "# randomly initialize 27 neurons' weights. each neuron receives 27 inputs\n",
    "g= torch.Generator().manual_seed(2147483647)\n",
    "# one layer 27 width\n",
    "W=torch.randn((27,27), generator=g)"
   ]
  },
  {
   "cell_type": "markdown",
   "id": "51c46623",
   "metadata": {
    "papermill": {
     "duration": 0.005225,
     "end_time": "2024-07-13T06:07:21.205363",
     "exception": false,
     "start_time": "2024-07-13T06:07:21.200138",
     "status": "completed"
    },
    "tags": []
   },
   "source": [
    "# Define data flow of neural network\n",
    "\n",
    "Here we use negative average log likelihood. It same to https://www.kaggle.com/code/aisuko/character-lm-with-pytorch?cellIds=19&kernelSessionId=188052333\n",
    "\n",
    "## Forward pass"
   ]
  },
  {
   "cell_type": "code",
   "execution_count": 5,
   "id": "7bc24133",
   "metadata": {
    "execution": {
     "iopub.execute_input": "2024-07-13T06:07:21.217811Z",
     "iopub.status.busy": "2024-07-13T06:07:21.217414Z",
     "iopub.status.idle": "2024-07-13T06:07:21.277621Z",
     "shell.execute_reply": "2024-07-13T06:07:21.276604Z"
    },
    "papermill": {
     "duration": 0.069306,
     "end_time": "2024-07-13T06:07:21.280126",
     "exception": false,
     "start_time": "2024-07-13T06:07:21.210820",
     "status": "completed"
    },
    "tags": []
   },
   "outputs": [],
   "source": [
    "import torch.nn.functional as F\n",
    "\n",
    "xenc=F.one_hot(xs, num_classes=27).float() # input to the network: one-hot encoding\n",
    "logits=xenc @ W # predict log-counts\n",
    "counts=logits.exp() # counts, equivalent to N\n",
    "probs=counts/counts.sum(1, keepdims=True) # probabilities for next character(classification)"
   ]
  },
  {
   "cell_type": "code",
   "execution_count": 6,
   "id": "c135b102",
   "metadata": {
    "execution": {
     "iopub.execute_input": "2024-07-13T06:07:21.292703Z",
     "iopub.status.busy": "2024-07-13T06:07:21.292317Z",
     "iopub.status.idle": "2024-07-13T06:07:21.320465Z",
     "shell.execute_reply": "2024-07-13T06:07:21.319252Z"
    },
    "papermill": {
     "duration": 0.036993,
     "end_time": "2024-07-13T06:07:21.322684",
     "exception": false,
     "start_time": "2024-07-13T06:07:21.285691",
     "status": "completed"
    },
    "tags": []
   },
   "outputs": [
    {
     "name": "stdout",
     "output_type": "stream",
     "text": [
      "tensor([ 0,  5, 13, 13,  1])\n",
      "tensor([ 5, 13, 13,  1,  0])\n",
      "tensor(0.0123)\n",
      "tensor(0.0181)\n",
      "tensor(0.0267)\n",
      "tensor(0.0737)\n",
      "tensor(0.0150)\n"
     ]
    }
   ],
   "source": [
    "# list the probabilities of neural network predict of next character\n",
    "print(xs)\n",
    "print(ys)\n",
    "\n",
    "# for first exampel in xs, and it label is 5\n",
    "print(probs[0,5])\n",
    "# second row of prob(index 1) we are interested in the probability assigned to index 13\n",
    "print(probs[1,13])\n",
    "print(probs[2,13])\n",
    "print(probs[3,1])\n",
    "print(probs[4,0])"
   ]
  },
  {
   "cell_type": "code",
   "execution_count": 7,
   "id": "df49b2ab",
   "metadata": {
    "execution": {
     "iopub.execute_input": "2024-07-13T06:07:21.335472Z",
     "iopub.status.busy": "2024-07-13T06:07:21.335096Z",
     "iopub.status.idle": "2024-07-13T06:07:21.346668Z",
     "shell.execute_reply": "2024-07-13T06:07:21.345670Z"
    },
    "papermill": {
     "duration": 0.020631,
     "end_time": "2024-07-13T06:07:21.348904",
     "exception": false,
     "start_time": "2024-07-13T06:07:21.328273",
     "status": "completed"
    },
    "tags": []
   },
   "outputs": [
    {
     "data": {
      "text/plain": [
       "tensor([0.0123, 0.0181, 0.0267, 0.0737, 0.0150])"
      ]
     },
     "execution_count": 7,
     "metadata": {},
     "output_type": "execute_result"
    }
   ],
   "source": [
    "# access these probabilities in more efficient way in pytorch\n",
    "\n",
    "probs[torch.arange(5),ys]"
   ]
  },
  {
   "cell_type": "code",
   "execution_count": 8,
   "id": "087e497a",
   "metadata": {
    "execution": {
     "iopub.execute_input": "2024-07-13T06:07:21.362015Z",
     "iopub.status.busy": "2024-07-13T06:07:21.361631Z",
     "iopub.status.idle": "2024-07-13T06:07:21.370307Z",
     "shell.execute_reply": "2024-07-13T06:07:21.369196Z"
    },
    "papermill": {
     "duration": 0.017785,
     "end_time": "2024-07-13T06:07:21.372459",
     "exception": false,
     "start_time": "2024-07-13T06:07:21.354674",
     "status": "completed"
    },
    "tags": []
   },
   "outputs": [
    {
     "name": "stdout",
     "output_type": "stream",
     "text": [
      "tensor(3.7693)\n"
     ]
    }
   ],
   "source": [
    "loss=-probs[torch.arange(5), ys].log().mean()\n",
    "print(loss)"
   ]
  },
  {
   "cell_type": "markdown",
   "id": "41ea110a",
   "metadata": {
    "papermill": {
     "duration": 0.005564,
     "end_time": "2024-07-13T06:07:21.383908",
     "exception": false,
     "start_time": "2024-07-13T06:07:21.378344",
     "status": "completed"
    },
    "tags": []
   },
   "source": [
    "## Backward pass"
   ]
  },
  {
   "cell_type": "code",
   "execution_count": 9,
   "id": "9948b039",
   "metadata": {
    "execution": {
     "iopub.execute_input": "2024-07-13T06:07:21.397818Z",
     "iopub.status.busy": "2024-07-13T06:07:21.397421Z",
     "iopub.status.idle": "2024-07-13T06:07:21.402748Z",
     "shell.execute_reply": "2024-07-13T06:07:21.401821Z"
    },
    "papermill": {
     "duration": 0.014372,
     "end_time": "2024-07-13T06:07:21.404765",
     "exception": false,
     "start_time": "2024-07-13T06:07:21.390393",
     "status": "completed"
    },
    "tags": []
   },
   "outputs": [],
   "source": [
    "# randomly initialize 27 neurons' weights. each neuron receives 27 inputs\n",
    "g= torch.Generator().manual_seed(2147483647)\n",
    "# one layer 27 width\n",
    "W=torch.randn((27,27), generator=g, requires_grad=True) # default is false"
   ]
  },
  {
   "cell_type": "code",
   "execution_count": 10,
   "id": "ec701d6b",
   "metadata": {
    "execution": {
     "iopub.execute_input": "2024-07-13T06:07:21.418024Z",
     "iopub.status.busy": "2024-07-13T06:07:21.417537Z",
     "iopub.status.idle": "2024-07-13T06:07:21.427328Z",
     "shell.execute_reply": "2024-07-13T06:07:21.426140Z"
    },
    "papermill": {
     "duration": 0.018961,
     "end_time": "2024-07-13T06:07:21.429519",
     "exception": false,
     "start_time": "2024-07-13T06:07:21.410558",
     "status": "completed"
    },
    "tags": []
   },
   "outputs": [
    {
     "name": "stdout",
     "output_type": "stream",
     "text": [
      "3.7693049907684326\n"
     ]
    }
   ],
   "source": [
    "# forward pass\n",
    "xenc=F.one_hot(xs, num_classes=27).float()\n",
    "logits=xenc@W\n",
    "counts=logits.exp()\n",
    "probs=counts/counts.sum(1, keepdims=True)\n",
    "loss=-probs[torch.arange(5), ys].log().mean()\n",
    "print(loss.item())"
   ]
  },
  {
   "cell_type": "code",
   "execution_count": 11,
   "id": "6038ed00",
   "metadata": {
    "execution": {
     "iopub.execute_input": "2024-07-13T06:07:21.443471Z",
     "iopub.status.busy": "2024-07-13T06:07:21.442592Z",
     "iopub.status.idle": "2024-07-13T06:07:21.460505Z",
     "shell.execute_reply": "2024-07-13T06:07:21.459573Z"
    },
    "papermill": {
     "duration": 0.027643,
     "end_time": "2024-07-13T06:07:21.463045",
     "exception": false,
     "start_time": "2024-07-13T06:07:21.435402",
     "status": "completed"
    },
    "tags": []
   },
   "outputs": [],
   "source": [
    "# backward pass\n",
    "W.grad=None # set to zero the gradient\n",
    "loss.backward()"
   ]
  },
  {
   "cell_type": "code",
   "execution_count": 12,
   "id": "cec024e9",
   "metadata": {
    "_kg_hide-output": true,
    "execution": {
     "iopub.execute_input": "2024-07-13T06:07:21.476849Z",
     "iopub.status.busy": "2024-07-13T06:07:21.476181Z",
     "iopub.status.idle": "2024-07-13T06:07:21.485935Z",
     "shell.execute_reply": "2024-07-13T06:07:21.484979Z"
    },
    "papermill": {
     "duration": 0.01908,
     "end_time": "2024-07-13T06:07:21.488145",
     "exception": false,
     "start_time": "2024-07-13T06:07:21.469065",
     "status": "completed"
    },
    "tags": []
   },
   "outputs": [
    {
     "data": {
      "text/plain": [
       "tensor([[ 0.0121,  0.0020,  0.0025,  0.0008,  0.0034, -0.1975,  0.0005,  0.0046,\n",
       "          0.0027,  0.0063,  0.0016,  0.0056,  0.0018,  0.0016,  0.0100,  0.0476,\n",
       "          0.0121,  0.0005,  0.0050,  0.0011,  0.0068,  0.0022,  0.0006,  0.0040,\n",
       "          0.0024,  0.0307,  0.0292],\n",
       "        [-0.1970,  0.0017,  0.0079,  0.0020,  0.0121,  0.0062,  0.0217,  0.0026,\n",
       "          0.0025,  0.0010,  0.0205,  0.0017,  0.0198,  0.0022,  0.0046,  0.0041,\n",
       "          0.0082,  0.0016,  0.0180,  0.0106,  0.0093,  0.0062,  0.0010,  0.0066,\n",
       "          0.0131,  0.0101,  0.0018],\n",
       "        [ 0.0000,  0.0000,  0.0000,  0.0000,  0.0000,  0.0000,  0.0000,  0.0000,\n",
       "          0.0000,  0.0000,  0.0000,  0.0000,  0.0000,  0.0000,  0.0000,  0.0000,\n",
       "          0.0000,  0.0000,  0.0000,  0.0000,  0.0000,  0.0000,  0.0000,  0.0000,\n",
       "          0.0000,  0.0000,  0.0000],\n",
       "        [ 0.0000,  0.0000,  0.0000,  0.0000,  0.0000,  0.0000,  0.0000,  0.0000,\n",
       "          0.0000,  0.0000,  0.0000,  0.0000,  0.0000,  0.0000,  0.0000,  0.0000,\n",
       "          0.0000,  0.0000,  0.0000,  0.0000,  0.0000,  0.0000,  0.0000,  0.0000,\n",
       "          0.0000,  0.0000,  0.0000],\n",
       "        [ 0.0000,  0.0000,  0.0000,  0.0000,  0.0000,  0.0000,  0.0000,  0.0000,\n",
       "          0.0000,  0.0000,  0.0000,  0.0000,  0.0000,  0.0000,  0.0000,  0.0000,\n",
       "          0.0000,  0.0000,  0.0000,  0.0000,  0.0000,  0.0000,  0.0000,  0.0000,\n",
       "          0.0000,  0.0000,  0.0000],\n",
       "        [ 0.0058,  0.0159,  0.0050,  0.0104,  0.0398,  0.0058,  0.0019,  0.0067,\n",
       "          0.0019,  0.0060,  0.0140,  0.0046,  0.0023, -0.1964,  0.0022,  0.0063,\n",
       "          0.0058,  0.0009,  0.0183,  0.0043,  0.0097,  0.0060,  0.0100,  0.0005,\n",
       "          0.0024,  0.0004,  0.0094],\n",
       "        [ 0.0000,  0.0000,  0.0000,  0.0000,  0.0000,  0.0000,  0.0000,  0.0000,\n",
       "          0.0000,  0.0000,  0.0000,  0.0000,  0.0000,  0.0000,  0.0000,  0.0000,\n",
       "          0.0000,  0.0000,  0.0000,  0.0000,  0.0000,  0.0000,  0.0000,  0.0000,\n",
       "          0.0000,  0.0000,  0.0000],\n",
       "        [ 0.0000,  0.0000,  0.0000,  0.0000,  0.0000,  0.0000,  0.0000,  0.0000,\n",
       "          0.0000,  0.0000,  0.0000,  0.0000,  0.0000,  0.0000,  0.0000,  0.0000,\n",
       "          0.0000,  0.0000,  0.0000,  0.0000,  0.0000,  0.0000,  0.0000,  0.0000,\n",
       "          0.0000,  0.0000,  0.0000],\n",
       "        [ 0.0000,  0.0000,  0.0000,  0.0000,  0.0000,  0.0000,  0.0000,  0.0000,\n",
       "          0.0000,  0.0000,  0.0000,  0.0000,  0.0000,  0.0000,  0.0000,  0.0000,\n",
       "          0.0000,  0.0000,  0.0000,  0.0000,  0.0000,  0.0000,  0.0000,  0.0000,\n",
       "          0.0000,  0.0000,  0.0000],\n",
       "        [ 0.0000,  0.0000,  0.0000,  0.0000,  0.0000,  0.0000,  0.0000,  0.0000,\n",
       "          0.0000,  0.0000,  0.0000,  0.0000,  0.0000,  0.0000,  0.0000,  0.0000,\n",
       "          0.0000,  0.0000,  0.0000,  0.0000,  0.0000,  0.0000,  0.0000,  0.0000,\n",
       "          0.0000,  0.0000,  0.0000],\n",
       "        [ 0.0000,  0.0000,  0.0000,  0.0000,  0.0000,  0.0000,  0.0000,  0.0000,\n",
       "          0.0000,  0.0000,  0.0000,  0.0000,  0.0000,  0.0000,  0.0000,  0.0000,\n",
       "          0.0000,  0.0000,  0.0000,  0.0000,  0.0000,  0.0000,  0.0000,  0.0000,\n",
       "          0.0000,  0.0000,  0.0000],\n",
       "        [ 0.0000,  0.0000,  0.0000,  0.0000,  0.0000,  0.0000,  0.0000,  0.0000,\n",
       "          0.0000,  0.0000,  0.0000,  0.0000,  0.0000,  0.0000,  0.0000,  0.0000,\n",
       "          0.0000,  0.0000,  0.0000,  0.0000,  0.0000,  0.0000,  0.0000,  0.0000,\n",
       "          0.0000,  0.0000,  0.0000],\n",
       "        [ 0.0000,  0.0000,  0.0000,  0.0000,  0.0000,  0.0000,  0.0000,  0.0000,\n",
       "          0.0000,  0.0000,  0.0000,  0.0000,  0.0000,  0.0000,  0.0000,  0.0000,\n",
       "          0.0000,  0.0000,  0.0000,  0.0000,  0.0000,  0.0000,  0.0000,  0.0000,\n",
       "          0.0000,  0.0000,  0.0000],\n",
       "        [ 0.0125, -0.1705,  0.0194,  0.0133,  0.0270,  0.0080,  0.0105,  0.0100,\n",
       "          0.0490,  0.0066,  0.0030,  0.0316,  0.0052, -0.1893,  0.0059,  0.0045,\n",
       "          0.0234,  0.0049,  0.0260,  0.0023,  0.0083,  0.0031,  0.0053,  0.0081,\n",
       "          0.0482,  0.0187,  0.0051],\n",
       "        [ 0.0000,  0.0000,  0.0000,  0.0000,  0.0000,  0.0000,  0.0000,  0.0000,\n",
       "          0.0000,  0.0000,  0.0000,  0.0000,  0.0000,  0.0000,  0.0000,  0.0000,\n",
       "          0.0000,  0.0000,  0.0000,  0.0000,  0.0000,  0.0000,  0.0000,  0.0000,\n",
       "          0.0000,  0.0000,  0.0000],\n",
       "        [ 0.0000,  0.0000,  0.0000,  0.0000,  0.0000,  0.0000,  0.0000,  0.0000,\n",
       "          0.0000,  0.0000,  0.0000,  0.0000,  0.0000,  0.0000,  0.0000,  0.0000,\n",
       "          0.0000,  0.0000,  0.0000,  0.0000,  0.0000,  0.0000,  0.0000,  0.0000,\n",
       "          0.0000,  0.0000,  0.0000],\n",
       "        [ 0.0000,  0.0000,  0.0000,  0.0000,  0.0000,  0.0000,  0.0000,  0.0000,\n",
       "          0.0000,  0.0000,  0.0000,  0.0000,  0.0000,  0.0000,  0.0000,  0.0000,\n",
       "          0.0000,  0.0000,  0.0000,  0.0000,  0.0000,  0.0000,  0.0000,  0.0000,\n",
       "          0.0000,  0.0000,  0.0000],\n",
       "        [ 0.0000,  0.0000,  0.0000,  0.0000,  0.0000,  0.0000,  0.0000,  0.0000,\n",
       "          0.0000,  0.0000,  0.0000,  0.0000,  0.0000,  0.0000,  0.0000,  0.0000,\n",
       "          0.0000,  0.0000,  0.0000,  0.0000,  0.0000,  0.0000,  0.0000,  0.0000,\n",
       "          0.0000,  0.0000,  0.0000],\n",
       "        [ 0.0000,  0.0000,  0.0000,  0.0000,  0.0000,  0.0000,  0.0000,  0.0000,\n",
       "          0.0000,  0.0000,  0.0000,  0.0000,  0.0000,  0.0000,  0.0000,  0.0000,\n",
       "          0.0000,  0.0000,  0.0000,  0.0000,  0.0000,  0.0000,  0.0000,  0.0000,\n",
       "          0.0000,  0.0000,  0.0000],\n",
       "        [ 0.0000,  0.0000,  0.0000,  0.0000,  0.0000,  0.0000,  0.0000,  0.0000,\n",
       "          0.0000,  0.0000,  0.0000,  0.0000,  0.0000,  0.0000,  0.0000,  0.0000,\n",
       "          0.0000,  0.0000,  0.0000,  0.0000,  0.0000,  0.0000,  0.0000,  0.0000,\n",
       "          0.0000,  0.0000,  0.0000],\n",
       "        [ 0.0000,  0.0000,  0.0000,  0.0000,  0.0000,  0.0000,  0.0000,  0.0000,\n",
       "          0.0000,  0.0000,  0.0000,  0.0000,  0.0000,  0.0000,  0.0000,  0.0000,\n",
       "          0.0000,  0.0000,  0.0000,  0.0000,  0.0000,  0.0000,  0.0000,  0.0000,\n",
       "          0.0000,  0.0000,  0.0000],\n",
       "        [ 0.0000,  0.0000,  0.0000,  0.0000,  0.0000,  0.0000,  0.0000,  0.0000,\n",
       "          0.0000,  0.0000,  0.0000,  0.0000,  0.0000,  0.0000,  0.0000,  0.0000,\n",
       "          0.0000,  0.0000,  0.0000,  0.0000,  0.0000,  0.0000,  0.0000,  0.0000,\n",
       "          0.0000,  0.0000,  0.0000],\n",
       "        [ 0.0000,  0.0000,  0.0000,  0.0000,  0.0000,  0.0000,  0.0000,  0.0000,\n",
       "          0.0000,  0.0000,  0.0000,  0.0000,  0.0000,  0.0000,  0.0000,  0.0000,\n",
       "          0.0000,  0.0000,  0.0000,  0.0000,  0.0000,  0.0000,  0.0000,  0.0000,\n",
       "          0.0000,  0.0000,  0.0000],\n",
       "        [ 0.0000,  0.0000,  0.0000,  0.0000,  0.0000,  0.0000,  0.0000,  0.0000,\n",
       "          0.0000,  0.0000,  0.0000,  0.0000,  0.0000,  0.0000,  0.0000,  0.0000,\n",
       "          0.0000,  0.0000,  0.0000,  0.0000,  0.0000,  0.0000,  0.0000,  0.0000,\n",
       "          0.0000,  0.0000,  0.0000],\n",
       "        [ 0.0000,  0.0000,  0.0000,  0.0000,  0.0000,  0.0000,  0.0000,  0.0000,\n",
       "          0.0000,  0.0000,  0.0000,  0.0000,  0.0000,  0.0000,  0.0000,  0.0000,\n",
       "          0.0000,  0.0000,  0.0000,  0.0000,  0.0000,  0.0000,  0.0000,  0.0000,\n",
       "          0.0000,  0.0000,  0.0000],\n",
       "        [ 0.0000,  0.0000,  0.0000,  0.0000,  0.0000,  0.0000,  0.0000,  0.0000,\n",
       "          0.0000,  0.0000,  0.0000,  0.0000,  0.0000,  0.0000,  0.0000,  0.0000,\n",
       "          0.0000,  0.0000,  0.0000,  0.0000,  0.0000,  0.0000,  0.0000,  0.0000,\n",
       "          0.0000,  0.0000,  0.0000],\n",
       "        [ 0.0000,  0.0000,  0.0000,  0.0000,  0.0000,  0.0000,  0.0000,  0.0000,\n",
       "          0.0000,  0.0000,  0.0000,  0.0000,  0.0000,  0.0000,  0.0000,  0.0000,\n",
       "          0.0000,  0.0000,  0.0000,  0.0000,  0.0000,  0.0000,  0.0000,  0.0000,\n",
       "          0.0000,  0.0000,  0.0000]])"
      ]
     },
     "execution_count": 12,
     "metadata": {},
     "output_type": "execute_result"
    }
   ],
   "source": [
    "# The influence of that weight(gradient information) on the loss function\n",
    "W.grad\n",
    "\n",
    "# W[0,0]+=h will increase 0.0121 because it is gradient positive number"
   ]
  },
  {
   "cell_type": "code",
   "execution_count": 13,
   "id": "e39a714a",
   "metadata": {
    "execution": {
     "iopub.execute_input": "2024-07-13T06:07:21.502731Z",
     "iopub.status.busy": "2024-07-13T06:07:21.501886Z",
     "iopub.status.idle": "2024-07-13T06:07:21.506689Z",
     "shell.execute_reply": "2024-07-13T06:07:21.505676Z"
    },
    "papermill": {
     "duration": 0.01427,
     "end_time": "2024-07-13T06:07:21.508721",
     "exception": false,
     "start_time": "2024-07-13T06:07:21.494451",
     "status": "completed"
    },
    "tags": []
   },
   "outputs": [],
   "source": [
    "# update the weight of Neural Network\n",
    "W.data+=-0.1*W.grad"
   ]
  },
  {
   "cell_type": "markdown",
   "id": "2a32a411",
   "metadata": {
    "papermill": {
     "duration": 0.005938,
     "end_time": "2024-07-13T06:07:21.521171",
     "exception": false,
     "start_time": "2024-07-13T06:07:21.515233",
     "status": "completed"
    },
    "tags": []
   },
   "source": [
    "# Combine code together"
   ]
  },
  {
   "cell_type": "code",
   "execution_count": 14,
   "id": "bbcb3158",
   "metadata": {
    "_kg_hide-output": true,
    "execution": {
     "iopub.execute_input": "2024-07-13T06:07:21.535026Z",
     "iopub.status.busy": "2024-07-13T06:07:21.534540Z",
     "iopub.status.idle": "2024-07-13T06:07:21.606716Z",
     "shell.execute_reply": "2024-07-13T06:07:21.605705Z"
    },
    "papermill": {
     "duration": 0.082414,
     "end_time": "2024-07-13T06:07:21.609667",
     "exception": false,
     "start_time": "2024-07-13T06:07:21.527253",
     "status": "completed"
    },
    "tags": []
   },
   "outputs": [
    {
     "name": "stdout",
     "output_type": "stream",
     "text": [
      "3.7693049907684326\n",
      "3.7492127418518066\n",
      "3.7291626930236816\n",
      "3.7091541290283203\n",
      "3.6891887187957764\n",
      "3.6692662239074707\n",
      "3.6493873596191406\n",
      "3.629552125930786\n",
      "3.6097614765167236\n",
      "3.5900158882141113\n",
      "3.5703155994415283\n",
      "3.5506606101989746\n",
      "3.5310521125793457\n",
      "3.5114905834198\n",
      "3.491975784301758\n",
      "3.4725089073181152\n",
      "3.453089952468872\n",
      "3.4337196350097656\n",
      "3.414397716522217\n",
      "3.3951258659362793\n",
      "3.375903367996216\n",
      "3.356731414794922\n",
      "3.3376102447509766\n",
      "3.318540096282959\n",
      "3.2995219230651855\n",
      "3.2805557250976562\n",
      "3.26164174079895\n",
      "3.242781162261963\n",
      "3.2239737510681152\n",
      "3.2052199840545654\n",
      "3.18652081489563\n",
      "3.1678762435913086\n",
      "3.1492867469787598\n",
      "3.1307530403137207\n",
      "3.1122748851776123\n",
      "3.09385347366333\n",
      "3.075488567352295\n",
      "3.0571811199188232\n",
      "3.0389316082000732\n",
      "3.0207395553588867\n",
      "3.0026066303253174\n",
      "2.984531879425049\n",
      "2.9665169715881348\n",
      "2.948561191558838\n",
      "2.930665969848633\n",
      "2.9128310680389404\n",
      "2.895056962966919\n",
      "2.8773443698883057\n",
      "2.8596930503845215\n",
      "2.842103958129883\n",
      "2.8245773315429688\n",
      "2.8071131706237793\n",
      "2.789712429046631\n",
      "2.7723748683929443\n",
      "2.7551016807556152\n",
      "2.7378923892974854\n",
      "2.720747709274292\n",
      "2.7036681175231934\n",
      "2.6866538524627686\n",
      "2.669705390930176\n",
      "2.652822494506836\n",
      "2.6360065937042236\n",
      "2.6192569732666016\n",
      "2.602574586868286\n",
      "2.5859594345092773\n",
      "2.5694122314453125\n",
      "2.5529332160949707\n",
      "2.536522150039673\n",
      "2.5201799869537354\n",
      "2.503906726837158\n",
      "2.487703561782837\n",
      "2.471569299697876\n",
      "2.455505609512329\n",
      "2.439512014389038\n",
      "2.423588991165161\n",
      "2.4077370166778564\n",
      "2.391956329345703\n",
      "2.376246929168701\n",
      "2.360609769821167\n",
      "2.3450446128845215\n",
      "2.329552173614502\n",
      "2.3141322135925293\n",
      "2.29878568649292\n",
      "2.2835118770599365\n",
      "2.2683122158050537\n",
      "2.2531867027282715\n",
      "2.2381348609924316\n",
      "2.2231576442718506\n",
      "2.2082552909851074\n",
      "2.193427801132202\n",
      "2.178675889968872\n",
      "2.163999319076538\n",
      "2.1493988037109375\n",
      "2.134874105453491\n",
      "2.1204259395599365\n",
      "2.1060545444488525\n",
      "2.0917599201202393\n",
      "2.077542781829834\n",
      "2.0634024143218994\n",
      "2.049339771270752\n",
      "2.0353550910949707\n",
      "2.0214486122131348\n",
      "2.007620334625244\n",
      "1.993870735168457\n",
      "1.9801995754241943\n",
      "1.9666074514389038\n",
      "1.9530948400497437\n",
      "1.9396613836288452\n",
      "1.9263076782226562\n",
      "1.9130337238311768\n",
      "1.8998397588729858\n",
      "1.8867260217666626\n",
      "1.8736927509307861\n",
      "1.8607397079467773\n",
      "1.8478676080703735\n",
      "1.8350763320922852\n",
      "1.8223659992218018\n",
      "1.809736967086792\n",
      "1.7971893548965454\n",
      "1.7847230434417725\n",
      "1.772338628768921\n",
      "1.760035753250122\n",
      "1.7478145360946655\n",
      "1.735675573348999\n",
      "1.723618745803833\n",
      "1.7116438150405884\n",
      "1.6997512578964233\n",
      "1.6879409551620483\n",
      "1.676213026046753\n",
      "1.6645679473876953\n",
      "1.6530050039291382\n",
      "1.6415246725082397\n",
      "1.630127191543579\n",
      "1.6188122034072876\n",
      "1.6075798273086548\n",
      "1.5964300632476807\n",
      "1.5853630304336548\n",
      "1.5743786096572876\n",
      "1.5634772777557373\n",
      "1.5526578426361084\n",
      "1.5419214963912964\n",
      "1.5312674045562744\n",
      "1.5206962823867798\n",
      "1.510207176208496\n",
      "1.499800443649292\n",
      "1.489475965499878\n",
      "1.4792335033416748\n",
      "1.4690734148025513\n",
      "1.4589951038360596\n",
      "1.4489986896514893\n",
      "1.4390836954116821\n",
      "1.4292504787445068\n",
      "1.4194985628128052\n",
      "1.4098279476165771\n",
      "1.4002381563186646\n",
      "1.390729308128357\n",
      "1.3813011646270752\n",
      "1.3719534873962402\n",
      "1.3626859188079834\n",
      "1.3534984588623047\n",
      "1.344390630722046\n",
      "1.335362195968628\n",
      "1.3264133930206299\n",
      "1.3175432682037354\n",
      "1.3087518215179443\n",
      "1.3000390529632568\n",
      "1.2914042472839355\n",
      "1.2828471660614014\n",
      "1.2743676900863647\n",
      "1.265965223312378\n",
      "1.25764000415802\n",
      "1.249390959739685\n",
      "1.2412182092666626\n",
      "1.233121395111084\n",
      "1.225099802017212\n",
      "1.2171533107757568\n",
      "1.2092814445495605\n",
      "1.201483964920044\n",
      "1.1937605142593384\n",
      "1.186110258102417\n",
      "1.1785333156585693\n",
      "1.1710290908813477\n",
      "1.1635969877243042\n",
      "1.1562366485595703\n",
      "1.148947834968567\n",
      "1.1417299509048462\n",
      "1.1345824003219604\n",
      "1.1275049448013306\n",
      "1.1204969882965088\n",
      "1.1135584115982056\n",
      "1.1066882610321045\n",
      "1.099886178970337\n",
      "1.0931519269943237\n",
      "1.0864849090576172\n",
      "1.0798845291137695\n",
      "1.0733505487442017\n",
      "1.0668821334838867\n",
      "1.060478925704956\n",
      "1.054140329360962\n",
      "1.0478662252426147\n"
     ]
    }
   ],
   "source": [
    "# randomly initialize 27 neurons' weights. each neuron receives 27 inputs\n",
    "g= torch.Generator().manual_seed(2147483647)\n",
    "# one layer nn 27 width\n",
    "W=torch.randn((27,27), generator=g, requires_grad=True)\n",
    "\n",
    "# gradient descent\n",
    "for k in range(200):\n",
    "    #forward pass\n",
    "    xenc = F.one_hot(xs, num_classes=27).float() # input to the network: one-hot encoding\n",
    "    logits=xenc @ W #predict log-counts\n",
    "    counts=logits.exp() # counts, equivalent to N\n",
    "    probs=counts/counts.sum(1, keepdims=True) # probabilities for next character\n",
    "    loss=-probs[torch.arange(num), ys].log().mean()\n",
    "    print(loss.item())\n",
    "    \n",
    "    # backward pass\n",
    "    W.grad = None # set to zero the gradient\n",
    "    loss.backward()\n",
    "    \n",
    "    # update\n",
    "    W.data+=-0.1*W.grad"
   ]
  },
  {
   "cell_type": "markdown",
   "id": "3f7c8aeb",
   "metadata": {
    "papermill": {
     "duration": 0.006198,
     "end_time": "2024-07-13T06:07:21.622329",
     "exception": false,
     "start_time": "2024-07-13T06:07:21.616131",
     "status": "completed"
    },
    "tags": []
   },
   "source": [
    "# Simple from the neural net model"
   ]
  },
  {
   "cell_type": "code",
   "execution_count": 15,
   "id": "d63f3f6f",
   "metadata": {
    "execution": {
     "iopub.execute_input": "2024-07-13T06:07:21.636731Z",
     "iopub.status.busy": "2024-07-13T06:07:21.636364Z",
     "iopub.status.idle": "2024-07-13T06:07:21.662287Z",
     "shell.execute_reply": "2024-07-13T06:07:21.661243Z"
    },
    "papermill": {
     "duration": 0.035815,
     "end_time": "2024-07-13T06:07:21.664562",
     "exception": false,
     "start_time": "2024-07-13T06:07:21.628747",
     "status": "completed"
    },
    "tags": []
   },
   "outputs": [
    {
     "name": "stdout",
     "output_type": "stream",
     "text": [
      "ouwjdjdja.\n",
      "pgadjufhqyywema.\n",
      "emahbrltozia.\n",
      "oggwt.\n",
      "ema.\n"
     ]
    }
   ],
   "source": [
    "g=torch.Generator().manual_seed(2147483647)\n",
    "\n",
    "for i in range(5):\n",
    "    out=[]\n",
    "    ix=0\n",
    "    while True:\n",
    "        # -------\n",
    "        # Before\n",
    "#         p=P[ix] https://www.kaggle.com/code/aisuko/character-lm-without-framework?cellIds=21&kernelSessionId=187064505\n",
    "        xenc = F.one_hot(torch.tensor([ix]), num_classes=27).float()\n",
    "        logits = xenc @ W # predict log-counts\n",
    "        counts=logits.exp() # counts, equivalent to N\n",
    "        p = counts/counts.sum(1, keepdims=True) # probabilities for next character\n",
    "        \n",
    "        ix=torch.multinomial(p, num_samples=1, replacement=True, generator=g).item()\n",
    "        out.append(itos[ix])\n",
    "        if ix == 0:\n",
    "            break\n",
    "    print(''.join(out))"
   ]
  },
  {
   "cell_type": "markdown",
   "id": "a611815d",
   "metadata": {
    "papermill": {
     "duration": 0.006047,
     "end_time": "2024-07-13T06:07:21.677011",
     "exception": false,
     "start_time": "2024-07-13T06:07:21.670964",
     "status": "completed"
    },
    "tags": []
   },
   "source": [
    "# Acknowledge\n",
    "\n",
    "* https://www.youtube.com/watch?v=PaCmpygFfXo&t=4649s\n",
    "* https://github.com/karpathy/nn-zero-to-hero/blob/master/lectures/makemore/makemore_part1_bigrams.ipynb"
   ]
  }
 ],
 "metadata": {
  "kaggle": {
   "accelerator": "none",
   "dataSources": [
    {
     "sourceId": 187064505,
     "sourceType": "kernelVersion"
    }
   ],
   "dockerImageVersionId": 30746,
   "isGpuEnabled": false,
   "isInternetEnabled": true,
   "language": "python",
   "sourceType": "notebook"
  },
  "kernelspec": {
   "display_name": "Python 3",
   "language": "python",
   "name": "python3"
  },
  "language_info": {
   "codemirror_mode": {
    "name": "ipython",
    "version": 3
   },
   "file_extension": ".py",
   "mimetype": "text/x-python",
   "name": "python",
   "nbconvert_exporter": "python",
   "pygments_lexer": "ipython3",
   "version": "3.10.13"
  },
  "papermill": {
   "default_parameters": {},
   "duration": 7.276069,
   "end_time": "2024-07-13T06:07:22.503142",
   "environment_variables": {},
   "exception": null,
   "input_path": "__notebook__.ipynb",
   "output_path": "__notebook__.ipynb",
   "parameters": {},
   "start_time": "2024-07-13T06:07:15.227073",
   "version": "2.5.0"
  }
 },
 "nbformat": 4,
 "nbformat_minor": 5
}
