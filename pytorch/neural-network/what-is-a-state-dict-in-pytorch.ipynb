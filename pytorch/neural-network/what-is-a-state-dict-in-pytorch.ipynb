{
 "cells": [
  {
   "cell_type": "markdown",
   "id": "9c46b971",
   "metadata": {
    "_cell_guid": "b1076dfc-b9ad-4769-8c92-a6c4dae69d19",
    "_uuid": "8f2839f25d086af736a60e9eeb907d3b93b6e0e5",
    "papermill": {
     "duration": 0.002992,
     "end_time": "2024-02-03T23:14:08.860927",
     "exception": false,
     "start_time": "2024-02-03T23:14:08.857935",
     "status": "completed"
    },
    "tags": []
   },
   "source": [
    "# Overview\n",
    "\n",
    "In PyTorch, the learnable parameters(i.e. weights and biases) of a `torch.nn.Module` model are contained in the model's parameters(accessed with `model.parameters()`). A `state_dict` is simply a Python dictionary object that maps each layer to its parameter tensor.\n",
    "\n",
    "A **state_dict** is an integral entity if you are interested in saving or loading models from PyTorch. **Because `state_dict` objects are Python dictionaries, they can be easily saved, updated, altered, and restored, adding a great deal of modularity to PyTorch models and optimizers.** \n",
    "\n",
    "Note that **only layers with learnable parameters (convolutional layers, linear layers, etc.) and registered buffers (batchnorm's runing_mean) have entries in the model's `state_dict`.** \n",
    "\n",
    "**Optimizer objects(`torch.optim`) also have a `state_dict`, which contains information about the optimizer's state, as well as hyperparameters used.**\n",
    "\n",
    "In this notebook, let's see how `state_dict` is used with a simple model. The description of many of layers of Neural Network see [Defining a Neural Network with Convolution Process](https://www.kaggle.com/code/aisuko/defining-a-neural-network-with-convolution-process)"
   ]
  },
  {
   "cell_type": "code",
   "execution_count": 1,
   "id": "c2c9081d",
   "metadata": {
    "execution": {
     "iopub.execute_input": "2024-02-03T23:14:08.868511Z",
     "iopub.status.busy": "2024-02-03T23:14:08.867763Z",
     "iopub.status.idle": "2024-02-03T23:14:12.265791Z",
     "shell.execute_reply": "2024-02-03T23:14:12.264555Z"
    },
    "papermill": {
     "duration": 3.404624,
     "end_time": "2024-02-03T23:14:12.268166",
     "exception": false,
     "start_time": "2024-02-03T23:14:08.863542",
     "status": "completed"
    },
    "tags": []
   },
   "outputs": [
    {
     "data": {
      "text/plain": [
       "Net(\n",
       "  (conv1): Conv2d(3, 6, kernel_size=(5, 5), stride=(1, 1))\n",
       "  (pool): MaxPool2d(kernel_size=2, stride=2, padding=0, dilation=1, ceil_mode=False)\n",
       "  (conv2): Conv2d(6, 16, kernel_size=(5, 5), stride=(1, 1))\n",
       "  (fc1): Linear(in_features=400, out_features=120, bias=True)\n",
       "  (fc2): Linear(in_features=120, out_features=64, bias=True)\n",
       "  (fc3): Linear(in_features=84, out_features=10, bias=True)\n",
       ")"
      ]
     },
     "execution_count": 1,
     "metadata": {},
     "output_type": "execute_result"
    }
   ],
   "source": [
    "import torch.nn as nn\n",
    "import torch.optim as optim\n",
    "import torch.nn.functional as F\n",
    "\n",
    "class Net(nn.Module):\n",
    "    def __init__(self):\n",
    "        super(Net, self).__init__()\n",
    "        self.conv1=nn.Conv2d(3,6,5)\n",
    "        self.pool=nn.MaxPool2d(2,2)\n",
    "        self.conv2=nn.Conv2d(6,16,5)\n",
    "        self.fc1=nn.Linear(16*5*5,120)\n",
    "        self.fc2=nn.Linear(120,64)\n",
    "        self.fc3=nn.Linear(84,10)\n",
    "    \n",
    "    def forward(self, x):\n",
    "        x=self.pool(F.relu(self.conv1(x)))\n",
    "        x=self.pool(F.relu(self.conv2(x)))\n",
    "        x=x.view(-1,16*5*5)\n",
    "        x=F.relu(self.fc1(x))\n",
    "        x=F.relu(self.fc2(x))\n",
    "        x=self.fc3(x)\n",
    "        return x\n",
    "\n",
    "net=Net()\n",
    "net"
   ]
  },
  {
   "cell_type": "markdown",
   "id": "e9ada579",
   "metadata": {
    "papermill": {
     "duration": 0.002416,
     "end_time": "2024-02-03T23:14:12.273317",
     "exception": false,
     "start_time": "2024-02-03T23:14:12.270901",
     "status": "completed"
    },
    "tags": []
   },
   "source": [
    "# Initialize the optimizer\n",
    "\n",
    "We will use SGD with momentum."
   ]
  },
  {
   "cell_type": "code",
   "execution_count": 2,
   "id": "df8b870c",
   "metadata": {
    "execution": {
     "iopub.execute_input": "2024-02-03T23:14:12.280696Z",
     "iopub.status.busy": "2024-02-03T23:14:12.279854Z",
     "iopub.status.idle": "2024-02-03T23:14:15.298523Z",
     "shell.execute_reply": "2024-02-03T23:14:15.297477Z"
    },
    "papermill": {
     "duration": 3.025057,
     "end_time": "2024-02-03T23:14:15.300850",
     "exception": false,
     "start_time": "2024-02-03T23:14:12.275793",
     "status": "completed"
    },
    "tags": []
   },
   "outputs": [
    {
     "data": {
      "text/plain": [
       "SGD (\n",
       "Parameter Group 0\n",
       "    dampening: 0\n",
       "    differentiable: False\n",
       "    foreach: None\n",
       "    lr: 0.001\n",
       "    maximize: False\n",
       "    momentum: 0.9\n",
       "    nesterov: False\n",
       "    weight_decay: 0\n",
       ")"
      ]
     },
     "execution_count": 2,
     "metadata": {},
     "output_type": "execute_result"
    }
   ],
   "source": [
    "optimizer=optim.SGD(net.parameters(), lr=0.001, momentum=0.9)\n",
    "optimizer"
   ]
  },
  {
   "cell_type": "markdown",
   "id": "bc93b9d3",
   "metadata": {
    "papermill": {
     "duration": 0.002537,
     "end_time": "2024-02-03T23:14:15.306292",
     "exception": false,
     "start_time": "2024-02-03T23:14:15.303755",
     "status": "completed"
    },
    "tags": []
   },
   "source": [
    "# Access the model and optimizer `state_dict`"
   ]
  },
  {
   "cell_type": "code",
   "execution_count": 3,
   "id": "6f4f5afa",
   "metadata": {
    "execution": {
     "iopub.execute_input": "2024-02-03T23:14:15.313752Z",
     "iopub.status.busy": "2024-02-03T23:14:15.312940Z",
     "iopub.status.idle": "2024-02-03T23:14:15.322666Z",
     "shell.execute_reply": "2024-02-03T23:14:15.321298Z"
    },
    "papermill": {
     "duration": 0.015922,
     "end_time": "2024-02-03T23:14:15.324829",
     "exception": false,
     "start_time": "2024-02-03T23:14:15.308907",
     "status": "completed"
    },
    "tags": []
   },
   "outputs": [
    {
     "name": "stdout",
     "output_type": "stream",
     "text": [
      "Model's state_dict\n",
      "conv1.weight \t torch.Size([6, 3, 5, 5])\n",
      "conv1.bias \t torch.Size([6])\n",
      "conv2.weight \t torch.Size([16, 6, 5, 5])\n",
      "conv2.bias \t torch.Size([16])\n",
      "fc1.weight \t torch.Size([120, 400])\n",
      "fc1.bias \t torch.Size([120])\n",
      "fc2.weight \t torch.Size([64, 120])\n",
      "fc2.bias \t torch.Size([64])\n",
      "fc3.weight \t torch.Size([10, 84])\n",
      "fc3.bias \t torch.Size([10])\n"
     ]
    }
   ],
   "source": [
    "print(\"Model's state_dict\")\n",
    "for param_tensor in net.state_dict():\n",
    "    print(param_tensor, '\\t', net.state_dict()[param_tensor].size())"
   ]
  },
  {
   "cell_type": "code",
   "execution_count": 4,
   "id": "ba622f34",
   "metadata": {
    "execution": {
     "iopub.execute_input": "2024-02-03T23:14:15.331908Z",
     "iopub.status.busy": "2024-02-03T23:14:15.331535Z",
     "iopub.status.idle": "2024-02-03T23:14:15.339141Z",
     "shell.execute_reply": "2024-02-03T23:14:15.337974Z"
    },
    "papermill": {
     "duration": 0.013762,
     "end_time": "2024-02-03T23:14:15.341437",
     "exception": false,
     "start_time": "2024-02-03T23:14:15.327675",
     "status": "completed"
    },
    "tags": []
   },
   "outputs": [
    {
     "name": "stdout",
     "output_type": "stream",
     "text": [
      "Optimizer's state_dict\n"
     ]
    },
    {
     "data": {
      "text/plain": [
       "{'state': {},\n",
       " 'param_groups': [{'lr': 0.001,\n",
       "   'momentum': 0.9,\n",
       "   'dampening': 0,\n",
       "   'weight_decay': 0,\n",
       "   'nesterov': False,\n",
       "   'maximize': False,\n",
       "   'foreach': None,\n",
       "   'differentiable': False,\n",
       "   'params': [0, 1, 2, 3, 4, 5, 6, 7, 8, 9]}]}"
      ]
     },
     "execution_count": 4,
     "metadata": {},
     "output_type": "execute_result"
    }
   ],
   "source": [
    "print(\"Optimizer's state_dict\")\n",
    "optimizer.state_dict()"
   ]
  }
 ],
 "metadata": {
  "kaggle": {
   "accelerator": "none",
   "dataSources": [],
   "dockerImageVersionId": 30646,
   "isGpuEnabled": false,
   "isInternetEnabled": true,
   "language": "python",
   "sourceType": "notebook"
  },
  "kernelspec": {
   "display_name": "Python 3",
   "language": "python",
   "name": "python3"
  },
  "language_info": {
   "codemirror_mode": {
    "name": "ipython",
    "version": 3
   },
   "file_extension": ".py",
   "mimetype": "text/x-python",
   "name": "python",
   "nbconvert_exporter": "python",
   "pygments_lexer": "ipython3",
   "version": "3.10.13"
  },
  "papermill": {
   "default_parameters": {},
   "duration": 10.718902,
   "end_time": "2024-02-03T23:14:16.465713",
   "environment_variables": {},
   "exception": null,
   "input_path": "__notebook__.ipynb",
   "output_path": "__notebook__.ipynb",
   "parameters": {},
   "start_time": "2024-02-03T23:14:05.746811",
   "version": "2.5.0"
  }
 },
 "nbformat": 4,
 "nbformat_minor": 5
}
