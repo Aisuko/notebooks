{
 "cells": [
  {
   "cell_type": "markdown",
   "id": "5e3dd196",
   "metadata": {
    "_cell_guid": "b1076dfc-b9ad-4769-8c92-a6c4dae69d19",
    "_uuid": "8f2839f25d086af736a60e9eeb907d3b93b6e0e5",
    "papermill": {
     "duration": 0.01155,
     "end_time": "2024-07-23T01:26:05.857138",
     "exception": false,
     "start_time": "2024-07-23T01:26:05.845588",
     "status": "completed"
    },
    "tags": []
   },
   "source": [
    "# Overview\n",
    "\n",
    "In [Single character neural net](https://www.kaggle.com/code/aisuko/single-character-nn-prediction-with-pytorch) notebook. We build a character level module(one-layer) that predicts a next one with a lookup table of counts(we normlize the counts to probability).\n",
    "\n",
    "If we are to take more context into account when predicting the next character in a sequence things quickly blow up. For example, we have 27 character in the matrix. We only get 27 possibilities for what we could have come in the context. However, if we take two characters in the past and try to predict the third one, the number of possibilities would be $27*27=729$ times. So, the whole thing just kind of explodes and doesn't work very well.\n",
    "\n",
    "So, in this notebnook, we will implement MLP based on [Bengio et al. 2003](https://www.youtube.com/redirect?event=video_description&redir_token=QUFFLUhqazJyRmVlM0lsU2pxUmcyVXZTWkk2QnNFSFEyUXxBQ3Jtc0tseS1KWVA3SHBvWWh6cV9TcDFPVC05NkVTVFlWS2pmNFB5RUVvWnJOcjJHbGcteVB3UDNXeU1sWm9FQlZPS3ZLakFUV1FKb1ZqQmNjS3Z0ZzdJNWpTU21wZWJ6RE1pTjhWQjFjanpETm1ock52c2JVVQ&q=https%3A%2F%2Fwww.jmlr.org%2Fpapers%2Fvolume3%2Fbengio03a%2Fbengio03a.pdf&v=TCH_1BHY58I). This paper solve(with a 17000 words vocabulary based language model) the question above by using MLP. And they associated each word 30 dimensional feature vector which means every word is now embedded into a thirty dimensional space.**17000 vectors in a 30 dimensional space.** \n",
    "\n",
    "These words are initialized completely reandomly so they're spread out at random but then we're going to tune these embeddings of these words using back propagation so during the course of training of this neural net these points or vectors are going to basically move around in this space and the similar meanings or that are indeed synonyms of each other might end up in a very similat part of the space.\n",
    "\n",
    "In the training process, it will transform the these information from embeddings to neural net.\n",
    "\n",
    "\n",
    "# Preprocess the data"
   ]
  },
  {
   "cell_type": "code",
   "execution_count": 1,
   "id": "47618c43",
   "metadata": {
    "execution": {
     "iopub.execute_input": "2024-07-23T01:26:05.882820Z",
     "iopub.status.busy": "2024-07-23T01:26:05.882438Z",
     "iopub.status.idle": "2024-07-23T01:26:09.427876Z",
     "shell.execute_reply": "2024-07-23T01:26:09.426503Z"
    },
    "papermill": {
     "duration": 3.56136,
     "end_time": "2024-07-23T01:26:09.430568",
     "exception": false,
     "start_time": "2024-07-23T01:26:05.869208",
     "status": "completed"
    },
    "tags": []
   },
   "outputs": [
    {
     "name": "stdout",
     "output_type": "stream",
     "text": [
      "['emma', 'olivia', 'ava', 'isabella', 'sophia', 'charlotte', 'mia', 'amelia']\n",
      "32033\n"
     ]
    }
   ],
   "source": [
    "import torch\n",
    "import torch.nn.functional as F\n",
    "import matplotlib.pyplot as plt\n",
    "\n",
    "words=open('/kaggle/input/character-lm-without-framework/names.txt', 'r').read().splitlines()\n",
    "\n",
    "print(words[:8])\n",
    "print(len(words))"
   ]
  },
  {
   "cell_type": "code",
   "execution_count": 2,
   "id": "102c90ca",
   "metadata": {
    "execution": {
     "iopub.execute_input": "2024-07-23T01:26:09.456291Z",
     "iopub.status.busy": "2024-07-23T01:26:09.455790Z",
     "iopub.status.idle": "2024-07-23T01:26:09.467402Z",
     "shell.execute_reply": "2024-07-23T01:26:09.466294Z"
    },
    "papermill": {
     "duration": 0.027248,
     "end_time": "2024-07-23T01:26:09.470093",
     "exception": false,
     "start_time": "2024-07-23T01:26:09.442845",
     "status": "completed"
    },
    "tags": []
   },
   "outputs": [
    {
     "name": "stdout",
     "output_type": "stream",
     "text": [
      "{1: 'a', 2: 'b', 3: 'c', 4: 'd', 5: 'e', 6: 'f', 7: 'g', 8: 'h', 9: 'i', 10: 'j', 11: 'k', 12: 'l', 13: 'm', 14: 'n', 15: 'o', 16: 'p', 17: 'q', 18: 'r', 19: 's', 20: 't', 21: 'u', 22: 'v', 23: 'w', 24: 'x', 25: 'y', 26: 'z', 0: '.'}\n"
     ]
    }
   ],
   "source": [
    "# build the vocabulary of characters and mappings to/from integers\n",
    "chars=sorted(list(set(''.join(words))))\n",
    "stoi={s:i+1 for i,s in enumerate(chars)}\n",
    "stoi['.']=0\n",
    "itos={i:s for s,i in stoi.items()}\n",
    "print(itos)"
   ]
  },
  {
   "cell_type": "markdown",
   "id": "32517ed9",
   "metadata": {
    "papermill": {
     "duration": 0.014614,
     "end_time": "2024-07-23T01:26:09.497419",
     "exception": false,
     "start_time": "2024-07-23T01:26:09.482805",
     "status": "completed"
    },
    "tags": []
   },
   "source": [
    "# Build the dataset"
   ]
  },
  {
   "cell_type": "code",
   "execution_count": 3,
   "id": "093c0744",
   "metadata": {
    "_kg_hide-output": true,
    "execution": {
     "iopub.execute_input": "2024-07-23T01:26:09.522294Z",
     "iopub.status.busy": "2024-07-23T01:26:09.521886Z",
     "iopub.status.idle": "2024-07-23T01:26:09.543780Z",
     "shell.execute_reply": "2024-07-23T01:26:09.541852Z"
    },
    "papermill": {
     "duration": 0.037312,
     "end_time": "2024-07-23T01:26:09.546413",
     "exception": false,
     "start_time": "2024-07-23T01:26:09.509101",
     "status": "completed"
    },
    "tags": []
   },
   "outputs": [
    {
     "name": "stdout",
     "output_type": "stream",
     "text": [
      "emma\n",
      "... ---> e\n",
      "..e ---> m\n",
      ".em ---> m\n",
      "emm ---> a\n",
      "mma ---> .\n",
      "olivia\n",
      "... ---> o\n",
      "..o ---> l\n",
      ".ol ---> i\n",
      "oli ---> v\n",
      "liv ---> i\n",
      "ivi ---> a\n",
      "via ---> .\n",
      "ava\n",
      "... ---> a\n",
      "..a ---> v\n",
      ".av ---> a\n",
      "ava ---> .\n",
      "isabella\n",
      "... ---> i\n",
      "..i ---> s\n",
      ".is ---> a\n",
      "isa ---> b\n",
      "sab ---> e\n",
      "abe ---> l\n",
      "bel ---> l\n",
      "ell ---> a\n",
      "lla ---> .\n",
      "sophia\n",
      "... ---> s\n",
      "..s ---> o\n",
      ".so ---> p\n",
      "sop ---> h\n",
      "oph ---> i\n",
      "phi ---> a\n",
      "hia ---> .\n"
     ]
    }
   ],
   "source": [
    "# context length: how many characters do we take to predict the next one?\n",
    "block_size=3\n",
    "# X input of neural net, Y the lable of every element in X\n",
    "X,Y=[],[]\n",
    "for w in words[:5]: # first 5 words\n",
    "    print(w)\n",
    "    context=[0]*block_size # start with a padded context of zero tokens\n",
    "    for ch in w+'.': # we always padding with .\n",
    "        ix=stoi[ch]\n",
    "        X.append(context)\n",
    "        Y.append(ix)\n",
    "        print(''.join(itos[i] for i in context), '--->', itos[ix])\n",
    "        context=context[1:] +[ix] # crop and append\n",
    "X=torch.tensor(X)\n",
    "Y=torch.tensor(Y)"
   ]
  },
  {
   "cell_type": "code",
   "execution_count": 4,
   "id": "ab8d0a5c",
   "metadata": {
    "execution": {
     "iopub.execute_input": "2024-07-23T01:26:09.575411Z",
     "iopub.status.busy": "2024-07-23T01:26:09.574964Z",
     "iopub.status.idle": "2024-07-23T01:26:09.583772Z",
     "shell.execute_reply": "2024-07-23T01:26:09.582482Z"
    },
    "papermill": {
     "duration": 0.026495,
     "end_time": "2024-07-23T01:26:09.586166",
     "exception": false,
     "start_time": "2024-07-23T01:26:09.559671",
     "status": "completed"
    },
    "tags": []
   },
   "outputs": [
    {
     "data": {
      "text/plain": [
       "(torch.Size([32, 3]), torch.int64, torch.Size([32]), torch.int64)"
      ]
     },
     "execution_count": 4,
     "metadata": {},
     "output_type": "execute_result"
    }
   ],
   "source": [
    "X.shape, X.dtype, Y.shape, Y.dtype"
   ]
  },
  {
   "cell_type": "markdown",
   "id": "69dfa3ff",
   "metadata": {
    "papermill": {
     "duration": 0.012023,
     "end_time": "2024-07-23T01:26:09.610570",
     "exception": false,
     "start_time": "2024-07-23T01:26:09.598547",
     "status": "completed"
    },
    "tags": []
   },
   "source": [
    "We can tell from the `first 5 words`, we have created datasets for 32 examples, each input of the neural networks is 3 integers. The integer of label y is `torch.Size([32])`.\n",
    "\n",
    "\n",
    "# Define Lookup table(embeddings)\n",
    "\n",
    "We will do the embeddings for all the characters by using look up table.\n",
    "\n",
    "**Let's grab all the characters(in our case is 27) into a low-dimensional(2) space.** In the paper, they grab 17000 words into 30 dimensional space."
   ]
  },
  {
   "cell_type": "code",
   "execution_count": 5,
   "id": "d4f586d0",
   "metadata": {
    "execution": {
     "iopub.execute_input": "2024-07-23T01:26:09.637136Z",
     "iopub.status.busy": "2024-07-23T01:26:09.636765Z",
     "iopub.status.idle": "2024-07-23T01:26:09.655658Z",
     "shell.execute_reply": "2024-07-23T01:26:09.654637Z"
    },
    "papermill": {
     "duration": 0.034493,
     "end_time": "2024-07-23T01:26:09.657911",
     "exception": false,
     "start_time": "2024-07-23T01:26:09.623418",
     "status": "completed"
    },
    "tags": []
   },
   "outputs": [
    {
     "data": {
      "text/plain": [
       "torch.Size([27, 2])"
      ]
     },
     "execution_count": 5,
     "metadata": {},
     "output_type": "execute_result"
    }
   ],
   "source": [
    "# each one of 27 characters will have 2 dimentional embedding\n",
    "C=torch.randn((27,2)) # random create a tensor which has 27 rows and 2 columns\n",
    "C.shape"
   ]
  },
  {
   "cell_type": "markdown",
   "id": "effdddc3",
   "metadata": {
    "papermill": {
     "duration": 0.012675,
     "end_time": "2024-07-23T01:26:09.682698",
     "exception": false,
     "start_time": "2024-07-23T01:26:09.670023",
     "status": "completed"
    },
    "tags": []
   },
   "source": [
    "## Example for demonstrate embeddings\n",
    "\n",
    "Here we will do embedding for the number 5. We use one-hot encoding make sure the every value of neuron would be zero with the exception of the neuron indexed at the target class.\n",
    "\n",
    "And there are two ways to do this:"
   ]
  },
  {
   "cell_type": "code",
   "execution_count": 6,
   "id": "aba79f79",
   "metadata": {
    "execution": {
     "iopub.execute_input": "2024-07-23T01:26:09.710075Z",
     "iopub.status.busy": "2024-07-23T01:26:09.709119Z",
     "iopub.status.idle": "2024-07-23T01:26:09.780474Z",
     "shell.execute_reply": "2024-07-23T01:26:09.779269Z"
    },
    "papermill": {
     "duration": 0.088111,
     "end_time": "2024-07-23T01:26:09.783221",
     "exception": false,
     "start_time": "2024-07-23T01:26:09.695110",
     "status": "completed"
    },
    "tags": []
   },
   "outputs": [
    {
     "data": {
      "text/plain": [
       "True"
      ]
     },
     "execution_count": 6,
     "metadata": {},
     "output_type": "execute_result"
    }
   ],
   "source": [
    "# embedding a single interger has index 5, C[5]\n",
    "# embedding the whole list\n",
    "# note: we convert integet to float\n",
    "torch.equal(C[5],(F.one_hot(torch.tensor(5), num_classes=27).float() @ C))"
   ]
  },
  {
   "cell_type": "markdown",
   "id": "e6d8aed9",
   "metadata": {
    "papermill": {
     "duration": 0.0115,
     "end_time": "2024-07-23T01:26:09.806649",
     "exception": false,
     "start_time": "2024-07-23T01:26:09.795149",
     "status": "completed"
    },
    "tags": []
   },
   "source": [
    "## Example of tensor index"
   ]
  },
  {
   "cell_type": "code",
   "execution_count": 7,
   "id": "3b626afa",
   "metadata": {
    "execution": {
     "iopub.execute_input": "2024-07-23T01:26:09.832827Z",
     "iopub.status.busy": "2024-07-23T01:26:09.832435Z",
     "iopub.status.idle": "2024-07-23T01:26:09.845438Z",
     "shell.execute_reply": "2024-07-23T01:26:09.843919Z"
    },
    "papermill": {
     "duration": 0.029499,
     "end_time": "2024-07-23T01:26:09.848002",
     "exception": false,
     "start_time": "2024-07-23T01:26:09.818503",
     "status": "completed"
    },
    "tags": []
   },
   "outputs": [
    {
     "data": {
      "text/plain": [
       "torch.Size([32, 3, 2])"
      ]
     },
     "execution_count": 7,
     "metadata": {},
     "output_type": "execute_result"
    }
   ],
   "source": [
    "# We do embedding for x in once\n",
    "# for everyone of 32 by 3 integers we;re retrieved 2 embedding vectors\n",
    "C[X].shape"
   ]
  },
  {
   "cell_type": "code",
   "execution_count": 8,
   "id": "1d3f214c",
   "metadata": {
    "execution": {
     "iopub.execute_input": "2024-07-23T01:26:09.874804Z",
     "iopub.status.busy": "2024-07-23T01:26:09.874412Z",
     "iopub.status.idle": "2024-07-23T01:26:09.884445Z",
     "shell.execute_reply": "2024-07-23T01:26:09.883251Z"
    },
    "papermill": {
     "duration": 0.026317,
     "end_time": "2024-07-23T01:26:09.886740",
     "exception": false,
     "start_time": "2024-07-23T01:26:09.860423",
     "status": "completed"
    },
    "tags": []
   },
   "outputs": [
    {
     "data": {
      "text/plain": [
       "tensor(1)"
      ]
     },
     "execution_count": 8,
     "metadata": {},
     "output_type": "execute_result"
    }
   ],
   "source": [
    "# the value of example/index 13 and second demisional is 1\n",
    "X[13,2]"
   ]
  },
  {
   "cell_type": "code",
   "execution_count": 9,
   "id": "6cd7f425",
   "metadata": {
    "execution": {
     "iopub.execute_input": "2024-07-23T01:26:09.914372Z",
     "iopub.status.busy": "2024-07-23T01:26:09.913937Z",
     "iopub.status.idle": "2024-07-23T01:26:09.921207Z",
     "shell.execute_reply": "2024-07-23T01:26:09.920126Z"
    },
    "papermill": {
     "duration": 0.023058,
     "end_time": "2024-07-23T01:26:09.923318",
     "exception": false,
     "start_time": "2024-07-23T01:26:09.900260",
     "status": "completed"
    },
    "tags": []
   },
   "outputs": [
    {
     "data": {
      "text/plain": [
       "True"
      ]
     },
     "execution_count": 9,
     "metadata": {},
     "output_type": "execute_result"
    }
   ],
   "source": [
    "torch.equal(C[X][13,2], C[1])"
   ]
  },
  {
   "cell_type": "code",
   "execution_count": 10,
   "id": "3a2a5577",
   "metadata": {
    "execution": {
     "iopub.execute_input": "2024-07-23T01:26:09.949828Z",
     "iopub.status.busy": "2024-07-23T01:26:09.949462Z",
     "iopub.status.idle": "2024-07-23T01:26:09.956125Z",
     "shell.execute_reply": "2024-07-23T01:26:09.955041Z"
    },
    "papermill": {
     "duration": 0.022591,
     "end_time": "2024-07-23T01:26:09.958517",
     "exception": false,
     "start_time": "2024-07-23T01:26:09.935926",
     "status": "completed"
    },
    "tags": []
   },
   "outputs": [
    {
     "data": {
      "text/plain": [
       "torch.Size([32, 3, 2])"
      ]
     },
     "execution_count": 10,
     "metadata": {},
     "output_type": "execute_result"
    }
   ],
   "source": [
    "emb=C[X]\n",
    "emb.shape"
   ]
  },
  {
   "cell_type": "markdown",
   "id": "9833ab01",
   "metadata": {
    "papermill": {
     "duration": 0.012369,
     "end_time": "2024-07-23T01:26:09.983257",
     "exception": false,
     "start_time": "2024-07-23T01:26:09.970888",
     "status": "completed"
    },
    "tags": []
   },
   "source": [
    "# Construct the hidden layer\n",
    "\n",
    "We need to solve the `How to multiply different shape of tensors issues` like `emb@W1+b1`.\n",
    "\n",
    "```bash\n",
    "---------------------------------------------------------------------------\n",
    "RuntimeError                              Traceback (most recent call last)\n",
    "Cell In[14], line 1\n",
    "----> 1 emb@W1+b1\n",
    "\n",
    "RuntimeError: mat1 and mat2 shapes cannot be multiplied (96x2 and 6x100)\n",
    "```"
   ]
  },
  {
   "cell_type": "code",
   "execution_count": 11,
   "id": "6b6b9a88",
   "metadata": {
    "execution": {
     "iopub.execute_input": "2024-07-23T01:26:10.010915Z",
     "iopub.status.busy": "2024-07-23T01:26:10.010218Z",
     "iopub.status.idle": "2024-07-23T01:26:10.016179Z",
     "shell.execute_reply": "2024-07-23T01:26:10.014546Z"
    },
    "papermill": {
     "duration": 0.022117,
     "end_time": "2024-07-23T01:26:10.018653",
     "exception": false,
     "start_time": "2024-07-23T01:26:09.996536",
     "status": "completed"
    },
    "tags": []
   },
   "outputs": [],
   "source": [
    "# we have 2 dimensional embeddings and we have 3 of them\n",
    "# so, the number of input layer should be 6\n",
    "\n",
    "# and the number of neurons in this layer is 100(it's up to us)\n",
    "W1=torch.randn((6,100))\n",
    "b1=torch.randn(100) # initiate randomly"
   ]
  },
  {
   "cell_type": "markdown",
   "id": "1358fce1",
   "metadata": {
    "papermill": {
     "duration": 0.011973,
     "end_time": "2024-07-23T01:26:10.043016",
     "exception": false,
     "start_time": "2024-07-23T01:26:10.031043",
     "status": "completed"
    },
    "tags": []
   },
   "source": [
    "# How to concatenate these input from ([32,3,2]) to (32,6) to fit the hidden layer?\n",
    "\n",
    "There are usually many ways of implementing this. We want to retrive these three parts and concatenate them.\n",
    "\n",
    "* torch.cat\n",
    "* torch.cat(torch.unbind) (it is less efficient)\n",
    "* torch.view(efficient way, see reason below)\n",
    "\n",
    "### torch.cat"
   ]
  },
  {
   "cell_type": "code",
   "execution_count": 12,
   "id": "79e971fb",
   "metadata": {
    "execution": {
     "iopub.execute_input": "2024-07-23T01:26:10.071463Z",
     "iopub.status.busy": "2024-07-23T01:26:10.070981Z",
     "iopub.status.idle": "2024-07-23T01:26:10.083305Z",
     "shell.execute_reply": "2024-07-23T01:26:10.082201Z"
    },
    "papermill": {
     "duration": 0.029256,
     "end_time": "2024-07-23T01:26:10.085507",
     "exception": false,
     "start_time": "2024-07-23T01:26:10.056251",
     "status": "completed"
    },
    "tags": []
   },
   "outputs": [
    {
     "data": {
      "text/plain": [
       "torch.Size([32, 6])"
      ]
     },
     "execution_count": 12,
     "metadata": {},
     "output_type": "execute_result"
    }
   ],
   "source": [
    "# using torch.cat(concatenates) https://pytorch.org/docs/stable/generated/torch.cat.html#torch.cat\n",
    "\n",
    "torch.cat([emb[:,0,:], emb[:,1,:], emb[:,2,:]],1).shape"
   ]
  },
  {
   "cell_type": "markdown",
   "id": "c1a45201",
   "metadata": {
    "papermill": {
     "duration": 0.013349,
     "end_time": "2024-07-23T01:26:10.111570",
     "exception": false,
     "start_time": "2024-07-23T01:26:10.098221",
     "status": "completed"
    },
    "tags": []
   },
   "source": [
    "### torch.cat(torch.unbind())"
   ]
  },
  {
   "cell_type": "code",
   "execution_count": 13,
   "id": "4ec5b026",
   "metadata": {
    "execution": {
     "iopub.execute_input": "2024-07-23T01:26:10.139386Z",
     "iopub.status.busy": "2024-07-23T01:26:10.138302Z",
     "iopub.status.idle": "2024-07-23T01:26:10.147446Z",
     "shell.execute_reply": "2024-07-23T01:26:10.146344Z"
    },
    "papermill": {
     "duration": 0.025327,
     "end_time": "2024-07-23T01:26:10.149784",
     "exception": false,
     "start_time": "2024-07-23T01:26:10.124457",
     "status": "completed"
    },
    "tags": []
   },
   "outputs": [
    {
     "data": {
      "text/plain": [
       "torch.Size([32, 6])"
      ]
     },
     "execution_count": 13,
     "metadata": {},
     "output_type": "execute_result"
    }
   ],
   "source": [
    "# However, we want to be more flexible. If the input change to other dimensions, the code won't work.\n",
    "# so, here we use torch.unbind to remove the dimensions\n",
    "\n",
    "# it's less efficient, because the concetenation would create a whole new tensor with a whole\n",
    "# new storage so new memeory is being created because there's no way to concatenate tensors just\n",
    "# by manipulating the view attributes\n",
    "\n",
    "torch.cat(torch.unbind(emb,1),1).shape"
   ]
  },
  {
   "cell_type": "markdown",
   "id": "02864630",
   "metadata": {
    "papermill": {
     "duration": 0.012609,
     "end_time": "2024-07-23T01:26:10.176032",
     "exception": false,
     "start_time": "2024-07-23T01:26:10.163423",
     "status": "completed"
    },
    "tags": []
   },
   "source": [
    "### torch.view"
   ]
  },
  {
   "cell_type": "code",
   "execution_count": 14,
   "id": "351283b4",
   "metadata": {
    "execution": {
     "iopub.execute_input": "2024-07-23T01:26:10.263120Z",
     "iopub.status.busy": "2024-07-23T01:26:10.262150Z",
     "iopub.status.idle": "2024-07-23T01:26:10.275120Z",
     "shell.execute_reply": "2024-07-23T01:26:10.274012Z"
    },
    "papermill": {
     "duration": 0.029303,
     "end_time": "2024-07-23T01:26:10.277629",
     "exception": false,
     "start_time": "2024-07-23T01:26:10.248326",
     "status": "completed"
    },
    "tags": []
   },
   "outputs": [
    {
     "data": {
      "text/plain": [
       "tensor([ 0,  1,  2,  3,  4,  5,  6,  7,  8,  9, 10, 11, 12, 13, 14, 15, 16, 17])"
      ]
     },
     "execution_count": 14,
     "metadata": {},
     "output_type": "execute_result"
    }
   ],
   "source": [
    "# let's use a more efficient way to do this\n",
    "a=torch.arange(18)\n",
    "a"
   ]
  },
  {
   "cell_type": "code",
   "execution_count": 15,
   "id": "230153c9",
   "metadata": {
    "execution": {
     "iopub.execute_input": "2024-07-23T01:26:10.305939Z",
     "iopub.status.busy": "2024-07-23T01:26:10.305570Z",
     "iopub.status.idle": "2024-07-23T01:26:10.313727Z",
     "shell.execute_reply": "2024-07-23T01:26:10.312377Z"
    },
    "papermill": {
     "duration": 0.025016,
     "end_time": "2024-07-23T01:26:10.316155",
     "exception": false,
     "start_time": "2024-07-23T01:26:10.291139",
     "status": "completed"
    },
    "tags": []
   },
   "outputs": [
    {
     "data": {
      "text/plain": [
       "torch.Size([18])"
      ]
     },
     "execution_count": 15,
     "metadata": {},
     "output_type": "execute_result"
    }
   ],
   "source": [
    "a.shape"
   ]
  },
  {
   "cell_type": "code",
   "execution_count": 16,
   "id": "0c8bab7e",
   "metadata": {
    "_kg_hide-output": true,
    "execution": {
     "iopub.execute_input": "2024-07-23T01:26:10.344190Z",
     "iopub.status.busy": "2024-07-23T01:26:10.343800Z",
     "iopub.status.idle": "2024-07-23T01:26:10.353021Z",
     "shell.execute_reply": "2024-07-23T01:26:10.351644Z"
    },
    "papermill": {
     "duration": 0.025663,
     "end_time": "2024-07-23T01:26:10.355340",
     "exception": false,
     "start_time": "2024-07-23T01:26:10.329677",
     "status": "completed"
    },
    "tags": []
   },
   "outputs": [
    {
     "name": "stdout",
     "output_type": "stream",
     "text": [
      "tensor([[ 0,  1,  2,  3,  4,  5,  6,  7,  8],\n",
      "        [ 9, 10, 11, 12, 13, 14, 15, 16, 17]])\n",
      "tensor([[ 0,  1],\n",
      "        [ 2,  3],\n",
      "        [ 4,  5],\n",
      "        [ 6,  7],\n",
      "        [ 8,  9],\n",
      "        [10, 11],\n",
      "        [12, 13],\n",
      "        [14, 15],\n",
      "        [16, 17]])\n",
      "tensor([[[ 0,  1],\n",
      "         [ 2,  3],\n",
      "         [ 4,  5]],\n",
      "\n",
      "        [[ 6,  7],\n",
      "         [ 8,  9],\n",
      "         [10, 11]],\n",
      "\n",
      "        [[12, 13],\n",
      "         [14, 15],\n",
      "         [16, 17]]])\n"
     ]
    }
   ],
   "source": [
    "# re-represent a as different sized and dimensional tensors, adn it can be:\n",
    "print(a.view(2,9))\n",
    "print(a.view(9,2))\n",
    "print(a.view(3,3,2))"
   ]
  },
  {
   "cell_type": "markdown",
   "id": "dfd22451",
   "metadata": {
    "papermill": {
     "duration": 0.012951,
     "end_time": "2024-07-23T01:26:10.381274",
     "exception": false,
     "start_time": "2024-07-23T01:26:10.368323",
     "status": "completed"
    },
    "tags": []
   },
   "source": [
    "We can tell as long as the total number of elements here multiply to be the same it will just work, and in pytorch this operation calling that view is extremely efficient.\n",
    "\n",
    "**The reason is that in each tensor there's something called the underlying storage and the storage is just the numbers always as a one-dimensional vector and this is how this tensor is represented in memory.**"
   ]
  },
  {
   "cell_type": "code",
   "execution_count": 17,
   "id": "59ec8a9d",
   "metadata": {
    "_kg_hide-output": true,
    "execution": {
     "iopub.execute_input": "2024-07-23T01:26:10.409809Z",
     "iopub.status.busy": "2024-07-23T01:26:10.409159Z",
     "iopub.status.idle": "2024-07-23T01:26:10.417267Z",
     "shell.execute_reply": "2024-07-23T01:26:10.416103Z"
    },
    "papermill": {
     "duration": 0.0247,
     "end_time": "2024-07-23T01:26:10.419684",
     "exception": false,
     "start_time": "2024-07-23T01:26:10.394984",
     "status": "completed"
    },
    "tags": []
   },
   "outputs": [
    {
     "name": "stdout",
     "output_type": "stream",
     "text": [
      " 0\n",
      " 1\n",
      " 2\n",
      " 3\n",
      " 4\n",
      " 5\n",
      " 6\n",
      " 7\n",
      " 8\n",
      " 9\n",
      " 10\n",
      " 11\n",
      " 12\n",
      " 13\n",
      " 14\n",
      " 15\n",
      " 16\n",
      " 17\n",
      "[torch.storage.TypedStorage(dtype=torch.int64, device=cpu) of size 18]\n"
     ]
    },
    {
     "name": "stderr",
     "output_type": "stream",
     "text": [
      "/tmp/ipykernel_18/1814170623.py:1: UserWarning: TypedStorage is deprecated. It will be removed in the future and UntypedStorage will be the only storage class. This should only matter to you if you are using storages directly.  To access UntypedStorage directly, use tensor.untyped_storage() instead of tensor.storage()\n",
      "  print(a.storage())\n"
     ]
    }
   ],
   "source": [
    "print(a.storage())"
   ]
  },
  {
   "cell_type": "markdown",
   "id": "96709f51",
   "metadata": {
    "papermill": {
     "duration": 0.012949,
     "end_time": "2024-07-23T01:26:10.445778",
     "exception": false,
     "start_time": "2024-07-23T01:26:10.432829",
     "status": "completed"
    },
    "tags": []
   },
   "source": [
    "It's always a one-dimensional vector but when we call that view we are manipulating some of attributes of that tensor that dictate how this one-dimensional sequence is interpreted to be an n-dimensional tensor and so what's happening here is that no memeory is being changed copied moved or created when we call that view the storage is identical but when you call that view some of the internal attributes of the view of the sensor are being manipulated and changed in particular that's something called a storage offeset strides and shapes and these are manipulated so that this one-dimensional sequence of bytes is seen as different."
   ]
  },
  {
   "cell_type": "code",
   "execution_count": 18,
   "id": "0a15d5d3",
   "metadata": {
    "_kg_hide-output": true,
    "execution": {
     "iopub.execute_input": "2024-07-23T01:26:10.474688Z",
     "iopub.status.busy": "2024-07-23T01:26:10.474277Z",
     "iopub.status.idle": "2024-07-23T01:26:10.489654Z",
     "shell.execute_reply": "2024-07-23T01:26:10.488605Z"
    },
    "papermill": {
     "duration": 0.033116,
     "end_time": "2024-07-23T01:26:10.492130",
     "exception": false,
     "start_time": "2024-07-23T01:26:10.459014",
     "status": "completed"
    },
    "tags": []
   },
   "outputs": [
    {
     "data": {
      "text/plain": [
       "tensor([[True, True, True, True, True, True],\n",
       "        [True, True, True, True, True, True],\n",
       "        [True, True, True, True, True, True],\n",
       "        [True, True, True, True, True, True],\n",
       "        [True, True, True, True, True, True],\n",
       "        [True, True, True, True, True, True],\n",
       "        [True, True, True, True, True, True],\n",
       "        [True, True, True, True, True, True],\n",
       "        [True, True, True, True, True, True],\n",
       "        [True, True, True, True, True, True],\n",
       "        [True, True, True, True, True, True],\n",
       "        [True, True, True, True, True, True],\n",
       "        [True, True, True, True, True, True],\n",
       "        [True, True, True, True, True, True],\n",
       "        [True, True, True, True, True, True],\n",
       "        [True, True, True, True, True, True],\n",
       "        [True, True, True, True, True, True],\n",
       "        [True, True, True, True, True, True],\n",
       "        [True, True, True, True, True, True],\n",
       "        [True, True, True, True, True, True],\n",
       "        [True, True, True, True, True, True],\n",
       "        [True, True, True, True, True, True],\n",
       "        [True, True, True, True, True, True],\n",
       "        [True, True, True, True, True, True],\n",
       "        [True, True, True, True, True, True],\n",
       "        [True, True, True, True, True, True],\n",
       "        [True, True, True, True, True, True],\n",
       "        [True, True, True, True, True, True],\n",
       "        [True, True, True, True, True, True],\n",
       "        [True, True, True, True, True, True],\n",
       "        [True, True, True, True, True, True],\n",
       "        [True, True, True, True, True, True]])"
      ]
     },
     "execution_count": 18,
     "metadata": {},
     "output_type": "execute_result"
    }
   ],
   "source": [
    "# we can simply ask pytorch to view this instead as a [32, 6] array.\n",
    "emb.view(32,6)==torch.cat(torch.unbind(emb,1),1)"
   ]
  },
  {
   "cell_type": "code",
   "execution_count": 19,
   "id": "ca9bd3ce",
   "metadata": {
    "execution": {
     "iopub.execute_input": "2024-07-23T01:26:10.521266Z",
     "iopub.status.busy": "2024-07-23T01:26:10.520871Z",
     "iopub.status.idle": "2024-07-23T01:26:10.548531Z",
     "shell.execute_reply": "2024-07-23T01:26:10.547461Z"
    },
    "papermill": {
     "duration": 0.045329,
     "end_time": "2024-07-23T01:26:10.550924",
     "exception": false,
     "start_time": "2024-07-23T01:26:10.505595",
     "status": "completed"
    },
    "tags": []
   },
   "outputs": [
    {
     "name": "stdout",
     "output_type": "stream",
     "text": [
      "torch.Size([32, 100])\n",
      "tensor([[-3.2553, -3.3835, -3.5769,  ...,  4.3531,  3.0629,  3.6948],\n",
      "        [-3.2326, -2.6479, -2.9989,  ...,  3.4741,  2.3047,  3.5943],\n",
      "        [ 0.4374, -2.8839, -7.1125,  ...,  1.7678,  1.5556,  0.1276],\n",
      "        ...,\n",
      "        [-2.9334, -0.6889,  0.3926,  ...,  0.6780,  2.1971,  3.3015],\n",
      "        [ 0.4755, -0.7217, -4.5915,  ...,  2.6427,  1.2158,  0.8756],\n",
      "        [ 1.0306, -3.3673,  0.6775,  ...,  3.4702, -0.2258,  0.2063]])\n"
     ]
    }
   ],
   "source": [
    "h=emb.view(32,6)@W1+b1\n",
    "print(h.shape)\n",
    "print(h)"
   ]
  },
  {
   "cell_type": "code",
   "execution_count": 20,
   "id": "2acae23c",
   "metadata": {
    "execution": {
     "iopub.execute_input": "2024-07-23T01:26:10.582563Z",
     "iopub.status.busy": "2024-07-23T01:26:10.581737Z",
     "iopub.status.idle": "2024-07-23T01:26:10.590035Z",
     "shell.execute_reply": "2024-07-23T01:26:10.588794Z"
    },
    "papermill": {
     "duration": 0.027377,
     "end_time": "2024-07-23T01:26:10.592276",
     "exception": false,
     "start_time": "2024-07-23T01:26:10.564899",
     "status": "completed"
    },
    "tags": []
   },
   "outputs": [
    {
     "name": "stdout",
     "output_type": "stream",
     "text": [
      "torch.Size([32, 100])\n",
      "tensor([[-3.2553, -3.3835, -3.5769,  ...,  4.3531,  3.0629,  3.6948],\n",
      "        [-3.2326, -2.6479, -2.9989,  ...,  3.4741,  2.3047,  3.5943],\n",
      "        [ 0.4374, -2.8839, -7.1125,  ...,  1.7678,  1.5556,  0.1276],\n",
      "        ...,\n",
      "        [-2.9334, -0.6889,  0.3926,  ...,  0.6780,  2.1971,  3.3015],\n",
      "        [ 0.4755, -0.7217, -4.5915,  ...,  2.6427,  1.2158,  0.8756],\n",
      "        [ 1.0306, -3.3673,  0.6775,  ...,  3.4702, -0.2258,  0.2063]])\n"
     ]
    }
   ],
   "source": [
    "# we shouldn't hard code any of the number of neurons, so, we can use \n",
    "# emb.shpae[0] or negative 1\n",
    "\n",
    "# for nagtive 1, pytorch will infer what this should be, because the number of elements must be the same\n",
    "# so pytorch will detrieve this must be 32\n",
    "\n",
    "h=emb.view(-1,6)@W1+b1\n",
    "print(h.shape)\n",
    "print(h)"
   ]
  },
  {
   "cell_type": "markdown",
   "id": "29fd8f43",
   "metadata": {
    "papermill": {
     "duration": 0.014201,
     "end_time": "2024-07-23T01:26:10.620329",
     "exception": false,
     "start_time": "2024-07-23T01:26:10.606128",
     "status": "completed"
    },
    "tags": []
   },
   "source": [
    "# Using `tanh` \n",
    "\n",
    "It will make sure all the elements between [-1,1]."
   ]
  },
  {
   "cell_type": "code",
   "execution_count": 21,
   "id": "daffdcef",
   "metadata": {
    "execution": {
     "iopub.execute_input": "2024-07-23T01:26:10.649533Z",
     "iopub.status.busy": "2024-07-23T01:26:10.649150Z",
     "iopub.status.idle": "2024-07-23T01:26:10.666700Z",
     "shell.execute_reply": "2024-07-23T01:26:10.665659Z"
    },
    "papermill": {
     "duration": 0.034871,
     "end_time": "2024-07-23T01:26:10.669181",
     "exception": false,
     "start_time": "2024-07-23T01:26:10.634310",
     "status": "completed"
    },
    "tags": []
   },
   "outputs": [
    {
     "data": {
      "text/plain": [
       "tensor([[-0.9970, -0.9977, -0.9984,  ...,  0.9997,  0.9956,  0.9988],\n",
       "        [-0.9969, -0.9900, -0.9950,  ...,  0.9981,  0.9803,  0.9985],\n",
       "        [ 0.4115, -0.9938, -1.0000,  ...,  0.9434,  0.9147,  0.1269],\n",
       "        ...,\n",
       "        [-0.9944, -0.5973,  0.3736,  ...,  0.5902,  0.9756,  0.9973],\n",
       "        [ 0.4426, -0.6180, -0.9998,  ...,  0.9899,  0.8384,  0.7042],\n",
       "        [ 0.7742, -0.9976,  0.5899,  ...,  0.9981, -0.2220,  0.2034]])"
      ]
     },
     "execution_count": 21,
     "metadata": {},
     "output_type": "execute_result"
    }
   ],
   "source": [
    "h=torch.tanh(emb.view(-1,6)@W1+b1)\n",
    "h"
   ]
  },
  {
   "cell_type": "code",
   "execution_count": 22,
   "id": "8787549d",
   "metadata": {
    "execution": {
     "iopub.execute_input": "2024-07-23T01:26:10.698441Z",
     "iopub.status.busy": "2024-07-23T01:26:10.698047Z",
     "iopub.status.idle": "2024-07-23T01:26:10.704195Z",
     "shell.execute_reply": "2024-07-23T01:26:10.703265Z"
    },
    "papermill": {
     "duration": 0.023153,
     "end_time": "2024-07-23T01:26:10.706339",
     "exception": false,
     "start_time": "2024-07-23T01:26:10.683186",
     "status": "completed"
    },
    "tags": []
   },
   "outputs": [
    {
     "data": {
      "text/plain": [
       "torch.Size([32, 100])"
      ]
     },
     "execution_count": 22,
     "metadata": {},
     "output_type": "execute_result"
    }
   ],
   "source": [
    "# everyone of 32 examples,we have 100 neurons\n",
    "h.shape"
   ]
  },
  {
   "cell_type": "markdown",
   "id": "c9b4ecc9",
   "metadata": {
    "papermill": {
     "duration": 0.014007,
     "end_time": "2024-07-23T01:26:10.734017",
     "exception": false,
     "start_time": "2024-07-23T01:26:10.720010",
     "status": "completed"
    },
    "tags": []
   },
   "source": [
    "# Final layer"
   ]
  },
  {
   "cell_type": "code",
   "execution_count": 23,
   "id": "b56a870a",
   "metadata": {
    "execution": {
     "iopub.execute_input": "2024-07-23T01:26:10.763876Z",
     "iopub.status.busy": "2024-07-23T01:26:10.763467Z",
     "iopub.status.idle": "2024-07-23T01:26:10.768953Z",
     "shell.execute_reply": "2024-07-23T01:26:10.768059Z"
    },
    "papermill": {
     "duration": 0.023467,
     "end_time": "2024-07-23T01:26:10.771131",
     "exception": false,
     "start_time": "2024-07-23T01:26:10.747664",
     "status": "completed"
    },
    "tags": []
   },
   "outputs": [],
   "source": [
    "# the input is 100, and the output should be 27, becuase we have 27 possible characters in the next\n",
    "W2=torch.randn(100, 27)\n",
    "b2=torch.randn(27)"
   ]
  },
  {
   "cell_type": "code",
   "execution_count": 24,
   "id": "c2ddd52a",
   "metadata": {
    "execution": {
     "iopub.execute_input": "2024-07-23T01:26:10.800147Z",
     "iopub.status.busy": "2024-07-23T01:26:10.799765Z",
     "iopub.status.idle": "2024-07-23T01:26:10.806749Z",
     "shell.execute_reply": "2024-07-23T01:26:10.805477Z"
    },
    "papermill": {
     "duration": 0.024328,
     "end_time": "2024-07-23T01:26:10.809089",
     "exception": false,
     "start_time": "2024-07-23T01:26:10.784761",
     "status": "completed"
    },
    "tags": []
   },
   "outputs": [
    {
     "data": {
      "text/plain": [
       "torch.Size([32, 27])"
      ]
     },
     "execution_count": 24,
     "metadata": {},
     "output_type": "execute_result"
    }
   ],
   "source": [
    "logits=h@W2+b2\n",
    "logits.shape"
   ]
  },
  {
   "cell_type": "markdown",
   "id": "dd463dc4",
   "metadata": {
    "papermill": {
     "duration": 0.013633,
     "end_time": "2024-07-23T01:26:10.836633",
     "exception": false,
     "start_time": "2024-07-23T01:26:10.823000",
     "status": "completed"
    },
    "tags": []
   },
   "source": [
    "# Softmax"
   ]
  },
  {
   "cell_type": "code",
   "execution_count": 25,
   "id": "6fc13147",
   "metadata": {
    "execution": {
     "iopub.execute_input": "2024-07-23T01:26:10.866566Z",
     "iopub.status.busy": "2024-07-23T01:26:10.866179Z",
     "iopub.status.idle": "2024-07-23T01:26:10.873856Z",
     "shell.execute_reply": "2024-07-23T01:26:10.872725Z"
    },
    "papermill": {
     "duration": 0.025507,
     "end_time": "2024-07-23T01:26:10.876308",
     "exception": false,
     "start_time": "2024-07-23T01:26:10.850801",
     "status": "completed"
    },
    "tags": []
   },
   "outputs": [],
   "source": [
    "# exp\n",
    "counts=logits.exp()"
   ]
  },
  {
   "cell_type": "code",
   "execution_count": 26,
   "id": "33f5b1a6",
   "metadata": {
    "execution": {
     "iopub.execute_input": "2024-07-23T01:26:10.907247Z",
     "iopub.status.busy": "2024-07-23T01:26:10.906502Z",
     "iopub.status.idle": "2024-07-23T01:26:10.914523Z",
     "shell.execute_reply": "2024-07-23T01:26:10.913319Z"
    },
    "papermill": {
     "duration": 0.026268,
     "end_time": "2024-07-23T01:26:10.916663",
     "exception": false,
     "start_time": "2024-07-23T01:26:10.890395",
     "status": "completed"
    },
    "tags": []
   },
   "outputs": [
    {
     "name": "stdout",
     "output_type": "stream",
     "text": [
      "tensor(1.)\n"
     ]
    }
   ],
   "source": [
    "# normaliztion\n",
    "prob=counts/counts.sum(1, keepdims=True)\n",
    "print(prob[0].sum())"
   ]
  },
  {
   "cell_type": "markdown",
   "id": "aedd07b9",
   "metadata": {
    "papermill": {
     "duration": 0.013566,
     "end_time": "2024-07-23T01:26:10.944408",
     "exception": false,
     "start_time": "2024-07-23T01:26:10.930842",
     "status": "completed"
    },
    "tags": []
   },
   "source": [
    "# Mapping the probs to the label value"
   ]
  },
  {
   "cell_type": "code",
   "execution_count": 27,
   "id": "65cfeca8",
   "metadata": {
    "execution": {
     "iopub.execute_input": "2024-07-23T01:26:10.973688Z",
     "iopub.status.busy": "2024-07-23T01:26:10.973303Z",
     "iopub.status.idle": "2024-07-23T01:26:10.981917Z",
     "shell.execute_reply": "2024-07-23T01:26:10.980861Z"
    },
    "papermill": {
     "duration": 0.025688,
     "end_time": "2024-07-23T01:26:10.984017",
     "exception": false,
     "start_time": "2024-07-23T01:26:10.958329",
     "status": "completed"
    },
    "tags": []
   },
   "outputs": [
    {
     "data": {
      "text/plain": [
       "tensor([ 5, 13, 13,  1,  0, 15, 12,  9, 22,  9,  1,  0,  1, 22,  1,  0,  9, 19,\n",
       "         1,  2,  5, 12, 12,  1,  0, 19, 15, 16,  8,  9,  1,  0])"
      ]
     },
     "execution_count": 27,
     "metadata": {},
     "output_type": "execute_result"
    }
   ],
   "source": [
    "# label\n",
    "Y"
   ]
  },
  {
   "cell_type": "code",
   "execution_count": 28,
   "id": "b7537746",
   "metadata": {
    "execution": {
     "iopub.execute_input": "2024-07-23T01:26:11.014437Z",
     "iopub.status.busy": "2024-07-23T01:26:11.014036Z",
     "iopub.status.idle": "2024-07-23T01:26:11.022340Z",
     "shell.execute_reply": "2024-07-23T01:26:11.021295Z"
    },
    "papermill": {
     "duration": 0.025821,
     "end_time": "2024-07-23T01:26:11.024524",
     "exception": false,
     "start_time": "2024-07-23T01:26:10.998703",
     "status": "completed"
    },
    "tags": []
   },
   "outputs": [
    {
     "data": {
      "text/plain": [
       "tensor([1.5588e-06, 5.2970e-11, 8.3058e-08, 6.8039e-13, 3.5345e-09, 2.6521e-08,\n",
       "        5.5430e-05, 6.5675e-09, 7.4476e-09, 1.9069e-02, 1.7083e-11, 3.2856e-10,\n",
       "        4.1587e-04, 2.6186e-05, 1.1847e-09, 1.1951e-04, 3.2309e-06, 1.4354e-07,\n",
       "        6.1658e-06, 2.2425e-05, 7.3623e-11, 5.2226e-11, 4.5429e-02, 3.4487e-02,\n",
       "        1.7952e-06, 1.8844e-09, 1.0459e-06, 7.8410e-09, 1.3964e-05, 9.4942e-12,\n",
       "        5.3321e-03, 9.9990e-01])"
      ]
     },
     "execution_count": 28,
     "metadata": {},
     "output_type": "execute_result"
    }
   ],
   "source": [
    "torch.arange(32)\n",
    "# index the prob in the following way\n",
    "prob[torch.arange(32), Y]"
   ]
  },
  {
   "cell_type": "markdown",
   "id": "8159fc98",
   "metadata": {
    "papermill": {
     "duration": 0.013764,
     "end_time": "2024-07-23T01:26:11.052908",
     "exception": false,
     "start_time": "2024-07-23T01:26:11.039144",
     "status": "completed"
    },
    "tags": []
   },
   "source": [
    "# Create negative log likelihood loss\n",
    "\n",
    "We meed to minimize it to get neural network a better accuracy."
   ]
  },
  {
   "cell_type": "code",
   "execution_count": 29,
   "id": "63e8e7cb",
   "metadata": {
    "execution": {
     "iopub.execute_input": "2024-07-23T01:26:11.083368Z",
     "iopub.status.busy": "2024-07-23T01:26:11.082461Z",
     "iopub.status.idle": "2024-07-23T01:26:11.092154Z",
     "shell.execute_reply": "2024-07-23T01:26:11.091084Z"
    },
    "papermill": {
     "duration": 0.027543,
     "end_time": "2024-07-23T01:26:11.094520",
     "exception": false,
     "start_time": "2024-07-23T01:26:11.066977",
     "status": "completed"
    },
    "tags": []
   },
   "outputs": [
    {
     "data": {
      "text/plain": [
       "tensor(14.8825)"
      ]
     },
     "execution_count": 29,
     "metadata": {},
     "output_type": "execute_result"
    }
   ],
   "source": [
    "loss=-prob[torch.arange(32),Y].log().mean()\n",
    "loss"
   ]
  },
  {
   "cell_type": "markdown",
   "id": "bb7a93a5",
   "metadata": {
    "papermill": {
     "duration": 0.013925,
     "end_time": "2024-07-23T01:26:11.122540",
     "exception": false,
     "start_time": "2024-07-23T01:26:11.108615",
     "status": "completed"
    },
    "tags": []
   },
   "source": [
    "# Let's made all the process above respectable"
   ]
  },
  {
   "cell_type": "code",
   "execution_count": 30,
   "id": "2ad49ea2",
   "metadata": {
    "execution": {
     "iopub.execute_input": "2024-07-23T01:26:11.156178Z",
     "iopub.status.busy": "2024-07-23T01:26:11.155784Z",
     "iopub.status.idle": "2024-07-23T01:26:11.164783Z",
     "shell.execute_reply": "2024-07-23T01:26:11.163626Z"
    },
    "papermill": {
     "duration": 0.029584,
     "end_time": "2024-07-23T01:26:11.168296",
     "exception": false,
     "start_time": "2024-07-23T01:26:11.138712",
     "status": "completed"
    },
    "tags": []
   },
   "outputs": [],
   "source": [
    "# we deifine the dataset\n",
    "X.shape, Y.shape\n",
    "\n",
    "# we use torch.Generator for reproducibility\n",
    "g=torch.Generator().manual_seed(2147483647)\n",
    "\n",
    "# Loopup table, the input layer\n",
    "C=torch.randn((27,2), generator=g)\n",
    "\n",
    "W1=torch.randn((6,100), generator=g)\n",
    "b1=torch.randn(100, generator=g)\n",
    "W2=torch.randn((100, 27), generator=g)\n",
    "b2=torch.randn(27, generator=g)\n",
    "parameters=[C, W1, b1, W2, b2]"
   ]
  },
  {
   "cell_type": "code",
   "execution_count": 31,
   "id": "d566a3c8",
   "metadata": {
    "execution": {
     "iopub.execute_input": "2024-07-23T01:26:11.199644Z",
     "iopub.status.busy": "2024-07-23T01:26:11.199262Z",
     "iopub.status.idle": "2024-07-23T01:26:11.205830Z",
     "shell.execute_reply": "2024-07-23T01:26:11.204754Z"
    },
    "papermill": {
     "duration": 0.024323,
     "end_time": "2024-07-23T01:26:11.207974",
     "exception": false,
     "start_time": "2024-07-23T01:26:11.183651",
     "status": "completed"
    },
    "tags": []
   },
   "outputs": [
    {
     "data": {
      "text/plain": [
       "3481"
      ]
     },
     "execution_count": 31,
     "metadata": {},
     "output_type": "execute_result"
    }
   ],
   "source": [
    "# number of parameters in total\n",
    "sum(p.nelement() for p in parameters) "
   ]
  },
  {
   "cell_type": "code",
   "execution_count": 32,
   "id": "b4167354",
   "metadata": {
    "execution": {
     "iopub.execute_input": "2024-07-23T01:26:11.238972Z",
     "iopub.status.busy": "2024-07-23T01:26:11.238454Z",
     "iopub.status.idle": "2024-07-23T01:26:11.249838Z",
     "shell.execute_reply": "2024-07-23T01:26:11.248743Z"
    },
    "papermill": {
     "duration": 0.029198,
     "end_time": "2024-07-23T01:26:11.252109",
     "exception": false,
     "start_time": "2024-07-23T01:26:11.222911",
     "status": "completed"
    },
    "tags": []
   },
   "outputs": [
    {
     "data": {
      "text/plain": [
       "tensor(17.7697)"
      ]
     },
     "execution_count": 32,
     "metadata": {},
     "output_type": "execute_result"
    }
   ],
   "source": [
    "# mebedding in input layer\n",
    "emb=C[X] # (32, 3, 2)\n",
    "\n",
    "# hiddent layer\n",
    "h=torch.tanh(emb.view(-1, 6) @ W1+b1) # (32, 100)\n",
    "\n",
    "# final(ioutput) layer\n",
    "logits=h@W2+b2 # (32, 27)\n",
    "\n",
    "# these teo steps are combined called Softmax\n",
    "# exp()\n",
    "counts=logits.exp()\n",
    "# normalization\n",
    "prob=counts/counts.sum(1, keepdims=True)\n",
    "\n",
    "# calculate negative log likelihood loss\n",
    "loss=-prob[torch.arange(32), Y].log().mean()\n",
    "\n",
    "# it is expressing how well this neural network works with the current setting of parameters \n",
    "loss"
   ]
  },
  {
   "cell_type": "markdown",
   "id": "91c0c078",
   "metadata": {
    "papermill": {
     "duration": 0.014794,
     "end_time": "2024-07-23T01:26:11.281397",
     "exception": false,
     "start_time": "2024-07-23T01:26:11.266603",
     "status": "completed"
    },
    "tags": []
   },
   "source": [
    "## Update raw softmax part be more efficient\n",
    "\n",
    "The softmax function is used in various multiclass classification methods. So, a more efficient way to calculate this is used `F.cross_entropy(logits, Y)`.\n",
    "\n",
    "The reason we use `cross_entropy` rather than raw softmax is that when we implement the raw softmax. It will create many of the new tensors on memory while the calculating process, this is very inefficient.\n",
    "\n",
    "1. `corss_entropy` will cluster up all the operations and very often create have **fused kernels** that very efficiently evaluate these expressions, like clustered mathematical operations. The forward pass can be more efficient.\n",
    "\n",
    "2. ** A fused analytically and mathematically kernel** It's a very much simpler backward pass to implement. The backward pass can be more efficient.\n",
    "\n",
    "3. It's a numerically well behaved(See the example below). `corss_entropy` will calcualte the maximum value that occurs in the logits."
   ]
  },
  {
   "cell_type": "code",
   "execution_count": 33,
   "id": "2b810633",
   "metadata": {
    "execution": {
     "iopub.execute_input": "2024-07-23T01:26:11.313322Z",
     "iopub.status.busy": "2024-07-23T01:26:11.312888Z",
     "iopub.status.idle": "2024-07-23T01:26:11.324029Z",
     "shell.execute_reply": "2024-07-23T01:26:11.322916Z"
    },
    "papermill": {
     "duration": 0.030371,
     "end_time": "2024-07-23T01:26:11.326469",
     "exception": false,
     "start_time": "2024-07-23T01:26:11.296098",
     "status": "completed"
    },
    "tags": []
   },
   "outputs": [
    {
     "data": {
      "text/plain": [
       "tensor([0., 0., 0., nan])"
      ]
     },
     "execution_count": 33,
     "metadata": {},
     "output_type": "execute_result"
    }
   ],
   "source": [
    "# for example we have a very negative and also postive number\n",
    "logits_example=torch.tensor([-100, -3, 0, 100])\n",
    "counts_example=logits_example.exp()\n",
    "probs_example=counts_example/counts_example.sum()\n",
    "probs_example"
   ]
  },
  {
   "cell_type": "code",
   "execution_count": 34,
   "id": "3ebfbae3",
   "metadata": {
    "execution": {
     "iopub.execute_input": "2024-07-23T01:26:11.358010Z",
     "iopub.status.busy": "2024-07-23T01:26:11.357608Z",
     "iopub.status.idle": "2024-07-23T01:26:11.364986Z",
     "shell.execute_reply": "2024-07-23T01:26:11.363850Z"
    },
    "papermill": {
     "duration": 0.026315,
     "end_time": "2024-07-23T01:26:11.367286",
     "exception": false,
     "start_time": "2024-07-23T01:26:11.340971",
     "status": "completed"
    },
    "tags": []
   },
   "outputs": [
    {
     "data": {
      "text/plain": [
       "tensor([3.7835e-44, 4.9787e-02, 1.0000e+00,        inf])"
      ]
     },
     "execution_count": 34,
     "metadata": {},
     "output_type": "execute_result"
    }
   ],
   "source": [
    "counts_example"
   ]
  },
  {
   "cell_type": "code",
   "execution_count": 35,
   "id": "58a2dc32",
   "metadata": {
    "execution": {
     "iopub.execute_input": "2024-07-23T01:26:11.398268Z",
     "iopub.status.busy": "2024-07-23T01:26:11.397857Z",
     "iopub.status.idle": "2024-07-23T01:26:11.414434Z",
     "shell.execute_reply": "2024-07-23T01:26:11.413305Z"
    },
    "papermill": {
     "duration": 0.034871,
     "end_time": "2024-07-23T01:26:11.416750",
     "exception": false,
     "start_time": "2024-07-23T01:26:11.381879",
     "status": "completed"
    },
    "tags": []
   },
   "outputs": [
    {
     "data": {
      "text/plain": [
       "tensor(17.7697)"
      ]
     },
     "execution_count": 35,
     "metadata": {},
     "output_type": "execute_result"
    }
   ],
   "source": [
    "F.cross_entropy(logits, Y)"
   ]
  },
  {
   "cell_type": "markdown",
   "id": "87a95dd4",
   "metadata": {
    "papermill": {
     "duration": 0.014989,
     "end_time": "2024-07-23T01:26:11.446628",
     "exception": false,
     "start_time": "2024-07-23T01:26:11.431639",
     "status": "completed"
    },
    "tags": []
   },
   "source": [
    "# Re-structure the whole code and add the training loop \n",
    "\n",
    "Here, we split the code to the `forward pass` and the `backward pass`."
   ]
  },
  {
   "cell_type": "code",
   "execution_count": 36,
   "id": "92d0ddbe",
   "metadata": {
    "execution": {
     "iopub.execute_input": "2024-07-23T01:26:11.477420Z",
     "iopub.status.busy": "2024-07-23T01:26:11.477017Z",
     "iopub.status.idle": "2024-07-23T01:26:11.980236Z",
     "shell.execute_reply": "2024-07-23T01:26:11.979072Z"
    },
    "papermill": {
     "duration": 0.521594,
     "end_time": "2024-07-23T01:26:11.982738",
     "exception": false,
     "start_time": "2024-07-23T01:26:11.461144",
     "status": "completed"
    },
    "tags": []
   },
   "outputs": [
    {
     "name": "stdout",
     "output_type": "stream",
     "text": [
      "0.2561509907245636\n"
     ]
    }
   ],
   "source": [
    "for p in parameters:\n",
    "    p.requires_grad = True\n",
    "\n",
    "for _ in range(1000):\n",
    "    # forward pass\n",
    "    emb=C[X] # (32, 3, 2) 32 examples\n",
    "    h=torch.tanh(emb.view(-1, 6)@W1+b1) # (32, 100)\n",
    "    logits=h@W2+b2 # (32, 27)\n",
    "    loss=F.cross_entropy(logits, Y)\n",
    "    # backward pass\n",
    "    for p in parameters:\n",
    "        p.grad=None\n",
    "    loss.backward()\n",
    "    # update\n",
    "    for p in parameters:\n",
    "        p.data+=-0.1*p.grad\n",
    "        \n",
    "# We use 3481 parameters to fit 32 example in this neural network, so the result is good\n",
    "# So, this is called overfitting a single batch of the unique data, and get very low loss and good prediction\n",
    "print(loss.item())"
   ]
  },
  {
   "cell_type": "markdown",
   "id": "b237b676",
   "metadata": {
    "papermill": {
     "duration": 0.017258,
     "end_time": "2024-07-23T01:26:12.015789",
     "exception": false,
     "start_time": "2024-07-23T01:26:11.998531",
     "status": "completed"
    },
    "tags": []
   },
   "source": [
    "## We're not able to achive exactly zero\n",
    "\n",
    "The reason is that"
   ]
  },
  {
   "cell_type": "code",
   "execution_count": 37,
   "id": "14576bf8",
   "metadata": {
    "execution": {
     "iopub.execute_input": "2024-07-23T01:26:12.049210Z",
     "iopub.status.busy": "2024-07-23T01:26:12.048820Z",
     "iopub.status.idle": "2024-07-23T01:26:12.059763Z",
     "shell.execute_reply": "2024-07-23T01:26:12.058757Z"
    },
    "papermill": {
     "duration": 0.030279,
     "end_time": "2024-07-23T01:26:12.061988",
     "exception": false,
     "start_time": "2024-07-23T01:26:12.031709",
     "status": "completed"
    },
    "tags": []
   },
   "outputs": [
    {
     "data": {
      "text/plain": [
       "torch.return_types.max(\n",
       "values=tensor([13.3437, 17.7879, 20.5832, 20.6042, 16.7390, 13.3437, 15.9747, 14.1889,\n",
       "        15.9158, 18.3894, 15.9409, 20.9284, 13.3437, 17.1212, 17.1498, 20.0637,\n",
       "        13.3437, 16.4564, 15.1328, 17.0537, 18.5905, 15.9655, 10.8739, 10.6874,\n",
       "        15.5062, 13.3437, 16.2394, 16.9563, 12.7426, 16.2141, 19.0840, 16.0213],\n",
       "       grad_fn=<MaxBackward0>),\n",
       "indices=tensor([ 9, 13, 13,  1,  0,  9, 12,  9, 22,  9,  1,  0,  9, 22,  1,  0,  9, 19,\n",
       "         1,  2,  5, 12, 12,  1,  0,  9, 15, 16,  8,  9,  1,  0]))"
      ]
     },
     "execution_count": 37,
     "metadata": {},
     "output_type": "execute_result"
    }
   ],
   "source": [
    "# get the max along the firt dimension\n",
    "\n",
    "# values: The actual values that take on the maximum number\n",
    "# indices: The indices of piece\n",
    "\n",
    "# we can see the indices are very close to the labels, but some aren't. This is because\n",
    "# we have same input mapping to different output in the dataset, like:\n",
    "\n",
    "# ... ---> e\n",
    "# ... ---> o\n",
    "# ... ---> a\n",
    "\n",
    "# So, it means e, o and a are all possible outcomes in a training set for the exact same input. \n",
    "\n",
    "logits.max(1)"
   ]
  },
  {
   "cell_type": "code",
   "execution_count": 38,
   "id": "8ce66007",
   "metadata": {
    "execution": {
     "iopub.execute_input": "2024-07-23T01:26:12.095878Z",
     "iopub.status.busy": "2024-07-23T01:26:12.095259Z",
     "iopub.status.idle": "2024-07-23T01:26:12.103840Z",
     "shell.execute_reply": "2024-07-23T01:26:12.102605Z"
    },
    "papermill": {
     "duration": 0.028486,
     "end_time": "2024-07-23T01:26:12.106039",
     "exception": false,
     "start_time": "2024-07-23T01:26:12.077553",
     "status": "completed"
    },
    "tags": []
   },
   "outputs": [
    {
     "data": {
      "text/plain": [
       "tensor([ 5, 13, 13,  1,  0, 15, 12,  9, 22,  9,  1,  0,  1, 22,  1,  0,  9, 19,\n",
       "         1,  2,  5, 12, 12,  1,  0, 19, 15, 16,  8,  9,  1,  0])"
      ]
     },
     "execution_count": 38,
     "metadata": {},
     "output_type": "execute_result"
    }
   ],
   "source": [
    "Y"
   ]
  },
  {
   "cell_type": "markdown",
   "id": "86fc7844",
   "metadata": {
    "papermill": {
     "duration": 0.014733,
     "end_time": "2024-07-23T01:26:12.135863",
     "exception": false,
     "start_time": "2024-07-23T01:26:12.121130",
     "status": "completed"
    },
    "tags": []
   },
   "source": [
    "# Acknowledge\n",
    "\n",
    "* https://www.youtube.com/watch?v=TCH_1BHY58I\n",
    "* https://www.jmlr.org/papers/volume3/bengio03a/bengio03a.pdf\n",
    "* https://pytorch.org/docs/stable/generated/torch.equal.html\n",
    "* https://pytorch.org/docs/stable/generated/torch.cat.html#torch.cat\n",
    "* https://en.wikipedia.org/wiki/Softmax_function"
   ]
  }
 ],
 "metadata": {
  "kaggle": {
   "accelerator": "none",
   "dataSources": [
    {
     "sourceId": 187064505,
     "sourceType": "kernelVersion"
    }
   ],
   "dockerImageVersionId": 30746,
   "isGpuEnabled": false,
   "isInternetEnabled": true,
   "language": "python",
   "sourceType": "notebook"
  },
  "kernelspec": {
   "display_name": "Python 3",
   "language": "python",
   "name": "python3"
  },
  "language_info": {
   "codemirror_mode": {
    "name": "ipython",
    "version": 3
   },
   "file_extension": ".py",
   "mimetype": "text/x-python",
   "name": "python",
   "nbconvert_exporter": "python",
   "pygments_lexer": "ipython3",
   "version": "3.10.13"
  },
  "papermill": {
   "default_parameters": {},
   "duration": 9.973649,
   "end_time": "2024-07-23T01:26:12.972639",
   "environment_variables": {},
   "exception": null,
   "input_path": "__notebook__.ipynb",
   "output_path": "__notebook__.ipynb",
   "parameters": {},
   "start_time": "2024-07-23T01:26:02.998990",
   "version": "2.5.0"
  }
 },
 "nbformat": 4,
 "nbformat_minor": 5
}
