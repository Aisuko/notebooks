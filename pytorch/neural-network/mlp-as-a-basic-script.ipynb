{
 "cells": [
  {
   "cell_type": "markdown",
   "id": "507bd17b",
   "metadata": {
    "papermill": {
     "duration": 0.005315,
     "end_time": "2024-07-27T04:27:00.613533",
     "exception": false,
     "start_time": "2024-07-27T04:27:00.608218",
     "status": "completed"
    },
    "tags": []
   },
   "source": [
    "# Overview\n",
    "\n",
    "* Typical diagnostic tools and visualizations of deep network\n",
    "* Batch normalization\n",
    "* Residual connections\n",
    "* Adam optimizer"
   ]
  },
  {
   "cell_type": "code",
   "execution_count": 1,
   "id": "9c4bce7e",
   "metadata": {
    "execution": {
     "iopub.execute_input": "2024-07-27T04:27:00.625182Z",
     "iopub.status.busy": "2024-07-27T04:27:00.624718Z",
     "iopub.status.idle": "2024-07-27T04:27:19.830397Z",
     "shell.execute_reply": "2024-07-27T04:27:19.829281Z"
    },
    "papermill": {
     "duration": 19.215163,
     "end_time": "2024-07-27T04:27:19.833862",
     "exception": false,
     "start_time": "2024-07-27T04:27:00.618699",
     "status": "completed"
    },
    "tags": []
   },
   "outputs": [
    {
     "name": "stderr",
     "output_type": "stream",
     "text": [
      "2024-07-27 04:27:07.290423: E external/local_xla/xla/stream_executor/cuda/cuda_dnn.cc:9261] Unable to register cuDNN factory: Attempting to register factory for plugin cuDNN when one has already been registered\n",
      "2024-07-27 04:27:07.290573: E external/local_xla/xla/stream_executor/cuda/cuda_fft.cc:607] Unable to register cuFFT factory: Attempting to register factory for plugin cuFFT when one has already been registered\n",
      "2024-07-27 04:27:07.450540: E external/local_xla/xla/stream_executor/cuda/cuda_blas.cc:1515] Unable to register cuBLAS factory: Attempting to register factory for plugin cuBLAS when one has already been registered\n"
     ]
    }
   ],
   "source": [
    "import torch\n",
    "import torch.nn.functional as F\n",
    "import matplotlib.pyplot as plt # for making figures\n",
    "from torch.utils.tensorboard import SummaryWriter"
   ]
  },
  {
   "cell_type": "markdown",
   "id": "a2239626",
   "metadata": {
    "papermill": {
     "duration": 0.005008,
     "end_time": "2024-07-27T04:27:19.850826",
     "exception": false,
     "start_time": "2024-07-27T04:27:19.845818",
     "status": "completed"
    },
    "tags": []
   },
   "source": [
    "# Load dataset"
   ]
  },
  {
   "cell_type": "code",
   "execution_count": 2,
   "id": "eece09ca",
   "metadata": {
    "execution": {
     "iopub.execute_input": "2024-07-27T04:27:19.864050Z",
     "iopub.status.busy": "2024-07-27T04:27:19.863368Z",
     "iopub.status.idle": "2024-07-27T04:27:19.888531Z",
     "shell.execute_reply": "2024-07-27T04:27:19.886958Z"
    },
    "papermill": {
     "duration": 0.035418,
     "end_time": "2024-07-27T04:27:19.891230",
     "exception": false,
     "start_time": "2024-07-27T04:27:19.855812",
     "status": "completed"
    },
    "tags": []
   },
   "outputs": [
    {
     "data": {
      "text/plain": [
       "['emma', 'olivia', 'ava', 'isabella', 'sophia', 'charlotte', 'mia', 'amelia']"
      ]
     },
     "execution_count": 2,
     "metadata": {},
     "output_type": "execute_result"
    }
   ],
   "source": [
    "# read in all the words\n",
    "with open('/kaggle/input/character-lm-without-framework/names.txt', 'r', encoding='utf-8') as f:\n",
    "    words=f.read()\n",
    "\n",
    "words=words.splitlines()\n",
    "words[:8]"
   ]
  },
  {
   "cell_type": "code",
   "execution_count": 3,
   "id": "e83a6d29",
   "metadata": {
    "execution": {
     "iopub.execute_input": "2024-07-27T04:27:19.903230Z",
     "iopub.status.busy": "2024-07-27T04:27:19.902815Z",
     "iopub.status.idle": "2024-07-27T04:27:19.910592Z",
     "shell.execute_reply": "2024-07-27T04:27:19.909470Z"
    },
    "papermill": {
     "duration": 0.016298,
     "end_time": "2024-07-27T04:27:19.912800",
     "exception": false,
     "start_time": "2024-07-27T04:27:19.896502",
     "status": "completed"
    },
    "tags": []
   },
   "outputs": [
    {
     "data": {
      "text/plain": [
       "32033"
      ]
     },
     "execution_count": 3,
     "metadata": {},
     "output_type": "execute_result"
    }
   ],
   "source": [
    "len(words)"
   ]
  },
  {
   "cell_type": "markdown",
   "id": "01dde8e4",
   "metadata": {
    "papermill": {
     "duration": 0.004737,
     "end_time": "2024-07-27T04:27:19.922677",
     "exception": false,
     "start_time": "2024-07-27T04:27:19.917940",
     "status": "completed"
    },
    "tags": []
   },
   "source": [
    "# Build vocabulary of characters"
   ]
  },
  {
   "cell_type": "code",
   "execution_count": 4,
   "id": "7f6c1c99",
   "metadata": {
    "execution": {
     "iopub.execute_input": "2024-07-27T04:27:19.935474Z",
     "iopub.status.busy": "2024-07-27T04:27:19.935051Z",
     "iopub.status.idle": "2024-07-27T04:27:19.944672Z",
     "shell.execute_reply": "2024-07-27T04:27:19.943356Z"
    },
    "papermill": {
     "duration": 0.019607,
     "end_time": "2024-07-27T04:27:19.947401",
     "exception": false,
     "start_time": "2024-07-27T04:27:19.927794",
     "status": "completed"
    },
    "tags": []
   },
   "outputs": [],
   "source": [
    "# build the vocabulary of characters and \n",
    "chars=sorted(list(set(''.join(words))))"
   ]
  },
  {
   "cell_type": "markdown",
   "id": "0effeb4e",
   "metadata": {
    "papermill": {
     "duration": 0.005173,
     "end_time": "2024-07-27T04:27:19.958615",
     "exception": false,
     "start_time": "2024-07-27T04:27:19.953442",
     "status": "completed"
    },
    "tags": []
   },
   "source": [
    "# Mappings to/from integers"
   ]
  },
  {
   "cell_type": "code",
   "execution_count": 5,
   "id": "c8af9774",
   "metadata": {
    "execution": {
     "iopub.execute_input": "2024-07-27T04:27:19.972177Z",
     "iopub.status.busy": "2024-07-27T04:27:19.971185Z",
     "iopub.status.idle": "2024-07-27T04:27:19.979369Z",
     "shell.execute_reply": "2024-07-27T04:27:19.977980Z"
    },
    "papermill": {
     "duration": 0.018403,
     "end_time": "2024-07-27T04:27:19.982290",
     "exception": false,
     "start_time": "2024-07-27T04:27:19.963887",
     "status": "completed"
    },
    "tags": []
   },
   "outputs": [
    {
     "name": "stdout",
     "output_type": "stream",
     "text": [
      "{1: 'a', 2: 'b', 3: 'c', 4: 'd', 5: 'e', 6: 'f', 7: 'g', 8: 'h', 9: 'i', 10: 'j', 11: 'k', 12: 'l', 13: 'm', 14: 'n', 15: 'o', 16: 'p', 17: 'q', 18: 'r', 19: 's', 20: 't', 21: 'u', 22: 'v', 23: 'w', 24: 'x', 25: 'y', 26: 'z', 0: '.'}\n",
      "27\n"
     ]
    }
   ],
   "source": [
    "stoi={s:i+1 for i,s in enumerate(chars)}\n",
    "stoi['.']=0\n",
    "itos={i:s for s,i in stoi.items()}\n",
    "vocab_size=len(itos)\n",
    "print(itos)\n",
    "print(vocab_size)"
   ]
  },
  {
   "cell_type": "markdown",
   "id": "e17506f1",
   "metadata": {
    "papermill": {
     "duration": 0.005715,
     "end_time": "2024-07-27T04:27:19.993474",
     "exception": false,
     "start_time": "2024-07-27T04:27:19.987759",
     "status": "completed"
    },
    "tags": []
   },
   "source": [
    "# Build the dataset"
   ]
  },
  {
   "cell_type": "code",
   "execution_count": 6,
   "id": "3f2ccdab",
   "metadata": {
    "execution": {
     "iopub.execute_input": "2024-07-27T04:27:20.006138Z",
     "iopub.status.busy": "2024-07-27T04:27:20.005749Z",
     "iopub.status.idle": "2024-07-27T04:27:20.763595Z",
     "shell.execute_reply": "2024-07-27T04:27:20.760623Z"
    },
    "papermill": {
     "duration": 0.768636,
     "end_time": "2024-07-27T04:27:20.767833",
     "exception": false,
     "start_time": "2024-07-27T04:27:19.999197",
     "status": "completed"
    },
    "tags": []
   },
   "outputs": [
    {
     "name": "stdout",
     "output_type": "stream",
     "text": [
      "torch.Size([182625, 3]) torch.Size([182625])\n",
      "torch.Size([22655, 3]) torch.Size([22655])\n",
      "torch.Size([22866, 3]) torch.Size([22866])\n"
     ]
    }
   ],
   "source": [
    "import random\n",
    "\n",
    "block_size=3 # context length: how many characters do we take to predict the next one?\n",
    "writer=SummaryWriter()\n",
    "\n",
    "def build_dataset(words):\n",
    "    X,Y=[],[]\n",
    "    \n",
    "    for w in words:\n",
    "        context=[0]*block_size\n",
    "        for ch in w+'.':\n",
    "            ix=stoi[ch]\n",
    "            X.append(context)\n",
    "            Y.append(ix)\n",
    "            context=context[1:]+[ix] # crop and append\n",
    "            \n",
    "    X=torch.tensor(X)\n",
    "    Y=torch.tensor(Y)\n",
    "    print(X.shape, Y.shape)\n",
    "    return X,Y\n",
    "\n",
    "random.seed(42)\n",
    "random.shuffle(words)\n",
    "n1=int(0.8*len(words))\n",
    "n2=int(0.9*len(words))\n",
    "\n",
    "Xtr, Ytr=build_dataset(words[:n1])     # 80%\n",
    "Xdev, Ydev=build_dataset(words[n1:n2]) # 10%\n",
    "Xte, Yte=build_dataset(words[n2:])     # 10%"
   ]
  },
  {
   "cell_type": "markdown",
   "id": "99f4daaf",
   "metadata": {
    "papermill": {
     "duration": 0.005838,
     "end_time": "2024-07-27T04:27:20.780526",
     "exception": false,
     "start_time": "2024-07-27T04:27:20.774688",
     "status": "completed"
    },
    "tags": []
   },
   "source": [
    "# MLP"
   ]
  },
  {
   "cell_type": "code",
   "execution_count": 7,
   "id": "787ab240",
   "metadata": {
    "execution": {
     "iopub.execute_input": "2024-07-27T04:27:20.794705Z",
     "iopub.status.busy": "2024-07-27T04:27:20.794310Z",
     "iopub.status.idle": "2024-07-27T04:27:20.820603Z",
     "shell.execute_reply": "2024-07-27T04:27:20.818975Z"
    },
    "papermill": {
     "duration": 0.037876,
     "end_time": "2024-07-27T04:27:20.824078",
     "exception": false,
     "start_time": "2024-07-27T04:27:20.786202",
     "status": "completed"
    },
    "tags": []
   },
   "outputs": [
    {
     "name": "stdout",
     "output_type": "stream",
     "text": [
      "11897\n"
     ]
    }
   ],
   "source": [
    "n_embd=10 # the dimensionality of the character embedding vectors\n",
    "n_hidden=200 # the number of neurons in the hidden layer of the MLP\n",
    "\n",
    "g=torch.Generator().manual_seed(2147483647) # for reproducibility\n",
    "C=torch.randn((vocab_size, n_embd),           generator=g)\n",
    "W1=torch.randn((n_embd*block_size, n_hidden), generator=g)\n",
    "b1=torch.randn(n_hidden,                      generator=g)\n",
    "W2=torch.randn((n_hidden, vocab_size),        generator=g)\n",
    "b2=torch.randn(vocab_size,                    generator=g)\n",
    "\n",
    "parameters=[C, W1, b1, W2, b2]\n",
    "print(sum(p.nelement() for p in parameters)) # number of parameters in total\n",
    "for p in parameters:\n",
    "    p.requires_grad=True"
   ]
  },
  {
   "cell_type": "code",
   "execution_count": 8,
   "id": "7eff095c",
   "metadata": {
    "execution": {
     "iopub.execute_input": "2024-07-27T04:27:20.840582Z",
     "iopub.status.busy": "2024-07-27T04:27:20.840075Z",
     "iopub.status.idle": "2024-07-27T04:29:49.994849Z",
     "shell.execute_reply": "2024-07-27T04:29:49.993701Z"
    },
    "papermill": {
     "duration": 149.166329,
     "end_time": "2024-07-27T04:29:49.997869",
     "exception": false,
     "start_time": "2024-07-27T04:27:20.831540",
     "status": "completed"
    },
    "tags": []
   },
   "outputs": [
    {
     "name": "stdout",
     "output_type": "stream",
     "text": [
      "      0/ 200000: 27.8817\n",
      "  10000/ 200000: 2.9571\n",
      "  20000/ 200000: 2.5722\n",
      "  30000/ 200000: 2.7646\n",
      "  40000/ 200000: 2.0305\n",
      "  50000/ 200000: 2.5794\n",
      "  60000/ 200000: 2.3242\n",
      "  70000/ 200000: 2.1174\n",
      "  80000/ 200000: 2.2993\n",
      "  90000/ 200000: 2.2481\n",
      " 100000/ 200000: 2.0146\n",
      " 110000/ 200000: 2.4534\n",
      " 120000/ 200000: 1.9164\n",
      " 130000/ 200000: 2.3719\n",
      " 140000/ 200000: 2.2377\n",
      " 150000/ 200000: 2.1441\n",
      " 160000/ 200000: 2.2661\n",
      " 170000/ 200000: 1.7855\n",
      " 180000/ 200000: 2.1126\n",
      " 190000/ 200000: 1.8004\n"
     ]
    }
   ],
   "source": [
    "max_steps=200000\n",
    "batch_size=32\n",
    "lossi=[]\n",
    "\n",
    "for i in range(max_steps):\n",
    "    # minibatch construct\n",
    "    ix=torch.randint(0, Xtr.shape[0], (batch_size,), generator=g)\n",
    "    Xb,Yb=Xtr[ix], Ytr[ix] # batch X,Y\n",
    "    \n",
    "    # forward pass\n",
    "    emb=C[Xb] # embed the characters into vectors\n",
    "    embcat=emb.view(emb.shape[0], -1) # concatenate the vectors\n",
    "    hpreact=embcat@W1+b1 # hidden layer pre-activation\n",
    "    h=torch.tanh(hpreact) # hidden layer\n",
    "    logits=h@W2+b2 # output layer\n",
    "    loss=F.cross_entropy(logits, Yb) # loss function\n",
    "    writer.add_scalar(\"Loss/train\", loss, i)\n",
    "    \n",
    "    # backward pass\n",
    "    for p in parameters:\n",
    "        p.grad=None\n",
    "    loss.backward()\n",
    "    \n",
    "    # update\n",
    "    lr=0.1 if i< 100000 else 0.01 # step learning rate decay\n",
    "    for p in parameters:\n",
    "        p.data+=-lr*p.grad\n",
    "    \n",
    "    # track stats\n",
    "    if i%10000 ==0:\n",
    "        print(f'{i:7d}/{max_steps:7d}: {loss.item():.4f}')\n",
    "    lossi.append(loss.log10().item())\n",
    "\n",
    "writer.flush()\n",
    "writer.close()"
   ]
  },
  {
   "cell_type": "code",
   "execution_count": 9,
   "id": "3f2d5465",
   "metadata": {
    "execution": {
     "iopub.execute_input": "2024-07-27T04:29:50.012921Z",
     "iopub.status.busy": "2024-07-27T04:29:50.012511Z",
     "iopub.status.idle": "2024-07-27T04:29:50.617852Z",
     "shell.execute_reply": "2024-07-27T04:29:50.616542Z"
    },
    "papermill": {
     "duration": 0.616006,
     "end_time": "2024-07-27T04:29:50.620736",
     "exception": false,
     "start_time": "2024-07-27T04:29:50.004730",
     "status": "completed"
    },
    "tags": []
   },
   "outputs": [
    {
     "data": {
      "text/plain": [
       "[<matplotlib.lines.Line2D at 0x7e0c39a086d0>]"
      ]
     },
     "execution_count": 9,
     "metadata": {},
     "output_type": "execute_result"
    },
    {
     "data": {
      "image/png": "[encoded data removed]",
      "text/plain": [
       "<Figure size 640x480 with 1 Axes>"
      ]
     },
     "metadata": {},
     "output_type": "display_data"
    }
   ],
   "source": [
    "plt.plot(lossi)"
   ]
  },
  {
   "cell_type": "markdown",
   "id": "31fe50a1",
   "metadata": {
    "papermill": {
     "duration": 0.00694,
     "end_time": "2024-07-27T04:29:50.635811",
     "exception": false,
     "start_time": "2024-07-27T04:29:50.628871",
     "status": "completed"
    },
    "tags": []
   },
   "source": [
    "# Split the loss"
   ]
  },
  {
   "cell_type": "code",
   "execution_count": 10,
   "id": "8a66097f",
   "metadata": {
    "execution": {
     "iopub.execute_input": "2024-07-27T04:29:50.652069Z",
     "iopub.status.busy": "2024-07-27T04:29:50.651713Z",
     "iopub.status.idle": "2024-07-27T04:29:51.190330Z",
     "shell.execute_reply": "2024-07-27T04:29:51.189132Z"
    },
    "papermill": {
     "duration": 0.551653,
     "end_time": "2024-07-27T04:29:51.194496",
     "exception": false,
     "start_time": "2024-07-27T04:29:50.642843",
     "status": "completed"
    },
    "tags": []
   },
   "outputs": [
    {
     "name": "stdout",
     "output_type": "stream",
     "text": [
      "train 2.1270017623901367\n",
      "val 2.169905662536621\n"
     ]
    }
   ],
   "source": [
    "@torch.no_grad()\n",
    "def split_loss(split):\n",
    "    x,y={\n",
    "        'train': (Xtr, Ytr),\n",
    "        'val': (Xdev, Ydev),\n",
    "        'test': (Xte, Yte),\n",
    "    }[split]\n",
    "    emb=C[x] # (N, block_size, n_embd)\n",
    "    embcat=emb.view(emb.shape[0], -1) # concat into (N, block_size * n_embd)\n",
    "    h=torch.tanh(embcat @W1+b1) # (N, n_hidden)\n",
    "    logits=h@W2+b2 #(N, vocab_size)\n",
    "    loss=F.cross_entropy(logits, y)\n",
    "    print(split, loss.item())\n",
    "\n",
    "split_loss('train')\n",
    "split_loss('val')"
   ]
  },
  {
   "cell_type": "markdown",
   "id": "0fc2391f",
   "metadata": {
    "papermill": {
     "duration": 0.007832,
     "end_time": "2024-07-27T04:29:51.213322",
     "exception": false,
     "start_time": "2024-07-27T04:29:51.205490",
     "status": "completed"
    },
    "tags": []
   },
   "source": [
    "# Sample from the model"
   ]
  },
  {
   "cell_type": "code",
   "execution_count": 11,
   "id": "24d910ca",
   "metadata": {
    "execution": {
     "iopub.execute_input": "2024-07-27T04:29:51.229822Z",
     "iopub.status.busy": "2024-07-27T04:29:51.229370Z",
     "iopub.status.idle": "2024-07-27T04:29:51.282874Z",
     "shell.execute_reply": "2024-07-27T04:29:51.281769Z"
    },
    "papermill": {
     "duration": 0.065364,
     "end_time": "2024-07-27T04:29:51.285721",
     "exception": false,
     "start_time": "2024-07-27T04:29:51.220357",
     "status": "completed"
    },
    "tags": []
   },
   "outputs": [
    {
     "name": "stdout",
     "output_type": "stream",
     "text": [
      "mona.\n",
      "mayah.\n",
      "seel.\n",
      "nah.\n",
      "yam.\n",
      "ren.\n",
      "ruchadrael.\n",
      "adeero.\n",
      "elin.\n",
      "shy.\n",
      "jen.\n",
      "eden.\n",
      "eson.\n",
      "arleigh.\n",
      "malkia.\n",
      "noshubergihamies.\n",
      "kendretzy.\n",
      "panthona.\n",
      "uszayven.\n",
      "kylene.\n"
     ]
    }
   ],
   "source": [
    "g=torch.Generator().manual_seed(2147483647+10)\n",
    "\n",
    "for _ in range(20):\n",
    "    out=[]\n",
    "    context=[0]*block_size # initialize with all ...\n",
    "    while True:\n",
    "        # forward pass the neural net\n",
    "        emb=C[torch.tensor([context])] # (1, block_size, n_embd)\n",
    "        h=torch.tanh(emb.view(1,-1) @ W1+b1)\n",
    "        logits=h@W2+b2\n",
    "        probs=F.softmax(logits, dim=1)\n",
    "        # sample from the distribution\n",
    "        ix=torch.multinomial(probs, num_samples=1, generator=g).item()\n",
    "        # shift the context window and track the samples\n",
    "        context=context[1:]+[ix]\n",
    "        out.append(ix)\n",
    "        if ix==0:\n",
    "            break\n",
    "    print(''.join(itos[i] for i in out)) # decode the print and the generated word"
   ]
  },
  {
   "cell_type": "markdown",
   "id": "58312654",
   "metadata": {
    "papermill": {
     "duration": 0.007915,
     "end_time": "2024-07-27T04:29:51.305342",
     "exception": false,
     "start_time": "2024-07-27T04:29:51.297427",
     "status": "completed"
    },
    "tags": []
   },
   "source": [
    "# Acknowledgement\n",
    "* https://www.youtube.com/watch?v=P6sfmUTpUmc&t=41s"
   ]
  }
 ],
 "metadata": {
  "kaggle": {
   "accelerator": "none",
   "dataSources": [
    {
     "sourceId": 187064505,
     "sourceType": "kernelVersion"
    }
   ],
   "dockerImageVersionId": 30746,
   "isGpuEnabled": false,
   "isInternetEnabled": true,
   "language": "python",
   "sourceType": "notebook"
  },
  "kernelspec": {
   "display_name": "Python 3",
   "language": "python",
   "name": "python3"
  },
  "language_info": {
   "codemirror_mode": {
    "name": "ipython",
    "version": 3
   },
   "file_extension": ".py",
   "mimetype": "text/x-python",
   "name": "python",
   "nbconvert_exporter": "python",
   "pygments_lexer": "ipython3",
   "version": "3.10.13"
  },
  "papermill": {
   "default_parameters": {},
   "duration": 176.198539,
   "end_time": "2024-07-27T04:29:53.889916",
   "environment_variables": {},
   "exception": null,
   "input_path": "__notebook__.ipynb",
   "output_path": "__notebook__.ipynb",
   "parameters": {},
   "start_time": "2024-07-27T04:26:57.691377",
   "version": "2.5.0"
  }
 },
 "nbformat": 4,
 "nbformat_minor": 5
}
