{
 "cells": [
  {
   "cell_type": "markdown",
   "id": "b0b2fa6a",
   "metadata": {
    "papermill": {
     "duration": 0.004266,
     "end_time": "2024-07-27T06:12:42.609300",
     "exception": false,
     "start_time": "2024-07-27T06:12:42.605034",
     "status": "completed"
    },
    "tags": []
   },
   "source": [
    "# Overview\n",
    "\n",
    "Let's fix the initial high loss of training MLP in the notebook [MLP as a basic script](https://www.kaggle.com/code/aisuko/mlp-as-a-basic-script/notebook)."
   ]
  },
  {
   "cell_type": "markdown",
   "id": "4a485a06",
   "metadata": {
    "_cell_guid": "b1076dfc-b9ad-4769-8c92-a6c4dae69d19",
    "_uuid": "8f2839f25d086af736a60e9eeb907d3b93b6e0e5",
    "papermill": {
     "duration": 0.003922,
     "end_time": "2024-07-27T06:12:42.617154",
     "exception": false,
     "start_time": "2024-07-27T06:12:42.613232",
     "status": "completed"
    },
    "tags": []
   },
   "source": [
    "# Fixing the high initial loss issue\n",
    "\n",
    "Below is the training loss history of our MLP.\n",
    "\n",
    "```\n",
    "      0/ 200000: 27.8817\n",
    "  10000/ 200000: 2.9571\n",
    "  20000/ 200000: 2.5722\n",
    "```\n",
    "\n",
    "You can see we have a extreme loss in our first training loop. That is the way to high. High loss at the beginning of training will cause accuracy issueof the neural net.\n",
    "\n",
    "## What the loss we are expected?\n",
    "\n",
    "**We expected the probability distribution that comes out initialy is a uniform distribution.** And it relates to the value of logits which means we want the logits of our neural net to be more closer to zero.\n",
    "\n",
    "See a 4-dimensional example of the issue. Our logits does't contains any extreme values. So, it doesn't actually matter if the label is 2 or 3 becuase it's a uniform distrubtion and we are recording the exact same loss in this case."
   ]
  },
  {
   "cell_type": "code",
   "execution_count": 1,
   "id": "bb5e1113",
   "metadata": {
    "execution": {
     "iopub.execute_input": "2024-07-27T06:12:42.626944Z",
     "iopub.status.busy": "2024-07-27T06:12:42.626556Z",
     "iopub.status.idle": "2024-07-27T06:12:46.122827Z",
     "shell.execute_reply": "2024-07-27T06:12:46.121715Z"
    },
    "papermill": {
     "duration": 3.50478,
     "end_time": "2024-07-27T06:12:46.125821",
     "exception": false,
     "start_time": "2024-07-27T06:12:42.621041",
     "status": "completed"
    },
    "tags": []
   },
   "outputs": [
    {
     "data": {
      "text/plain": [
       "tensor(3.2958)"
      ]
     },
     "execution_count": 1,
     "metadata": {},
     "output_type": "execute_result"
    }
   ],
   "source": [
    "import torch\n",
    "\n",
    "# We like the probability for any character would be roughly 1 over 27, 1/27.0\n",
    "\n",
    "# we wrap it in a tensor\n",
    "-torch.tensor(1/27.0).log()"
   ]
  },
  {
   "cell_type": "code",
   "execution_count": 2,
   "id": "8acc49f4",
   "metadata": {
    "execution": {
     "iopub.execute_input": "2024-07-27T06:12:46.136027Z",
     "iopub.status.busy": "2024-07-27T06:12:46.135083Z",
     "iopub.status.idle": "2024-07-27T06:12:46.149873Z",
     "shell.execute_reply": "2024-07-27T06:12:46.148617Z"
    },
    "papermill": {
     "duration": 0.022712,
     "end_time": "2024-07-27T06:12:46.152476",
     "exception": false,
     "start_time": "2024-07-27T06:12:46.129764",
     "status": "completed"
    },
    "tags": []
   },
   "outputs": [
    {
     "data": {
      "text/plain": [
       "(tensor([0.2500, 0.2500, 0.2500, 0.2500]), tensor(1.3863))"
      ]
     },
     "execution_count": 2,
     "metadata": {},
     "output_type": "execute_result"
    }
   ],
   "source": [
    "logits=torch.tensor([0.0,0.0,0.0,0.0])\n",
    "probs=torch.softmax(logits, dim=0)\n",
    "loss=-probs[2].log() # label here\n",
    "probs, loss"
   ]
  },
  {
   "cell_type": "markdown",
   "id": "7ad7b3ae",
   "metadata": {
    "papermill": {
     "duration": 0.003733,
     "end_time": "2024-07-27T06:12:46.160256",
     "exception": false,
     "start_time": "2024-07-27T06:12:46.156523",
     "status": "completed"
    },
    "tags": []
   },
   "source": [
    "## Example the loss without uniform distribution\n",
    "\n",
    "It's for us to guess the correct loss without uniform distrubution. And if the logits are coming out even more extreme you might get extremly insane losses like infinity even at initialization. We want the logits to be roughly zero when the network initialized."
   ]
  },
  {
   "cell_type": "code",
   "execution_count": 3,
   "id": "367773cf",
   "metadata": {
    "execution": {
     "iopub.execute_input": "2024-07-27T06:12:46.170010Z",
     "iopub.status.busy": "2024-07-27T06:12:46.169596Z",
     "iopub.status.idle": "2024-07-27T06:12:46.185294Z",
     "shell.execute_reply": "2024-07-27T06:12:46.184012Z"
    },
    "papermill": {
     "duration": 0.023581,
     "end_time": "2024-07-27T06:12:46.187816",
     "exception": false,
     "start_time": "2024-07-27T06:12:46.164235",
     "status": "completed"
    },
    "tags": []
   },
   "outputs": [
    {
     "data": {
      "text/plain": [
       "(tensor([-46.5240,  49.6721, -57.1356, -52.3020]),\n",
       " tensor([1.6689e-42, 1.0000e+00, 0.0000e+00, 5.6052e-45]),\n",
       " tensor(inf))"
      ]
     },
     "execution_count": 3,
     "metadata": {},
     "output_type": "execute_result"
    }
   ],
   "source": [
    "logits=torch.randn(4)*100 # let's make the logits with extreme values\n",
    "probs=torch.softmax(logits, dim=0)\n",
    "loss=-probs[2].log()\n",
    "logits, probs, loss"
   ]
  },
  {
   "cell_type": "markdown",
   "id": "bd3ff646",
   "metadata": {
    "papermill": {
     "duration": 0.003817,
     "end_time": "2024-07-27T06:12:46.195829",
     "exception": false,
     "start_time": "2024-07-27T06:12:46.192012",
     "status": "completed"
    },
    "tags": []
   },
   "source": [
    "## How to fix the high loss of the beginning of training?\n",
    "\n",
    "Scale down the output layer's weight by 0.1 or 0.01 and set bias of that layer to zero.\n",
    "\n",
    "# Pre-process step"
   ]
  },
  {
   "cell_type": "code",
   "execution_count": 4,
   "id": "b0e17b04",
   "metadata": {
    "execution": {
     "iopub.execute_input": "2024-07-27T06:12:46.205914Z",
     "iopub.status.busy": "2024-07-27T06:12:46.205517Z",
     "iopub.status.idle": "2024-07-27T06:15:26.096913Z",
     "shell.execute_reply": "2024-07-27T06:15:26.095861Z"
    },
    "papermill": {
     "duration": 159.899789,
     "end_time": "2024-07-27T06:15:26.099678",
     "exception": false,
     "start_time": "2024-07-27T06:12:46.199889",
     "status": "completed"
    },
    "tags": []
   },
   "outputs": [
    {
     "name": "stderr",
     "output_type": "stream",
     "text": [
      "2024-07-27 06:12:48.882104: E external/local_xla/xla/stream_executor/cuda/cuda_dnn.cc:9261] Unable to register cuDNN factory: Attempting to register factory for plugin cuDNN when one has already been registered\n",
      "2024-07-27 06:12:48.882274: E external/local_xla/xla/stream_executor/cuda/cuda_fft.cc:607] Unable to register cuFFT factory: Attempting to register factory for plugin cuFFT when one has already been registered\n",
      "2024-07-27 06:12:49.029594: E external/local_xla/xla/stream_executor/cuda/cuda_blas.cc:1515] Unable to register cuBLAS factory: Attempting to register factory for plugin cuBLAS when one has already been registered\n"
     ]
    },
    {
     "name": "stdout",
     "output_type": "stream",
     "text": [
      "torch.Size([182625, 3]) torch.Size([182625])\n",
      "torch.Size([22655, 3]) torch.Size([22655])\n",
      "torch.Size([22866, 3]) torch.Size([22866])\n",
      "11897\n",
      "      0/ 200000: 3.3221\n",
      "  10000/ 200000: 2.1900\n",
      "  20000/ 200000: 2.4196\n",
      "  30000/ 200000: 2.6067\n",
      "  40000/ 200000: 2.0601\n",
      "  50000/ 200000: 2.4988\n",
      "  60000/ 200000: 2.3902\n",
      "  70000/ 200000: 2.1344\n",
      "  80000/ 200000: 2.3369\n",
      "  90000/ 200000: 2.1299\n",
      " 100000/ 200000: 1.8329\n",
      " 110000/ 200000: 2.2053\n",
      " 120000/ 200000: 1.8540\n",
      " 130000/ 200000: 2.4566\n",
      " 140000/ 200000: 2.1879\n",
      " 150000/ 200000: 2.1118\n",
      " 160000/ 200000: 1.8956\n",
      " 170000/ 200000: 1.8645\n",
      " 180000/ 200000: 2.0326\n",
      " 190000/ 200000: 1.8417\n"
     ]
    }
   ],
   "source": [
    "import random\n",
    "import torch.nn.functional as F\n",
    "import matplotlib.pyplot as plt # for making figures\n",
    "from torch.utils.tensorboard import SummaryWriter\n",
    "\n",
    "\n",
    "# read in all the words\n",
    "with open('/kaggle/input/character-lm-without-framework/names.txt', 'r', encoding='utf-8') as f:\n",
    "    words=f.read()\n",
    "\n",
    "words=words.splitlines()\n",
    "\n",
    "# build the vocabulary of characters and \n",
    "chars=sorted(list(set(''.join(words))))\n",
    "\n",
    "stoi={s:i+1 for i,s in enumerate(chars)}\n",
    "stoi['.']=0\n",
    "itos={i:s for s,i in stoi.items()}\n",
    "vocab_size=len(itos)\n",
    "\n",
    "\n",
    "block_size=3 # context length: how many characters do we take to predict the next one?\n",
    "writer=SummaryWriter()\n",
    "\n",
    "def build_dataset(words):\n",
    "    X,Y=[],[]\n",
    "    \n",
    "    for w in words:\n",
    "        context=[0]*block_size\n",
    "        for ch in w+'.':\n",
    "            ix=stoi[ch]\n",
    "            X.append(context)\n",
    "            Y.append(ix)\n",
    "            context=context[1:]+[ix] # crop and append\n",
    "            \n",
    "    X=torch.tensor(X)\n",
    "    Y=torch.tensor(Y)\n",
    "    print(X.shape, Y.shape)\n",
    "    return X,Y\n",
    "\n",
    "random.seed(42)\n",
    "random.shuffle(words)\n",
    "n1=int(0.8*len(words))\n",
    "n2=int(0.9*len(words))\n",
    "\n",
    "Xtr, Ytr=build_dataset(words[:n1])     # 80%\n",
    "Xdev, Ydev=build_dataset(words[n1:n2]) # 10%\n",
    "Xte, Yte=build_dataset(words[n2:])     # 10%\n",
    "\n",
    "\n",
    "# MLP\n",
    "\n",
    "n_embd=10 # the dimensionality of the character embedding vectors\n",
    "n_hidden=200 # the number of neurons in the hidden layer of the MLP\n",
    "max_steps=200000\n",
    "batch_size=32\n",
    "lossi=[]\n",
    "\n",
    "g=torch.Generator().manual_seed(2147483647) # for reproducibility\n",
    "C=torch.randn((vocab_size, n_embd),           generator=g)\n",
    "W1=torch.randn((n_embd*block_size, n_hidden), generator=g)\n",
    "b1=torch.randn(n_hidden,                      generator=g)\n",
    "W2=torch.randn((n_hidden, vocab_size),        generator=g) * 0.01\n",
    "b2=torch.randn(vocab_size,                    generator=g) * 0\n",
    "\n",
    "parameters=[C, W1, b1, W2, b2]\n",
    "print(sum(p.nelement() for p in parameters)) # number of parameters in total\n",
    "for p in parameters:\n",
    "    p.requires_grad=True\n",
    "    \n",
    "\n",
    "for i in range(max_steps):\n",
    "    # minibatch construct\n",
    "    ix=torch.randint(0, Xtr.shape[0], (batch_size,), generator=g)\n",
    "    Xb,Yb=Xtr[ix], Ytr[ix] # batch X,Y\n",
    "    \n",
    "    # forward pass\n",
    "    emb=C[Xb] # embed the characters into vectors\n",
    "    embcat=emb.view(emb.shape[0], -1) # concatenate the vectors\n",
    "    hpreact=embcat@W1+b1 # hidden layer pre-activation\n",
    "    h=torch.tanh(hpreact) # hidden layer\n",
    "    logits=h@W2+b2 # output layer\n",
    "    loss=F.cross_entropy(logits, Yb) # loss function\n",
    "    writer.add_scalar(\"Loss/train\", loss, i)\n",
    "    \n",
    "    # backward pass\n",
    "    for p in parameters:\n",
    "        p.grad=None\n",
    "    loss.backward()\n",
    "    \n",
    "    # update\n",
    "    lr=0.1 if i< 100000 else 0.01 # step learning rate decay\n",
    "    for p in parameters:\n",
    "        p.data+=-lr*p.grad\n",
    "    \n",
    "    # track stats\n",
    "    if i%10000 ==0:\n",
    "        print(f'{i:7d}/{max_steps:7d}: {loss.item():.4f}')\n",
    "    lossi.append(loss.log10().item())\n",
    "\n",
    "writer.flush()\n",
    "writer.close()"
   ]
  },
  {
   "cell_type": "markdown",
   "id": "51a447aa",
   "metadata": {
    "papermill": {
     "duration": 0.005129,
     "end_time": "2024-07-27T06:15:26.110309",
     "exception": false,
     "start_time": "2024-07-27T06:15:26.105180",
     "status": "completed"
    },
    "tags": []
   },
   "source": [
    "We can see here that loss now doesn't have this hockey shape appearance because the optimization is just squashing down the logits and then it's rearanging the logits. We took away this easy part of the loss function where just the weights were just being shrunk down. So, we don't get these easy gains in the beginning. \n",
    "\n",
    "And there are many benefits:\n",
    "* the loss is what we expect\n",
    "* the loss doesn't look like a hockey stick\n",
    "* the loss that came out is acutally quite a bit improved"
   ]
  },
  {
   "cell_type": "code",
   "execution_count": 5,
   "id": "75e5d195",
   "metadata": {
    "execution": {
     "iopub.execute_input": "2024-07-27T06:15:26.123591Z",
     "iopub.status.busy": "2024-07-27T06:15:26.122701Z",
     "iopub.status.idle": "2024-07-27T06:15:27.239912Z",
     "shell.execute_reply": "2024-07-27T06:15:27.238791Z"
    },
    "papermill": {
     "duration": 1.126534,
     "end_time": "2024-07-27T06:15:27.242245",
     "exception": false,
     "start_time": "2024-07-27T06:15:26.115711",
     "status": "completed"
    },
    "tags": []
   },
   "outputs": [
    {
     "data": {
      "text/plain": [
       "[<matplotlib.lines.Line2D at 0x7d3d0720b880>]"
      ]
     },
     "execution_count": 5,
     "metadata": {},
     "output_type": "execute_result"
    },
    {
     "data": {
      "image/png": "[encoded data removed]",
      "text/plain": [
       "<Figure size 640x480 with 1 Axes>"
      ]
     },
     "metadata": {},
     "output_type": "display_data"
    }
   ],
   "source": [
    "plt.plot(lossi)"
   ]
  },
  {
   "cell_type": "code",
   "execution_count": 6,
   "id": "3bf5176c",
   "metadata": {
    "execution": {
     "iopub.execute_input": "2024-07-27T06:15:27.256121Z",
     "iopub.status.busy": "2024-07-27T06:15:27.255708Z",
     "iopub.status.idle": "2024-07-27T06:15:27.634863Z",
     "shell.execute_reply": "2024-07-27T06:15:27.633658Z"
    },
    "papermill": {
     "duration": 0.389219,
     "end_time": "2024-07-27T06:15:27.637622",
     "exception": false,
     "start_time": "2024-07-27T06:15:27.248403",
     "status": "completed"
    },
    "tags": []
   },
   "outputs": [
    {
     "name": "stdout",
     "output_type": "stream",
     "text": [
      "train 2.069589138031006\n",
      "val 2.1310746669769287\n"
     ]
    }
   ],
   "source": [
    "@torch.no_grad()\n",
    "def split_loss(split):\n",
    "    x,y={\n",
    "        'train': (Xtr, Ytr),\n",
    "        'val': (Xdev, Ydev),\n",
    "        'test': (Xte, Yte),\n",
    "    }[split]\n",
    "    emb=C[x] # (N, block_size, n_embd)\n",
    "    embcat=emb.view(emb.shape[0], -1) # concat into (N, block_size * n_embd)\n",
    "    h=torch.tanh(embcat @W1+b1) # (N, n_hidden)\n",
    "    logits=h@W2+b2 #(N, vocab_size)\n",
    "    loss=F.cross_entropy(logits, y)\n",
    "    print(split, loss.item())\n",
    "\n",
    "split_loss('train')\n",
    "split_loss('val')"
   ]
  },
  {
   "cell_type": "code",
   "execution_count": 7,
   "id": "4dbfa3d2",
   "metadata": {
    "execution": {
     "iopub.execute_input": "2024-07-27T06:15:27.652007Z",
     "iopub.status.busy": "2024-07-27T06:15:27.651607Z",
     "iopub.status.idle": "2024-07-27T06:15:27.688425Z",
     "shell.execute_reply": "2024-07-27T06:15:27.687366Z"
    },
    "papermill": {
     "duration": 0.047316,
     "end_time": "2024-07-27T06:15:27.691128",
     "exception": false,
     "start_time": "2024-07-27T06:15:27.643812",
     "status": "completed"
    },
    "tags": []
   },
   "outputs": [
    {
     "name": "stdout",
     "output_type": "stream",
     "text": [
      "mora.\n",
      "mayah.\n",
      "seel.\n",
      "ndyn.\n",
      "alerethruthadrie.\n",
      "cadelyn.\n",
      "elin.\n",
      "shi.\n",
      "jen.\n",
      "eden.\n",
      "est.\n",
      "aarvelyzion.\n",
      "kamin.\n",
      "shub.\n",
      "roshimies.\n",
      "kin.\n",
      "renlynn.\n",
      "novana.\n",
      "ubeen.\n",
      "der.\n"
     ]
    }
   ],
   "source": [
    "g=torch.Generator().manual_seed(2147483647+10)\n",
    "\n",
    "for _ in range(20):\n",
    "    out=[]\n",
    "    context=[0]*block_size # initialize with all ...\n",
    "    while True:\n",
    "        # forward pass the neural net\n",
    "        emb=C[torch.tensor([context])] # (1, block_size, n_embd)\n",
    "        h=torch.tanh(emb.view(1,-1) @ W1+b1)\n",
    "        logits=h@W2+b2\n",
    "        probs=F.softmax(logits, dim=1)\n",
    "        # sample from the distribution\n",
    "        ix=torch.multinomial(probs, num_samples=1, generator=g).item()\n",
    "        # shift the context window and track the samples\n",
    "        context=context[1:]+[ix]\n",
    "        out.append(ix)\n",
    "        if ix==0:\n",
    "            break\n",
    "    print(''.join(itos[i] for i in out)) # decode the print and the generated word"
   ]
  },
  {
   "cell_type": "markdown",
   "id": "eddd2b0b",
   "metadata": {
    "papermill": {
     "duration": 0.005885,
     "end_time": "2024-07-27T06:15:27.703720",
     "exception": false,
     "start_time": "2024-07-27T06:15:27.697835",
     "status": "completed"
    },
    "tags": []
   },
   "source": [
    "# Acknowledgement\n",
    "\n",
    "* https://www.youtube.com/watch?v=P6sfmUTpUmc&t=41s\n",
    "* https://www.kaggle.com/code/aisuko/character-lm-without-framework"
   ]
  }
 ],
 "metadata": {
  "kaggle": {
   "accelerator": "none",
   "dataSources": [
    {
     "sourceId": 187064505,
     "sourceType": "kernelVersion"
    }
   ],
   "dockerImageVersionId": 30746,
   "isGpuEnabled": false,
   "isInternetEnabled": true,
   "language": "python",
   "sourceType": "notebook"
  },
  "kernelspec": {
   "display_name": "Python 3",
   "language": "python",
   "name": "python3"
  },
  "language_info": {
   "codemirror_mode": {
    "name": "ipython",
    "version": 3
   },
   "file_extension": ".py",
   "mimetype": "text/x-python",
   "name": "python",
   "nbconvert_exporter": "python",
   "pygments_lexer": "ipython3",
   "version": "3.10.13"
  },
  "papermill": {
   "default_parameters": {},
   "duration": 169.801293,
   "end_time": "2024-07-27T06:15:29.636137",
   "environment_variables": {},
   "exception": null,
   "input_path": "__notebook__.ipynb",
   "output_path": "__notebook__.ipynb",
   "parameters": {},
   "start_time": "2024-07-27T06:12:39.834844",
   "version": "2.5.0"
  }
 },
 "nbformat": 4,
 "nbformat_minor": 5
}
