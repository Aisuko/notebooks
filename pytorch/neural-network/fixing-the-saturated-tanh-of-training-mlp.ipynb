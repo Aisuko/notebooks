{
 "cells": [
  {
   "cell_type": "markdown",
   "id": "65213100",
   "metadata": {
    "papermill": {
     "duration": 0.008516,
     "end_time": "2024-07-29T02:09:08.534896",
     "exception": false,
     "start_time": "2024-07-29T02:09:08.526380",
     "status": "completed"
    },
    "tags": []
   },
   "source": [
    "# Overview\n",
    "\n",
    "Let's fix the saturated tanh issue of our training process."
   ]
  },
  {
   "cell_type": "code",
   "execution_count": 1,
   "id": "ab2d19db",
   "metadata": {
    "_cell_guid": "b1076dfc-b9ad-4769-8c92-a6c4dae69d19",
    "_uuid": "8f2839f25d086af736a60e9eeb907d3b93b6e0e5",
    "execution": {
     "iopub.execute_input": "2024-07-29T02:09:08.554635Z",
     "iopub.status.busy": "2024-07-29T02:09:08.554170Z",
     "iopub.status.idle": "2024-07-29T02:09:30.751976Z",
     "shell.execute_reply": "2024-07-29T02:09:30.750679Z"
    },
    "papermill": {
     "duration": 22.210435,
     "end_time": "2024-07-29T02:09:30.755013",
     "exception": false,
     "start_time": "2024-07-29T02:09:08.544578",
     "status": "completed"
    },
    "tags": []
   },
   "outputs": [
    {
     "name": "stderr",
     "output_type": "stream",
     "text": [
      "2024-07-29 02:09:15.731955: E external/local_xla/xla/stream_executor/cuda/cuda_dnn.cc:9261] Unable to register cuDNN factory: Attempting to register factory for plugin cuDNN when one has already been registered\n",
      "2024-07-29 02:09:15.732100: E external/local_xla/xla/stream_executor/cuda/cuda_fft.cc:607] Unable to register cuFFT factory: Attempting to register factory for plugin cuFFT when one has already been registered\n",
      "2024-07-29 02:09:15.915687: E external/local_xla/xla/stream_executor/cuda/cuda_blas.cc:1515] Unable to register cuBLAS factory: Attempting to register factory for plugin cuBLAS when one has already been registered\n"
     ]
    },
    {
     "name": "stdout",
     "output_type": "stream",
     "text": [
      "torch.Size([182625, 3]) torch.Size([182625])\n",
      "torch.Size([22655, 3]) torch.Size([22655])\n",
      "torch.Size([22866, 3]) torch.Size([22866])\n",
      "11897\n",
      "      0/ 200000: 3.3221\n"
     ]
    }
   ],
   "source": [
    "import random\n",
    "import torch\n",
    "import torch.nn.functional as F\n",
    "import matplotlib.pyplot as plt # for making figures\n",
    "from torch.utils.tensorboard import SummaryWriter\n",
    "\n",
    "\n",
    "# read in all the words\n",
    "with open('/kaggle/input/character-lm-without-framework/names.txt', 'r', encoding='utf-8') as f:\n",
    "    words=f.read()\n",
    "\n",
    "words=words.splitlines()\n",
    "\n",
    "# build the vocabulary of characters and \n",
    "chars=sorted(list(set(''.join(words))))\n",
    "\n",
    "stoi={s:i+1 for i,s in enumerate(chars)}\n",
    "stoi['.']=0\n",
    "itos={i:s for s,i in stoi.items()}\n",
    "vocab_size=len(itos)\n",
    "\n",
    "\n",
    "block_size=3 # context length: how many characters do we take to predict the next one?\n",
    "\n",
    "\n",
    "def build_dataset(words):\n",
    "    X,Y=[],[]\n",
    "    \n",
    "    for w in words:\n",
    "        context=[0]*block_size\n",
    "        for ch in w+'.':\n",
    "            ix=stoi[ch]\n",
    "            X.append(context)\n",
    "            Y.append(ix)\n",
    "            context=context[1:]+[ix] # crop and append\n",
    "            \n",
    "    X=torch.tensor(X)\n",
    "    Y=torch.tensor(Y)\n",
    "    print(X.shape, Y.shape)\n",
    "    return X,Y\n",
    "\n",
    "random.seed(42)\n",
    "random.shuffle(words)\n",
    "n1=int(0.8*len(words))\n",
    "n2=int(0.9*len(words))\n",
    "\n",
    "Xtr, Ytr=build_dataset(words[:n1])     # 80%\n",
    "Xdev, Ydev=build_dataset(words[n1:n2]) # 10%\n",
    "Xte, Yte=build_dataset(words[n2:])     # 10%\n",
    "\n",
    "\n",
    "# MLP\n",
    "\n",
    "n_embd=10 # the dimensionality of the character embedding vectors\n",
    "n_hidden=200 # the number of neurons in the hidden layer of the MLP\n",
    "max_steps=200000\n",
    "batch_size=32\n",
    "lossi=[]\n",
    "writer=SummaryWriter()\n",
    "\n",
    "g=torch.Generator().manual_seed(2147483647) # for reproducibility\n",
    "C=torch.randn((vocab_size, n_embd),           generator=g)\n",
    "W1=torch.randn((n_embd*block_size, n_hidden), generator=g)\n",
    "b1=torch.randn(n_hidden,                      generator=g)\n",
    "W2=torch.randn((n_hidden, vocab_size),        generator=g) * 0.01\n",
    "b2=torch.randn(vocab_size,                    generator=g) * 0\n",
    "\n",
    "parameters=[C, W1, b1, W2, b2]\n",
    "print(sum(p.nelement() for p in parameters)) # number of parameters in total\n",
    "for p in parameters:\n",
    "    p.requires_grad=True\n",
    "    \n",
    "\n",
    "for i in range(max_steps):\n",
    "    # minibatch construct\n",
    "    ix=torch.randint(0, Xtr.shape[0], (batch_size,), generator=g)\n",
    "    Xb,Yb=Xtr[ix], Ytr[ix] # batch X,Y\n",
    "    \n",
    "    # forward pass\n",
    "    emb=C[Xb] # embed the characters into vectors\n",
    "    embcat=emb.view(emb.shape[0], -1) # concatenate the vectors\n",
    "    hpreact=embcat@W1+b1 # hidden layer pre-activation\n",
    "    \n",
    "    # If all of these outputs h are in the flat regions of -1 and 1, \n",
    "    # then the gradients that are flowing through the network will just get\n",
    "    # destroyed at this layer.\n",
    "    h=torch.tanh(hpreact) # hidden layer\n",
    "\n",
    "    logits=h@W2+b2 # output layer\n",
    "    loss=F.cross_entropy(logits, Yb) # loss function\n",
    "    writer.add_scalar(\"Loss/train\", loss, i)\n",
    "    \n",
    "    # backward pass\n",
    "    for p in parameters:\n",
    "        p.grad=None\n",
    "    loss.backward()\n",
    "    \n",
    "    # update\n",
    "    lr=0.1 if i< 100000 else 0.01 # step learning rate decay\n",
    "    for p in parameters:\n",
    "        p.data+=-lr*p.grad\n",
    "    \n",
    "    # track stats\n",
    "    if i%10000 ==0:\n",
    "        print(f'{i:7d}/{max_steps:7d}: {loss.item():.4f}')\n",
    "    lossi.append(loss.log10().item())\n",
    "    \n",
    "    break\n",
    "\n",
    "writer.flush()\n",
    "writer.close()"
   ]
  },
  {
   "cell_type": "markdown",
   "id": "55d6e452",
   "metadata": {
    "papermill": {
     "duration": 0.008705,
     "end_time": "2024-07-29T02:09:30.772038",
     "exception": false,
     "start_time": "2024-07-29T02:09:30.763333",
     "status": "completed"
    },
    "tags": []
   },
   "source": [
    "# What is the issue of tanh?\n",
    "\n",
    "**THe deeper problem working inside the neural net. No matter what inputs you plug in from your dataset, the `tanh` neuron always fires completely $1$ or completely $-1$ and then it will just not learn, because al the gradients wil be just zeroed out.** \n",
    "\n",
    "And also, \n",
    "* `Sigmoid` will have the exact same issue, because it is a squashing neuron and so the same will be true for sigmoid.\n",
    "* Same to `relu`, `relu` has a completely flat region here below zero. If the pass-through neuron is positive and it's pre-activation is negative. It will just shut it off since the region here is completely flat then during back propagation.\n",
    "* ELU: it also has flat parts\n",
    "\n",
    "**Note: For some of other neurons will not have this issue**\n",
    "* leaky ReLU: it doesn't have flat tails. So, it almost always get gradients\n",
    "\n",
    "\n",
    "\n",
    "Please see more detail in the section below.\n",
    "\n",
    "The value of `h` the activations of hidden states. Let's investgate one step by one step. We can see the value of `h` below. It has many values are equal to `-1` or `1`.\n",
    "\n",
    "## Why many times of -1 and 1 does matter?\n",
    "\n",
    "`tanh` function is a squashing functon it takes arbitrary numbers and it squashes them into a range of negative one and one, and it does so smoothly."
   ]
  },
  {
   "cell_type": "code",
   "execution_count": 2,
   "id": "79669188",
   "metadata": {
    "execution": {
     "iopub.execute_input": "2024-07-29T02:09:30.790654Z",
     "iopub.status.busy": "2024-07-29T02:09:30.789930Z",
     "iopub.status.idle": "2024-07-29T02:09:30.820030Z",
     "shell.execute_reply": "2024-07-29T02:09:30.818736Z"
    },
    "papermill": {
     "duration": 0.042578,
     "end_time": "2024-07-29T02:09:30.822884",
     "exception": false,
     "start_time": "2024-07-29T02:09:30.780306",
     "status": "completed"
    },
    "tags": []
   },
   "outputs": [
    {
     "data": {
      "text/plain": [
       "tensor([[ 0.8100, -0.8997, -0.9993,  ..., -0.9097, -1.0000,  1.0000],\n",
       "        [-1.0000, -0.9571, -0.7145,  ...,  0.4898,  0.9090,  0.9937],\n",
       "        [ 0.9983, -0.3340,  1.0000,  ...,  0.9443,  0.9905,  1.0000],\n",
       "        ...,\n",
       "        [-1.0000,  0.9604, -0.1418,  ..., -0.1266,  1.0000,  1.0000],\n",
       "        [-1.0000, -0.4385, -0.8882,  ..., -0.3316,  0.9995,  1.0000],\n",
       "        [-1.0000,  0.9604, -0.1418,  ..., -0.1266,  1.0000,  1.0000]],\n",
       "       grad_fn=<TanhBackward0>)"
      ]
     },
     "execution_count": 2,
     "metadata": {},
     "output_type": "execute_result"
    }
   ],
   "source": [
    "h"
   ]
  },
  {
   "cell_type": "markdown",
   "id": "20cfbf23",
   "metadata": {
    "papermill": {
     "duration": 0.008022,
     "end_time": "2024-07-29T02:09:30.839167",
     "exception": false,
     "start_time": "2024-07-29T02:09:30.831145",
     "status": "completed"
    },
    "tags": []
   },
   "source": [
    "## Visualization(histogram) of h\n",
    "\n",
    "Let's look at the histogram of h to get the better idea of the distribution of the value inside this tensor."
   ]
  },
  {
   "cell_type": "code",
   "execution_count": 3,
   "id": "465f3523",
   "metadata": {
    "execution": {
     "iopub.execute_input": "2024-07-29T02:09:30.858046Z",
     "iopub.status.busy": "2024-07-29T02:09:30.857576Z",
     "iopub.status.idle": "2024-07-29T02:09:30.864269Z",
     "shell.execute_reply": "2024-07-29T02:09:30.863151Z"
    },
    "papermill": {
     "duration": 0.019203,
     "end_time": "2024-07-29T02:09:30.866890",
     "exception": false,
     "start_time": "2024-07-29T02:09:30.847687",
     "status": "completed"
    },
    "tags": []
   },
   "outputs": [
    {
     "data": {
      "text/plain": [
       "torch.Size([32, 200])"
      ]
     },
     "execution_count": 3,
     "metadata": {},
     "output_type": "execute_result"
    }
   ],
   "source": [
    "# 32 example, 200 activations in each example\n",
    "h.shape"
   ]
  },
  {
   "cell_type": "code",
   "execution_count": 4,
   "id": "5f8eb459",
   "metadata": {
    "_kg_hide-output": true,
    "execution": {
     "iopub.execute_input": "2024-07-29T02:09:30.885426Z",
     "iopub.status.busy": "2024-07-29T02:09:30.885033Z",
     "iopub.status.idle": "2024-07-29T02:09:31.325395Z",
     "shell.execute_reply": "2024-07-29T02:09:31.324195Z"
    },
    "papermill": {
     "duration": 0.452798,
     "end_time": "2024-07-29T02:09:31.328116",
     "exception": false,
     "start_time": "2024-07-29T02:09:30.875318",
     "status": "completed"
    },
    "tags": []
   },
   "outputs": [
    {
     "data": {
      "text/plain": [
       "(array([2069.,  144.,  106.,   82.,   59.,   56.,   44.,   30.,   43.,\n",
       "          26.,   16.,   38.,   16.,   32.,   24.,   14.,   28.,   27.,\n",
       "          26.,   19.,   24.,   26.,   30.,   14.,   19.,   19.,   22.,\n",
       "          26.,   18.,   12.,   10.,   33.,   27.,   32.,   17.,   24.,\n",
       "          30.,   22.,   26.,   29.,   26.,   40.,   29.,   41.,   49.,\n",
       "          64.,   62.,  100.,  188., 2442.]),\n",
       " array([-1.  , -0.96, -0.92, -0.88, -0.84, -0.8 , -0.76, -0.72, -0.68,\n",
       "        -0.64, -0.6 , -0.56, -0.52, -0.48, -0.44, -0.4 , -0.36, -0.32,\n",
       "        -0.28, -0.24, -0.2 , -0.16, -0.12, -0.08, -0.04,  0.  ,  0.04,\n",
       "         0.08,  0.12,  0.16,  0.2 ,  0.24,  0.28,  0.32,  0.36,  0.4 ,\n",
       "         0.44,  0.48,  0.52,  0.56,  0.6 ,  0.64,  0.68,  0.72,  0.76,\n",
       "         0.8 ,  0.84,  0.88,  0.92,  0.96,  1.  ]),\n",
       " <BarContainer object of 50 artists>)"
      ]
     },
     "execution_count": 4,
     "metadata": {},
     "output_type": "execute_result"
    },
    {
     "data": {
      "image/png": "[encoded data removed]",
      "text/plain": [
       "<Figure size 640x480 with 1 Axes>"
      ]
     },
     "metadata": {},
     "output_type": "display_data"
    }
   ],
   "source": [
    "# we can view it as negative one to stretch\n",
    "# it out into one large vector and we can then call to list to convert this into one large python list\n",
    "\n",
    "# we visualize this tensor with plt.hist, and 50 bins\n",
    "plt.hist(h.view(-1).tolist(),50)\n",
    "\n",
    "# from this digram we can see that `tanh` is very very active \n",
    "# and the distribution of the pre-activations that feed into the tanh\n",
    "# and we can see that the distribution of the pre-activations \n",
    "# are very very board take numbers between\n",
    "\n",
    "\n",
    "# this isn't what we want. It means the neurouns are less trained."
   ]
  },
  {
   "cell_type": "code",
   "execution_count": 5,
   "id": "1125534b",
   "metadata": {
    "execution": {
     "iopub.execute_input": "2024-07-29T02:09:31.348213Z",
     "iopub.status.busy": "2024-07-29T02:09:31.347786Z",
     "iopub.status.idle": "2024-07-29T02:09:31.761212Z",
     "shell.execute_reply": "2024-07-29T02:09:31.759952Z"
    },
    "papermill": {
     "duration": 0.426569,
     "end_time": "2024-07-29T02:09:31.763912",
     "exception": false,
     "start_time": "2024-07-29T02:09:31.337343",
     "status": "completed"
    },
    "tags": []
   },
   "outputs": [
    {
     "data": {
      "text/plain": [
       "(array([  2.,   2.,   1.,   4.,   2.,   4.,   6.,  15.,   5.,  25.,  32.,\n",
       "         49.,  56.,  59.,  92., 119., 134., 197., 195., 221., 257., 275.,\n",
       "        297., 341., 353., 375., 369., 349., 358., 362., 271., 312., 229.,\n",
       "        206., 190., 167.,  87., 111.,  72.,  55.,  41.,  22.,  23.,  18.,\n",
       "         17.,   8.,   5.,   7.,   2.,   1.]),\n",
       " array([-19.05793571, -18.31571732, -17.57349892, -16.83128052,\n",
       "        -16.08906212, -15.34684372, -14.60462532, -13.86240692,\n",
       "        -13.12018852, -12.37797012, -11.63575172, -10.89353333,\n",
       "        -10.15131493,  -9.40909653,  -8.66687813,  -7.92465973,\n",
       "         -7.18244133,  -6.44022293,  -5.69800453,  -4.95578613,\n",
       "         -4.21356773,  -3.47134933,  -2.72913094,  -1.98691254,\n",
       "         -1.24469414,  -0.50247574,   0.23974266,   0.98196106,\n",
       "          1.72417946,   2.46639786,   3.20861626,   3.95083466,\n",
       "          4.69305305,   5.43527145,   6.17748985,   6.91970825,\n",
       "          7.66192665,   8.40414505,   9.14636345,   9.88858185,\n",
       "         10.63080025,  11.37301865,  12.11523705,  12.85745544,\n",
       "         13.59967384,  14.34189224,  15.08411064,  15.82632904,\n",
       "         16.56854744,  17.31076584,  18.05298424]),\n",
       " <BarContainer object of 50 artists>)"
      ]
     },
     "execution_count": 5,
     "metadata": {},
     "output_type": "execute_result"
    },
    {
     "data": {
      "image/png": "[encoded data removed]",
      "text/plain": [
       "<Figure size 640x480 with 1 Axes>"
      ]
     },
     "metadata": {},
     "output_type": "display_data"
    }
   ],
   "source": [
    "# Visualize the pre-activations\n",
    "\n",
    "plt.hist(hpreact.view(-1).tolist(), 50)"
   ]
  },
  {
   "cell_type": "markdown",
   "id": "0c80bba4",
   "metadata": {
    "papermill": {
     "duration": 0.00916,
     "end_time": "2024-07-29T02:09:31.782533",
     "exception": false,
     "start_time": "2024-07-29T02:09:31.773373",
     "status": "completed"
    },
    "tags": []
   },
   "source": [
    "## Remember how we implement tahn in backward\n",
    "\n",
    "```\n",
    "def tanh(self):\n",
    "    x=self.data\n",
    "    t=(math.exp(2*x)-1)/(math.exp(2*x)+1)\n",
    "    out=Value(t, (self,), 'tanh')\n",
    "    \n",
    "    def _backward():\n",
    "        self.grad+=(1-t**2)*out.grad # chain rule with the local gradient\n",
    "    out._backward=_backward\n",
    "\n",
    "    return out\n",
    "```\n",
    "\n",
    "**We can see above, if $t=-1$ or $t=1$ the gradient will be killed.** If the output is very close to 1 then we are in the tail of tanh, and changing basically the input isn't going to impact the output of the 10th too much, because it's in a flat region of the 10th tanh. So, therefore there's no impact on the loss and so indeed the weights and the biases along with this tanh neuron don't impact the loss because the output of the standard unit is in the flat refion in the tanh.\n",
    "\n",
    "So, the gradient would be basically zero and vanished.\n",
    "\n",
    "**When `tanh` takes on the exactly value of zero, then the gradient is just passed through.** But more you are in the flat tails the more the gradient is squashed. So, we will see that the gradient flowing through `tanh` can only every decrease int he amount that it decreases is proportional through a square here depending on how far you are in the flat tails of this tanh.\n",
    "\n"
   ]
  },
  {
   "cell_type": "code",
   "execution_count": 6,
   "id": "3f14798f",
   "metadata": {
    "execution": {
     "iopub.execute_input": "2024-07-29T02:09:31.803840Z",
     "iopub.status.busy": "2024-07-29T02:09:31.803432Z",
     "iopub.status.idle": "2024-07-29T02:09:32.131596Z",
     "shell.execute_reply": "2024-07-29T02:09:32.130042Z"
    },
    "papermill": {
     "duration": 0.342098,
     "end_time": "2024-07-29T02:09:32.134310",
     "exception": false,
     "start_time": "2024-07-29T02:09:31.792212",
     "status": "completed"
    },
    "tags": []
   },
   "outputs": [
    {
     "data": {
      "text/plain": [
       "<matplotlib.image.AxesImage at 0x7e2e1f525270>"
      ]
     },
     "execution_count": 6,
     "metadata": {},
     "output_type": "execute_result"
    },
    {
     "data": {
      "image/png": "[encoded data removed]",
      "text/plain": [
       "<Figure size 2000x1000 with 1 Axes>"
      ]
     },
     "metadata": {},
     "output_type": "display_data"
    }
   ],
   "source": [
    "plt.figure(figsize=(20,10))\n",
    "# we check how often of abs(h) in the flat region\n",
    "# h.abs()>0.99 is a boolean tensor, white is True, Black is false\n",
    "plt.imshow(h.abs()>0.99, cmap='gray', interpolation='nearest')\n",
    "\n",
    "# here are have 32 examples and 200 hidden neurons.\n",
    "\n",
    "# there are lots of whites tell us the tanh neurons were very very active\n",
    "# they are in a flat tail\n",
    "\n",
    "# So, in all these cases, the backward gradient would get destroyed\n",
    "\n",
    "# If the entire colume is white, we call it a dead neuron which means the neuron will never learn\n",
    "# it is a dead neuron. This could be a tanh neuron where the initialization of the weights and the biases\n",
    "# could be such that no sinle example ever activates in this tanh."
   ]
  },
  {
   "cell_type": "markdown",
   "id": "c495f82b",
   "metadata": {
    "papermill": {
     "duration": 0.009639,
     "end_time": "2024-07-29T02:09:32.153947",
     "exception": false,
     "start_time": "2024-07-29T02:09:32.144308",
     "status": "completed"
    },
    "tags": []
   },
   "source": [
    "# How to fix this?\n",
    "\n",
    "According to above, we found our `hpreact` are less trained. We need to fix this.\n",
    "\n",
    "## Where is the issue?\n",
    "\n",
    "Please see below the `forward pass` of our model structure. The first two lines of code are uniform gaussian but then it's multiplied by $W1+B1$, and `hpreact` is too far off from zero and that's causing the issue so we want this reactivation to be closer to zero and that's causing the issue.\n",
    "\n",
    "```python\n",
    "# forward pass\n",
    "emb=C[Xb] # embed the characters into vectors\n",
    "embcat=emb.view(emb.shape[0], -1) # concatenate the vectors\n",
    "hpreact=embcat@W1+b1 # hidden layer pre-activation\n",
    "```\n",
    "\n",
    "So, we want this reactivation to be closer to zero very similar to what we have with logits. And make sure there is no neurons that's saturated above 0.99 in either direction."
   ]
  },
  {
   "cell_type": "code",
   "execution_count": 7,
   "id": "9125810c",
   "metadata": {
    "execution": {
     "iopub.execute_input": "2024-07-29T02:09:32.175806Z",
     "iopub.status.busy": "2024-07-29T02:09:32.175295Z",
     "iopub.status.idle": "2024-07-29T02:09:32.198032Z",
     "shell.execute_reply": "2024-07-29T02:09:32.196752Z"
    },
    "papermill": {
     "duration": 0.036815,
     "end_time": "2024-07-29T02:09:32.200792",
     "exception": false,
     "start_time": "2024-07-29T02:09:32.163977",
     "status": "completed"
    },
    "tags": []
   },
   "outputs": [
    {
     "name": "stdout",
     "output_type": "stream",
     "text": [
      "11897\n",
      "      0/ 200000: 3.3135\n"
     ]
    }
   ],
   "source": [
    "# MLP\n",
    "\n",
    "n_embd=10 # the dimensionality of the character embedding vectors\n",
    "n_hidden=200 # the number of neurons in the hidden layer of the MLP\n",
    "max_steps=200000\n",
    "batch_size=32\n",
    "lossi=[]\n",
    "writer=SummaryWriter()\n",
    "\n",
    "g=torch.Generator().manual_seed(2147483647) # for reproducibility\n",
    "C=torch.randn((vocab_size, n_embd),           generator=g)\n",
    "W1=torch.randn((n_embd*block_size, n_hidden), generator=g) * 0.2\n",
    "b1=torch.randn(n_hidden,                      generator=g) * 0.01\n",
    "W2=torch.randn((n_hidden, vocab_size),        generator=g) * 0.01\n",
    "b2=torch.randn(vocab_size,                    generator=g) * 0\n",
    "\n",
    "parameters=[C, W1, b1, W2, b2]\n",
    "print(sum(p.nelement() for p in parameters)) # number of parameters in total\n",
    "for p in parameters:\n",
    "    p.requires_grad=True\n",
    "    \n",
    "\n",
    "for i in range(max_steps):\n",
    "    # minibatch construct\n",
    "    ix=torch.randint(0, Xtr.shape[0], (batch_size,), generator=g)\n",
    "    Xb,Yb=Xtr[ix], Ytr[ix] # batch X,Y\n",
    "    \n",
    "    # forward pass\n",
    "    emb=C[Xb] # embed the characters into vectors\n",
    "    embcat=emb.view(emb.shape[0], -1) # concatenate the vectors\n",
    "    hpreact=embcat@W1+b1 # hidden layer pre-activation\n",
    "    \n",
    "    # If all of these outputs h are in the flat regions of -1 and 1, \n",
    "    # then the gradients that are flowing through the network will just get\n",
    "    # destroyed at this layer.\n",
    "    h=torch.tanh(hpreact) # hidden layer\n",
    "\n",
    "    logits=h@W2+b2 # output layer\n",
    "    loss=F.cross_entropy(logits, Yb) # loss function\n",
    "    writer.add_scalar(\"Loss/train\", loss, i)\n",
    "    \n",
    "    # backward pass\n",
    "    for p in parameters:\n",
    "        p.grad=None\n",
    "    loss.backward()\n",
    "    \n",
    "    # update\n",
    "    lr=0.1 if i< 100000 else 0.01 # step learning rate decay\n",
    "    for p in parameters:\n",
    "        p.data+=-lr*p.grad\n",
    "    \n",
    "    # track stats\n",
    "    if i%10000 ==0:\n",
    "        print(f'{i:7d}/{max_steps:7d}: {loss.item():.4f}')\n",
    "    lossi.append(loss.log10().item())\n",
    "    \n",
    "    break\n",
    "\n",
    "writer.flush()\n",
    "writer.close()"
   ]
  },
  {
   "cell_type": "code",
   "execution_count": 8,
   "id": "25782883",
   "metadata": {
    "execution": {
     "iopub.execute_input": "2024-07-29T02:09:32.224539Z",
     "iopub.status.busy": "2024-07-29T02:09:32.224134Z",
     "iopub.status.idle": "2024-07-29T02:09:32.601630Z",
     "shell.execute_reply": "2024-07-29T02:09:32.600367Z"
    },
    "papermill": {
     "duration": 0.391781,
     "end_time": "2024-07-29T02:09:32.604343",
     "exception": false,
     "start_time": "2024-07-29T02:09:32.212562",
     "status": "completed"
    },
    "tags": []
   },
   "outputs": [
    {
     "data": {
      "text/plain": [
       "(array([143., 172., 172., 161., 142., 151., 133., 116., 116., 143.,  95.,\n",
       "        104., 126., 111., 119.,  91.,  86.,  90., 115., 100., 112., 122.,\n",
       "        111.,  77., 103., 119., 100., 106.,  91.,  90., 117., 114., 116.,\n",
       "        115., 107., 131., 111., 109., 114., 118., 142., 127., 162., 169.,\n",
       "        152., 197., 184., 192., 208., 198.]),\n",
       " array([-9.98924255e-01, -9.58988956e-01, -9.19053657e-01, -8.79118358e-01,\n",
       "        -8.39183059e-01, -7.99247760e-01, -7.59312460e-01, -7.19377161e-01,\n",
       "        -6.79441862e-01, -6.39506563e-01, -5.99571264e-01, -5.59635965e-01,\n",
       "        -5.19700665e-01, -4.79765366e-01, -4.39830067e-01, -3.99894768e-01,\n",
       "        -3.59959469e-01, -3.20024170e-01, -2.80088871e-01, -2.40153571e-01,\n",
       "        -2.00218272e-01, -1.60282973e-01, -1.20347674e-01, -8.04123747e-02,\n",
       "        -4.04770756e-02, -5.41776419e-04,  3.93935227e-02,  7.93288219e-02,\n",
       "         1.19264121e-01,  1.59199420e-01,  1.99134719e-01,  2.39070019e-01,\n",
       "         2.79005318e-01,  3.18940617e-01,  3.58875916e-01,  3.98811215e-01,\n",
       "         4.38746514e-01,  4.78681813e-01,  5.18617113e-01,  5.58552412e-01,\n",
       "         5.98487711e-01,  6.38423010e-01,  6.78358309e-01,  7.18293608e-01,\n",
       "         7.58228908e-01,  7.98164207e-01,  8.38099506e-01,  8.78034805e-01,\n",
       "         9.17970104e-01,  9.57905403e-01,  9.97840703e-01]),\n",
       " <BarContainer object of 50 artists>)"
      ]
     },
     "execution_count": 8,
     "metadata": {},
     "output_type": "execute_result"
    },
    {
     "data": {
      "image/png": "[encoded data removed]",
      "text/plain": [
       "<Figure size 640x480 with 1 Axes>"
      ]
     },
     "metadata": {},
     "output_type": "display_data"
    }
   ],
   "source": [
    "plt.hist(h.view(-1).tolist(),50)"
   ]
  },
  {
   "cell_type": "code",
   "execution_count": 9,
   "id": "31a2f5a7",
   "metadata": {
    "execution": {
     "iopub.execute_input": "2024-07-29T02:09:32.628721Z",
     "iopub.status.busy": "2024-07-29T02:09:32.628293Z",
     "iopub.status.idle": "2024-07-29T02:09:32.990011Z",
     "shell.execute_reply": "2024-07-29T02:09:32.988895Z"
    },
    "papermill": {
     "duration": 0.37686,
     "end_time": "2024-07-29T02:09:32.992705",
     "exception": false,
     "start_time": "2024-07-29T02:09:32.615845",
     "status": "completed"
    },
    "tags": []
   },
   "outputs": [
    {
     "data": {
      "text/plain": [
       "(array([  1.,   2.,   0.,   1.,   5.,   3.,  11.,   6.,  13.,  10.,  25.,\n",
       "         40.,  40.,  77.,  63., 101., 127., 171., 184., 220., 227., 267.,\n",
       "        312., 301., 356., 367., 376., 360., 370., 331., 298., 278., 292.,\n",
       "        242., 191., 167., 137., 104.,  85.,  77.,  41.,  30.,  28.,  20.,\n",
       "         11.,   7.,  11.,   5.,   2.,   7.]),\n",
       " array([-3.76367092, -3.62009715, -3.47652338, -3.33294961, -3.18937584,\n",
       "        -3.04580207, -2.9022283 , -2.75865453, -2.61508076, -2.47150699,\n",
       "        -2.32793322, -2.18435945, -2.04078568, -1.8972119 , -1.75363813,\n",
       "        -1.61006436, -1.46649059, -1.32291682, -1.17934305, -1.03576928,\n",
       "        -0.89219551, -0.74862174, -0.60504797, -0.4614742 , -0.31790043,\n",
       "        -0.17432666, -0.03075289,  0.11282088,  0.25639465,  0.39996842,\n",
       "         0.54354219,  0.68711596,  0.83068974,  0.97426351,  1.11783728,\n",
       "         1.26141105,  1.40498482,  1.54855859,  1.69213236,  1.83570613,\n",
       "         1.9792799 ,  2.12285367,  2.26642744,  2.41000121,  2.55357498,\n",
       "         2.69714875,  2.84072252,  2.98429629,  3.12787006,  3.27144383,\n",
       "         3.4150176 ]),\n",
       " <BarContainer object of 50 artists>)"
      ]
     },
     "execution_count": 9,
     "metadata": {},
     "output_type": "execute_result"
    },
    {
     "data": {
      "image/png": "[encoded data removed]",
      "text/plain": [
       "<Figure size 640x480 with 1 Axes>"
      ]
     },
     "metadata": {},
     "output_type": "display_data"
    }
   ],
   "source": [
    "plt.hist(hpreact.view(-1).tolist(), 50)"
   ]
  },
  {
   "cell_type": "code",
   "execution_count": 10,
   "id": "94a49e95",
   "metadata": {
    "execution": {
     "iopub.execute_input": "2024-07-29T02:09:33.016880Z",
     "iopub.status.busy": "2024-07-29T02:09:33.016480Z",
     "iopub.status.idle": "2024-07-29T02:09:33.376932Z",
     "shell.execute_reply": "2024-07-29T02:09:33.375587Z"
    },
    "papermill": {
     "duration": 0.375843,
     "end_time": "2024-07-29T02:09:33.379693",
     "exception": false,
     "start_time": "2024-07-29T02:09:33.003850",
     "status": "completed"
    },
    "tags": []
   },
   "outputs": [
    {
     "data": {
      "text/plain": [
       "<matplotlib.image.AxesImage at 0x7e2e1f796bf0>"
      ]
     },
     "execution_count": 10,
     "metadata": {},
     "output_type": "execute_result"
    },
    {
     "data": {
      "image/png": "[encoded data removed]",
      "text/plain": [
       "<Figure size 2000x1000 with 1 Axes>"
      ]
     },
     "metadata": {},
     "output_type": "display_data"
    }
   ],
   "source": [
    "plt.figure(figsize=(20,10))\n",
    "# we check how often of abs(h) in the flat region\n",
    "# h.abs()>0.99 is a boolean tensor, white is True, Black is false\n",
    "plt.imshow(h.abs()>0.99, cmap='gray', interpolation='nearest')"
   ]
  },
  {
   "cell_type": "markdown",
   "id": "0f539ad8",
   "metadata": {
    "papermill": {
     "duration": 0.011697,
     "end_time": "2024-07-29T02:09:33.403072",
     "exception": false,
     "start_time": "2024-07-29T02:09:33.391375",
     "status": "completed"
    },
    "tags": []
   },
   "source": [
    "# Let's finish the entire training process\n",
    "\n"
   ]
  },
  {
   "cell_type": "code",
   "execution_count": 11,
   "id": "97f978d4",
   "metadata": {
    "execution": {
     "iopub.execute_input": "2024-07-29T02:09:33.428749Z",
     "iopub.status.busy": "2024-07-29T02:09:33.427703Z",
     "iopub.status.idle": "2024-07-29T02:12:26.300463Z",
     "shell.execute_reply": "2024-07-29T02:12:26.299373Z"
    },
    "papermill": {
     "duration": 172.888937,
     "end_time": "2024-07-29T02:12:26.303519",
     "exception": false,
     "start_time": "2024-07-29T02:09:33.414582",
     "status": "completed"
    },
    "tags": []
   },
   "outputs": [
    {
     "name": "stdout",
     "output_type": "stream",
     "text": [
      "11897\n",
      "      0/ 200000: 3.3135\n",
      "  10000/ 200000: 2.1648\n",
      "  20000/ 200000: 2.3061\n",
      "  30000/ 200000: 2.4541\n",
      "  40000/ 200000: 1.9787\n",
      "  50000/ 200000: 2.2930\n",
      "  60000/ 200000: 2.4232\n",
      "  70000/ 200000: 2.0680\n",
      "  80000/ 200000: 2.3095\n",
      "  90000/ 200000: 2.1207\n",
      " 100000/ 200000: 1.8269\n",
      " 110000/ 200000: 2.2045\n",
      " 120000/ 200000: 1.9797\n",
      " 130000/ 200000: 2.3946\n",
      " 140000/ 200000: 2.1000\n",
      " 150000/ 200000: 2.1948\n",
      " 160000/ 200000: 1.8619\n",
      " 170000/ 200000: 1.7809\n",
      " 180000/ 200000: 1.9673\n",
      " 190000/ 200000: 1.8295\n"
     ]
    }
   ],
   "source": [
    "# MLP\n",
    "\n",
    "n_embd=10 # the dimensionality of the character embedding vectors\n",
    "n_hidden=200 # the number of neurons in the hidden layer of the MLP\n",
    "max_steps=200000\n",
    "batch_size=32\n",
    "lossi=[]\n",
    "writer=SummaryWriter()\n",
    "\n",
    "g=torch.Generator().manual_seed(2147483647) # for reproducibility\n",
    "C=torch.randn((vocab_size, n_embd),           generator=g)\n",
    "W1=torch.randn((n_embd*block_size, n_hidden), generator=g) * 0.2\n",
    "b1=torch.randn(n_hidden,                      generator=g) * 0.01\n",
    "W2=torch.randn((n_hidden, vocab_size),        generator=g) * 0.01\n",
    "b2=torch.randn(vocab_size,                    generator=g) * 0\n",
    "\n",
    "parameters=[C, W1, b1, W2, b2]\n",
    "print(sum(p.nelement() for p in parameters)) # number of parameters in total\n",
    "for p in parameters:\n",
    "    p.requires_grad=True\n",
    "    \n",
    "\n",
    "for i in range(max_steps):\n",
    "    # minibatch construct\n",
    "    ix=torch.randint(0, Xtr.shape[0], (batch_size,), generator=g)\n",
    "    Xb,Yb=Xtr[ix], Ytr[ix] # batch X,Y\n",
    "    \n",
    "    # forward pass\n",
    "    emb=C[Xb] # embed the characters into vectors\n",
    "    embcat=emb.view(emb.shape[0], -1) # concatenate the vectors\n",
    "    hpreact=embcat@W1+b1 # hidden layer pre-activation\n",
    "    \n",
    "    # If all of these outputs h are in the flat regions of -1 and 1, \n",
    "    # then the gradients that are flowing through the network will just get\n",
    "    # destroyed at this layer.\n",
    "    h=torch.tanh(hpreact) # hidden layer\n",
    "\n",
    "    logits=h@W2+b2 # output layer\n",
    "    loss=F.cross_entropy(logits, Yb) # loss function\n",
    "    writer.add_scalar(\"Loss/train\", loss, i)\n",
    "    \n",
    "    # backward pass\n",
    "    for p in parameters:\n",
    "        p.grad=None\n",
    "    loss.backward()\n",
    "    \n",
    "    # update\n",
    "    lr=0.1 if i< 100000 else 0.01 # step learning rate decay\n",
    "    for p in parameters:\n",
    "        p.data+=-lr*p.grad\n",
    "    \n",
    "    # track stats\n",
    "    if i%10000 ==0:\n",
    "        print(f'{i:7d}/{max_steps:7d}: {loss.item():.4f}')\n",
    "    lossi.append(loss.log10().item())\n",
    "    \n",
    "\n",
    "writer.flush()\n",
    "writer.close()"
   ]
  },
  {
   "cell_type": "code",
   "execution_count": 12,
   "id": "8c845ab1",
   "metadata": {
    "execution": {
     "iopub.execute_input": "2024-07-29T02:12:26.332643Z",
     "iopub.status.busy": "2024-07-29T02:12:26.332222Z",
     "iopub.status.idle": "2024-07-29T02:12:27.472323Z",
     "shell.execute_reply": "2024-07-29T02:12:27.471127Z"
    },
    "papermill": {
     "duration": 1.157498,
     "end_time": "2024-07-29T02:12:27.474968",
     "exception": false,
     "start_time": "2024-07-29T02:12:26.317470",
     "status": "completed"
    },
    "tags": []
   },
   "outputs": [
    {
     "data": {
      "text/plain": [
       "[<matplotlib.lines.Line2D at 0x7e2e2035feb0>]"
      ]
     },
     "execution_count": 12,
     "metadata": {},
     "output_type": "execute_result"
    },
    {
     "data": {
      "image/png": "[encoded data removed]",
      "text/plain": [
       "<Figure size 640x480 with 1 Axes>"
      ]
     },
     "metadata": {},
     "output_type": "display_data"
    }
   ],
   "source": [
    "plt.plot(lossi)"
   ]
  },
  {
   "cell_type": "code",
   "execution_count": 13,
   "id": "406faa81",
   "metadata": {
    "execution": {
     "iopub.execute_input": "2024-07-29T02:12:27.507080Z",
     "iopub.status.busy": "2024-07-29T02:12:27.506538Z",
     "iopub.status.idle": "2024-07-29T02:12:27.932501Z",
     "shell.execute_reply": "2024-07-29T02:12:27.931377Z"
    },
    "papermill": {
     "duration": 0.445255,
     "end_time": "2024-07-29T02:12:27.935538",
     "exception": false,
     "start_time": "2024-07-29T02:12:27.490283",
     "status": "completed"
    },
    "tags": []
   },
   "outputs": [
    {
     "name": "stdout",
     "output_type": "stream",
     "text": [
      "train 2.0355966091156006\n",
      "val 2.1026785373687744\n"
     ]
    }
   ],
   "source": [
    "@torch.no_grad()\n",
    "def split_loss(split):\n",
    "    x,y={\n",
    "        'train': (Xtr, Ytr),\n",
    "        'val': (Xdev, Ydev),\n",
    "        'test': (Xte, Yte),\n",
    "    }[split]\n",
    "    emb=C[x] # (N, block_size, n_embd)\n",
    "    embcat=emb.view(emb.shape[0], -1) # concat into (N, block_size * n_embd)\n",
    "    h=torch.tanh(embcat @W1+b1) # (N, n_hidden)\n",
    "    logits=h@W2+b2 #(N, vocab_size)\n",
    "    loss=F.cross_entropy(logits, y)\n",
    "    print(split, loss.item())\n",
    "\n",
    "split_loss('train')\n",
    "split_loss('val')"
   ]
  },
  {
   "cell_type": "markdown",
   "id": "685fd840",
   "metadata": {
    "papermill": {
     "duration": 0.014797,
     "end_time": "2024-07-29T02:12:27.964644",
     "exception": false,
     "start_time": "2024-07-29T02:12:27.949847",
     "status": "completed"
    },
    "tags": []
   },
   "source": [
    "# Sample from our model"
   ]
  },
  {
   "cell_type": "code",
   "execution_count": 14,
   "id": "c6009028",
   "metadata": {
    "execution": {
     "iopub.execute_input": "2024-07-29T02:12:27.997066Z",
     "iopub.status.busy": "2024-07-29T02:12:27.995682Z",
     "iopub.status.idle": "2024-07-29T02:12:28.049695Z",
     "shell.execute_reply": "2024-07-29T02:12:28.048156Z"
    },
    "papermill": {
     "duration": 0.074088,
     "end_time": "2024-07-29T02:12:28.052901",
     "exception": false,
     "start_time": "2024-07-29T02:12:27.978813",
     "status": "completed"
    },
    "tags": []
   },
   "outputs": [
    {
     "name": "stdout",
     "output_type": "stream",
     "text": [
      "mora.\n",
      "mayah.\n",
      "see.\n",
      "mad.\n",
      "ryll.\n",
      "renvestendraegusteredielin.\n",
      "shi.\n",
      "jen.\n",
      "edeiseananar.\n",
      "kayzion.\n",
      "kamin.\n",
      "shubergianaiya.\n",
      "kinde.\n",
      "jennex.\n",
      "teron.\n",
      "ububynder.\n",
      "yarue.\n",
      "els.\n",
      "kayshaykella.\n",
      "hal.\n"
     ]
    }
   ],
   "source": [
    "g=torch.Generator().manual_seed(2147483647+10)\n",
    "\n",
    "for _ in range(20):\n",
    "    out=[]\n",
    "    context=[0]*block_size # initialize with all ...\n",
    "    while True:\n",
    "        # forward pass the neural net\n",
    "        emb=C[torch.tensor([context])] # (1, block_size, n_embd)\n",
    "        h=torch.tanh(emb.view(1,-1) @ W1+b1)\n",
    "        logits=h@W2+b2\n",
    "        probs=F.softmax(logits, dim=1)\n",
    "        # sample from the distribution\n",
    "        ix=torch.multinomial(probs, num_samples=1, generator=g).item()\n",
    "        # shift the context window and track the samples\n",
    "        context=context[1:]+[ix]\n",
    "        out.append(ix)\n",
    "        if ix==0:\n",
    "            break\n",
    "    print(''.join(itos[i] for i in out)) # decode the print and the generated word"
   ]
  },
  {
   "cell_type": "markdown",
   "id": "cb3ba698",
   "metadata": {
    "papermill": {
     "duration": 0.015093,
     "end_time": "2024-07-29T02:12:28.082910",
     "exception": false,
     "start_time": "2024-07-29T02:12:28.067817",
     "status": "completed"
    },
    "tags": []
   },
   "source": [
    "# Conclusion\n",
    "\n",
    "We can see we get better result with a better initialization."
   ]
  },
  {
   "cell_type": "markdown",
   "id": "4002971e",
   "metadata": {
    "papermill": {
     "duration": 0.014753,
     "end_time": "2024-07-29T02:12:28.113762",
     "exception": false,
     "start_time": "2024-07-29T02:12:28.099009",
     "status": "completed"
    },
    "tags": []
   },
   "source": [
    "# Acknowledgement\n",
    "\n",
    "* https://www.youtube.com/watch?v=P6sfmUTpUmc&t=41s\n",
    "* https://www.kaggle.com/code/aisuko/character-lm-without-framework/notebook"
   ]
  }
 ],
 "metadata": {
  "kaggle": {
   "accelerator": "none",
   "dataSources": [
    {
     "sourceId": 187064505,
     "sourceType": "kernelVersion"
    }
   ],
   "dockerImageVersionId": 30746,
   "isGpuEnabled": false,
   "isInternetEnabled": true,
   "language": "python",
   "sourceType": "notebook"
  },
  "kernelspec": {
   "display_name": "Python 3",
   "language": "python",
   "name": "python3"
  },
  "language_info": {
   "codemirror_mode": {
    "name": "ipython",
    "version": 3
   },
   "file_extension": ".py",
   "mimetype": "text/x-python",
   "name": "python",
   "nbconvert_exporter": "python",
   "pygments_lexer": "ipython3",
   "version": "3.10.13"
  },
  "papermill": {
   "default_parameters": {},
   "duration": 205.302886,
   "end_time": "2024-07-29T02:12:30.634597",
   "environment_variables": {},
   "exception": null,
   "input_path": "__notebook__.ipynb",
   "output_path": "__notebook__.ipynb",
   "parameters": {},
   "start_time": "2024-07-29T02:09:05.331711",
   "version": "2.5.0"
  }
 },
 "nbformat": 4,
 "nbformat_minor": 5
}
