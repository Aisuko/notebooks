{
 "cells": [
  {
   "cell_type": "markdown",
   "id": "2892d691",
   "metadata": {
    "_cell_guid": "b1076dfc-b9ad-4769-8c92-a6c4dae69d19",
    "_uuid": "8f2839f25d086af736a60e9eeb907d3b93b6e0e5",
    "papermill": {
     "duration": 0.006382,
     "end_time": "2024-07-27T01:05:54.946924",
     "exception": false,
     "start_time": "2024-07-27T01:05:54.940542",
     "status": "completed"
    },
    "tags": []
   },
   "source": [
    "# Overview\n",
    "\n",
    "In notebook [GPT from scratch basic](https://www.kaggle.com/code/aisuko/gpt-from-scratch-basic) we build the neural net and training process with notebook style. Let's convert the code to a script.\n",
    "\n",
    "# Import dependencies"
   ]
  },
  {
   "cell_type": "code",
   "execution_count": 1,
   "id": "4195436f",
   "metadata": {
    "execution": {
     "iopub.execute_input": "2024-07-27T01:05:54.960500Z",
     "iopub.status.busy": "2024-07-27T01:05:54.959679Z",
     "iopub.status.idle": "2024-07-27T01:06:11.172540Z",
     "shell.execute_reply": "2024-07-27T01:06:11.171562Z"
    },
    "papermill": {
     "duration": 16.222442,
     "end_time": "2024-07-27T01:06:11.175088",
     "exception": false,
     "start_time": "2024-07-27T01:05:54.952646",
     "status": "completed"
    },
    "tags": []
   },
   "outputs": [
    {
     "name": "stderr",
     "output_type": "stream",
     "text": [
      "2024-07-27 01:06:00.873986: E external/local_xla/xla/stream_executor/cuda/cuda_dnn.cc:9261] Unable to register cuDNN factory: Attempting to register factory for plugin cuDNN when one has already been registered\n",
      "2024-07-27 01:06:00.874104: E external/local_xla/xla/stream_executor/cuda/cuda_fft.cc:607] Unable to register cuFFT factory: Attempting to register factory for plugin cuFFT when one has already been registered\n",
      "2024-07-27 01:06:01.005389: E external/local_xla/xla/stream_executor/cuda/cuda_blas.cc:1515] Unable to register cuBLAS factory: Attempting to register factory for plugin cuBLAS when one has already been registered\n"
     ]
    }
   ],
   "source": [
    "import torch\n",
    "import torch.nn as nn\n",
    "from torch.nn import functional as F\n",
    "from tensorboard import notebook\n",
    "from torch.utils.tensorboard import SummaryWriter\n",
    "\n",
    "%load_ext tensorboard"
   ]
  },
  {
   "cell_type": "markdown",
   "id": "31d18472",
   "metadata": {
    "papermill": {
     "duration": 0.005734,
     "end_time": "2024-07-27T01:06:11.186870",
     "exception": false,
     "start_time": "2024-07-27T01:06:11.181136",
     "status": "completed"
    },
    "tags": []
   },
   "source": [
    "# Download training data"
   ]
  },
  {
   "cell_type": "code",
   "execution_count": 2,
   "id": "ff534e6f",
   "metadata": {
    "execution": {
     "iopub.execute_input": "2024-07-27T01:06:11.200284Z",
     "iopub.status.busy": "2024-07-27T01:06:11.199275Z",
     "iopub.status.idle": "2024-07-27T01:06:11.218500Z",
     "shell.execute_reply": "2024-07-27T01:06:11.217397Z"
    },
    "papermill": {
     "duration": 0.027945,
     "end_time": "2024-07-27T01:06:11.220490",
     "exception": false,
     "start_time": "2024-07-27T01:06:11.192545",
     "status": "completed"
    },
    "tags": []
   },
   "outputs": [
    {
     "name": "stdout",
     "output_type": "stream",
     "text": [
      "1115394\n"
     ]
    }
   ],
   "source": [
    "with open('/kaggle/input/gpt-from-scratch-basic/input.txt', 'r', encoding='utf-8') as f:\n",
    "    text=f.read()\n",
    "\n",
    "print(len(text))"
   ]
  },
  {
   "cell_type": "markdown",
   "id": "a09bbfce",
   "metadata": {
    "papermill": {
     "duration": 0.005749,
     "end_time": "2024-07-27T01:06:11.232178",
     "exception": false,
     "start_time": "2024-07-27T01:06:11.226429",
     "status": "completed"
    },
    "tags": []
   },
   "source": [
    "# Define hyperparameters"
   ]
  },
  {
   "cell_type": "code",
   "execution_count": 3,
   "id": "0c494297",
   "metadata": {
    "execution": {
     "iopub.execute_input": "2024-07-27T01:06:11.245767Z",
     "iopub.status.busy": "2024-07-27T01:06:11.244986Z",
     "iopub.status.idle": "2024-07-27T01:06:11.313006Z",
     "shell.execute_reply": "2024-07-27T01:06:11.312062Z"
    },
    "papermill": {
     "duration": 0.076874,
     "end_time": "2024-07-27T01:06:11.315011",
     "exception": false,
     "start_time": "2024-07-27T01:06:11.238137",
     "status": "completed"
    },
    "tags": []
   },
   "outputs": [
    {
     "data": {
      "text/plain": [
       "<torch._C.Generator at 0x7c325eedf310>"
      ]
     },
     "execution_count": 3,
     "metadata": {},
     "output_type": "execute_result"
    }
   ],
   "source": [
    "batch_size=32 # how many independent sequences will we process in parallel?\n",
    "block_size=8 # whay is the maximum contetx length for predictions?\n",
    "max_iters=3000\n",
    "eval_interval=300\n",
    "learning_rate=1e-2\n",
    "device='cuda' if torch.cuda.is_available() else 'cpu'\n",
    "eval_iters=200\n",
    "writer=SummaryWriter()\n",
    "\n",
    "torch.manual_seed(1337)"
   ]
  },
  {
   "cell_type": "markdown",
   "id": "46578141",
   "metadata": {
    "papermill": {
     "duration": 0.005942,
     "end_time": "2024-07-27T01:06:11.327495",
     "exception": false,
     "start_time": "2024-07-27T01:06:11.321553",
     "status": "completed"
    },
    "tags": []
   },
   "source": [
    "# Build vocabulary"
   ]
  },
  {
   "cell_type": "code",
   "execution_count": 4,
   "id": "fbf82022",
   "metadata": {
    "execution": {
     "iopub.execute_input": "2024-07-27T01:06:11.340703Z",
     "iopub.status.busy": "2024-07-27T01:06:11.340332Z",
     "iopub.status.idle": "2024-07-27T01:06:11.365726Z",
     "shell.execute_reply": "2024-07-27T01:06:11.364851Z"
    },
    "papermill": {
     "duration": 0.034185,
     "end_time": "2024-07-27T01:06:11.367596",
     "exception": false,
     "start_time": "2024-07-27T01:06:11.333411",
     "status": "completed"
    },
    "tags": []
   },
   "outputs": [],
   "source": [
    "# here are all the unique characters that occur in this text\n",
    "chars=sorted(list(set(text)))\n",
    "vocab_size=len(chars)\n",
    "\n",
    "# create a mapping form characters to integers\n",
    "stoi={ch:i for i,ch in enumerate(chars)}\n",
    "itos={i:ch for i,ch in enumerate(chars)}\n",
    "encode=lambda s: [stoi[c] for c in s] # take a string, output a list of integers\n",
    "decode=lambda l: ''.join([itos[i] for i in l]) # decoder: take a list of integers, output a string"
   ]
  },
  {
   "cell_type": "markdown",
   "id": "f2bf66a0",
   "metadata": {
    "papermill": {
     "duration": 0.005803,
     "end_time": "2024-07-27T01:06:11.379682",
     "exception": false,
     "start_time": "2024-07-27T01:06:11.373879",
     "status": "completed"
    },
    "tags": []
   },
   "source": [
    "# Train and test split"
   ]
  },
  {
   "cell_type": "code",
   "execution_count": 5,
   "id": "a2d8d9da",
   "metadata": {
    "execution": {
     "iopub.execute_input": "2024-07-27T01:06:11.392974Z",
     "iopub.status.busy": "2024-07-27T01:06:11.392648Z",
     "iopub.status.idle": "2024-07-27T01:06:11.659353Z",
     "shell.execute_reply": "2024-07-27T01:06:11.658555Z"
    },
    "papermill": {
     "duration": 0.275993,
     "end_time": "2024-07-27T01:06:11.661627",
     "exception": false,
     "start_time": "2024-07-27T01:06:11.385634",
     "status": "completed"
    },
    "tags": []
   },
   "outputs": [],
   "source": [
    "data=torch.tensor(encode(text), dtype=torch.long)\n",
    "n=int(0.9*len(data))\n",
    "train_data=data[:n]\n",
    "val_data=data[n:]"
   ]
  },
  {
   "cell_type": "markdown",
   "id": "2a8b1a5c",
   "metadata": {
    "papermill": {
     "duration": 0.005765,
     "end_time": "2024-07-27T01:06:11.673599",
     "exception": false,
     "start_time": "2024-07-27T01:06:11.667834",
     "status": "completed"
    },
    "tags": []
   },
   "source": [
    "# Get batch"
   ]
  },
  {
   "cell_type": "code",
   "execution_count": 6,
   "id": "1606406d",
   "metadata": {
    "execution": {
     "iopub.execute_input": "2024-07-27T01:06:11.687566Z",
     "iopub.status.busy": "2024-07-27T01:06:11.687208Z",
     "iopub.status.idle": "2024-07-27T01:06:11.695557Z",
     "shell.execute_reply": "2024-07-27T01:06:11.694632Z"
    },
    "papermill": {
     "duration": 0.017343,
     "end_time": "2024-07-27T01:06:11.697600",
     "exception": false,
     "start_time": "2024-07-27T01:06:11.680257",
     "status": "completed"
    },
    "tags": []
   },
   "outputs": [],
   "source": [
    "def get_batch(split):\n",
    "    # generate a small batch of data of inputs x and targets y\n",
    "    data=train_data if split=='train' else val_data\n",
    "    ix=torch.randint(len(data)-block_size, (batch_size,))\n",
    "    x=torch.stack([data[i:i+block_size] for i in ix])\n",
    "    y=torch.stack([data[i+1:i+block_size+1] for i in ix])\n",
    "    x,y =x.to(device), y.to(device)\n",
    "    return x,y\n",
    "\n",
    "@torch.no_grad()\n",
    "def estimate_loss():\n",
    "    out={}\n",
    "    model.eval()\n",
    "    for split in ['train', 'val']:\n",
    "        losses=torch.zeros(eval_iters)\n",
    "        for k in range(eval_iters):\n",
    "            X,Y=get_batch(split)\n",
    "            logits, loss=model(X,Y)\n",
    "            losses[k]=loss.item()\n",
    "        out[split]=losses.mean()\n",
    "    model.train()\n",
    "    return out"
   ]
  },
  {
   "cell_type": "markdown",
   "id": "d74738fc",
   "metadata": {
    "papermill": {
     "duration": 0.005692,
     "end_time": "2024-07-27T01:06:11.709284",
     "exception": false,
     "start_time": "2024-07-27T01:06:11.703592",
     "status": "completed"
    },
    "tags": []
   },
   "source": [
    "# Define the model"
   ]
  },
  {
   "cell_type": "code",
   "execution_count": 7,
   "id": "39f4055c",
   "metadata": {
    "execution": {
     "iopub.execute_input": "2024-07-27T01:06:11.722901Z",
     "iopub.status.busy": "2024-07-27T01:06:11.722205Z",
     "iopub.status.idle": "2024-07-27T01:06:11.731249Z",
     "shell.execute_reply": "2024-07-27T01:06:11.730508Z"
    },
    "papermill": {
     "duration": 0.018032,
     "end_time": "2024-07-27T01:06:11.733209",
     "exception": false,
     "start_time": "2024-07-27T01:06:11.715177",
     "status": "completed"
    },
    "tags": []
   },
   "outputs": [],
   "source": [
    "class BigramLanguageModel(nn.Module):\n",
    "    def __init__(self, vocab_size):\n",
    "        super().__init__()\n",
    "        # each token directly reads off the logits for the next token from the lookup table\n",
    "        self.token_embedding_table=nn.Embedding(vocab_size, vocab_size)\n",
    "        \n",
    "    def forward(self, idx, targets=None):\n",
    "        # idx and targets are both(B,T) tensors of integers\n",
    "        logits=self.token_embedding_table(idx) # (B,T,C)\n",
    "        \n",
    "        if targets is None:\n",
    "            loss=None\n",
    "        else:\n",
    "            B,T,C=logits.shape\n",
    "            logits=logits.view(B*T,C)\n",
    "            targets=targets.view(B*T) # -1 it also ok\n",
    "            loss=F.cross_entropy(logits, targets)\n",
    "        return logits, loss\n",
    "    \n",
    "    def generate(self, idx, max_new_tokens):\n",
    "        # idx is (B,T) array of indices in the current context\n",
    "        for _ in range(max_new_tokens):\n",
    "            # get the predictions\n",
    "            logits, loss=self(idx)\n",
    "            # focus only on the last time step\n",
    "            logits=logits[:,-1,:] # becomes (B,C)\n",
    "            # apply softmax to get probabilities\n",
    "            probs=F.softmax(logits, dim=-1) # (B,C)\n",
    "            # sample from the distribution\n",
    "            idx_next=torch.multinomial(probs, num_samples=1) #(B,1)\n",
    "            # append sampled index to the running sequence\n",
    "            idx=torch.cat((idx, idx_next), dim=1) # (B, T+1)\n",
    "        return idx"
   ]
  },
  {
   "cell_type": "code",
   "execution_count": 8,
   "id": "f54c9e65",
   "metadata": {
    "execution": {
     "iopub.execute_input": "2024-07-27T01:06:11.746281Z",
     "iopub.status.busy": "2024-07-27T01:06:11.745966Z",
     "iopub.status.idle": "2024-07-27T01:06:13.262440Z",
     "shell.execute_reply": "2024-07-27T01:06:13.261467Z"
    },
    "papermill": {
     "duration": 1.525873,
     "end_time": "2024-07-27T01:06:13.265035",
     "exception": false,
     "start_time": "2024-07-27T01:06:11.739162",
     "status": "completed"
    },
    "tags": []
   },
   "outputs": [],
   "source": [
    "model=BigramLanguageModel(vocab_size)\n",
    "m=model.to(device)\n",
    "\n",
    "optimizer=torch.optim.AdamW(model.parameters(), lr=learning_rate)"
   ]
  },
  {
   "cell_type": "markdown",
   "id": "0ba2fd7b",
   "metadata": {
    "papermill": {
     "duration": 0.005869,
     "end_time": "2024-07-27T01:06:13.277256",
     "exception": false,
     "start_time": "2024-07-27T01:06:13.271387",
     "status": "completed"
    },
    "tags": []
   },
   "source": [
    "# Training"
   ]
  },
  {
   "cell_type": "code",
   "execution_count": 9,
   "id": "c59d8b04",
   "metadata": {
    "execution": {
     "iopub.execute_input": "2024-07-27T01:06:13.290673Z",
     "iopub.status.busy": "2024-07-27T01:06:13.290310Z",
     "iopub.status.idle": "2024-07-27T01:06:23.735061Z",
     "shell.execute_reply": "2024-07-27T01:06:23.734023Z"
    },
    "papermill": {
     "duration": 10.454198,
     "end_time": "2024-07-27T01:06:23.737539",
     "exception": false,
     "start_time": "2024-07-27T01:06:13.283341",
     "status": "completed"
    },
    "tags": []
   },
   "outputs": [
    {
     "name": "stdout",
     "output_type": "stream",
     "text": [
      "step 0: train loss 4.7305, val loss 4.7241\n",
      "step 300: train loss 2.8110, val loss 2.8249\n",
      "step 600: train loss 2.5434, val loss 2.5682\n",
      "step 900: train loss 2.4932, val loss 2.5088\n",
      "step 1200: train loss 2.4863, val loss 2.5035\n",
      "step 1500: train loss 2.4665, val loss 2.4921\n",
      "step 1800: train loss 2.4683, val loss 2.4936\n",
      "step 2100: train loss 2.4696, val loss 2.4846\n",
      "step 2400: train loss 2.4638, val loss 2.4879\n",
      "step 2700: train loss 2.4738, val loss 2.4911\n"
     ]
    }
   ],
   "source": [
    "for iter in range(max_iters):\n",
    "    # every once in a while evelate the loss on train and val sets\n",
    "    if iter % eval_interval==0:\n",
    "        losses=estimate_loss()\n",
    "        print(f\"step {iter}: train loss {losses['train']:.4f}, val loss {losses['val']:.4f}\")\n",
    "        writer.add_scalars('loss', losses, iter)\n",
    "        \n",
    "    # sample a batch of data\n",
    "    xb, yb=get_batch('train')\n",
    "    \n",
    "    # evaluate the loss\n",
    "    logits, loss=model(xb, yb)\n",
    "    optimizer.zero_grad(set_to_none=True)\n",
    "    loss.backward()\n",
    "    optimizer.step()\n",
    "writer.flush()\n",
    "writer.close()"
   ]
  },
  {
   "cell_type": "markdown",
   "id": "452cb03b",
   "metadata": {
    "papermill": {
     "duration": 0.006589,
     "end_time": "2024-07-27T01:06:23.751133",
     "exception": false,
     "start_time": "2024-07-27T01:06:23.744544",
     "status": "completed"
    },
    "tags": []
   },
   "source": [
    "# Generate from the model"
   ]
  },
  {
   "cell_type": "code",
   "execution_count": 10,
   "id": "4a0e588e",
   "metadata": {
    "_kg_hide-output": true,
    "execution": {
     "iopub.execute_input": "2024-07-27T01:06:23.767098Z",
     "iopub.status.busy": "2024-07-27T01:06:23.766239Z",
     "iopub.status.idle": "2024-07-27T01:06:30.287240Z",
     "shell.execute_reply": "2024-07-27T01:06:30.286382Z"
    },
    "papermill": {
     "duration": 6.530992,
     "end_time": "2024-07-27T01:06:30.289233",
     "exception": false,
     "start_time": "2024-07-27T01:06:23.758241",
     "status": "completed"
    },
    "tags": []
   },
   "outputs": [
    {
     "data": {
      "text/html": [
       "\n",
       "      <iframe id=\"tensorboard-frame-2881b328ba65e02a\" width=\"100%\" height=\"800\" frameborder=\"0\">\n",
       "      </iframe>\n",
       "      <script>\n",
       "        (function() {\n",
       "          const frame = document.getElementById(\"tensorboard-frame-2881b328ba65e02a\");\n",
       "          const url = new URL(\"/\", window.location);\n",
       "          const port = 6006;\n",
       "          if (port) {\n",
       "            url.port = port;\n",
       "          }\n",
       "          frame.src = url;\n",
       "        })();\n",
       "      </script>\n",
       "    "
      ],
      "text/plain": [
       "<IPython.core.display.HTML object>"
      ]
     },
     "metadata": {},
     "output_type": "display_data"
    }
   ],
   "source": [
    "%tensorboard --logdir log"
   ]
  },
  {
   "cell_type": "code",
   "execution_count": 11,
   "id": "86ed8050",
   "metadata": {
    "execution": {
     "iopub.execute_input": "2024-07-27T01:06:30.305684Z",
     "iopub.status.busy": "2024-07-27T01:06:30.304991Z",
     "iopub.status.idle": "2024-07-27T01:06:30.310174Z",
     "shell.execute_reply": "2024-07-27T01:06:30.309281Z"
    },
    "papermill": {
     "duration": 0.015664,
     "end_time": "2024-07-27T01:06:30.312217",
     "exception": false,
     "start_time": "2024-07-27T01:06:30.296553",
     "status": "completed"
    },
    "tags": []
   },
   "outputs": [
    {
     "name": "stdout",
     "output_type": "stream",
     "text": [
      "Known TensorBoard instances:\n",
      "  - port 6006: logdir log (started 0:00:00 ago; pid 62)\n"
     ]
    }
   ],
   "source": [
    "notebook.list()"
   ]
  },
  {
   "cell_type": "code",
   "execution_count": 12,
   "id": "5ad564f1",
   "metadata": {
    "_kg_hide-output": true,
    "execution": {
     "iopub.execute_input": "2024-07-27T01:06:30.328023Z",
     "iopub.status.busy": "2024-07-27T01:06:30.327249Z",
     "iopub.status.idle": "2024-07-27T01:06:30.334468Z",
     "shell.execute_reply": "2024-07-27T01:06:30.333624Z"
    },
    "papermill": {
     "duration": 0.016941,
     "end_time": "2024-07-27T01:06:30.336216",
     "exception": false,
     "start_time": "2024-07-27T01:06:30.319275",
     "status": "completed"
    },
    "tags": []
   },
   "outputs": [
    {
     "name": "stdout",
     "output_type": "stream",
     "text": [
      "Selecting TensorBoard with logdir log (started 0:00:00 ago; port 6006, pid 62).\n"
     ]
    },
    {
     "data": {
      "text/html": [
       "\n",
       "      <iframe id=\"tensorboard-frame-6bd73b535e069c97\" width=\"100%\" height=\"1000\" frameborder=\"0\">\n",
       "      </iframe>\n",
       "      <script>\n",
       "        (function() {\n",
       "          const frame = document.getElementById(\"tensorboard-frame-6bd73b535e069c97\");\n",
       "          const url = new URL(\"/\", window.location);\n",
       "          const port = 6006;\n",
       "          if (port) {\n",
       "            url.port = port;\n",
       "          }\n",
       "          frame.src = url;\n",
       "        })();\n",
       "      </script>\n",
       "    "
      ],
      "text/plain": [
       "<IPython.core.display.HTML object>"
      ]
     },
     "metadata": {},
     "output_type": "display_data"
    }
   ],
   "source": [
    "notebook.display(port=6006, height=1000)"
   ]
  },
  {
   "cell_type": "code",
   "execution_count": 13,
   "id": "8a0cd945",
   "metadata": {
    "execution": {
     "iopub.execute_input": "2024-07-27T01:06:30.352123Z",
     "iopub.status.busy": "2024-07-27T01:06:30.351430Z",
     "iopub.status.idle": "2024-07-27T01:06:30.678621Z",
     "shell.execute_reply": "2024-07-27T01:06:30.677585Z"
    },
    "papermill": {
     "duration": 0.337505,
     "end_time": "2024-07-27T01:06:30.680905",
     "exception": false,
     "start_time": "2024-07-27T01:06:30.343400",
     "status": "completed"
    },
    "tags": []
   },
   "outputs": [
    {
     "name": "stdout",
     "output_type": "stream",
     "text": [
      "\n",
      "\n",
      "\n",
      "CEThik brid owindakis b, bth\n",
      "\n",
      "HAPet bobe d e.\n",
      "S:\n",
      "O:3 my d?\n",
      "LUCous:\n",
      "Wanthar u qur, t.\n",
      "War dXENDoate awice my.\n",
      "\n",
      "Hastarom oroup\n",
      "Yowhthetof isth ble mil ndill, ath iree sengmin lat Heriliovets, and Win nghir.\n",
      "Swanousel lind me l.\n",
      "HAshe ce hiry:\n",
      "Supr aisspllw y.\n",
      "Hentofu n Boopetelaves\n",
      "MPOLI s, d mothakleo Windo whth eisbyo the m dourive we higend t so mower; te\n",
      "\n",
      "AN ad nterupt f s ar igr t m:\n",
      "\n",
      "Thin maleronth,\n",
      "Mad\n",
      "RD:\n",
      "\n",
      "WISo myrangoube!\n",
      "KENob&y, wardsal thes ghesthinin couk ay aney IOUSts I&fr y ce.\n",
      "J\n"
     ]
    }
   ],
   "source": [
    "context=torch.zeros((1,1), dtype=torch.long, device=device)\n",
    "print(decode(m.generate(context, max_new_tokens=500)[0].tolist()))"
   ]
  }
 ],
 "metadata": {
  "kaggle": {
   "accelerator": "gpu",
   "dataSources": [
    {
     "sourceId": 189929078,
     "sourceType": "kernelVersion"
    }
   ],
   "dockerImageVersionId": 30747,
   "isGpuEnabled": true,
   "isInternetEnabled": true,
   "language": "python",
   "sourceType": "notebook"
  },
  "kernelspec": {
   "display_name": "Python 3",
   "language": "python",
   "name": "python3"
  },
  "language_info": {
   "codemirror_mode": {
    "name": "ipython",
    "version": 3
   },
   "file_extension": ".py",
   "mimetype": "text/x-python",
   "name": "python",
   "nbconvert_exporter": "python",
   "pygments_lexer": "ipython3",
   "version": "3.10.13"
  },
  "papermill": {
   "default_parameters": {},
   "duration": 41.224428,
   "end_time": "2024-07-27T01:06:33.307388",
   "environment_variables": {},
   "exception": null,
   "input_path": "__notebook__.ipynb",
   "output_path": "__notebook__.ipynb",
   "parameters": {},
   "start_time": "2024-07-27T01:05:52.082960",
   "version": "2.5.0"
  }
 },
 "nbformat": 4,
 "nbformat_minor": 5
}
