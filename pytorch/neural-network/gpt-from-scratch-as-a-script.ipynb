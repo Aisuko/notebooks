{
 "cells": [
  {
   "cell_type": "markdown",
   "id": "53fbc6b9",
   "metadata": {
    "_cell_guid": "b1076dfc-b9ad-4769-8c92-a6c4dae69d19",
    "_uuid": "8f2839f25d086af736a60e9eeb907d3b93b6e0e5",
    "papermill": {
     "duration": 0.006215,
     "end_time": "2024-07-27T03:54:26.230157",
     "exception": false,
     "start_time": "2024-07-27T03:54:26.223942",
     "status": "completed"
    },
    "tags": []
   },
   "source": [
    "# Overview\n",
    "\n",
    "In notebook [GPT from scratch basic](https://www.kaggle.com/code/aisuko/gpt-from-scratch-basic) we build the neural net and training process with notebook style. Let's convert the code to a script.\n",
    "\n",
    "# Import dependencies"
   ]
  },
  {
   "cell_type": "code",
   "execution_count": 1,
   "id": "774a8a08",
   "metadata": {
    "execution": {
     "iopub.execute_input": "2024-07-27T03:54:26.243759Z",
     "iopub.status.busy": "2024-07-27T03:54:26.243399Z",
     "iopub.status.idle": "2024-07-27T03:54:41.618679Z",
     "shell.execute_reply": "2024-07-27T03:54:41.617906Z"
    },
    "papermill": {
     "duration": 15.384755,
     "end_time": "2024-07-27T03:54:41.621079",
     "exception": false,
     "start_time": "2024-07-27T03:54:26.236324",
     "status": "completed"
    },
    "tags": []
   },
   "outputs": [
    {
     "name": "stderr",
     "output_type": "stream",
     "text": [
      "2024-07-27 03:54:31.814591: E external/local_xla/xla/stream_executor/cuda/cuda_dnn.cc:9261] Unable to register cuDNN factory: Attempting to register factory for plugin cuDNN when one has already been registered\n",
      "2024-07-27 03:54:31.814725: E external/local_xla/xla/stream_executor/cuda/cuda_fft.cc:607] Unable to register cuFFT factory: Attempting to register factory for plugin cuFFT when one has already been registered\n",
      "2024-07-27 03:54:31.934857: E external/local_xla/xla/stream_executor/cuda/cuda_blas.cc:1515] Unable to register cuBLAS factory: Attempting to register factory for plugin cuBLAS when one has already been registered\n"
     ]
    }
   ],
   "source": [
    "import torch\n",
    "import torch.nn as nn\n",
    "from torch.nn import functional as F\n",
    "from tensorboard import notebook\n",
    "from torch.utils.tensorboard import SummaryWriter\n",
    "\n",
    "%load_ext tensorboard"
   ]
  },
  {
   "cell_type": "markdown",
   "id": "6e5bdf84",
   "metadata": {
    "papermill": {
     "duration": 0.005643,
     "end_time": "2024-07-27T03:54:41.632899",
     "exception": false,
     "start_time": "2024-07-27T03:54:41.627256",
     "status": "completed"
    },
    "tags": []
   },
   "source": [
    "# Download training data"
   ]
  },
  {
   "cell_type": "code",
   "execution_count": 2,
   "id": "36901f30",
   "metadata": {
    "execution": {
     "iopub.execute_input": "2024-07-27T03:54:41.646199Z",
     "iopub.status.busy": "2024-07-27T03:54:41.645602Z",
     "iopub.status.idle": "2024-07-27T03:54:41.671714Z",
     "shell.execute_reply": "2024-07-27T03:54:41.670521Z"
    },
    "papermill": {
     "duration": 0.035245,
     "end_time": "2024-07-27T03:54:41.673839",
     "exception": false,
     "start_time": "2024-07-27T03:54:41.638594",
     "status": "completed"
    },
    "tags": []
   },
   "outputs": [
    {
     "name": "stdout",
     "output_type": "stream",
     "text": [
      "1115394\n"
     ]
    }
   ],
   "source": [
    "with open('/kaggle/input/gpt-from-scratch-basic/input.txt', 'r', encoding='utf-8') as f:\n",
    "    text=f.read()\n",
    "\n",
    "print(len(text))"
   ]
  },
  {
   "cell_type": "markdown",
   "id": "d299635e",
   "metadata": {
    "papermill": {
     "duration": 0.00582,
     "end_time": "2024-07-27T03:54:41.686945",
     "exception": false,
     "start_time": "2024-07-27T03:54:41.681125",
     "status": "completed"
    },
    "tags": []
   },
   "source": [
    "# Define hyperparameters"
   ]
  },
  {
   "cell_type": "code",
   "execution_count": 3,
   "id": "8acb5da5",
   "metadata": {
    "execution": {
     "iopub.execute_input": "2024-07-27T03:54:41.699701Z",
     "iopub.status.busy": "2024-07-27T03:54:41.699409Z",
     "iopub.status.idle": "2024-07-27T03:54:41.763274Z",
     "shell.execute_reply": "2024-07-27T03:54:41.762363Z"
    },
    "papermill": {
     "duration": 0.07239,
     "end_time": "2024-07-27T03:54:41.765191",
     "exception": false,
     "start_time": "2024-07-27T03:54:41.692801",
     "status": "completed"
    },
    "tags": []
   },
   "outputs": [
    {
     "data": {
      "text/plain": [
       "<torch._C.Generator at 0x79c4ff557310>"
      ]
     },
     "execution_count": 3,
     "metadata": {},
     "output_type": "execute_result"
    }
   ],
   "source": [
    "batch_size=32 # how many independent sequences will we process in parallel?\n",
    "block_size=8 # whay is the maximum contetx length for predictions?\n",
    "max_iters=3000\n",
    "eval_interval=300\n",
    "learning_rate=1e-2\n",
    "device='cuda' if torch.cuda.is_available() else 'cpu'\n",
    "eval_iters=200\n",
    "writer=SummaryWriter()\n",
    "\n",
    "torch.manual_seed(1337)"
   ]
  },
  {
   "cell_type": "markdown",
   "id": "5662c121",
   "metadata": {
    "papermill": {
     "duration": 0.005857,
     "end_time": "2024-07-27T03:54:41.777184",
     "exception": false,
     "start_time": "2024-07-27T03:54:41.771327",
     "status": "completed"
    },
    "tags": []
   },
   "source": [
    "# Build vocabulary"
   ]
  },
  {
   "cell_type": "code",
   "execution_count": 4,
   "id": "61b8e7aa",
   "metadata": {
    "execution": {
     "iopub.execute_input": "2024-07-27T03:54:41.790327Z",
     "iopub.status.busy": "2024-07-27T03:54:41.790054Z",
     "iopub.status.idle": "2024-07-27T03:54:41.813383Z",
     "shell.execute_reply": "2024-07-27T03:54:41.812548Z"
    },
    "papermill": {
     "duration": 0.032176,
     "end_time": "2024-07-27T03:54:41.815299",
     "exception": false,
     "start_time": "2024-07-27T03:54:41.783123",
     "status": "completed"
    },
    "tags": []
   },
   "outputs": [],
   "source": [
    "# here are all the unique characters that occur in this text\n",
    "chars=sorted(list(set(text)))\n",
    "vocab_size=len(chars)\n",
    "\n",
    "# create a mapping form characters to integers\n",
    "stoi={ch:i for i,ch in enumerate(chars)}\n",
    "itos={i:ch for i,ch in enumerate(chars)}\n",
    "encode=lambda s: [stoi[c] for c in s] # take a string, output a list of integers\n",
    "decode=lambda l: ''.join([itos[i] for i in l]) # decoder: take a list of integers, output a string"
   ]
  },
  {
   "cell_type": "markdown",
   "id": "f33c75bc",
   "metadata": {
    "papermill": {
     "duration": 0.0058,
     "end_time": "2024-07-27T03:54:41.827155",
     "exception": false,
     "start_time": "2024-07-27T03:54:41.821355",
     "status": "completed"
    },
    "tags": []
   },
   "source": [
    "# Train and test split"
   ]
  },
  {
   "cell_type": "code",
   "execution_count": 5,
   "id": "fdc58f62",
   "metadata": {
    "execution": {
     "iopub.execute_input": "2024-07-27T03:54:41.840159Z",
     "iopub.status.busy": "2024-07-27T03:54:41.839890Z",
     "iopub.status.idle": "2024-07-27T03:54:42.113101Z",
     "shell.execute_reply": "2024-07-27T03:54:42.112281Z"
    },
    "papermill": {
     "duration": 0.282252,
     "end_time": "2024-07-27T03:54:42.115373",
     "exception": false,
     "start_time": "2024-07-27T03:54:41.833121",
     "status": "completed"
    },
    "tags": []
   },
   "outputs": [],
   "source": [
    "data=torch.tensor(encode(text), dtype=torch.long)\n",
    "n=int(0.9*len(data))\n",
    "train_data=data[:n]\n",
    "val_data=data[n:]"
   ]
  },
  {
   "cell_type": "markdown",
   "id": "6e36c231",
   "metadata": {
    "papermill": {
     "duration": 0.005773,
     "end_time": "2024-07-27T03:54:42.127407",
     "exception": false,
     "start_time": "2024-07-27T03:54:42.121634",
     "status": "completed"
    },
    "tags": []
   },
   "source": [
    "# Get batch"
   ]
  },
  {
   "cell_type": "code",
   "execution_count": 6,
   "id": "9214fa56",
   "metadata": {
    "execution": {
     "iopub.execute_input": "2024-07-27T03:54:42.141328Z",
     "iopub.status.busy": "2024-07-27T03:54:42.141023Z",
     "iopub.status.idle": "2024-07-27T03:54:42.149330Z",
     "shell.execute_reply": "2024-07-27T03:54:42.148461Z"
    },
    "papermill": {
     "duration": 0.017056,
     "end_time": "2024-07-27T03:54:42.151183",
     "exception": false,
     "start_time": "2024-07-27T03:54:42.134127",
     "status": "completed"
    },
    "tags": []
   },
   "outputs": [],
   "source": [
    "def get_batch(split):\n",
    "    # generate a small batch of data of inputs x and targets y\n",
    "    data=train_data if split=='train' else val_data\n",
    "    ix=torch.randint(len(data)-block_size, (batch_size,))\n",
    "    x=torch.stack([data[i:i+block_size] for i in ix])\n",
    "    y=torch.stack([data[i+1:i+block_size+1] for i in ix])\n",
    "    x,y =x.to(device), y.to(device)\n",
    "    return x,y\n",
    "\n",
    "@torch.no_grad()\n",
    "def estimate_loss():\n",
    "    out={}\n",
    "    model.eval()\n",
    "    for split in ['train', 'val']:\n",
    "        losses=torch.zeros(eval_iters)\n",
    "        for k in range(eval_iters):\n",
    "            X,Y=get_batch(split)\n",
    "            logits, loss=model(X,Y)\n",
    "            losses[k]=loss.item()\n",
    "        out[split]=losses.mean()\n",
    "    model.train()\n",
    "    return out"
   ]
  },
  {
   "cell_type": "markdown",
   "id": "f5e997b5",
   "metadata": {
    "papermill": {
     "duration": 0.005655,
     "end_time": "2024-07-27T03:54:42.162723",
     "exception": false,
     "start_time": "2024-07-27T03:54:42.157068",
     "status": "completed"
    },
    "tags": []
   },
   "source": [
    "# Define the model"
   ]
  },
  {
   "cell_type": "code",
   "execution_count": 7,
   "id": "9f08919d",
   "metadata": {
    "execution": {
     "iopub.execute_input": "2024-07-27T03:54:42.175933Z",
     "iopub.status.busy": "2024-07-27T03:54:42.175464Z",
     "iopub.status.idle": "2024-07-27T03:54:42.184337Z",
     "shell.execute_reply": "2024-07-27T03:54:42.183478Z"
    },
    "papermill": {
     "duration": 0.017515,
     "end_time": "2024-07-27T03:54:42.186151",
     "exception": false,
     "start_time": "2024-07-27T03:54:42.168636",
     "status": "completed"
    },
    "tags": []
   },
   "outputs": [],
   "source": [
    "class BigramLanguageModel(nn.Module):\n",
    "    def __init__(self, vocab_size):\n",
    "        super().__init__()\n",
    "        # each token directly reads off the logits for the next token from the lookup table\n",
    "        self.token_embedding_table=nn.Embedding(vocab_size, vocab_size)\n",
    "        \n",
    "    def forward(self, idx, targets=None):\n",
    "        # idx and targets are both(B,T) tensors of integers\n",
    "        logits=self.token_embedding_table(idx) # (B,T,C)\n",
    "        \n",
    "        if targets is None:\n",
    "            loss=None\n",
    "        else:\n",
    "            B,T,C=logits.shape\n",
    "            logits=logits.view(B*T,C)\n",
    "            targets=targets.view(B*T) # -1 it also ok\n",
    "            loss=F.cross_entropy(logits, targets)\n",
    "        return logits, loss\n",
    "    \n",
    "    def generate(self, idx, max_new_tokens):\n",
    "        # idx is (B,T) array of indices in the current context\n",
    "        for _ in range(max_new_tokens):\n",
    "            # get the predictions\n",
    "            logits, loss=self(idx)\n",
    "            # focus only on the last time step\n",
    "            logits=logits[:,-1,:] # becomes (B,C)\n",
    "            # apply softmax to get probabilities\n",
    "            probs=F.softmax(logits, dim=-1) # (B,C)\n",
    "            # sample from the distribution\n",
    "            idx_next=torch.multinomial(probs, num_samples=1) #(B,1)\n",
    "            # append sampled index to the running sequence\n",
    "            idx=torch.cat((idx, idx_next), dim=1) # (B, T+1)\n",
    "        return idx"
   ]
  },
  {
   "cell_type": "code",
   "execution_count": 8,
   "id": "d023a74d",
   "metadata": {
    "execution": {
     "iopub.execute_input": "2024-07-27T03:54:42.199374Z",
     "iopub.status.busy": "2024-07-27T03:54:42.198887Z",
     "iopub.status.idle": "2024-07-27T03:54:43.683232Z",
     "shell.execute_reply": "2024-07-27T03:54:43.682421Z"
    },
    "papermill": {
     "duration": 1.493911,
     "end_time": "2024-07-27T03:54:43.685886",
     "exception": false,
     "start_time": "2024-07-27T03:54:42.191975",
     "status": "completed"
    },
    "tags": []
   },
   "outputs": [],
   "source": [
    "model=BigramLanguageModel(vocab_size)\n",
    "m=model.to(device)\n",
    "\n",
    "optimizer=torch.optim.AdamW(model.parameters(), lr=learning_rate)"
   ]
  },
  {
   "cell_type": "markdown",
   "id": "09d7d57c",
   "metadata": {
    "papermill": {
     "duration": 0.005771,
     "end_time": "2024-07-27T03:54:43.699292",
     "exception": false,
     "start_time": "2024-07-27T03:54:43.693521",
     "status": "completed"
    },
    "tags": []
   },
   "source": [
    "# Training"
   ]
  },
  {
   "cell_type": "code",
   "execution_count": 9,
   "id": "061963e4",
   "metadata": {
    "execution": {
     "iopub.execute_input": "2024-07-27T03:54:43.712861Z",
     "iopub.status.busy": "2024-07-27T03:54:43.712505Z",
     "iopub.status.idle": "2024-07-27T03:54:54.231627Z",
     "shell.execute_reply": "2024-07-27T03:54:54.230680Z"
    },
    "papermill": {
     "duration": 10.528505,
     "end_time": "2024-07-27T03:54:54.234007",
     "exception": false,
     "start_time": "2024-07-27T03:54:43.705502",
     "status": "completed"
    },
    "tags": []
   },
   "outputs": [
    {
     "name": "stdout",
     "output_type": "stream",
     "text": [
      "step 0: train loss 4.7305, val loss 4.7241\n",
      "step 300: train loss 2.8110, val loss 2.8249\n",
      "step 600: train loss 2.5434, val loss 2.5682\n",
      "step 900: train loss 2.4932, val loss 2.5088\n",
      "step 1200: train loss 2.4863, val loss 2.5035\n",
      "step 1500: train loss 2.4665, val loss 2.4921\n",
      "step 1800: train loss 2.4683, val loss 2.4936\n",
      "step 2100: train loss 2.4696, val loss 2.4846\n",
      "step 2400: train loss 2.4638, val loss 2.4879\n",
      "step 2700: train loss 2.4738, val loss 2.4911\n"
     ]
    }
   ],
   "source": [
    "for i in range(max_iters):\n",
    "    # every once in a while evelate the loss on train and val sets\n",
    "    if i % eval_interval==0:\n",
    "        losses=estimate_loss()\n",
    "        print(f\"step {i}: train loss {losses['train']:.4f}, val loss {losses['val']:.4f}\")\n",
    "        writer.add_scalar(\"Loss/train\", losses['train'], i)\n",
    "        \n",
    "    # sample a batch of data\n",
    "    xb, yb=get_batch('train')\n",
    "    \n",
    "    # evaluate the loss\n",
    "    logits, loss=model(xb, yb)\n",
    "    optimizer.zero_grad(set_to_none=True)\n",
    "    loss.backward()\n",
    "    optimizer.step()\n",
    "writer.flush()\n",
    "writer.close()"
   ]
  },
  {
   "cell_type": "markdown",
   "id": "65cdb171",
   "metadata": {
    "papermill": {
     "duration": 0.006691,
     "end_time": "2024-07-27T03:54:54.247958",
     "exception": false,
     "start_time": "2024-07-27T03:54:54.241267",
     "status": "completed"
    },
    "tags": []
   },
   "source": [
    "# Generate from the model"
   ]
  },
  {
   "cell_type": "code",
   "execution_count": 10,
   "id": "d95374dd",
   "metadata": {
    "_kg_hide-output": true,
    "execution": {
     "iopub.execute_input": "2024-07-27T03:54:54.263148Z",
     "iopub.status.busy": "2024-07-27T03:54:54.262521Z",
     "iopub.status.idle": "2024-07-27T03:55:00.783274Z",
     "shell.execute_reply": "2024-07-27T03:55:00.782149Z"
    },
    "papermill": {
     "duration": 6.531718,
     "end_time": "2024-07-27T03:55:00.786478",
     "exception": false,
     "start_time": "2024-07-27T03:54:54.254760",
     "status": "completed"
    },
    "tags": []
   },
   "outputs": [
    {
     "data": {
      "text/html": [
       "\n",
       "      <iframe id=\"tensorboard-frame-285f11b11e94e0de\" width=\"100%\" height=\"800\" frameborder=\"0\">\n",
       "      </iframe>\n",
       "      <script>\n",
       "        (function() {\n",
       "          const frame = document.getElementById(\"tensorboard-frame-285f11b11e94e0de\");\n",
       "          const url = new URL(\"/\", window.location);\n",
       "          const port = 6006;\n",
       "          if (port) {\n",
       "            url.port = port;\n",
       "          }\n",
       "          frame.src = url;\n",
       "        })();\n",
       "      </script>\n",
       "    "
      ],
      "text/plain": [
       "<IPython.core.display.HTML object>"
      ]
     },
     "metadata": {},
     "output_type": "display_data"
    }
   ],
   "source": [
    "%tensorboard --logdir log"
   ]
  },
  {
   "cell_type": "code",
   "execution_count": 11,
   "id": "bee70d55",
   "metadata": {
    "execution": {
     "iopub.execute_input": "2024-07-27T03:55:00.806216Z",
     "iopub.status.busy": "2024-07-27T03:55:00.805807Z",
     "iopub.status.idle": "2024-07-27T03:55:00.815680Z",
     "shell.execute_reply": "2024-07-27T03:55:00.811512Z"
    },
    "papermill": {
     "duration": 0.023152,
     "end_time": "2024-07-27T03:55:00.819829",
     "exception": false,
     "start_time": "2024-07-27T03:55:00.796677",
     "status": "completed"
    },
    "tags": []
   },
   "outputs": [
    {
     "name": "stdout",
     "output_type": "stream",
     "text": [
      "Known TensorBoard instances:\n",
      "  - port 6006: logdir log (started 0:00:00 ago; pid 61)\n"
     ]
    }
   ],
   "source": [
    "notebook.list()"
   ]
  },
  {
   "cell_type": "code",
   "execution_count": 12,
   "id": "10eee214",
   "metadata": {
    "_kg_hide-output": true,
    "execution": {
     "iopub.execute_input": "2024-07-27T03:55:00.841577Z",
     "iopub.status.busy": "2024-07-27T03:55:00.840501Z",
     "iopub.status.idle": "2024-07-27T03:55:00.850542Z",
     "shell.execute_reply": "2024-07-27T03:55:00.849595Z"
    },
    "papermill": {
     "duration": 0.021807,
     "end_time": "2024-07-27T03:55:00.853185",
     "exception": false,
     "start_time": "2024-07-27T03:55:00.831378",
     "status": "completed"
    },
    "tags": []
   },
   "outputs": [
    {
     "name": "stdout",
     "output_type": "stream",
     "text": [
      "Selecting TensorBoard with logdir log (started 0:00:00 ago; port 6006, pid 61).\n"
     ]
    },
    {
     "data": {
      "text/html": [
       "\n",
       "      <iframe id=\"tensorboard-frame-fc881429a64c923a\" width=\"100%\" height=\"1000\" frameborder=\"0\">\n",
       "      </iframe>\n",
       "      <script>\n",
       "        (function() {\n",
       "          const frame = document.getElementById(\"tensorboard-frame-fc881429a64c923a\");\n",
       "          const url = new URL(\"/\", window.location);\n",
       "          const port = 6006;\n",
       "          if (port) {\n",
       "            url.port = port;\n",
       "          }\n",
       "          frame.src = url;\n",
       "        })();\n",
       "      </script>\n",
       "    "
      ],
      "text/plain": [
       "<IPython.core.display.HTML object>"
      ]
     },
     "metadata": {},
     "output_type": "display_data"
    }
   ],
   "source": [
    "notebook.display(port=6006, height=1000)"
   ]
  },
  {
   "cell_type": "code",
   "execution_count": 13,
   "id": "30e28e5b",
   "metadata": {
    "execution": {
     "iopub.execute_input": "2024-07-27T03:55:00.871681Z",
     "iopub.status.busy": "2024-07-27T03:55:00.871350Z",
     "iopub.status.idle": "2024-07-27T03:55:01.211195Z",
     "shell.execute_reply": "2024-07-27T03:55:01.209974Z"
    },
    "papermill": {
     "duration": 0.350478,
     "end_time": "2024-07-27T03:55:01.213452",
     "exception": false,
     "start_time": "2024-07-27T03:55:00.862974",
     "status": "completed"
    },
    "tags": []
   },
   "outputs": [
    {
     "name": "stdout",
     "output_type": "stream",
     "text": [
      "\n",
      "\n",
      "\n",
      "CEThik brid owindakis b, bth\n",
      "\n",
      "HAPet bobe d e.\n",
      "S:\n",
      "O:3 my d?\n",
      "LUCous:\n",
      "Wanthar u qur, t.\n",
      "War dXENDoate awice my.\n",
      "\n",
      "Hastarom oroup\n",
      "Yowhthetof isth ble mil ndill, ath iree sengmin lat Heriliovets, and Win nghir.\n",
      "Swanousel lind me l.\n",
      "HAshe ce hiry:\n",
      "Supr aisspllw y.\n",
      "Hentofu n Boopetelaves\n",
      "MPOLI s, d mothakleo Windo whth eisbyo the m dourive we higend t so mower; te\n",
      "\n",
      "AN ad nterupt f s ar igr t m:\n",
      "\n",
      "Thin maleronth,\n",
      "Mad\n",
      "RD:\n",
      "\n",
      "WISo myrangoube!\n",
      "KENob&y, wardsal thes ghesthinin couk ay aney IOUSts I&fr y ce.\n",
      "J\n"
     ]
    }
   ],
   "source": [
    "context=torch.zeros((1,1), dtype=torch.long, device=device)\n",
    "print(decode(m.generate(context, max_new_tokens=500)[0].tolist()))"
   ]
  }
 ],
 "metadata": {
  "kaggle": {
   "accelerator": "gpu",
   "dataSources": [
    {
     "sourceId": 189929078,
     "sourceType": "kernelVersion"
    }
   ],
   "dockerImageVersionId": 30747,
   "isGpuEnabled": true,
   "isInternetEnabled": true,
   "language": "python",
   "sourceType": "notebook"
  },
  "kernelspec": {
   "display_name": "Python 3",
   "language": "python",
   "name": "python3"
  },
  "language_info": {
   "codemirror_mode": {
    "name": "ipython",
    "version": 3
   },
   "file_extension": ".py",
   "mimetype": "text/x-python",
   "name": "python",
   "nbconvert_exporter": "python",
   "pygments_lexer": "ipython3",
   "version": "3.10.13"
  },
  "papermill": {
   "default_parameters": {},
   "duration": 40.395277,
   "end_time": "2024-07-27T03:55:03.840573",
   "environment_variables": {},
   "exception": null,
   "input_path": "__notebook__.ipynb",
   "output_path": "__notebook__.ipynb",
   "parameters": {},
   "start_time": "2024-07-27T03:54:23.445296",
   "version": "2.5.0"
  }
 },
 "nbformat": 4,
 "nbformat_minor": 5
}
