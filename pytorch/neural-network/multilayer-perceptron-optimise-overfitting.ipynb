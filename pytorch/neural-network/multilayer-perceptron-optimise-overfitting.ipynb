{
 "cells": [
  {
   "cell_type": "markdown",
   "id": "3d426686",
   "metadata": {
    "_cell_guid": "b1076dfc-b9ad-4769-8c92-a6c4dae69d19",
    "_uuid": "8f2839f25d086af736a60e9eeb907d3b93b6e0e5",
    "papermill": {
     "duration": 0.004295,
     "end_time": "2024-07-24T00:57:05.855042",
     "exception": false,
     "start_time": "2024-07-24T00:57:05.850747",
     "status": "completed"
    },
    "tags": []
   },
   "source": [
    "# Overview\n",
    "\n",
    "In [Multilayer perceptron implement optimization](https://www.kaggle.com/code/aisuko/multilayer-perceptron-implement-optimization), we got final result of our loss function is `2.3` on our tiny model. \n",
    "\n",
    "However, we could have millions of parameters and as the capacity of the neural networks grows. It becomes more and more capable of overfitting our training set which means is that the loss on the training set on the data that we're training on will become extreamly low as zero. It's working reall well but you try to sample from it you will basically only get examples exactly as they are in the training set, you won't get any new data in additiona to that if you try to evaluate the loss on some withheld names or other words you will actually see that the loss on those can be very high.\n",
    "\n",
    "So, it's not a good model. How can we make it better?\n",
    "\n",
    "# Split the dataset\n",
    "* **training(80%)** -> It's used to optimize the parameters of the model\n",
    "* **dev/validation(10%)** -> Thet're used for development overall hyper parameters, like, the size of hiddenlayer and embedding.\n",
    "* **test(10%)** -> They're used to evaluate the performance of the model at the end. So, we're only evaluating the loss on the test very, very, very few times because every single time you evaluate your test loss and you learn something from it. You are basically starting to also train on the test split otherwise you risk overfitting to it.\n"
   ]
  },
  {
   "cell_type": "markdown",
   "id": "e59e83b7",
   "metadata": {
    "papermill": {
     "duration": 0.003861,
     "end_time": "2024-07-24T00:57:05.863068",
     "exception": false,
     "start_time": "2024-07-24T00:57:05.859207",
     "status": "completed"
    },
    "tags": []
   },
   "source": [
    "# Build the dataset"
   ]
  },
  {
   "cell_type": "code",
   "execution_count": 1,
   "id": "2b863a3d",
   "metadata": {
    "execution": {
     "iopub.execute_input": "2024-07-24T00:57:05.872739Z",
     "iopub.status.busy": "2024-07-24T00:57:05.872376Z",
     "iopub.status.idle": "2024-07-24T00:57:09.407852Z",
     "shell.execute_reply": "2024-07-24T00:57:09.406819Z"
    },
    "papermill": {
     "duration": 3.543102,
     "end_time": "2024-07-24T00:57:09.410316",
     "exception": false,
     "start_time": "2024-07-24T00:57:05.867214",
     "status": "completed"
    },
    "tags": []
   },
   "outputs": [
    {
     "name": "stdout",
     "output_type": "stream",
     "text": [
      "{1: 'a', 2: 'b', 3: 'c', 4: 'd', 5: 'e', 6: 'f', 7: 'g', 8: 'h', 9: 'i', 10: 'j', 11: 'k', 12: 'l', 13: 'm', 14: 'n', 15: 'o', 16: 'p', 17: 'q', 18: 'r', 19: 's', 20: 't', 21: 'u', 22: 'v', 23: 'w', 24: 'x', 25: 'y', 26: 'z', 0: '.'}\n"
     ]
    }
   ],
   "source": [
    "import torch\n",
    "import torch.nn.functional as F\n",
    "import matplotlib.pyplot as plt\n",
    "\n",
    "words=open('/kaggle/input/character-lm-without-framework/names.txt', 'r').read().splitlines()\n",
    "\n",
    "# build the vocabulary of characters and mappings to/from integers\n",
    "chars=sorted(list(set(''.join(words))))\n",
    "stoi={s:i+1 for i,s in enumerate(chars)}\n",
    "stoi['.']=0\n",
    "itos={i:s for s,i in stoi.items()}\n",
    "print(itos)"
   ]
  },
  {
   "cell_type": "code",
   "execution_count": 2,
   "id": "f7f00f53",
   "metadata": {
    "execution": {
     "iopub.execute_input": "2024-07-24T00:57:09.420136Z",
     "iopub.status.busy": "2024-07-24T00:57:09.419672Z",
     "iopub.status.idle": "2024-07-24T00:57:10.186624Z",
     "shell.execute_reply": "2024-07-24T00:57:10.185409Z"
    },
    "papermill": {
     "duration": 0.774754,
     "end_time": "2024-07-24T00:57:10.189181",
     "exception": false,
     "start_time": "2024-07-24T00:57:09.414427",
     "status": "completed"
    },
    "tags": []
   },
   "outputs": [
    {
     "name": "stdout",
     "output_type": "stream",
     "text": [
      "torch.Size([182625, 3]) torch.Size([182625])\n",
      "torch.Size([22655, 3]) torch.Size([22655])\n",
      "torch.Size([22866, 3]) torch.Size([22866])\n"
     ]
    }
   ],
   "source": [
    "import random\n",
    "\n",
    "def build_dataset(words):\n",
    "    block_size=3 # context length: how many characters do we take to predict the next one?\n",
    "    X,Y=[],[]\n",
    "    for w in words:\n",
    "        context=[0]*block_size\n",
    "        for ch in w+'.':\n",
    "            ix=stoi[ch]\n",
    "            X.append(context)\n",
    "            Y.append(ix)\n",
    "            context=context[1:]+[ix]\n",
    "            \n",
    "    X=torch.tensor(X)\n",
    "    Y=torch.tensor(Y)\n",
    "    print(X.shape, Y.shape)\n",
    "    return X,Y\n",
    "\n",
    "\n",
    "random.seed(42)\n",
    "random.shuffle(words)\n",
    "n1=int(0.8*len(words))\n",
    "n2=int(0.9*len(words))\n",
    "\n",
    "Xtr, Ytr=build_dataset(words[:n1])\n",
    "Xdev, Ydev=build_dataset(words[n1:n2])\n",
    "Xte, Yte=build_dataset(words[n2:])"
   ]
  },
  {
   "cell_type": "markdown",
   "id": "fa026f95",
   "metadata": {
    "papermill": {
     "duration": 0.003854,
     "end_time": "2024-07-24T00:57:10.197512",
     "exception": false,
     "start_time": "2024-07-24T00:57:10.193658",
     "status": "completed"
    },
    "tags": []
   },
   "source": [
    "# Setting the neural net"
   ]
  },
  {
   "cell_type": "code",
   "execution_count": 3,
   "id": "39ddd7fe",
   "metadata": {
    "_kg_hide-output": true,
    "execution": {
     "iopub.execute_input": "2024-07-24T00:57:10.207700Z",
     "iopub.status.busy": "2024-07-24T00:57:10.207307Z",
     "iopub.status.idle": "2024-07-24T00:57:10.768360Z",
     "shell.execute_reply": "2024-07-24T00:57:10.767340Z"
    },
    "papermill": {
     "duration": 0.569464,
     "end_time": "2024-07-24T00:57:10.771068",
     "exception": false,
     "start_time": "2024-07-24T00:57:10.201604",
     "status": "completed"
    },
    "tags": []
   },
   "outputs": [
    {
     "name": "stdout",
     "output_type": "stream",
     "text": [
      "3481\n"
     ]
    }
   ],
   "source": [
    "# definition of neural network\n",
    "g=torch.Generator().manual_seed(2147483647)\n",
    "\n",
    "C=torch.randn((27,2), generator=g)\n",
    "W1=torch.randn((6, 100), generator=g)\n",
    "b1=torch.randn(100, generator=g)\n",
    "W2=torch.randn((100, 27), generator=g)\n",
    "b2=torch.randn(27, generator=g)\n",
    "parameters=[C, W1, b1, W2, b2]\n",
    "\n",
    "print(sum(p.nelement() for p in parameters))\n",
    "\n",
    "for p in parameters:\n",
    "    p.requires_grad = True\n",
    "\n",
    "# define a range of learning rate\n",
    "lre=torch.linspace(-3, 0, 1000)\n",
    "lrs=10**lre\n",
    "\n",
    "lri=[]\n",
    "lossi=[]\n",
    "\n",
    "# training process\n",
    "for i in range(1000):\n",
    "    \n",
    "    # minibatch construct\n",
    "    ix=torch.randint(0, Xtr.shape[0], (32,))\n",
    "    \n",
    "    # forward pass\n",
    "    emb=C[Xtr[ix]]\n",
    "    h=torch.tanh(emb.view(-1, 6)@ W1+b1)\n",
    "    logits=h @ W2+b2\n",
    "    loss=F.cross_entropy(logits, Ytr[ix])\n",
    "#     print(loss.item())\n",
    "    \n",
    "    # backward pass\n",
    "    for p in parameters:\n",
    "        p.grad=None\n",
    "    loss.backward()\n",
    "    \n",
    "    # update\n",
    "    lr=0.1\n",
    "    for p in parameters:\n",
    "        p.data+=-lr*p.grad\n",
    "\n",
    "    # track stats\n",
    "    lri.append(lre[i]) # we track the exponent\n",
    "    lossi.append(loss.item())"
   ]
  },
  {
   "cell_type": "code",
   "execution_count": 4,
   "id": "2831afd3",
   "metadata": {
    "execution": {
     "iopub.execute_input": "2024-07-24T00:57:10.781111Z",
     "iopub.status.busy": "2024-07-24T00:57:10.780735Z",
     "iopub.status.idle": "2024-07-24T00:57:11.082934Z",
     "shell.execute_reply": "2024-07-24T00:57:11.081760Z"
    },
    "papermill": {
     "duration": 0.31048,
     "end_time": "2024-07-24T00:57:11.085856",
     "exception": false,
     "start_time": "2024-07-24T00:57:10.775376",
     "status": "completed"
    },
    "tags": []
   },
   "outputs": [
    {
     "data": {
      "text/plain": [
       "[<matplotlib.lines.Line2D at 0x7ee00c1b9600>]"
      ]
     },
     "execution_count": 4,
     "metadata": {},
     "output_type": "execute_result"
    },
    {
     "data": {
      "image/png": "[encoded data removed]",
      "text/plain": [
       "<Figure size 640x480 with 1 Axes>"
      ]
     },
     "metadata": {},
     "output_type": "display_data"
    }
   ],
   "source": [
    "plt.plot(lri, lossi)"
   ]
  },
  {
   "cell_type": "code",
   "execution_count": 5,
   "id": "cc4446b1",
   "metadata": {
    "execution": {
     "iopub.execute_input": "2024-07-24T00:57:11.099448Z",
     "iopub.status.busy": "2024-07-24T00:57:11.098998Z",
     "iopub.status.idle": "2024-07-24T00:57:11.156844Z",
     "shell.execute_reply": "2024-07-24T00:57:11.155720Z"
    },
    "papermill": {
     "duration": 0.06749,
     "end_time": "2024-07-24T00:57:11.159353",
     "exception": false,
     "start_time": "2024-07-24T00:57:11.091863",
     "status": "completed"
    },
    "tags": []
   },
   "outputs": [
    {
     "data": {
      "text/plain": [
       "tensor(2.6782, grad_fn=<NllLossBackward0>)"
      ]
     },
     "execution_count": 5,
     "metadata": {},
     "output_type": "execute_result"
    }
   ],
   "source": [
    "emb=C[Xdev]\n",
    "h=torch.tanh(emb.view(-1, 6)@W1+b1)\n",
    "logits=h@W2+b2\n",
    "loss=F.cross_entropy(logits, Ydev)\n",
    "loss"
   ]
  },
  {
   "cell_type": "markdown",
   "id": "0fe0537e",
   "metadata": {
    "papermill": {
     "duration": 0.00465,
     "end_time": "2024-07-24T00:57:11.169332",
     "exception": false,
     "start_time": "2024-07-24T00:57:11.164682",
     "status": "completed"
    },
    "tags": []
   },
   "source": [
    "# Doing decay loss again"
   ]
  },
  {
   "cell_type": "code",
   "execution_count": 6,
   "id": "6f3fae29",
   "metadata": {
    "execution": {
     "iopub.execute_input": "2024-07-24T00:57:11.180694Z",
     "iopub.status.busy": "2024-07-24T00:57:11.180289Z",
     "iopub.status.idle": "2024-07-24T00:57:11.602897Z",
     "shell.execute_reply": "2024-07-24T00:57:11.602025Z"
    },
    "papermill": {
     "duration": 0.43171,
     "end_time": "2024-07-24T00:57:11.605860",
     "exception": false,
     "start_time": "2024-07-24T00:57:11.174150",
     "status": "completed"
    },
    "tags": []
   },
   "outputs": [],
   "source": [
    "lri=[]\n",
    "lossi=[]\n",
    "\n",
    "# training process\n",
    "for i in range(800):\n",
    "    \n",
    "    # minibatch construct\n",
    "    ix=torch.randint(0, Xtr.shape[0], (32,))\n",
    "    \n",
    "    # forward pass\n",
    "    emb=C[Xtr[ix]]\n",
    "    h=torch.tanh(emb.view(-1, 6)@ W1+b1)\n",
    "    logits=h @ W2+b2\n",
    "    loss=F.cross_entropy(logits, Ytr[ix])\n",
    "#     print(loss.item())\n",
    "    \n",
    "    # backward pass\n",
    "    for p in parameters:\n",
    "        p.grad=None\n",
    "    loss.backward()\n",
    "    \n",
    "    # update\n",
    "    lr=0.01\n",
    "    for p in parameters:\n",
    "        p.data+=-lr*p.grad\n",
    "\n",
    "    # track stats\n",
    "    lri.append(lre[i]) # we track the exponent\n",
    "    lossi.append(loss.item())"
   ]
  },
  {
   "cell_type": "code",
   "execution_count": 7,
   "id": "dbf06ab7",
   "metadata": {
    "execution": {
     "iopub.execute_input": "2024-07-24T00:57:11.623512Z",
     "iopub.status.busy": "2024-07-24T00:57:11.622974Z",
     "iopub.status.idle": "2024-07-24T00:57:11.659500Z",
     "shell.execute_reply": "2024-07-24T00:57:11.658399Z"
    },
    "papermill": {
     "duration": 0.047125,
     "end_time": "2024-07-24T00:57:11.661889",
     "exception": false,
     "start_time": "2024-07-24T00:57:11.614764",
     "status": "completed"
    },
    "tags": []
   },
   "outputs": [
    {
     "data": {
      "text/plain": [
       "tensor(2.5626, grad_fn=<NllLossBackward0>)"
      ]
     },
     "execution_count": 7,
     "metadata": {},
     "output_type": "execute_result"
    }
   ],
   "source": [
    "emb=C[Xdev]\n",
    "h=torch.tanh(emb.view(-1, 6)@W1+b1)\n",
    "logits=h@W2+b2\n",
    "loss=F.cross_entropy(logits, Ydev)\n",
    "loss"
   ]
  },
  {
   "cell_type": "markdown",
   "id": "47c04894",
   "metadata": {
    "papermill": {
     "duration": 0.004746,
     "end_time": "2024-07-24T00:57:11.671732",
     "exception": false,
     "start_time": "2024-07-24T00:57:11.666986",
     "status": "completed"
    },
    "tags": []
   },
   "source": [
    "# Check the loss on the training dataset"
   ]
  },
  {
   "cell_type": "code",
   "execution_count": 8,
   "id": "c1f3a7d8",
   "metadata": {
    "execution": {
     "iopub.execute_input": "2024-07-24T00:57:11.684104Z",
     "iopub.status.busy": "2024-07-24T00:57:11.683254Z",
     "iopub.status.idle": "2024-07-24T00:57:11.906610Z",
     "shell.execute_reply": "2024-07-24T00:57:11.905462Z"
    },
    "papermill": {
     "duration": 0.232241,
     "end_time": "2024-07-24T00:57:11.908862",
     "exception": false,
     "start_time": "2024-07-24T00:57:11.676621",
     "status": "completed"
    },
    "tags": []
   },
   "outputs": [
    {
     "data": {
      "text/plain": [
       "tensor(2.5694, grad_fn=<NllLossBackward0>)"
      ]
     },
     "execution_count": 8,
     "metadata": {},
     "output_type": "execute_result"
    }
   ],
   "source": [
    "emb=C[Xtr]\n",
    "h=torch.tanh(emb.view(-1, 6)@W1+b1)\n",
    "logits=h@W2+b2\n",
    "loss=F.cross_entropy(logits, Ytr)\n",
    "loss"
   ]
  },
  {
   "cell_type": "markdown",
   "id": "f39eeca4",
   "metadata": {
    "papermill": {
     "duration": 0.00487,
     "end_time": "2024-07-24T00:57:11.918797",
     "exception": false,
     "start_time": "2024-07-24T00:57:11.913927",
     "status": "completed"
    },
    "tags": []
   },
   "source": [
    "# Conclusion\n",
    "\n",
    "So, we can see we got the almost same loss on both the training and development datasets. So, we're not over fitting the model. We called it underfitting."
   ]
  },
  {
   "cell_type": "markdown",
   "id": "7b7c1217",
   "metadata": {
    "papermill": {
     "duration": 0.004719,
     "end_time": "2024-07-24T00:57:11.928600",
     "exception": false,
     "start_time": "2024-07-24T00:57:11.923881",
     "status": "completed"
    },
    "tags": []
   },
   "source": [
    "# Acknowledgement\n",
    "\n",
    "* https://youtu.be/TCH_1BHY58I?si=4WxPsYcK6hXX_9NS\n",
    "* https://www.kaggle.com/code/aisuko/multilayer-perceptron-implement-optimization\n",
    "* https://www.kaggle.com/code/aisuko/multilayer-perceptron-implement\n",
    "* https://www.kaggle.com/code/aisuko/character-lm-without-framework"
   ]
  }
 ],
 "metadata": {
  "kaggle": {
   "accelerator": "none",
   "dataSources": [
    {
     "sourceId": 187064505,
     "sourceType": "kernelVersion"
    }
   ],
   "dockerImageVersionId": 30746,
   "isGpuEnabled": false,
   "isInternetEnabled": true,
   "language": "python",
   "sourceType": "notebook"
  },
  "kernelspec": {
   "display_name": "Python 3",
   "language": "python",
   "name": "python3"
  },
  "language_info": {
   "codemirror_mode": {
    "name": "ipython",
    "version": 3
   },
   "file_extension": ".py",
   "mimetype": "text/x-python",
   "name": "python",
   "nbconvert_exporter": "python",
   "pygments_lexer": "ipython3",
   "version": "3.10.13"
  },
  "papermill": {
   "default_parameters": {},
   "duration": 9.811459,
   "end_time": "2024-07-24T00:57:12.755215",
   "environment_variables": {},
   "exception": null,
   "input_path": "__notebook__.ipynb",
   "output_path": "__notebook__.ipynb",
   "parameters": {},
   "start_time": "2024-07-24T00:57:02.943756",
   "version": "2.5.0"
  }
 },
 "nbformat": 4,
 "nbformat_minor": 5
}
