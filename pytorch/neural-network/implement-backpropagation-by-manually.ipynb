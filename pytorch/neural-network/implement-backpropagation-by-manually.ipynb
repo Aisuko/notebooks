{
 "cells": [
  {
   "cell_type": "markdown",
   "id": "1883de48",
   "metadata": {
    "_cell_guid": "b1076dfc-b9ad-4769-8c92-a6c4dae69d19",
    "_uuid": "8f2839f25d086af736a60e9eeb907d3b93b6e0e5",
    "papermill": {
     "duration": 0.012191,
     "end_time": "2024-08-04T05:47:20.597133",
     "exception": false,
     "start_time": "2024-08-04T05:47:20.584942",
     "status": "completed"
    },
    "tags": []
   },
   "source": [
    "# Overview\n",
    "\n",
    "Let's implement backpropgation manually."
   ]
  },
  {
   "cell_type": "code",
   "execution_count": 1,
   "id": "ee1f7a61",
   "metadata": {
    "execution": {
     "iopub.execute_input": "2024-08-04T05:47:20.621978Z",
     "iopub.status.busy": "2024-08-04T05:47:20.621459Z",
     "iopub.status.idle": "2024-08-04T05:47:25.911447Z",
     "shell.execute_reply": "2024-08-04T05:47:25.910297Z"
    },
    "papermill": {
     "duration": 5.305168,
     "end_time": "2024-08-04T05:47:25.914065",
     "exception": false,
     "start_time": "2024-08-04T05:47:20.608897",
     "status": "completed"
    },
    "tags": []
   },
   "outputs": [
    {
     "name": "stdout",
     "output_type": "stream",
     "text": [
      "torch.Size([182625, 3]) torch.Size([182625])\n",
      "torch.Size([22655, 3]) torch.Size([22655])\n",
      "torch.Size([22866, 3]) torch.Size([22866])\n"
     ]
    }
   ],
   "source": [
    "import random\n",
    "import torch\n",
    "\n",
    "# read in all the words\n",
    "with open('/kaggle/input/character-lm-without-framework/names.txt', 'r', encoding='utf-8') as f:\n",
    "    words=f.read()\n",
    "\n",
    "words=words.splitlines()\n",
    "\n",
    "# build the vocabulary of characters and \n",
    "chars=sorted(list(set(''.join(words))))\n",
    "\n",
    "stoi={s:i+1 for i,s in enumerate(chars)}\n",
    "stoi['.']=0\n",
    "itos={i:s for s,i in stoi.items()}\n",
    "vocab_size=len(itos)\n",
    "block_size=3 # context length: how many characters do we take to predict the next one?\n",
    "\n",
    "def build_dataset(words):\n",
    "    X,Y=[],[]\n",
    "    \n",
    "    for w in words:\n",
    "        context=[0]*block_size\n",
    "        for ch in w+'.':\n",
    "            ix=stoi[ch]\n",
    "            X.append(context)\n",
    "            Y.append(ix)\n",
    "            context=context[1:]+[ix] # crop and append\n",
    "            \n",
    "    X=torch.tensor(X)\n",
    "    Y=torch.tensor(Y)\n",
    "    print(X.shape, Y.shape)\n",
    "    return X,Y\n",
    "\n",
    "random.seed(42)\n",
    "random.shuffle(words)\n",
    "n1=int(0.8*len(words))\n",
    "n2=int(0.9*len(words))\n",
    "\n",
    "Xtr, Ytr=build_dataset(words[:n1])     # 80%\n",
    "Xdev, Ydev=build_dataset(words[n1:n2]) # 10%\n",
    "Xte, Yte=build_dataset(words[n2:])     # 10%"
   ]
  },
  {
   "cell_type": "code",
   "execution_count": 2,
   "id": "1e08564b",
   "metadata": {
    "execution": {
     "iopub.execute_input": "2024-08-04T05:47:25.938241Z",
     "iopub.status.busy": "2024-08-04T05:47:25.937687Z",
     "iopub.status.idle": "2024-08-04T05:47:25.944955Z",
     "shell.execute_reply": "2024-08-04T05:47:25.943775Z"
    },
    "papermill": {
     "duration": 0.022277,
     "end_time": "2024-08-04T05:47:25.947543",
     "exception": false,
     "start_time": "2024-08-04T05:47:25.925266",
     "status": "completed"
    },
    "tags": []
   },
   "outputs": [],
   "source": [
    "# utility function we will use later when comparing manual gradients to PyTorch gradients\n",
    "def cmp(s, dt,t):\n",
    "    ex=torch.all(dt==t.grad).item() # make sure all the elements are exactly equal and then converting a single boolean value\n",
    "    # make sure they aren't exactly equal, they are approximately equal(there may some floating point issues: floating point arithmetic)\n",
    "    app=torch.allclose(dt, t.grad)\n",
    "    # check what is the highest difference \n",
    "    maxdiff=(dt-t.grad).abs().max().item()\n",
    "    print(f'{s:15s} | exact: {str(ex):5s} | approximate: {str(app):5s} | maxdiff: {maxdiff}')"
   ]
  },
  {
   "cell_type": "code",
   "execution_count": 3,
   "id": "7796596f",
   "metadata": {
    "execution": {
     "iopub.execute_input": "2024-08-04T05:47:25.971790Z",
     "iopub.status.busy": "2024-08-04T05:47:25.971410Z",
     "iopub.status.idle": "2024-08-04T05:47:26.029366Z",
     "shell.execute_reply": "2024-08-04T05:47:26.027913Z"
    },
    "papermill": {
     "duration": 0.073582,
     "end_time": "2024-08-04T05:47:26.032324",
     "exception": false,
     "start_time": "2024-08-04T05:47:25.958742",
     "status": "completed"
    },
    "tags": []
   },
   "outputs": [
    {
     "name": "stdout",
     "output_type": "stream",
     "text": [
      "4137\n"
     ]
    }
   ],
   "source": [
    "# initialization\n",
    "n_embd=10 # the dimensionality of the character embedding vectors\n",
    "n_hidden=64 # the number of neurons in the hidden layer of the MLP\n",
    "\n",
    "g=torch.Generator().manual_seed(2147483647) # for reproducibility\n",
    "C=torch.randn((vocab_size, n_embd), generator=g) # embedding table for the characters\n",
    "# Layer 1\n",
    "W1=torch.randn((n_embd*block_size, n_hidden), generator=g)*(5/3)/((n_embd* block_size)**0.5)\n",
    "b1=torch.randn(n_hidden,            generator=g) # b1 is useless here, it aims for us to check if the implement is correct\n",
    "# Layer 2\n",
    "W2=torch.randn((n_hidden, vocab_size), generator=g)*0.1\n",
    "b2=torch.randn(vocab_size, generator=g)*0.1\n",
    "# batchnorm parameters\n",
    "bngain=torch.randn((1, n_hidden))*0.1+1.0\n",
    "bnbias=torch.randn((1, n_hidden))*0.1\n",
    "\n",
    "# Note: we initializating many of thrse parameters in non-standard ways\n",
    "# becuase sometimes initializating with e.g all zeros coudl mask an incorrect implementation of the backward pass\n",
    "\n",
    "parameters=[C,W1,b1,W2,b2, bngain, bnbias]\n",
    "print(sum(p.nelement() for p in parameters)) # number of parameters in total\n",
    "for p in parameters:\n",
    "    p.requires_grad=True"
   ]
  },
  {
   "cell_type": "code",
   "execution_count": 4,
   "id": "63f55482",
   "metadata": {
    "execution": {
     "iopub.execute_input": "2024-08-04T05:47:26.057675Z",
     "iopub.status.busy": "2024-08-04T05:47:26.056995Z",
     "iopub.status.idle": "2024-08-04T05:47:26.078764Z",
     "shell.execute_reply": "2024-08-04T05:47:26.077616Z"
    },
    "papermill": {
     "duration": 0.038031,
     "end_time": "2024-08-04T05:47:26.081895",
     "exception": false,
     "start_time": "2024-08-04T05:47:26.043864",
     "status": "completed"
    },
    "tags": []
   },
   "outputs": [],
   "source": [
    "batch_size=32\n",
    "n=batch_size\n",
    "# construct a minibatch\n",
    "ix=torch.randint(0, Xtr.shape[0], (batch_size,), generator=g)\n",
    "Xb, Yb=Xtr[ix], Ytr[ix] # batch X,Y"
   ]
  },
  {
   "cell_type": "code",
   "execution_count": 5,
   "id": "a23aa167",
   "metadata": {
    "execution": {
     "iopub.execute_input": "2024-08-04T05:47:26.106260Z",
     "iopub.status.busy": "2024-08-04T05:47:26.105814Z",
     "iopub.status.idle": "2024-08-04T05:47:26.236346Z",
     "shell.execute_reply": "2024-08-04T05:47:26.235243Z"
    },
    "papermill": {
     "duration": 0.145872,
     "end_time": "2024-08-04T05:47:26.239016",
     "exception": false,
     "start_time": "2024-08-04T05:47:26.093144",
     "status": "completed"
    },
    "tags": []
   },
   "outputs": [
    {
     "name": "stdout",
     "output_type": "stream",
     "text": [
      "torch.Size([32, 3, 10])\n",
      "torch.Size([32, 30])\n",
      "torch.Size([30, 64])\n"
     ]
    },
    {
     "data": {
      "text/plain": [
       "tensor(3.3405, grad_fn=<NegBackward0>)"
      ]
     },
     "execution_count": 5,
     "metadata": {},
     "output_type": "execute_result"
    }
   ],
   "source": [
    "# forward pass, \"chunkated\" into smaller steps that are possible to backward one at a time\n",
    "\n",
    "emb=C[Xb] # embed the characters into vectors\n",
    "print(emb.shape)\n",
    "embcat=emb.view(emb.shape[0],-1) # concatenate the vectors\n",
    "print(embcat.shape)\n",
    "print(W1.shape)\n",
    "# Linear layer 1\n",
    "hprebn=embcat@W1+b1 # hidden layer pre-activation\n",
    "# BatchNorm layer\n",
    "bnmeani=1/n*hprebn.sum(0, keepdim=True)\n",
    "bndiff=hprebn-bnmeani\n",
    "bndiff2=bndiff**2\n",
    "bnvar=1/(n-1)*(bndiff2).sum(0, keepdim=True)\n",
    "bnvar_inv=(bnvar+1e-5)**-0.5\n",
    "bnraw=bndiff*bnvar_inv\n",
    "hpreact=bngain*bnraw+bnbias\n",
    "# non-linearity\n",
    "h=torch.tanh(hpreact) # hidden layer\n",
    "# linear layer 2\n",
    "logits=h@W2+b2 # output layer\n",
    "\n",
    "\n",
    "# cross entropy loss (same as F.cross_entropy(logits, Yb))\n",
    "\n",
    "logit_maxes=logits.max(1, keepdim=True).values\n",
    "norm_logits=logits-logit_maxes # subtract max for nemerical stability\n",
    "counts=norm_logits.exp() # keep the logits on small values avoid numerical issues\n",
    "counts_sum=counts.sum(1, keepdims=True)\n",
    "\n",
    "\n",
    "# normalization all the counts to create our probabilities\n",
    "counts_sum_inv=counts_sum**-1 # if we use (1.0/counts_sum) instead then we can't get backprop to be bit exact...\n",
    "probs=counts*counts_sum_inv\n",
    "logprobs=probs.log()\n",
    "loss=-logprobs[range(n), Yb].mean()\n",
    "\n",
    "# pytorch backward pass\n",
    "for p in parameters:\n",
    "    p.grad=None\n",
    "for t in [logprobs, probs, counts, counts_sum, counts_sum_inv, norm_logits, logit_maxes, logits, h, hpreact, bnraw, bnvar_inv, bnvar, bndiff2, bndiff, hprebn, bnmeani, embcat, emb]:\n",
    "    t.retain_grad()\n",
    "loss.backward()\n",
    "loss"
   ]
  },
  {
   "cell_type": "markdown",
   "id": "8809cd31",
   "metadata": {
    "papermill": {
     "duration": 0.0109,
     "end_time": "2024-08-04T05:47:26.261467",
     "exception": false,
     "start_time": "2024-08-04T05:47:26.250567",
     "status": "completed"
    },
    "tags": []
   },
   "source": [
    "# Implement backprop manually\n",
    "\n",
    "`dlogprobs` will hold the derivative of the loss with respect to all the elements of log props. It should also be an array that size same to `logprobs` because we want the derivative loss with respect to all of its elements."
   ]
  },
  {
   "cell_type": "code",
   "execution_count": 6,
   "id": "4cdb6379",
   "metadata": {
    "execution": {
     "iopub.execute_input": "2024-08-04T05:47:26.287594Z",
     "iopub.status.busy": "2024-08-04T05:47:26.287151Z",
     "iopub.status.idle": "2024-08-04T05:47:26.294402Z",
     "shell.execute_reply": "2024-08-04T05:47:26.293275Z"
    },
    "papermill": {
     "duration": 0.022752,
     "end_time": "2024-08-04T05:47:26.296889",
     "exception": false,
     "start_time": "2024-08-04T05:47:26.274137",
     "status": "completed"
    },
    "tags": []
   },
   "outputs": [
    {
     "data": {
      "text/plain": [
       "torch.Size([32, 27])"
      ]
     },
     "execution_count": 6,
     "metadata": {},
     "output_type": "execute_result"
    }
   ],
   "source": [
    "logprobs.shape"
   ]
  },
  {
   "cell_type": "markdown",
   "id": "fd14dfc9",
   "metadata": {
    "papermill": {
     "duration": 0.011206,
     "end_time": "2024-08-04T05:47:26.319576",
     "exception": false,
     "start_time": "2024-08-04T05:47:26.308370",
     "status": "completed"
    },
    "tags": []
   },
   "source": [
    "## How does log props influence the loss?\n",
    "\n",
    "We see the loss equal to `loss=-logprobs[range(n), Yb].mean()`. Yb here is an array includes all the correct indices. So, here each single row of logprobs, we are plucking out the index of column specified by the tensor `Yb`."
   ]
  },
  {
   "cell_type": "code",
   "execution_count": 7,
   "id": "c9ebdab1",
   "metadata": {
    "execution": {
     "iopub.execute_input": "2024-08-04T05:47:26.344096Z",
     "iopub.status.busy": "2024-08-04T05:47:26.343691Z",
     "iopub.status.idle": "2024-08-04T05:47:26.351468Z",
     "shell.execute_reply": "2024-08-04T05:47:26.350410Z"
    },
    "papermill": {
     "duration": 0.023109,
     "end_time": "2024-08-04T05:47:26.354138",
     "exception": false,
     "start_time": "2024-08-04T05:47:26.331029",
     "status": "completed"
    },
    "tags": []
   },
   "outputs": [
    {
     "data": {
      "text/plain": [
       "tensor(8)"
      ]
     },
     "execution_count": 7,
     "metadata": {},
     "output_type": "execute_result"
    }
   ],
   "source": [
    "Yb[0]"
   ]
  },
  {
   "cell_type": "code",
   "execution_count": 8,
   "id": "11f43124",
   "metadata": {
    "execution": {
     "iopub.execute_input": "2024-08-04T05:47:26.380654Z",
     "iopub.status.busy": "2024-08-04T05:47:26.380266Z",
     "iopub.status.idle": "2024-08-04T05:47:26.389290Z",
     "shell.execute_reply": "2024-08-04T05:47:26.388129Z"
    },
    "papermill": {
     "duration": 0.025457,
     "end_time": "2024-08-04T05:47:26.391832",
     "exception": false,
     "start_time": "2024-08-04T05:47:26.366375",
     "status": "completed"
    },
    "tags": []
   },
   "outputs": [
    {
     "data": {
      "text/plain": [
       "tensor(True)"
      ]
     },
     "execution_count": 8,
     "metadata": {},
     "output_type": "execute_result"
    }
   ],
   "source": [
    "logprobs[0, Yb[0]]==logprobs[0][Yb[0]]"
   ]
  },
  {
   "cell_type": "markdown",
   "id": "9227ec0a",
   "metadata": {
    "papermill": {
     "duration": 0.011714,
     "end_time": "2024-08-04T05:47:26.415794",
     "exception": false,
     "start_time": "2024-08-04T05:47:26.404080",
     "status": "completed"
    },
    "tags": []
   },
   "source": [
    "**Here we plugs out all those log probabilities of the correct next character in a sequence**"
   ]
  },
  {
   "cell_type": "code",
   "execution_count": 9,
   "id": "c260a329",
   "metadata": {
    "execution": {
     "iopub.execute_input": "2024-08-04T05:47:26.441229Z",
     "iopub.status.busy": "2024-08-04T05:47:26.440816Z",
     "iopub.status.idle": "2024-08-04T05:47:26.450076Z",
     "shell.execute_reply": "2024-08-04T05:47:26.448742Z"
    },
    "papermill": {
     "duration": 0.025094,
     "end_time": "2024-08-04T05:47:26.452729",
     "exception": false,
     "start_time": "2024-08-04T05:47:26.427635",
     "status": "completed"
    },
    "tags": []
   },
   "outputs": [
    {
     "data": {
      "text/plain": [
       "tensor([-4.0807, -2.9965, -3.6843, -3.3662, -4.1294, -3.4584, -3.2458, -3.9973,\n",
       "        -3.1246, -4.2837, -3.1347, -1.6126, -2.7956, -2.9740, -2.8601, -3.1692,\n",
       "        -3.9216, -2.9884, -3.6308, -3.3777, -2.8634, -3.0112, -4.2735, -4.0063,\n",
       "        -3.6032, -2.8557, -3.0109, -3.8330, -2.7471, -3.4568, -3.2837, -3.1193],\n",
       "       grad_fn=<IndexBackward0>)"
      ]
     },
     "execution_count": 9,
     "metadata": {},
     "output_type": "execute_result"
    }
   ],
   "source": [
    "logprobs[range(n), Yb]"
   ]
  },
  {
   "cell_type": "markdown",
   "id": "a5d98d78",
   "metadata": {
    "papermill": {
     "duration": 0.011698,
     "end_time": "2024-08-04T05:47:26.476489",
     "exception": false,
     "start_time": "2024-08-04T05:47:26.464791",
     "status": "completed"
    },
    "tags": []
   },
   "source": [
    "## Deriviative represent in number\n",
    "\n",
    "`loss=-(a+b+c)/3=-1/3a+ -1/3b+-1/3c` and `dloss/da=-1/3` n is 3 here.\n",
    "\n",
    "Here, we have n=32(batch_size). So, `dloss/da=-1/n`.\n",
    "\n",
    "\n",
    "### What about the other elements inside logprobs?\n",
    "\n",
    "Here n is equal to `batch_size`, it is less than the length of logprobs(32,27). Only 32 of logprobs participate in the loss calculation.\n",
    "\n",
    "### What's the derivative of all the other most of elements that don't get plucked out here?\n",
    "\n",
    "Their gradient intuitively is zero because they didn't participate in the loss. So, the most of these numbers inside this tensor doesn't feed into the loss. And if you were to change these numbers then the loss doen't change which is the equivalent of way of the derovative of the loss with respect to them is zero. They don't impact it.\n",
    "\n"
   ]
  },
  {
   "cell_type": "code",
   "execution_count": 10,
   "id": "7d40c381",
   "metadata": {
    "execution": {
     "iopub.execute_input": "2024-08-04T05:47:26.503331Z",
     "iopub.status.busy": "2024-08-04T05:47:26.502103Z",
     "iopub.status.idle": "2024-08-04T05:47:26.512953Z",
     "shell.execute_reply": "2024-08-04T05:47:26.511860Z"
    },
    "papermill": {
     "duration": 0.027002,
     "end_time": "2024-08-04T05:47:26.515633",
     "exception": false,
     "start_time": "2024-08-04T05:47:26.488631",
     "status": "completed"
    },
    "tags": []
   },
   "outputs": [
    {
     "data": {
      "text/plain": [
       "tensor([ 0.0000,  0.0000,  0.0000,  0.0000,  0.0000,  0.0000,  0.0000,  0.0000,\n",
       "        -0.0312,  0.0000,  0.0000,  0.0000,  0.0000,  0.0000,  0.0000,  0.0000,\n",
       "         0.0000,  0.0000,  0.0000,  0.0000,  0.0000,  0.0000,  0.0000,  0.0000,\n",
       "         0.0000,  0.0000,  0.0000])"
      ]
     },
     "execution_count": 10,
     "metadata": {},
     "output_type": "execute_result"
    }
   ],
   "source": [
    "# size of dlogprobs is always going to be equal to logprobs\n",
    "# don't hardcode the number\n",
    "dlogprobs=torch.zeros_like(logprobs)\n",
    "\n",
    "# set the dloss/da=-1/n inside exactly these locations.\n",
    "dlogprobs[range(n), Yb]=-1.0/n\n",
    "dlogprobs[0]"
   ]
  },
  {
   "cell_type": "markdown",
   "id": "7c7cb21b",
   "metadata": {
    "papermill": {
     "duration": 0.011731,
     "end_time": "2024-08-04T05:47:26.539870",
     "exception": false,
     "start_time": "2024-08-04T05:47:26.528139",
     "status": "completed"
    },
    "tags": []
   },
   "source": [
    "## Check if the value is correct"
   ]
  },
  {
   "cell_type": "code",
   "execution_count": 11,
   "id": "e158baa6",
   "metadata": {
    "execution": {
     "iopub.execute_input": "2024-08-04T05:47:26.566104Z",
     "iopub.status.busy": "2024-08-04T05:47:26.565711Z",
     "iopub.status.idle": "2024-08-04T05:47:26.580004Z",
     "shell.execute_reply": "2024-08-04T05:47:26.578500Z"
    },
    "papermill": {
     "duration": 0.030928,
     "end_time": "2024-08-04T05:47:26.582996",
     "exception": false,
     "start_time": "2024-08-04T05:47:26.552068",
     "status": "completed"
    },
    "tags": []
   },
   "outputs": [
    {
     "name": "stdout",
     "output_type": "stream",
     "text": [
      "logprobs        | exact: True  | approximate: True  | maxdiff: 0.0\n"
     ]
    }
   ],
   "source": [
    "# our result equal to what pytorch calculated to be lockprops.grad in its back propagation\n",
    "cmp('logprobs', dlogprobs, logprobs)"
   ]
  },
  {
   "cell_type": "markdown",
   "id": "ac93b4e7",
   "metadata": {
    "papermill": {
     "duration": 0.011973,
     "end_time": "2024-08-04T05:47:26.607636",
     "exception": false,
     "start_time": "2024-08-04T05:47:26.595663",
     "status": "completed"
    },
    "tags": []
   },
   "source": [
    "## Props of a lognode\n",
    "\n",
    "Based on `logprobs=probs.log()`, the props of the log node will be the **local derivative** of that individual operation log times the output(here is `dlogprobs`).\n",
    "\n",
    "Based on $\\frac{d}{dx}(log(x))=\\frac{1}{x}$, x here is probs.\n",
    "\n",
    "### Chain rule\n",
    "\n",
    "In calculus, it is a formula that express the derivative of the composition of two differentiable functions f and g in terms of the derivatives of f and g.\n",
    "\n",
    "if $h=f*g$ is the function such that $h(x)=f(g(x))$ for every x, then the chain rule is\n",
    "\n",
    "$$h'(x)=f'(g(x))g'(x)$$ or, equivalently\n",
    "\n",
    "$$h'=(f*g)'=(f'*g)*g'$$\n",
    "\n",
    "### Lagrange's notation\n",
    "\n",
    "If `f` is a function, then its derivative evaluated at `x` is written $f'(x)$."
   ]
  },
  {
   "cell_type": "code",
   "execution_count": 12,
   "id": "3f2a970e",
   "metadata": {
    "execution": {
     "iopub.execute_input": "2024-08-04T05:47:26.634011Z",
     "iopub.status.busy": "2024-08-04T05:47:26.633596Z",
     "iopub.status.idle": "2024-08-04T05:47:26.640167Z",
     "shell.execute_reply": "2024-08-04T05:47:26.638834Z"
    },
    "papermill": {
     "duration": 0.022856,
     "end_time": "2024-08-04T05:47:26.642714",
     "exception": false,
     "start_time": "2024-08-04T05:47:26.619858",
     "status": "completed"
    },
    "tags": []
   },
   "outputs": [],
   "source": [
    "#dlogprobs is chain rule\n",
    "dprobs=(1.0 /probs)*dlogprobs # if the probs is incorrect, we will boost the gradient thorugh this"
   ]
  },
  {
   "cell_type": "code",
   "execution_count": 13,
   "id": "30b90037",
   "metadata": {
    "execution": {
     "iopub.execute_input": "2024-08-04T05:47:26.669259Z",
     "iopub.status.busy": "2024-08-04T05:47:26.668268Z",
     "iopub.status.idle": "2024-08-04T05:47:26.676521Z",
     "shell.execute_reply": "2024-08-04T05:47:26.675137Z"
    },
    "papermill": {
     "duration": 0.024541,
     "end_time": "2024-08-04T05:47:26.679298",
     "exception": false,
     "start_time": "2024-08-04T05:47:26.654757",
     "status": "completed"
    },
    "tags": []
   },
   "outputs": [
    {
     "name": "stdout",
     "output_type": "stream",
     "text": [
      "probs           | exact: True  | approximate: True  | maxdiff: 0.0\n"
     ]
    }
   ],
   "source": [
    "cmp('probs', dprobs, probs)"
   ]
  },
  {
   "cell_type": "markdown",
   "id": "51f8e1fd",
   "metadata": {
    "papermill": {
     "duration": 0.012373,
     "end_time": "2024-08-04T05:47:26.706358",
     "exception": false,
     "start_time": "2024-08-04T05:47:26.693985",
     "status": "completed"
    },
    "tags": []
   },
   "source": [
    "## Derivative the counts_sum_inv\n",
    "\n",
    "Be cautions of the shape of these tensors.\n",
    "\n",
    "```\n",
    "c=a*b, but with tensors:\n",
    "* a[3x3] b[3,1]\n",
    "* a11*b1 a12*b1 a13*b1\n",
    "* a21*b2 a22*b2 a23*b2\n",
    "* a31*b3 a32*b3 a33*b3\n",
    "* c[3x3]\n",
    "```"
   ]
  },
  {
   "cell_type": "code",
   "execution_count": 14,
   "id": "53161f3b",
   "metadata": {
    "execution": {
     "iopub.execute_input": "2024-08-04T05:47:26.733493Z",
     "iopub.status.busy": "2024-08-04T05:47:26.732358Z",
     "iopub.status.idle": "2024-08-04T05:47:26.739736Z",
     "shell.execute_reply": "2024-08-04T05:47:26.738610Z"
    },
    "papermill": {
     "duration": 0.023287,
     "end_time": "2024-08-04T05:47:26.742146",
     "exception": false,
     "start_time": "2024-08-04T05:47:26.718859",
     "status": "completed"
    },
    "tags": []
   },
   "outputs": [
    {
     "data": {
      "text/plain": [
       "(torch.Size([32, 27]), torch.Size([32, 1]))"
      ]
     },
     "execution_count": 14,
     "metadata": {},
     "output_type": "execute_result"
    }
   ],
   "source": [
    "counts.shape, counts_sum_inv.shape"
   ]
  },
  {
   "cell_type": "code",
   "execution_count": 15,
   "id": "28a92d8d",
   "metadata": {
    "execution": {
     "iopub.execute_input": "2024-08-04T05:47:26.768878Z",
     "iopub.status.busy": "2024-08-04T05:47:26.768452Z",
     "iopub.status.idle": "2024-08-04T05:47:26.774659Z",
     "shell.execute_reply": "2024-08-04T05:47:26.773370Z"
    },
    "papermill": {
     "duration": 0.022535,
     "end_time": "2024-08-04T05:47:26.777063",
     "exception": false,
     "start_time": "2024-08-04T05:47:26.754528",
     "status": "completed"
    },
    "tags": []
   },
   "outputs": [],
   "source": [
    "dcounts_sum_inv=(counts*dprobs).sum(1, keepdim=True)"
   ]
  },
  {
   "cell_type": "code",
   "execution_count": 16,
   "id": "665cb8ca",
   "metadata": {
    "execution": {
     "iopub.execute_input": "2024-08-04T05:47:26.805707Z",
     "iopub.status.busy": "2024-08-04T05:47:26.804391Z",
     "iopub.status.idle": "2024-08-04T05:47:26.811742Z",
     "shell.execute_reply": "2024-08-04T05:47:26.810432Z"
    },
    "papermill": {
     "duration": 0.024469,
     "end_time": "2024-08-04T05:47:26.814259",
     "exception": false,
     "start_time": "2024-08-04T05:47:26.789790",
     "status": "completed"
    },
    "tags": []
   },
   "outputs": [
    {
     "name": "stdout",
     "output_type": "stream",
     "text": [
      "counts_sum_inv  | exact: True  | approximate: True  | maxdiff: 0.0\n"
     ]
    }
   ],
   "source": [
    "cmp('counts_sum_inv', dcounts_sum_inv, counts_sum_inv)"
   ]
  },
  {
   "cell_type": "markdown",
   "id": "c04c3823",
   "metadata": {
    "papermill": {
     "duration": 0.012525,
     "end_time": "2024-08-04T05:47:26.839138",
     "exception": false,
     "start_time": "2024-08-04T05:47:26.826613",
     "status": "completed"
    },
    "tags": []
   },
   "source": [
    "## Deriviative dcounts and dcounts_sum\n",
    "\n",
    "$$\\frac{d}{dx}(\\frac{1}{x})=-\\frac{1}{x^2}$$"
   ]
  },
  {
   "cell_type": "code",
   "execution_count": 17,
   "id": "488ab47a",
   "metadata": {
    "execution": {
     "iopub.execute_input": "2024-08-04T05:47:26.866277Z",
     "iopub.status.busy": "2024-08-04T05:47:26.865745Z",
     "iopub.status.idle": "2024-08-04T05:47:26.871913Z",
     "shell.execute_reply": "2024-08-04T05:47:26.870960Z"
    },
    "papermill": {
     "duration": 0.022594,
     "end_time": "2024-08-04T05:47:26.874473",
     "exception": false,
     "start_time": "2024-08-04T05:47:26.851879",
     "status": "completed"
    },
    "tags": []
   },
   "outputs": [],
   "source": [
    "dcounts=counts_sum_inv*dprobs\n",
    "dcounts_sum=(-counts_sum**-2)* dcounts_sum_inv"
   ]
  },
  {
   "cell_type": "code",
   "execution_count": 18,
   "id": "293c4f0c",
   "metadata": {
    "execution": {
     "iopub.execute_input": "2024-08-04T05:47:26.901570Z",
     "iopub.status.busy": "2024-08-04T05:47:26.901087Z",
     "iopub.status.idle": "2024-08-04T05:47:26.907909Z",
     "shell.execute_reply": "2024-08-04T05:47:26.906735Z"
    },
    "papermill": {
     "duration": 0.023457,
     "end_time": "2024-08-04T05:47:26.910360",
     "exception": false,
     "start_time": "2024-08-04T05:47:26.886903",
     "status": "completed"
    },
    "tags": []
   },
   "outputs": [
    {
     "name": "stdout",
     "output_type": "stream",
     "text": [
      "counts_sum      | exact: True  | approximate: True  | maxdiff: 0.0\n"
     ]
    }
   ],
   "source": [
    "cmp('counts_sum', dcounts_sum, counts_sum)"
   ]
  },
  {
   "cell_type": "markdown",
   "id": "c40ababe",
   "metadata": {
    "papermill": {
     "duration": 0.012799,
     "end_time": "2024-08-04T05:47:26.935653",
     "exception": false,
     "start_time": "2024-08-04T05:47:26.922854",
     "status": "completed"
    },
    "tags": []
   },
   "source": [
    "## Derivative counts"
   ]
  },
  {
   "cell_type": "code",
   "execution_count": 19,
   "id": "f1f74e99",
   "metadata": {
    "execution": {
     "iopub.execute_input": "2024-08-04T05:47:26.962865Z",
     "iopub.status.busy": "2024-08-04T05:47:26.962445Z",
     "iopub.status.idle": "2024-08-04T05:47:26.968604Z",
     "shell.execute_reply": "2024-08-04T05:47:26.967357Z"
    },
    "papermill": {
     "duration": 0.022913,
     "end_time": "2024-08-04T05:47:26.971232",
     "exception": false,
     "start_time": "2024-08-04T05:47:26.948319",
     "status": "completed"
    },
    "tags": []
   },
   "outputs": [],
   "source": [
    "dcounts+=torch.ones_like(counts)*dcounts_sum"
   ]
  },
  {
   "cell_type": "code",
   "execution_count": 20,
   "id": "678979d3",
   "metadata": {
    "execution": {
     "iopub.execute_input": "2024-08-04T05:47:26.999248Z",
     "iopub.status.busy": "2024-08-04T05:47:26.998804Z",
     "iopub.status.idle": "2024-08-04T05:47:27.005884Z",
     "shell.execute_reply": "2024-08-04T05:47:27.004574Z"
    },
    "papermill": {
     "duration": 0.024158,
     "end_time": "2024-08-04T05:47:27.008760",
     "exception": false,
     "start_time": "2024-08-04T05:47:26.984602",
     "status": "completed"
    },
    "tags": []
   },
   "outputs": [
    {
     "name": "stdout",
     "output_type": "stream",
     "text": [
      "counts          | exact: True  | approximate: True  | maxdiff: 0.0\n"
     ]
    }
   ],
   "source": [
    "cmp('counts', dcounts, counts)"
   ]
  },
  {
   "cell_type": "markdown",
   "id": "14ae5e21",
   "metadata": {
    "papermill": {
     "duration": 0.01284,
     "end_time": "2024-08-04T05:47:27.034330",
     "exception": false,
     "start_time": "2024-08-04T05:47:27.021490",
     "status": "completed"
    },
    "tags": []
   },
   "source": [
    "## Derivative norm_logits"
   ]
  },
  {
   "cell_type": "code",
   "execution_count": 21,
   "id": "99e33412",
   "metadata": {
    "execution": {
     "iopub.execute_input": "2024-08-04T05:47:27.062391Z",
     "iopub.status.busy": "2024-08-04T05:47:27.061176Z",
     "iopub.status.idle": "2024-08-04T05:47:27.066535Z",
     "shell.execute_reply": "2024-08-04T05:47:27.065407Z"
    },
    "papermill": {
     "duration": 0.021891,
     "end_time": "2024-08-04T05:47:27.068856",
     "exception": false,
     "start_time": "2024-08-04T05:47:27.046965",
     "status": "completed"
    },
    "tags": []
   },
   "outputs": [],
   "source": [
    "# dnorm_logits=(norm_logits.exp())\n",
    "dnorm_logits=counts*dcounts"
   ]
  },
  {
   "cell_type": "code",
   "execution_count": 22,
   "id": "18901f10",
   "metadata": {
    "execution": {
     "iopub.execute_input": "2024-08-04T05:47:27.097411Z",
     "iopub.status.busy": "2024-08-04T05:47:27.096342Z",
     "iopub.status.idle": "2024-08-04T05:47:27.103661Z",
     "shell.execute_reply": "2024-08-04T05:47:27.102133Z"
    },
    "papermill": {
     "duration": 0.024921,
     "end_time": "2024-08-04T05:47:27.106469",
     "exception": false,
     "start_time": "2024-08-04T05:47:27.081548",
     "status": "completed"
    },
    "tags": []
   },
   "outputs": [
    {
     "name": "stdout",
     "output_type": "stream",
     "text": [
      "norm_logits     | exact: True  | approximate: True  | maxdiff: 0.0\n"
     ]
    }
   ],
   "source": [
    "cmp('norm_logits', dnorm_logits, norm_logits)"
   ]
  },
  {
   "cell_type": "markdown",
   "id": "53c9de86",
   "metadata": {
    "papermill": {
     "duration": 0.012635,
     "end_time": "2024-08-04T05:47:27.132570",
     "exception": false,
     "start_time": "2024-08-04T05:47:27.119935",
     "status": "completed"
    },
    "tags": []
   },
   "source": [
    "## Derivative logits and logits_maxes\n",
    "\n"
   ]
  },
  {
   "cell_type": "code",
   "execution_count": 23,
   "id": "315a9223",
   "metadata": {
    "execution": {
     "iopub.execute_input": "2024-08-04T05:47:27.160635Z",
     "iopub.status.busy": "2024-08-04T05:47:27.160198Z",
     "iopub.status.idle": "2024-08-04T05:47:27.166478Z",
     "shell.execute_reply": "2024-08-04T05:47:27.165480Z"
    },
    "papermill": {
     "duration": 0.023381,
     "end_time": "2024-08-04T05:47:27.169010",
     "exception": false,
     "start_time": "2024-08-04T05:47:27.145629",
     "status": "completed"
    },
    "tags": []
   },
   "outputs": [],
   "source": [
    "dilogits=dnorm_logits.clone()\n",
    "dlogit_maxes=(-dnorm_logits).sum(1, keepdim=True)"
   ]
  },
  {
   "cell_type": "markdown",
   "id": "0111da9a",
   "metadata": {
    "papermill": {
     "duration": 0.012467,
     "end_time": "2024-08-04T05:47:27.194252",
     "exception": false,
     "start_time": "2024-08-04T05:47:27.181785",
     "status": "completed"
    },
    "tags": []
   },
   "source": [
    "# Acknowledgement\n",
    "\n",
    "* https://en.wikipedia.org/wiki/Chain_rule\n",
    "* https://en.wikipedia.org/wiki/Notation_for_differentiation#Lagrange's_notation"
   ]
  }
 ],
 "metadata": {
  "kaggle": {
   "accelerator": "none",
   "dataSources": [
    {
     "sourceId": 187064505,
     "sourceType": "kernelVersion"
    }
   ],
   "dockerImageVersionId": 30746,
   "isGpuEnabled": false,
   "isInternetEnabled": true,
   "language": "python",
   "sourceType": "notebook"
  },
  "kernelspec": {
   "display_name": "Python 3",
   "language": "python",
   "name": "python3"
  },
  "language_info": {
   "codemirror_mode": {
    "name": "ipython",
    "version": 3
   },
   "file_extension": ".py",
   "mimetype": "text/x-python",
   "name": "python",
   "nbconvert_exporter": "python",
   "pygments_lexer": "ipython3",
   "version": "3.10.13"
  },
  "papermill": {
   "default_parameters": {},
   "duration": 10.759507,
   "end_time": "2024-08-04T05:47:28.130693",
   "environment_variables": {},
   "exception": null,
   "input_path": "__notebook__.ipynb",
   "output_path": "__notebook__.ipynb",
   "parameters": {},
   "start_time": "2024-08-04T05:47:17.371186",
   "version": "2.5.0"
  }
 },
 "nbformat": 4,
 "nbformat_minor": 5
}
