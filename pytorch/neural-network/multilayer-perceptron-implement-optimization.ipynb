{
 "cells": [
  {
   "cell_type": "markdown",
   "id": "449a1301",
   "metadata": {
    "papermill": {
     "duration": 0.007111,
     "end_time": "2024-07-23T23:34:16.763637",
     "exception": false,
     "start_time": "2024-07-23T23:34:16.756526",
     "status": "completed"
    },
    "tags": []
   },
   "source": [
    "# Build vocabulary"
   ]
  },
  {
   "cell_type": "code",
   "execution_count": 1,
   "id": "89e7421f",
   "metadata": {
    "_cell_guid": "b1076dfc-b9ad-4769-8c92-a6c4dae69d19",
    "_uuid": "8f2839f25d086af736a60e9eeb907d3b93b6e0e5",
    "execution": {
     "iopub.execute_input": "2024-07-23T23:34:16.778290Z",
     "iopub.status.busy": "2024-07-23T23:34:16.777891Z",
     "iopub.status.idle": "2024-07-23T23:34:20.401930Z",
     "shell.execute_reply": "2024-07-23T23:34:20.400617Z"
    },
    "papermill": {
     "duration": 3.634392,
     "end_time": "2024-07-23T23:34:20.404232",
     "exception": false,
     "start_time": "2024-07-23T23:34:16.769840",
     "status": "completed"
    },
    "tags": []
   },
   "outputs": [
    {
     "name": "stdout",
     "output_type": "stream",
     "text": [
      "{1: 'a', 2: 'b', 3: 'c', 4: 'd', 5: 'e', 6: 'f', 7: 'g', 8: 'h', 9: 'i', 10: 'j', 11: 'k', 12: 'l', 13: 'm', 14: 'n', 15: 'o', 16: 'p', 17: 'q', 18: 'r', 19: 's', 20: 't', 21: 'u', 22: 'v', 23: 'w', 24: 'x', 25: 'y', 26: 'z', 0: '.'}\n"
     ]
    }
   ],
   "source": [
    "import torch\n",
    "import torch.nn.functional as F\n",
    "import matplotlib.pyplot as plt\n",
    "\n",
    "words=open('/kaggle/input/character-lm-without-framework/names.txt', 'r').read().splitlines()\n",
    "\n",
    "# build the vocabulary of characters and mappings to/from integers\n",
    "chars=sorted(list(set(''.join(words))))\n",
    "stoi={s:i+1 for i,s in enumerate(chars)}\n",
    "stoi['.']=0\n",
    "itos={i:s for s,i in stoi.items()}\n",
    "print(itos)"
   ]
  },
  {
   "cell_type": "markdown",
   "id": "bf3e97fb",
   "metadata": {
    "papermill": {
     "duration": 0.005831,
     "end_time": "2024-07-23T23:34:20.416256",
     "exception": false,
     "start_time": "2024-07-23T23:34:20.410425",
     "status": "completed"
    },
    "tags": []
   },
   "source": [
    "# Build dataset"
   ]
  },
  {
   "cell_type": "code",
   "execution_count": 2,
   "id": "58ae10b8",
   "metadata": {
    "execution": {
     "iopub.execute_input": "2024-07-23T23:34:20.430292Z",
     "iopub.status.busy": "2024-07-23T23:34:20.429809Z",
     "iopub.status.idle": "2024-07-23T23:34:21.219829Z",
     "shell.execute_reply": "2024-07-23T23:34:21.218710Z"
    },
    "papermill": {
     "duration": 0.80008,
     "end_time": "2024-07-23T23:34:21.222424",
     "exception": false,
     "start_time": "2024-07-23T23:34:20.422344",
     "status": "completed"
    },
    "tags": []
   },
   "outputs": [],
   "source": [
    "# context length: how many characters do we take to predict the next one?\n",
    "block_size=3\n",
    "# X input of neural net, Y the lable of every element in X\n",
    "X,Y=[],[]\n",
    "for w in words: # first 5 words\n",
    "    context=[0]*block_size # start with a padded context of zero tokens\n",
    "    for ch in w+'.': # we always padding with .\n",
    "        ix=stoi[ch]\n",
    "        X.append(context)\n",
    "        Y.append(ix)\n",
    "        context=context[1:] +[ix] # crop and append\n",
    "X=torch.tensor(X)\n",
    "Y=torch.tensor(Y)"
   ]
  },
  {
   "cell_type": "code",
   "execution_count": 3,
   "id": "2ec9e51e",
   "metadata": {
    "execution": {
     "iopub.execute_input": "2024-07-23T23:34:21.236612Z",
     "iopub.status.busy": "2024-07-23T23:34:21.236188Z",
     "iopub.status.idle": "2024-07-23T23:34:21.246509Z",
     "shell.execute_reply": "2024-07-23T23:34:21.245231Z"
    },
    "papermill": {
     "duration": 0.020209,
     "end_time": "2024-07-23T23:34:21.249047",
     "exception": false,
     "start_time": "2024-07-23T23:34:21.228838",
     "status": "completed"
    },
    "tags": []
   },
   "outputs": [
    {
     "data": {
      "text/plain": [
       "(torch.Size([228146, 3]), torch.int64, torch.Size([228146]), torch.int64)"
      ]
     },
     "execution_count": 3,
     "metadata": {},
     "output_type": "execute_result"
    }
   ],
   "source": [
    "X.shape, X.dtype, Y.shape, Y.dtype"
   ]
  },
  {
   "cell_type": "markdown",
   "id": "4256cfd1",
   "metadata": {
    "papermill": {
     "duration": 0.006309,
     "end_time": "2024-07-23T23:34:21.262096",
     "exception": false,
     "start_time": "2024-07-23T23:34:21.255787",
     "status": "completed"
    },
    "tags": []
   },
   "source": [
    "# Define the neural network"
   ]
  },
  {
   "cell_type": "code",
   "execution_count": 4,
   "id": "acd4cb95",
   "metadata": {
    "execution": {
     "iopub.execute_input": "2024-07-23T23:34:21.276420Z",
     "iopub.status.busy": "2024-07-23T23:34:21.276029Z",
     "iopub.status.idle": "2024-07-23T23:34:21.295532Z",
     "shell.execute_reply": "2024-07-23T23:34:21.294307Z"
    },
    "papermill": {
     "duration": 0.02962,
     "end_time": "2024-07-23T23:34:21.298128",
     "exception": false,
     "start_time": "2024-07-23T23:34:21.268508",
     "status": "completed"
    },
    "tags": []
   },
   "outputs": [
    {
     "name": "stdout",
     "output_type": "stream",
     "text": [
      "3481\n"
     ]
    }
   ],
   "source": [
    "g=torch.Generator().manual_seed(2147483647)\n",
    "\n",
    "C=torch.randn((27,2), generator=g)\n",
    "W1=torch.randn((6, 100), generator=g)\n",
    "b1=torch.randn(100, generator=g)\n",
    "W2=torch.randn((100, 27), generator=g)\n",
    "b2=torch.randn(27, generator=g)\n",
    "parameters=[C, W1, b1, W2, b2]\n",
    "\n",
    "print(sum(p.nelement() for p in parameters))"
   ]
  },
  {
   "cell_type": "markdown",
   "id": "43501a95",
   "metadata": {
    "papermill": {
     "duration": 0.006052,
     "end_time": "2024-07-23T23:34:21.310850",
     "exception": false,
     "start_time": "2024-07-23T23:34:21.304798",
     "status": "completed"
    },
    "tags": []
   },
   "source": [
    "# Define the training loop"
   ]
  },
  {
   "cell_type": "code",
   "execution_count": 5,
   "id": "9c230ed8",
   "metadata": {
    "_kg_hide-output": true,
    "execution": {
     "iopub.execute_input": "2024-07-23T23:34:21.325373Z",
     "iopub.status.busy": "2024-07-23T23:34:21.324962Z",
     "iopub.status.idle": "2024-07-23T23:35:03.650021Z",
     "shell.execute_reply": "2024-07-23T23:35:03.648520Z"
    },
    "papermill": {
     "duration": 42.33518,
     "end_time": "2024-07-23T23:35:03.652375",
     "exception": false,
     "start_time": "2024-07-23T23:34:21.317195",
     "status": "completed"
    },
    "tags": []
   },
   "outputs": [
    {
     "name": "stdout",
     "output_type": "stream",
     "text": [
      "19.505226135253906\n",
      "17.084484100341797\n",
      "15.776531219482422\n",
      "14.833340644836426\n",
      "14.002608299255371\n",
      "13.253263473510742\n",
      "12.57991886138916\n",
      "11.983102798461914\n",
      "11.47049331665039\n",
      "11.05185604095459\n",
      "10.709587097167969\n",
      "10.407631874084473\n",
      "10.127808570861816\n",
      "9.864364624023438\n",
      "9.614501953125\n",
      "9.376439094543457\n",
      "9.148944854736328\n",
      "8.931110382080078\n",
      "8.722230911254883\n",
      "8.521748542785645\n",
      "8.32922649383545\n",
      "8.144325256347656\n",
      "7.966790676116943\n",
      "7.796450614929199\n",
      "7.633185386657715\n",
      "7.476908206939697\n",
      "7.327521800994873\n",
      "7.184885025024414\n",
      "7.048792362213135\n",
      "6.9189534187316895\n",
      "6.795018196105957\n",
      "6.6766037940979\n",
      "6.563319206237793\n",
      "6.454790115356445\n",
      "6.350668907165527\n",
      "6.250643253326416\n",
      "6.15443229675293\n",
      "6.06178617477417\n",
      "5.972482681274414\n",
      "5.88632869720459\n",
      "5.803147792816162\n",
      "5.722784519195557\n",
      "5.645095348358154\n",
      "5.569947719573975\n",
      "5.497213840484619\n",
      "5.42678165435791\n",
      "5.358536243438721\n",
      "5.29237699508667\n",
      "5.228204727172852\n",
      "5.165929794311523\n",
      "5.105469226837158\n",
      "5.046748638153076\n",
      "4.9897003173828125\n",
      "4.934262275695801\n",
      "4.880381107330322\n",
      "4.828007221221924\n",
      "4.777096748352051\n",
      "4.727611064910889\n",
      "4.6795148849487305\n",
      "4.6327805519104\n",
      "4.587380409240723\n",
      "4.543290138244629\n",
      "4.500492095947266\n",
      "4.458968162536621\n",
      "4.418701648712158\n",
      "4.3796772956848145\n",
      "4.341879367828369\n",
      "4.305293083190918\n",
      "4.269900798797607\n",
      "4.235681533813477\n",
      "4.202613830566406\n",
      "4.170671463012695\n",
      "4.139825820922852\n",
      "4.110045433044434\n",
      "4.08129358291626\n",
      "4.05353307723999\n",
      "4.026722431182861\n",
      "4.000819206237793\n",
      "3.9757814407348633\n",
      "3.9515655040740967\n",
      "3.928129196166992\n",
      "3.9054322242736816\n",
      "3.883434772491455\n",
      "3.8620998859405518\n",
      "3.841392755508423\n",
      "3.8212814331054688\n",
      "3.8017358779907227\n",
      "3.7827281951904297\n",
      "3.7642343044281006\n",
      "3.7462308406829834\n",
      "3.728696823120117\n",
      "3.7116122245788574\n",
      "3.694960594177246\n",
      "3.6787240505218506\n",
      "3.662888526916504\n",
      "3.6474387645721436\n",
      "3.6323626041412354\n",
      "3.6176466941833496\n",
      "3.6032798290252686\n",
      "3.589250326156616\n",
      "3.589250326156616\n"
     ]
    }
   ],
   "source": [
    "for p in parameters:\n",
    "    p.requires_grad = True\n",
    "    \n",
    "for _ in range(100):\n",
    "    # forward pass\n",
    "    emb=C[X]\n",
    "    h=torch.tanh(emb.view(-1, 6)@ W1+b1)\n",
    "    logits=h @ W2+b2\n",
    "    loss=F.cross_entropy(logits, Y)\n",
    "    print(loss.item())\n",
    "    # backward pass\n",
    "    for p in parameters:\n",
    "        p.grad=None\n",
    "    loss.backward()\n",
    "    # update\n",
    "    for p in parameters:\n",
    "        p.data+=-0.1*p.grad\n",
    "print(loss.item())"
   ]
  },
  {
   "cell_type": "markdown",
   "id": "5c9b8557",
   "metadata": {
    "papermill": {
     "duration": 0.012096,
     "end_time": "2024-07-23T23:35:03.678051",
     "exception": false,
     "start_time": "2024-07-23T23:35:03.665955",
     "status": "completed"
    },
    "tags": []
   },
   "source": [
    "# How we solve the issue of doing too much work forwarding and backwarding on too much examples? \n",
    "\n",
    "We should perform forward and backward pass and update on many batches of the data. We will want to do is we want to randomly select some portion of the dataset and that's a mini batch and then only forward backward and update on that little mini batch and then we iterate on those many batches. We can use `torch.randint()`"
   ]
  },
  {
   "cell_type": "code",
   "execution_count": 6,
   "id": "902299e5",
   "metadata": {
    "execution": {
     "iopub.execute_input": "2024-07-23T23:35:03.704704Z",
     "iopub.status.busy": "2024-07-23T23:35:03.704252Z",
     "iopub.status.idle": "2024-07-23T23:35:03.713921Z",
     "shell.execute_reply": "2024-07-23T23:35:03.712854Z"
    },
    "papermill": {
     "duration": 0.025571,
     "end_time": "2024-07-23T23:35:03.716188",
     "exception": false,
     "start_time": "2024-07-23T23:35:03.690617",
     "status": "completed"
    },
    "tags": []
   },
   "outputs": [
    {
     "data": {
      "text/plain": [
       "tensor([139897,  51240,    980, 157471,  14302,  66425, 116131,  95647, 135032,\n",
       "        155388, 223767,  95620,  20472, 226271,  67450, 216576, 104914,  53464,\n",
       "        189304, 101487, 175069,  26943,  44050, 147655,  55699,  14365,  61060,\n",
       "        156035, 137394, 104787,  77714,  81815])"
      ]
     },
     "execution_count": 6,
     "metadata": {},
     "output_type": "execute_result"
    }
   ],
   "source": [
    "torch.randint(0,X.shape[0],(32,))"
   ]
  },
  {
   "cell_type": "markdown",
   "id": "8a494b65",
   "metadata": {
    "papermill": {
     "duration": 0.012279,
     "end_time": "2024-07-23T23:35:03.741792",
     "exception": false,
     "start_time": "2024-07-23T23:35:03.729513",
     "status": "completed"
    },
    "tags": []
   },
   "source": [
    "## Mini-batches\n",
    "\n",
    "Because we're only dealing with mini batches the quality of our gradient is lower. So the directionis not as reliable. It's not the actual gradient direction, but the gradient direction is good enough even when it's estimating on only 32 examples.\n",
    "\n",
    "It's much better to have an approximate gradient and just make more steps than it's to evalutate the exact gradeient and take fewer steps so that's why inpractice this works quite well."
   ]
  },
  {
   "cell_type": "code",
   "execution_count": 7,
   "id": "a50e5240",
   "metadata": {
    "_kg_hide-output": true,
    "execution": {
     "iopub.execute_input": "2024-07-23T23:35:03.769016Z",
     "iopub.status.busy": "2024-07-23T23:35:03.768146Z",
     "iopub.status.idle": "2024-07-23T23:35:03.832163Z",
     "shell.execute_reply": "2024-07-23T23:35:03.831081Z"
    },
    "papermill": {
     "duration": 0.080959,
     "end_time": "2024-07-23T23:35:03.835216",
     "exception": false,
     "start_time": "2024-07-23T23:35:03.754257",
     "status": "completed"
    },
    "tags": []
   },
   "outputs": [
    {
     "name": "stdout",
     "output_type": "stream",
     "text": [
      "3481\n",
      "18.265348434448242\n",
      "17.566810607910156\n",
      "16.882610321044922\n",
      "16.65780258178711\n",
      "14.271449089050293\n",
      "12.75853443145752\n",
      "12.572443962097168\n",
      "10.73294734954834\n",
      "9.371048927307129\n",
      "8.736696243286133\n",
      "13.045344352722168\n",
      "9.888445854187012\n",
      "9.944649696350098\n",
      "8.734502792358398\n",
      "8.439384460449219\n",
      "11.202192306518555\n",
      "7.8204426765441895\n",
      "9.332592964172363\n",
      "8.097467422485352\n",
      "8.653139114379883\n",
      "9.526517868041992\n",
      "9.59359073638916\n",
      "10.225765228271484\n",
      "8.52993106842041\n",
      "8.270875930786133\n",
      "8.031278610229492\n",
      "8.235352516174316\n",
      "7.350740909576416\n",
      "8.371551513671875\n",
      "7.4224066734313965\n",
      "7.6326212882995605\n",
      "6.658614158630371\n",
      "6.815665245056152\n",
      "7.720430374145508\n",
      "6.630108833312988\n",
      "6.699066162109375\n",
      "7.461597919464111\n",
      "7.716087818145752\n",
      "6.700508117675781\n",
      "5.870999336242676\n",
      "7.715735912322998\n",
      "5.543573379516602\n",
      "5.4288330078125\n",
      "4.942834854125977\n",
      "5.097902297973633\n",
      "5.076483726501465\n",
      "3.918748617172241\n",
      "6.507540702819824\n",
      "4.416975975036621\n",
      "3.9260783195495605\n",
      "5.64549446105957\n",
      "4.950249195098877\n",
      "5.434813976287842\n",
      "5.288244247436523\n",
      "5.2609381675720215\n",
      "4.834124565124512\n",
      "5.964163303375244\n",
      "4.5429158210754395\n",
      "5.1887102127075195\n",
      "4.953235149383545\n",
      "4.069265842437744\n",
      "4.528985023498535\n",
      "3.7548558712005615\n",
      "4.194276332855225\n",
      "5.615752696990967\n",
      "5.541470050811768\n",
      "4.686407089233398\n",
      "4.604699611663818\n",
      "4.267089366912842\n",
      "3.926013946533203\n",
      "4.074551105499268\n",
      "4.4857177734375\n",
      "5.328831195831299\n",
      "3.6246161460876465\n",
      "4.875422954559326\n",
      "4.517198085784912\n",
      "5.0895562171936035\n",
      "4.051514625549316\n",
      "5.633602142333984\n",
      "4.4560370445251465\n",
      "3.642829656600952\n",
      "5.445708751678467\n",
      "3.9033353328704834\n",
      "4.220120429992676\n",
      "3.721034526824951\n",
      "4.600806713104248\n",
      "3.639294147491455\n",
      "3.2198166847229004\n",
      "3.5998306274414062\n",
      "3.628096342086792\n",
      "3.9780611991882324\n",
      "4.307791233062744\n",
      "4.351757526397705\n",
      "3.7055773735046387\n",
      "3.501224994659424\n",
      "4.684123992919922\n",
      "3.6031734943389893\n",
      "4.061118125915527\n",
      "3.0901172161102295\n",
      "4.3282012939453125\n",
      "4.3282012939453125\n"
     ]
    }
   ],
   "source": [
    "g=torch.Generator().manual_seed(2147483647)\n",
    "\n",
    "C=torch.randn((27,2), generator=g)\n",
    "W1=torch.randn((6, 100), generator=g)\n",
    "b1=torch.randn(100, generator=g)\n",
    "W2=torch.randn((100, 27), generator=g)\n",
    "b2=torch.randn(27, generator=g)\n",
    "parameters=[C, W1, b1, W2, b2]\n",
    "\n",
    "print(sum(p.nelement() for p in parameters))\n",
    "\n",
    "for p in parameters:\n",
    "    p.requires_grad = True\n",
    "\n",
    "## Mini-baches\n",
    "for _ in range(100):\n",
    "    \n",
    "    # minibatch construct\n",
    "    ix=torch.randint(0, X.shape[0], (32,))\n",
    "    \n",
    "    # forward pass\n",
    "    emb=C[X[ix]]\n",
    "    h=torch.tanh(emb.view(-1, 6)@ W1+b1)\n",
    "    logits=h @ W2+b2\n",
    "    loss=F.cross_entropy(logits, Y[ix])\n",
    "    print(loss.item())\n",
    "    \n",
    "    # backward pass\n",
    "    for p in parameters:\n",
    "        p.grad=None\n",
    "    loss.backward()\n",
    "    # update\n",
    "    for p in parameters:\n",
    "        p.data+=-0.1*p.grad\n",
    "print(loss.item())"
   ]
  },
  {
   "cell_type": "markdown",
   "id": "71b1c578",
   "metadata": {
    "papermill": {
     "duration": 0.012205,
     "end_time": "2024-07-23T23:35:03.860117",
     "exception": false,
     "start_time": "2024-07-23T23:35:03.847912",
     "status": "completed"
    },
    "tags": []
   },
   "source": [
    "# Evaluate neural net on the whole dataset"
   ]
  },
  {
   "cell_type": "code",
   "execution_count": 8,
   "id": "4aaf573c",
   "metadata": {
    "execution": {
     "iopub.execute_input": "2024-07-23T23:35:03.887269Z",
     "iopub.status.busy": "2024-07-23T23:35:03.886492Z",
     "iopub.status.idle": "2024-07-23T23:35:03.895007Z",
     "shell.execute_reply": "2024-07-23T23:35:03.893601Z"
    },
    "papermill": {
     "duration": 0.024583,
     "end_time": "2024-07-23T23:35:03.897285",
     "exception": false,
     "start_time": "2024-07-23T23:35:03.872702",
     "status": "completed"
    },
    "tags": []
   },
   "outputs": [
    {
     "name": "stdout",
     "output_type": "stream",
     "text": [
      "3481\n"
     ]
    }
   ],
   "source": [
    "g=torch.Generator().manual_seed(2147483647)\n",
    "\n",
    "C=torch.randn((27,2), generator=g)\n",
    "W1=torch.randn((6, 100), generator=g)\n",
    "b1=torch.randn(100, generator=g)\n",
    "W2=torch.randn((100, 27), generator=g)\n",
    "b2=torch.randn(27, generator=g)\n",
    "parameters=[C, W1, b1, W2, b2]\n",
    "\n",
    "print(sum(p.nelement() for p in parameters))\n",
    "\n",
    "for p in parameters:\n",
    "    p.requires_grad = True\n"
   ]
  },
  {
   "cell_type": "markdown",
   "id": "e51553d1",
   "metadata": {
    "papermill": {
     "duration": 0.012438,
     "end_time": "2024-07-23T23:35:03.922701",
     "exception": false,
     "start_time": "2024-07-23T23:35:03.910263",
     "status": "completed"
    },
    "tags": []
   },
   "source": [
    "# How we find a reasonable learning rate?\n",
    "\n",
    "Currently, we set the learning rate randomly. Is there a better way to do this? We can use `tensor.linspace()` to define a range of the learning rate."
   ]
  },
  {
   "cell_type": "code",
   "execution_count": 9,
   "id": "b37ae966",
   "metadata": {
    "_kg_hide-output": true,
    "execution": {
     "iopub.execute_input": "2024-07-23T23:35:03.950206Z",
     "iopub.status.busy": "2024-07-23T23:35:03.949280Z",
     "iopub.status.idle": "2024-07-23T23:35:04.488242Z",
     "shell.execute_reply": "2024-07-23T23:35:04.487171Z"
    },
    "papermill": {
     "duration": 0.555399,
     "end_time": "2024-07-23T23:35:04.490812",
     "exception": false,
     "start_time": "2024-07-23T23:35:03.935413",
     "status": "completed"
    },
    "tags": []
   },
   "outputs": [
    {
     "data": {
      "text/plain": [
       "tensor(6.0786, grad_fn=<NllLossBackward0>)"
      ]
     },
     "execution_count": 9,
     "metadata": {},
     "output_type": "execute_result"
    }
   ],
   "source": [
    "lre=torch.linspace(-3, 0, 1000)\n",
    "lrs=10**lre\n",
    "\n",
    "lri=[]\n",
    "lossi=[]\n",
    "\n",
    "for i in range(1000):\n",
    "    \n",
    "    # minibatch construct\n",
    "    ix=torch.randint(0, X.shape[0], (32,))\n",
    "    \n",
    "    # forward pass\n",
    "    emb=C[X[ix]]\n",
    "    h=torch.tanh(emb.view(-1, 6)@ W1+b1)\n",
    "    logits=h @ W2+b2\n",
    "    loss=F.cross_entropy(logits, Y[ix])\n",
    "#     print(loss.item())\n",
    "    \n",
    "    # backward pass\n",
    "    for p in parameters:\n",
    "        p.grad=None\n",
    "    loss.backward()\n",
    "    \n",
    "    # update\n",
    "    lr=lrs[i]\n",
    "    for p in parameters:\n",
    "        p.data+=-lr*p.grad\n",
    "        \n",
    "    # track stats\n",
    "    lri.append(lr)\n",
    "    lossi.append(loss.item())\n",
    "    \n",
    "emb=C[X]\n",
    "h=torch.tanh(emb.view(-1, 6) @ W1+b1) # (32, 100)\n",
    "logits=h@W2+b2 #(32, 27)\n",
    "loss=F.cross_entropy(logits, Y)\n",
    "loss"
   ]
  },
  {
   "cell_type": "code",
   "execution_count": 10,
   "id": "a9e87926",
   "metadata": {
    "execution": {
     "iopub.execute_input": "2024-07-23T23:35:04.519047Z",
     "iopub.status.busy": "2024-07-23T23:35:04.518088Z",
     "iopub.status.idle": "2024-07-23T23:35:04.785697Z",
     "shell.execute_reply": "2024-07-23T23:35:04.784616Z"
    },
    "papermill": {
     "duration": 0.284375,
     "end_time": "2024-07-23T23:35:04.788354",
     "exception": false,
     "start_time": "2024-07-23T23:35:04.503979",
     "status": "completed"
    },
    "tags": []
   },
   "outputs": [
    {
     "data": {
      "text/plain": [
       "[<matplotlib.lines.Line2D at 0x7d5c0044dab0>]"
      ]
     },
     "execution_count": 10,
     "metadata": {},
     "output_type": "execute_result"
    },
    {
     "data": {
      "image/png": "[encoded data removed]",
      "text/plain": [
       "<Figure size 640x480 with 1 Axes>"
      ]
     },
     "metadata": {},
     "output_type": "display_data"
    }
   ],
   "source": [
    "# x axis learning rate\n",
    "# y axis is loss\n",
    "plt.plot(lri, lossi)\n",
    "\n",
    "\n",
    "# We can see the learning rate beteen 0.0-0.2 are what we want"
   ]
  },
  {
   "cell_type": "markdown",
   "id": "d4ad8687",
   "metadata": {
    "papermill": {
     "duration": 0.013052,
     "end_time": "2024-07-23T23:35:04.814994",
     "exception": false,
     "start_time": "2024-07-23T23:35:04.801942",
     "status": "completed"
    },
    "tags": []
   },
   "source": [
    "# Explore the learning rate"
   ]
  },
  {
   "cell_type": "code",
   "execution_count": 11,
   "id": "e8d77db8",
   "metadata": {
    "_kg_hide-output": true,
    "execution": {
     "iopub.execute_input": "2024-07-23T23:35:04.844168Z",
     "iopub.status.busy": "2024-07-23T23:35:04.843426Z",
     "iopub.status.idle": "2024-07-23T23:35:05.440534Z",
     "shell.execute_reply": "2024-07-23T23:35:05.439491Z"
    },
    "papermill": {
     "duration": 0.614667,
     "end_time": "2024-07-23T23:35:05.443192",
     "exception": false,
     "start_time": "2024-07-23T23:35:04.828525",
     "status": "completed"
    },
    "tags": []
   },
   "outputs": [
    {
     "name": "stdout",
     "output_type": "stream",
     "text": [
      "3481\n"
     ]
    },
    {
     "data": {
      "text/plain": [
       "tensor(8.2339, grad_fn=<NllLossBackward0>)"
      ]
     },
     "execution_count": 11,
     "metadata": {},
     "output_type": "execute_result"
    }
   ],
   "source": [
    "g=torch.Generator().manual_seed(2147483647)\n",
    "\n",
    "C=torch.randn((27,2), generator=g)\n",
    "W1=torch.randn((6, 100), generator=g)\n",
    "b1=torch.randn(100, generator=g)\n",
    "W2=torch.randn((100, 27), generator=g)\n",
    "b2=torch.randn(27, generator=g)\n",
    "parameters=[C, W1, b1, W2, b2]\n",
    "\n",
    "print(sum(p.nelement() for p in parameters))\n",
    "\n",
    "for p in parameters:\n",
    "    p.requires_grad = True\n",
    "\n",
    "\n",
    "\n",
    "lre=torch.linspace(-3, 0, 1000)\n",
    "lrs=10**lre\n",
    "\n",
    "lri=[]\n",
    "lossi=[]\n",
    "\n",
    "for i in range(1000):\n",
    "    \n",
    "    # minibatch construct\n",
    "    ix=torch.randint(0, X.shape[0], (32,))\n",
    "    \n",
    "    # forward pass\n",
    "    emb=C[X[ix]]\n",
    "    h=torch.tanh(emb.view(-1, 6)@ W1+b1)\n",
    "    logits=h @ W2+b2\n",
    "    loss=F.cross_entropy(logits, Y[ix])\n",
    "#     print(loss.item())\n",
    "    \n",
    "    # backward pass\n",
    "    for p in parameters:\n",
    "        p.grad=None\n",
    "    loss.backward()\n",
    "    \n",
    "    # update\n",
    "    lr=lrs[i]\n",
    "    for p in parameters:\n",
    "        p.data+=-lr*p.grad\n",
    "        \n",
    "    # track stats\n",
    "    lri.append(lre[i]) # we track the exponent\n",
    "    lossi.append(loss.item())\n",
    "\n",
    "# evaluate \n",
    "emb=C[X]\n",
    "h=torch.tanh(emb.view(-1, 6) @ W1+b1) # (32, 100)\n",
    "logits=h@W2+b2 #(32, 27)\n",
    "loss=F.cross_entropy(logits, Y)\n",
    "loss"
   ]
  },
  {
   "cell_type": "code",
   "execution_count": 12,
   "id": "0e51d662",
   "metadata": {
    "execution": {
     "iopub.execute_input": "2024-07-23T23:35:05.473744Z",
     "iopub.status.busy": "2024-07-23T23:35:05.473011Z",
     "iopub.status.idle": "2024-07-23T23:35:05.745384Z",
     "shell.execute_reply": "2024-07-23T23:35:05.744274Z"
    },
    "papermill": {
     "duration": 0.289809,
     "end_time": "2024-07-23T23:35:05.747740",
     "exception": false,
     "start_time": "2024-07-23T23:35:05.457931",
     "status": "completed"
    },
    "tags": []
   },
   "outputs": [
    {
     "data": {
      "text/plain": [
       "[<matplotlib.lines.Line2D at 0x7d5bd54ef1c0>]"
      ]
     },
     "execution_count": 12,
     "metadata": {},
     "output_type": "execute_result"
    },
    {
     "data": {
      "image/png": "[encoded data removed]",
      "text/plain": [
       "<Figure size 640x480 with 1 Axes>"
      ]
     },
     "metadata": {},
     "output_type": "display_data"
    }
   ],
   "source": [
    "# x axis exponent of learning rate\n",
    "# y axis is loss\n",
    "plt.plot(lri, lossi)\n",
    "\n",
    "# we can see that the learning rate of -1.0 is what we want to."
   ]
  },
  {
   "cell_type": "markdown",
   "id": "b2f2c766",
   "metadata": {
    "papermill": {
     "duration": 0.014107,
     "end_time": "2024-07-23T23:35:05.776665",
     "exception": false,
     "start_time": "2024-07-23T23:35:05.762558",
     "status": "completed"
    },
    "tags": []
   },
   "source": [
    "# We will use what we have found -1.0"
   ]
  },
  {
   "cell_type": "code",
   "execution_count": 13,
   "id": "a0c30cb7",
   "metadata": {
    "execution": {
     "iopub.execute_input": "2024-07-23T23:35:05.807212Z",
     "iopub.status.busy": "2024-07-23T23:35:05.806819Z",
     "iopub.status.idle": "2024-07-23T23:35:06.433201Z",
     "shell.execute_reply": "2024-07-23T23:35:06.432130Z"
    },
    "papermill": {
     "duration": 0.644622,
     "end_time": "2024-07-23T23:35:06.435731",
     "exception": false,
     "start_time": "2024-07-23T23:35:05.791109",
     "status": "completed"
    },
    "tags": []
   },
   "outputs": [
    {
     "name": "stdout",
     "output_type": "stream",
     "text": [
      "3481\n"
     ]
    }
   ],
   "source": [
    "g=torch.Generator().manual_seed(2147483647)\n",
    "\n",
    "C=torch.randn((27,2), generator=g)\n",
    "W1=torch.randn((6, 100), generator=g)\n",
    "b1=torch.randn(100, generator=g)\n",
    "W2=torch.randn((100, 27), generator=g)\n",
    "b2=torch.randn(27, generator=g)\n",
    "parameters=[C, W1, b1, W2, b2]\n",
    "\n",
    "print(sum(p.nelement() for p in parameters))\n",
    "\n",
    "for p in parameters:\n",
    "    p.requires_grad = True\n",
    "\n",
    "# embedding\n",
    "emb=C[X]\n",
    "h=torch.tanh(emb.view(-1, 6) @ W1+b1) # (32, 100)\n",
    "logits=h@W2+b2 #(32, 27)\n",
    "loss=F.cross_entropy(logits, Y)\n",
    "loss\n",
    "\n",
    "# define a range of learning rate\n",
    "lre=torch.linspace(-3, 0, 1000)\n",
    "lrs=10**lre\n",
    "\n",
    "lri=[]\n",
    "lossi=[]\n",
    "\n",
    "for i in range(1000):\n",
    "    \n",
    "    # minibatch construct\n",
    "    ix=torch.randint(0, X.shape[0], (32,))\n",
    "    \n",
    "    # forward pass\n",
    "    emb=C[X[ix]]\n",
    "    h=torch.tanh(emb.view(-1, 6)@ W1+b1)\n",
    "    logits=h @ W2+b2\n",
    "    loss=F.cross_entropy(logits, Y[ix])\n",
    "#     print(loss.item())\n",
    "    \n",
    "    # backward pass\n",
    "    for p in parameters:\n",
    "        p.grad=None\n",
    "    loss.backward()\n",
    "    \n",
    "    # update\n",
    "    lr=0.1\n",
    "    for p in parameters:\n",
    "        p.data+=-lr*p.grad\n",
    "        \n",
    "    # track stats\n",
    "#     lri.append(lre[i]) # we track the exponent\n",
    "#     lossi.append(loss.item())"
   ]
  },
  {
   "cell_type": "code",
   "execution_count": 14,
   "id": "bcf5e8bb",
   "metadata": {
    "execution": {
     "iopub.execute_input": "2024-07-23T23:35:06.468532Z",
     "iopub.status.busy": "2024-07-23T23:35:06.467517Z",
     "iopub.status.idle": "2024-07-23T23:35:06.665499Z",
     "shell.execute_reply": "2024-07-23T23:35:06.664248Z"
    },
    "papermill": {
     "duration": 0.216376,
     "end_time": "2024-07-23T23:35:06.667850",
     "exception": false,
     "start_time": "2024-07-23T23:35:06.451474",
     "status": "completed"
    },
    "tags": []
   },
   "outputs": [
    {
     "data": {
      "text/plain": [
       "tensor(2.6806, grad_fn=<NllLossBackward0>)"
      ]
     },
     "execution_count": 14,
     "metadata": {},
     "output_type": "execute_result"
    }
   ],
   "source": [
    "# evaluate \n",
    "emb=C[X]\n",
    "h=torch.tanh(emb.view(-1, 6) @ W1+b1) # (32, 100)\n",
    "logits=h@W2+b2 #(32, 27)\n",
    "loss=F.cross_entropy(logits, Y)\n",
    "loss"
   ]
  },
  {
   "cell_type": "markdown",
   "id": "98f8351d",
   "metadata": {
    "papermill": {
     "duration": 0.014439,
     "end_time": "2024-07-23T23:35:06.697180",
     "exception": false,
     "start_time": "2024-07-23T23:35:06.682741",
     "status": "completed"
    },
    "tags": []
   },
   "source": [
    "# Decay the loss\n",
    "\n",
    "After we train for a while and then, we will do the learning rate decay.\n",
    "\n",
    "From loss=2.68, we decrease loss from 0.1 -> 0.01 and do the training again. We can get more lower loss."
   ]
  },
  {
   "cell_type": "code",
   "execution_count": 15,
   "id": "e7f2226d",
   "metadata": {
    "execution": {
     "iopub.execute_input": "2024-07-23T23:35:06.729155Z",
     "iopub.status.busy": "2024-07-23T23:35:06.728251Z",
     "iopub.status.idle": "2024-07-23T23:35:07.345030Z",
     "shell.execute_reply": "2024-07-23T23:35:07.343869Z"
    },
    "papermill": {
     "duration": 0.635071,
     "end_time": "2024-07-23T23:35:07.347218",
     "exception": false,
     "start_time": "2024-07-23T23:35:06.712147",
     "status": "completed"
    },
    "tags": []
   },
   "outputs": [
    {
     "data": {
      "text/plain": [
       "tensor(2.5909, grad_fn=<NllLossBackward0>)"
      ]
     },
     "execution_count": 15,
     "metadata": {},
     "output_type": "execute_result"
    }
   ],
   "source": [
    "for i in range(1000):\n",
    "    \n",
    "    # minibatch construct\n",
    "    ix=torch.randint(0, X.shape[0], (32,))\n",
    "    \n",
    "    # forward pass\n",
    "    emb=C[X[ix]]\n",
    "    h=torch.tanh(emb.view(-1, 6)@ W1+b1)\n",
    "    logits=h @ W2+b2\n",
    "    loss=F.cross_entropy(logits, Y[ix])\n",
    "#     print(loss.item())\n",
    "    \n",
    "    # backward pass\n",
    "    for p in parameters:\n",
    "        p.grad=None\n",
    "    loss.backward()\n",
    "    \n",
    "    # update\n",
    "    lr=0.01\n",
    "    for p in parameters:\n",
    "        p.data+=-lr*p.grad\n",
    "\n",
    "emb=C[X]\n",
    "h=torch.tanh(emb.view(-1, 6) @ W1+b1) # (32, 100)\n",
    "logits=h@W2+b2 #(32, 27)\n",
    "loss=F.cross_entropy(logits, Y)\n",
    "loss"
   ]
  },
  {
   "cell_type": "markdown",
   "id": "b7de3561",
   "metadata": {
    "papermill": {
     "duration": 0.014919,
     "end_time": "2024-07-23T23:35:07.376829",
     "exception": false,
     "start_time": "2024-07-23T23:35:07.361910",
     "status": "completed"
    },
    "tags": []
   },
   "source": [
    "# Acknowledgement\n",
    "\n",
    "* https://www.youtube.com/watch?v=TCH_1BHY58I&t=1758s\n",
    "* https://www.kaggle.com/code/aisuko/multilayer-perceptron-implement\n",
    "* https://www.kaggle.com/code/aisuko/character-lm-without-framework"
   ]
  }
 ],
 "metadata": {
  "kaggle": {
   "accelerator": "none",
   "dataSources": [
    {
     "sourceId": 187064505,
     "sourceType": "kernelVersion"
    }
   ],
   "dockerImageVersionId": 30746,
   "isGpuEnabled": false,
   "isInternetEnabled": true,
   "language": "python",
   "sourceType": "notebook"
  },
  "kernelspec": {
   "display_name": "Python 3",
   "language": "python",
   "name": "python3"
  },
  "language_info": {
   "codemirror_mode": {
    "name": "ipython",
    "version": 3
   },
   "file_extension": ".py",
   "mimetype": "text/x-python",
   "name": "python",
   "nbconvert_exporter": "python",
   "pygments_lexer": "ipython3",
   "version": "3.10.13"
  },
  "papermill": {
   "default_parameters": {},
   "duration": 54.346515,
   "end_time": "2024-07-23T23:35:08.212726",
   "environment_variables": {},
   "exception": null,
   "input_path": "__notebook__.ipynb",
   "output_path": "__notebook__.ipynb",
   "parameters": {},
   "start_time": "2024-07-23T23:34:13.866211",
   "version": "2.5.0"
  }
 },
 "nbformat": 4,
 "nbformat_minor": 5
}
