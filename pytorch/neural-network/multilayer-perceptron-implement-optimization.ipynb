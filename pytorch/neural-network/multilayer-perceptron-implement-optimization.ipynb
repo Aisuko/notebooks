{
 "cells": [
  {
   "cell_type": "markdown",
   "id": "2a276c15",
   "metadata": {
    "papermill": {
     "duration": 0.007738,
     "end_time": "2024-07-23T23:30:16.138291",
     "exception": false,
     "start_time": "2024-07-23T23:30:16.130553",
     "status": "completed"
    },
    "tags": []
   },
   "source": [
    "# Build vocabulary"
   ]
  },
  {
   "cell_type": "code",
   "execution_count": 1,
   "id": "666f2245",
   "metadata": {
    "_cell_guid": "b1076dfc-b9ad-4769-8c92-a6c4dae69d19",
    "_uuid": "8f2839f25d086af736a60e9eeb907d3b93b6e0e5",
    "execution": {
     "iopub.execute_input": "2024-07-23T23:30:16.152767Z",
     "iopub.status.busy": "2024-07-23T23:30:16.152380Z",
     "iopub.status.idle": "2024-07-23T23:30:19.564505Z",
     "shell.execute_reply": "2024-07-23T23:30:19.563101Z"
    },
    "papermill": {
     "duration": 3.422181,
     "end_time": "2024-07-23T23:30:19.567098",
     "exception": false,
     "start_time": "2024-07-23T23:30:16.144917",
     "status": "completed"
    },
    "tags": []
   },
   "outputs": [
    {
     "name": "stdout",
     "output_type": "stream",
     "text": [
      "{1: 'a', 2: 'b', 3: 'c', 4: 'd', 5: 'e', 6: 'f', 7: 'g', 8: 'h', 9: 'i', 10: 'j', 11: 'k', 12: 'l', 13: 'm', 14: 'n', 15: 'o', 16: 'p', 17: 'q', 18: 'r', 19: 's', 20: 't', 21: 'u', 22: 'v', 23: 'w', 24: 'x', 25: 'y', 26: 'z', 0: '.'}\n"
     ]
    }
   ],
   "source": [
    "import torch\n",
    "import torch.nn.functional as F\n",
    "import matplotlib.pyplot as plt\n",
    "\n",
    "words=open('/kaggle/input/character-lm-without-framework/names.txt', 'r').read().splitlines()\n",
    "\n",
    "# build the vocabulary of characters and mappings to/from integers\n",
    "chars=sorted(list(set(''.join(words))))\n",
    "stoi={s:i+1 for i,s in enumerate(chars)}\n",
    "stoi['.']=0\n",
    "itos={i:s for s,i in stoi.items()}\n",
    "print(itos)"
   ]
  },
  {
   "cell_type": "markdown",
   "id": "729c15ee",
   "metadata": {
    "papermill": {
     "duration": 0.006273,
     "end_time": "2024-07-23T23:30:19.579633",
     "exception": false,
     "start_time": "2024-07-23T23:30:19.573360",
     "status": "completed"
    },
    "tags": []
   },
   "source": [
    "# Build dataset"
   ]
  },
  {
   "cell_type": "code",
   "execution_count": 2,
   "id": "7d50f03b",
   "metadata": {
    "execution": {
     "iopub.execute_input": "2024-07-23T23:30:19.594308Z",
     "iopub.status.busy": "2024-07-23T23:30:19.593398Z",
     "iopub.status.idle": "2024-07-23T23:30:20.389552Z",
     "shell.execute_reply": "2024-07-23T23:30:20.388449Z"
    },
    "papermill": {
     "duration": 0.806439,
     "end_time": "2024-07-23T23:30:20.392174",
     "exception": false,
     "start_time": "2024-07-23T23:30:19.585735",
     "status": "completed"
    },
    "tags": []
   },
   "outputs": [],
   "source": [
    "# context length: how many characters do we take to predict the next one?\n",
    "block_size=3\n",
    "# X input of neural net, Y the lable of every element in X\n",
    "X,Y=[],[]\n",
    "for w in words: # first 5 words\n",
    "    context=[0]*block_size # start with a padded context of zero tokens\n",
    "    for ch in w+'.': # we always padding with .\n",
    "        ix=stoi[ch]\n",
    "        X.append(context)\n",
    "        Y.append(ix)\n",
    "        context=context[1:] +[ix] # crop and append\n",
    "X=torch.tensor(X)\n",
    "Y=torch.tensor(Y)"
   ]
  },
  {
   "cell_type": "code",
   "execution_count": 3,
   "id": "4e6e7bfc",
   "metadata": {
    "execution": {
     "iopub.execute_input": "2024-07-23T23:30:20.406202Z",
     "iopub.status.busy": "2024-07-23T23:30:20.405797Z",
     "iopub.status.idle": "2024-07-23T23:30:20.413755Z",
     "shell.execute_reply": "2024-07-23T23:30:20.412647Z"
    },
    "papermill": {
     "duration": 0.017667,
     "end_time": "2024-07-23T23:30:20.416116",
     "exception": false,
     "start_time": "2024-07-23T23:30:20.398449",
     "status": "completed"
    },
    "tags": []
   },
   "outputs": [
    {
     "data": {
      "text/plain": [
       "(torch.Size([228146, 3]), torch.int64, torch.Size([228146]), torch.int64)"
      ]
     },
     "execution_count": 3,
     "metadata": {},
     "output_type": "execute_result"
    }
   ],
   "source": [
    "X.shape, X.dtype, Y.shape, Y.dtype"
   ]
  },
  {
   "cell_type": "markdown",
   "id": "481b4478",
   "metadata": {
    "papermill": {
     "duration": 0.006059,
     "end_time": "2024-07-23T23:30:20.428515",
     "exception": false,
     "start_time": "2024-07-23T23:30:20.422456",
     "status": "completed"
    },
    "tags": []
   },
   "source": [
    "# Define the neural network"
   ]
  },
  {
   "cell_type": "code",
   "execution_count": 4,
   "id": "db48baab",
   "metadata": {
    "execution": {
     "iopub.execute_input": "2024-07-23T23:30:20.442836Z",
     "iopub.status.busy": "2024-07-23T23:30:20.442357Z",
     "iopub.status.idle": "2024-07-23T23:30:20.461439Z",
     "shell.execute_reply": "2024-07-23T23:30:20.460260Z"
    },
    "papermill": {
     "duration": 0.029179,
     "end_time": "2024-07-23T23:30:20.463924",
     "exception": false,
     "start_time": "2024-07-23T23:30:20.434745",
     "status": "completed"
    },
    "tags": []
   },
   "outputs": [
    {
     "name": "stdout",
     "output_type": "stream",
     "text": [
      "3481\n"
     ]
    }
   ],
   "source": [
    "g=torch.Generator().manual_seed(2147483647)\n",
    "\n",
    "C=torch.randn((27,2), generator=g)\n",
    "W1=torch.randn((6, 100), generator=g)\n",
    "b1=torch.randn(100, generator=g)\n",
    "W2=torch.randn((100, 27), generator=g)\n",
    "b2=torch.randn(27, generator=g)\n",
    "parameters=[C, W1, b1, W2, b2]\n",
    "\n",
    "print(sum(p.nelement() for p in parameters))"
   ]
  },
  {
   "cell_type": "markdown",
   "id": "25857054",
   "metadata": {
    "papermill": {
     "duration": 0.006053,
     "end_time": "2024-07-23T23:30:20.476316",
     "exception": false,
     "start_time": "2024-07-23T23:30:20.470263",
     "status": "completed"
    },
    "tags": []
   },
   "source": [
    "# Define the training loop"
   ]
  },
  {
   "cell_type": "code",
   "execution_count": 5,
   "id": "4360b749",
   "metadata": {
    "_kg_hide-output": true,
    "execution": {
     "iopub.execute_input": "2024-07-23T23:30:20.490862Z",
     "iopub.status.busy": "2024-07-23T23:30:20.490085Z",
     "iopub.status.idle": "2024-07-23T23:31:01.854046Z",
     "shell.execute_reply": "2024-07-23T23:31:01.852971Z"
    },
    "papermill": {
     "duration": 41.373906,
     "end_time": "2024-07-23T23:31:01.856414",
     "exception": false,
     "start_time": "2024-07-23T23:30:20.482508",
     "status": "completed"
    },
    "tags": []
   },
   "outputs": [
    {
     "name": "stdout",
     "output_type": "stream",
     "text": [
      "19.505226135253906\n",
      "17.084484100341797\n",
      "15.776531219482422\n",
      "14.833340644836426\n",
      "14.002603530883789\n",
      "13.253263473510742\n",
      "12.57991886138916\n",
      "11.983101844787598\n",
      "11.47049331665039\n",
      "11.05185604095459\n",
      "10.709586143493652\n",
      "10.407632827758789\n",
      "10.127808570861816\n",
      "9.864364624023438\n",
      "9.614503860473633\n",
      "9.376439094543457\n",
      "9.148944854736328\n",
      "8.931110382080078\n",
      "8.722230911254883\n",
      "8.521749496459961\n",
      "8.329227447509766\n",
      "8.144325256347656\n",
      "7.966791152954102\n",
      "7.796450614929199\n",
      "7.633184909820557\n",
      "7.476908206939697\n",
      "7.327520847320557\n",
      "7.184885025024414\n",
      "7.04879093170166\n",
      "6.918952465057373\n",
      "6.795018196105957\n",
      "6.676603317260742\n",
      "6.563318729400635\n",
      "6.454790115356445\n",
      "6.350668907165527\n",
      "6.250643253326416\n",
      "6.1544318199157715\n",
      "6.061785697937012\n",
      "5.972482681274414\n",
      "5.886327743530273\n",
      "5.803147315979004\n",
      "5.722784519195557\n",
      "5.645094394683838\n",
      "5.5699462890625\n",
      "5.497213840484619\n",
      "5.426781177520752\n",
      "5.358536243438721\n",
      "5.292376518249512\n",
      "5.228204250335693\n",
      "5.165928840637207\n",
      "5.10546875\n",
      "5.046748161315918\n",
      "4.989699363708496\n",
      "4.934262275695801\n",
      "4.880381107330322\n",
      "4.828005790710449\n",
      "4.777095794677734\n",
      "4.727610111236572\n",
      "4.679514408111572\n",
      "4.632780075073242\n",
      "4.587378978729248\n",
      "4.543290138244629\n",
      "4.500491619110107\n",
      "4.458967208862305\n",
      "4.418700695037842\n",
      "4.379676342010498\n",
      "4.341879367828369\n",
      "4.30529260635376\n",
      "4.269900321960449\n",
      "4.23568058013916\n",
      "4.20261287689209\n",
      "4.170670986175537\n",
      "4.139825344085693\n",
      "4.110044956207275\n",
      "4.081293106079102\n",
      "4.053532123565674\n",
      "4.026721477508545\n",
      "4.000818729400635\n",
      "3.975780963897705\n",
      "3.9515650272369385\n",
      "3.928129196166992\n",
      "3.9054317474365234\n",
      "3.8834340572357178\n",
      "3.8620991706848145\n",
      "3.8413925170898438\n",
      "3.8212802410125732\n",
      "3.801734685897827\n",
      "3.7827274799346924\n",
      "3.7642338275909424\n",
      "3.746230125427246\n",
      "3.728695869445801\n",
      "3.7116119861602783\n",
      "3.694959878921509\n",
      "3.6787235736846924\n",
      "3.6628880500793457\n",
      "3.6474385261535645\n",
      "3.63236141204834\n",
      "3.6176462173461914\n",
      "3.603278875350952\n",
      "3.589249849319458\n",
      "3.589249849319458\n"
     ]
    }
   ],
   "source": [
    "for p in parameters:\n",
    "    p.requires_grad = True\n",
    "    \n",
    "for _ in range(100):\n",
    "    # forward pass\n",
    "    emb=C[X]\n",
    "    h=torch.tanh(emb.view(-1, 6)@ W1+b1)\n",
    "    logits=h @ W2+b2\n",
    "    loss=F.cross_entropy(logits, Y)\n",
    "    print(loss.item())\n",
    "    # backward pass\n",
    "    for p in parameters:\n",
    "        p.grad=None\n",
    "    loss.backward()\n",
    "    # update\n",
    "    for p in parameters:\n",
    "        p.data+=-0.1*p.grad\n",
    "print(loss.item())"
   ]
  },
  {
   "cell_type": "markdown",
   "id": "4d8c6fc5",
   "metadata": {
    "papermill": {
     "duration": 0.012158,
     "end_time": "2024-07-23T23:31:01.881733",
     "exception": false,
     "start_time": "2024-07-23T23:31:01.869575",
     "status": "completed"
    },
    "tags": []
   },
   "source": [
    "# How we solve the issue of doing too much work forwarding and backwarding on too much examples? \n",
    "\n",
    "We should perform forward and backward pass and update on many batches of the data. We will want to do is we want to randomly select some portion of the dataset and that's a mini batch and then only forward backward and update on that little mini batch and then we iterate on those many batches. We can use `torch.randint()`"
   ]
  },
  {
   "cell_type": "code",
   "execution_count": 6,
   "id": "4e702c22",
   "metadata": {
    "execution": {
     "iopub.execute_input": "2024-07-23T23:31:01.908632Z",
     "iopub.status.busy": "2024-07-23T23:31:01.907904Z",
     "iopub.status.idle": "2024-07-23T23:31:01.917516Z",
     "shell.execute_reply": "2024-07-23T23:31:01.916483Z"
    },
    "papermill": {
     "duration": 0.025601,
     "end_time": "2024-07-23T23:31:01.919806",
     "exception": false,
     "start_time": "2024-07-23T23:31:01.894205",
     "status": "completed"
    },
    "tags": []
   },
   "outputs": [
    {
     "data": {
      "text/plain": [
       "tensor([ 62675, 198445,  26281,  95545, 215775,  70317, 224219, 143005, 115991,\n",
       "        186283, 214901, 136725, 193668, 115716,  56067, 161931, 132373,  81439,\n",
       "        107081, 103999,  13945, 121480,  43607, 199166,  78366, 175114,  78133,\n",
       "         10891, 209930,  50894,    354,  46507])"
      ]
     },
     "execution_count": 6,
     "metadata": {},
     "output_type": "execute_result"
    }
   ],
   "source": [
    "torch.randint(0,X.shape[0],(32,))"
   ]
  },
  {
   "cell_type": "markdown",
   "id": "9d36ab0d",
   "metadata": {
    "papermill": {
     "duration": 0.012785,
     "end_time": "2024-07-23T23:31:01.945304",
     "exception": false,
     "start_time": "2024-07-23T23:31:01.932519",
     "status": "completed"
    },
    "tags": []
   },
   "source": [
    "## Mini-batches\n",
    "\n",
    "Because we're only dealing with mini batches the quality of our gradient is lower. So the directionis not as reliable. It's not the actual gradient direction, but the gradient direction is good enough even when it's estimating on only 32 examples.\n",
    "\n",
    "It's much better to have an approximate gradient and just make more steps than it's to evalutate the exact gradeient and take fewer steps so that's why inpractice this works quite well."
   ]
  },
  {
   "cell_type": "code",
   "execution_count": 7,
   "id": "525cc942",
   "metadata": {
    "_kg_hide-output": true,
    "execution": {
     "iopub.execute_input": "2024-07-23T23:31:01.972731Z",
     "iopub.status.busy": "2024-07-23T23:31:01.972335Z",
     "iopub.status.idle": "2024-07-23T23:31:02.037546Z",
     "shell.execute_reply": "2024-07-23T23:31:02.035552Z"
    },
    "papermill": {
     "duration": 0.082164,
     "end_time": "2024-07-23T23:31:02.040569",
     "exception": false,
     "start_time": "2024-07-23T23:31:01.958405",
     "status": "completed"
    },
    "tags": []
   },
   "outputs": [
    {
     "name": "stdout",
     "output_type": "stream",
     "text": [
      "3481\n",
      "19.864492416381836\n",
      "15.339550971984863\n",
      "13.91743278503418\n",
      "16.190353393554688\n",
      "12.66557502746582\n",
      "16.131303787231445\n",
      "13.975238800048828\n",
      "11.195080757141113\n",
      "13.142484664916992\n",
      "9.7213134765625\n",
      "12.631412506103516\n",
      "10.864803314208984\n",
      "8.152310371398926\n",
      "9.844369888305664\n",
      "9.722298622131348\n",
      "12.80318546295166\n",
      "10.734588623046875\n",
      "10.342843055725098\n",
      "6.484497547149658\n",
      "7.887572765350342\n",
      "8.391077995300293\n",
      "8.081265449523926\n",
      "8.18458080291748\n",
      "9.742838859558105\n",
      "6.695114612579346\n",
      "6.727070331573486\n",
      "5.3556013107299805\n",
      "6.672574043273926\n",
      "6.747439861297607\n",
      "8.898140907287598\n",
      "7.601465702056885\n",
      "6.700005054473877\n",
      "8.021796226501465\n",
      "5.1643147468566895\n",
      "7.187198638916016\n",
      "5.560469627380371\n",
      "6.274533748626709\n",
      "6.867486953735352\n",
      "6.261240482330322\n",
      "6.514636993408203\n",
      "6.086677074432373\n",
      "6.127706050872803\n",
      "5.498399257659912\n",
      "6.381011486053467\n",
      "4.874538421630859\n",
      "6.159032821655273\n",
      "5.518961429595947\n",
      "7.354826927185059\n",
      "5.318969249725342\n",
      "6.133975505828857\n",
      "6.220999717712402\n",
      "5.881175518035889\n",
      "3.7755496501922607\n",
      "4.855047702789307\n",
      "5.490497589111328\n",
      "4.4771647453308105\n",
      "4.966387748718262\n",
      "4.867494583129883\n",
      "5.569379806518555\n",
      "5.426843166351318\n",
      "5.363845348358154\n",
      "5.201747417449951\n",
      "4.50389289855957\n",
      "4.603671073913574\n",
      "4.335493564605713\n",
      "4.88535737991333\n",
      "6.129173278808594\n",
      "4.797737121582031\n",
      "5.6890177726745605\n",
      "3.3560969829559326\n",
      "3.9454426765441895\n",
      "5.6786980628967285\n",
      "3.977351427078247\n",
      "3.675976037979126\n",
      "3.7206356525421143\n",
      "4.577079772949219\n",
      "4.479152202606201\n",
      "4.4206671714782715\n",
      "3.4719181060791016\n",
      "3.9724557399749756\n",
      "3.6283440589904785\n",
      "4.217096328735352\n",
      "4.968605995178223\n",
      "4.284624099731445\n",
      "4.073209285736084\n",
      "4.853404521942139\n",
      "4.240170001983643\n",
      "3.8229126930236816\n",
      "4.644680500030518\n",
      "3.9239377975463867\n",
      "3.5095489025115967\n",
      "4.055412769317627\n",
      "3.661714792251587\n",
      "3.719128131866455\n",
      "4.535951137542725\n",
      "4.146398544311523\n",
      "3.4938035011291504\n",
      "4.233348369598389\n",
      "3.479001998901367\n",
      "3.4458134174346924\n",
      "3.4458134174346924\n"
     ]
    }
   ],
   "source": [
    "g=torch.Generator().manual_seed(2147483647)\n",
    "\n",
    "C=torch.randn((27,2), generator=g)\n",
    "W1=torch.randn((6, 100), generator=g)\n",
    "b1=torch.randn(100, generator=g)\n",
    "W2=torch.randn((100, 27), generator=g)\n",
    "b2=torch.randn(27, generator=g)\n",
    "parameters=[C, W1, b1, W2, b2]\n",
    "\n",
    "print(sum(p.nelement() for p in parameters))\n",
    "\n",
    "for p in parameters:\n",
    "    p.requires_grad = True\n",
    "\n",
    "## Mini-baches\n",
    "for _ in range(100):\n",
    "    \n",
    "    # minibatch construct\n",
    "    ix=torch.randint(0, X.shape[0], (32,))\n",
    "    \n",
    "    # forward pass\n",
    "    emb=C[X[ix]]\n",
    "    h=torch.tanh(emb.view(-1, 6)@ W1+b1)\n",
    "    logits=h @ W2+b2\n",
    "    loss=F.cross_entropy(logits, Y[ix])\n",
    "    print(loss.item())\n",
    "    \n",
    "    # backward pass\n",
    "    for p in parameters:\n",
    "        p.grad=None\n",
    "    loss.backward()\n",
    "    # update\n",
    "    for p in parameters:\n",
    "        p.data+=-0.1*p.grad\n",
    "print(loss.item())"
   ]
  },
  {
   "cell_type": "markdown",
   "id": "2068acd6",
   "metadata": {
    "papermill": {
     "duration": 0.012834,
     "end_time": "2024-07-23T23:31:02.066317",
     "exception": false,
     "start_time": "2024-07-23T23:31:02.053483",
     "status": "completed"
    },
    "tags": []
   },
   "source": [
    "# Evaluate neural net on the whole dataset"
   ]
  },
  {
   "cell_type": "code",
   "execution_count": 8,
   "id": "424fc6af",
   "metadata": {
    "execution": {
     "iopub.execute_input": "2024-07-23T23:31:02.093711Z",
     "iopub.status.busy": "2024-07-23T23:31:02.093296Z",
     "iopub.status.idle": "2024-07-23T23:31:02.102246Z",
     "shell.execute_reply": "2024-07-23T23:31:02.100880Z"
    },
    "papermill": {
     "duration": 0.025264,
     "end_time": "2024-07-23T23:31:02.104568",
     "exception": false,
     "start_time": "2024-07-23T23:31:02.079304",
     "status": "completed"
    },
    "tags": []
   },
   "outputs": [
    {
     "name": "stdout",
     "output_type": "stream",
     "text": [
      "3481\n"
     ]
    }
   ],
   "source": [
    "g=torch.Generator().manual_seed(2147483647)\n",
    "\n",
    "C=torch.randn((27,2), generator=g)\n",
    "W1=torch.randn((6, 100), generator=g)\n",
    "b1=torch.randn(100, generator=g)\n",
    "W2=torch.randn((100, 27), generator=g)\n",
    "b2=torch.randn(27, generator=g)\n",
    "parameters=[C, W1, b1, W2, b2]\n",
    "\n",
    "print(sum(p.nelement() for p in parameters))\n",
    "\n",
    "for p in parameters:\n",
    "    p.requires_grad = True\n"
   ]
  },
  {
   "cell_type": "markdown",
   "id": "3ec95616",
   "metadata": {
    "papermill": {
     "duration": 0.012667,
     "end_time": "2024-07-23T23:31:02.130143",
     "exception": false,
     "start_time": "2024-07-23T23:31:02.117476",
     "status": "completed"
    },
    "tags": []
   },
   "source": [
    "# How we find a reasonable learning rate?\n",
    "\n",
    "Currently, we set the learning rate randomly. Is there a better way to do this? We can use `tensor.linspace()` to define a range of the learning rate."
   ]
  },
  {
   "cell_type": "code",
   "execution_count": 9,
   "id": "1f8ddda0",
   "metadata": {
    "_kg_hide-output": true,
    "execution": {
     "iopub.execute_input": "2024-07-23T23:31:02.158380Z",
     "iopub.status.busy": "2024-07-23T23:31:02.157972Z",
     "iopub.status.idle": "2024-07-23T23:31:02.741611Z",
     "shell.execute_reply": "2024-07-23T23:31:02.740401Z"
    },
    "papermill": {
     "duration": 0.600234,
     "end_time": "2024-07-23T23:31:02.744032",
     "exception": false,
     "start_time": "2024-07-23T23:31:02.143798",
     "status": "completed"
    },
    "tags": []
   },
   "outputs": [
    {
     "data": {
      "text/plain": [
       "tensor(6.3793, grad_fn=<NllLossBackward0>)"
      ]
     },
     "execution_count": 9,
     "metadata": {},
     "output_type": "execute_result"
    }
   ],
   "source": [
    "lre=torch.linspace(-3, 0, 1000)\n",
    "lrs=10**lre\n",
    "\n",
    "lri=[]\n",
    "lossi=[]\n",
    "\n",
    "for i in range(1000):\n",
    "    \n",
    "    # minibatch construct\n",
    "    ix=torch.randint(0, X.shape[0], (32,))\n",
    "    \n",
    "    # forward pass\n",
    "    emb=C[X[ix]]\n",
    "    h=torch.tanh(emb.view(-1, 6)@ W1+b1)\n",
    "    logits=h @ W2+b2\n",
    "    loss=F.cross_entropy(logits, Y[ix])\n",
    "#     print(loss.item())\n",
    "    \n",
    "    # backward pass\n",
    "    for p in parameters:\n",
    "        p.grad=None\n",
    "    loss.backward()\n",
    "    \n",
    "    # update\n",
    "    lr=lrs[i]\n",
    "    for p in parameters:\n",
    "        p.data+=-lr*p.grad\n",
    "        \n",
    "    # track stats\n",
    "    lri.append(lr)\n",
    "    lossi.append(loss.item())\n",
    "    \n",
    "emb=C[X]\n",
    "h=torch.tanh(emb.view(-1, 6) @ W1+b1) # (32, 100)\n",
    "logits=h@W2+b2 #(32, 27)\n",
    "loss=F.cross_entropy(logits, Y)\n",
    "loss"
   ]
  },
  {
   "cell_type": "code",
   "execution_count": 10,
   "id": "b41b4344",
   "metadata": {
    "execution": {
     "iopub.execute_input": "2024-07-23T23:31:02.771619Z",
     "iopub.status.busy": "2024-07-23T23:31:02.771233Z",
     "iopub.status.idle": "2024-07-23T23:31:02.990030Z",
     "shell.execute_reply": "2024-07-23T23:31:02.988846Z"
    },
    "papermill": {
     "duration": 0.235622,
     "end_time": "2024-07-23T23:31:02.992632",
     "exception": false,
     "start_time": "2024-07-23T23:31:02.757010",
     "status": "completed"
    },
    "tags": []
   },
   "outputs": [
    {
     "data": {
      "text/plain": [
       "[<matplotlib.lines.Line2D at 0x7b3d304cda50>]"
      ]
     },
     "execution_count": 10,
     "metadata": {},
     "output_type": "execute_result"
    },
    {
     "data": {
      "image/png": "[encoded data removed]",
      "text/plain": [
       "<Figure size 640x480 with 1 Axes>"
      ]
     },
     "metadata": {},
     "output_type": "display_data"
    }
   ],
   "source": [
    "# x axis learning rate\n",
    "# y axis is loss\n",
    "plt.plot(lri, lossi)\n",
    "\n",
    "\n",
    "# We can see the learning rate beteen 0.0-0.2 are what we want"
   ]
  },
  {
   "cell_type": "markdown",
   "id": "adf48f15",
   "metadata": {
    "papermill": {
     "duration": 0.01324,
     "end_time": "2024-07-23T23:31:03.019548",
     "exception": false,
     "start_time": "2024-07-23T23:31:03.006308",
     "status": "completed"
    },
    "tags": []
   },
   "source": [
    "# Explore the learning rate"
   ]
  },
  {
   "cell_type": "code",
   "execution_count": 11,
   "id": "a9c8ca56",
   "metadata": {
    "_kg_hide-output": true,
    "execution": {
     "iopub.execute_input": "2024-07-23T23:31:03.049006Z",
     "iopub.status.busy": "2024-07-23T23:31:03.047918Z",
     "iopub.status.idle": "2024-07-23T23:31:03.705079Z",
     "shell.execute_reply": "2024-07-23T23:31:03.703896Z"
    },
    "papermill": {
     "duration": 0.674374,
     "end_time": "2024-07-23T23:31:03.707556",
     "exception": false,
     "start_time": "2024-07-23T23:31:03.033182",
     "status": "completed"
    },
    "tags": []
   },
   "outputs": [
    {
     "name": "stdout",
     "output_type": "stream",
     "text": [
      "3481\n"
     ]
    },
    {
     "data": {
      "text/plain": [
       "tensor(9.4551, grad_fn=<NllLossBackward0>)"
      ]
     },
     "execution_count": 11,
     "metadata": {},
     "output_type": "execute_result"
    }
   ],
   "source": [
    "g=torch.Generator().manual_seed(2147483647)\n",
    "\n",
    "C=torch.randn((27,2), generator=g)\n",
    "W1=torch.randn((6, 100), generator=g)\n",
    "b1=torch.randn(100, generator=g)\n",
    "W2=torch.randn((100, 27), generator=g)\n",
    "b2=torch.randn(27, generator=g)\n",
    "parameters=[C, W1, b1, W2, b2]\n",
    "\n",
    "print(sum(p.nelement() for p in parameters))\n",
    "\n",
    "for p in parameters:\n",
    "    p.requires_grad = True\n",
    "\n",
    "\n",
    "\n",
    "lre=torch.linspace(-3, 0, 1000)\n",
    "lrs=10**lre\n",
    "\n",
    "lri=[]\n",
    "lossi=[]\n",
    "\n",
    "for i in range(1000):\n",
    "    \n",
    "    # minibatch construct\n",
    "    ix=torch.randint(0, X.shape[0], (32,))\n",
    "    \n",
    "    # forward pass\n",
    "    emb=C[X[ix]]\n",
    "    h=torch.tanh(emb.view(-1, 6)@ W1+b1)\n",
    "    logits=h @ W2+b2\n",
    "    loss=F.cross_entropy(logits, Y[ix])\n",
    "#     print(loss.item())\n",
    "    \n",
    "    # backward pass\n",
    "    for p in parameters:\n",
    "        p.grad=None\n",
    "    loss.backward()\n",
    "    \n",
    "    # update\n",
    "    lr=lrs[i]\n",
    "    for p in parameters:\n",
    "        p.data+=-lr*p.grad\n",
    "        \n",
    "    # track stats\n",
    "    lri.append(lre[i]) # we track the exponent\n",
    "    lossi.append(loss.item())\n",
    "\n",
    "# evaluate \n",
    "emb=C[X]\n",
    "h=torch.tanh(emb.view(-1, 6) @ W1+b1) # (32, 100)\n",
    "logits=h@W2+b2 #(32, 27)\n",
    "loss=F.cross_entropy(logits, Y)\n",
    "loss"
   ]
  },
  {
   "cell_type": "code",
   "execution_count": 12,
   "id": "6248546e",
   "metadata": {
    "execution": {
     "iopub.execute_input": "2024-07-23T23:31:03.736785Z",
     "iopub.status.busy": "2024-07-23T23:31:03.736388Z",
     "iopub.status.idle": "2024-07-23T23:31:03.939209Z",
     "shell.execute_reply": "2024-07-23T23:31:03.937975Z"
    },
    "papermill": {
     "duration": 0.220065,
     "end_time": "2024-07-23T23:31:03.941522",
     "exception": false,
     "start_time": "2024-07-23T23:31:03.721457",
     "status": "completed"
    },
    "tags": []
   },
   "outputs": [
    {
     "data": {
      "text/plain": [
       "[<matplotlib.lines.Line2D at 0x7b3d0f6b1cf0>]"
      ]
     },
     "execution_count": 12,
     "metadata": {},
     "output_type": "execute_result"
    },
    {
     "data": {
      "image/png": "[encoded data removed]",
      "text/plain": [
       "<Figure size 640x480 with 1 Axes>"
      ]
     },
     "metadata": {},
     "output_type": "display_data"
    }
   ],
   "source": [
    "# x axis exponent of learning rate\n",
    "# y axis is loss\n",
    "plt.plot(lri, lossi)\n",
    "\n",
    "# we can see that the learning rate of -1.0 is what we want to."
   ]
  },
  {
   "cell_type": "markdown",
   "id": "ca3cacf1",
   "metadata": {
    "papermill": {
     "duration": 0.014159,
     "end_time": "2024-07-23T23:31:03.970067",
     "exception": false,
     "start_time": "2024-07-23T23:31:03.955908",
     "status": "completed"
    },
    "tags": []
   },
   "source": [
    "# We will use what we have found -1.0"
   ]
  },
  {
   "cell_type": "code",
   "execution_count": 13,
   "id": "c1156c2d",
   "metadata": {
    "execution": {
     "iopub.execute_input": "2024-07-23T23:31:04.000787Z",
     "iopub.status.busy": "2024-07-23T23:31:04.000101Z",
     "iopub.status.idle": "2024-07-23T23:31:04.656709Z",
     "shell.execute_reply": "2024-07-23T23:31:04.655659Z"
    },
    "papermill": {
     "duration": 0.674892,
     "end_time": "2024-07-23T23:31:04.659292",
     "exception": false,
     "start_time": "2024-07-23T23:31:03.984400",
     "status": "completed"
    },
    "tags": []
   },
   "outputs": [
    {
     "name": "stdout",
     "output_type": "stream",
     "text": [
      "3481\n"
     ]
    }
   ],
   "source": [
    "g=torch.Generator().manual_seed(2147483647)\n",
    "\n",
    "C=torch.randn((27,2), generator=g)\n",
    "W1=torch.randn((6, 100), generator=g)\n",
    "b1=torch.randn(100, generator=g)\n",
    "W2=torch.randn((100, 27), generator=g)\n",
    "b2=torch.randn(27, generator=g)\n",
    "parameters=[C, W1, b1, W2, b2]\n",
    "\n",
    "print(sum(p.nelement() for p in parameters))\n",
    "\n",
    "for p in parameters:\n",
    "    p.requires_grad = True\n",
    "\n",
    "# embedding\n",
    "emb=C[X]\n",
    "h=torch.tanh(emb.view(-1, 6) @ W1+b1) # (32, 100)\n",
    "logits=h@W2+b2 #(32, 27)\n",
    "loss=F.cross_entropy(logits, Y)\n",
    "loss\n",
    "\n",
    "# define a range of learning rate\n",
    "lre=torch.linspace(-3, 0, 1000)\n",
    "lrs=10**lre\n",
    "\n",
    "lri=[]\n",
    "lossi=[]\n",
    "\n",
    "for i in range(1000):\n",
    "    \n",
    "    # minibatch construct\n",
    "    ix=torch.randint(0, X.shape[0], (32,))\n",
    "    \n",
    "    # forward pass\n",
    "    emb=C[X[ix]]\n",
    "    h=torch.tanh(emb.view(-1, 6)@ W1+b1)\n",
    "    logits=h @ W2+b2\n",
    "    loss=F.cross_entropy(logits, Y[ix])\n",
    "#     print(loss.item())\n",
    "    \n",
    "    # backward pass\n",
    "    for p in parameters:\n",
    "        p.grad=None\n",
    "    loss.backward()\n",
    "    \n",
    "    # update\n",
    "    lr=0.1\n",
    "    for p in parameters:\n",
    "        p.data+=-lr*p.grad\n",
    "        \n",
    "    # track stats\n",
    "#     lri.append(lre[i]) # we track the exponent\n",
    "#     lossi.append(loss.item())"
   ]
  },
  {
   "cell_type": "code",
   "execution_count": 14,
   "id": "2996751f",
   "metadata": {
    "execution": {
     "iopub.execute_input": "2024-07-23T23:31:04.689806Z",
     "iopub.status.busy": "2024-07-23T23:31:04.689391Z",
     "iopub.status.idle": "2024-07-23T23:31:04.905176Z",
     "shell.execute_reply": "2024-07-23T23:31:04.904076Z"
    },
    "papermill": {
     "duration": 0.234022,
     "end_time": "2024-07-23T23:31:04.907709",
     "exception": false,
     "start_time": "2024-07-23T23:31:04.673687",
     "status": "completed"
    },
    "tags": []
   },
   "outputs": [
    {
     "data": {
      "text/plain": [
       "tensor(2.6664, grad_fn=<NllLossBackward0>)"
      ]
     },
     "execution_count": 14,
     "metadata": {},
     "output_type": "execute_result"
    }
   ],
   "source": [
    "# evaluate \n",
    "emb=C[X]\n",
    "h=torch.tanh(emb.view(-1, 6) @ W1+b1) # (32, 100)\n",
    "logits=h@W2+b2 #(32, 27)\n",
    "loss=F.cross_entropy(logits, Y)\n",
    "loss"
   ]
  },
  {
   "cell_type": "markdown",
   "id": "7bb131a6",
   "metadata": {
    "papermill": {
     "duration": 0.014136,
     "end_time": "2024-07-23T23:31:04.936556",
     "exception": false,
     "start_time": "2024-07-23T23:31:04.922420",
     "status": "completed"
    },
    "tags": []
   },
   "source": [
    "# Decay the loss\n",
    "\n",
    "From loss=2.68, we decrease loss from 0.1 -> 0.01 and do the training again. We can get more lower loss."
   ]
  },
  {
   "cell_type": "code",
   "execution_count": 15,
   "id": "3c857b23",
   "metadata": {
    "execution": {
     "iopub.execute_input": "2024-07-23T23:31:04.967986Z",
     "iopub.status.busy": "2024-07-23T23:31:04.966988Z",
     "iopub.status.idle": "2024-07-23T23:31:05.595337Z",
     "shell.execute_reply": "2024-07-23T23:31:05.594282Z"
    },
    "papermill": {
     "duration": 0.646287,
     "end_time": "2024-07-23T23:31:05.597646",
     "exception": false,
     "start_time": "2024-07-23T23:31:04.951359",
     "status": "completed"
    },
    "tags": []
   },
   "outputs": [
    {
     "data": {
      "text/plain": [
       "tensor(2.5702, grad_fn=<NllLossBackward0>)"
      ]
     },
     "execution_count": 15,
     "metadata": {},
     "output_type": "execute_result"
    }
   ],
   "source": [
    "for i in range(1000):\n",
    "    \n",
    "    # minibatch construct\n",
    "    ix=torch.randint(0, X.shape[0], (32,))\n",
    "    \n",
    "    # forward pass\n",
    "    emb=C[X[ix]]\n",
    "    h=torch.tanh(emb.view(-1, 6)@ W1+b1)\n",
    "    logits=h @ W2+b2\n",
    "    loss=F.cross_entropy(logits, Y[ix])\n",
    "#     print(loss.item())\n",
    "    \n",
    "    # backward pass\n",
    "    for p in parameters:\n",
    "        p.grad=None\n",
    "    loss.backward()\n",
    "    \n",
    "    # update\n",
    "    lr=0.01\n",
    "    for p in parameters:\n",
    "        p.data+=-lr*p.grad\n",
    "\n",
    "emb=C[X]\n",
    "h=torch.tanh(emb.view(-1, 6) @ W1+b1) # (32, 100)\n",
    "logits=h@W2+b2 #(32, 27)\n",
    "loss=F.cross_entropy(logits, Y)\n",
    "loss"
   ]
  },
  {
   "cell_type": "markdown",
   "id": "5bdd8951",
   "metadata": {
    "papermill": {
     "duration": 0.014387,
     "end_time": "2024-07-23T23:31:05.626937",
     "exception": false,
     "start_time": "2024-07-23T23:31:05.612550",
     "status": "completed"
    },
    "tags": []
   },
   "source": [
    "# Acknowledgement\n",
    "\n",
    "* https://www.youtube.com/watch?v=TCH_1BHY58I&t=1758s\n",
    "* https://www.kaggle.com/code/aisuko/multilayer-perceptron-implement\n",
    "* https://www.kaggle.com/code/aisuko/character-lm-without-framework"
   ]
  }
 ],
 "metadata": {
  "kaggle": {
   "accelerator": "none",
   "dataSources": [
    {
     "sourceId": 187064505,
     "sourceType": "kernelVersion"
    }
   ],
   "dockerImageVersionId": 30746,
   "isGpuEnabled": false,
   "isInternetEnabled": true,
   "language": "python",
   "sourceType": "notebook"
  },
  "kernelspec": {
   "display_name": "Python 3",
   "language": "python",
   "name": "python3"
  },
  "language_info": {
   "codemirror_mode": {
    "name": "ipython",
    "version": 3
   },
   "file_extension": ".py",
   "mimetype": "text/x-python",
   "name": "python",
   "nbconvert_exporter": "python",
   "pygments_lexer": "ipython3",
   "version": "3.10.13"
  },
  "papermill": {
   "default_parameters": {},
   "duration": 53.3286,
   "end_time": "2024-07-23T23:31:06.565194",
   "environment_variables": {},
   "exception": null,
   "input_path": "__notebook__.ipynb",
   "output_path": "__notebook__.ipynb",
   "parameters": {},
   "start_time": "2024-07-23T23:30:13.236594",
   "version": "2.5.0"
  }
 },
 "nbformat": 4,
 "nbformat_minor": 5
}
