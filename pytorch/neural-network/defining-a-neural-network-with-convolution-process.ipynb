{
 "cells": [
  {
   "cell_type": "markdown",
   "id": "ff70593d",
   "metadata": {
    "_cell_guid": "b1076dfc-b9ad-4769-8c92-a6c4dae69d19",
    "_uuid": "8f2839f25d086af736a60e9eeb907d3b93b6e0e5",
    "papermill": {
     "duration": 0.002723,
     "end_time": "2024-02-03T11:59:01.668271",
     "exception": false,
     "start_time": "2024-02-03T11:59:01.665548",
     "status": "completed"
    },
    "tags": []
   },
   "source": [
    "# Overview\n",
    "\n",
    "I define a de Neural Network in notebook [Build the Neural Network](https://www.kaggle.com/code/aisuko/build-the-neural-network). Let's define a new neural network with a process built into PyTorch called convolution to recognize images. Convolution adds each element of an images to its local neighbors, weighted by a kernel, or a small matrix, that helps us extract certain features(like **edge detection, sharpness, blurriness**, etc.) from the input image.\n",
    "\n",
    "Using convolution, we will define our model to take 1 input image channel, and output match our target of 10 labels representing numbers 0 through 9. And we will follow a standard MNIST algorithm."
   ]
  },
  {
   "cell_type": "code",
   "execution_count": 1,
   "id": "2efce045",
   "metadata": {
    "execution": {
     "iopub.execute_input": "2024-02-03T11:59:01.674647Z",
     "iopub.status.busy": "2024-02-03T11:59:01.674238Z",
     "iopub.status.idle": "2024-02-03T11:59:05.038561Z",
     "shell.execute_reply": "2024-02-03T11:59:05.037321Z"
    },
    "papermill": {
     "duration": 3.370366,
     "end_time": "2024-02-03T11:59:05.040917",
     "exception": false,
     "start_time": "2024-02-03T11:59:01.670551",
     "status": "completed"
    },
    "tags": []
   },
   "outputs": [
    {
     "data": {
      "text/plain": [
       "NeuralNetwork(\n",
       "  (conv1): Conv2d(1, 32, kernel_size=(3, 3), stride=(1, 1))\n",
       "  (conv2): Conv2d(32, 64, kernel_size=(3, 3), stride=(1, 1))\n",
       "  (dropout1): Dropout2d(p=0.25, inplace=False)\n",
       "  (dropout2): Dropout2d(p=0.5, inplace=False)\n",
       "  (fc1): Linear(in_features=9216, out_features=128, bias=True)\n",
       "  (fc2): Linear(in_features=128, out_features=10, bias=True)\n",
       ")"
      ]
     },
     "execution_count": 1,
     "metadata": {},
     "output_type": "execute_result"
    }
   ],
   "source": [
    "import torch\n",
    "import torch.nn as nn\n",
    "import torch.nn.functional as F\n",
    "\n",
    "class NeuralNetwork(nn.Module):\n",
    "    def __init__(self):\n",
    "        super(NeuralNetwork, self).__init__()\n",
    "        \n",
    "        # first 2D convolutional layer, taking in 1 input channel (image),\n",
    "        # outputting 32 convolutional features, with a square kernel size of 3\n",
    "        self.conv1=nn.Conv2d(1,32,3,1)\n",
    "        \n",
    "        # second 2D convolutional layer, taking in the 32 input layers,\n",
    "        # outputting 64 convolutional features, with a square kernel size of 3\n",
    "        self.conv2=nn.Conv2d(32,64,3,1)\n",
    "        \n",
    "        # designed to ensure that adjacent pixels are either all 0s or all active with an input probability\n",
    "        self.dropout1=nn.Dropout2d(0.25)\n",
    "        self.dropout2=nn.Dropout2d(0.5)\n",
    "        \n",
    "        # first fully connected layer\n",
    "        self.fc1=nn.Linear(9216, 128)\n",
    "        # second fully connected layer that outputs our 10 labels\n",
    "        self.fc2=nn.Linear(128,10)\n",
    "    \n",
    "    # x represents our data, we pass the data into the computation graph(neural network)\n",
    "    # This will represent our feed-forward algorithm\n",
    "    def forward(self, x):\n",
    "        # pass data through conv1\n",
    "        x=self.conv1(x)\n",
    "        # use the rectified-linear activation function over x\n",
    "        x=F.relu(x)\n",
    "        \n",
    "        x=self.conv2(x)\n",
    "        x=F.relu(x)\n",
    "        \n",
    "        # run max pooling over x\n",
    "        x=F.max_pool2d(x,2)\n",
    "        # pass data through dropout1\n",
    "        x=self.dropout1(x)\n",
    "        # flattern x with start_dim=1\n",
    "        x=torch.flatten(x,1)\n",
    "        # pass data through 'fc1'\n",
    "        x=self.fc1(x)\n",
    "        x=F.relu(x)\n",
    "        x=self.dropout2(x)\n",
    "        x=self.fc2(x)\n",
    "        \n",
    "        # apply softmax to x\n",
    "        output=F.log_softmax(x, dim=1)\n",
    "        \n",
    "        return output\n",
    "        \n",
    "        \n",
    "my_nn=NeuralNetwork() # .to(device) supports to moving the model to a GPU\n",
    "my_nn"
   ]
  },
  {
   "cell_type": "markdown",
   "id": "b27938cb",
   "metadata": {
    "papermill": {
     "duration": 0.002031,
     "end_time": "2024-02-03T11:59:05.045391",
     "exception": false,
     "start_time": "2024-02-03T11:59:05.043360",
     "status": "completed"
    },
    "tags": []
   },
   "source": [
    "# Pass data through the model to test"
   ]
  },
  {
   "cell_type": "code",
   "execution_count": 2,
   "id": "e9791dbf",
   "metadata": {
    "execution": {
     "iopub.execute_input": "2024-02-03T11:59:05.052265Z",
     "iopub.status.busy": "2024-02-03T11:59:05.051169Z",
     "iopub.status.idle": "2024-02-03T11:59:05.217691Z",
     "shell.execute_reply": "2024-02-03T11:59:05.216687Z"
    },
    "papermill": {
     "duration": 0.17306,
     "end_time": "2024-02-03T11:59:05.220609",
     "exception": false,
     "start_time": "2024-02-03T11:59:05.047549",
     "status": "completed"
    },
    "tags": []
   },
   "outputs": [
    {
     "name": "stderr",
     "output_type": "stream",
     "text": [
      "/opt/conda/lib/python3.10/site-packages/torch/nn/functional.py:1345: UserWarning: dropout2d: Received a 2-D input to dropout2d, which is deprecated and will result in an error in a future release. To retain the behavior and silence this warning, please use dropout instead. Note that dropout2d exists to provide channel-wise dropout on inputs with 2 spatial dimensions, a channel dimension, and an optional batch dimension (i.e. 3D or 4D inputs).\n",
      "  warnings.warn(warn_msg)\n"
     ]
    },
    {
     "data": {
      "text/plain": [
       "tensor([[-2.2642, -2.2925, -2.2536, -2.3206, -2.3308, -2.2335, -2.1965, -2.4381,\n",
       "         -2.3717, -2.3472]], grad_fn=<LogSoftmaxBackward0>)"
      ]
     },
     "execution_count": 2,
     "metadata": {},
     "output_type": "execute_result"
    }
   ],
   "source": [
    "image_in_tensor=torch.rand((1,1,28,28))\n",
    "result=my_nn(image_in_tensor)\n",
    "result"
   ]
  },
  {
   "cell_type": "markdown",
   "id": "a93fb832",
   "metadata": {
    "papermill": {
     "duration": 0.002271,
     "end_time": "2024-02-03T11:59:05.225596",
     "exception": false,
     "start_time": "2024-02-03T11:59:05.223325",
     "status": "completed"
    },
    "tags": []
   },
   "source": [
    "Each number in this resulting tensor equates to the prediction of the label the random tensor is associated to."
   ]
  }
 ],
 "metadata": {
  "kaggle": {
   "accelerator": "none",
   "dataSources": [],
   "dockerImageVersionId": 30646,
   "isGpuEnabled": false,
   "isInternetEnabled": true,
   "language": "python",
   "sourceType": "notebook"
  },
  "kernelspec": {
   "display_name": "Python 3",
   "language": "python",
   "name": "python3"
  },
  "language_info": {
   "codemirror_mode": {
    "name": "ipython",
    "version": 3
   },
   "file_extension": ".py",
   "mimetype": "text/x-python",
   "name": "python",
   "nbconvert_exporter": "python",
   "pygments_lexer": "ipython3",
   "version": "3.10.13"
  },
  "papermill": {
   "default_parameters": {},
   "duration": 7.404492,
   "end_time": "2024-02-03T11:59:06.250024",
   "environment_variables": {},
   "exception": null,
   "input_path": "__notebook__.ipynb",
   "output_path": "__notebook__.ipynb",
   "parameters": {},
   "start_time": "2024-02-03T11:58:58.845532",
   "version": "2.5.0"
  }
 },
 "nbformat": 4,
 "nbformat_minor": 5
}
