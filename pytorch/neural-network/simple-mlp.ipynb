{
 "cells": [
  {
   "cell_type": "markdown",
   "id": "d5de531d",
   "metadata": {
    "papermill": {
     "duration": 0.006724,
     "end_time": "2024-08-20T00:32:14.877437",
     "exception": false,
     "start_time": "2024-08-20T00:32:14.870713",
     "status": "completed"
    },
    "tags": []
   },
   "source": [
    "# Tensor\n",
    "\n",
    "A tensor is block of numbers in some dimension. For example, 0 dimension tensor is a single number."
   ]
  },
  {
   "cell_type": "code",
   "execution_count": 1,
   "id": "7a8e0ad0",
   "metadata": {
    "execution": {
     "iopub.execute_input": "2024-08-20T00:32:14.891945Z",
     "iopub.status.busy": "2024-08-20T00:32:14.891571Z",
     "iopub.status.idle": "2024-08-20T00:32:18.025574Z",
     "shell.execute_reply": "2024-08-20T00:32:18.024139Z"
    },
    "papermill": {
     "duration": 3.14402,
     "end_time": "2024-08-20T00:32:18.027914",
     "exception": false,
     "start_time": "2024-08-20T00:32:14.883894",
     "status": "completed"
    },
    "tags": []
   },
   "outputs": [
    {
     "name": "stdout",
     "output_type": "stream",
     "text": [
      "torch.Size([])\n",
      "tensor(42)\n"
     ]
    }
   ],
   "source": [
    "import torch\n",
    "\n",
    "t=torch.tensor(42)\n",
    "print(t.shape)\n",
    "print(t)"
   ]
  },
  {
   "cell_type": "code",
   "execution_count": 2,
   "id": "537d6a64",
   "metadata": {
    "execution": {
     "iopub.execute_input": "2024-08-20T00:32:18.042613Z",
     "iopub.status.busy": "2024-08-20T00:32:18.042118Z",
     "iopub.status.idle": "2024-08-20T00:32:18.097590Z",
     "shell.execute_reply": "2024-08-20T00:32:18.096358Z"
    },
    "papermill": {
     "duration": 0.065477,
     "end_time": "2024-08-20T00:32:18.099948",
     "exception": false,
     "start_time": "2024-08-20T00:32:18.034471",
     "status": "completed"
    },
    "tags": []
   },
   "outputs": [
    {
     "name": "stdout",
     "output_type": "stream",
     "text": [
      "torch.Size([1, 2])\n",
      "tensor([[ 1., -1.]])\n"
     ]
    }
   ],
   "source": [
    "t=torch.tensor([[1.0,-1.0]])\n",
    "print(t.shape)\n",
    "print(t)"
   ]
  },
  {
   "cell_type": "code",
   "execution_count": 3,
   "id": "5ab09aee",
   "metadata": {
    "execution": {
     "iopub.execute_input": "2024-08-20T00:32:18.114807Z",
     "iopub.status.busy": "2024-08-20T00:32:18.114440Z",
     "iopub.status.idle": "2024-08-20T00:32:18.122246Z",
     "shell.execute_reply": "2024-08-20T00:32:18.121229Z"
    },
    "papermill": {
     "duration": 0.017786,
     "end_time": "2024-08-20T00:32:18.124299",
     "exception": false,
     "start_time": "2024-08-20T00:32:18.106513",
     "status": "completed"
    },
    "tags": []
   },
   "outputs": [
    {
     "data": {
      "text/plain": [
       "torch.Size([2, 1])"
      ]
     },
     "execution_count": 3,
     "metadata": {},
     "output_type": "execute_result"
    }
   ],
   "source": [
    "t=torch.tensor([[1.0],[2.0]])\n",
    "t.shape"
   ]
  },
  {
   "cell_type": "markdown",
   "id": "06efdc5c",
   "metadata": {
    "papermill": {
     "duration": 0.006398,
     "end_time": "2024-08-20T00:32:18.137307",
     "exception": false,
     "start_time": "2024-08-20T00:32:18.130909",
     "status": "completed"
    },
    "tags": []
   },
   "source": [
    "## Shape\n",
    "\n",
    "How many dimensions the tensor has, and how large each of those dimensions is."
   ]
  },
  {
   "cell_type": "code",
   "execution_count": 4,
   "id": "f0239264",
   "metadata": {
    "execution": {
     "iopub.execute_input": "2024-08-20T00:32:18.151645Z",
     "iopub.status.busy": "2024-08-20T00:32:18.151280Z",
     "iopub.status.idle": "2024-08-20T00:32:18.157803Z",
     "shell.execute_reply": "2024-08-20T00:32:18.156810Z"
    },
    "papermill": {
     "duration": 0.016269,
     "end_time": "2024-08-20T00:32:18.159952",
     "exception": false,
     "start_time": "2024-08-20T00:32:18.143683",
     "status": "completed"
    },
    "tags": []
   },
   "outputs": [
    {
     "data": {
      "text/plain": [
       "torch.Size([2, 1])"
      ]
     },
     "execution_count": 4,
     "metadata": {},
     "output_type": "execute_result"
    }
   ],
   "source": [
    "t.data.shape"
   ]
  },
  {
   "cell_type": "code",
   "execution_count": 5,
   "id": "3a2db4ed",
   "metadata": {
    "_cell_guid": "b1076dfc-b9ad-4769-8c92-a6c4dae69d19",
    "_uuid": "8f2839f25d086af736a60e9eeb907d3b93b6e0e5",
    "execution": {
     "iopub.execute_input": "2024-08-20T00:32:18.175682Z",
     "iopub.status.busy": "2024-08-20T00:32:18.174459Z",
     "iopub.status.idle": "2024-08-20T00:32:18.182128Z",
     "shell.execute_reply": "2024-08-20T00:32:18.180735Z"
    },
    "papermill": {
     "duration": 0.017715,
     "end_time": "2024-08-20T00:32:18.184285",
     "exception": false,
     "start_time": "2024-08-20T00:32:18.166570",
     "status": "completed"
    },
    "tags": []
   },
   "outputs": [
    {
     "name": "stdout",
     "output_type": "stream",
     "text": [
      "torch.Size([2, 2])\n",
      "tensor([[ 1.0000, -1.0000],\n",
      "        [ 2.9000, -3.1000]])\n"
     ]
    }
   ],
   "source": [
    "t=torch.tensor([[1.0,-1.0], [2.9, -3.1]])\n",
    "print(t.shape)\n",
    "print(t)"
   ]
  },
  {
   "cell_type": "markdown",
   "id": "6ce53c6d",
   "metadata": {
    "papermill": {
     "duration": 0.006483,
     "end_time": "2024-08-20T00:32:18.197445",
     "exception": false,
     "start_time": "2024-08-20T00:32:18.190962",
     "status": "completed"
    },
    "tags": []
   },
   "source": [
    "## A 1-dimension tensor(a vector)"
   ]
  },
  {
   "cell_type": "code",
   "execution_count": 6,
   "id": "3da7e843",
   "metadata": {
    "execution": {
     "iopub.execute_input": "2024-08-20T00:32:18.212355Z",
     "iopub.status.busy": "2024-08-20T00:32:18.211975Z",
     "iopub.status.idle": "2024-08-20T00:32:18.218171Z",
     "shell.execute_reply": "2024-08-20T00:32:18.217149Z"
    },
    "papermill": {
     "duration": 0.0163,
     "end_time": "2024-08-20T00:32:18.220353",
     "exception": false,
     "start_time": "2024-08-20T00:32:18.204053",
     "status": "completed"
    },
    "tags": []
   },
   "outputs": [
    {
     "name": "stdout",
     "output_type": "stream",
     "text": [
      "torch.Size([5])\n",
      "tensor([1, 2, 3, 4, 5])\n"
     ]
    }
   ],
   "source": [
    "t=torch.tensor([1,2,3,4,5])\n",
    "print(t.shape)\n",
    "print(t)"
   ]
  },
  {
   "cell_type": "markdown",
   "id": "db4a09be",
   "metadata": {
    "papermill": {
     "duration": 0.006476,
     "end_time": "2024-08-20T00:32:18.234183",
     "exception": false,
     "start_time": "2024-08-20T00:32:18.227707",
     "status": "completed"
    },
    "tags": []
   },
   "source": [
    "## A 2-dimension tensor(a matrix)"
   ]
  },
  {
   "cell_type": "code",
   "execution_count": 7,
   "id": "4d65ac35",
   "metadata": {
    "execution": {
     "iopub.execute_input": "2024-08-20T00:32:18.248931Z",
     "iopub.status.busy": "2024-08-20T00:32:18.248561Z",
     "iopub.status.idle": "2024-08-20T00:32:18.255529Z",
     "shell.execute_reply": "2024-08-20T00:32:18.254458Z"
    },
    "papermill": {
     "duration": 0.016944,
     "end_time": "2024-08-20T00:32:18.257784",
     "exception": false,
     "start_time": "2024-08-20T00:32:18.240840",
     "status": "completed"
    },
    "tags": []
   },
   "outputs": [
    {
     "name": "stdout",
     "output_type": "stream",
     "text": [
      "torch.Size([2, 2])\n",
      "tensor([[ 1.0000, -1.0000],\n",
      "        [ 2.9000, -3.1000]])\n"
     ]
    }
   ],
   "source": [
    "t=torch.tensor([[1.0, -1.0], [2.9, -3.1]])\n",
    "print(t.shape)\n",
    "print(t)"
   ]
  },
  {
   "cell_type": "markdown",
   "id": "9b95cc0f",
   "metadata": {
    "papermill": {
     "duration": 0.006508,
     "end_time": "2024-08-20T00:32:18.271187",
     "exception": false,
     "start_time": "2024-08-20T00:32:18.264679",
     "status": "completed"
    },
    "tags": []
   },
   "source": [
    "# A 3-dimensional tensor"
   ]
  },
  {
   "cell_type": "code",
   "execution_count": 8,
   "id": "36689c7d",
   "metadata": {
    "execution": {
     "iopub.execute_input": "2024-08-20T00:32:18.286173Z",
     "iopub.status.busy": "2024-08-20T00:32:18.285790Z",
     "iopub.status.idle": "2024-08-20T00:32:18.292426Z",
     "shell.execute_reply": "2024-08-20T00:32:18.291406Z"
    },
    "papermill": {
     "duration": 0.016798,
     "end_time": "2024-08-20T00:32:18.294691",
     "exception": false,
     "start_time": "2024-08-20T00:32:18.277893",
     "status": "completed"
    },
    "tags": []
   },
   "outputs": [
    {
     "name": "stdout",
     "output_type": "stream",
     "text": [
      "torch.Size([2, 2, 2])\n",
      "tensor([[[1, 2],\n",
      "         [3, 4]],\n",
      "\n",
      "        [[5, 6],\n",
      "         [7, 8]]])\n"
     ]
    }
   ],
   "source": [
    "t = torch.tensor([[[1, 2], [3, 4]], [[5, 6], [7, 8]]])\n",
    "print(t.shape)\n",
    "print(t)"
   ]
  },
  {
   "cell_type": "markdown",
   "id": "cc7400af",
   "metadata": {
    "papermill": {
     "duration": 0.006576,
     "end_time": "2024-08-20T00:32:18.308361",
     "exception": false,
     "start_time": "2024-08-20T00:32:18.301785",
     "status": "completed"
    },
    "tags": []
   },
   "source": [
    "# Neural Networks"
   ]
  },
  {
   "cell_type": "code",
   "execution_count": 9,
   "id": "a362ae50",
   "metadata": {
    "execution": {
     "iopub.execute_input": "2024-08-20T00:32:18.323454Z",
     "iopub.status.busy": "2024-08-20T00:32:18.323091Z",
     "iopub.status.idle": "2024-08-20T00:32:18.334350Z",
     "shell.execute_reply": "2024-08-20T00:32:18.333444Z"
    },
    "papermill": {
     "duration": 0.021242,
     "end_time": "2024-08-20T00:32:18.336500",
     "exception": false,
     "start_time": "2024-08-20T00:32:18.315258",
     "status": "completed"
    },
    "tags": []
   },
   "outputs": [],
   "source": [
    "import torch\n",
    "import torch.nn as nn\n",
    "\n",
    "\n",
    "class SmallGPT(nn.Module):\n",
    "    def __init__(self, input_size, hidden_size, output_size):\n",
    "        super(SmallGPT, self).__init__()\n",
    "        self.fc1=nn.Linear(input_size, hidden_size)\n",
    "        self.fc2=nn.Linear(hidden_size, output_size)\n",
    "        \n",
    "    def forward(self, x):\n",
    "        \"\"\"\n",
    "        forward pass\n",
    "        how data flows through the model to achieve some output\n",
    "        \"\"\"\n",
    "        x=self.fc1(x) # linear layers are also often called fully connected layers\n",
    "        x=self.fc2(x) # second linear\n",
    "        return x\n",
    "\n",
    "m=SmallGPT(3,4,2)"
   ]
  },
  {
   "cell_type": "code",
   "execution_count": 10,
   "id": "093ee120",
   "metadata": {
    "execution": {
     "iopub.execute_input": "2024-08-20T00:32:18.351647Z",
     "iopub.status.busy": "2024-08-20T00:32:18.351303Z",
     "iopub.status.idle": "2024-08-20T00:32:18.368277Z",
     "shell.execute_reply": "2024-08-20T00:32:18.367295Z"
    },
    "papermill": {
     "duration": 0.027036,
     "end_time": "2024-08-20T00:32:18.370514",
     "exception": false,
     "start_time": "2024-08-20T00:32:18.343478",
     "status": "completed"
    },
    "tags": []
   },
   "outputs": [
    {
     "name": "stdout",
     "output_type": "stream",
     "text": [
      "tensor([-0.3181,  0.7999], grad_fn=<ViewBackward0>)\n"
     ]
    }
   ],
   "source": [
    "data_input=torch.tensor([1,2,3], dtype=torch.float32)\n",
    "output=m(data_input)\n",
    "print(output)"
   ]
  },
  {
   "cell_type": "markdown",
   "id": "ce26c84d",
   "metadata": {
    "papermill": {
     "duration": 0.006981,
     "end_time": "2024-08-20T00:32:18.384614",
     "exception": false,
     "start_time": "2024-08-20T00:32:18.377633",
     "status": "completed"
    },
    "tags": []
   },
   "source": [
    "Here, the input tensor of length is 3 and the output tensor of length is 2. We get a random output.\n",
    "\n",
    "# Core concept of a neural netowork\n",
    "\n",
    "Under the hood a neural network can be conceptualized as spots where data gets stored, and weights which the model uses to process the input and turn it into some output.\n",
    "\n",
    "# Non-linearity\n",
    "\n",
    "Many problems in the real world can't be modeled with simple linear relationships. So, we bake non-linearity into the model using \"activation function\", like \"Sigmoid\".\n",
    "\n",
    "# torchvision\n",
    "\n",
    "A PyTorch companion library called \"torchvision\", which has some utilities for visual modeling stuff."
   ]
  },
  {
   "cell_type": "code",
   "execution_count": 11,
   "id": "e54b5b85",
   "metadata": {
    "_kg_hide-input": false,
    "_kg_hide-output": true,
    "execution": {
     "iopub.execute_input": "2024-08-20T00:32:18.400430Z",
     "iopub.status.busy": "2024-08-20T00:32:18.400038Z",
     "iopub.status.idle": "2024-08-20T00:32:42.206546Z",
     "shell.execute_reply": "2024-08-20T00:32:42.205556Z"
    },
    "papermill": {
     "duration": 23.818284,
     "end_time": "2024-08-20T00:32:42.210117",
     "exception": false,
     "start_time": "2024-08-20T00:32:18.391833",
     "status": "completed"
    },
    "tags": []
   },
   "outputs": [
    {
     "name": "stdout",
     "output_type": "stream",
     "text": [
      "Downloading http://yann.lecun.com/exdb/mnist/train-images-idx3-ubyte.gz\n",
      "Failed to download (trying next):\n",
      "HTTP Error 403: Forbidden\n",
      "\n",
      "Downloading https://ossci-datasets.s3.amazonaws.com/mnist/train-images-idx3-ubyte.gz\n",
      "Downloading https://ossci-datasets.s3.amazonaws.com/mnist/train-images-idx3-ubyte.gz to data/MNIST/raw/train-images-idx3-ubyte.gz\n"
     ]
    },
    {
     "name": "stderr",
     "output_type": "stream",
     "text": [
      "100%|██████████| 9912422/9912422 [00:09<00:00, 993638.49it/s] \n"
     ]
    },
    {
     "name": "stdout",
     "output_type": "stream",
     "text": [
      "Extracting data/MNIST/raw/train-images-idx3-ubyte.gz to data/MNIST/raw\n",
      "\n",
      "Downloading http://yann.lecun.com/exdb/mnist/train-labels-idx1-ubyte.gz\n",
      "Failed to download (trying next):\n",
      "HTTP Error 403: Forbidden\n",
      "\n",
      "Downloading https://ossci-datasets.s3.amazonaws.com/mnist/train-labels-idx1-ubyte.gz\n",
      "Downloading https://ossci-datasets.s3.amazonaws.com/mnist/train-labels-idx1-ubyte.gz to data/MNIST/raw/train-labels-idx1-ubyte.gz\n"
     ]
    },
    {
     "name": "stderr",
     "output_type": "stream",
     "text": [
      "100%|██████████| 28881/28881 [00:00<00:00, 149629.49it/s]\n"
     ]
    },
    {
     "name": "stdout",
     "output_type": "stream",
     "text": [
      "Extracting data/MNIST/raw/train-labels-idx1-ubyte.gz to data/MNIST/raw\n",
      "\n",
      "Downloading http://yann.lecun.com/exdb/mnist/t10k-images-idx3-ubyte.gz\n",
      "Failed to download (trying next):\n",
      "HTTP Error 403: Forbidden\n",
      "\n",
      "Downloading https://ossci-datasets.s3.amazonaws.com/mnist/t10k-images-idx3-ubyte.gz\n",
      "Downloading https://ossci-datasets.s3.amazonaws.com/mnist/t10k-images-idx3-ubyte.gz to data/MNIST/raw/t10k-images-idx3-ubyte.gz\n"
     ]
    },
    {
     "name": "stderr",
     "output_type": "stream",
     "text": [
      "100%|██████████| 1648877/1648877 [00:01<00:00, 1228205.74it/s]\n"
     ]
    },
    {
     "name": "stdout",
     "output_type": "stream",
     "text": [
      "Extracting data/MNIST/raw/t10k-images-idx3-ubyte.gz to data/MNIST/raw\n",
      "\n",
      "Downloading http://yann.lecun.com/exdb/mnist/t10k-labels-idx1-ubyte.gz\n",
      "Failed to download (trying next):\n",
      "HTTP Error 403: Forbidden\n",
      "\n",
      "Downloading https://ossci-datasets.s3.amazonaws.com/mnist/t10k-labels-idx1-ubyte.gz\n",
      "Downloading https://ossci-datasets.s3.amazonaws.com/mnist/t10k-labels-idx1-ubyte.gz to data/MNIST/raw/t10k-labels-idx1-ubyte.gz\n"
     ]
    },
    {
     "name": "stderr",
     "output_type": "stream",
     "text": [
      "100%|██████████| 4542/4542 [00:00<00:00, 2373601.89it/s]"
     ]
    },
    {
     "name": "stdout",
     "output_type": "stream",
     "text": [
      "Extracting data/MNIST/raw/t10k-labels-idx1-ubyte.gz to data/MNIST/raw\n",
      "\n"
     ]
    },
    {
     "name": "stderr",
     "output_type": "stream",
     "text": [
      "\n"
     ]
    }
   ],
   "source": [
    "from torchvision import datasets\n",
    "from torchvision.transforms import ToTensor\n",
    "\n",
    "train_data = datasets.MNIST(\n",
    "    root = 'data',\n",
    "    train = True,\n",
    "    transform = ToTensor(),\n",
    "    download = True,\n",
    ")\n",
    "test_data = datasets.MNIST(\n",
    "    root = 'data',\n",
    "    train = False,\n",
    "    transform = ToTensor()\n",
    ")"
   ]
  },
  {
   "cell_type": "code",
   "execution_count": 12,
   "id": "74f0d878",
   "metadata": {
    "execution": {
     "iopub.execute_input": "2024-08-20T00:32:42.237322Z",
     "iopub.status.busy": "2024-08-20T00:32:42.236771Z",
     "iopub.status.idle": "2024-08-20T00:32:42.242242Z",
     "shell.execute_reply": "2024-08-20T00:32:42.241294Z"
    },
    "papermill": {
     "duration": 0.021633,
     "end_time": "2024-08-20T00:32:42.244809",
     "exception": false,
     "start_time": "2024-08-20T00:32:42.223176",
     "status": "completed"
    },
    "tags": []
   },
   "outputs": [
    {
     "name": "stdout",
     "output_type": "stream",
     "text": [
      "torch.Size([60000, 28, 28])\n",
      "torch.Size([60000])\n"
     ]
    }
   ],
   "source": [
    "# First tensor represents all of the images in the training set\n",
    "print(train_data.data.shape)\n",
    "\n",
    "# The second tensor represents all of the corresponding labels\n",
    "print(train_data.targets.shape)"
   ]
  },
  {
   "cell_type": "code",
   "execution_count": 13,
   "id": "acd01d18",
   "metadata": {
    "execution": {
     "iopub.execute_input": "2024-08-20T00:32:42.271710Z",
     "iopub.status.busy": "2024-08-20T00:32:42.271350Z",
     "iopub.status.idle": "2024-08-20T00:32:42.461903Z",
     "shell.execute_reply": "2024-08-20T00:32:42.460902Z"
    },
    "papermill": {
     "duration": 0.206646,
     "end_time": "2024-08-20T00:32:42.464109",
     "exception": false,
     "start_time": "2024-08-20T00:32:42.257463",
     "status": "completed"
    },
    "tags": []
   },
   "outputs": [
    {
     "name": "stdout",
     "output_type": "stream",
     "text": [
      "tensor(1)\n"
     ]
    },
    {
     "data": {
      "image/png": "[encoded data removed]",
      "text/plain": [
       "<Figure size 640x480 with 1 Axes>"
      ]
     },
     "metadata": {},
     "output_type": "display_data"
    }
   ],
   "source": [
    "# Visualization\n",
    "\n",
    "import matplotlib.pyplot as plt\n",
    "\n",
    "i=3\n",
    "print(train_data.targets[i])\n",
    "\n",
    "plt.imshow(train_data.data[i], cmap='gray')\n",
    "plt.show()"
   ]
  },
  {
   "cell_type": "markdown",
   "id": "520fef0f",
   "metadata": {
    "papermill": {
     "duration": 0.012656,
     "end_time": "2024-08-20T00:32:42.489742",
     "exception": false,
     "start_time": "2024-08-20T00:32:42.477086",
     "status": "completed"
    },
    "tags": []
   },
   "source": [
    "## Check tensor of image\n",
    "\n",
    "Here, we let PyTorch can print out in super long lines, then printing the actual values in the tensor that represents an image."
   ]
  },
  {
   "cell_type": "code",
   "execution_count": 14,
   "id": "53a94310",
   "metadata": {
    "execution": {
     "iopub.execute_input": "2024-08-20T00:32:42.516899Z",
     "iopub.status.busy": "2024-08-20T00:32:42.516548Z",
     "iopub.status.idle": "2024-08-20T00:32:42.527292Z",
     "shell.execute_reply": "2024-08-20T00:32:42.525802Z"
    },
    "papermill": {
     "duration": 0.026916,
     "end_time": "2024-08-20T00:32:42.529394",
     "exception": false,
     "start_time": "2024-08-20T00:32:42.502478",
     "status": "completed"
    },
    "tags": []
   },
   "outputs": [
    {
     "name": "stdout",
     "output_type": "stream",
     "text": [
      "tensor([[  0,   0,   0,   0,   0,   0,   0,   0,   0,   0,   0,   0,   0,   0,   0,   0,   0,   0,   0,   0,   0,   0,   0,   0,   0,   0,   0,   0],\n",
      "        [  0,   0,   0,   0,   0,   0,   0,   0,   0,   0,   0,   0,   0,   0,   0,   0,   0,   0,   0,   0,   0,   0,   0,   0,   0,   0,   0,   0],\n",
      "        [  0,   0,   0,   0,   0,   0,   0,   0,   0,   0,   0,   0,   0,   0,   0,   0,   0,   0,   0,   0,   0,   0,   0,   0,   0,   0,   0,   0],\n",
      "        [  0,   0,   0,   0,   0,   0,   0,   0,   0,   0,   0,   0,   0,   0,   0,   0,   0,   0,   0,   0,   0,   0,   0,   0,   0,   0,   0,   0],\n",
      "        [  0,   0,   0,   0,   0,   0,   0,   0,   0,   0,   0,   0,   0,   0,   0,   0,   0,   0,   0,   0,   0,   0,   0,   0,   0,   0,   0,   0],\n",
      "        [  0,   0,   0,   0,   0,   0,   0,   0,   0,   0,   0,   0,   0,   0,   0,   0,   0,   0, 124, 253, 255,  63,   0,   0,   0,   0,   0,   0],\n",
      "        [  0,   0,   0,   0,   0,   0,   0,   0,   0,   0,   0,   0,   0,   0,   0,   0,   0,  96, 244, 251, 253,  62,   0,   0,   0,   0,   0,   0],\n",
      "        [  0,   0,   0,   0,   0,   0,   0,   0,   0,   0,   0,   0,   0,   0,   0,   0,   0, 127, 251, 251, 253,  62,   0,   0,   0,   0,   0,   0],\n",
      "        [  0,   0,   0,   0,   0,   0,   0,   0,   0,   0,   0,   0,   0,   0,   0,   0,  68, 236, 251, 211,  31,   8,   0,   0,   0,   0,   0,   0],\n",
      "        [  0,   0,   0,   0,   0,   0,   0,   0,   0,   0,   0,   0,   0,   0,   0,  60, 228, 251, 251,  94,   0,   0,   0,   0,   0,   0,   0,   0],\n",
      "        [  0,   0,   0,   0,   0,   0,   0,   0,   0,   0,   0,   0,   0,   0,   0, 155, 253, 253, 189,   0,   0,   0,   0,   0,   0,   0,   0,   0],\n",
      "        [  0,   0,   0,   0,   0,   0,   0,   0,   0,   0,   0,   0,   0,   0,  20, 253, 251, 235,  66,   0,   0,   0,   0,   0,   0,   0,   0,   0],\n",
      "        [  0,   0,   0,   0,   0,   0,   0,   0,   0,   0,   0,   0,   0,  32, 205, 253, 251, 126,   0,   0,   0,   0,   0,   0,   0,   0,   0,   0],\n",
      "        [  0,   0,   0,   0,   0,   0,   0,   0,   0,   0,   0,   0,   0, 104, 251, 253, 184,  15,   0,   0,   0,   0,   0,   0,   0,   0,   0,   0],\n",
      "        [  0,   0,   0,   0,   0,   0,   0,   0,   0,   0,   0,   0,  80, 240, 251, 193,  23,   0,   0,   0,   0,   0,   0,   0,   0,   0,   0,   0],\n",
      "        [  0,   0,   0,   0,   0,   0,   0,   0,   0,   0,   0,  32, 253, 253, 253, 159,   0,   0,   0,   0,   0,   0,   0,   0,   0,   0,   0,   0],\n",
      "        [  0,   0,   0,   0,   0,   0,   0,   0,   0,   0,   0, 151, 251, 251, 251,  39,   0,   0,   0,   0,   0,   0,   0,   0,   0,   0,   0,   0],\n",
      "        [  0,   0,   0,   0,   0,   0,   0,   0,   0,   0,  48, 221, 251, 251, 172,   0,   0,   0,   0,   0,   0,   0,   0,   0,   0,   0,   0,   0],\n",
      "        [  0,   0,   0,   0,   0,   0,   0,   0,   0,   0, 234, 251, 251, 196,  12,   0,   0,   0,   0,   0,   0,   0,   0,   0,   0,   0,   0,   0],\n",
      "        [  0,   0,   0,   0,   0,   0,   0,   0,   0,   0, 253, 251, 251,  89,   0,   0,   0,   0,   0,   0,   0,   0,   0,   0,   0,   0,   0,   0],\n",
      "        [  0,   0,   0,   0,   0,   0,   0,   0,   0, 159, 255, 253, 253,  31,   0,   0,   0,   0,   0,   0,   0,   0,   0,   0,   0,   0,   0,   0],\n",
      "        [  0,   0,   0,   0,   0,   0,   0,   0,  48, 228, 253, 247, 140,   8,   0,   0,   0,   0,   0,   0,   0,   0,   0,   0,   0,   0,   0,   0],\n",
      "        [  0,   0,   0,   0,   0,   0,   0,   0,  64, 251, 253, 220,   0,   0,   0,   0,   0,   0,   0,   0,   0,   0,   0,   0,   0,   0,   0,   0],\n",
      "        [  0,   0,   0,   0,   0,   0,   0,   0,  64, 251, 253, 220,   0,   0,   0,   0,   0,   0,   0,   0,   0,   0,   0,   0,   0,   0,   0,   0],\n",
      "        [  0,   0,   0,   0,   0,   0,   0,   0,  24, 193, 253, 220,   0,   0,   0,   0,   0,   0,   0,   0,   0,   0,   0,   0,   0,   0,   0,   0],\n",
      "        [  0,   0,   0,   0,   0,   0,   0,   0,   0,   0,   0,   0,   0,   0,   0,   0,   0,   0,   0,   0,   0,   0,   0,   0,   0,   0,   0,   0],\n",
      "        [  0,   0,   0,   0,   0,   0,   0,   0,   0,   0,   0,   0,   0,   0,   0,   0,   0,   0,   0,   0,   0,   0,   0,   0,   0,   0,   0,   0],\n",
      "        [  0,   0,   0,   0,   0,   0,   0,   0,   0,   0,   0,   0,   0,   0,   0,   0,   0,   0,   0,   0,   0,   0,   0,   0,   0,   0,   0,   0]], dtype=torch.uint8)\n",
      "torch.Size([28, 28])\n"
     ]
    }
   ],
   "source": [
    "# We will use all the data to train our model\n",
    "\n",
    "import torch\n",
    "\n",
    "torch.set_printoptions(linewidth=200)\n",
    "print(train_data.data[i])\n",
    "print(train_data.data[i].shape)"
   ]
  },
  {
   "cell_type": "markdown",
   "id": "f30249ed",
   "metadata": {
    "papermill": {
     "duration": 0.012703,
     "end_time": "2024-08-20T00:32:42.555143",
     "exception": false,
     "start_time": "2024-08-20T00:32:42.542440",
     "status": "completed"
    },
    "tags": []
   },
   "source": [
    "# Building the model\n",
    "\n"
   ]
  },
  {
   "cell_type": "code",
   "execution_count": 15,
   "id": "7c76941c",
   "metadata": {
    "execution": {
     "iopub.execute_input": "2024-08-20T00:32:42.582429Z",
     "iopub.status.busy": "2024-08-20T00:32:42.582034Z",
     "iopub.status.idle": "2024-08-20T00:32:42.589780Z",
     "shell.execute_reply": "2024-08-20T00:32:42.588463Z"
    },
    "papermill": {
     "duration": 0.02387,
     "end_time": "2024-08-20T00:32:42.591886",
     "exception": false,
     "start_time": "2024-08-20T00:32:42.568016",
     "status": "completed"
    },
    "tags": []
   },
   "outputs": [],
   "source": [
    "class MNISTModel(nn.Module):\n",
    "    def __init__(self):\n",
    "        super(MNISTModel, self).__init__()\n",
    "        # 28*28=784\n",
    "        self.fc1=nn.Linear(784, 128)\n",
    "        self.activation1=nn.ReLU()\n",
    "        self.fc2=nn.Linear(128,64)\n",
    "        self.activation2=nn.ReLU()\n",
    "        # the output is 10, meaning the model will output 10 numbers. \n",
    "        # It represent the models condidence for every number (0-9).\n",
    "        self.fc3=nn.Linear(64, 10)\n",
    "    \n",
    "    def forward(self, x):\n",
    "        \"\"\"\n",
    "        Use flatten(x) function flattent the images from a 2D representationinto a 1D representation\n",
    "        \"\"\"\n",
    "        \n",
    "        x=torch.flatten(x) # it's not a 28*28 matrix, it is a vector of length 28*28 which is 784.\n",
    "        x=self.fc1(x)\n",
    "        x=self.activation1(x)\n",
    "        x=self.fc2(x)\n",
    "        x=self.activation2(x)\n",
    "        x=self.fc3(x)\n",
    "        return x"
   ]
  },
  {
   "cell_type": "markdown",
   "id": "5fc0fa90",
   "metadata": {
    "papermill": {
     "duration": 0.012682,
     "end_time": "2024-08-20T00:32:42.617612",
     "exception": false,
     "start_time": "2024-08-20T00:32:42.604930",
     "status": "completed"
    },
    "tags": []
   },
   "source": [
    "# Training"
   ]
  },
  {
   "cell_type": "code",
   "execution_count": 16,
   "id": "8c58ff6f",
   "metadata": {
    "execution": {
     "iopub.execute_input": "2024-08-20T00:32:42.645420Z",
     "iopub.status.busy": "2024-08-20T00:32:42.644740Z",
     "iopub.status.idle": "2024-08-20T00:33:31.643000Z",
     "shell.execute_reply": "2024-08-20T00:33:31.641964Z"
    },
    "papermill": {
     "duration": 49.015241,
     "end_time": "2024-08-20T00:33:31.645765",
     "exception": false,
     "start_time": "2024-08-20T00:32:42.630524",
     "status": "completed"
    },
    "tags": []
   },
   "outputs": [],
   "source": [
    "import torch.nn.functional as F\n",
    "import torch.optim as optim\n",
    "\n",
    "model=MNISTModel()\n",
    "loss_fn=nn.CrossEntropyLoss() # it's used to calcualte how wrong a particular prediction is\n",
    "# SGD: stochastic gradient descent\n",
    "# model can get updated based on how wrong it was(the loss)\n",
    "# lr: how much the model's parameters will be changed based on every training example\n",
    "optimizer=torch.optim.SGD(model.parameters(), lr=1e-4)\n",
    "\n",
    "losses=[] # keep track the loss ar each training example\n",
    "\n",
    "for (x,y) in zip(train_data.data, train_data.targets): # get data and label\n",
    "    \n",
    "    x=x.type(torch.float32) # data type for the numbers have to be the same for PyTorch to do math between two numbers\n",
    "    \n",
    "    # asking the model to make a prediction\n",
    "    y_pred=model.forward(x)\n",
    "    \n",
    "    # re-formatting the otuput to instead of 0-10 it's [1,0,0,0,0,0,0,0,0,0] - [0,0,0,0,0,0,0,0,0,1]\n",
    "    # we need the desired output represented as a list of 10 probabilities\n",
    "    y=F.one_hot(y, 10).type(torch.float32)\n",
    "    \n",
    "    loss=loss_fn(y_pred, y)\n",
    "    \n",
    "    # Backward pass (updating model absed on gradients)\n",
    "    optimizer.zero_grad() # reset the model, make it ready to learn based on a new example\n",
    "    loss.backward() # what parameters need to be bigger or smaller\n",
    "    optimizer.step() # We know which parameters need to be bigger or smaller to have better output, and use the optimizer to make the changes\n",
    "    \n",
    "    # keeping track of loss\n",
    "    losses.append(float(loss))"
   ]
  },
  {
   "cell_type": "code",
   "execution_count": 17,
   "id": "716f29d6",
   "metadata": {
    "execution": {
     "iopub.execute_input": "2024-08-20T00:33:31.674263Z",
     "iopub.status.busy": "2024-08-20T00:33:31.673017Z",
     "iopub.status.idle": "2024-08-20T00:33:31.874690Z",
     "shell.execute_reply": "2024-08-20T00:33:31.873592Z"
    },
    "papermill": {
     "duration": 0.21812,
     "end_time": "2024-08-20T00:33:31.877026",
     "exception": false,
     "start_time": "2024-08-20T00:33:31.658906",
     "status": "completed"
    },
    "tags": []
   },
   "outputs": [
    {
     "data": {
      "image/png": "[encoded data removed]",
      "text/plain": [
       "<Figure size 640x480 with 1 Axes>"
      ]
     },
     "metadata": {},
     "output_type": "display_data"
    }
   ],
   "source": [
    "import matplotlib.pyplot as plt\n",
    "import numpy as np\n",
    "\n",
    "#if we just plot the loss of individual samples we'll get a very sporadic line.\n",
    "#This smooths out the trend of our data.\n",
    "def moving_avg(x, n):\n",
    "    cumsum = np.cumsum(np.insert(x, 0, 0)) \n",
    "    return (cumsum[n:] - cumsum[:-n]) / float(n)\n",
    "\n",
    "#Plotting a smoothed version of loss over successive training examples.\n",
    "plt.plot(moving_avg(losses, 1000))\n",
    "plt.xlabel('training iteration')\n",
    "plt.ylabel('loss')\n",
    "plt.show()"
   ]
  },
  {
   "cell_type": "markdown",
   "id": "9084d7d5",
   "metadata": {
    "papermill": {
     "duration": 0.013293,
     "end_time": "2024-08-20T00:33:31.904018",
     "exception": false,
     "start_time": "2024-08-20T00:33:31.890725",
     "status": "completed"
    },
    "tags": []
   },
   "source": [
    "# Testing"
   ]
  },
  {
   "cell_type": "code",
   "execution_count": 18,
   "id": "37477c3a",
   "metadata": {
    "execution": {
     "iopub.execute_input": "2024-08-20T00:33:31.933541Z",
     "iopub.status.busy": "2024-08-20T00:33:31.933149Z",
     "iopub.status.idle": "2024-08-20T00:33:33.300287Z",
     "shell.execute_reply": "2024-08-20T00:33:33.299128Z"
    },
    "papermill": {
     "duration": 1.384952,
     "end_time": "2024-08-20T00:33:33.302545",
     "exception": false,
     "start_time": "2024-08-20T00:33:31.917593",
     "status": "completed"
    },
    "tags": []
   },
   "outputs": [
    {
     "name": "stdout",
     "output_type": "stream",
     "text": [
      "Accuracy %:\n",
      "94.03\n"
     ]
    }
   ],
   "source": [
    "num_true = 0\n",
    "test_quant = 0\n",
    "\n",
    "for (x_test, y_test) in zip(test_data.data, test_data.targets):\n",
    "    #running test example through model\n",
    "    y_pred_test = model(x_test.type(torch.float32))\n",
    "\n",
    "    #getting predicted value (highest value)\n",
    "    y_pred_test = torch.argmax(y_pred_test)\n",
    "\n",
    "    #checking to see if the right value was predicted\n",
    "    if bool(y_pred_test == y_test):\n",
    "        num_true += 1\n",
    "    test_quant += 1\n",
    "\n",
    "print(f'Accuracy %:')\n",
    "print((num_true/test_quant)*100)"
   ]
  },
  {
   "cell_type": "markdown",
   "id": "892f77a4",
   "metadata": {
    "papermill": {
     "duration": 0.013153,
     "end_time": "2024-08-20T00:33:33.329323",
     "exception": false,
     "start_time": "2024-08-20T00:33:33.316170",
     "status": "completed"
    },
    "tags": []
   },
   "source": [
    "# Acknowledgements\n",
    "\n",
    "* https://towardsdatascience.com/ai-for-the-absolute-novice-intuitively-and-exhaustively-explained-7b353a31e6d7"
   ]
  }
 ],
 "metadata": {
  "kaggle": {
   "accelerator": "none",
   "dataSources": [],
   "dockerImageVersionId": 30746,
   "isGpuEnabled": false,
   "isInternetEnabled": true,
   "language": "python",
   "sourceType": "notebook"
  },
  "kernelspec": {
   "display_name": "Python 3",
   "language": "python",
   "name": "python3"
  },
  "language_info": {
   "codemirror_mode": {
    "name": "ipython",
    "version": 3
   },
   "file_extension": ".py",
   "mimetype": "text/x-python",
   "name": "python",
   "nbconvert_exporter": "python",
   "pygments_lexer": "ipython3",
   "version": "3.10.13"
  },
  "papermill": {
   "default_parameters": {},
   "duration": 82.168825,
   "end_time": "2024-08-20T00:33:34.365233",
   "environment_variables": {},
   "exception": null,
   "input_path": "__notebook__.ipynb",
   "output_path": "__notebook__.ipynb",
   "parameters": {},
   "start_time": "2024-08-20T00:32:12.196408",
   "version": "2.5.0"
  }
 },
 "nbformat": 4,
 "nbformat_minor": 5
}
