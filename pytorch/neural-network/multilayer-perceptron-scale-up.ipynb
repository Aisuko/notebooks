{
 "cells": [
  {
   "cell_type": "markdown",
   "id": "ca9c76f1",
   "metadata": {
    "_cell_guid": "b1076dfc-b9ad-4769-8c92-a6c4dae69d19",
    "_uuid": "8f2839f25d086af736a60e9eeb907d3b93b6e0e5",
    "papermill": {
     "duration": 0.004948,
     "end_time": "2024-07-24T05:12:23.300935",
     "exception": false,
     "start_time": "2024-07-24T05:12:23.295987",
     "status": "completed"
    },
    "tags": []
   },
   "source": [
    "# Overview\n",
    "\n"
   ]
  },
  {
   "cell_type": "markdown",
   "id": "7e7b07e9",
   "metadata": {
    "papermill": {
     "duration": 0.003694,
     "end_time": "2024-07-24T05:12:23.308877",
     "exception": false,
     "start_time": "2024-07-24T05:12:23.305183",
     "status": "completed"
    },
    "tags": []
   },
   "source": [
    "# Load dataset"
   ]
  },
  {
   "cell_type": "code",
   "execution_count": 1,
   "id": "14fa3e79",
   "metadata": {
    "execution": {
     "iopub.execute_input": "2024-07-24T05:12:23.318798Z",
     "iopub.status.busy": "2024-07-24T05:12:23.318068Z",
     "iopub.status.idle": "2024-07-24T05:12:27.197367Z",
     "shell.execute_reply": "2024-07-24T05:12:27.195437Z"
    },
    "papermill": {
     "duration": 3.887655,
     "end_time": "2024-07-24T05:12:27.200426",
     "exception": false,
     "start_time": "2024-07-24T05:12:23.312771",
     "status": "completed"
    },
    "tags": []
   },
   "outputs": [
    {
     "name": "stdout",
     "output_type": "stream",
     "text": [
      "{1: 'a', 2: 'b', 3: 'c', 4: 'd', 5: 'e', 6: 'f', 7: 'g', 8: 'h', 9: 'i', 10: 'j', 11: 'k', 12: 'l', 13: 'm', 14: 'n', 15: 'o', 16: 'p', 17: 'q', 18: 'r', 19: 's', 20: 't', 21: 'u', 22: 'v', 23: 'w', 24: 'x', 25: 'y', 26: 'z', 0: '.'}\n"
     ]
    }
   ],
   "source": [
    "import torch\n",
    "import torch.nn.functional as F\n",
    "import matplotlib.pyplot as plt\n",
    "\n",
    "words=open('/kaggle/input/character-lm-without-framework/names.txt', 'r').read().splitlines()\n",
    "\n",
    "# build the vocabulary of characters and mappings to/from integers\n",
    "chars=sorted(list(set(''.join(words))))\n",
    "stoi={s:i+1 for i,s in enumerate(chars)}\n",
    "stoi['.']=0\n",
    "itos={i:s for s,i in stoi.items()}\n",
    "print(itos)"
   ]
  },
  {
   "cell_type": "markdown",
   "id": "4a83377a",
   "metadata": {
    "papermill": {
     "duration": 0.004451,
     "end_time": "2024-07-24T05:12:27.210278",
     "exception": false,
     "start_time": "2024-07-24T05:12:27.205827",
     "status": "completed"
    },
    "tags": []
   },
   "source": [
    "# Build dataset"
   ]
  },
  {
   "cell_type": "code",
   "execution_count": 2,
   "id": "1129e3a8",
   "metadata": {
    "execution": {
     "iopub.execute_input": "2024-07-24T05:12:27.222258Z",
     "iopub.status.busy": "2024-07-24T05:12:27.220634Z",
     "iopub.status.idle": "2024-07-24T05:12:28.044100Z",
     "shell.execute_reply": "2024-07-24T05:12:28.042742Z"
    },
    "papermill": {
     "duration": 0.832163,
     "end_time": "2024-07-24T05:12:28.046734",
     "exception": false,
     "start_time": "2024-07-24T05:12:27.214571",
     "status": "completed"
    },
    "tags": []
   },
   "outputs": [
    {
     "name": "stdout",
     "output_type": "stream",
     "text": [
      "torch.Size([182625, 3]) torch.Size([182625])\n",
      "torch.Size([22655, 3]) torch.Size([22655])\n",
      "torch.Size([22866, 3]) torch.Size([22866])\n"
     ]
    }
   ],
   "source": [
    "import random\n",
    "\n",
    "def build_dataset(words):\n",
    "    block_size=3 # context length: how many characters do we take to predict the next one?\n",
    "    X,Y=[],[]\n",
    "    for w in words:\n",
    "        context=[0]*block_size\n",
    "        for ch in w+'.':\n",
    "            ix=stoi[ch]\n",
    "            X.append(context)\n",
    "            Y.append(ix)\n",
    "            context=context[1:]+[ix]\n",
    "            \n",
    "    X=torch.tensor(X)\n",
    "    Y=torch.tensor(Y)\n",
    "    print(X.shape, Y.shape)\n",
    "    return X,Y\n",
    "\n",
    "\n",
    "random.seed(42)\n",
    "random.shuffle(words)\n",
    "n1=int(0.8*len(words))\n",
    "n2=int(0.9*len(words))\n",
    "\n",
    "Xtr, Ytr=build_dataset(words[:n1])\n",
    "Xdev, Ydev=build_dataset(words[n1:n2])\n",
    "Xte, Yte=build_dataset(words[n2:])"
   ]
  },
  {
   "cell_type": "markdown",
   "id": "03089b9f",
   "metadata": {
    "papermill": {
     "duration": 0.004046,
     "end_time": "2024-07-24T05:12:28.055187",
     "exception": false,
     "start_time": "2024-07-24T05:12:28.051141",
     "status": "completed"
    },
    "tags": []
   },
   "source": [
    "# Define the scale up network\n",
    "\n",
    "Even if we scale up the dimension of our network's hidden layer. The dimension of the input layer is still the bottlebeck. So, we will scale up the dimension for both neural netwok input and hidden layers."
   ]
  },
  {
   "cell_type": "code",
   "execution_count": 3,
   "id": "ae7f5baa",
   "metadata": {
    "execution": {
     "iopub.execute_input": "2024-07-24T05:12:28.065659Z",
     "iopub.status.busy": "2024-07-24T05:12:28.065190Z",
     "iopub.status.idle": "2024-07-24T05:12:28.116669Z",
     "shell.execute_reply": "2024-07-24T05:12:28.114951Z"
    },
    "papermill": {
     "duration": 0.060174,
     "end_time": "2024-07-24T05:12:28.119732",
     "exception": false,
     "start_time": "2024-07-24T05:12:28.059558",
     "status": "completed"
    },
    "tags": []
   },
   "outputs": [
    {
     "name": "stdout",
     "output_type": "stream",
     "text": [
      "11897\n"
     ]
    }
   ],
   "source": [
    "# definition of neural network\n",
    "g=torch.Generator().manual_seed(2147483647)\n",
    "\n",
    "C=torch.randn((27,10), generator=g)\n",
    "W1=torch.randn((30, 200), generator=g)\n",
    "b1=torch.randn(200, generator=g)\n",
    "W2=torch.randn((200, 27), generator=g)\n",
    "b2=torch.randn(27, generator=g)\n",
    "parameters=[C, W1, b1, W2, b2]\n",
    "\n",
    "print(sum(p.nelement() for p in parameters))\n",
    "\n",
    "for p in parameters:\n",
    "    p.requires_grad = True\n",
    "\n",
    "# define a range of learning rate\n",
    "lre=torch.linspace(-3, 0, 1000)\n",
    "lrs=10**lre\n",
    "\n",
    "lri=[]\n",
    "lossi=[]\n",
    "stepi=[]"
   ]
  },
  {
   "cell_type": "code",
   "execution_count": 4,
   "id": "2286855b",
   "metadata": {
    "execution": {
     "iopub.execute_input": "2024-07-24T05:12:28.130550Z",
     "iopub.status.busy": "2024-07-24T05:12:28.130108Z",
     "iopub.status.idle": "2024-07-24T05:12:33.463263Z",
     "shell.execute_reply": "2024-07-24T05:12:33.462153Z"
    },
    "papermill": {
     "duration": 5.341983,
     "end_time": "2024-07-24T05:12:33.466182",
     "exception": false,
     "start_time": "2024-07-24T05:12:28.124199",
     "status": "completed"
    },
    "tags": []
   },
   "outputs": [],
   "source": [
    "# training process\n",
    "for i in range(10000):\n",
    "    \n",
    "    # minibatch construct\n",
    "    ix=torch.randint(0, Xtr.shape[0], (32,))\n",
    "    \n",
    "    # forward pass\n",
    "    emb=C[Xtr[ix]]\n",
    "    h=torch.tanh(emb.view(-1, 30)@ W1+b1)\n",
    "    logits=h @ W2+b2\n",
    "    loss=F.cross_entropy(logits, Ytr[ix])\n",
    "#     print(loss.item())\n",
    "    \n",
    "    # backward pass\n",
    "    for p in parameters:\n",
    "        p.grad=None\n",
    "    loss.backward()\n",
    "    \n",
    "    # update\n",
    "    lr=0.1 if i < 5000 else 0.01 # decay the loss\n",
    "    for p in parameters:\n",
    "        p.data+=-lr*p.grad\n",
    "\n",
    "    # track stats\n",
    "#     lri.append(lre[i]) # we track the exponent\n",
    "    stepi.append(i)\n",
    "    lossi.append(loss.log10().item()) # we use log10() squashes the hockey stick appearance looks nicer"
   ]
  },
  {
   "cell_type": "code",
   "execution_count": 5,
   "id": "da625fa1",
   "metadata": {
    "execution": {
     "iopub.execute_input": "2024-07-24T05:12:33.477134Z",
     "iopub.status.busy": "2024-07-24T05:12:33.476368Z",
     "iopub.status.idle": "2024-07-24T05:12:33.823712Z",
     "shell.execute_reply": "2024-07-24T05:12:33.822519Z"
    },
    "papermill": {
     "duration": 0.355502,
     "end_time": "2024-07-24T05:12:33.826218",
     "exception": false,
     "start_time": "2024-07-24T05:12:33.470716",
     "status": "completed"
    },
    "tags": []
   },
   "outputs": [
    {
     "data": {
      "text/plain": [
       "[<matplotlib.lines.Line2D at 0x79c06ad3c760>]"
      ]
     },
     "execution_count": 5,
     "metadata": {},
     "output_type": "execute_result"
    },
    {
     "data": {
      "image/png": "[encoded data removed]",
      "text/plain": [
       "<Figure size 640x480 with 1 Axes>"
      ]
     },
     "metadata": {},
     "output_type": "display_data"
    }
   ],
   "source": [
    "plt.plot(stepi, lossi)"
   ]
  },
  {
   "cell_type": "code",
   "execution_count": 6,
   "id": "4baaac66",
   "metadata": {
    "execution": {
     "iopub.execute_input": "2024-07-24T05:12:33.838328Z",
     "iopub.status.busy": "2024-07-24T05:12:33.837323Z",
     "iopub.status.idle": "2024-07-24T05:12:33.905569Z",
     "shell.execute_reply": "2024-07-24T05:12:33.904435Z"
    },
    "papermill": {
     "duration": 0.078347,
     "end_time": "2024-07-24T05:12:33.909532",
     "exception": false,
     "start_time": "2024-07-24T05:12:33.831185",
     "status": "completed"
    },
    "tags": []
   },
   "outputs": [
    {
     "data": {
      "text/plain": [
       "tensor(2.4074, grad_fn=<NllLossBackward0>)"
      ]
     },
     "execution_count": 6,
     "metadata": {},
     "output_type": "execute_result"
    }
   ],
   "source": [
    "emb=C[Xdev]\n",
    "h=torch.tanh(emb.view(-1, 30)@W1+b1)\n",
    "logits=h@W2+b2\n",
    "loss=F.cross_entropy(logits, Ydev)\n",
    "loss"
   ]
  },
  {
   "cell_type": "code",
   "execution_count": 7,
   "id": "792082b6",
   "metadata": {
    "execution": {
     "iopub.execute_input": "2024-07-24T05:12:33.921282Z",
     "iopub.status.busy": "2024-07-24T05:12:33.920883Z",
     "iopub.status.idle": "2024-07-24T05:12:34.289332Z",
     "shell.execute_reply": "2024-07-24T05:12:34.287851Z"
    },
    "papermill": {
     "duration": 0.377175,
     "end_time": "2024-07-24T05:12:34.291853",
     "exception": false,
     "start_time": "2024-07-24T05:12:33.914678",
     "status": "completed"
    },
    "tags": []
   },
   "outputs": [
    {
     "data": {
      "text/plain": [
       "tensor(2.4050, grad_fn=<NllLossBackward0>)"
      ]
     },
     "execution_count": 7,
     "metadata": {},
     "output_type": "execute_result"
    }
   ],
   "source": [
    "emb=C[Xtr]\n",
    "h=torch.tanh(emb.view(-1, 30)@W1+b1)\n",
    "logits=h@W2+b2\n",
    "loss=F.cross_entropy(logits, Ytr)\n",
    "loss"
   ]
  },
  {
   "cell_type": "code",
   "execution_count": 8,
   "id": "ad5b9241",
   "metadata": {
    "execution": {
     "iopub.execute_input": "2024-07-24T05:12:34.303609Z",
     "iopub.status.busy": "2024-07-24T05:12:34.303171Z",
     "iopub.status.idle": "2024-07-24T05:12:34.653287Z",
     "shell.execute_reply": "2024-07-24T05:12:34.651879Z"
    },
    "papermill": {
     "duration": 0.3588,
     "end_time": "2024-07-24T05:12:34.655683",
     "exception": false,
     "start_time": "2024-07-24T05:12:34.296883",
     "status": "completed"
    },
    "tags": []
   },
   "outputs": [
    {
     "data": {
      "image/png": "[encoded data removed]",
      "text/plain": [
       "<Figure size 800x800 with 1 Axes>"
      ]
     },
     "metadata": {},
     "output_type": "display_data"
    }
   ],
   "source": [
    "plt.figure(figsize=(8,8))\n",
    "plt.scatter(C[:,0].data, C[:,1].data, s=200)\n",
    "\n",
    "for i in range(C.shape[0]):\n",
    "    plt.text(C[i,0].item(), C[i,1].item(), itos[i], ha=\"center\", va=\"center\", color=\"white\")\n",
    "\n",
    "plt.grid('minor')"
   ]
  },
  {
   "cell_type": "markdown",
   "id": "2eba9e04",
   "metadata": {
    "papermill": {
     "duration": 0.005192,
     "end_time": "2024-07-24T05:12:34.666573",
     "exception": false,
     "start_time": "2024-07-24T05:12:34.661381",
     "status": "completed"
    },
    "tags": []
   },
   "source": [
    "# Sample from the model"
   ]
  },
  {
   "cell_type": "code",
   "execution_count": 9,
   "id": "6daba6eb",
   "metadata": {
    "execution": {
     "iopub.execute_input": "2024-07-24T05:12:34.679301Z",
     "iopub.status.busy": "2024-07-24T05:12:34.678901Z",
     "iopub.status.idle": "2024-07-24T05:12:34.718724Z",
     "shell.execute_reply": "2024-07-24T05:12:34.717594Z"
    },
    "papermill": {
     "duration": 0.049244,
     "end_time": "2024-07-24T05:12:34.721295",
     "exception": false,
     "start_time": "2024-07-24T05:12:34.672051",
     "status": "completed"
    },
    "tags": []
   },
   "outputs": [
    {
     "name": "stdout",
     "output_type": "stream",
     "text": [
      "mria.\n",
      "kayan.\n",
      "seel.\n",
      "ndun.\n",
      "ala.\n",
      "emmasiend.\n",
      "len.\n",
      "adered.\n",
      "elin.\n",
      "shi.\n",
      "jelle.\n",
      "eliean.\n",
      "aar.\n",
      "katelvina.\n",
      "amn.\n",
      "sadbergahiries.\n",
      "kinleenlyn.\n",
      "xoberce.\n",
      "ubrin.\n",
      "dar.\n"
     ]
    }
   ],
   "source": [
    "g=torch.Generator().manual_seed(2147483647+10)\n",
    "\n",
    "for _ in range(20):\n",
    "    out=[]\n",
    "    context =[0]*3 # initialize with all, 3 is block size\n",
    "    while True:\n",
    "        emb=C[torch.tensor([context])] # (1,block_size,d)\n",
    "        h=torch.tanh(emb.view(1,-1) @W1+b1)\n",
    "        logits=h@W2+b2\n",
    "        probs=F.softmax(logits, dim=1)\n",
    "        ix=torch.multinomial(probs, num_samples=1, generator=g).item() # sample from probabilities by using multinomimal\n",
    "        context=context[1:]+[ix] # shift the context window to append the index and record it\n",
    "        out.append(ix)\n",
    "        if ix ==0:\n",
    "            break\n",
    "            \n",
    "    print(''.join(itos[i] for i in out)) # decode the integers to strings"
   ]
  },
  {
   "cell_type": "markdown",
   "id": "847ba1cf",
   "metadata": {
    "papermill": {
     "duration": 0.005285,
     "end_time": "2024-07-24T05:12:34.732371",
     "exception": false,
     "start_time": "2024-07-24T05:12:34.727086",
     "status": "completed"
    },
    "tags": []
   },
   "source": [
    "# Acknowledgements\n",
    "\n",
    "* https://youtu.be/TCH_1BHY58I?si=z3g6RDwnaAusL357\n",
    "* https://www.kaggle.com/code/aisuko/multilayer-perceptron-optimise-overfitting/notebook"
   ]
  }
 ],
 "metadata": {
  "kaggle": {
   "accelerator": "none",
   "dataSources": [
    {
     "sourceId": 187064505,
     "sourceType": "kernelVersion"
    }
   ],
   "dockerImageVersionId": 30746,
   "isGpuEnabled": false,
   "isInternetEnabled": true,
   "language": "python",
   "sourceType": "notebook"
  },
  "kernelspec": {
   "display_name": "Python 3",
   "language": "python",
   "name": "python3"
  },
  "language_info": {
   "codemirror_mode": {
    "name": "ipython",
    "version": 3
   },
   "file_extension": ".py",
   "mimetype": "text/x-python",
   "name": "python",
   "nbconvert_exporter": "python",
   "pygments_lexer": "ipython3",
   "version": "3.10.13"
  },
  "papermill": {
   "default_parameters": {},
   "duration": 15.407801,
   "end_time": "2024-07-24T05:12:35.660284",
   "environment_variables": {},
   "exception": null,
   "input_path": "__notebook__.ipynb",
   "output_path": "__notebook__.ipynb",
   "parameters": {},
   "start_time": "2024-07-24T05:12:20.252483",
   "version": "2.5.0"
  }
 },
 "nbformat": 4,
 "nbformat_minor": 5
}
