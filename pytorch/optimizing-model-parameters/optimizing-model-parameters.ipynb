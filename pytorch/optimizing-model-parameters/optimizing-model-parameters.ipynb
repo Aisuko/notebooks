{
 "cells": [
  {
   "cell_type": "markdown",
   "id": "7a301e32",
   "metadata": {
    "_cell_guid": "b1076dfc-b9ad-4769-8c92-a6c4dae69d19",
    "_uuid": "8f2839f25d086af736a60e9eeb907d3b93b6e0e5",
    "papermill": {
     "duration": 0.005374,
     "end_time": "2024-02-01T10:03:15.982144",
     "exception": false,
     "start_time": "2024-02-01T10:03:15.976770",
     "status": "completed"
    },
    "tags": []
   },
   "source": [
    "# Overview\n",
    "\n",
    "We build our own model in [Create simple model using PyTorch](https://www.kaggle.com/code/aisuko/create-simple-model-using-pytorch), and we preared data in [Datasets and Dataloaders in PyTorch](https://www.kaggle.com/code/aisuko/datasets-and-dataloaders-in-pytorch). It's time to train, validate and test our model by optimizing its parameters on our data. \n",
    "\n",
    "Training a model is an iterative process in each iteration the model makes a guess about the output, calculates the error in its guess(loss), collects the derivatives of the error with respect to its parameters, and **optimizes** these parameters using gradient descent."
   ]
  },
  {
   "cell_type": "markdown",
   "id": "225a47ff",
   "metadata": {
    "papermill": {
     "duration": 0.00465,
     "end_time": "2024-02-01T10:03:15.992011",
     "exception": false,
     "start_time": "2024-02-01T10:03:15.987361",
     "status": "completed"
    },
    "tags": []
   },
   "source": [
    "# Loading the dataset\n",
    "\n",
    "We use the dataset from `torchvision`."
   ]
  },
  {
   "cell_type": "code",
   "execution_count": 1,
   "id": "e80a3c27",
   "metadata": {
    "execution": {
     "iopub.execute_input": "2024-02-01T10:03:16.004311Z",
     "iopub.status.busy": "2024-02-01T10:03:16.003429Z",
     "iopub.status.idle": "2024-02-01T10:03:30.522068Z",
     "shell.execute_reply": "2024-02-01T10:03:30.520495Z"
    },
    "papermill": {
     "duration": 14.528743,
     "end_time": "2024-02-01T10:03:30.525572",
     "exception": false,
     "start_time": "2024-02-01T10:03:15.996829",
     "status": "completed"
    },
    "tags": []
   },
   "outputs": [
    {
     "name": "stdout",
     "output_type": "stream",
     "text": [
      "Downloading http://fashion-mnist.s3-website.eu-central-1.amazonaws.com/train-images-idx3-ubyte.gz\n",
      "Downloading http://fashion-mnist.s3-website.eu-central-1.amazonaws.com/train-images-idx3-ubyte.gz to data/FashionMNIST/raw/train-images-idx3-ubyte.gz\n"
     ]
    },
    {
     "name": "stderr",
     "output_type": "stream",
     "text": [
      "100%|██████████| 26421880/26421880 [00:02<00:00, 10097683.24it/s]\n"
     ]
    },
    {
     "name": "stdout",
     "output_type": "stream",
     "text": [
      "Extracting data/FashionMNIST/raw/train-images-idx3-ubyte.gz to data/FashionMNIST/raw\n",
      "\n",
      "Downloading http://fashion-mnist.s3-website.eu-central-1.amazonaws.com/train-labels-idx1-ubyte.gz\n",
      "Downloading http://fashion-mnist.s3-website.eu-central-1.amazonaws.com/train-labels-idx1-ubyte.gz to data/FashionMNIST/raw/train-labels-idx1-ubyte.gz\n"
     ]
    },
    {
     "name": "stderr",
     "output_type": "stream",
     "text": [
      "100%|██████████| 29515/29515 [00:00<00:00, 206003.78it/s]\n"
     ]
    },
    {
     "name": "stdout",
     "output_type": "stream",
     "text": [
      "Extracting data/FashionMNIST/raw/train-labels-idx1-ubyte.gz to data/FashionMNIST/raw\n",
      "\n",
      "Downloading http://fashion-mnist.s3-website.eu-central-1.amazonaws.com/t10k-images-idx3-ubyte.gz\n",
      "Downloading http://fashion-mnist.s3-website.eu-central-1.amazonaws.com/t10k-images-idx3-ubyte.gz to data/FashionMNIST/raw/t10k-images-idx3-ubyte.gz\n"
     ]
    },
    {
     "name": "stderr",
     "output_type": "stream",
     "text": [
      "100%|██████████| 4422102/4422102 [00:01<00:00, 3837832.92it/s]\n"
     ]
    },
    {
     "name": "stdout",
     "output_type": "stream",
     "text": [
      "Extracting data/FashionMNIST/raw/t10k-images-idx3-ubyte.gz to data/FashionMNIST/raw\n",
      "\n",
      "Downloading http://fashion-mnist.s3-website.eu-central-1.amazonaws.com/t10k-labels-idx1-ubyte.gz\n",
      "Downloading http://fashion-mnist.s3-website.eu-central-1.amazonaws.com/t10k-labels-idx1-ubyte.gz to data/FashionMNIST/raw/t10k-labels-idx1-ubyte.gz\n"
     ]
    },
    {
     "name": "stderr",
     "output_type": "stream",
     "text": [
      "100%|██████████| 5148/5148 [00:00<00:00, 13648721.23it/s]"
     ]
    },
    {
     "name": "stdout",
     "output_type": "stream",
     "text": [
      "Extracting data/FashionMNIST/raw/t10k-labels-idx1-ubyte.gz to data/FashionMNIST/raw\n",
      "\n"
     ]
    },
    {
     "name": "stderr",
     "output_type": "stream",
     "text": [
      "\n"
     ]
    }
   ],
   "source": [
    "from torch.utils.data import DataLoader\n",
    "from torchvision import datasets\n",
    "from torchvision.transforms import ToTensor\n",
    "\n",
    "training_data=datasets.FashionMNIST(\n",
    "    root='data',\n",
    "    train=True,\n",
    "    download=True,\n",
    "    transform=ToTensor()\n",
    ")\n",
    "\n",
    "test_data=datasets.FashionMNIST(\n",
    "    root='data',\n",
    "    train=False,\n",
    "    download=True,\n",
    "    transform=ToTensor()\n",
    ")\n",
    "\n",
    "train_dataloader=DataLoader(training_data, batch_size=64)\n",
    "test_dataloader=DataLoader(test_data, batch_size=64)"
   ]
  },
  {
   "cell_type": "code",
   "execution_count": 2,
   "id": "1a55b2f6",
   "metadata": {
    "execution": {
     "iopub.execute_input": "2024-02-01T10:03:30.547697Z",
     "iopub.status.busy": "2024-02-01T10:03:30.546359Z",
     "iopub.status.idle": "2024-02-01T10:03:30.555150Z",
     "shell.execute_reply": "2024-02-01T10:03:30.553893Z"
    },
    "papermill": {
     "duration": 0.022374,
     "end_time": "2024-02-01T10:03:30.557696",
     "exception": false,
     "start_time": "2024-02-01T10:03:30.535322",
     "status": "completed"
    },
    "tags": []
   },
   "outputs": [
    {
     "data": {
      "text/plain": [
       "938"
      ]
     },
     "execution_count": 2,
     "metadata": {},
     "output_type": "execute_result"
    }
   ],
   "source": [
    "len(train_dataloader)"
   ]
  },
  {
   "cell_type": "markdown",
   "id": "b2974efa",
   "metadata": {
    "papermill": {
     "duration": 0.009523,
     "end_time": "2024-02-01T10:03:30.577083",
     "exception": false,
     "start_time": "2024-02-01T10:03:30.567560",
     "status": "completed"
    },
    "tags": []
   },
   "source": [
    "# Define the model"
   ]
  },
  {
   "cell_type": "code",
   "execution_count": 3,
   "id": "a0798066",
   "metadata": {
    "execution": {
     "iopub.execute_input": "2024-02-01T10:03:30.599695Z",
     "iopub.status.busy": "2024-02-01T10:03:30.598291Z",
     "iopub.status.idle": "2024-02-01T10:03:30.627086Z",
     "shell.execute_reply": "2024-02-01T10:03:30.626048Z"
    },
    "papermill": {
     "duration": 0.042604,
     "end_time": "2024-02-01T10:03:30.629749",
     "exception": false,
     "start_time": "2024-02-01T10:03:30.587145",
     "status": "completed"
    },
    "tags": []
   },
   "outputs": [],
   "source": [
    "from torch import nn\n",
    "\n",
    "class NeuralNetwork(nn.Module):\n",
    "    def __init__(self):\n",
    "        super().__init__()\n",
    "        self.flatten=nn.Flatten()\n",
    "        self.linear_relu_stack=nn.Sequential(\n",
    "            nn.Linear(28*28, 512),\n",
    "            nn.ReLU(),\n",
    "            nn.Linear(512,512),\n",
    "            nn.ReLU(),\n",
    "            nn.Linear(512, 10)\n",
    "        )\n",
    "    def forward(self, x):\n",
    "        x=self.flatten(x)\n",
    "        logits=self.linear_relu_stack(x)\n",
    "        return logits\n",
    "\n",
    "model=NeuralNetwork()"
   ]
  },
  {
   "cell_type": "markdown",
   "id": "e87b877f",
   "metadata": {
    "papermill": {
     "duration": 0.009378,
     "end_time": "2024-02-01T10:03:30.648868",
     "exception": false,
     "start_time": "2024-02-01T10:03:30.639490",
     "status": "completed"
    },
    "tags": []
   },
   "source": [
    "# Hyperparameters\n",
    "\n",
    "Hyperparameters are adjustable parameters that let you control the model optimization process. Different hyperparameter values can impact model training and convergence rates.\n",
    "\n",
    "We define the following hyperparameters for training:\n",
    "\n",
    "* **Number of Epochs** - the number times to iterate over the dataset.\n",
    "* **Batch Size** -  the number of data samples propagated through the network before the parameters are updated\n",
    "* **Learning Rate** - how much to update models parameters at each batch/epoch. Smaller values yield slow learning speed, while large values may result in unpredictable behavior during training."
   ]
  },
  {
   "cell_type": "code",
   "execution_count": 4,
   "id": "39469152",
   "metadata": {
    "execution": {
     "iopub.execute_input": "2024-02-01T10:03:30.669921Z",
     "iopub.status.busy": "2024-02-01T10:03:30.669492Z",
     "iopub.status.idle": "2024-02-01T10:03:30.674549Z",
     "shell.execute_reply": "2024-02-01T10:03:30.673753Z"
    },
    "papermill": {
     "duration": 0.018327,
     "end_time": "2024-02-01T10:03:30.676843",
     "exception": false,
     "start_time": "2024-02-01T10:03:30.658516",
     "status": "completed"
    },
    "tags": []
   },
   "outputs": [],
   "source": [
    "learning_rate=1e-3\n",
    "batch_size=64\n",
    "epochs=5"
   ]
  },
  {
   "cell_type": "markdown",
   "id": "afc1049c",
   "metadata": {
    "papermill": {
     "duration": 0.009464,
     "end_time": "2024-02-01T10:03:30.695943",
     "exception": false,
     "start_time": "2024-02-01T10:03:30.686479",
     "status": "completed"
    },
    "tags": []
   },
   "source": [
    "# Training(Optimization Loop)\n",
    "\n",
    "Once we set our hyperparameters, we can then train and optimize our model with an optimization loop. Each iteration of the optimization loop is called an **epoch**.\n",
    "\n",
    "Each epoch consists of two main parts:\n",
    "* **The Train Loop** -  iterate over the training dataset and try to converge to optimal parameters.\n",
    "* **The Validation/Test Loop** - iterate over the test dataset to check if model performance is improving.\n",
    "\n",
    "\n",
    "## Loss Function\n",
    "\n",
    "When presented with some training data, our untrained network is likely not to give the correct answer. **Loss function** measures the degree of dissimilarity of obtained result to the target value, and it is the loss function that we want to minimize during training. To calculate the loss we make a prediction using the inputs of our given data sample and compare it against the true data label value.\n",
    "\n",
    "Common loss functions include `nn.MSELoss`(Mean Square Error) for regression tasks, and `nn.NLLLoss`(Negative Log Likelihood) for classification. `nn.CrossEntropyLoss` combines `nn.LogSoftmax` and `nn.NLLLoss`.\n",
    "\n",
    "We pass our model's output logits to `nn.CrossEntropyLoss`, which will normalize the logits and compute the prediction error."
   ]
  },
  {
   "cell_type": "code",
   "execution_count": 5,
   "id": "a17b6ebc",
   "metadata": {
    "execution": {
     "iopub.execute_input": "2024-02-01T10:03:30.717667Z",
     "iopub.status.busy": "2024-02-01T10:03:30.716891Z",
     "iopub.status.idle": "2024-02-01T10:03:30.721806Z",
     "shell.execute_reply": "2024-02-01T10:03:30.720976Z"
    },
    "papermill": {
     "duration": 0.018482,
     "end_time": "2024-02-01T10:03:30.724093",
     "exception": false,
     "start_time": "2024-02-01T10:03:30.705611",
     "status": "completed"
    },
    "tags": []
   },
   "outputs": [],
   "source": [
    "# initialize the loss function\n",
    "loss_fn=nn.CrossEntropyLoss()"
   ]
  },
  {
   "cell_type": "markdown",
   "id": "2ac5d00f",
   "metadata": {
    "papermill": {
     "duration": 0.009316,
     "end_time": "2024-02-01T10:03:30.743077",
     "exception": false,
     "start_time": "2024-02-01T10:03:30.733761",
     "status": "completed"
    },
    "tags": []
   },
   "source": [
    "## Optimizer\n",
    "\n",
    "Optimization is the process of adjusting model parameters to reduce model error in each training step. **Optimization algorithms** define how this process is performed(here we use Stochastic Gradient Descent). All optimization logic is encapsulated in the `optimizer` object. Here, we use SGD optimizer; additionally, there are many of others avaliable in PyTorch like:\n",
    "* ADAM\n",
    "* RMSProp\n",
    "\n",
    "We initialize the optimizer by registering the model's parameters that need to be trained, and passing in the learning rate hyperparameter."
   ]
  },
  {
   "cell_type": "code",
   "execution_count": 6,
   "id": "90b3c811",
   "metadata": {
    "execution": {
     "iopub.execute_input": "2024-02-01T10:03:30.766470Z",
     "iopub.status.busy": "2024-02-01T10:03:30.765582Z",
     "iopub.status.idle": "2024-02-01T10:03:30.771226Z",
     "shell.execute_reply": "2024-02-01T10:03:30.770445Z"
    },
    "papermill": {
     "duration": 0.020874,
     "end_time": "2024-02-01T10:03:30.773588",
     "exception": false,
     "start_time": "2024-02-01T10:03:30.752714",
     "status": "completed"
    },
    "tags": []
   },
   "outputs": [],
   "source": [
    "import torch\n",
    "optimizer=torch.optim.SGD(model.parameters(), lr=learning_rate)"
   ]
  },
  {
   "cell_type": "markdown",
   "id": "6559c3a7",
   "metadata": {
    "papermill": {
     "duration": 0.009425,
     "end_time": "2024-02-01T10:03:30.792857",
     "exception": false,
     "start_time": "2024-02-01T10:03:30.783432",
     "status": "completed"
    },
    "tags": []
   },
   "source": [
    "Inside the training loop, optimization happens in three steps:\n",
    "* Call `optimizer.zero_grad()` to reset the gradients of model parameters. Gradients by default add up;to prevent double-counting we explicity zero them at each iteration.\n",
    "* Backpropagate the prediction loss with a call to `loss.backward()`. PyTorch deposits the gradients of the loss w.r.t. each parameter.\n",
    "* Once we have our gradients, we call `optimizer.step()` to adjust the paeameters by the gradients collected in the backward pass."
   ]
  },
  {
   "cell_type": "code",
   "execution_count": 7,
   "id": "9cc94119",
   "metadata": {
    "execution": {
     "iopub.execute_input": "2024-02-01T10:03:30.815746Z",
     "iopub.status.busy": "2024-02-01T10:03:30.814952Z",
     "iopub.status.idle": "2024-02-01T10:03:30.822787Z",
     "shell.execute_reply": "2024-02-01T10:03:30.821828Z"
    },
    "papermill": {
     "duration": 0.021655,
     "end_time": "2024-02-01T10:03:30.825347",
     "exception": false,
     "start_time": "2024-02-01T10:03:30.803692",
     "status": "completed"
    },
    "tags": []
   },
   "outputs": [],
   "source": [
    "def train_loop(dataloader, model, loss_fn, optimizer):\n",
    "    size=len(dataloader.dataset)\n",
    "    # Set the model to training mode - important for batch normalization and dropout layers\n",
    "    model.train()\n",
    "    for batch, (X,y) in enumerate(dataloader):\n",
    "        # compute prediction and loss\n",
    "        pred=model(X)\n",
    "        loss=loss_fn(pred, y)\n",
    "        \n",
    "        # backpropagation\n",
    "        loss.backward()\n",
    "        optimizer.step()\n",
    "        optimizer.zero_grad()\n",
    "        \n",
    "        if batch %100==0:\n",
    "            loss,current=loss.item(), batch*batch_size+len(X)\n",
    "            print(f'loss: {loss:>7f} [{current:>5d}/{size:>5d}]')\n",
    "        "
   ]
  }
 ],
 "metadata": {
  "kaggle": {
   "accelerator": "none",
   "dataSources": [],
   "dockerImageVersionId": 30646,
   "isGpuEnabled": false,
   "isInternetEnabled": true,
   "language": "python",
   "sourceType": "notebook"
  },
  "kernelspec": {
   "display_name": "Python 3",
   "language": "python",
   "name": "python3"
  },
  "language_info": {
   "codemirror_mode": {
    "name": "ipython",
    "version": 3
   },
   "file_extension": ".py",
   "mimetype": "text/x-python",
   "name": "python",
   "nbconvert_exporter": "python",
   "pygments_lexer": "ipython3",
   "version": "3.10.13"
  },
  "papermill": {
   "default_parameters": {},
   "duration": 20.127561,
   "end_time": "2024-02-01T10:03:33.044527",
   "environment_variables": {},
   "exception": null,
   "input_path": "__notebook__.ipynb",
   "output_path": "__notebook__.ipynb",
   "parameters": {},
   "start_time": "2024-02-01T10:03:12.916966",
   "version": "2.5.0"
  }
 },
 "nbformat": 4,
 "nbformat_minor": 5
}
