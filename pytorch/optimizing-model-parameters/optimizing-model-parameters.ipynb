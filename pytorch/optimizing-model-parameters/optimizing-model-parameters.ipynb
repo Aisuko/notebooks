{
 "cells": [
  {
   "cell_type": "markdown",
   "id": "e1e69573",
   "metadata": {
    "_cell_guid": "b1076dfc-b9ad-4769-8c92-a6c4dae69d19",
    "_uuid": "8f2839f25d086af736a60e9eeb907d3b93b6e0e5",
    "papermill": {
     "duration": 0.003785,
     "end_time": "2024-02-02T08:55:54.784460",
     "exception": false,
     "start_time": "2024-02-02T08:55:54.780675",
     "status": "completed"
    },
    "tags": []
   },
   "source": [
    "# Overview\n",
    "\n",
    "We build our own model in [Create simple model using PyTorch](https://www.kaggle.com/code/aisuko/create-simple-model-using-pytorch), and we preared data in [Datasets and Dataloaders in PyTorch](https://www.kaggle.com/code/aisuko/datasets-and-dataloaders-in-pytorch). It's time to train, validate and test our model by optimizing its parameters on our data. \n",
    "\n",
    "Training a model is an iterative process in each iteration the model makes a guess about the output, calculates the error in its guess(loss), collects the derivatives of the error with respect to its parameters, and **optimizes** these parameters using gradient descent."
   ]
  },
  {
   "cell_type": "markdown",
   "id": "5bd3cc58",
   "metadata": {
    "papermill": {
     "duration": 0.003052,
     "end_time": "2024-02-02T08:55:54.791089",
     "exception": false,
     "start_time": "2024-02-02T08:55:54.788037",
     "status": "completed"
    },
    "tags": []
   },
   "source": [
    "# Loading the dataset\n",
    "\n",
    "We use the dataset from `torchvision`."
   ]
  },
  {
   "cell_type": "code",
   "execution_count": 1,
   "id": "df3d9d79",
   "metadata": {
    "execution": {
     "iopub.execute_input": "2024-02-02T08:55:54.799418Z",
     "iopub.status.busy": "2024-02-02T08:55:54.799025Z",
     "iopub.status.idle": "2024-02-02T08:56:06.535491Z",
     "shell.execute_reply": "2024-02-02T08:56:06.534297Z"
    },
    "papermill": {
     "duration": 11.743607,
     "end_time": "2024-02-02T08:56:06.538124",
     "exception": false,
     "start_time": "2024-02-02T08:55:54.794517",
     "status": "completed"
    },
    "tags": []
   },
   "outputs": [
    {
     "name": "stdout",
     "output_type": "stream",
     "text": [
      "Downloading http://fashion-mnist.s3-website.eu-central-1.amazonaws.com/train-images-idx3-ubyte.gz\n",
      "Downloading http://fashion-mnist.s3-website.eu-central-1.amazonaws.com/train-images-idx3-ubyte.gz to data/FashionMNIST/raw/train-images-idx3-ubyte.gz\n"
     ]
    },
    {
     "name": "stderr",
     "output_type": "stream",
     "text": [
      "100%|██████████| 26421880/26421880 [00:02<00:00, 13135189.52it/s]\n"
     ]
    },
    {
     "name": "stdout",
     "output_type": "stream",
     "text": [
      "Extracting data/FashionMNIST/raw/train-images-idx3-ubyte.gz to data/FashionMNIST/raw\n",
      "\n",
      "Downloading http://fashion-mnist.s3-website.eu-central-1.amazonaws.com/train-labels-idx1-ubyte.gz\n",
      "Downloading http://fashion-mnist.s3-website.eu-central-1.amazonaws.com/train-labels-idx1-ubyte.gz to data/FashionMNIST/raw/train-labels-idx1-ubyte.gz\n"
     ]
    },
    {
     "name": "stderr",
     "output_type": "stream",
     "text": [
      "100%|██████████| 29515/29515 [00:00<00:00, 205366.09it/s]\n"
     ]
    },
    {
     "name": "stdout",
     "output_type": "stream",
     "text": [
      "Extracting data/FashionMNIST/raw/train-labels-idx1-ubyte.gz to data/FashionMNIST/raw\n",
      "\n",
      "Downloading http://fashion-mnist.s3-website.eu-central-1.amazonaws.com/t10k-images-idx3-ubyte.gz\n",
      "Downloading http://fashion-mnist.s3-website.eu-central-1.amazonaws.com/t10k-images-idx3-ubyte.gz to data/FashionMNIST/raw/t10k-images-idx3-ubyte.gz\n"
     ]
    },
    {
     "name": "stderr",
     "output_type": "stream",
     "text": [
      "100%|██████████| 4422102/4422102 [00:01<00:00, 3876806.00it/s]\n"
     ]
    },
    {
     "name": "stdout",
     "output_type": "stream",
     "text": [
      "Extracting data/FashionMNIST/raw/t10k-images-idx3-ubyte.gz to data/FashionMNIST/raw\n",
      "\n",
      "Downloading http://fashion-mnist.s3-website.eu-central-1.amazonaws.com/t10k-labels-idx1-ubyte.gz\n",
      "Downloading http://fashion-mnist.s3-website.eu-central-1.amazonaws.com/t10k-labels-idx1-ubyte.gz to data/FashionMNIST/raw/t10k-labels-idx1-ubyte.gz\n"
     ]
    },
    {
     "name": "stderr",
     "output_type": "stream",
     "text": [
      "100%|██████████| 5148/5148 [00:00<00:00, 24453314.83it/s]"
     ]
    },
    {
     "name": "stdout",
     "output_type": "stream",
     "text": [
      "Extracting data/FashionMNIST/raw/t10k-labels-idx1-ubyte.gz to data/FashionMNIST/raw\n",
      "\n"
     ]
    },
    {
     "name": "stderr",
     "output_type": "stream",
     "text": [
      "\n"
     ]
    }
   ],
   "source": [
    "from torch.utils.data import DataLoader\n",
    "from torchvision import datasets\n",
    "from torchvision.transforms import ToTensor\n",
    "\n",
    "training_data=datasets.FashionMNIST(\n",
    "    root='data',\n",
    "    train=True,\n",
    "    download=True,\n",
    "    transform=ToTensor()\n",
    ")\n",
    "\n",
    "test_data=datasets.FashionMNIST(\n",
    "    root='data',\n",
    "    train=False,\n",
    "    download=True,\n",
    "    transform=ToTensor()\n",
    ")\n",
    "\n",
    "train_dataloader=DataLoader(training_data, batch_size=64)\n",
    "test_dataloader=DataLoader(test_data, batch_size=64)"
   ]
  },
  {
   "cell_type": "code",
   "execution_count": 2,
   "id": "29ccf9de",
   "metadata": {
    "execution": {
     "iopub.execute_input": "2024-02-02T08:56:06.551839Z",
     "iopub.status.busy": "2024-02-02T08:56:06.551423Z",
     "iopub.status.idle": "2024-02-02T08:56:06.557443Z",
     "shell.execute_reply": "2024-02-02T08:56:06.556605Z"
    },
    "papermill": {
     "duration": 0.014651,
     "end_time": "2024-02-02T08:56:06.558966",
     "exception": false,
     "start_time": "2024-02-02T08:56:06.544315",
     "status": "completed"
    },
    "tags": []
   },
   "outputs": [
    {
     "data": {
      "text/plain": [
       "938"
      ]
     },
     "execution_count": 2,
     "metadata": {},
     "output_type": "execute_result"
    }
   ],
   "source": [
    "len(train_dataloader)"
   ]
  },
  {
   "cell_type": "markdown",
   "id": "b6a8e63a",
   "metadata": {
    "papermill": {
     "duration": 0.005617,
     "end_time": "2024-02-02T08:56:06.570559",
     "exception": false,
     "start_time": "2024-02-02T08:56:06.564942",
     "status": "completed"
    },
    "tags": []
   },
   "source": [
    "# Define the model"
   ]
  },
  {
   "cell_type": "code",
   "execution_count": 3,
   "id": "7f66fdb6",
   "metadata": {
    "execution": {
     "iopub.execute_input": "2024-02-02T08:56:06.583859Z",
     "iopub.status.busy": "2024-02-02T08:56:06.583527Z",
     "iopub.status.idle": "2024-02-02T08:56:06.606674Z",
     "shell.execute_reply": "2024-02-02T08:56:06.605734Z"
    },
    "papermill": {
     "duration": 0.032119,
     "end_time": "2024-02-02T08:56:06.608469",
     "exception": false,
     "start_time": "2024-02-02T08:56:06.576350",
     "status": "completed"
    },
    "tags": []
   },
   "outputs": [],
   "source": [
    "from torch import nn\n",
    "\n",
    "class NeuralNetwork(nn.Module):\n",
    "    def __init__(self):\n",
    "        super().__init__()\n",
    "        self.flatten=nn.Flatten()\n",
    "        self.linear_relu_stack=nn.Sequential(\n",
    "            nn.Linear(28*28, 512),\n",
    "            nn.ReLU(),\n",
    "            nn.Linear(512,512),\n",
    "            nn.ReLU(),\n",
    "            nn.Linear(512, 10)\n",
    "        )\n",
    "    def forward(self, x):\n",
    "        x=self.flatten(x)\n",
    "        logits=self.linear_relu_stack(x)\n",
    "        return logits\n",
    "\n",
    "model=NeuralNetwork()"
   ]
  },
  {
   "cell_type": "markdown",
   "id": "10d36aef",
   "metadata": {
    "papermill": {
     "duration": 0.005686,
     "end_time": "2024-02-02T08:56:06.620356",
     "exception": false,
     "start_time": "2024-02-02T08:56:06.614670",
     "status": "completed"
    },
    "tags": []
   },
   "source": [
    "# Hyperparameters\n",
    "\n",
    "Hyperparameters are adjustable parameters that let you control the model optimization process. Different hyperparameter values can impact model training and convergence rates.\n",
    "\n",
    "We define the following hyperparameters for training:\n",
    "\n",
    "* **Number of Epochs** - the number times to iterate over the dataset.\n",
    "* **Batch Size** -  the number of data samples propagated through the network before the parameters are updated\n",
    "* **Learning Rate** - how much to update models parameters at each batch/epoch. Smaller values yield slow learning speed, while large values may result in unpredictable behavior during training."
   ]
  },
  {
   "cell_type": "code",
   "execution_count": 4,
   "id": "a7ab0fa5",
   "metadata": {
    "execution": {
     "iopub.execute_input": "2024-02-02T08:56:06.633590Z",
     "iopub.status.busy": "2024-02-02T08:56:06.633219Z",
     "iopub.status.idle": "2024-02-02T08:56:06.637164Z",
     "shell.execute_reply": "2024-02-02T08:56:06.636436Z"
    },
    "papermill": {
     "duration": 0.012415,
     "end_time": "2024-02-02T08:56:06.638754",
     "exception": false,
     "start_time": "2024-02-02T08:56:06.626339",
     "status": "completed"
    },
    "tags": []
   },
   "outputs": [],
   "source": [
    "learning_rate=1e-3\n",
    "batch_size=64\n",
    "epochs=5"
   ]
  },
  {
   "cell_type": "markdown",
   "id": "da493eba",
   "metadata": {
    "papermill": {
     "duration": 0.005646,
     "end_time": "2024-02-02T08:56:06.650197",
     "exception": false,
     "start_time": "2024-02-02T08:56:06.644551",
     "status": "completed"
    },
    "tags": []
   },
   "source": [
    "# Training(Optimization Loop)\n",
    "\n",
    "Once we set our hyperparameters, we can then train and optimize our model with an optimization loop. Each iteration of the optimization loop is called an **epoch**.\n",
    "\n",
    "Each epoch consists of two main parts:\n",
    "* **The Train Loop** -  iterate over the training dataset and try to converge to optimal parameters.\n",
    "* **The Validation/Test Loop** - iterate over the test dataset to check if model performance is improving.\n",
    "\n",
    "\n",
    "## Loss Function\n",
    "\n",
    "When presented with some training data, our untrained network is likely not to give the correct answer. **Loss function** measures the degree of dissimilarity of obtained result to the target value, and it is the loss function that we want to minimize during training. To calculate the loss we make a prediction using the inputs of our given data sample and compare it against the true data label value.\n",
    "\n",
    "Common loss functions include `nn.MSELoss`(Mean Square Error) for regression tasks, and `nn.NLLLoss`(Negative Log Likelihood) for classification. `nn.CrossEntropyLoss` combines `nn.LogSoftmax` and `nn.NLLLoss`.\n",
    "\n",
    "We pass our model's output logits to `nn.CrossEntropyLoss`, which will normalize the logits and compute the prediction error."
   ]
  },
  {
   "cell_type": "code",
   "execution_count": 5,
   "id": "af24e4df",
   "metadata": {
    "execution": {
     "iopub.execute_input": "2024-02-02T08:56:06.663222Z",
     "iopub.status.busy": "2024-02-02T08:56:06.662916Z",
     "iopub.status.idle": "2024-02-02T08:56:06.666765Z",
     "shell.execute_reply": "2024-02-02T08:56:06.666002Z"
    },
    "papermill": {
     "duration": 0.012218,
     "end_time": "2024-02-02T08:56:06.668239",
     "exception": false,
     "start_time": "2024-02-02T08:56:06.656021",
     "status": "completed"
    },
    "tags": []
   },
   "outputs": [],
   "source": [
    "# initialize the loss function\n",
    "loss_fn=nn.CrossEntropyLoss()"
   ]
  },
  {
   "cell_type": "markdown",
   "id": "28a4a6a6",
   "metadata": {
    "papermill": {
     "duration": 0.005583,
     "end_time": "2024-02-02T08:56:06.679771",
     "exception": false,
     "start_time": "2024-02-02T08:56:06.674188",
     "status": "completed"
    },
    "tags": []
   },
   "source": [
    "## Optimizer\n",
    "\n",
    "Optimization is the process of adjusting model parameters to reduce model error in each training step. **Optimization algorithms** define how this process is performed(here we use Stochastic Gradient Descent). All optimization logic is encapsulated in the `optimizer` object. Here, we use SGD optimizer; additionally, there are many of others avaliable in PyTorch like:\n",
    "* ADAM\n",
    "* RMSProp\n",
    "\n",
    "We initialize the optimizer by registering the model's parameters that need to be trained, and passing in the learning rate hyperparameter."
   ]
  },
  {
   "cell_type": "code",
   "execution_count": 6,
   "id": "7c29d6b8",
   "metadata": {
    "execution": {
     "iopub.execute_input": "2024-02-02T08:56:06.696208Z",
     "iopub.status.busy": "2024-02-02T08:56:06.695847Z",
     "iopub.status.idle": "2024-02-02T08:56:06.701976Z",
     "shell.execute_reply": "2024-02-02T08:56:06.700402Z"
    },
    "papermill": {
     "duration": 0.017516,
     "end_time": "2024-02-02T08:56:06.703624",
     "exception": false,
     "start_time": "2024-02-02T08:56:06.686108",
     "status": "completed"
    },
    "tags": []
   },
   "outputs": [],
   "source": [
    "import torch\n",
    "optimizer=torch.optim.SGD(model.parameters(), lr=learning_rate)"
   ]
  },
  {
   "cell_type": "markdown",
   "id": "3f2e9106",
   "metadata": {
    "papermill": {
     "duration": 0.00691,
     "end_time": "2024-02-02T08:56:06.717957",
     "exception": false,
     "start_time": "2024-02-02T08:56:06.711047",
     "status": "completed"
    },
    "tags": []
   },
   "source": [
    "Inside the training loop, optimization happens in three steps:\n",
    "* Call `optimizer.zero_grad()` to reset the gradients of model parameters. Gradients by default add up;to prevent double-counting we explicity zero them at each iteration.\n",
    "* Backpropagate the prediction loss with a call to `loss.backward()`. PyTorch deposits the gradients of the loss w.r.t. each parameter.\n",
    "* Once we have our gradients, we call `optimizer.step()` to adjust the paeameters by the gradients collected in the backward pass."
   ]
  },
  {
   "cell_type": "code",
   "execution_count": 7,
   "id": "89f3369e",
   "metadata": {
    "execution": {
     "iopub.execute_input": "2024-02-02T08:56:06.733152Z",
     "iopub.status.busy": "2024-02-02T08:56:06.732812Z",
     "iopub.status.idle": "2024-02-02T08:56:06.740566Z",
     "shell.execute_reply": "2024-02-02T08:56:06.739718Z"
    },
    "papermill": {
     "duration": 0.016885,
     "end_time": "2024-02-02T08:56:06.742263",
     "exception": false,
     "start_time": "2024-02-02T08:56:06.725378",
     "status": "completed"
    },
    "tags": []
   },
   "outputs": [],
   "source": [
    "def train_loop(dataloader, model, loss_fn, optimizer):\n",
    "    size=len(dataloader.dataset)\n",
    "    # Set the model to training mode - important for batch normalization and dropout layers\n",
    "    model.train()\n",
    "    for batch, (X,y) in enumerate(dataloader):\n",
    "        # compute prediction and loss\n",
    "        pred=model(X)\n",
    "        loss=loss_fn(pred, y)\n",
    "        \n",
    "        # backpropagation\n",
    "        loss.backward()\n",
    "        optimizer.step()\n",
    "        optimizer.zero_grad()\n",
    "        \n",
    "        if batch % 100==0:\n",
    "            loss,current=loss.item(), batch*batch_size+len(X)\n",
    "            print(f'loss: {loss:>7f} [{current:>5d}/{size:>5d}]')\n",
    "\n",
    "def test_loop(dataloader, model, loss_fn):\n",
    "    # set the model to evaluation mode - important for batch normalization and dropout layers\n",
    "    model.eval()\n",
    "    size=len(dataloader.dataset)\n",
    "    num_batches=len(dataloader)\n",
    "    test_loss, correct=0, 0\n",
    "    \n",
    "    # Evaluating the model with torch.no_grad() ensures that no gradients are computed during\n",
    "    # test mode also serves to reduce unnecessary gradient computation and memory usage for\n",
    "    # tensors with requires_grad=True\n",
    "    with torch.no_grad():\n",
    "        for example, label in dataloader:\n",
    "            pred=model(example)\n",
    "            test_loss+=loss_fn(pred, label).item()\n",
    "            correct+=(pred.argmax(1)==label).type(torch.float).sum().item()\n",
    "    test_loss/=num_batches\n",
    "    correct/=size\n",
    "    print(f'Test Error: \\n Accuracy:{(100*correct):>0.1f}%, Avg loss: {test_loss:>8f} \\n')"
   ]
  },
  {
   "cell_type": "markdown",
   "id": "e02990b7",
   "metadata": {
    "papermill": {
     "duration": 0.006035,
     "end_time": "2024-02-02T08:56:06.754740",
     "exception": false,
     "start_time": "2024-02-02T08:56:06.748705",
     "status": "completed"
    },
    "tags": []
   },
   "source": [
    "We initialize the loss function and optimizer, and pass it to `train_loop` and `test_loop`. Feel free to increase the number of epochs to track the model's improving performance."
   ]
  },
  {
   "cell_type": "code",
   "execution_count": 8,
   "id": "63029c50",
   "metadata": {
    "execution": {
     "iopub.execute_input": "2024-02-02T08:56:06.769112Z",
     "iopub.status.busy": "2024-02-02T08:56:06.768733Z",
     "iopub.status.idle": "2024-02-02T08:56:57.953496Z",
     "shell.execute_reply": "2024-02-02T08:56:57.952486Z"
    },
    "papermill": {
     "duration": 51.19446,
     "end_time": "2024-02-02T08:56:57.955531",
     "exception": false,
     "start_time": "2024-02-02T08:56:06.761071",
     "status": "completed"
    },
    "tags": []
   },
   "outputs": [
    {
     "name": "stdout",
     "output_type": "stream",
     "text": [
      "loss: 2.303482 [   64/60000]\n",
      "loss: 2.289590 [ 6464/60000]\n",
      "loss: 2.269746 [12864/60000]\n",
      "loss: 2.257817 [19264/60000]\n",
      "loss: 2.240464 [25664/60000]\n",
      "loss: 2.223067 [32064/60000]\n",
      "loss: 2.222088 [38464/60000]\n",
      "loss: 2.190099 [44864/60000]\n",
      "loss: 2.179258 [51264/60000]\n",
      "loss: 2.157250 [57664/60000]\n",
      "Test Error: \n",
      " Accuracy:50.0%, Avg loss: 2.143480 \n",
      "\n",
      "loss: 2.162952 [   64/60000]\n",
      "loss: 2.141688 [ 6464/60000]\n",
      "loss: 2.077984 [12864/60000]\n",
      "loss: 2.088617 [19264/60000]\n",
      "loss: 2.030943 [25664/60000]\n",
      "loss: 1.985438 [32064/60000]\n",
      "loss: 2.003971 [38464/60000]\n",
      "loss: 1.921075 [44864/60000]\n",
      "loss: 1.922721 [51264/60000]\n",
      "loss: 1.857106 [57664/60000]\n",
      "Test Error: \n",
      " Accuracy:56.7%, Avg loss: 1.845782 \n",
      "\n",
      "loss: 1.890157 [   64/60000]\n",
      "loss: 1.845275 [ 6464/60000]\n",
      "loss: 1.721059 [12864/60000]\n",
      "loss: 1.764182 [19264/60000]\n",
      "loss: 1.647971 [25664/60000]\n",
      "loss: 1.619364 [32064/60000]\n",
      "loss: 1.636268 [38464/60000]\n",
      "loss: 1.541553 [44864/60000]\n",
      "loss: 1.566157 [51264/60000]\n",
      "loss: 1.468235 [57664/60000]\n",
      "Test Error: \n",
      " Accuracy:61.0%, Avg loss: 1.482327 \n",
      "\n",
      "loss: 1.556080 [   64/60000]\n",
      "loss: 1.514769 [ 6464/60000]\n",
      "loss: 1.364367 [12864/60000]\n",
      "loss: 1.440262 [19264/60000]\n",
      "loss: 1.319780 [25664/60000]\n",
      "loss: 1.328374 [32064/60000]\n",
      "loss: 1.340557 [38464/60000]\n",
      "loss: 1.271428 [44864/60000]\n",
      "loss: 1.301938 [51264/60000]\n",
      "loss: 1.208696 [57664/60000]\n",
      "Test Error: \n",
      " Accuracy:63.2%, Avg loss: 1.232482 \n",
      "\n",
      "loss: 1.313747 [   64/60000]\n",
      "loss: 1.289200 [ 6464/60000]\n",
      "loss: 1.122798 [12864/60000]\n",
      "loss: 1.231397 [19264/60000]\n",
      "loss: 1.107255 [25664/60000]\n",
      "loss: 1.137591 [32064/60000]\n",
      "loss: 1.159412 [38464/60000]\n",
      "loss: 1.101264 [44864/60000]\n",
      "loss: 1.134610 [51264/60000]\n",
      "loss: 1.054553 [57664/60000]\n",
      "Test Error: \n",
      " Accuracy:64.8%, Avg loss: 1.075139 \n",
      "\n",
      "Done!\n"
     ]
    }
   ],
   "source": [
    "epochs=5\n",
    "for t in range(epochs):\n",
    "    train_loop(train_dataloader, model, loss_fn, optimizer)\n",
    "    test_loop(test_dataloader, model, loss_fn)\n",
    "print('Done!')"
   ]
  }
 ],
 "metadata": {
  "kaggle": {
   "accelerator": "none",
   "dataSources": [],
   "dockerImageVersionId": 30646,
   "isGpuEnabled": false,
   "isInternetEnabled": true,
   "language": "python",
   "sourceType": "notebook"
  },
  "kernelspec": {
   "display_name": "Python 3",
   "language": "python",
   "name": "python3"
  },
  "language_info": {
   "codemirror_mode": {
    "name": "ipython",
    "version": 3
   },
   "file_extension": ".py",
   "mimetype": "text/x-python",
   "name": "python",
   "nbconvert_exporter": "python",
   "pygments_lexer": "ipython3",
   "version": "3.10.13"
  },
  "papermill": {
   "default_parameters": {},
   "duration": 66.400469,
   "end_time": "2024-02-02T08:56:58.985133",
   "environment_variables": {},
   "exception": null,
   "input_path": "__notebook__.ipynb",
   "output_path": "__notebook__.ipynb",
   "parameters": {},
   "start_time": "2024-02-02T08:55:52.584664",
   "version": "2.5.0"
  }
 },
 "nbformat": 4,
 "nbformat_minor": 5
}
