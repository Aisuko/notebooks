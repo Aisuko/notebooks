{
 "cells": [
  {
   "cell_type": "markdown",
   "id": "98f40b1e",
   "metadata": {
    "_cell_guid": "b1076dfc-b9ad-4769-8c92-a6c4dae69d19",
    "_uuid": "8f2839f25d086af736a60e9eeb907d3b93b6e0e5",
    "papermill": {
     "duration": 0.003205,
     "end_time": "2024-01-29T01:54:33.631059",
     "exception": false,
     "start_time": "2024-01-29T01:54:33.627854",
     "status": "completed"
    },
    "tags": []
   },
   "source": [
    "# Overview\n",
    "\n",
    "In order to dataset code to be decoupled from the model training code for better readability and modularity. PyTorch provides two data primitives:\n",
    "\n",
    "* torch.utils.data.DataLoader\n",
    "* torch.utils.data.Dataset\n",
    "\n",
    "These two that allow you to use pre-loaded datasets as well as our own data. **Dataset stores the samples and their corresponding labels**, and **DataLoader wraps an iterable around the Dataset to enable easy access to the samples**. And there are different types of PyTorch Datasets like:\n",
    "\n",
    "* Image Datasets(torchvision)\n",
    "* Text Datasets(torchtext)\n",
    "* Audio Datasets(torchaudio)\n",
    "\n",
    "<div style=\"text-align: center\"><img src=\"https://files.mastodon.social/media_attachments/files/111/836/684/650/372/165/original/bea420ea27ad0737.png\" width=\"90%\" heigh=\"90%\" alt=\"torch.utils.data\"></div>"
   ]
  },
  {
   "cell_type": "markdown",
   "id": "f5643f16",
   "metadata": {
    "papermill": {
     "duration": 0.002503,
     "end_time": "2024-01-29T01:54:33.636467",
     "exception": false,
     "start_time": "2024-01-29T01:54:33.633964",
     "status": "completed"
    },
    "tags": []
   },
   "source": [
    "# Loading a Dataset\n",
    "\n",
    "Let's use DataLoader to load the Fashion-MNIST dataset from `TorchVision`. Fashion-MNIST is a dataset of Zalando's article image consisting of 60,000 training examples and 10,000 test examples. Each example comprises a 28x28 grayscale image and an associated label from one of 10 classes.\n",
    "\n",
    "We load the Dataset with the following parameters:\n",
    "* `root` is the path where the train/test data is stored\n",
    "* `train` specifies training ot test dataset\n",
    "* `download=True` downloads the data from the internet if it's not avaliable at root\n",
    "* `transform` and `target_transform` specify the feature and label transformations"
   ]
  },
  {
   "cell_type": "code",
   "execution_count": 1,
   "id": "1fa9b57e",
   "metadata": {
    "execution": {
     "iopub.execute_input": "2024-01-29T01:54:33.644362Z",
     "iopub.status.busy": "2024-01-29T01:54:33.644043Z",
     "iopub.status.idle": "2024-01-29T01:54:43.107260Z",
     "shell.execute_reply": "2024-01-29T01:54:43.106195Z"
    },
    "papermill": {
     "duration": 9.469764,
     "end_time": "2024-01-29T01:54:43.109471",
     "exception": false,
     "start_time": "2024-01-29T01:54:33.639707",
     "status": "completed"
    },
    "tags": []
   },
   "outputs": [
    {
     "name": "stdout",
     "output_type": "stream",
     "text": [
      "Downloading http://fashion-mnist.s3-website.eu-central-1.amazonaws.com/train-images-idx3-ubyte.gz\n",
      "Downloading http://fashion-mnist.s3-website.eu-central-1.amazonaws.com/train-images-idx3-ubyte.gz to data/FashionMNIST/raw/train-images-idx3-ubyte.gz\n"
     ]
    },
    {
     "name": "stderr",
     "output_type": "stream",
     "text": [
      "100%|██████████| 26421880/26421880 [00:02<00:00, 13053461.74it/s]\n"
     ]
    },
    {
     "name": "stdout",
     "output_type": "stream",
     "text": [
      "Extracting data/FashionMNIST/raw/train-images-idx3-ubyte.gz to data/FashionMNIST/raw\n",
      "\n",
      "Downloading http://fashion-mnist.s3-website.eu-central-1.amazonaws.com/train-labels-idx1-ubyte.gz\n",
      "Downloading http://fashion-mnist.s3-website.eu-central-1.amazonaws.com/train-labels-idx1-ubyte.gz to data/FashionMNIST/raw/train-labels-idx1-ubyte.gz\n"
     ]
    },
    {
     "name": "stderr",
     "output_type": "stream",
     "text": [
      "100%|██████████| 29515/29515 [00:00<00:00, 205908.87it/s]\n"
     ]
    },
    {
     "name": "stdout",
     "output_type": "stream",
     "text": [
      "Extracting data/FashionMNIST/raw/train-labels-idx1-ubyte.gz to data/FashionMNIST/raw\n",
      "\n",
      "Downloading http://fashion-mnist.s3-website.eu-central-1.amazonaws.com/t10k-images-idx3-ubyte.gz\n",
      "Downloading http://fashion-mnist.s3-website.eu-central-1.amazonaws.com/t10k-images-idx3-ubyte.gz to data/FashionMNIST/raw/t10k-images-idx3-ubyte.gz\n"
     ]
    },
    {
     "name": "stderr",
     "output_type": "stream",
     "text": [
      "100%|██████████| 4422102/4422102 [00:01<00:00, 3839446.44it/s]\n"
     ]
    },
    {
     "name": "stdout",
     "output_type": "stream",
     "text": [
      "Extracting data/FashionMNIST/raw/t10k-images-idx3-ubyte.gz to data/FashionMNIST/raw\n",
      "\n",
      "Downloading http://fashion-mnist.s3-website.eu-central-1.amazonaws.com/t10k-labels-idx1-ubyte.gz\n",
      "Downloading http://fashion-mnist.s3-website.eu-central-1.amazonaws.com/t10k-labels-idx1-ubyte.gz to data/FashionMNIST/raw/t10k-labels-idx1-ubyte.gz\n"
     ]
    },
    {
     "name": "stderr",
     "output_type": "stream",
     "text": [
      "100%|██████████| 5148/5148 [00:00<00:00, 18957223.00it/s]"
     ]
    },
    {
     "name": "stdout",
     "output_type": "stream",
     "text": [
      "Extracting data/FashionMNIST/raw/t10k-labels-idx1-ubyte.gz to data/FashionMNIST/raw\n",
      "\n"
     ]
    },
    {
     "name": "stderr",
     "output_type": "stream",
     "text": [
      "\n"
     ]
    }
   ],
   "source": [
    "from torch.utils.data import Dataset\n",
    "from torchvision import datasets\n",
    "from torchvision.transforms import ToTensor\n",
    "\n",
    "training_data=datasets.FashionMNIST(\n",
    "    root='data',\n",
    "    train=True,\n",
    "    download=True,\n",
    "    transform=ToTensor()\n",
    ")\n",
    "\n",
    "test_data=datasets.FashionMNIST(\n",
    "    root='data',\n",
    "    train=False,\n",
    "    download=True,\n",
    "    transform=ToTensor()\n",
    ")"
   ]
  },
  {
   "cell_type": "markdown",
   "id": "2a85b6e5",
   "metadata": {
    "papermill": {
     "duration": 0.005048,
     "end_time": "2024-01-29T01:54:43.119979",
     "exception": false,
     "start_time": "2024-01-29T01:54:43.114931",
     "status": "completed"
    },
    "tags": []
   },
   "source": [
    "# Iterating and Visualizing the Dataset\n",
    "\n",
    "We can index `Datasets` manually like a list: `training_data[index]`. We use `matplotlib` to visualize some samples in our training data."
   ]
  },
  {
   "cell_type": "code",
   "execution_count": 2,
   "id": "60aadbc4",
   "metadata": {
    "execution": {
     "iopub.execute_input": "2024-01-29T01:54:43.131646Z",
     "iopub.status.busy": "2024-01-29T01:54:43.131286Z",
     "iopub.status.idle": "2024-01-29T01:54:43.694549Z",
     "shell.execute_reply": "2024-01-29T01:54:43.693767Z"
    },
    "papermill": {
     "duration": 0.571021,
     "end_time": "2024-01-29T01:54:43.696224",
     "exception": false,
     "start_time": "2024-01-29T01:54:43.125203",
     "status": "completed"
    },
    "tags": []
   },
   "outputs": [
    {
     "data": {
      "image/png": "[encoded data removed]",
      "text/plain": [
       "<Figure size 800x800 with 9 Axes>"
      ]
     },
     "metadata": {},
     "output_type": "display_data"
    }
   ],
   "source": [
    "import torch\n",
    "import matplotlib.pyplot as plt\n",
    "\n",
    "labels_map={\n",
    "    0: \"T-Shirt\",\n",
    "    1: \"Trouser\",\n",
    "    2: \"Pullover\",\n",
    "    3: \"Dress\",\n",
    "    4: \"Coat\",\n",
    "    5: \"Sandal\",\n",
    "    6: \"Shirt\",\n",
    "    7: \"Sneaker\",\n",
    "    8: \"Bag\",\n",
    "    9: \"Ankle Boot\",\n",
    "}\n",
    "\n",
    "figure=plt.figure(figsize=(8,8))\n",
    "cols, rows=3,3\n",
    "for i in range(1, cols*rows+1):\n",
    "    sample_idx=torch.randint(len(training_data), size=(1,)).item()\n",
    "    img, label=training_data[sample_idx]\n",
    "    figure.add_subplot(rows, cols,i)\n",
    "    plt.title(labels_map[label])\n",
    "    plt.axis(\"off\")\n",
    "    plt.imshow(img.squeeze(), cmap=\"gray\")\n",
    "plt.show()"
   ]
  },
  {
   "cell_type": "markdown",
   "id": "15791618",
   "metadata": {
    "papermill": {
     "duration": 0.00554,
     "end_time": "2024-01-29T01:54:43.707697",
     "exception": false,
     "start_time": "2024-01-29T01:54:43.702157",
     "status": "completed"
    },
    "tags": []
   },
   "source": [
    "## Dataset Types\n",
    "\n",
    "The most important argument of DataLoader constructor is dataset, which indicates a dataset object to load data from. PyTorch supports two different types of datasets:\n",
    "* map-style datasets\n",
    "* iterable-style datasets\n",
    "\n",
    "## Map-style datasets\n",
    "\n",
    "A map-style dataset is one that implements the `__getitem__()` and `__len()__()` protocols, and represents a map from(possibly non-integral) indices/keys to data samples.\n",
    "\n",
    "For example, such a dataset, when accessed with `dataset[idx]`, could read the `idx`-th image and its corresponding label from a folder on the disk.\n",
    "\n",
    "## Iterable-style datasets\n",
    "\n",
    "An iterable-style dataset is an instance of a subclass of `IterableDataset` that implements the `__iter__()` protocol, and represents an iterable over data samples. This type of dataset is particularly suitable for cases where random reads are expensive or even improbable, and where the batch size depends on the fetched data.\n",
    "\n",
    "For example, such a dataset, when called `iter(dataset)`, could return a stream of data reading from a database, a remote server, or even logs generated in real time. See below code snippet:"
   ]
  },
  {
   "cell_type": "code",
   "execution_count": 3,
   "id": "83f86a50",
   "metadata": {
    "execution": {
     "iopub.execute_input": "2024-01-29T01:54:43.720716Z",
     "iopub.status.busy": "2024-01-29T01:54:43.720391Z",
     "iopub.status.idle": "2024-01-29T01:54:43.733074Z",
     "shell.execute_reply": "2024-01-29T01:54:43.732211Z"
    },
    "papermill": {
     "duration": 0.021448,
     "end_time": "2024-01-29T01:54:43.734694",
     "exception": false,
     "start_time": "2024-01-29T01:54:43.713246",
     "status": "completed"
    },
    "tags": []
   },
   "outputs": [
    {
     "name": "stdout",
     "output_type": "stream",
     "text": [
      "[tensor([3]), tensor([4]), tensor([5]), tensor([6])]\n"
     ]
    }
   ],
   "source": [
    "import torch\n",
    "\n",
    "class MyIterableDataset(torch.utils.data.IterableDataset):\n",
    "    def __init__(self, start, end):\n",
    "        super(MyIterableDataset).__init__()\n",
    "        assert end> start, \"only works with end>=start\"\n",
    "        \n",
    "        self.start=start\n",
    "        self.end=end\n",
    "        \n",
    "    def __iter__(self):\n",
    "        worker_info=torch.utils.data.get_worker_info()\n",
    "        if worker_info is None:\n",
    "            iter_start=self.start\n",
    "            iter_end=self.end\n",
    "        else:\n",
    "            per_worker=int(math.ceil((self.end-self.start)/float(worker_info.num_workers)))\n",
    "            worker_id=worker_info.id\n",
    "            iter_start=self.start+worker_id*per_worker\n",
    "            iter_end=min(iter_start+per_worker, self.end)\n",
    "        return iter(range(iter_start, iter_end))\n",
    "\n",
    "ds=MyIterableDataset(start=3, end=7)\n",
    "\n",
    "# Single-process loading\n",
    "print(list(torch.utils.data.DataLoader(ds, num_workers=0)))\n",
    "\n",
    "# NameError: name 'math' is not defined\n",
    "# Worker 0 fetched [3, 4].  Worker 1 fetched [5, 6].\n",
    "# print(list(torch.utils.data.DataLoader(ds, num_workers=2)))"
   ]
  },
  {
   "cell_type": "markdown",
   "id": "702b65b9",
   "metadata": {
    "papermill": {
     "duration": 0.005463,
     "end_time": "2024-01-29T01:54:43.745995",
     "exception": false,
     "start_time": "2024-01-29T01:54:43.740532",
     "status": "completed"
    },
    "tags": []
   },
   "source": [
    "# Preparing the data for training with DataLoaders\n",
    "\n",
    "The `Dataset` retrieves our dataset's features and labels one sample at a time. While training a model, we typically want to pass samples in \"minibatches\", reshuffle the data at every epoch to reduce model overfitting, and use Python's `multiprocessing` to speed up data retrieval. `DataLoader` is what you need."
   ]
  },
  {
   "cell_type": "code",
   "execution_count": 4,
   "id": "7d647c25",
   "metadata": {
    "execution": {
     "iopub.execute_input": "2024-01-29T01:54:43.758291Z",
     "iopub.status.busy": "2024-01-29T01:54:43.758005Z",
     "iopub.status.idle": "2024-01-29T01:54:43.762428Z",
     "shell.execute_reply": "2024-01-29T01:54:43.761652Z"
    },
    "papermill": {
     "duration": 0.012287,
     "end_time": "2024-01-29T01:54:43.763808",
     "exception": false,
     "start_time": "2024-01-29T01:54:43.751521",
     "status": "completed"
    },
    "tags": []
   },
   "outputs": [],
   "source": [
    "from torch.utils.data import DataLoader\n",
    "\n",
    "train_dataloader=DataLoader(training_data, batch_size=64, shuffle=True)\n",
    "test_dataloader=DataLoader(test_data, batch_size=64, shuffle=True)"
   ]
  },
  {
   "cell_type": "markdown",
   "id": "6230f51e",
   "metadata": {
    "papermill": {
     "duration": 0.00572,
     "end_time": "2024-01-29T01:54:43.775114",
     "exception": false,
     "start_time": "2024-01-29T01:54:43.769394",
     "status": "completed"
    },
    "tags": []
   },
   "source": [
    "## Iterate through the DataLoader\n",
    "\n",
    "We have load the dataset inot the DataLoader and can iterate through the datasets as needed. Each iteration below returns a batch of `train_features` and `train_labels`(containing `batch_size=64` features and labels respectively). Because we specified `shuffle=True`, after we iterate over all batches the data is shuffled."
   ]
  },
  {
   "cell_type": "code",
   "execution_count": 5,
   "id": "400667a4",
   "metadata": {
    "execution": {
     "iopub.execute_input": "2024-01-29T01:54:43.787515Z",
     "iopub.status.busy": "2024-01-29T01:54:43.787258Z",
     "iopub.status.idle": "2024-01-29T01:54:43.970627Z",
     "shell.execute_reply": "2024-01-29T01:54:43.970032Z"
    },
    "papermill": {
     "duration": 0.191723,
     "end_time": "2024-01-29T01:54:43.972501",
     "exception": false,
     "start_time": "2024-01-29T01:54:43.780778",
     "status": "completed"
    },
    "tags": []
   },
   "outputs": [
    {
     "name": "stdout",
     "output_type": "stream",
     "text": [
      "Feature batch shape: torch.Size([64, 1, 28, 28])\n",
      "Labels batch shape: torch.Size([64])\n"
     ]
    },
    {
     "data": {
      "image/png": "[encoded data removed]",
      "text/plain": [
       "<Figure size 640x480 with 1 Axes>"
      ]
     },
     "metadata": {},
     "output_type": "display_data"
    },
    {
     "name": "stdout",
     "output_type": "stream",
     "text": [
      "Label: 7\n"
     ]
    }
   ],
   "source": [
    "train_features, train_labels= next(iter(train_dataloader))\n",
    "print(f\"Feature batch shape: {train_features.size()}\")\n",
    "print(f\"Labels batch shape: {train_labels.size()}\")\n",
    "\n",
    "img=train_features[0].squeeze()\n",
    "label=train_labels[0]\n",
    "\n",
    "plt.imshow(img, cmap=\"gray\")\n",
    "plt.show()\n",
    "print(f\"Label: {label}\")"
   ]
  },
  {
   "cell_type": "markdown",
   "id": "7a5546c1",
   "metadata": {
    "papermill": {
     "duration": 0.005829,
     "end_time": "2024-01-29T01:54:43.984543",
     "exception": false,
     "start_time": "2024-01-29T01:54:43.978714",
     "status": "completed"
    },
    "tags": []
   },
   "source": [
    "## Data Loading Order and Sampler\n",
    "\n",
    "For iterable-style datasets, data loading order is entirely controlled by the user-define iterable. This allows easier implementations of chunk-reading and dynamic batch size(e.g., by yielding a batched sample at each time).\n",
    "\n",
    "The rest of this section concerns the case with map-style datasets. `torch.utils.data.Sampler` classes are used to specify the sequence of indices/keys used in data loading. They represent iterable objects over the indices to datasets. E.g., in the common case with stochastic gradient decent(SGD), a Simpler could randomly permute a list of indices and yield each one at a time, or yield a small number of them for mini-batch SGD.\n",
    "\n",
    "A sequential of shuffled sampler will be automatically constructed based on shuffle argument to a DataLoader. Alternatively, users may use the sampler argument to specify a custom Sampler could randomly permute a list of indices and yield each one at a time, or yield a small number of them for mini-batch SGD.\n",
    "\n",
    "A sequantial or shuffled sampler wil be automatiaclly constructed based on the shuffle argument to a DataLoader. Alternatively, users may use the sampler argument to specify a custom Sampler object that at each time yields the next index/key to fetch.\n",
    "\n",
    "A custom Sampler that yields a list of batch indices at a time can be passed as the batch_sampler argument. Automatic batching can also be enabled via batch_size and drop_last arguments.\n",
    "\n",
    "**Note:**\n",
    "\n",
    "Neither sampler nor batch_sampler is compatibel with iterable-style datasets, since such datasets have no notion of a key or an index.\n",
    "\n"
   ]
  },
  {
   "cell_type": "markdown",
   "id": "717dd2a7",
   "metadata": {
    "papermill": {
     "duration": 0.005736,
     "end_time": "2024-01-29T01:54:43.996263",
     "exception": false,
     "start_time": "2024-01-29T01:54:43.990527",
     "status": "completed"
    },
    "tags": []
   },
   "source": [
    "# Automatic batching(default)\n",
    "\n",
    "This is the most common case, and corresponds to fetching a minibatch of data and collating them into batched samples. i.e., containing Tensors with one dimension being the batch dimension(usually the first).\n",
    "\n",
    "When `batch_size`(default 1) is not None, the data loader yields batched samples instead of individual samples. `batch_size` and `drop_last` arguments are used to specify how the data loader obtains batches of dataset keys. For map-style datasets, users can alternatively specify `batch_sampler`, which yields a list of keys at a time.\n",
    "\n",
    "**Note:**\n",
    "\n",
    "The `batch_size` and `drop_last` arguments essentially are used to construct a `batch_sampler` from `sampler`. For map-style datasets, the `sampler` is either provided by user of contructed based on the `shuffle` argument. For iterable-style datasets, the `sampler` is a dummy infinite one.\n",
    "\n",
    "When fetching from `iterable-style datasets` with `multi-processing`, the `drop_last` argument drops the last non-full batch of each worker's dataset replica.\n",
    "\n",
    "When both `batch_size` and `batch_sampler` are `None` (default value for `batch_sampler` is already `None`), automatic batching is disabled. Each sample obtained from the `dataset` is processed with the function passed as the `collate_fn` argument.\n",
    "\n",
    "When automatic batching is diabled, the default `collate_fn` simply converts NumPY arrays into PyTorch Tensors, and keeps everything else untounched."
   ]
  }
 ],
 "metadata": {
  "kaggle": {
   "accelerator": "none",
   "dataSources": [],
   "dockerImageVersionId": 30635,
   "isGpuEnabled": false,
   "isInternetEnabled": true,
   "language": "python",
   "sourceType": "notebook"
  },
  "kernelspec": {
   "display_name": "Python 3",
   "language": "python",
   "name": "python3"
  },
  "language_info": {
   "codemirror_mode": {
    "name": "ipython",
    "version": 3
   },
   "file_extension": ".py",
   "mimetype": "text/x-python",
   "name": "python",
   "nbconvert_exporter": "python",
   "pygments_lexer": "ipython3",
   "version": "3.10.12"
  },
  "papermill": {
   "default_parameters": {},
   "duration": 13.293674,
   "end_time": "2024-01-29T01:54:44.620199",
   "environment_variables": {},
   "exception": null,
   "input_path": "__notebook__.ipynb",
   "output_path": "__notebook__.ipynb",
   "parameters": {},
   "start_time": "2024-01-29T01:54:31.326525",
   "version": "2.4.0"
  }
 },
 "nbformat": 4,
 "nbformat_minor": 5
}
