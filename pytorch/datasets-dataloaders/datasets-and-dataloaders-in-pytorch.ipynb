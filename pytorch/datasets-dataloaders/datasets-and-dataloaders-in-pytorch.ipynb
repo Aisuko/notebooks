{
 "cells": [
  {
   "cell_type": "markdown",
   "id": "960c74c7",
   "metadata": {
    "_cell_guid": "b1076dfc-b9ad-4769-8c92-a6c4dae69d19",
    "_uuid": "8f2839f25d086af736a60e9eeb907d3b93b6e0e5",
    "papermill": {
     "duration": 0.004388,
     "end_time": "2024-01-28T07:19:28.872794",
     "exception": false,
     "start_time": "2024-01-28T07:19:28.868406",
     "status": "completed"
    },
    "tags": []
   },
   "source": [
    "# Overview\n",
    "\n",
    "In order to dataset code to be decoupled from the model training code for better readability and modularity. PyTorch provides two data primitives:\n",
    "\n",
    "* torch.utils.data.DataLoader\n",
    "* torch.utils.data.Dataset\n",
    "\n",
    "These two that allow you to use pre-loaded datasets as well as our own data. **Dataset stores the samples and their corresponding labels**, and **DataLoader wraps an iterable around the Dataset to enable easy access to the samples**. And there are different types of PyTorch Datasets like:\n",
    "\n",
    "* Image Datasets(torchvision)\n",
    "* Text Datasets(torchtext)\n",
    "* Audio Datasets(torchaudio)"
   ]
  },
  {
   "cell_type": "markdown",
   "id": "90fd6cef",
   "metadata": {
    "papermill": {
     "duration": 0.003633,
     "end_time": "2024-01-28T07:19:28.880463",
     "exception": false,
     "start_time": "2024-01-28T07:19:28.876830",
     "status": "completed"
    },
    "tags": []
   },
   "source": [
    "# Loading a Dataset\n",
    "\n",
    "Let's use DataLoader to load the Fashion-MNIST dataset from `TorchVision`. Fashion-MNIST is a dataset of Zalando's article image consisting of 60,000 training examples and 10,000 test examples. Each example comprises a 28x28 grayscale image and an associated label from one of 10 classes.\n",
    "\n",
    "We load the Dataset with the following parameters:\n",
    "* `root` is the path where the train/test data is stored\n",
    "* `train` specifies training ot test dataset\n",
    "* `download=True` downloads the data from the internet if it's not avaliable at root\n",
    "* `transform` and `target_transform` specify the feature and label transformations"
   ]
  },
  {
   "cell_type": "code",
   "execution_count": 1,
   "id": "534dd2e5",
   "metadata": {
    "execution": {
     "iopub.execute_input": "2024-01-28T07:19:28.890654Z",
     "iopub.status.busy": "2024-01-28T07:19:28.889778Z",
     "iopub.status.idle": "2024-01-28T07:19:40.275607Z",
     "shell.execute_reply": "2024-01-28T07:19:40.274054Z"
    },
    "papermill": {
     "duration": 11.394573,
     "end_time": "2024-01-28T07:19:40.278776",
     "exception": false,
     "start_time": "2024-01-28T07:19:28.884203",
     "status": "completed"
    },
    "tags": []
   },
   "outputs": [
    {
     "name": "stdout",
     "output_type": "stream",
     "text": [
      "Downloading http://fashion-mnist.s3-website.eu-central-1.amazonaws.com/train-images-idx3-ubyte.gz\n",
      "Downloading http://fashion-mnist.s3-website.eu-central-1.amazonaws.com/train-images-idx3-ubyte.gz to data/FashionMNIST/raw/train-images-idx3-ubyte.gz\n"
     ]
    },
    {
     "name": "stderr",
     "output_type": "stream",
     "text": [
      "100%|██████████| 26421880/26421880 [00:02<00:00, 12458739.46it/s]\n"
     ]
    },
    {
     "name": "stdout",
     "output_type": "stream",
     "text": [
      "Extracting data/FashionMNIST/raw/train-images-idx3-ubyte.gz to data/FashionMNIST/raw\n",
      "\n",
      "Downloading http://fashion-mnist.s3-website.eu-central-1.amazonaws.com/train-labels-idx1-ubyte.gz\n",
      "Downloading http://fashion-mnist.s3-website.eu-central-1.amazonaws.com/train-labels-idx1-ubyte.gz to data/FashionMNIST/raw/train-labels-idx1-ubyte.gz\n"
     ]
    },
    {
     "name": "stderr",
     "output_type": "stream",
     "text": [
      "100%|██████████| 29515/29515 [00:00<00:00, 195824.37it/s]\n"
     ]
    },
    {
     "name": "stdout",
     "output_type": "stream",
     "text": [
      "Extracting data/FashionMNIST/raw/train-labels-idx1-ubyte.gz to data/FashionMNIST/raw\n",
      "\n",
      "Downloading http://fashion-mnist.s3-website.eu-central-1.amazonaws.com/t10k-images-idx3-ubyte.gz\n",
      "Downloading http://fashion-mnist.s3-website.eu-central-1.amazonaws.com/t10k-images-idx3-ubyte.gz to data/FashionMNIST/raw/t10k-images-idx3-ubyte.gz\n"
     ]
    },
    {
     "name": "stderr",
     "output_type": "stream",
     "text": [
      "100%|██████████| 4422102/4422102 [00:01<00:00, 3670328.18it/s]\n"
     ]
    },
    {
     "name": "stdout",
     "output_type": "stream",
     "text": [
      "Extracting data/FashionMNIST/raw/t10k-images-idx3-ubyte.gz to data/FashionMNIST/raw\n",
      "\n",
      "Downloading http://fashion-mnist.s3-website.eu-central-1.amazonaws.com/t10k-labels-idx1-ubyte.gz\n",
      "Downloading http://fashion-mnist.s3-website.eu-central-1.amazonaws.com/t10k-labels-idx1-ubyte.gz to data/FashionMNIST/raw/t10k-labels-idx1-ubyte.gz\n"
     ]
    },
    {
     "name": "stderr",
     "output_type": "stream",
     "text": [
      "100%|██████████| 5148/5148 [00:00<00:00, 10456308.47it/s]"
     ]
    },
    {
     "name": "stdout",
     "output_type": "stream",
     "text": [
      "Extracting data/FashionMNIST/raw/t10k-labels-idx1-ubyte.gz to data/FashionMNIST/raw\n",
      "\n"
     ]
    },
    {
     "name": "stderr",
     "output_type": "stream",
     "text": [
      "\n"
     ]
    }
   ],
   "source": [
    "from torch.utils.data import Dataset\n",
    "from torchvision import datasets\n",
    "from torchvision.transforms import ToTensor\n",
    "\n",
    "training_data=datasets.FashionMNIST(\n",
    "    root='data',\n",
    "    train=True,\n",
    "    download=True,\n",
    "    transform=ToTensor()\n",
    ")\n",
    "\n",
    "test_data=datasets.FashionMNIST(\n",
    "    root='data',\n",
    "    train=False,\n",
    "    download=True,\n",
    "    transform=ToTensor()\n",
    ")"
   ]
  },
  {
   "cell_type": "markdown",
   "id": "16bb9382",
   "metadata": {
    "papermill": {
     "duration": 0.007975,
     "end_time": "2024-01-28T07:19:40.295421",
     "exception": false,
     "start_time": "2024-01-28T07:19:40.287446",
     "status": "completed"
    },
    "tags": []
   },
   "source": [
    "# Iterating and Visualizing the Dataset\n",
    "\n",
    "We can index `Datasets` manually like a list: `training_data[index]`. We use `matplotlib` to visualize some samples in our training data."
   ]
  },
  {
   "cell_type": "code",
   "execution_count": 2,
   "id": "bccb4ef7",
   "metadata": {
    "execution": {
     "iopub.execute_input": "2024-01-28T07:19:40.314244Z",
     "iopub.status.busy": "2024-01-28T07:19:40.313270Z",
     "iopub.status.idle": "2024-01-28T07:19:41.174332Z",
     "shell.execute_reply": "2024-01-28T07:19:41.173224Z"
    },
    "papermill": {
     "duration": 0.873425,
     "end_time": "2024-01-28T07:19:41.176897",
     "exception": false,
     "start_time": "2024-01-28T07:19:40.303472",
     "status": "completed"
    },
    "tags": []
   },
   "outputs": [
    {
     "data": {
      "image/png": "[encoded data removed]",
      "text/plain": [
       "<Figure size 800x800 with 9 Axes>"
      ]
     },
     "metadata": {},
     "output_type": "display_data"
    }
   ],
   "source": [
    "import torch\n",
    "import matplotlib.pyplot as plt\n",
    "\n",
    "labels_map={\n",
    "    0: \"T-Shirt\",\n",
    "    1: \"Trouser\",\n",
    "    2: \"Pullover\",\n",
    "    3: \"Dress\",\n",
    "    4: \"Coat\",\n",
    "    5: \"Sandal\",\n",
    "    6: \"Shirt\",\n",
    "    7: \"Sneaker\",\n",
    "    8: \"Bag\",\n",
    "    9: \"Ankle Boot\",\n",
    "}\n",
    "\n",
    "figure=plt.figure(figsize=(8,8))\n",
    "cols, rows=3,3\n",
    "for i in range(1, cols*rows+1):\n",
    "    sample_idx=torch.randint(len(training_data), size=(1,)).item()\n",
    "    img, label=training_data[sample_idx]\n",
    "    figure.add_subplot(rows, cols,i)\n",
    "    plt.title(labels_map[label])\n",
    "    plt.axis(\"off\")\n",
    "    plt.imshow(img.squeeze(), cmap=\"gray\")\n",
    "plt.show()"
   ]
  },
  {
   "cell_type": "markdown",
   "id": "6b59c844",
   "metadata": {
    "papermill": {
     "duration": 0.008424,
     "end_time": "2024-01-28T07:19:41.194145",
     "exception": false,
     "start_time": "2024-01-28T07:19:41.185721",
     "status": "completed"
    },
    "tags": []
   },
   "source": [
    "# Preparing the data for training with DataLoaders\n",
    "\n",
    "The `Dataset` retrieves our dataset's features and labels one sample at a time. While training a model, we typically want to pass samples in \"minibatches\", reshuffle the data at every epoch to reduce model overfitting, and use Python's `multiprocessing` to speed up data retrieval. `DataLoader` is what you need."
   ]
  },
  {
   "cell_type": "code",
   "execution_count": 3,
   "id": "cf0a682f",
   "metadata": {
    "execution": {
     "iopub.execute_input": "2024-01-28T07:19:41.213819Z",
     "iopub.status.busy": "2024-01-28T07:19:41.213080Z",
     "iopub.status.idle": "2024-01-28T07:19:41.218982Z",
     "shell.execute_reply": "2024-01-28T07:19:41.218213Z"
    },
    "papermill": {
     "duration": 0.018864,
     "end_time": "2024-01-28T07:19:41.221763",
     "exception": false,
     "start_time": "2024-01-28T07:19:41.202899",
     "status": "completed"
    },
    "tags": []
   },
   "outputs": [],
   "source": [
    "from torch.utils.data import DataLoader\n",
    "\n",
    "train_dataloader=DataLoader(training_data, batch_size=64, shuffle=True)\n",
    "test_dataloader=DataLoader(test_data, batch_size=64, shuffle=True)"
   ]
  },
  {
   "cell_type": "markdown",
   "id": "fcf235f3",
   "metadata": {
    "papermill": {
     "duration": 0.008585,
     "end_time": "2024-01-28T07:19:41.239095",
     "exception": false,
     "start_time": "2024-01-28T07:19:41.230510",
     "status": "completed"
    },
    "tags": []
   },
   "source": [
    "## Iterate through the DataLoader\n",
    "\n",
    "We have load the dataset inot the DataLoader and can iterate through the datasets as needed. Each iteration below returns a batch of `train_features` and `train_labels`(containing `batch_size=64` features and labels respectively). Because we specified `shuffle=True`, after we iterate over all batches the data is shuffled."
   ]
  },
  {
   "cell_type": "code",
   "execution_count": 4,
   "id": "6a62e96b",
   "metadata": {
    "execution": {
     "iopub.execute_input": "2024-01-28T07:19:41.258807Z",
     "iopub.status.busy": "2024-01-28T07:19:41.258391Z",
     "iopub.status.idle": "2024-01-28T07:19:41.547531Z",
     "shell.execute_reply": "2024-01-28T07:19:41.545974Z"
    },
    "papermill": {
     "duration": 0.302352,
     "end_time": "2024-01-28T07:19:41.550241",
     "exception": false,
     "start_time": "2024-01-28T07:19:41.247889",
     "status": "completed"
    },
    "tags": []
   },
   "outputs": [
    {
     "name": "stdout",
     "output_type": "stream",
     "text": [
      "Feature batch shape: torch.Size([64, 1, 28, 28])\n",
      "Labels batch shape: torch.Size([64])\n"
     ]
    },
    {
     "data": {
      "image/png": "[encoded data removed]",
      "text/plain": [
       "<Figure size 640x480 with 1 Axes>"
      ]
     },
     "metadata": {},
     "output_type": "display_data"
    },
    {
     "name": "stdout",
     "output_type": "stream",
     "text": [
      "Label: 3\n"
     ]
    }
   ],
   "source": [
    "train_features, train_labels= next(iter(train_dataloader))\n",
    "print(f\"Feature batch shape: {train_features.size()}\")\n",
    "print(f\"Labels batch shape: {train_labels.size()}\")\n",
    "\n",
    "img=train_features[0].squeeze()\n",
    "label=train_labels[0]\n",
    "\n",
    "plt.imshow(img, cmap=\"gray\")\n",
    "plt.show()\n",
    "print(f\"Label: {label}\")"
   ]
  },
  {
   "cell_type": "markdown",
   "id": "dca65af2",
   "metadata": {
    "papermill": {
     "duration": 0.008984,
     "end_time": "2024-01-28T07:19:41.568566",
     "exception": false,
     "start_time": "2024-01-28T07:19:41.559582",
     "status": "completed"
    },
    "tags": []
   },
   "source": [
    "## Data Loading Order and Sampler\n",
    "\n",
    "For iterable-style datasets, data loading order is entirely controlled by the user-define iterable. This allows easier implementations of chunk-reading and dynamic batch size(e.g., by yielding a batched sample at each time)."
   ]
  }
 ],
 "metadata": {
  "kaggle": {
   "accelerator": "none",
   "dataSources": [],
   "dockerImageVersionId": 30635,
   "isGpuEnabled": false,
   "isInternetEnabled": true,
   "language": "python",
   "sourceType": "notebook"
  },
  "kernelspec": {
   "display_name": "Python 3",
   "language": "python",
   "name": "python3"
  },
  "language_info": {
   "codemirror_mode": {
    "name": "ipython",
    "version": 3
   },
   "file_extension": ".py",
   "mimetype": "text/x-python",
   "name": "python",
   "nbconvert_exporter": "python",
   "pygments_lexer": "ipython3",
   "version": "3.10.12"
  },
  "papermill": {
   "default_parameters": {},
   "duration": 17.463169,
   "end_time": "2024-01-28T07:19:42.501438",
   "environment_variables": {},
   "exception": null,
   "input_path": "__notebook__.ipynb",
   "output_path": "__notebook__.ipynb",
   "parameters": {},
   "start_time": "2024-01-28T07:19:25.038269",
   "version": "2.4.0"
  }
 },
 "nbformat": 4,
 "nbformat_minor": 5
}
