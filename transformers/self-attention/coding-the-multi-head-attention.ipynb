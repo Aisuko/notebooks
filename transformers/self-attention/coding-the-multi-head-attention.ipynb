{
 "cells": [
  {
   "cell_type": "markdown",
   "id": "3cdd36a5",
   "metadata": {
    "_cell_guid": "b1076dfc-b9ad-4769-8c92-a6c4dae69d19",
    "_uuid": "8f2839f25d086af736a60e9eeb907d3b93b6e0e5",
    "papermill": {
     "duration": 0.006695,
     "end_time": "2024-01-25T06:34:12.184196",
     "exception": false,
     "start_time": "2024-01-25T06:34:12.177501",
     "status": "completed"
    },
    "tags": []
   },
   "source": [
    "# Overview\n",
    "\n",
    "**Note: The images are from the Credit section**\n",
    "\n",
    "In the [Implementing Self-Attention Mechanism](https://www.kaggle.com/code/aisuko/implementing-self-attention-mechanism/notebook) we implement self-attention machanim. And from [Encoder in Transformers Architecture](https://www.kaggle.com/code/aisuko/encoder-in-transformers-architecture), we can see that transformers use a module called **multi-head-attention**. In this notebook, we will talk about How does that relate to the self attention again by implementing it in code.\n",
    "\n",
    "In the scaled dot-product attention(self-attention), the input sequence was transformed using three matrices representingt the query, key and values. These three matrices can be considered as a single attention head in the conext of multi-head attention. The figure below summarizes this single attention head we covered in the previously notebook above.\n",
    "\n",
    "<div style=\"text-align: center\"><img src=\"https://files.mastodon.social/media_attachments/files/111/814/921/458/820/088/original/1fb77b4eb89e6718.png\" width=\"80%\" heigh=\"80%\" alt=\"Scaled-dot-product attention\"></div>"
   ]
  },
  {
   "cell_type": "markdown",
   "id": "f57ca73f",
   "metadata": {
    "papermill": {
     "duration": 0.005688,
     "end_time": "2024-01-25T06:34:12.196145",
     "exception": false,
     "start_time": "2024-01-25T06:34:12.190457",
     "status": "completed"
    },
    "tags": []
   },
   "source": [
    "# Multi-Head Attention\n",
    "\n",
    "As its name implies, multi-head attention involves multiple such heads, each consisting of query, key, and value matrices. This concept is similar to the use of multiple kernels in convolutional neural networks.\n",
    "\n",
    "<div style=\"text-align: center\"><img src=\"https://files.mastodon.social/media_attachments/files/111/814/925/242/665/171/original/821c33b401832d5d.png\" width=\"80%\" heigh=\"80%\" alt=\"multi-head attention\"></div>\n",
    "\n",
    "Here the code from the previouly notebook below:"
   ]
  },
  {
   "cell_type": "code",
   "execution_count": 1,
   "id": "62328bdb",
   "metadata": {
    "execution": {
     "iopub.execute_input": "2024-01-25T06:34:12.210425Z",
     "iopub.status.busy": "2024-01-25T06:34:12.209634Z",
     "iopub.status.idle": "2024-01-25T06:34:16.341530Z",
     "shell.execute_reply": "2024-01-25T06:34:16.340125Z"
    },
    "papermill": {
     "duration": 4.142488,
     "end_time": "2024-01-25T06:34:16.344576",
     "exception": false,
     "start_time": "2024-01-25T06:34:12.202088",
     "status": "completed"
    },
    "tags": []
   },
   "outputs": [
    {
     "data": {
      "text/plain": [
       "tensor([-2.1845, -3.4618, -2.5052, -3.4871, -2.2224, -3.4605, -3.9543, -4.4065,\n",
       "        -4.7564, -4.1877, -2.8166, -4.1730, -3.3587, -3.0407, -4.5513, -4.7335,\n",
       "        -1.3817, -2.6396, -2.3683, -2.7940, -3.4905, -4.4358, -5.2125, -4.3044,\n",
       "        -3.0761, -3.4201, -4.7494, -3.3475], grad_fn=<SqueezeBackward4>)"
      ]
     },
     "execution_count": 1,
     "metadata": {},
     "output_type": "execute_result"
    }
   ],
   "source": [
    "import torch\n",
    "import torch.nn.functional as F\n",
    "\n",
    "inputs=\"According to the news, it it hard to say Melbourne is safe now\"\n",
    "d_q, d_k, d_v=24,24,28\n",
    "\n",
    "input_ids={s:i for i,s in enumerate(sorted(inputs.replace(',','').split()))}\n",
    "input_tokens=torch.tensor([input_ids[s] for s in inputs.replace(',','').split()])\n",
    "\n",
    "torch.manual_seed(123)\n",
    "embed=torch.nn.Embedding(13,16)\n",
    "embedded_sentence=embed(input_tokens).detach()\n",
    "d=embedded_sentence.shape[1]\n",
    "\n",
    "# defining the Weight Matrices\n",
    "W_query=torch.nn.Parameter(torch.rand(d_q, d))\n",
    "W_key=torch.nn.Parameter(torch.rand(d_k, d))\n",
    "W_value=torch.nn.Parameter(torch.rand(d_v, d))\n",
    "\n",
    "# only computing the attention-vector for the second input element\n",
    "# In this example, the second input element acts as the query\n",
    "x_2 = embedded_sentence[1]\n",
    "query_2 = W_query.matmul(x_2)\n",
    "key_2 = W_key.matmul(x_2)\n",
    "value_2 = W_value.matmul(x_2)\n",
    "\n",
    "# computing the key and value for all inputs\n",
    "keys = W_key.matmul(embedded_sentence.T).T\n",
    "values = W_value.matmul(embedded_sentence.T).T\n",
    "\n",
    "# computing the unnormalized attention wieghts w\n",
    "\n",
    "# in this example, we compute the query and the 5th input element(the index position is 4) as follows\n",
    "w_2_4=query_2.dot(keys[4])\n",
    "\n",
    "# compute the unnormalized attention weight for all the input tokens\n",
    "w_2=query_2.matmul(keys.T)\n",
    "\n",
    "attention_weights_2=F.softmax(w_2/d_k**0.5, dim=0)\n",
    "\n",
    "# The final context vector(an attention-weighted version of the original query input x_2)\n",
    "context_vector_2=attention_weights_2.matmul(values)\n",
    "context_vector_2"
   ]
  },
  {
   "cell_type": "markdown",
   "id": "bc65c999",
   "metadata": {
    "papermill": {
     "duration": 0.006051,
     "end_time": "2024-01-25T06:34:16.357714",
     "exception": false,
     "start_time": "2024-01-25T06:34:16.351663",
     "status": "completed"
    },
    "tags": []
   },
   "source": [
    "And To illustrate this in code, suppose we have 3 attention heads, so we now extend the $d^{'}*d$ dimensional weight matrices so $3*d^{'}*d$:"
   ]
  },
  {
   "cell_type": "code",
   "execution_count": 2,
   "id": "ed2e5f15",
   "metadata": {
    "execution": {
     "iopub.execute_input": "2024-01-25T06:34:16.373214Z",
     "iopub.status.busy": "2024-01-25T06:34:16.372525Z",
     "iopub.status.idle": "2024-01-25T06:34:16.380472Z",
     "shell.execute_reply": "2024-01-25T06:34:16.379017Z"
    },
    "papermill": {
     "duration": 0.019073,
     "end_time": "2024-01-25T06:34:16.383170",
     "exception": false,
     "start_time": "2024-01-25T06:34:16.364097",
     "status": "completed"
    },
    "tags": []
   },
   "outputs": [],
   "source": [
    "h=3\n",
    "multihead_W_query=torch.nn.Parameter(torch.rand(h, d_q, d))\n",
    "multihead_W_key=torch.nn.Parameter(torch.rand(h, d_k, d))\n",
    "multihead_W_value=torch.nn.Parameter(torch.rand(h, d_v, d))"
   ]
  },
  {
   "cell_type": "markdown",
   "id": "d53ad255",
   "metadata": {
    "papermill": {
     "duration": 0.00611,
     "end_time": "2024-01-25T06:34:16.395877",
     "exception": false,
     "start_time": "2024-01-25T06:34:16.389767",
     "status": "completed"
    },
    "tags": []
   },
   "source": [
    "Consequently, each query element is now $3*d_{q}$ dimensional, where $d_{q}=24$ (here, let's keep the focus on the 3rd element corresponding to index position 2):"
   ]
  },
  {
   "cell_type": "code",
   "execution_count": 3,
   "id": "d6b8a327",
   "metadata": {
    "execution": {
     "iopub.execute_input": "2024-01-25T06:34:16.411009Z",
     "iopub.status.busy": "2024-01-25T06:34:16.410488Z",
     "iopub.status.idle": "2024-01-25T06:34:16.422290Z",
     "shell.execute_reply": "2024-01-25T06:34:16.420652Z"
    },
    "papermill": {
     "duration": 0.022906,
     "end_time": "2024-01-25T06:34:16.425213",
     "exception": false,
     "start_time": "2024-01-25T06:34:16.402307",
     "status": "completed"
    },
    "tags": []
   },
   "outputs": [
    {
     "data": {
      "text/plain": [
       "tensor([[-3.8033, -1.8514, -3.0982, -1.6475, -1.7888, -3.1605, -2.3619, -0.5279,\n",
       "         -3.6521, -3.4834, -3.6471, -3.2028, -0.6245, -1.6851, -1.0399, -3.3090,\n",
       "         -2.1283, -5.2142, -1.6018, -0.4544, -3.1030, -0.0287, -4.3965, -2.2998],\n",
       "        [-4.1517, -4.6697, -1.6747, -1.1715, -3.5441, -0.4090, -1.6129, -4.4261,\n",
       "         -2.1847, -2.9327, -2.6157, -3.1685, -1.9501, -2.9855, -3.1613, -1.2670,\n",
       "         -0.5295, -1.1895, -0.4661, -2.3916, -0.9902,  0.3367, -0.4596, -2.9863],\n",
       "        [-1.6977, -1.6078, -3.5137, -4.9699, -4.1886, -0.7016, -3.3832, -3.2597,\n",
       "         -2.1036, -4.3422, -1.9974, -1.7627, -2.9813, -1.5485,  0.0060, -1.7442,\n",
       "         -5.0369, -4.2576, -1.7272, -0.5214, -2.1458, -2.9699, -1.4175, -0.9593]],\n",
       "       grad_fn=<UnsafeViewBackward0>)"
      ]
     },
     "execution_count": 3,
     "metadata": {},
     "output_type": "execute_result"
    }
   ],
   "source": [
    "multihead_query_2=multihead_W_query.matmul(x_2)\n",
    "multihead_query_2"
   ]
  },
  {
   "cell_type": "code",
   "execution_count": 4,
   "id": "feb65b77",
   "metadata": {
    "execution": {
     "iopub.execute_input": "2024-01-25T06:34:16.441182Z",
     "iopub.status.busy": "2024-01-25T06:34:16.440679Z",
     "iopub.status.idle": "2024-01-25T06:34:16.447555Z",
     "shell.execute_reply": "2024-01-25T06:34:16.446653Z"
    },
    "papermill": {
     "duration": 0.017877,
     "end_time": "2024-01-25T06:34:16.449945",
     "exception": false,
     "start_time": "2024-01-25T06:34:16.432068",
     "status": "completed"
    },
    "tags": []
   },
   "outputs": [
    {
     "data": {
      "text/plain": [
       "torch.Size([3, 24])"
      ]
     },
     "execution_count": 4,
     "metadata": {},
     "output_type": "execute_result"
    }
   ],
   "source": [
    "multihead_query_2.shape"
   ]
  },
  {
   "cell_type": "markdown",
   "id": "dc18c2e1",
   "metadata": {
    "papermill": {
     "duration": 0.006706,
     "end_time": "2024-01-25T06:34:16.463555",
     "exception": false,
     "start_time": "2024-01-25T06:34:16.456849",
     "status": "completed"
    },
    "tags": []
   },
   "source": [
    "Let's do the computing for keys and values"
   ]
  },
  {
   "cell_type": "code",
   "execution_count": 5,
   "id": "550ae3b8",
   "metadata": {
    "execution": {
     "iopub.execute_input": "2024-01-25T06:34:16.478948Z",
     "iopub.status.busy": "2024-01-25T06:34:16.478499Z",
     "iopub.status.idle": "2024-01-25T06:34:16.484364Z",
     "shell.execute_reply": "2024-01-25T06:34:16.483135Z"
    },
    "papermill": {
     "duration": 0.016662,
     "end_time": "2024-01-25T06:34:16.486973",
     "exception": false,
     "start_time": "2024-01-25T06:34:16.470311",
     "status": "completed"
    },
    "tags": []
   },
   "outputs": [],
   "source": [
    "multihead_key_2=multihead_W_key.matmul(x_2)\n",
    "multihead_value_2=multihead_W_value.matmul(x_2)"
   ]
  },
  {
   "cell_type": "markdown",
   "id": "06e4d979",
   "metadata": {
    "papermill": {
     "duration": 0.006464,
     "end_time": "2024-01-25T06:34:16.500146",
     "exception": false,
     "start_time": "2024-01-25T06:34:16.493682",
     "status": "completed"
    },
    "tags": []
   },
   "source": [
    "Now, these ket and value elements are specific to the query element. But. similar to earlier, we will also need the values and keys for the other sequence elements in order to compute the attention scores for the query. We can do this by expanding the input sequence embeddings to size 3(the number of attention heads):"
   ]
  },
  {
   "cell_type": "code",
   "execution_count": 6,
   "id": "8441762c",
   "metadata": {
    "execution": {
     "iopub.execute_input": "2024-01-25T06:34:16.516011Z",
     "iopub.status.busy": "2024-01-25T06:34:16.515491Z",
     "iopub.status.idle": "2024-01-25T06:34:16.525237Z",
     "shell.execute_reply": "2024-01-25T06:34:16.524010Z"
    },
    "papermill": {
     "duration": 0.021141,
     "end_time": "2024-01-25T06:34:16.528038",
     "exception": false,
     "start_time": "2024-01-25T06:34:16.506897",
     "status": "completed"
    },
    "tags": []
   },
   "outputs": [
    {
     "data": {
      "text/plain": [
       "torch.Size([13, 16])"
      ]
     },
     "execution_count": 6,
     "metadata": {},
     "output_type": "execute_result"
    }
   ],
   "source": [
    "embedded_sentence.shape"
   ]
  },
  {
   "cell_type": "code",
   "execution_count": 7,
   "id": "0db42d02",
   "metadata": {
    "execution": {
     "iopub.execute_input": "2024-01-25T06:34:16.544747Z",
     "iopub.status.busy": "2024-01-25T06:34:16.544341Z",
     "iopub.status.idle": "2024-01-25T06:34:16.551670Z",
     "shell.execute_reply": "2024-01-25T06:34:16.550618Z"
    },
    "papermill": {
     "duration": 0.019178,
     "end_time": "2024-01-25T06:34:16.554381",
     "exception": false,
     "start_time": "2024-01-25T06:34:16.535203",
     "status": "completed"
    },
    "tags": []
   },
   "outputs": [],
   "source": [
    "stacked_inputs=embedded_sentence.T.repeat(3,1,1)"
   ]
  },
  {
   "cell_type": "code",
   "execution_count": 8,
   "id": "b040c2f7",
   "metadata": {
    "execution": {
     "iopub.execute_input": "2024-01-25T06:34:16.572366Z",
     "iopub.status.busy": "2024-01-25T06:34:16.571847Z",
     "iopub.status.idle": "2024-01-25T06:34:16.579634Z",
     "shell.execute_reply": "2024-01-25T06:34:16.578693Z"
    },
    "papermill": {
     "duration": 0.019458,
     "end_time": "2024-01-25T06:34:16.581879",
     "exception": false,
     "start_time": "2024-01-25T06:34:16.562421",
     "status": "completed"
    },
    "tags": []
   },
   "outputs": [
    {
     "data": {
      "text/plain": [
       "torch.Size([3, 16, 13])"
      ]
     },
     "execution_count": 8,
     "metadata": {},
     "output_type": "execute_result"
    }
   ],
   "source": [
    "stacked_inputs.shape"
   ]
  },
  {
   "cell_type": "markdown",
   "id": "7c7751e0",
   "metadata": {
    "papermill": {
     "duration": 0.006904,
     "end_time": "2024-01-25T06:34:16.596185",
     "exception": false,
     "start_time": "2024-01-25T06:34:16.589281",
     "status": "completed"
    },
    "tags": []
   },
   "source": [
    "Now, we cam compute all the keys and values using `torch.bmm()` (batch matrix multiplication)"
   ]
  },
  {
   "cell_type": "code",
   "execution_count": 9,
   "id": "409d1afe",
   "metadata": {
    "execution": {
     "iopub.execute_input": "2024-01-25T06:34:16.612714Z",
     "iopub.status.busy": "2024-01-25T06:34:16.612318Z",
     "iopub.status.idle": "2024-01-25T06:34:16.627200Z",
     "shell.execute_reply": "2024-01-25T06:34:16.625547Z"
    },
    "papermill": {
     "duration": 0.02635,
     "end_time": "2024-01-25T06:34:16.629776",
     "exception": false,
     "start_time": "2024-01-25T06:34:16.603426",
     "status": "completed"
    },
    "tags": []
   },
   "outputs": [
    {
     "name": "stdout",
     "output_type": "stream",
     "text": [
      "torch.Size([3, 24, 13])\n",
      "torch.Size([3, 28, 13])\n"
     ]
    }
   ],
   "source": [
    "multihead_keys=torch.bmm(multihead_W_key, stacked_inputs)\n",
    "multihead_values=torch.bmm(multihead_W_value, stacked_inputs)\n",
    "print(multihead_keys.shape)\n",
    "print(multihead_values.shape)"
   ]
  },
  {
   "cell_type": "markdown",
   "id": "bf8c17bc",
   "metadata": {
    "papermill": {
     "duration": 0.007377,
     "end_time": "2024-01-25T06:34:16.645774",
     "exception": false,
     "start_time": "2024-01-25T06:34:16.638397",
     "status": "completed"
    },
    "tags": []
   },
   "source": [
    "We now have tensors that represent the three attention heads in their first dimension. The third and second dimensions refer to the number of words and the embedding size, respectively. To make the values and keys more intuitive to interpret, we will swap the second and third dimensions, resulting in tensors with the same dimensional structure as the original input sequence, **embedded_sentence**:"
   ]
  },
  {
   "cell_type": "code",
   "execution_count": 10,
   "id": "0b26185f",
   "metadata": {
    "execution": {
     "iopub.execute_input": "2024-01-25T06:34:16.662518Z",
     "iopub.status.busy": "2024-01-25T06:34:16.662089Z",
     "iopub.status.idle": "2024-01-25T06:34:16.668911Z",
     "shell.execute_reply": "2024-01-25T06:34:16.667793Z"
    },
    "papermill": {
     "duration": 0.019234,
     "end_time": "2024-01-25T06:34:16.672421",
     "exception": false,
     "start_time": "2024-01-25T06:34:16.653187",
     "status": "completed"
    },
    "tags": []
   },
   "outputs": [
    {
     "name": "stdout",
     "output_type": "stream",
     "text": [
      "torch.Size([3, 13, 24])\n",
      "torch.Size([3, 13, 28])\n"
     ]
    }
   ],
   "source": [
    "multihead_keys=multihead_keys.permute(0,2,1)\n",
    "multihead_values=multihead_values.permute(0,2,1)\n",
    "print(multihead_keys.shape)\n",
    "print(multihead_values.shape)"
   ]
  },
  {
   "cell_type": "markdown",
   "id": "0d30fb13",
   "metadata": {
    "papermill": {
     "duration": 0.006918,
     "end_time": "2024-01-25T06:34:16.686605",
     "exception": false,
     "start_time": "2024-01-25T06:34:16.679687",
     "status": "completed"
    },
    "tags": []
   },
   "source": [
    "We follow the same steps as previously to compute the unscaled attention weights $w$ and attention weights $\\alpha$, followed the scaled-softmax computation to obtain an $h*d_{v}$(here $3*d_{v}$) dimensional context vector $z$ for the input element $x^{(2)}$."
   ]
  }
 ],
 "metadata": {
  "kaggle": {
   "accelerator": "none",
   "dataSources": [],
   "dockerImageVersionId": 30635,
   "isGpuEnabled": false,
   "isInternetEnabled": true,
   "language": "python",
   "sourceType": "notebook"
  },
  "kernelspec": {
   "display_name": "Python 3",
   "language": "python",
   "name": "python3"
  },
  "language_info": {
   "codemirror_mode": {
    "name": "ipython",
    "version": 3
   },
   "file_extension": ".py",
   "mimetype": "text/x-python",
   "name": "python",
   "nbconvert_exporter": "python",
   "pygments_lexer": "ipython3",
   "version": "3.10.12"
  },
  "papermill": {
   "default_parameters": {},
   "duration": 9.382909,
   "end_time": "2024-01-25T06:34:17.917662",
   "environment_variables": {},
   "exception": null,
   "input_path": "__notebook__.ipynb",
   "output_path": "__notebook__.ipynb",
   "parameters": {},
   "start_time": "2024-01-25T06:34:08.534753",
   "version": "2.4.0"
  }
 },
 "nbformat": 4,
 "nbformat_minor": 5
}
