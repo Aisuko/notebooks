{
 "cells": [
  {
   "cell_type": "markdown",
   "id": "1d4e8881",
   "metadata": {
    "papermill": {
     "duration": 0.008193,
     "end_time": "2023-07-13T06:37:55.132179",
     "exception": false,
     "start_time": "2023-07-13T06:37:55.123986",
     "status": "completed"
    },
    "tags": []
   },
   "source": [
    "## What is a neural network?\n",
    "\n",
    "Neural network is a collection of neurons that are connected by layers. Each neuron is small computing until that performs simple calculations to collectively solve a problem. They are organized in layers. There are 3 types of layers: \n",
    "* input layer\n",
    "* hidden layer\n",
    "* output layer\n",
    "\n",
    "Each layer contains a number of neurons, except for the input layer. Neural networks mimic the way a human brain processes information."
   ]
  },
  {
   "cell_type": "markdown",
   "id": "90298cef",
   "metadata": {
    "papermill": {
     "duration": 0.007598,
     "end_time": "2023-07-13T06:37:55.147713",
     "exception": false,
     "start_time": "2023-07-13T06:37:55.140115",
     "status": "completed"
    },
    "tags": []
   },
   "source": [
    "### Components of a neural network\n",
    "\n",
    "#### Activation function\n",
    "`Activation function determines whether a neuron should be activated or not`. The computations that happen in a neural network include applying an activation function. `If a neuron activates, then it means the input is important`. They are different kinds of activation functions. `The choice of which activation funciton to use dependes on what you want the output to be`. Another important role of an activation function is to `add non-linearity to the model`.\n",
    "  * *Binary* used to set an output node to 1 if function result is positive and 0 if the function result is negative\n",
    "\n",
    "$$\n",
    "f(x)= {\\small \\begin{cases} 0, & \\text{if } x < 0\\\\ 1, & \\text{if } x\\geq 0\\\\ \\end{cases}}\n",
    "$$\n",
    "\n",
    "  * *Sigmod* is used to predict the probability of an output node being between 0 and 1\n",
    "\n",
    "$$\n",
    "f(x) = {\\large \\frac{1}{1+e^{-x}}}\n",
    "$$\n",
    "\n",
    "  * *Tanh* is used to predict the probability of an output node being between -1 and 1. Used in classification use cases.\n",
    "\n",
    "$$\n",
    "f(x) = {\\large \\frac{e^{x} - e^{-x}}{e^{x} + e^{-x}}}\n",
    "$$\n",
    "\n",
    "  * *ReLU(Rectified Linear Unit)* used to set the output node to 0 if function result is negative and keeps the result value if the result is a postive values.\n",
    "\n",
    "$$\n",
    "f(x)= {\\small \\begin{cases} 0, & \\text{if } x < 0\\\\ x, & \\text{if } x\\geq 0\\\\ \\end{cases}}\n",
    "$$\n",
    "\n",
    "#### Weights\n",
    "`Weights` influence how well the output of our network will come close to the expected output value. As an input enter the neuron, it gets multiplied by a weight value and the resulting output is either observed, or passed to the next layer in the neural network. Weights for all neurons in a layer are organize into one tensor.\n",
    "\n",
    "#### Bias\n",
    "`Bias` makes up the difference between the activation function's output and its intended output. A low bias suggest that the network is making more assumptions about the form of the output, whereas a high bias value makes less assumptions about the form of the output.\n",
    "\n",
    "\n",
    "We can say that output y of a neural nework layer with weights W and bias b is computed as summation of the inputs multiply by the weights plus the bias\n",
    "\n",
    "$$\n",
    "x = \\sum{(weights * inputs) + bias}\n",
    "$$\n",
    "\n",
    "where f(x) is the activation function."
   ]
  },
  {
   "cell_type": "markdown",
   "id": "09614105",
   "metadata": {
    "papermill": {
     "duration": 0.007084,
     "end_time": "2023-07-13T06:37:55.162400",
     "exception": false,
     "start_time": "2023-07-13T06:37:55.155316",
     "status": "completed"
    },
    "tags": []
   },
   "source": [
    "## Build a neural network\n",
    "\n",
    "Neural networks are comprised of layer/modules that perform operations on data. The `torch.nn` namespace provides all the building blocks you need to build your own neural network. Every module in PyTorch subclasses the `nn.Module`. A neural network is a module itself that consists of other modules (layers). This nested structure allows for building and managing complex architectures easily.\n",
    "\n",
    "In the following sections, we will build a neural network to classify images in the FashionMNIST dataset."
   ]
  },
  {
   "cell_type": "code",
   "execution_count": 1,
   "id": "b5c9d2a5",
   "metadata": {
    "execution": {
     "iopub.execute_input": "2023-07-13T06:37:55.180353Z",
     "iopub.status.busy": "2023-07-13T06:37:55.179262Z",
     "iopub.status.idle": "2023-07-13T06:38:07.588607Z",
     "shell.execute_reply": "2023-07-13T06:38:07.587077Z"
    },
    "papermill": {
     "duration": 12.420881,
     "end_time": "2023-07-13T06:38:07.590906",
     "exception": false,
     "start_time": "2023-07-13T06:37:55.170025",
     "status": "completed"
    },
    "tags": []
   },
   "outputs": [
    {
     "name": "stdout",
     "output_type": "stream",
     "text": [
      "Looking in indexes: https://download.pytorch.org/whl/cu118\r\n",
      "Requirement already satisfied: torch in /opt/conda/lib/python3.10/site-packages (2.0.0)\r\n",
      "Requirement already satisfied: torchvision in /opt/conda/lib/python3.10/site-packages (0.15.1)\r\n",
      "Requirement already satisfied: torchaudio in /opt/conda/lib/python3.10/site-packages (2.0.1)\r\n",
      "Requirement already satisfied: filelock in /opt/conda/lib/python3.10/site-packages (from torch) (3.12.2)\r\n",
      "Requirement already satisfied: typing-extensions in /opt/conda/lib/python3.10/site-packages (from torch) (4.6.3)\r\n",
      "Requirement already satisfied: sympy in /opt/conda/lib/python3.10/site-packages (from torch) (1.12)\r\n",
      "Requirement already satisfied: networkx in /opt/conda/lib/python3.10/site-packages (from torch) (3.1)\r\n",
      "Requirement already satisfied: jinja2 in /opt/conda/lib/python3.10/site-packages (from torch) (3.1.2)\r\n",
      "Requirement already satisfied: numpy in /opt/conda/lib/python3.10/site-packages (from torchvision) (1.23.5)\r\n",
      "Requirement already satisfied: requests in /opt/conda/lib/python3.10/site-packages (from torchvision) (2.31.0)\r\n",
      "Requirement already satisfied: pillow!=8.3.*,>=5.3.0 in /opt/conda/lib/python3.10/site-packages (from torchvision) (9.5.0)\r\n",
      "Requirement already satisfied: MarkupSafe>=2.0 in /opt/conda/lib/python3.10/site-packages (from jinja2->torch) (2.1.3)\r\n",
      "Requirement already satisfied: charset-normalizer<4,>=2 in /opt/conda/lib/python3.10/site-packages (from requests->torchvision) (3.1.0)\r\n",
      "Requirement already satisfied: idna<4,>=2.5 in /opt/conda/lib/python3.10/site-packages (from requests->torchvision) (3.4)\r\n",
      "Requirement already satisfied: urllib3<3,>=1.21.1 in /opt/conda/lib/python3.10/site-packages (from requests->torchvision) (1.26.15)\r\n",
      "Requirement already satisfied: certifi>=2017.4.17 in /opt/conda/lib/python3.10/site-packages (from requests->torchvision) (2023.5.7)\r\n",
      "Requirement already satisfied: mpmath>=0.19 in /opt/conda/lib/python3.10/site-packages (from sympy->torch) (1.3.0)\r\n",
      "Note: you may need to restart the kernel to use updated packages.\n"
     ]
    }
   ],
   "source": [
    "pip install torch torchvision torchaudio --index-url https://download.pytorch.org/whl/cu118"
   ]
  },
  {
   "cell_type": "code",
   "execution_count": 2,
   "id": "59b98326",
   "metadata": {
    "execution": {
     "iopub.execute_input": "2023-07-13T06:38:07.608945Z",
     "iopub.status.busy": "2023-07-13T06:38:07.608601Z",
     "iopub.status.idle": "2023-07-13T06:38:11.772532Z",
     "shell.execute_reply": "2023-07-13T06:38:11.771394Z"
    },
    "papermill": {
     "duration": 4.176181,
     "end_time": "2023-07-13T06:38:11.775393",
     "exception": false,
     "start_time": "2023-07-13T06:38:07.599212",
     "status": "completed"
    },
    "tags": []
   },
   "outputs": [],
   "source": [
    "%matplotlib inline\n",
    "import torch\n",
    "from torch import nn\n",
    "from torch.utils.data import DataLoader\n",
    "from torchvision import datasets, transforms"
   ]
  },
  {
   "cell_type": "markdown",
   "id": "32ea9035",
   "metadata": {
    "papermill": {
     "duration": 0.01057,
     "end_time": "2023-07-13T06:38:11.798157",
     "exception": false,
     "start_time": "2023-07-13T06:38:11.787587",
     "status": "completed"
    },
    "tags": []
   },
   "source": [
    "### Get a hardware device for training"
   ]
  },
  {
   "cell_type": "code",
   "execution_count": 3,
   "id": "ccd40a55",
   "metadata": {
    "execution": {
     "iopub.execute_input": "2023-07-13T06:38:11.821960Z",
     "iopub.status.busy": "2023-07-13T06:38:11.821211Z",
     "iopub.status.idle": "2023-07-13T06:38:11.829182Z",
     "shell.execute_reply": "2023-07-13T06:38:11.828348Z"
    },
    "papermill": {
     "duration": 0.022686,
     "end_time": "2023-07-13T06:38:11.831757",
     "exception": false,
     "start_time": "2023-07-13T06:38:11.809071",
     "status": "completed"
    },
    "tags": []
   },
   "outputs": [],
   "source": [
    "# check the paltform, Apple Silicon or Linux\n",
    "import os, platform\n",
    "\n",
    "torch_device=\"cpu\"\n",
    "\n",
    "if 'kaggle' in os.environ.get('KAGGLE_URL_BASE','localhost'):\n",
    "    torch_device = 'cuda'\n",
    "else:\n",
    "    torch_device = 'mps' if platform.system() == 'Darwin' else 'cpu'"
   ]
  },
  {
   "cell_type": "code",
   "execution_count": 4,
   "id": "a2cebcdf",
   "metadata": {
    "execution": {
     "iopub.execute_input": "2023-07-13T06:38:11.855679Z",
     "iopub.status.busy": "2023-07-13T06:38:11.855342Z",
     "iopub.status.idle": "2023-07-13T06:38:11.859866Z",
     "shell.execute_reply": "2023-07-13T06:38:11.859060Z"
    },
    "papermill": {
     "duration": 0.020715,
     "end_time": "2023-07-13T06:38:11.863964",
     "exception": false,
     "start_time": "2023-07-13T06:38:11.843249",
     "status": "completed"
    },
    "tags": []
   },
   "outputs": [],
   "source": [
    "os.environ['PYTORCH_ENABLE_MPS_FALLBACK'] = '1'"
   ]
  },
  {
   "cell_type": "code",
   "execution_count": 5,
   "id": "62401b17",
   "metadata": {
    "execution": {
     "iopub.execute_input": "2023-07-13T06:38:11.888008Z",
     "iopub.status.busy": "2023-07-13T06:38:11.887656Z",
     "iopub.status.idle": "2023-07-13T06:38:11.896226Z",
     "shell.execute_reply": "2023-07-13T06:38:11.895035Z"
    },
    "papermill": {
     "duration": 0.025695,
     "end_time": "2023-07-13T06:38:11.900966",
     "exception": false,
     "start_time": "2023-07-13T06:38:11.875271",
     "status": "completed"
    },
    "tags": []
   },
   "outputs": [
    {
     "data": {
      "text/plain": [
       "'cuda'"
      ]
     },
     "execution_count": 5,
     "metadata": {},
     "output_type": "execute_result"
    }
   ],
   "source": [
    "torch_device"
   ]
  },
  {
   "cell_type": "markdown",
   "id": "8d36b4e7",
   "metadata": {
    "papermill": {
     "duration": 0.010904,
     "end_time": "2023-07-13T06:38:11.923172",
     "exception": false,
     "start_time": "2023-07-13T06:38:11.912268",
     "status": "completed"
    },
    "tags": []
   },
   "source": [
    "### Define the class\n",
    "\n",
    "We define our neural network by subclassing `nn.Module`, and initialize the neural network layers in `__init__`. Every `nn.Module` subclass implements the operations on input data in the `forward` method.\n",
    "\n",
    "Our neural network are composed of the following:\n",
    "\n",
    "* The input layer with 28x28 or 784 features/pixels\n",
    "* The first linear module takes the input 784 features and transforms it to a hidden layer with 512 features\n",
    "* The ReLU activation function will be applied in the transformation\n",
    "* The second linear module take 512 features as input from the first hidden layer and transforms it to the next hidden layer with 512 features\n",
    "* The ReLU activation function will be applied in the transformation\n",
    "* The third linear module take 512 features as input form the second hidden layer and transforms it  to the output layer with 10, which is the number of classes\n",
    "* The ReLU activation function will be applied in the transformation\n"
   ]
  },
  {
   "cell_type": "code",
   "execution_count": 6,
   "id": "877525be",
   "metadata": {
    "execution": {
     "iopub.execute_input": "2023-07-13T06:38:11.947478Z",
     "iopub.status.busy": "2023-07-13T06:38:11.947065Z",
     "iopub.status.idle": "2023-07-13T06:38:11.957769Z",
     "shell.execute_reply": "2023-07-13T06:38:11.956867Z"
    },
    "papermill": {
     "duration": 0.026143,
     "end_time": "2023-07-13T06:38:11.960439",
     "exception": false,
     "start_time": "2023-07-13T06:38:11.934296",
     "status": "completed"
    },
    "tags": []
   },
   "outputs": [],
   "source": [
    "class NeuralNetwork(nn.Module):\n",
    "    def __init__(self) -> None:\n",
    "        super(NeuralNetwork, self).__init__()\n",
    "        self.flatten = nn.Flatten()\n",
    "        self.linear_relu_stack = nn.Sequential(\n",
    "            nn.Linear(28*28, 512),\n",
    "            nn.ReLU(),\n",
    "            nn.Linear(512, 512),\n",
    "            nn.ReLU(),\n",
    "            nn.Linear(512, 10),\n",
    "            nn.ReLU()\n",
    "        )\n",
    "    def forward(self,x):\n",
    "        x =self.flatten(x)\n",
    "        logits = self.linear_relu_stack(x)\n",
    "        return logits"
   ]
  },
  {
   "cell_type": "markdown",
   "id": "19660e3b",
   "metadata": {
    "papermill": {
     "duration": 0.010906,
     "end_time": "2023-07-13T06:38:11.982233",
     "exception": false,
     "start_time": "2023-07-13T06:38:11.971327",
     "status": "completed"
    },
    "tags": []
   },
   "source": [
    "Move the Neural Network to the device we defined earlier and print the model's architecture."
   ]
  },
  {
   "cell_type": "code",
   "execution_count": 7,
   "id": "c895c84c",
   "metadata": {
    "execution": {
     "iopub.execute_input": "2023-07-13T06:38:12.005460Z",
     "iopub.status.busy": "2023-07-13T06:38:12.005125Z",
     "iopub.status.idle": "2023-07-13T06:38:15.235410Z",
     "shell.execute_reply": "2023-07-13T06:38:15.233173Z"
    },
    "papermill": {
     "duration": 3.244702,
     "end_time": "2023-07-13T06:38:15.237757",
     "exception": false,
     "start_time": "2023-07-13T06:38:11.993055",
     "status": "completed"
    },
    "tags": []
   },
   "outputs": [
    {
     "name": "stdout",
     "output_type": "stream",
     "text": [
      "NeuralNetwork(\n",
      "  (flatten): Flatten(start_dim=1, end_dim=-1)\n",
      "  (linear_relu_stack): Sequential(\n",
      "    (0): Linear(in_features=784, out_features=512, bias=True)\n",
      "    (1): ReLU()\n",
      "    (2): Linear(in_features=512, out_features=512, bias=True)\n",
      "    (3): ReLU()\n",
      "    (4): Linear(in_features=512, out_features=10, bias=True)\n",
      "    (5): ReLU()\n",
      "  )\n",
      ")\n"
     ]
    }
   ],
   "source": [
    "model = NeuralNetwork().to(torch_device)\n",
    "print(model)"
   ]
  },
  {
   "cell_type": "markdown",
   "id": "b1b98e3f",
   "metadata": {
    "papermill": {
     "duration": 0.007911,
     "end_time": "2023-07-13T06:38:15.254063",
     "exception": false,
     "start_time": "2023-07-13T06:38:15.246152",
     "status": "completed"
    },
    "tags": []
   },
   "source": [
    "To use the model, we pass it the input data. This executes the models `forward`, along with some background operation. However, do not call `model.forward()` directly. Calling the model on the input returns a 10-dimensional tensor with raw predicted values for each class. We get the prediction densities by passing it through an instance of the `nn.Softmax`."
   ]
  },
  {
   "cell_type": "code",
   "execution_count": 8,
   "id": "e317215c",
   "metadata": {
    "execution": {
     "iopub.execute_input": "2023-07-13T06:38:15.272880Z",
     "iopub.status.busy": "2023-07-13T06:38:15.271554Z",
     "iopub.status.idle": "2023-07-13T06:38:17.150706Z",
     "shell.execute_reply": "2023-07-13T06:38:17.149716Z"
    },
    "papermill": {
     "duration": 1.890684,
     "end_time": "2023-07-13T06:38:17.152781",
     "exception": false,
     "start_time": "2023-07-13T06:38:15.262097",
     "status": "completed"
    },
    "tags": []
   },
   "outputs": [
    {
     "name": "stdout",
     "output_type": "stream",
     "text": [
      "Predicted class: tensor([8], device='cuda:0')\n"
     ]
    }
   ],
   "source": [
    "X =torch.rand(1,28,28, device=torch_device)\n",
    "logits = model(X)\n",
    "pred_probab = nn.Softmax(dim=1)(logits)\n",
    "y_pred = pred_probab.argmax(1)\n",
    "print(f\"Predicted class: {y_pred}\")"
   ]
  },
  {
   "cell_type": "markdown",
   "id": "d33c1cc4",
   "metadata": {
    "papermill": {
     "duration": 0.007949,
     "end_time": "2023-07-13T06:38:17.169430",
     "exception": false,
     "start_time": "2023-07-13T06:38:17.161481",
     "status": "completed"
    },
    "tags": []
   },
   "source": [
    "### Weight and Bias\n",
    "\n",
    "The `nn.linear` module randomly initialized the *weights* and *bias* for each layer and internally stores the values in Tensors."
   ]
  },
  {
   "cell_type": "code",
   "execution_count": 9,
   "id": "c2d9ba37",
   "metadata": {
    "execution": {
     "iopub.execute_input": "2023-07-13T06:38:17.188128Z",
     "iopub.status.busy": "2023-07-13T06:38:17.187233Z",
     "iopub.status.idle": "2023-07-13T06:38:17.251334Z",
     "shell.execute_reply": "2023-07-13T06:38:17.250458Z"
    },
    "papermill": {
     "duration": 0.07757,
     "end_time": "2023-07-13T06:38:17.255360",
     "exception": false,
     "start_time": "2023-07-13T06:38:17.177790",
     "status": "completed"
    },
    "tags": []
   },
   "outputs": [
    {
     "name": "stdout",
     "output_type": "stream",
     "text": [
      "First Linear weights: Parameter containing:\n",
      "tensor([[ 0.0161,  0.0330, -0.0175,  ..., -0.0113,  0.0252, -0.0023],\n",
      "        [ 0.0098, -0.0076, -0.0188,  ..., -0.0137, -0.0007, -0.0024],\n",
      "        [-0.0281, -0.0046, -0.0146,  ..., -0.0147,  0.0268, -0.0234],\n",
      "        ...,\n",
      "        [-0.0244,  0.0308,  0.0331,  ...,  0.0077,  0.0046, -0.0251],\n",
      "        [ 0.0284,  0.0164, -0.0332,  ..., -0.0063,  0.0288,  0.0100],\n",
      "        [ 0.0259, -0.0089,  0.0291,  ..., -0.0038,  0.0060, -0.0152]],\n",
      "       device='cuda:0', requires_grad=True) \n",
      "\n",
      "First Linear bias: Parameter containing:\n",
      "tensor([-8.4437e-03,  1.4467e-02,  4.9862e-03,  2.7656e-02,  1.9958e-03,\n",
      "        -1.3240e-02, -2.0032e-03,  7.3737e-03,  1.7689e-02,  2.2507e-02,\n",
      "         7.3073e-03,  2.0721e-02, -2.4472e-02, -1.9952e-02,  3.0265e-02,\n",
      "        -1.1435e-02,  3.1261e-02,  2.5780e-02, -2.3674e-03, -7.2519e-03,\n",
      "        -2.0901e-03, -7.8312e-03,  1.1703e-02,  9.3221e-03,  1.5358e-02,\n",
      "        -1.7135e-02,  9.2835e-04,  2.8485e-02,  1.1371e-02, -1.0883e-02,\n",
      "         9.8916e-03,  1.6230e-02,  7.1589e-03, -1.1475e-03, -2.7103e-02,\n",
      "        -3.1469e-02, -1.5647e-02,  2.6101e-02, -2.8131e-02,  1.1674e-03,\n",
      "        -3.0433e-02,  6.9901e-03, -1.9060e-02,  6.8273e-04,  3.2778e-05,\n",
      "        -1.4689e-02, -3.1426e-02, -1.4070e-02,  2.8290e-02, -2.7937e-02,\n",
      "         2.8948e-02, -2.1420e-02, -1.5925e-02,  6.6165e-03, -3.2546e-02,\n",
      "        -1.7323e-02,  8.0086e-03, -3.3584e-02,  1.5639e-02, -3.4526e-02,\n",
      "        -2.6179e-03,  2.6311e-02, -6.0226e-05,  1.4534e-02, -9.1408e-03,\n",
      "        -7.4772e-03,  2.6891e-02,  1.1626e-02, -1.0592e-03, -2.9945e-02,\n",
      "        -3.3804e-02,  2.1845e-02, -2.0239e-02,  4.1737e-03, -1.7299e-02,\n",
      "         1.3756e-02, -1.5910e-02,  1.6684e-02, -2.3018e-02, -6.3639e-03,\n",
      "        -3.4329e-02, -2.4456e-02, -1.0159e-02, -1.2923e-02,  1.1607e-02,\n",
      "         3.0871e-02,  1.8778e-02,  1.2868e-02,  1.1349e-02,  2.2252e-02,\n",
      "         2.6540e-02, -1.5247e-02, -2.4311e-02,  6.3535e-03, -2.6809e-02,\n",
      "         3.4258e-02, -2.0175e-02, -1.7764e-02, -1.2043e-02, -2.3719e-02,\n",
      "         1.7357e-02,  1.6192e-02, -1.4040e-02,  9.6908e-03,  2.7712e-02,\n",
      "        -1.7411e-03,  3.3866e-02,  3.0462e-02, -2.3181e-02, -7.6330e-03,\n",
      "        -3.0693e-03, -1.9821e-02,  9.9148e-04, -1.2630e-03,  6.6504e-03,\n",
      "         1.0385e-02, -5.3219e-03, -3.4258e-02,  7.7456e-04, -3.0595e-02,\n",
      "        -2.1305e-02,  6.8636e-03, -2.4487e-02, -2.6368e-02, -2.4534e-02,\n",
      "        -2.5992e-02,  6.1771e-03,  1.0542e-02,  1.0566e-02, -2.4564e-02,\n",
      "        -6.0038e-03, -2.6195e-02, -2.3783e-02, -2.8063e-02,  2.5627e-02,\n",
      "         2.5245e-02, -6.2458e-04,  1.4858e-02, -7.8906e-03, -7.2945e-03,\n",
      "         5.3891e-03,  7.4039e-03,  1.4204e-02, -2.5823e-02, -1.2903e-02,\n",
      "        -1.5281e-02,  3.2258e-02,  6.9907e-03, -5.1982e-03, -2.2243e-02,\n",
      "        -5.8475e-03,  5.7082e-03,  4.3272e-04, -1.9730e-02, -1.4146e-02,\n",
      "         3.2262e-02, -3.4730e-02, -2.6068e-02, -3.3008e-02,  2.5776e-02,\n",
      "         3.1674e-02,  6.7714e-03,  1.5062e-02,  3.4201e-02,  2.1776e-02,\n",
      "         1.2225e-02,  3.5324e-02,  2.7386e-02,  1.7604e-02, -8.5473e-03,\n",
      "         6.3894e-03, -2.2544e-02, -2.2910e-02,  2.6132e-02,  2.2517e-02,\n",
      "         1.4465e-02,  9.7448e-03,  2.5822e-02,  3.0133e-02, -6.9823e-04,\n",
      "         3.4952e-02, -1.1688e-02, -1.9758e-03, -6.4794e-03,  1.8183e-02,\n",
      "        -1.1200e-02,  1.7767e-02, -2.4715e-02, -7.1882e-03, -3.2564e-02,\n",
      "         2.0692e-02,  2.8609e-02, -1.1992e-02,  3.0145e-02,  2.9571e-02,\n",
      "         1.1063e-02, -1.2612e-02, -2.7394e-02, -4.0335e-03, -2.2004e-02,\n",
      "         1.7295e-03,  5.4207e-03, -2.6053e-02,  9.3616e-03,  1.9933e-03,\n",
      "        -2.9077e-03, -3.1745e-03, -5.0304e-03, -1.7430e-02,  2.3093e-02,\n",
      "         9.0046e-06,  9.8856e-03, -3.2947e-02, -3.5621e-02,  3.5206e-02,\n",
      "        -2.7109e-02, -1.8166e-03, -6.8464e-03, -2.9365e-02,  3.2994e-02,\n",
      "         3.2805e-02,  2.6265e-02, -2.1128e-02,  3.5285e-02,  3.0751e-02,\n",
      "        -6.0368e-03,  1.3108e-02, -1.1552e-03, -6.6137e-03,  1.2027e-02,\n",
      "         6.4941e-04, -2.3235e-02, -2.0174e-02,  2.8583e-02,  1.8680e-02,\n",
      "        -1.5925e-02, -1.2503e-02, -1.9126e-02, -9.2509e-03, -4.5414e-03,\n",
      "        -1.3464e-02,  1.6351e-02,  2.4722e-02, -1.3559e-02,  2.4028e-02,\n",
      "        -1.1901e-02,  3.3843e-02, -3.1060e-02,  1.2906e-02,  2.7970e-02,\n",
      "         2.6766e-02, -3.4002e-02, -8.6280e-03, -5.1951e-04,  2.3172e-02,\n",
      "         1.8329e-02,  1.3623e-02, -7.4478e-03,  1.5638e-03, -1.7857e-03,\n",
      "        -2.2835e-02,  2.7276e-02,  8.9075e-03, -1.9289e-02,  2.1163e-02,\n",
      "        -3.1138e-02,  2.8929e-02,  1.9726e-02, -2.2536e-02, -6.2046e-04,\n",
      "         3.3050e-02, -2.2130e-02,  2.9419e-02,  1.2353e-02, -2.5434e-02,\n",
      "        -4.1986e-03,  1.0935e-02, -2.3268e-02, -2.3726e-02, -2.8828e-02,\n",
      "         2.8690e-02,  2.4020e-02, -2.9497e-02, -2.8041e-02,  2.7289e-02,\n",
      "         1.1009e-02, -2.4368e-02, -1.6087e-02,  3.2877e-02,  3.3976e-02,\n",
      "        -2.2258e-02, -2.7827e-02, -3.5430e-02, -1.9885e-02,  2.3546e-02,\n",
      "        -9.5175e-03, -2.4666e-02,  1.4936e-02,  5.8095e-03, -2.6804e-02,\n",
      "        -1.4752e-02, -9.5101e-03, -2.0356e-02,  9.5153e-03, -9.4416e-03,\n",
      "         2.2232e-02,  1.6865e-02, -2.0509e-02,  5.1854e-03, -1.2389e-02,\n",
      "        -1.7752e-04,  5.1720e-03,  1.1829e-02,  3.2575e-02,  3.4223e-02,\n",
      "        -2.6972e-02, -1.8714e-02,  1.8294e-02,  1.6790e-02, -2.3572e-02,\n",
      "         1.9722e-02,  2.1217e-02, -3.3704e-02, -3.3052e-02, -1.0245e-02,\n",
      "        -6.5077e-03, -3.5884e-03,  2.4412e-03, -2.4062e-02, -2.0421e-02,\n",
      "        -9.9604e-03, -1.0587e-02,  2.4619e-02, -5.7834e-03,  3.2987e-02,\n",
      "        -1.7700e-02,  4.1967e-03, -1.5415e-02, -1.8663e-02, -7.6231e-03,\n",
      "        -2.5802e-02,  1.6914e-02,  2.6553e-03,  1.9483e-02,  1.1595e-02,\n",
      "        -2.9686e-02,  1.4458e-02, -1.4329e-02,  2.4899e-02,  1.3568e-02,\n",
      "         1.0532e-02, -1.5760e-02, -2.3483e-02, -9.1533e-03,  4.0510e-03,\n",
      "         3.0421e-02,  8.2136e-03, -5.8002e-03, -9.2787e-03,  3.2219e-02,\n",
      "        -8.8316e-04, -9.0958e-03, -8.5260e-03,  3.4673e-03, -3.4358e-02,\n",
      "         6.8868e-04,  1.4728e-03,  2.9389e-02, -1.6245e-02, -1.0108e-02,\n",
      "         3.3058e-02,  1.6293e-02,  2.2378e-02, -2.1109e-02, -2.2092e-02,\n",
      "         2.9895e-02, -9.6304e-05,  1.3782e-02, -1.9778e-02, -3.4340e-02,\n",
      "         1.1666e-02, -2.1608e-02, -1.6398e-02, -1.2995e-02, -1.5796e-02,\n",
      "        -1.2849e-02, -3.4770e-02,  2.6466e-02, -1.0392e-02,  2.3430e-02,\n",
      "        -2.1519e-02,  2.6955e-02, -1.6484e-02,  1.3678e-02,  5.2376e-03,\n",
      "         2.4583e-02,  3.1886e-02,  1.6354e-03,  1.8355e-02, -1.7938e-02,\n",
      "         3.0035e-02, -1.9444e-02,  3.5694e-02,  5.2832e-03, -1.2134e-02,\n",
      "         1.2964e-02,  1.9561e-02,  7.4219e-03, -2.2412e-02, -1.1698e-02,\n",
      "        -1.1938e-02,  1.3167e-02, -3.7708e-03, -7.0475e-03, -7.2501e-03,\n",
      "        -2.1795e-02, -1.8078e-02,  3.5196e-02,  1.4263e-02, -1.7172e-02,\n",
      "        -4.9273e-03, -3.4632e-02,  2.0170e-02, -3.2357e-03, -3.1261e-02,\n",
      "        -1.3815e-03, -7.7997e-03,  4.3994e-03,  1.4292e-02,  2.1929e-03,\n",
      "         2.0655e-02,  9.6541e-03,  3.0581e-02,  2.1940e-02,  2.7738e-02,\n",
      "         4.1643e-03,  1.5701e-02, -1.1470e-03,  2.5993e-02,  2.3866e-02,\n",
      "         1.7167e-02, -3.4368e-02,  2.5370e-02,  2.9432e-02,  9.2192e-03,\n",
      "         2.3246e-02,  1.9927e-02, -2.5247e-02,  1.7569e-02, -1.1583e-02,\n",
      "         9.2809e-03,  3.3804e-02, -3.9624e-03, -2.1512e-02,  7.0975e-03,\n",
      "         7.2358e-03, -2.9244e-03,  2.0695e-02,  8.8320e-03, -3.5422e-02,\n",
      "         3.1501e-02,  2.0660e-02,  3.2043e-02, -3.0830e-02, -9.7971e-03,\n",
      "         3.2380e-02, -3.0941e-02, -1.2514e-02,  3.3220e-02, -4.9805e-03,\n",
      "         4.4780e-04, -1.3797e-02,  1.8380e-02,  2.0116e-03,  2.1770e-02,\n",
      "        -2.9212e-02,  1.4985e-03,  2.7848e-02,  2.3326e-02, -2.7039e-02,\n",
      "         2.2407e-02, -3.4969e-02,  2.2406e-02,  3.0537e-02, -2.8107e-02,\n",
      "        -2.5059e-02,  3.5972e-03,  1.3402e-02, -1.1856e-02, -9.4738e-03,\n",
      "         2.7462e-02, -1.0839e-02, -1.9094e-02,  1.5609e-03,  1.7495e-02,\n",
      "         5.6416e-03, -2.3611e-02,  3.7640e-03,  2.2017e-02,  2.0078e-02,\n",
      "        -1.3464e-02, -3.0951e-02, -9.3358e-04, -1.7333e-02, -2.6485e-02,\n",
      "         1.2213e-02, -1.7671e-02, -8.4299e-03, -1.8604e-02,  3.4769e-03,\n",
      "        -2.8088e-02,  1.6846e-02], device='cuda:0', requires_grad=True) \n",
      "\n"
     ]
    }
   ],
   "source": [
    "print(f'First Linear weights: {model.linear_relu_stack[0].weight} \\n')\n",
    "print(f'First Linear bias: {model.linear_relu_stack[0].bias} \\n')"
   ]
  },
  {
   "cell_type": "markdown",
   "id": "8b6fa4d0",
   "metadata": {
    "papermill": {
     "duration": 0.008015,
     "end_time": "2023-07-13T06:38:17.272633",
     "exception": false,
     "start_time": "2023-07-13T06:38:17.264618",
     "status": "completed"
    },
    "tags": []
   },
   "source": [
    "### Model layers\n",
    "\n",
    "Let's break down the layers in the FashionMNIST model. To illustrate it, we will take a sample minibatch of 3 images of size 28x28 and see what happens to it as we pass it through the network."
   ]
  },
  {
   "cell_type": "code",
   "execution_count": 10,
   "id": "8eee64b8",
   "metadata": {
    "execution": {
     "iopub.execute_input": "2023-07-13T06:38:17.290320Z",
     "iopub.status.busy": "2023-07-13T06:38:17.290007Z",
     "iopub.status.idle": "2023-07-13T06:38:17.295450Z",
     "shell.execute_reply": "2023-07-13T06:38:17.294487Z"
    },
    "papermill": {
     "duration": 0.017076,
     "end_time": "2023-07-13T06:38:17.297957",
     "exception": false,
     "start_time": "2023-07-13T06:38:17.280881",
     "status": "completed"
    },
    "tags": []
   },
   "outputs": [
    {
     "name": "stdout",
     "output_type": "stream",
     "text": [
      "torch.Size([3, 28, 28])\n"
     ]
    }
   ],
   "source": [
    "input_sample = torch.rand(3,28,28)\n",
    "print(input_sample.size())"
   ]
  },
  {
   "cell_type": "markdown",
   "id": "886e5731",
   "metadata": {
    "papermill": {
     "duration": 0.008584,
     "end_time": "2023-07-13T06:38:17.315128",
     "exception": false,
     "start_time": "2023-07-13T06:38:17.306544",
     "status": "completed"
    },
    "tags": []
   },
   "source": [
    "### nn.Flatten\n",
    "\n",
    "We initialize the `nn.Flatten` layer to convert each 2D 28x28 image into a contiguous array of 784 pixel values (the minibatch dimension (at dim=0) is maintained). Each of the pixels are pass to the input layer of the neural network."
   ]
  },
  {
   "cell_type": "code",
   "execution_count": 11,
   "id": "c956a94b",
   "metadata": {
    "execution": {
     "iopub.execute_input": "2023-07-13T06:38:17.335249Z",
     "iopub.status.busy": "2023-07-13T06:38:17.334312Z",
     "iopub.status.idle": "2023-07-13T06:38:17.341090Z",
     "shell.execute_reply": "2023-07-13T06:38:17.339760Z"
    },
    "papermill": {
     "duration": 0.018915,
     "end_time": "2023-07-13T06:38:17.343170",
     "exception": false,
     "start_time": "2023-07-13T06:38:17.324255",
     "status": "completed"
    },
    "tags": []
   },
   "outputs": [
    {
     "name": "stdout",
     "output_type": "stream",
     "text": [
      "torch.Size([3, 784])\n"
     ]
    }
   ],
   "source": [
    "flatten = nn.Flatten()\n",
    "flat_image = flatten(input_sample)\n",
    "print(flat_image.size())"
   ]
  },
  {
   "cell_type": "markdown",
   "id": "6ff6659b",
   "metadata": {
    "papermill": {
     "duration": 0.008233,
     "end_time": "2023-07-13T06:38:17.360229",
     "exception": false,
     "start_time": "2023-07-13T06:38:17.351996",
     "status": "completed"
    },
    "tags": []
   },
   "source": [
    "### nn.Linear\n",
    "\n",
    "The linear layer is a module that applies a linear transformation on the input using it's stored weights and biases. The gayscale value of each pixel in the input layer will be connected to neurons in the hidden layer for calculation. The calculation used for the transformation is `weight` * `input` + `bias`."
   ]
  },
  {
   "cell_type": "code",
   "execution_count": 12,
   "id": "33e43672",
   "metadata": {
    "execution": {
     "iopub.execute_input": "2023-07-13T06:38:17.378903Z",
     "iopub.status.busy": "2023-07-13T06:38:17.378008Z",
     "iopub.status.idle": "2023-07-13T06:38:17.427101Z",
     "shell.execute_reply": "2023-07-13T06:38:17.425646Z"
    },
    "papermill": {
     "duration": 0.060841,
     "end_time": "2023-07-13T06:38:17.429337",
     "exception": false,
     "start_time": "2023-07-13T06:38:17.368496",
     "status": "completed"
    },
    "tags": []
   },
   "outputs": [
    {
     "name": "stdout",
     "output_type": "stream",
     "text": [
      "torch.Size([3, 20])\n"
     ]
    }
   ],
   "source": [
    "layer1 = nn.Linear(in_features=28*28, out_features=20)\n",
    "hidden1 = layer1(flat_image)\n",
    "print(hidden1.size())"
   ]
  },
  {
   "cell_type": "markdown",
   "id": "80a350fd",
   "metadata": {
    "papermill": {
     "duration": 0.008696,
     "end_time": "2023-07-13T06:38:17.447810",
     "exception": false,
     "start_time": "2023-07-13T06:38:17.439114",
     "status": "completed"
    },
    "tags": []
   },
   "source": [
    "### nn.ReLU\n",
    "\n",
    "Non-linear activations are what create the complex mappings between the model's input and output. They are applied after linear tranformations to introduce `nonlinearity`, helping neural networks learn a wide variety of phenomena. In this model, we use `nn.ReLU` between our linear layers, but there's other activations to introduce non-linearity in your model.\n",
    "\n",
    "The ReLU activation function takes the output from the linear layer calculation and replaces the negative values with zeros.\n",
    "\n",
    "Linear output:\n",
    "$$\n",
    "{ x = {weight * input + bias}}\n",
    "$$\n",
    "ReLU:\n",
    "\n",
    "$$\n",
    "f(x)= {\\small \\begin{cases} 0, & \\text{if } x < 0\\\\ x, & \\text{if } x\\geq 0\\\\ \\end{cases}}\n",
    "$$"
   ]
  },
  {
   "cell_type": "code",
   "execution_count": 13,
   "id": "28ba1b4b",
   "metadata": {
    "execution": {
     "iopub.execute_input": "2023-07-13T06:38:17.465943Z",
     "iopub.status.busy": "2023-07-13T06:38:17.465638Z",
     "iopub.status.idle": "2023-07-13T06:38:17.492514Z",
     "shell.execute_reply": "2023-07-13T06:38:17.491229Z"
    },
    "papermill": {
     "duration": 0.038433,
     "end_time": "2023-07-13T06:38:17.494658",
     "exception": false,
     "start_time": "2023-07-13T06:38:17.456225",
     "status": "completed"
    },
    "tags": []
   },
   "outputs": [
    {
     "name": "stdout",
     "output_type": "stream",
     "text": [
      "Before ReLU: tensor([[-0.1619, -0.8146,  0.0379, -0.0796, -0.0049, -0.6402, -0.2999,  0.2494,\n",
      "         -0.0133,  0.4261, -0.0852,  0.0131, -0.0867,  0.6185,  0.1049, -0.0262,\n",
      "          0.3902,  0.3320, -0.2574, -0.5516],\n",
      "        [-0.1508, -0.5107, -0.1021, -0.2224, -0.1385, -0.2996, -0.2088, -0.0274,\n",
      "         -0.2109,  0.6311, -0.1400, -0.4624, -0.1137,  0.5212,  0.1354,  0.1216,\n",
      "          0.8446,  0.5370, -0.4295, -0.5016],\n",
      "        [-0.0712, -0.6318, -0.3181, -0.0929, -0.0306, -0.2385,  0.0410, -0.3792,\n",
      "         -0.1304,  0.6893, -0.1858, -0.2376, -0.1521,  0.0300,  0.0387,  0.3418,\n",
      "          0.6033,  0.5135, -0.1706, -0.6416]], grad_fn=<AddmmBackward0>)\n",
      "\n",
      "\n",
      "After ReLU: tensor([[0.0000, 0.0000, 0.0379, 0.0000, 0.0000, 0.0000, 0.0000, 0.2494, 0.0000,\n",
      "         0.4261, 0.0000, 0.0131, 0.0000, 0.6185, 0.1049, 0.0000, 0.3902, 0.3320,\n",
      "         0.0000, 0.0000],\n",
      "        [0.0000, 0.0000, 0.0000, 0.0000, 0.0000, 0.0000, 0.0000, 0.0000, 0.0000,\n",
      "         0.6311, 0.0000, 0.0000, 0.0000, 0.5212, 0.1354, 0.1216, 0.8446, 0.5370,\n",
      "         0.0000, 0.0000],\n",
      "        [0.0000, 0.0000, 0.0000, 0.0000, 0.0000, 0.0000, 0.0410, 0.0000, 0.0000,\n",
      "         0.6893, 0.0000, 0.0000, 0.0000, 0.0300, 0.0387, 0.3418, 0.6033, 0.5135,\n",
      "         0.0000, 0.0000]], grad_fn=<ReluBackward0>)\n"
     ]
    }
   ],
   "source": [
    "print(f'Before ReLU: {hidden1}\\n\\n')\n",
    "hidden1 = nn.ReLU()(hidden1)\n",
    "print(f'After ReLU: {hidden1}')"
   ]
  },
  {
   "cell_type": "markdown",
   "id": "b78be6ac",
   "metadata": {
    "papermill": {
     "duration": 0.008533,
     "end_time": "2023-07-13T06:38:17.512952",
     "exception": false,
     "start_time": "2023-07-13T06:38:17.504419",
     "status": "completed"
    },
    "tags": []
   },
   "source": [
    "### nn.Sequential\n",
    "\n",
    "`nn.Sequential` is an ordered container of modules. The data is passed through all the modulers in the same order as defined. You can use sequential containers to put together a quick network like `seq_modules`."
   ]
  },
  {
   "cell_type": "code",
   "execution_count": 14,
   "id": "c46699ab",
   "metadata": {
    "execution": {
     "iopub.execute_input": "2023-07-13T06:38:17.533590Z",
     "iopub.status.busy": "2023-07-13T06:38:17.532738Z",
     "iopub.status.idle": "2023-07-13T06:38:17.542725Z",
     "shell.execute_reply": "2023-07-13T06:38:17.541840Z"
    },
    "papermill": {
     "duration": 0.023562,
     "end_time": "2023-07-13T06:38:17.544909",
     "exception": false,
     "start_time": "2023-07-13T06:38:17.521347",
     "status": "completed"
    },
    "tags": []
   },
   "outputs": [],
   "source": [
    "seq_modules = nn.Sequential(\n",
    "    flatten,\n",
    "    layer1, nn.ReLU(),\n",
    "    nn.Linear(20,10)\n",
    ")\n",
    "input_image = torch.rand(3,28,28)\n",
    "logits = seq_modules(input_image)"
   ]
  },
  {
   "cell_type": "markdown",
   "id": "a9ec815a",
   "metadata": {
    "papermill": {
     "duration": 0.008236,
     "end_time": "2023-07-13T06:38:17.563150",
     "exception": false,
     "start_time": "2023-07-13T06:38:17.554914",
     "status": "completed"
    },
    "tags": []
   },
   "source": [
    "### nn.Softmax\n",
    "\n",
    "The last linear layer of the neural network returns `logits` - raw values in [-infty, infty], which are passed to the `nn.Softmax` module. The Softmax activation function is used to calcualte the probability of the output from the neural network. It is only used on output layer  of a neural network. the results are scaled to values [0,1] representing the model's predicted densities for each class. `dim` parameter indicates the dimension along which the result values must sum to 1. The node with the highest probability predicts the desired output."
   ]
  },
  {
   "cell_type": "code",
   "execution_count": 15,
   "id": "baffb626",
   "metadata": {
    "execution": {
     "iopub.execute_input": "2023-07-13T06:38:17.582297Z",
     "iopub.status.busy": "2023-07-13T06:38:17.581346Z",
     "iopub.status.idle": "2023-07-13T06:38:17.591632Z",
     "shell.execute_reply": "2023-07-13T06:38:17.590773Z"
    },
    "papermill": {
     "duration": 0.022133,
     "end_time": "2023-07-13T06:38:17.593667",
     "exception": false,
     "start_time": "2023-07-13T06:38:17.571534",
     "status": "completed"
    },
    "tags": []
   },
   "outputs": [],
   "source": [
    "softmax = nn.Softmax(dim=1)\n",
    "pred_probab = softmax(logits)"
   ]
  },
  {
   "cell_type": "markdown",
   "id": "6652b24f",
   "metadata": {
    "papermill": {
     "duration": 0.008687,
     "end_time": "2023-07-13T06:38:17.611871",
     "exception": false,
     "start_time": "2023-07-13T06:38:17.603184",
     "status": "completed"
    },
    "tags": []
   },
   "source": [
    "### Model parameters\n",
    "\n",
    "Many layers inside a neural network are `parameterized`, i.e. have associated weights and biases that are optimized during training. Subclassing `nn.Module` automatically tracks all fields defined inside your model object, and makes all parameters accessible using your model's `parameters()` or `named_parameters()` methods."
   ]
  },
  {
   "cell_type": "code",
   "execution_count": 16,
   "id": "582b1e67",
   "metadata": {
    "execution": {
     "iopub.execute_input": "2023-07-13T06:38:17.632042Z",
     "iopub.status.busy": "2023-07-13T06:38:17.630270Z",
     "iopub.status.idle": "2023-07-13T06:38:17.643995Z",
     "shell.execute_reply": "2023-07-13T06:38:17.643038Z"
    },
    "papermill": {
     "duration": 0.025647,
     "end_time": "2023-07-13T06:38:17.646037",
     "exception": false,
     "start_time": "2023-07-13T06:38:17.620390",
     "status": "completed"
    },
    "tags": []
   },
   "outputs": [
    {
     "name": "stdout",
     "output_type": "stream",
     "text": [
      "Model structure: NeuralNetwork(\n",
      "  (flatten): Flatten(start_dim=1, end_dim=-1)\n",
      "  (linear_relu_stack): Sequential(\n",
      "    (0): Linear(in_features=784, out_features=512, bias=True)\n",
      "    (1): ReLU()\n",
      "    (2): Linear(in_features=512, out_features=512, bias=True)\n",
      "    (3): ReLU()\n",
      "    (4): Linear(in_features=512, out_features=10, bias=True)\n",
      "    (5): ReLU()\n",
      "  )\n",
      ") \n",
      "\n",
      "\n",
      "Layer: linear_relu_stack.0.weight | Size: torch.Size([512, 784]) | Values: tensor([[ 0.0161,  0.0330, -0.0175,  ..., -0.0113,  0.0252, -0.0023],\n",
      "        [ 0.0098, -0.0076, -0.0188,  ..., -0.0137, -0.0007, -0.0024]],\n",
      "       device='cuda:0', grad_fn=<SliceBackward0>) \n",
      "\n",
      "Layer: linear_relu_stack.0.bias | Size: torch.Size([512]) | Values: tensor([-0.0084,  0.0145], device='cuda:0', grad_fn=<SliceBackward0>) \n",
      "\n",
      "Layer: linear_relu_stack.2.weight | Size: torch.Size([512, 512]) | Values: tensor([[ 0.0043,  0.0079,  0.0286,  ...,  0.0199,  0.0015, -0.0135],\n",
      "        [ 0.0030, -0.0256,  0.0300,  ...,  0.0230, -0.0049, -0.0169]],\n",
      "       device='cuda:0', grad_fn=<SliceBackward0>) \n",
      "\n",
      "Layer: linear_relu_stack.2.bias | Size: torch.Size([512]) | Values: tensor([ 0.0353, -0.0405], device='cuda:0', grad_fn=<SliceBackward0>) \n",
      "\n",
      "Layer: linear_relu_stack.4.weight | Size: torch.Size([10, 512]) | Values: tensor([[-0.0277, -0.0168, -0.0402,  ..., -0.0356, -0.0150, -0.0196],\n",
      "        [-0.0240, -0.0001, -0.0073,  ..., -0.0203, -0.0165,  0.0210]],\n",
      "       device='cuda:0', grad_fn=<SliceBackward0>) \n",
      "\n",
      "Layer: linear_relu_stack.4.bias | Size: torch.Size([10]) | Values: tensor([ 0.0209, -0.0334], device='cuda:0', grad_fn=<SliceBackward0>) \n",
      "\n"
     ]
    }
   ],
   "source": [
    "print('Model structure:', model, '\\n\\n')\n",
    "\n",
    "for name, param in model.named_parameters():\n",
    "    print(f'Layer: {name} | Size: {param.size()} | Values: {param[:2]} \\n')"
   ]
  }
 ],
 "metadata": {
  "kernelspec": {
   "display_name": "Python 3",
   "language": "python",
   "name": "python3"
  },
  "language_info": {
   "codemirror_mode": {
    "name": "ipython",
    "version": 3
   },
   "file_extension": ".py",
   "mimetype": "text/x-python",
   "name": "python",
   "nbconvert_exporter": "python",
   "pygments_lexer": "ipython3",
   "version": "3.10.12"
  },
  "papermill": {
   "default_parameters": {},
   "duration": 34.836208,
   "end_time": "2023-07-13T06:38:19.377307",
   "environment_variables": {},
   "exception": null,
   "input_path": "__notebook__.ipynb",
   "output_path": "__notebook__.ipynb",
   "parameters": {},
   "start_time": "2023-07-13T06:37:44.541099",
   "version": "2.4.0"
  }
 },
 "nbformat": 4,
 "nbformat_minor": 5
}
