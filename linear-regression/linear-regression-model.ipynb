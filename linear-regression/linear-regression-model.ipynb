{
 "cells": [
  {
   "cell_type": "markdown",
   "id": "31e0a0fc",
   "metadata": {
    "papermill": {
     "duration": 0.009765,
     "end_time": "2024-10-02T08:26:25.568122",
     "exception": false,
     "start_time": "2024-10-02T08:26:25.558357",
     "status": "completed"
    },
    "tags": []
   },
   "source": [
    "# Overview\n",
    "\n",
    "Linear Regression a basic algorithms in meachine learning(supervised learning). It can be adopted while making predictions for the estimated value of a continuous target variable based on one or moe predictor variables.\n",
    "\n",
    "# 1.Data Preparation"
   ]
  },
  {
   "cell_type": "code",
   "execution_count": 1,
   "id": "bb17b34f",
   "metadata": {
    "_cell_guid": "b1076dfc-b9ad-4769-8c92-a6c4dae69d19",
    "_uuid": "8f2839f25d086af736a60e9eeb907d3b93b6e0e5",
    "execution": {
     "iopub.execute_input": "2024-10-02T08:26:25.588595Z",
     "iopub.status.busy": "2024-10-02T08:26:25.588076Z",
     "iopub.status.idle": "2024-10-02T08:26:34.278946Z",
     "shell.execute_reply": "2024-10-02T08:26:34.277861Z"
    },
    "papermill": {
     "duration": 8.704044,
     "end_time": "2024-10-02T08:26:34.281543",
     "exception": false,
     "start_time": "2024-10-02T08:26:25.577499",
     "status": "completed"
    },
    "tags": []
   },
   "outputs": [],
   "source": [
    "from sklearn.datasets import fetch_california_housing\n",
    "from sklearn.model_selection import train_test_split\n",
    "import pandas as pd\n",
    "\n",
    "ds=fetch_california_housing(as_frame=True)"
   ]
  },
  {
   "cell_type": "code",
   "execution_count": 2,
   "id": "91ce38ce",
   "metadata": {
    "execution": {
     "iopub.execute_input": "2024-10-02T08:26:34.302829Z",
     "iopub.status.busy": "2024-10-02T08:26:34.301824Z",
     "iopub.status.idle": "2024-10-02T08:26:34.306950Z",
     "shell.execute_reply": "2024-10-02T08:26:34.305873Z"
    },
    "papermill": {
     "duration": 0.018427,
     "end_time": "2024-10-02T08:26:34.309105",
     "exception": false,
     "start_time": "2024-10-02T08:26:34.290678",
     "status": "completed"
    },
    "tags": []
   },
   "outputs": [],
   "source": [
    "ds=ds.frame"
   ]
  },
  {
   "cell_type": "code",
   "execution_count": 3,
   "id": "1d51df5d",
   "metadata": {
    "execution": {
     "iopub.execute_input": "2024-10-02T08:26:34.329215Z",
     "iopub.status.busy": "2024-10-02T08:26:34.328416Z",
     "iopub.status.idle": "2024-10-02T08:26:34.350196Z",
     "shell.execute_reply": "2024-10-02T08:26:34.349126Z"
    },
    "papermill": {
     "duration": 0.034348,
     "end_time": "2024-10-02T08:26:34.352496",
     "exception": false,
     "start_time": "2024-10-02T08:26:34.318148",
     "status": "completed"
    },
    "tags": []
   },
   "outputs": [
    {
     "data": {
      "text/html": [
       "<div>\n",
       "<style scoped>\n",
       "    .dataframe tbody tr th:only-of-type {\n",
       "        vertical-align: middle;\n",
       "    }\n",
       "\n",
       "    .dataframe tbody tr th {\n",
       "        vertical-align: top;\n",
       "    }\n",
       "\n",
       "    .dataframe thead th {\n",
       "        text-align: right;\n",
       "    }\n",
       "</style>\n",
       "<table border=\"1\" class=\"dataframe\">\n",
       "  <thead>\n",
       "    <tr style=\"text-align: right;\">\n",
       "      <th></th>\n",
       "      <th>MedInc</th>\n",
       "      <th>HouseAge</th>\n",
       "      <th>AveRooms</th>\n",
       "      <th>AveBedrms</th>\n",
       "      <th>Population</th>\n",
       "      <th>AveOccup</th>\n",
       "      <th>Latitude</th>\n",
       "      <th>Longitude</th>\n",
       "      <th>MedHouseVal</th>\n",
       "    </tr>\n",
       "  </thead>\n",
       "  <tbody>\n",
       "    <tr>\n",
       "      <th>0</th>\n",
       "      <td>8.3252</td>\n",
       "      <td>41.0</td>\n",
       "      <td>6.984127</td>\n",
       "      <td>1.023810</td>\n",
       "      <td>322.0</td>\n",
       "      <td>2.555556</td>\n",
       "      <td>37.88</td>\n",
       "      <td>-122.23</td>\n",
       "      <td>4.526</td>\n",
       "    </tr>\n",
       "    <tr>\n",
       "      <th>1</th>\n",
       "      <td>8.3014</td>\n",
       "      <td>21.0</td>\n",
       "      <td>6.238137</td>\n",
       "      <td>0.971880</td>\n",
       "      <td>2401.0</td>\n",
       "      <td>2.109842</td>\n",
       "      <td>37.86</td>\n",
       "      <td>-122.22</td>\n",
       "      <td>3.585</td>\n",
       "    </tr>\n",
       "    <tr>\n",
       "      <th>2</th>\n",
       "      <td>7.2574</td>\n",
       "      <td>52.0</td>\n",
       "      <td>8.288136</td>\n",
       "      <td>1.073446</td>\n",
       "      <td>496.0</td>\n",
       "      <td>2.802260</td>\n",
       "      <td>37.85</td>\n",
       "      <td>-122.24</td>\n",
       "      <td>3.521</td>\n",
       "    </tr>\n",
       "    <tr>\n",
       "      <th>3</th>\n",
       "      <td>5.6431</td>\n",
       "      <td>52.0</td>\n",
       "      <td>5.817352</td>\n",
       "      <td>1.073059</td>\n",
       "      <td>558.0</td>\n",
       "      <td>2.547945</td>\n",
       "      <td>37.85</td>\n",
       "      <td>-122.25</td>\n",
       "      <td>3.413</td>\n",
       "    </tr>\n",
       "    <tr>\n",
       "      <th>4</th>\n",
       "      <td>3.8462</td>\n",
       "      <td>52.0</td>\n",
       "      <td>6.281853</td>\n",
       "      <td>1.081081</td>\n",
       "      <td>565.0</td>\n",
       "      <td>2.181467</td>\n",
       "      <td>37.85</td>\n",
       "      <td>-122.25</td>\n",
       "      <td>3.422</td>\n",
       "    </tr>\n",
       "  </tbody>\n",
       "</table>\n",
       "</div>"
      ],
      "text/plain": [
       "   MedInc  HouseAge  AveRooms  AveBedrms  Population  AveOccup  Latitude  \\\n",
       "0  8.3252      41.0  6.984127   1.023810       322.0  2.555556     37.88   \n",
       "1  8.3014      21.0  6.238137   0.971880      2401.0  2.109842     37.86   \n",
       "2  7.2574      52.0  8.288136   1.073446       496.0  2.802260     37.85   \n",
       "3  5.6431      52.0  5.817352   1.073059       558.0  2.547945     37.85   \n",
       "4  3.8462      52.0  6.281853   1.081081       565.0  2.181467     37.85   \n",
       "\n",
       "   Longitude  MedHouseVal  \n",
       "0    -122.23        4.526  \n",
       "1    -122.22        3.585  \n",
       "2    -122.24        3.521  \n",
       "3    -122.25        3.413  \n",
       "4    -122.25        3.422  "
      ]
     },
     "execution_count": 3,
     "metadata": {},
     "output_type": "execute_result"
    }
   ],
   "source": [
    "ds.head()"
   ]
  },
  {
   "cell_type": "code",
   "execution_count": 4,
   "id": "c4d442d2",
   "metadata": {
    "execution": {
     "iopub.execute_input": "2024-10-02T08:26:34.373409Z",
     "iopub.status.busy": "2024-10-02T08:26:34.372413Z",
     "iopub.status.idle": "2024-10-02T08:26:34.382925Z",
     "shell.execute_reply": "2024-10-02T08:26:34.382035Z"
    },
    "papermill": {
     "duration": 0.023415,
     "end_time": "2024-10-02T08:26:34.385211",
     "exception": false,
     "start_time": "2024-10-02T08:26:34.361796",
     "status": "completed"
    },
    "tags": []
   },
   "outputs": [],
   "source": [
    "# Handle missing values(if any)\n",
    "ds.fillna(ds.mean(), inplace=True)"
   ]
  },
  {
   "cell_type": "code",
   "execution_count": 5,
   "id": "1043e3f8",
   "metadata": {
    "execution": {
     "iopub.execute_input": "2024-10-02T08:26:34.405672Z",
     "iopub.status.busy": "2024-10-02T08:26:34.404867Z",
     "iopub.status.idle": "2024-10-02T08:26:34.410856Z",
     "shell.execute_reply": "2024-10-02T08:26:34.409847Z"
    },
    "papermill": {
     "duration": 0.018621,
     "end_time": "2024-10-02T08:26:34.412970",
     "exception": false,
     "start_time": "2024-10-02T08:26:34.394349",
     "status": "completed"
    },
    "tags": []
   },
   "outputs": [],
   "source": [
    "# define input features and target variable\n",
    "x=ds.drop(\"MedHouseVal\", axis=1)\n",
    "y=ds[\"MedHouseVal\"]"
   ]
  },
  {
   "cell_type": "code",
   "execution_count": 6,
   "id": "59246afc",
   "metadata": {
    "execution": {
     "iopub.execute_input": "2024-10-02T08:26:34.433489Z",
     "iopub.status.busy": "2024-10-02T08:26:34.432774Z",
     "iopub.status.idle": "2024-10-02T08:26:34.444347Z",
     "shell.execute_reply": "2024-10-02T08:26:34.443484Z"
    },
    "papermill": {
     "duration": 0.024487,
     "end_time": "2024-10-02T08:26:34.446703",
     "exception": false,
     "start_time": "2024-10-02T08:26:34.422216",
     "status": "completed"
    },
    "tags": []
   },
   "outputs": [],
   "source": [
    "# Split the data into training and testing sets\n",
    "x_train, x_test, y_train, y_test = train_test_split(x, y, test_size=0.2, random_state=42)"
   ]
  },
  {
   "cell_type": "markdown",
   "id": "65e11712",
   "metadata": {
    "papermill": {
     "duration": 0.008935,
     "end_time": "2024-10-02T08:26:34.464885",
     "exception": false,
     "start_time": "2024-10-02T08:26:34.455950",
     "status": "completed"
    },
    "tags": []
   },
   "source": [
    "# 2.Model Training\n",
    "\n",
    "Scikit-learn provides two main classes in Linear Regression, which are:\n",
    "* LinearRegression\n",
    "* Ridge"
   ]
  },
  {
   "cell_type": "code",
   "execution_count": 7,
   "id": "91ccca13",
   "metadata": {
    "execution": {
     "iopub.execute_input": "2024-10-02T08:26:34.485374Z",
     "iopub.status.busy": "2024-10-02T08:26:34.484407Z",
     "iopub.status.idle": "2024-10-02T08:26:34.594800Z",
     "shell.execute_reply": "2024-10-02T08:26:34.593867Z"
    },
    "papermill": {
     "duration": 0.123306,
     "end_time": "2024-10-02T08:26:34.597321",
     "exception": false,
     "start_time": "2024-10-02T08:26:34.474015",
     "status": "completed"
    },
    "tags": []
   },
   "outputs": [],
   "source": [
    "from sklearn.linear_model import LinearRegression, Ridge\n",
    "from sklearn.preprocessing import StandardScaler\n",
    "\n",
    "# Standardize the features\n",
    "scaler = StandardScaler()\n",
    "x_train_scaled = scaler.fit_transform(x_train)\n",
    "x_test_scaled = scaler.transform(x_test)"
   ]
  },
  {
   "cell_type": "code",
   "execution_count": 8,
   "id": "6989578c",
   "metadata": {
    "execution": {
     "iopub.execute_input": "2024-10-02T08:26:34.618336Z",
     "iopub.status.busy": "2024-10-02T08:26:34.617325Z",
     "iopub.status.idle": "2024-10-02T08:26:34.654718Z",
     "shell.execute_reply": "2024-10-02T08:26:34.653652Z"
    },
    "papermill": {
     "duration": 0.05074,
     "end_time": "2024-10-02T08:26:34.657616",
     "exception": false,
     "start_time": "2024-10-02T08:26:34.606876",
     "status": "completed"
    },
    "tags": []
   },
   "outputs": [
    {
     "data": {
      "text/html": [
       "<style>#sk-container-id-1 {color: black;background-color: white;}#sk-container-id-1 pre{padding: 0;}#sk-container-id-1 div.sk-toggleable {background-color: white;}#sk-container-id-1 label.sk-toggleable__label {cursor: pointer;display: block;width: 100%;margin-bottom: 0;padding: 0.3em;box-sizing: border-box;text-align: center;}#sk-container-id-1 label.sk-toggleable__label-arrow:before {content: \"▸\";float: left;margin-right: 0.25em;color: #696969;}#sk-container-id-1 label.sk-toggleable__label-arrow:hover:before {color: black;}#sk-container-id-1 div.sk-estimator:hover label.sk-toggleable__label-arrow:before {color: black;}#sk-container-id-1 div.sk-toggleable__content {max-height: 0;max-width: 0;overflow: hidden;text-align: left;background-color: #f0f8ff;}#sk-container-id-1 div.sk-toggleable__content pre {margin: 0.2em;color: black;border-radius: 0.25em;background-color: #f0f8ff;}#sk-container-id-1 input.sk-toggleable__control:checked~div.sk-toggleable__content {max-height: 200px;max-width: 100%;overflow: auto;}#sk-container-id-1 input.sk-toggleable__control:checked~label.sk-toggleable__label-arrow:before {content: \"▾\";}#sk-container-id-1 div.sk-estimator input.sk-toggleable__control:checked~label.sk-toggleable__label {background-color: #d4ebff;}#sk-container-id-1 div.sk-label input.sk-toggleable__control:checked~label.sk-toggleable__label {background-color: #d4ebff;}#sk-container-id-1 input.sk-hidden--visually {border: 0;clip: rect(1px 1px 1px 1px);clip: rect(1px, 1px, 1px, 1px);height: 1px;margin: -1px;overflow: hidden;padding: 0;position: absolute;width: 1px;}#sk-container-id-1 div.sk-estimator {font-family: monospace;background-color: #f0f8ff;border: 1px dotted black;border-radius: 0.25em;box-sizing: border-box;margin-bottom: 0.5em;}#sk-container-id-1 div.sk-estimator:hover {background-color: #d4ebff;}#sk-container-id-1 div.sk-parallel-item::after {content: \"\";width: 100%;border-bottom: 1px solid gray;flex-grow: 1;}#sk-container-id-1 div.sk-label:hover label.sk-toggleable__label {background-color: #d4ebff;}#sk-container-id-1 div.sk-serial::before {content: \"\";position: absolute;border-left: 1px solid gray;box-sizing: border-box;top: 0;bottom: 0;left: 50%;z-index: 0;}#sk-container-id-1 div.sk-serial {display: flex;flex-direction: column;align-items: center;background-color: white;padding-right: 0.2em;padding-left: 0.2em;position: relative;}#sk-container-id-1 div.sk-item {position: relative;z-index: 1;}#sk-container-id-1 div.sk-parallel {display: flex;align-items: stretch;justify-content: center;background-color: white;position: relative;}#sk-container-id-1 div.sk-item::before, #sk-container-id-1 div.sk-parallel-item::before {content: \"\";position: absolute;border-left: 1px solid gray;box-sizing: border-box;top: 0;bottom: 0;left: 50%;z-index: -1;}#sk-container-id-1 div.sk-parallel-item {display: flex;flex-direction: column;z-index: 1;position: relative;background-color: white;}#sk-container-id-1 div.sk-parallel-item:first-child::after {align-self: flex-end;width: 50%;}#sk-container-id-1 div.sk-parallel-item:last-child::after {align-self: flex-start;width: 50%;}#sk-container-id-1 div.sk-parallel-item:only-child::after {width: 0;}#sk-container-id-1 div.sk-dashed-wrapped {border: 1px dashed gray;margin: 0 0.4em 0.5em 0.4em;box-sizing: border-box;padding-bottom: 0.4em;background-color: white;}#sk-container-id-1 div.sk-label label {font-family: monospace;font-weight: bold;display: inline-block;line-height: 1.2em;}#sk-container-id-1 div.sk-label-container {text-align: center;}#sk-container-id-1 div.sk-container {/* jupyter's `normalize.less` sets `[hidden] { display: none; }` but bootstrap.min.css set `[hidden] { display: none !important; }` so we also need the `!important` here to be able to override the default hidden behavior on the sphinx rendered scikit-learn.org. See: https://github.com/scikit-learn/scikit-learn/issues/21755 */display: inline-block !important;position: relative;}#sk-container-id-1 div.sk-text-repr-fallback {display: none;}</style><div id=\"sk-container-id-1\" class=\"sk-top-container\"><div class=\"sk-text-repr-fallback\"><pre>LinearRegression()</pre><b>In a Jupyter environment, please rerun this cell to show the HTML representation or trust the notebook. <br />On GitHub, the HTML representation is unable to render, please try loading this page with nbviewer.org.</b></div><div class=\"sk-container\" hidden><div class=\"sk-item\"><div class=\"sk-estimator sk-toggleable\"><input class=\"sk-toggleable__control sk-hidden--visually\" id=\"sk-estimator-id-1\" type=\"checkbox\" checked><label for=\"sk-estimator-id-1\" class=\"sk-toggleable__label sk-toggleable__label-arrow\">LinearRegression</label><div class=\"sk-toggleable__content\"><pre>LinearRegression()</pre></div></div></div></div></div>"
      ],
      "text/plain": [
       "LinearRegression()"
      ]
     },
     "execution_count": 8,
     "metadata": {},
     "output_type": "execute_result"
    }
   ],
   "source": [
    "# Create and train the Linear Refression model\n",
    "lr=LinearRegression()\n",
    "lr.fit(x_train_scaled, y_train)"
   ]
  },
  {
   "cell_type": "code",
   "execution_count": 9,
   "id": "19966782",
   "metadata": {
    "execution": {
     "iopub.execute_input": "2024-10-02T08:26:34.683927Z",
     "iopub.status.busy": "2024-10-02T08:26:34.682897Z",
     "iopub.status.idle": "2024-10-02T08:26:34.699799Z",
     "shell.execute_reply": "2024-10-02T08:26:34.698777Z"
    },
    "papermill": {
     "duration": 0.031564,
     "end_time": "2024-10-02T08:26:34.703205",
     "exception": false,
     "start_time": "2024-10-02T08:26:34.671641",
     "status": "completed"
    },
    "tags": []
   },
   "outputs": [
    {
     "data": {
      "text/html": [
       "<style>#sk-container-id-2 {color: black;background-color: white;}#sk-container-id-2 pre{padding: 0;}#sk-container-id-2 div.sk-toggleable {background-color: white;}#sk-container-id-2 label.sk-toggleable__label {cursor: pointer;display: block;width: 100%;margin-bottom: 0;padding: 0.3em;box-sizing: border-box;text-align: center;}#sk-container-id-2 label.sk-toggleable__label-arrow:before {content: \"▸\";float: left;margin-right: 0.25em;color: #696969;}#sk-container-id-2 label.sk-toggleable__label-arrow:hover:before {color: black;}#sk-container-id-2 div.sk-estimator:hover label.sk-toggleable__label-arrow:before {color: black;}#sk-container-id-2 div.sk-toggleable__content {max-height: 0;max-width: 0;overflow: hidden;text-align: left;background-color: #f0f8ff;}#sk-container-id-2 div.sk-toggleable__content pre {margin: 0.2em;color: black;border-radius: 0.25em;background-color: #f0f8ff;}#sk-container-id-2 input.sk-toggleable__control:checked~div.sk-toggleable__content {max-height: 200px;max-width: 100%;overflow: auto;}#sk-container-id-2 input.sk-toggleable__control:checked~label.sk-toggleable__label-arrow:before {content: \"▾\";}#sk-container-id-2 div.sk-estimator input.sk-toggleable__control:checked~label.sk-toggleable__label {background-color: #d4ebff;}#sk-container-id-2 div.sk-label input.sk-toggleable__control:checked~label.sk-toggleable__label {background-color: #d4ebff;}#sk-container-id-2 input.sk-hidden--visually {border: 0;clip: rect(1px 1px 1px 1px);clip: rect(1px, 1px, 1px, 1px);height: 1px;margin: -1px;overflow: hidden;padding: 0;position: absolute;width: 1px;}#sk-container-id-2 div.sk-estimator {font-family: monospace;background-color: #f0f8ff;border: 1px dotted black;border-radius: 0.25em;box-sizing: border-box;margin-bottom: 0.5em;}#sk-container-id-2 div.sk-estimator:hover {background-color: #d4ebff;}#sk-container-id-2 div.sk-parallel-item::after {content: \"\";width: 100%;border-bottom: 1px solid gray;flex-grow: 1;}#sk-container-id-2 div.sk-label:hover label.sk-toggleable__label {background-color: #d4ebff;}#sk-container-id-2 div.sk-serial::before {content: \"\";position: absolute;border-left: 1px solid gray;box-sizing: border-box;top: 0;bottom: 0;left: 50%;z-index: 0;}#sk-container-id-2 div.sk-serial {display: flex;flex-direction: column;align-items: center;background-color: white;padding-right: 0.2em;padding-left: 0.2em;position: relative;}#sk-container-id-2 div.sk-item {position: relative;z-index: 1;}#sk-container-id-2 div.sk-parallel {display: flex;align-items: stretch;justify-content: center;background-color: white;position: relative;}#sk-container-id-2 div.sk-item::before, #sk-container-id-2 div.sk-parallel-item::before {content: \"\";position: absolute;border-left: 1px solid gray;box-sizing: border-box;top: 0;bottom: 0;left: 50%;z-index: -1;}#sk-container-id-2 div.sk-parallel-item {display: flex;flex-direction: column;z-index: 1;position: relative;background-color: white;}#sk-container-id-2 div.sk-parallel-item:first-child::after {align-self: flex-end;width: 50%;}#sk-container-id-2 div.sk-parallel-item:last-child::after {align-self: flex-start;width: 50%;}#sk-container-id-2 div.sk-parallel-item:only-child::after {width: 0;}#sk-container-id-2 div.sk-dashed-wrapped {border: 1px dashed gray;margin: 0 0.4em 0.5em 0.4em;box-sizing: border-box;padding-bottom: 0.4em;background-color: white;}#sk-container-id-2 div.sk-label label {font-family: monospace;font-weight: bold;display: inline-block;line-height: 1.2em;}#sk-container-id-2 div.sk-label-container {text-align: center;}#sk-container-id-2 div.sk-container {/* jupyter's `normalize.less` sets `[hidden] { display: none; }` but bootstrap.min.css set `[hidden] { display: none !important; }` so we also need the `!important` here to be able to override the default hidden behavior on the sphinx rendered scikit-learn.org. See: https://github.com/scikit-learn/scikit-learn/issues/21755 */display: inline-block !important;position: relative;}#sk-container-id-2 div.sk-text-repr-fallback {display: none;}</style><div id=\"sk-container-id-2\" class=\"sk-top-container\"><div class=\"sk-text-repr-fallback\"><pre>Ridge()</pre><b>In a Jupyter environment, please rerun this cell to show the HTML representation or trust the notebook. <br />On GitHub, the HTML representation is unable to render, please try loading this page with nbviewer.org.</b></div><div class=\"sk-container\" hidden><div class=\"sk-item\"><div class=\"sk-estimator sk-toggleable\"><input class=\"sk-toggleable__control sk-hidden--visually\" id=\"sk-estimator-id-2\" type=\"checkbox\" checked><label for=\"sk-estimator-id-2\" class=\"sk-toggleable__label sk-toggleable__label-arrow\">Ridge</label><div class=\"sk-toggleable__content\"><pre>Ridge()</pre></div></div></div></div></div>"
      ],
      "text/plain": [
       "Ridge()"
      ]
     },
     "execution_count": 9,
     "metadata": {},
     "output_type": "execute_result"
    }
   ],
   "source": [
    "# Create and train the Ridge Regression model\n",
    "rr = Ridge(alpha=1.0) \n",
    "rr.fit(x_train_scaled, y_train)"
   ]
  },
  {
   "cell_type": "markdown",
   "id": "d3362637",
   "metadata": {
    "papermill": {
     "duration": 0.015672,
     "end_time": "2024-10-02T08:26:34.735128",
     "exception": false,
     "start_time": "2024-10-02T08:26:34.719456",
     "status": "completed"
    },
    "tags": []
   },
   "source": [
    "# 3.Model Evaluation\n",
    "\n",
    "It's crucial to evaluate its performance using various metrics and techniques:\n",
    "\n",
    "### R-squared(Coefficient of Determination)\n",
    "\n",
    "R-squared is the proportion of the variance in target variables predicateable from the input features. It lies in between 0 and 1, which 1 indicating a perfect fit.\n",
    "\n",
    "### Mean Squared Error\n",
    "\n",
    "MSE measures the average of squared differences between the actual and the predicted values. The lower the value of MSE, the better the performance of the model.\n",
    "\n",
    "### Mean Absolute Error\n",
    "\n",
    "MAE is the average absolute difference between prediction and actual values. MAE is less sensitive to outliers as compared to MSE.\n",
    "\n",
    "### Cross-Validation\n",
    "\n",
    "Cross-validation techniques, such as K-Fold Cross Validation, may give a much better estimate of a model if the data are split into multiple subsets and the model is trained and tested in turn on different combinations.\n",
    "\n",
    "\n",
    "## 3.1 Evaluate the Lienar Regression model"
   ]
  },
  {
   "cell_type": "code",
   "execution_count": 10,
   "id": "8d444608",
   "metadata": {
    "execution": {
     "iopub.execute_input": "2024-10-02T08:26:34.770082Z",
     "iopub.status.busy": "2024-10-02T08:26:34.768794Z",
     "iopub.status.idle": "2024-10-02T08:26:34.775669Z",
     "shell.execute_reply": "2024-10-02T08:26:34.774570Z"
    },
    "papermill": {
     "duration": 0.030009,
     "end_time": "2024-10-02T08:26:34.781747",
     "exception": false,
     "start_time": "2024-10-02T08:26:34.751738",
     "status": "completed"
    },
    "tags": []
   },
   "outputs": [],
   "source": [
    "from sklearn.metrics import r2_score, mean_squared_error, mean_absolute_error\n",
    "from sklearn.model_selection import cross_val_score\n",
    "\n",
    "# evaluate the Linear Regression Model\n",
    "y_pred_lin = lr.predict(x_test_scaled)"
   ]
  },
  {
   "cell_type": "code",
   "execution_count": 11,
   "id": "e61452e7",
   "metadata": {
    "execution": {
     "iopub.execute_input": "2024-10-02T08:26:34.819201Z",
     "iopub.status.busy": "2024-10-02T08:26:34.818674Z",
     "iopub.status.idle": "2024-10-02T08:26:34.826662Z",
     "shell.execute_reply": "2024-10-02T08:26:34.825531Z"
    },
    "papermill": {
     "duration": 0.033487,
     "end_time": "2024-10-02T08:26:34.834605",
     "exception": false,
     "start_time": "2024-10-02T08:26:34.801118",
     "status": "completed"
    },
    "tags": []
   },
   "outputs": [
    {
     "name": "stdout",
     "output_type": "stream",
     "text": [
      "R-squared: 0.58\n"
     ]
    }
   ],
   "source": [
    "r2_lin = r2_score(y_test, y_pred_lin)\n",
    "print(f\"R-squared: {r2_lin:.2f}\")"
   ]
  },
  {
   "cell_type": "code",
   "execution_count": 12,
   "id": "0536a9f0",
   "metadata": {
    "execution": {
     "iopub.execute_input": "2024-10-02T08:26:34.868727Z",
     "iopub.status.busy": "2024-10-02T08:26:34.868196Z",
     "iopub.status.idle": "2024-10-02T08:26:34.876475Z",
     "shell.execute_reply": "2024-10-02T08:26:34.875361Z"
    },
    "papermill": {
     "duration": 0.033419,
     "end_time": "2024-10-02T08:26:34.884097",
     "exception": false,
     "start_time": "2024-10-02T08:26:34.850678",
     "status": "completed"
    },
    "tags": []
   },
   "outputs": [
    {
     "name": "stdout",
     "output_type": "stream",
     "text": [
      "Mean Squared Error: 0.56\n"
     ]
    }
   ],
   "source": [
    "mse_lin = mean_squared_error(y_test, y_pred_lin)\n",
    "print(f\"Mean Squared Error: {mse_lin:.2f}\")"
   ]
  },
  {
   "cell_type": "code",
   "execution_count": 13,
   "id": "dbad9f80",
   "metadata": {
    "execution": {
     "iopub.execute_input": "2024-10-02T08:26:34.909010Z",
     "iopub.status.busy": "2024-10-02T08:26:34.908598Z",
     "iopub.status.idle": "2024-10-02T08:26:34.915693Z",
     "shell.execute_reply": "2024-10-02T08:26:34.914560Z"
    },
    "papermill": {
     "duration": 0.020157,
     "end_time": "2024-10-02T08:26:34.917938",
     "exception": false,
     "start_time": "2024-10-02T08:26:34.897781",
     "status": "completed"
    },
    "tags": []
   },
   "outputs": [
    {
     "name": "stdout",
     "output_type": "stream",
     "text": [
      "Mean Absolute Error: 0.53\n"
     ]
    }
   ],
   "source": [
    "mae_lin = mean_absolute_error(y_test, y_pred_lin)\n",
    "print(f\"Mean Absolute Error: {mae_lin:.2f}\")"
   ]
  },
  {
   "cell_type": "markdown",
   "id": "10b41e06",
   "metadata": {
    "papermill": {
     "duration": 0.009572,
     "end_time": "2024-10-02T08:26:34.937430",
     "exception": false,
     "start_time": "2024-10-02T08:26:34.927858",
     "status": "completed"
    },
    "tags": []
   },
   "source": [
    "## 3.2 Evaluate the Ridge Regression model"
   ]
  },
  {
   "cell_type": "code",
   "execution_count": 14,
   "id": "8cb49943",
   "metadata": {
    "execution": {
     "iopub.execute_input": "2024-10-02T08:26:34.959007Z",
     "iopub.status.busy": "2024-10-02T08:26:34.958096Z",
     "iopub.status.idle": "2024-10-02T08:26:34.963688Z",
     "shell.execute_reply": "2024-10-02T08:26:34.962577Z"
    },
    "papermill": {
     "duration": 0.022296,
     "end_time": "2024-10-02T08:26:34.969411",
     "exception": false,
     "start_time": "2024-10-02T08:26:34.947115",
     "status": "completed"
    },
    "tags": []
   },
   "outputs": [],
   "source": [
    "y_pred_ridge=rr.predict(x_test_scaled)"
   ]
  },
  {
   "cell_type": "code",
   "execution_count": 15,
   "id": "12a40304",
   "metadata": {
    "execution": {
     "iopub.execute_input": "2024-10-02T08:26:35.005058Z",
     "iopub.status.busy": "2024-10-02T08:26:35.003677Z",
     "iopub.status.idle": "2024-10-02T08:26:35.011879Z",
     "shell.execute_reply": "2024-10-02T08:26:35.010732Z"
    },
    "papermill": {
     "duration": 0.029772,
     "end_time": "2024-10-02T08:26:35.015422",
     "exception": false,
     "start_time": "2024-10-02T08:26:34.985650",
     "status": "completed"
    },
    "tags": []
   },
   "outputs": [
    {
     "name": "stdout",
     "output_type": "stream",
     "text": [
      "R-squared: 0.58\n"
     ]
    }
   ],
   "source": [
    "r2_ridge=r2_score(y_test, y_pred_ridge)\n",
    "print(f\"R-squared: {r2_ridge:.2f}\")"
   ]
  },
  {
   "cell_type": "code",
   "execution_count": 16,
   "id": "4d263603",
   "metadata": {
    "execution": {
     "iopub.execute_input": "2024-10-02T08:26:35.051153Z",
     "iopub.status.busy": "2024-10-02T08:26:35.050605Z",
     "iopub.status.idle": "2024-10-02T08:26:35.058149Z",
     "shell.execute_reply": "2024-10-02T08:26:35.057045Z"
    },
    "papermill": {
     "duration": 0.030028,
     "end_time": "2024-10-02T08:26:35.062468",
     "exception": false,
     "start_time": "2024-10-02T08:26:35.032440",
     "status": "completed"
    },
    "tags": []
   },
   "outputs": [
    {
     "name": "stdout",
     "output_type": "stream",
     "text": [
      "Mean Squared Error: 0.56\n"
     ]
    }
   ],
   "source": [
    "mse_ridge = mean_squared_error(y_test, y_pred_ridge)\n",
    "print(f\"Mean Squared Error: {mse_ridge:.2f}\")"
   ]
  },
  {
   "cell_type": "code",
   "execution_count": 17,
   "id": "a76b9399",
   "metadata": {
    "execution": {
     "iopub.execute_input": "2024-10-02T08:26:35.092066Z",
     "iopub.status.busy": "2024-10-02T08:26:35.091657Z",
     "iopub.status.idle": "2024-10-02T08:26:35.098847Z",
     "shell.execute_reply": "2024-10-02T08:26:35.097896Z"
    },
    "papermill": {
     "duration": 0.022139,
     "end_time": "2024-10-02T08:26:35.101074",
     "exception": false,
     "start_time": "2024-10-02T08:26:35.078935",
     "status": "completed"
    },
    "tags": []
   },
   "outputs": [
    {
     "name": "stdout",
     "output_type": "stream",
     "text": [
      "Mean Absolute Error: 0.53\n"
     ]
    }
   ],
   "source": [
    "mae_ridge = mean_absolute_error(y_test, y_pred_ridge)\n",
    "print(f\"Mean Absolute Error: {mae_ridge:.2f}\")"
   ]
  },
  {
   "cell_type": "markdown",
   "id": "8967e6c0",
   "metadata": {
    "papermill": {
     "duration": 0.009766,
     "end_time": "2024-10-02T08:26:35.120955",
     "exception": false,
     "start_time": "2024-10-02T08:26:35.111189",
     "status": "completed"
    },
    "tags": []
   },
   "source": [
    "## 3.3 Cross-validation"
   ]
  },
  {
   "cell_type": "code",
   "execution_count": 18,
   "id": "4a93ebcd",
   "metadata": {
    "execution": {
     "iopub.execute_input": "2024-10-02T08:26:35.142579Z",
     "iopub.status.busy": "2024-10-02T08:26:35.142153Z",
     "iopub.status.idle": "2024-10-02T08:26:35.195243Z",
     "shell.execute_reply": "2024-10-02T08:26:35.194124Z"
    },
    "papermill": {
     "duration": 0.067094,
     "end_time": "2024-10-02T08:26:35.198120",
     "exception": false,
     "start_time": "2024-10-02T08:26:35.131026",
     "status": "completed"
    },
    "tags": []
   },
   "outputs": [
    {
     "name": "stdout",
     "output_type": "stream",
     "text": [
      "\n",
      "Cross-Validation Scores (Linear Regression): [0.62011512 0.61298876 0.6134416  0.61069973 0.60017477]\n"
     ]
    }
   ],
   "source": [
    "cv_scores_lin = cross_val_score(lr, x_train_scaled, y_train, cv=5)\n",
    "print(\"\\nCross-Validation Scores (Linear Regression):\", cv_scores_lin)"
   ]
  },
  {
   "cell_type": "code",
   "execution_count": 19,
   "id": "9568db54",
   "metadata": {
    "execution": {
     "iopub.execute_input": "2024-10-02T08:26:35.257552Z",
     "iopub.status.busy": "2024-10-02T08:26:35.256892Z",
     "iopub.status.idle": "2024-10-02T08:26:35.317614Z",
     "shell.execute_reply": "2024-10-02T08:26:35.316526Z"
    },
    "papermill": {
     "duration": 0.105562,
     "end_time": "2024-10-02T08:26:35.320786",
     "exception": false,
     "start_time": "2024-10-02T08:26:35.215224",
     "status": "completed"
    },
    "tags": []
   },
   "outputs": [
    {
     "name": "stdout",
     "output_type": "stream",
     "text": [
      "Cross-Validation Scores (Ridge Regression): [0.62010998 0.61298705 0.61343295 0.61070059 0.60018886]\n"
     ]
    }
   ],
   "source": [
    "cv_scores_ridge=cross_val_score(rr, x_train_scaled, y_train, cv=5)\n",
    "print(\"Cross-Validation Scores (Ridge Regression):\", cv_scores_ridge)"
   ]
  },
  {
   "cell_type": "markdown",
   "id": "5254074d",
   "metadata": {
    "papermill": {
     "duration": 0.016457,
     "end_time": "2024-10-02T08:26:35.354399",
     "exception": false,
     "start_time": "2024-10-02T08:26:35.337942",
     "status": "completed"
    },
    "tags": []
   },
   "source": [
    "# 4.Handling Overfitting and Underfitting\n",
    "\n",
    "**Overfitting** occurs when a model learns the training data too well and fails to generalize to new, unseen data.\n",
    "\n",
    "**Underfitting** happends when a model is too simple to capture the underlying patterns in the data."
   ]
  },
  {
   "cell_type": "code",
   "execution_count": 20,
   "id": "5138194d",
   "metadata": {
    "execution": {
     "iopub.execute_input": "2024-10-02T08:26:35.391468Z",
     "iopub.status.busy": "2024-10-02T08:26:35.390943Z",
     "iopub.status.idle": "2024-10-02T08:26:35.404423Z",
     "shell.execute_reply": "2024-10-02T08:26:35.403230Z"
    },
    "papermill": {
     "duration": 0.03569,
     "end_time": "2024-10-02T08:26:35.407436",
     "exception": false,
     "start_time": "2024-10-02T08:26:35.371746",
     "status": "completed"
    },
    "tags": []
   },
   "outputs": [
    {
     "data": {
      "text/html": [
       "<style>#sk-container-id-3 {color: black;background-color: white;}#sk-container-id-3 pre{padding: 0;}#sk-container-id-3 div.sk-toggleable {background-color: white;}#sk-container-id-3 label.sk-toggleable__label {cursor: pointer;display: block;width: 100%;margin-bottom: 0;padding: 0.3em;box-sizing: border-box;text-align: center;}#sk-container-id-3 label.sk-toggleable__label-arrow:before {content: \"▸\";float: left;margin-right: 0.25em;color: #696969;}#sk-container-id-3 label.sk-toggleable__label-arrow:hover:before {color: black;}#sk-container-id-3 div.sk-estimator:hover label.sk-toggleable__label-arrow:before {color: black;}#sk-container-id-3 div.sk-toggleable__content {max-height: 0;max-width: 0;overflow: hidden;text-align: left;background-color: #f0f8ff;}#sk-container-id-3 div.sk-toggleable__content pre {margin: 0.2em;color: black;border-radius: 0.25em;background-color: #f0f8ff;}#sk-container-id-3 input.sk-toggleable__control:checked~div.sk-toggleable__content {max-height: 200px;max-width: 100%;overflow: auto;}#sk-container-id-3 input.sk-toggleable__control:checked~label.sk-toggleable__label-arrow:before {content: \"▾\";}#sk-container-id-3 div.sk-estimator input.sk-toggleable__control:checked~label.sk-toggleable__label {background-color: #d4ebff;}#sk-container-id-3 div.sk-label input.sk-toggleable__control:checked~label.sk-toggleable__label {background-color: #d4ebff;}#sk-container-id-3 input.sk-hidden--visually {border: 0;clip: rect(1px 1px 1px 1px);clip: rect(1px, 1px, 1px, 1px);height: 1px;margin: -1px;overflow: hidden;padding: 0;position: absolute;width: 1px;}#sk-container-id-3 div.sk-estimator {font-family: monospace;background-color: #f0f8ff;border: 1px dotted black;border-radius: 0.25em;box-sizing: border-box;margin-bottom: 0.5em;}#sk-container-id-3 div.sk-estimator:hover {background-color: #d4ebff;}#sk-container-id-3 div.sk-parallel-item::after {content: \"\";width: 100%;border-bottom: 1px solid gray;flex-grow: 1;}#sk-container-id-3 div.sk-label:hover label.sk-toggleable__label {background-color: #d4ebff;}#sk-container-id-3 div.sk-serial::before {content: \"\";position: absolute;border-left: 1px solid gray;box-sizing: border-box;top: 0;bottom: 0;left: 50%;z-index: 0;}#sk-container-id-3 div.sk-serial {display: flex;flex-direction: column;align-items: center;background-color: white;padding-right: 0.2em;padding-left: 0.2em;position: relative;}#sk-container-id-3 div.sk-item {position: relative;z-index: 1;}#sk-container-id-3 div.sk-parallel {display: flex;align-items: stretch;justify-content: center;background-color: white;position: relative;}#sk-container-id-3 div.sk-item::before, #sk-container-id-3 div.sk-parallel-item::before {content: \"\";position: absolute;border-left: 1px solid gray;box-sizing: border-box;top: 0;bottom: 0;left: 50%;z-index: -1;}#sk-container-id-3 div.sk-parallel-item {display: flex;flex-direction: column;z-index: 1;position: relative;background-color: white;}#sk-container-id-3 div.sk-parallel-item:first-child::after {align-self: flex-end;width: 50%;}#sk-container-id-3 div.sk-parallel-item:last-child::after {align-self: flex-start;width: 50%;}#sk-container-id-3 div.sk-parallel-item:only-child::after {width: 0;}#sk-container-id-3 div.sk-dashed-wrapped {border: 1px dashed gray;margin: 0 0.4em 0.5em 0.4em;box-sizing: border-box;padding-bottom: 0.4em;background-color: white;}#sk-container-id-3 div.sk-label label {font-family: monospace;font-weight: bold;display: inline-block;line-height: 1.2em;}#sk-container-id-3 div.sk-label-container {text-align: center;}#sk-container-id-3 div.sk-container {/* jupyter's `normalize.less` sets `[hidden] { display: none; }` but bootstrap.min.css set `[hidden] { display: none !important; }` so we also need the `!important` here to be able to override the default hidden behavior on the sphinx rendered scikit-learn.org. See: https://github.com/scikit-learn/scikit-learn/issues/21755 */display: inline-block !important;position: relative;}#sk-container-id-3 div.sk-text-repr-fallback {display: none;}</style><div id=\"sk-container-id-3\" class=\"sk-top-container\"><div class=\"sk-text-repr-fallback\"><pre>Ridge(alpha=0.5)</pre><b>In a Jupyter environment, please rerun this cell to show the HTML representation or trust the notebook. <br />On GitHub, the HTML representation is unable to render, please try loading this page with nbviewer.org.</b></div><div class=\"sk-container\" hidden><div class=\"sk-item\"><div class=\"sk-estimator sk-toggleable\"><input class=\"sk-toggleable__control sk-hidden--visually\" id=\"sk-estimator-id-3\" type=\"checkbox\" checked><label for=\"sk-estimator-id-3\" class=\"sk-toggleable__label sk-toggleable__label-arrow\">Ridge</label><div class=\"sk-toggleable__content\"><pre>Ridge(alpha=0.5)</pre></div></div></div></div></div>"
      ],
      "text/plain": [
       "Ridge(alpha=0.5)"
      ]
     },
     "execution_count": 20,
     "metadata": {},
     "output_type": "execute_result"
    }
   ],
   "source": [
    "# Adjust the regularization parameter alpha to prevent overfitting\n",
    "ridge_reg_alpha = Ridge(alpha=0.5) \n",
    "ridge_reg_alpha.fit(x_train_scaled, y_train)"
   ]
  },
  {
   "cell_type": "code",
   "execution_count": 21,
   "id": "2e59cb7f",
   "metadata": {
    "execution": {
     "iopub.execute_input": "2024-10-02T08:26:35.443121Z",
     "iopub.status.busy": "2024-10-02T08:26:35.442220Z",
     "iopub.status.idle": "2024-10-02T08:26:35.450758Z",
     "shell.execute_reply": "2024-10-02T08:26:35.449611Z"
    },
    "papermill": {
     "duration": 0.029026,
     "end_time": "2024-10-02T08:26:35.453827",
     "exception": false,
     "start_time": "2024-10-02T08:26:35.424801",
     "status": "completed"
    },
    "tags": []
   },
   "outputs": [],
   "source": [
    "# Evaluate the model with adjusted alpha\n",
    "y_pred_ridge_alpha = ridge_reg_alpha.predict(x_test_scaled)"
   ]
  },
  {
   "cell_type": "code",
   "execution_count": 22,
   "id": "be956b8e",
   "metadata": {
    "execution": {
     "iopub.execute_input": "2024-10-02T08:26:35.491399Z",
     "iopub.status.busy": "2024-10-02T08:26:35.490868Z",
     "iopub.status.idle": "2024-10-02T08:26:35.499138Z",
     "shell.execute_reply": "2024-10-02T08:26:35.497996Z"
    },
    "papermill": {
     "duration": 0.030011,
     "end_time": "2024-10-02T08:26:35.501991",
     "exception": false,
     "start_time": "2024-10-02T08:26:35.471980",
     "status": "completed"
    },
    "tags": []
   },
   "outputs": [
    {
     "name": "stdout",
     "output_type": "stream",
     "text": [
      "R-squared: 0.58\n"
     ]
    }
   ],
   "source": [
    "r2_ridge_alpha = r2_score(y_test, y_pred_ridge_alpha)\n",
    "print(f\"R-squared: {r2_ridge_alpha:.2f}\")"
   ]
  },
  {
   "cell_type": "code",
   "execution_count": 23,
   "id": "ab70a796",
   "metadata": {
    "execution": {
     "iopub.execute_input": "2024-10-02T08:26:35.543348Z",
     "iopub.status.busy": "2024-10-02T08:26:35.542755Z",
     "iopub.status.idle": "2024-10-02T08:26:35.550743Z",
     "shell.execute_reply": "2024-10-02T08:26:35.549528Z"
    },
    "papermill": {
     "duration": 0.035744,
     "end_time": "2024-10-02T08:26:35.555328",
     "exception": false,
     "start_time": "2024-10-02T08:26:35.519584",
     "status": "completed"
    },
    "tags": []
   },
   "outputs": [
    {
     "name": "stdout",
     "output_type": "stream",
     "text": [
      "Mean Squared Error: 0.56\n"
     ]
    }
   ],
   "source": [
    "mse_ridge_alpha = mean_squared_error(y_test, y_pred_ridge_alpha)\n",
    "print(f\"Mean Squared Error: {mse_ridge_alpha:.2f}\")"
   ]
  },
  {
   "cell_type": "code",
   "execution_count": 24,
   "id": "59c3d14c",
   "metadata": {
    "execution": {
     "iopub.execute_input": "2024-10-02T08:26:35.582777Z",
     "iopub.status.busy": "2024-10-02T08:26:35.582364Z",
     "iopub.status.idle": "2024-10-02T08:26:35.588409Z",
     "shell.execute_reply": "2024-10-02T08:26:35.587370Z"
    },
    "papermill": {
     "duration": 0.019789,
     "end_time": "2024-10-02T08:26:35.590582",
     "exception": false,
     "start_time": "2024-10-02T08:26:35.570793",
     "status": "completed"
    },
    "tags": []
   },
   "outputs": [
    {
     "name": "stdout",
     "output_type": "stream",
     "text": [
      "Mean Absolute Error: 0.53\n"
     ]
    }
   ],
   "source": [
    "mae_ridge_alpha = mean_absolute_error(y_test, y_pred_ridge_alpha)\n",
    "print(f\"Mean Absolute Error: {mae_ridge_alpha:.2f}\")"
   ]
  },
  {
   "cell_type": "markdown",
   "id": "3a3fe901",
   "metadata": {
    "papermill": {
     "duration": 0.010201,
     "end_time": "2024-10-02T08:26:35.611390",
     "exception": false,
     "start_time": "2024-10-02T08:26:35.601189",
     "status": "completed"
    },
    "tags": []
   },
   "source": [
    "# 5.Polynomial Regression\n",
    "\n",
    "It's a form of linear regression with polynomial terms to capture the non-linear relationship between the features and the target variable."
   ]
  },
  {
   "cell_type": "code",
   "execution_count": 25,
   "id": "2da372ed",
   "metadata": {
    "execution": {
     "iopub.execute_input": "2024-10-02T08:26:35.634278Z",
     "iopub.status.busy": "2024-10-02T08:26:35.633866Z",
     "iopub.status.idle": "2024-10-02T08:26:35.651495Z",
     "shell.execute_reply": "2024-10-02T08:26:35.650633Z"
    },
    "papermill": {
     "duration": 0.032029,
     "end_time": "2024-10-02T08:26:35.653991",
     "exception": false,
     "start_time": "2024-10-02T08:26:35.621962",
     "status": "completed"
    },
    "tags": []
   },
   "outputs": [],
   "source": [
    "from sklearn.preprocessing import PolynomialFeatures\n",
    "\n",
    "# Create polynomial features\n",
    "poly = PolynomialFeatures(degree=2)  # Adjust the degree as needed\n",
    "X_train_poly = poly.fit_transform(x_train_scaled)\n",
    "X_test_poly = poly.transform(x_test_scaled)\n",
    "\n"
   ]
  },
  {
   "cell_type": "code",
   "execution_count": 26,
   "id": "8bb614e4",
   "metadata": {
    "execution": {
     "iopub.execute_input": "2024-10-02T08:26:35.676602Z",
     "iopub.status.busy": "2024-10-02T08:26:35.676170Z",
     "iopub.status.idle": "2024-10-02T08:26:35.726948Z",
     "shell.execute_reply": "2024-10-02T08:26:35.725819Z"
    },
    "papermill": {
     "duration": 0.065201,
     "end_time": "2024-10-02T08:26:35.729742",
     "exception": false,
     "start_time": "2024-10-02T08:26:35.664541",
     "status": "completed"
    },
    "tags": []
   },
   "outputs": [
    {
     "data": {
      "text/html": [
       "<style>#sk-container-id-4 {color: black;background-color: white;}#sk-container-id-4 pre{padding: 0;}#sk-container-id-4 div.sk-toggleable {background-color: white;}#sk-container-id-4 label.sk-toggleable__label {cursor: pointer;display: block;width: 100%;margin-bottom: 0;padding: 0.3em;box-sizing: border-box;text-align: center;}#sk-container-id-4 label.sk-toggleable__label-arrow:before {content: \"▸\";float: left;margin-right: 0.25em;color: #696969;}#sk-container-id-4 label.sk-toggleable__label-arrow:hover:before {color: black;}#sk-container-id-4 div.sk-estimator:hover label.sk-toggleable__label-arrow:before {color: black;}#sk-container-id-4 div.sk-toggleable__content {max-height: 0;max-width: 0;overflow: hidden;text-align: left;background-color: #f0f8ff;}#sk-container-id-4 div.sk-toggleable__content pre {margin: 0.2em;color: black;border-radius: 0.25em;background-color: #f0f8ff;}#sk-container-id-4 input.sk-toggleable__control:checked~div.sk-toggleable__content {max-height: 200px;max-width: 100%;overflow: auto;}#sk-container-id-4 input.sk-toggleable__control:checked~label.sk-toggleable__label-arrow:before {content: \"▾\";}#sk-container-id-4 div.sk-estimator input.sk-toggleable__control:checked~label.sk-toggleable__label {background-color: #d4ebff;}#sk-container-id-4 div.sk-label input.sk-toggleable__control:checked~label.sk-toggleable__label {background-color: #d4ebff;}#sk-container-id-4 input.sk-hidden--visually {border: 0;clip: rect(1px 1px 1px 1px);clip: rect(1px, 1px, 1px, 1px);height: 1px;margin: -1px;overflow: hidden;padding: 0;position: absolute;width: 1px;}#sk-container-id-4 div.sk-estimator {font-family: monospace;background-color: #f0f8ff;border: 1px dotted black;border-radius: 0.25em;box-sizing: border-box;margin-bottom: 0.5em;}#sk-container-id-4 div.sk-estimator:hover {background-color: #d4ebff;}#sk-container-id-4 div.sk-parallel-item::after {content: \"\";width: 100%;border-bottom: 1px solid gray;flex-grow: 1;}#sk-container-id-4 div.sk-label:hover label.sk-toggleable__label {background-color: #d4ebff;}#sk-container-id-4 div.sk-serial::before {content: \"\";position: absolute;border-left: 1px solid gray;box-sizing: border-box;top: 0;bottom: 0;left: 50%;z-index: 0;}#sk-container-id-4 div.sk-serial {display: flex;flex-direction: column;align-items: center;background-color: white;padding-right: 0.2em;padding-left: 0.2em;position: relative;}#sk-container-id-4 div.sk-item {position: relative;z-index: 1;}#sk-container-id-4 div.sk-parallel {display: flex;align-items: stretch;justify-content: center;background-color: white;position: relative;}#sk-container-id-4 div.sk-item::before, #sk-container-id-4 div.sk-parallel-item::before {content: \"\";position: absolute;border-left: 1px solid gray;box-sizing: border-box;top: 0;bottom: 0;left: 50%;z-index: -1;}#sk-container-id-4 div.sk-parallel-item {display: flex;flex-direction: column;z-index: 1;position: relative;background-color: white;}#sk-container-id-4 div.sk-parallel-item:first-child::after {align-self: flex-end;width: 50%;}#sk-container-id-4 div.sk-parallel-item:last-child::after {align-self: flex-start;width: 50%;}#sk-container-id-4 div.sk-parallel-item:only-child::after {width: 0;}#sk-container-id-4 div.sk-dashed-wrapped {border: 1px dashed gray;margin: 0 0.4em 0.5em 0.4em;box-sizing: border-box;padding-bottom: 0.4em;background-color: white;}#sk-container-id-4 div.sk-label label {font-family: monospace;font-weight: bold;display: inline-block;line-height: 1.2em;}#sk-container-id-4 div.sk-label-container {text-align: center;}#sk-container-id-4 div.sk-container {/* jupyter's `normalize.less` sets `[hidden] { display: none; }` but bootstrap.min.css set `[hidden] { display: none !important; }` so we also need the `!important` here to be able to override the default hidden behavior on the sphinx rendered scikit-learn.org. See: https://github.com/scikit-learn/scikit-learn/issues/21755 */display: inline-block !important;position: relative;}#sk-container-id-4 div.sk-text-repr-fallback {display: none;}</style><div id=\"sk-container-id-4\" class=\"sk-top-container\"><div class=\"sk-text-repr-fallback\"><pre>LinearRegression()</pre><b>In a Jupyter environment, please rerun this cell to show the HTML representation or trust the notebook. <br />On GitHub, the HTML representation is unable to render, please try loading this page with nbviewer.org.</b></div><div class=\"sk-container\" hidden><div class=\"sk-item\"><div class=\"sk-estimator sk-toggleable\"><input class=\"sk-toggleable__control sk-hidden--visually\" id=\"sk-estimator-id-4\" type=\"checkbox\" checked><label for=\"sk-estimator-id-4\" class=\"sk-toggleable__label sk-toggleable__label-arrow\">LinearRegression</label><div class=\"sk-toggleable__content\"><pre>LinearRegression()</pre></div></div></div></div></div>"
      ],
      "text/plain": [
       "LinearRegression()"
      ]
     },
     "execution_count": 26,
     "metadata": {},
     "output_type": "execute_result"
    }
   ],
   "source": [
    "# Train the polynomial regression model\n",
    "poly_reg = LinearRegression()\n",
    "poly_reg.fit(X_train_poly, y_train)"
   ]
  },
  {
   "cell_type": "code",
   "execution_count": 27,
   "id": "1e0a73f4",
   "metadata": {
    "execution": {
     "iopub.execute_input": "2024-10-02T08:26:35.763734Z",
     "iopub.status.busy": "2024-10-02T08:26:35.763127Z",
     "iopub.status.idle": "2024-10-02T08:26:35.769281Z",
     "shell.execute_reply": "2024-10-02T08:26:35.768093Z"
    },
    "papermill": {
     "duration": 0.031802,
     "end_time": "2024-10-02T08:26:35.777923",
     "exception": false,
     "start_time": "2024-10-02T08:26:35.746121",
     "status": "completed"
    },
    "tags": []
   },
   "outputs": [],
   "source": [
    "# Evaluate the polynomial regression model\n",
    "y_pred_poly = poly_reg.predict(X_test_poly)"
   ]
  },
  {
   "cell_type": "code",
   "execution_count": 28,
   "id": "b4ccc5ed",
   "metadata": {
    "execution": {
     "iopub.execute_input": "2024-10-02T08:26:35.845629Z",
     "iopub.status.busy": "2024-10-02T08:26:35.845072Z",
     "iopub.status.idle": "2024-10-02T08:26:35.852781Z",
     "shell.execute_reply": "2024-10-02T08:26:35.851658Z"
    },
    "papermill": {
     "duration": 0.042719,
     "end_time": "2024-10-02T08:26:35.856797",
     "exception": false,
     "start_time": "2024-10-02T08:26:35.814078",
     "status": "completed"
    },
    "tags": []
   },
   "outputs": [
    {
     "name": "stdout",
     "output_type": "stream",
     "text": [
      "R-squared: 0.65\n"
     ]
    }
   ],
   "source": [
    "r2_poly = r2_score(y_test, y_pred_poly)\n",
    "print(f\"R-squared: {r2_poly:.2f}\")"
   ]
  },
  {
   "cell_type": "code",
   "execution_count": 29,
   "id": "fce4ff20",
   "metadata": {
    "execution": {
     "iopub.execute_input": "2024-10-02T08:26:35.892959Z",
     "iopub.status.busy": "2024-10-02T08:26:35.891830Z",
     "iopub.status.idle": "2024-10-02T08:26:35.899217Z",
     "shell.execute_reply": "2024-10-02T08:26:35.898274Z"
    },
    "papermill": {
     "duration": 0.02685,
     "end_time": "2024-10-02T08:26:35.901390",
     "exception": false,
     "start_time": "2024-10-02T08:26:35.874540",
     "status": "completed"
    },
    "tags": []
   },
   "outputs": [
    {
     "name": "stdout",
     "output_type": "stream",
     "text": [
      "Mean Squared Error: 0.46\n"
     ]
    }
   ],
   "source": [
    "mse_poly = mean_squared_error(y_test, y_pred_poly)\n",
    "print(f\"Mean Squared Error: {mse_poly:.2f}\")"
   ]
  },
  {
   "cell_type": "code",
   "execution_count": 30,
   "id": "4fd57847",
   "metadata": {
    "execution": {
     "iopub.execute_input": "2024-10-02T08:26:35.925293Z",
     "iopub.status.busy": "2024-10-02T08:26:35.924283Z",
     "iopub.status.idle": "2024-10-02T08:26:35.931631Z",
     "shell.execute_reply": "2024-10-02T08:26:35.930613Z"
    },
    "papermill": {
     "duration": 0.021468,
     "end_time": "2024-10-02T08:26:35.933715",
     "exception": false,
     "start_time": "2024-10-02T08:26:35.912247",
     "status": "completed"
    },
    "tags": []
   },
   "outputs": [
    {
     "name": "stdout",
     "output_type": "stream",
     "text": [
      "Mean Absolute Error: 0.47\n"
     ]
    }
   ],
   "source": [
    "mae_poly = mean_absolute_error(y_test, y_pred_poly)\n",
    "print(f\"Mean Absolute Error: {mae_poly:.2f}\")"
   ]
  },
  {
   "cell_type": "markdown",
   "id": "1505d3e0",
   "metadata": {
    "papermill": {
     "duration": 0.01075,
     "end_time": "2024-10-02T08:26:35.955936",
     "exception": false,
     "start_time": "2024-10-02T08:26:35.945186",
     "status": "completed"
    },
    "tags": []
   },
   "source": [
    "# 6.Regulatization Techniques\n",
    "\n",
    "Regulation is a technique used to prevent overfitting by adding a penalty term to the cost function.\n",
    "\n",
    "\n",
    "### Ridge Regression\n",
    "\n",
    "Adds an L2 penalty term to the cost function. It shrinks the coefficients of less important features toward zero.\n",
    "\n",
    "\n",
    "### Lasso Regression\n",
    "\n",
    "Uses an L1 penalty term, that can cause sparse models where some coefficients are actually zero, effective3ly performing feature selection."
   ]
  },
  {
   "cell_type": "code",
   "execution_count": 31,
   "id": "f2260e73",
   "metadata": {
    "execution": {
     "iopub.execute_input": "2024-10-02T08:26:35.979908Z",
     "iopub.status.busy": "2024-10-02T08:26:35.979092Z",
     "iopub.status.idle": "2024-10-02T08:26:35.984072Z",
     "shell.execute_reply": "2024-10-02T08:26:35.983006Z"
    },
    "papermill": {
     "duration": 0.019532,
     "end_time": "2024-10-02T08:26:35.986334",
     "exception": false,
     "start_time": "2024-10-02T08:26:35.966802",
     "status": "completed"
    },
    "tags": []
   },
   "outputs": [],
   "source": [
    "from sklearn.linear_model import Lasso\n",
    "\n",
    "# Train the Lasso Regression model\n",
    "lasso_reg = Lasso(alpha=0.1) "
   ]
  },
  {
   "cell_type": "code",
   "execution_count": 32,
   "id": "c9a0903d",
   "metadata": {
    "execution": {
     "iopub.execute_input": "2024-10-02T08:26:36.010292Z",
     "iopub.status.busy": "2024-10-02T08:26:36.009427Z",
     "iopub.status.idle": "2024-10-02T08:26:36.027973Z",
     "shell.execute_reply": "2024-10-02T08:26:36.026961Z"
    },
    "papermill": {
     "duration": 0.033532,
     "end_time": "2024-10-02T08:26:36.030821",
     "exception": false,
     "start_time": "2024-10-02T08:26:35.997289",
     "status": "completed"
    },
    "tags": []
   },
   "outputs": [
    {
     "data": {
      "text/html": [
       "<style>#sk-container-id-5 {color: black;background-color: white;}#sk-container-id-5 pre{padding: 0;}#sk-container-id-5 div.sk-toggleable {background-color: white;}#sk-container-id-5 label.sk-toggleable__label {cursor: pointer;display: block;width: 100%;margin-bottom: 0;padding: 0.3em;box-sizing: border-box;text-align: center;}#sk-container-id-5 label.sk-toggleable__label-arrow:before {content: \"▸\";float: left;margin-right: 0.25em;color: #696969;}#sk-container-id-5 label.sk-toggleable__label-arrow:hover:before {color: black;}#sk-container-id-5 div.sk-estimator:hover label.sk-toggleable__label-arrow:before {color: black;}#sk-container-id-5 div.sk-toggleable__content {max-height: 0;max-width: 0;overflow: hidden;text-align: left;background-color: #f0f8ff;}#sk-container-id-5 div.sk-toggleable__content pre {margin: 0.2em;color: black;border-radius: 0.25em;background-color: #f0f8ff;}#sk-container-id-5 input.sk-toggleable__control:checked~div.sk-toggleable__content {max-height: 200px;max-width: 100%;overflow: auto;}#sk-container-id-5 input.sk-toggleable__control:checked~label.sk-toggleable__label-arrow:before {content: \"▾\";}#sk-container-id-5 div.sk-estimator input.sk-toggleable__control:checked~label.sk-toggleable__label {background-color: #d4ebff;}#sk-container-id-5 div.sk-label input.sk-toggleable__control:checked~label.sk-toggleable__label {background-color: #d4ebff;}#sk-container-id-5 input.sk-hidden--visually {border: 0;clip: rect(1px 1px 1px 1px);clip: rect(1px, 1px, 1px, 1px);height: 1px;margin: -1px;overflow: hidden;padding: 0;position: absolute;width: 1px;}#sk-container-id-5 div.sk-estimator {font-family: monospace;background-color: #f0f8ff;border: 1px dotted black;border-radius: 0.25em;box-sizing: border-box;margin-bottom: 0.5em;}#sk-container-id-5 div.sk-estimator:hover {background-color: #d4ebff;}#sk-container-id-5 div.sk-parallel-item::after {content: \"\";width: 100%;border-bottom: 1px solid gray;flex-grow: 1;}#sk-container-id-5 div.sk-label:hover label.sk-toggleable__label {background-color: #d4ebff;}#sk-container-id-5 div.sk-serial::before {content: \"\";position: absolute;border-left: 1px solid gray;box-sizing: border-box;top: 0;bottom: 0;left: 50%;z-index: 0;}#sk-container-id-5 div.sk-serial {display: flex;flex-direction: column;align-items: center;background-color: white;padding-right: 0.2em;padding-left: 0.2em;position: relative;}#sk-container-id-5 div.sk-item {position: relative;z-index: 1;}#sk-container-id-5 div.sk-parallel {display: flex;align-items: stretch;justify-content: center;background-color: white;position: relative;}#sk-container-id-5 div.sk-item::before, #sk-container-id-5 div.sk-parallel-item::before {content: \"\";position: absolute;border-left: 1px solid gray;box-sizing: border-box;top: 0;bottom: 0;left: 50%;z-index: -1;}#sk-container-id-5 div.sk-parallel-item {display: flex;flex-direction: column;z-index: 1;position: relative;background-color: white;}#sk-container-id-5 div.sk-parallel-item:first-child::after {align-self: flex-end;width: 50%;}#sk-container-id-5 div.sk-parallel-item:last-child::after {align-self: flex-start;width: 50%;}#sk-container-id-5 div.sk-parallel-item:only-child::after {width: 0;}#sk-container-id-5 div.sk-dashed-wrapped {border: 1px dashed gray;margin: 0 0.4em 0.5em 0.4em;box-sizing: border-box;padding-bottom: 0.4em;background-color: white;}#sk-container-id-5 div.sk-label label {font-family: monospace;font-weight: bold;display: inline-block;line-height: 1.2em;}#sk-container-id-5 div.sk-label-container {text-align: center;}#sk-container-id-5 div.sk-container {/* jupyter's `normalize.less` sets `[hidden] { display: none; }` but bootstrap.min.css set `[hidden] { display: none !important; }` so we also need the `!important` here to be able to override the default hidden behavior on the sphinx rendered scikit-learn.org. See: https://github.com/scikit-learn/scikit-learn/issues/21755 */display: inline-block !important;position: relative;}#sk-container-id-5 div.sk-text-repr-fallback {display: none;}</style><div id=\"sk-container-id-5\" class=\"sk-top-container\"><div class=\"sk-text-repr-fallback\"><pre>Lasso(alpha=0.1)</pre><b>In a Jupyter environment, please rerun this cell to show the HTML representation or trust the notebook. <br />On GitHub, the HTML representation is unable to render, please try loading this page with nbviewer.org.</b></div><div class=\"sk-container\" hidden><div class=\"sk-item\"><div class=\"sk-estimator sk-toggleable\"><input class=\"sk-toggleable__control sk-hidden--visually\" id=\"sk-estimator-id-5\" type=\"checkbox\" checked><label for=\"sk-estimator-id-5\" class=\"sk-toggleable__label sk-toggleable__label-arrow\">Lasso</label><div class=\"sk-toggleable__content\"><pre>Lasso(alpha=0.1)</pre></div></div></div></div></div>"
      ],
      "text/plain": [
       "Lasso(alpha=0.1)"
      ]
     },
     "execution_count": 32,
     "metadata": {},
     "output_type": "execute_result"
    }
   ],
   "source": [
    "lasso_reg.fit(x_train_scaled, y_train)"
   ]
  },
  {
   "cell_type": "code",
   "execution_count": 33,
   "id": "37a548ee",
   "metadata": {
    "execution": {
     "iopub.execute_input": "2024-10-02T08:26:36.066879Z",
     "iopub.status.busy": "2024-10-02T08:26:36.065702Z",
     "iopub.status.idle": "2024-10-02T08:26:36.072805Z",
     "shell.execute_reply": "2024-10-02T08:26:36.071569Z"
    },
    "papermill": {
     "duration": 0.035691,
     "end_time": "2024-10-02T08:26:36.082873",
     "exception": false,
     "start_time": "2024-10-02T08:26:36.047182",
     "status": "completed"
    },
    "tags": []
   },
   "outputs": [],
   "source": [
    "# Evaluate the Lasso Regression model\n",
    "y_pred_lasso = lasso_reg.predict(x_test_scaled)"
   ]
  },
  {
   "cell_type": "code",
   "execution_count": 34,
   "id": "ad0394df",
   "metadata": {
    "execution": {
     "iopub.execute_input": "2024-10-02T08:26:36.147561Z",
     "iopub.status.busy": "2024-10-02T08:26:36.146992Z",
     "iopub.status.idle": "2024-10-02T08:26:36.155708Z",
     "shell.execute_reply": "2024-10-02T08:26:36.154326Z"
    },
    "papermill": {
     "duration": 0.039282,
     "end_time": "2024-10-02T08:26:36.158678",
     "exception": false,
     "start_time": "2024-10-02T08:26:36.119396",
     "status": "completed"
    },
    "tags": []
   },
   "outputs": [
    {
     "name": "stdout",
     "output_type": "stream",
     "text": [
      "R-squared: 0.48\n"
     ]
    }
   ],
   "source": [
    "r2_lasso = r2_score(y_test, y_pred_lasso)\n",
    "print(f\"R-squared: {r2_lasso:.2f}\")"
   ]
  },
  {
   "cell_type": "code",
   "execution_count": 35,
   "id": "03787285",
   "metadata": {
    "execution": {
     "iopub.execute_input": "2024-10-02T08:26:36.196460Z",
     "iopub.status.busy": "2024-10-02T08:26:36.195506Z",
     "iopub.status.idle": "2024-10-02T08:26:36.201215Z",
     "shell.execute_reply": "2024-10-02T08:26:36.200465Z"
    },
    "papermill": {
     "duration": 0.026615,
     "end_time": "2024-10-02T08:26:36.204314",
     "exception": false,
     "start_time": "2024-10-02T08:26:36.177699",
     "status": "completed"
    },
    "tags": []
   },
   "outputs": [
    {
     "name": "stdout",
     "output_type": "stream",
     "text": [
      "Mean Squared Error: 0.68\n"
     ]
    }
   ],
   "source": [
    "mse_lasso = mean_squared_error(y_test, y_pred_lasso)\n",
    "print(f\"Mean Squared Error: {mse_lasso:.2f}\")"
   ]
  },
  {
   "cell_type": "code",
   "execution_count": 36,
   "id": "ad66030d",
   "metadata": {
    "execution": {
     "iopub.execute_input": "2024-10-02T08:26:36.229353Z",
     "iopub.status.busy": "2024-10-02T08:26:36.228373Z",
     "iopub.status.idle": "2024-10-02T08:26:36.235015Z",
     "shell.execute_reply": "2024-10-02T08:26:36.233963Z"
    },
    "papermill": {
     "duration": 0.021285,
     "end_time": "2024-10-02T08:26:36.237147",
     "exception": false,
     "start_time": "2024-10-02T08:26:36.215862",
     "status": "completed"
    },
    "tags": []
   },
   "outputs": [
    {
     "name": "stdout",
     "output_type": "stream",
     "text": [
      "Mean Absolute Error: 0.62\n"
     ]
    }
   ],
   "source": [
    "mae_lasso = mean_absolute_error(y_test, y_pred_lasso)\n",
    "print(f\"Mean Absolute Error: {mae_lasso:.2f}\")"
   ]
  },
  {
   "cell_type": "markdown",
   "id": "4e13eca2",
   "metadata": {
    "papermill": {
     "duration": 0.010938,
     "end_time": "2024-10-02T08:26:36.259668",
     "exception": false,
     "start_time": "2024-10-02T08:26:36.248730",
     "status": "completed"
    },
    "tags": []
   },
   "source": [
    "# Acknowledgement\n",
    "\n",
    "* https://medium.com/gopenai/the-ultimate-guide-to-linear-regression-with-scikit-learn-8002b42ccaea"
   ]
  }
 ],
 "metadata": {
  "kaggle": {
   "accelerator": "none",
   "dataSources": [],
   "dockerImageVersionId": 30775,
   "isGpuEnabled": false,
   "isInternetEnabled": true,
   "language": "python",
   "sourceType": "notebook"
  },
  "kernelspec": {
   "display_name": "Python 3",
   "language": "python",
   "name": "python3"
  },
  "language_info": {
   "codemirror_mode": {
    "name": "ipython",
    "version": 3
   },
   "file_extension": ".py",
   "mimetype": "text/x-python",
   "name": "python",
   "nbconvert_exporter": "python",
   "pygments_lexer": "ipython3",
   "version": "3.10.14"
  },
  "papermill": {
   "default_parameters": {},
   "duration": 13.988199,
   "end_time": "2024-10-02T08:26:36.892003",
   "environment_variables": {},
   "exception": null,
   "input_path": "__notebook__.ipynb",
   "output_path": "__notebook__.ipynb",
   "parameters": {},
   "start_time": "2024-10-02T08:26:22.903804",
   "version": "2.6.0"
  }
 },
 "nbformat": 4,
 "nbformat_minor": 5
}
