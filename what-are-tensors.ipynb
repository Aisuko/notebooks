{
 "cells": [
  {
   "cell_type": "markdown",
   "id": "f9008b04",
   "metadata": {
    "papermill": {
     "duration": 0.007373,
     "end_time": "2023-07-13T06:19:53.294919",
     "exception": false,
     "start_time": "2023-07-13T06:19:53.287546",
     "status": "completed"
    },
    "tags": []
   },
   "source": [
    "## Tensors\n",
    "Tensors are a specialized data structure that are very similar to arrays and matrices. In PyTorch, we use tensors to encode the inputs and outputs of a model, as well as  the model's parameters.\n",
    "\n",
    "Tensors are similar to `NumPy's` nadrrays, except that tensors can run on GPUs or other hardware accelerators. In fact, tensors and NumPy arrays can often share the same underlying memory address, eliminating the need to copy data wil a capability called `bridge-to-np-label`. Tensors are also optimized for automatic differentiation.\n",
    "\n",
    "Let's start by setting up our environment."
   ]
  },
  {
   "cell_type": "code",
   "execution_count": 1,
   "id": "46b1e051",
   "metadata": {
    "execution": {
     "iopub.execute_input": "2023-07-13T06:19:53.310262Z",
     "iopub.status.busy": "2023-07-13T06:19:53.309698Z",
     "iopub.status.idle": "2023-07-13T06:20:04.750383Z",
     "shell.execute_reply": "2023-07-13T06:20:04.748863Z"
    },
    "papermill": {
     "duration": 11.451289,
     "end_time": "2023-07-13T06:20:04.753010",
     "exception": false,
     "start_time": "2023-07-13T06:19:53.301721",
     "status": "completed"
    },
    "tags": []
   },
   "outputs": [
    {
     "name": "stdout",
     "output_type": "stream",
     "text": [
      "Looking in indexes: https://download.pytorch.org/whl/cu118\r\n",
      "Requirement already satisfied: torch in /opt/conda/lib/python3.10/site-packages (2.0.0+cpu)\r\n",
      "Requirement already satisfied: torchvision in /opt/conda/lib/python3.10/site-packages (0.15.1+cpu)\r\n",
      "Requirement already satisfied: torchaudio in /opt/conda/lib/python3.10/site-packages (2.0.1+cpu)\r\n",
      "Requirement already satisfied: filelock in /opt/conda/lib/python3.10/site-packages (from torch) (3.12.2)\r\n",
      "Requirement already satisfied: typing-extensions in /opt/conda/lib/python3.10/site-packages (from torch) (4.6.3)\r\n",
      "Requirement already satisfied: sympy in /opt/conda/lib/python3.10/site-packages (from torch) (1.12)\r\n",
      "Requirement already satisfied: networkx in /opt/conda/lib/python3.10/site-packages (from torch) (3.1)\r\n",
      "Requirement already satisfied: jinja2 in /opt/conda/lib/python3.10/site-packages (from torch) (3.1.2)\r\n",
      "Requirement already satisfied: numpy in /opt/conda/lib/python3.10/site-packages (from torchvision) (1.23.5)\r\n",
      "Requirement already satisfied: requests in /opt/conda/lib/python3.10/site-packages (from torchvision) (2.31.0)\r\n",
      "Requirement already satisfied: pillow!=8.3.*,>=5.3.0 in /opt/conda/lib/python3.10/site-packages (from torchvision) (9.5.0)\r\n",
      "Requirement already satisfied: MarkupSafe>=2.0 in /opt/conda/lib/python3.10/site-packages (from jinja2->torch) (2.1.3)\r\n",
      "Requirement already satisfied: charset-normalizer<4,>=2 in /opt/conda/lib/python3.10/site-packages (from requests->torchvision) (3.1.0)\r\n",
      "Requirement already satisfied: idna<4,>=2.5 in /opt/conda/lib/python3.10/site-packages (from requests->torchvision) (3.4)\r\n",
      "Requirement already satisfied: urllib3<3,>=1.21.1 in /opt/conda/lib/python3.10/site-packages (from requests->torchvision) (1.26.15)\r\n",
      "Requirement already satisfied: certifi>=2017.4.17 in /opt/conda/lib/python3.10/site-packages (from requests->torchvision) (2023.5.7)\r\n",
      "Requirement already satisfied: mpmath>=0.19 in /opt/conda/lib/python3.10/site-packages (from sympy->torch) (1.3.0)\r\n",
      "Note: you may need to restart the kernel to use updated packages.\n"
     ]
    }
   ],
   "source": [
    "pip install torch torchvision torchaudio --index-url https://download.pytorch.org/whl/cu118"
   ]
  },
  {
   "cell_type": "code",
   "execution_count": 2,
   "id": "3db5a6b9",
   "metadata": {
    "execution": {
     "iopub.execute_input": "2023-07-13T06:20:04.771097Z",
     "iopub.status.busy": "2023-07-13T06:20:04.770286Z",
     "iopub.status.idle": "2023-07-13T06:20:08.017658Z",
     "shell.execute_reply": "2023-07-13T06:20:08.016528Z"
    },
    "papermill": {
     "duration": 3.258415,
     "end_time": "2023-07-13T06:20:08.020039",
     "exception": false,
     "start_time": "2023-07-13T06:20:04.761624",
     "status": "completed"
    },
    "tags": []
   },
   "outputs": [],
   "source": [
    "%matplotlib inline\n",
    "import torch\n",
    "import numpy as np"
   ]
  },
  {
   "cell_type": "markdown",
   "id": "1652c7e6",
   "metadata": {
    "papermill": {
     "duration": 0.006558,
     "end_time": "2023-07-13T06:20:08.034026",
     "exception": false,
     "start_time": "2023-07-13T06:20:08.027468",
     "status": "completed"
    },
    "tags": []
   },
   "source": [
    "## Initializing a Tensor\n",
    "\n",
    "Tensors can be initialized in various ways. Take a look at the following examples:\n",
    "\n",
    "### Directly from data\n",
    "Tensors can be created directly from data. The data type is automatically inferred."
   ]
  },
  {
   "cell_type": "code",
   "execution_count": 3,
   "id": "27d3d654",
   "metadata": {
    "execution": {
     "iopub.execute_input": "2023-07-13T06:20:08.049504Z",
     "iopub.status.busy": "2023-07-13T06:20:08.048876Z",
     "iopub.status.idle": "2023-07-13T06:20:08.067932Z",
     "shell.execute_reply": "2023-07-13T06:20:08.066729Z"
    },
    "papermill": {
     "duration": 0.029436,
     "end_time": "2023-07-13T06:20:08.070380",
     "exception": false,
     "start_time": "2023-07-13T06:20:08.040944",
     "status": "completed"
    },
    "tags": []
   },
   "outputs": [],
   "source": [
    "data = [[1, 2],[3, 4]]\n",
    "x_data = torch.tensor(data)"
   ]
  },
  {
   "cell_type": "markdown",
   "id": "d08ddaa6",
   "metadata": {
    "papermill": {
     "duration": 0.006654,
     "end_time": "2023-07-13T06:20:08.085427",
     "exception": false,
     "start_time": "2023-07-13T06:20:08.078773",
     "status": "completed"
    },
    "tags": []
   },
   "source": [
    "### From a NumPy array\n",
    "\n",
    "Tensors can be created from NumPy arrays and vice versa. Since, numpy `np_array` and tensor `x_np` share the same memory locaiton here, changing the value for one will change the other."
   ]
  },
  {
   "cell_type": "code",
   "execution_count": 4,
   "id": "9b05b915",
   "metadata": {
    "execution": {
     "iopub.execute_input": "2023-07-13T06:20:08.101210Z",
     "iopub.status.busy": "2023-07-13T06:20:08.100482Z",
     "iopub.status.idle": "2023-07-13T06:20:08.138820Z",
     "shell.execute_reply": "2023-07-13T06:20:08.137653Z"
    },
    "papermill": {
     "duration": 0.048561,
     "end_time": "2023-07-13T06:20:08.140936",
     "exception": false,
     "start_time": "2023-07-13T06:20:08.092375",
     "status": "completed"
    },
    "tags": []
   },
   "outputs": [
    {
     "name": "stdout",
     "output_type": "stream",
     "text": [
      "Numpy np_array value: \n",
      " [[1 2]\n",
      " [3 4]] \n",
      "\n",
      "Torch x_np value: \n",
      " tensor([[1, 2],\n",
      "        [3, 4]]) \n",
      "\n",
      "numpy np_array after * 2 operation: \n",
      " [[2 4]\n",
      " [6 8]] \n",
      "\n",
      "Torch x_np value after modifying numpy array: \n",
      " tensor([[2, 4],\n",
      "        [6, 8]]) \n",
      "\n"
     ]
    }
   ],
   "source": [
    "np_array = np.array(data)\n",
    "x_np = torch.from_numpy(np_array)\n",
    "\n",
    "print(f'Numpy np_array value: \\n {np_array} \\n')\n",
    "print(f'Torch x_np value: \\n {x_np} \\n')\n",
    "\n",
    "np.multiply(np_array, 2, out=np_array)\n",
    "print(f'numpy np_array after * 2 operation: \\n {np_array} \\n')\n",
    "print(f'Torch x_np value after modifying numpy array: \\n {x_np} \\n')"
   ]
  },
  {
   "cell_type": "markdown",
   "id": "784651bd",
   "metadata": {
    "papermill": {
     "duration": 0.006776,
     "end_time": "2023-07-13T06:20:08.154793",
     "exception": false,
     "start_time": "2023-07-13T06:20:08.148017",
     "status": "completed"
    },
    "tags": []
   },
   "source": [
    "### From another tensor\n",
    "\n",
    "The new tensor retains the properties (shape, data type) of the argument tensor, unless explicitly overridden."
   ]
  },
  {
   "cell_type": "code",
   "execution_count": 5,
   "id": "4af6f629",
   "metadata": {
    "execution": {
     "iopub.execute_input": "2023-07-13T06:20:08.170437Z",
     "iopub.status.busy": "2023-07-13T06:20:08.170030Z",
     "iopub.status.idle": "2023-07-13T06:20:08.230427Z",
     "shell.execute_reply": "2023-07-13T06:20:08.229310Z"
    },
    "papermill": {
     "duration": 0.070808,
     "end_time": "2023-07-13T06:20:08.232580",
     "exception": false,
     "start_time": "2023-07-13T06:20:08.161772",
     "status": "completed"
    },
    "tags": []
   },
   "outputs": [
    {
     "name": "stdout",
     "output_type": "stream",
     "text": [
      "Ones Tensor: \n",
      " tensor([[1, 1],\n",
      "        [1, 1]]) \n",
      "\n",
      "Random Tensor: \n",
      " tensor([[0.7534, 0.4454],\n",
      "        [0.9154, 0.7524]]) \n",
      "\n"
     ]
    }
   ],
   "source": [
    "x_ones = torch.ones_like(x_data) # retains the properties of x_data\n",
    "print(f'Ones Tensor: \\n {x_ones} \\n')\n",
    "\n",
    "x_rand = torch.rand_like(x_data, dtype=torch.float) # overrides the datatype of x_data\n",
    "print(f'Random Tensor: \\n {x_rand} \\n')"
   ]
  },
  {
   "cell_type": "markdown",
   "id": "531d2a51",
   "metadata": {
    "papermill": {
     "duration": 0.006723,
     "end_time": "2023-07-13T06:20:08.246367",
     "exception": false,
     "start_time": "2023-07-13T06:20:08.239644",
     "status": "completed"
    },
    "tags": []
   },
   "source": [
    "### With random or constant values\n",
    "\n",
    "`shape` is a tuple of tensor dimensions. In the functions below, it determines the dimensionality of the output tensor. Shape shows the number of rows and columns in the tensor. E.g. shape = (# of rows, # of columns)."
   ]
  },
  {
   "cell_type": "code",
   "execution_count": 6,
   "id": "364d711c",
   "metadata": {
    "execution": {
     "iopub.execute_input": "2023-07-13T06:20:08.261867Z",
     "iopub.status.busy": "2023-07-13T06:20:08.261511Z",
     "iopub.status.idle": "2023-07-13T06:20:08.272539Z",
     "shell.execute_reply": "2023-07-13T06:20:08.271050Z"
    },
    "papermill": {
     "duration": 0.021416,
     "end_time": "2023-07-13T06:20:08.274648",
     "exception": false,
     "start_time": "2023-07-13T06:20:08.253232",
     "status": "completed"
    },
    "tags": []
   },
   "outputs": [
    {
     "name": "stdout",
     "output_type": "stream",
     "text": [
      "Random Tensor: \n",
      " tensor([[0.8785, 0.6000, 0.3775],\n",
      "        [0.0011, 0.1734, 0.8037]]) \n",
      "\n",
      "Ones Tensor: \n",
      " tensor([[1., 1., 1.],\n",
      "        [1., 1., 1.]]) \n",
      "\n",
      "Zeros Tensor: \n",
      " tensor([[0., 0., 0.],\n",
      "        [0., 0., 0.]]) \n",
      "\n"
     ]
    }
   ],
   "source": [
    "shape =(2,3,)\n",
    "rand_tensor = torch.rand(shape)\n",
    "ones_tensor = torch.ones(shape)\n",
    "zeros_tensor = torch.zeros(shape)\n",
    "\n",
    "print(f'Random Tensor: \\n {rand_tensor} \\n')\n",
    "print(f'Ones Tensor: \\n {ones_tensor} \\n')\n",
    "print(f'Zeros Tensor: \\n {zeros_tensor} \\n')"
   ]
  },
  {
   "cell_type": "markdown",
   "id": "1ea6504b",
   "metadata": {
    "papermill": {
     "duration": 0.006731,
     "end_time": "2023-07-13T06:20:08.288529",
     "exception": false,
     "start_time": "2023-07-13T06:20:08.281798",
     "status": "completed"
    },
    "tags": []
   },
   "source": [
    "## Attributes of a Tensor\n",
    "\n",
    "Tensor attributes describe their shape, data type, and the device on which they are stored."
   ]
  },
  {
   "cell_type": "code",
   "execution_count": 7,
   "id": "631a1ea7",
   "metadata": {
    "execution": {
     "iopub.execute_input": "2023-07-13T06:20:08.304278Z",
     "iopub.status.busy": "2023-07-13T06:20:08.303881Z",
     "iopub.status.idle": "2023-07-13T06:20:08.309903Z",
     "shell.execute_reply": "2023-07-13T06:20:08.308822Z"
    },
    "papermill": {
     "duration": 0.016658,
     "end_time": "2023-07-13T06:20:08.312221",
     "exception": false,
     "start_time": "2023-07-13T06:20:08.295563",
     "status": "completed"
    },
    "tags": []
   },
   "outputs": [
    {
     "name": "stdout",
     "output_type": "stream",
     "text": [
      "Shape of tensor: torch.Size([3, 4])\n",
      "Datatype of tensor: torch.float32\n",
      "Device tensor is stored on: cpu\n"
     ]
    }
   ],
   "source": [
    "tensor = torch.rand(3, 4)\n",
    "\n",
    "print(f'Shape of tensor: {tensor.shape}')\n",
    "print(f'Datatype of tensor: {tensor.dtype}')\n",
    "print(f'Device tensor is stored on: {tensor.device}')\n"
   ]
  },
  {
   "cell_type": "markdown",
   "id": "32967872",
   "metadata": {
    "papermill": {
     "duration": 0.006938,
     "end_time": "2023-07-13T06:20:08.326500",
     "exception": false,
     "start_time": "2023-07-13T06:20:08.319562",
     "status": "completed"
    },
    "tags": []
   },
   "source": [
    "## Operations on Tensors\n",
    "\n",
    "There are more than 100 tensor operations, including arithmetic, linear algebra, matrix manipulation(transposing indexing, slicing). For sampling and reviewing, you'll find a comprehensive description [here](https://pytorch.org/docs/stable/torch.html).\n",
    "\n",
    "Each of these operations can be run on the GPU\n",
    "* CPUs have up to 16 cores. Cores are units that do the actual computation. Each core processes tasks in a sequential order.\n",
    "* GPUs have 1000s of cores. GPU cores handle computations in parallel processing. Tasks are divided and processed across the different cores. That's what makes GPUs faster than CPUs in most cases. GPUs performs better with large data than small data.\n",
    "\n",
    "By default, tensors are created on the CPU. Tensors can also computed to GPUs;to do that, you need to move them using `.to` method."
   ]
  },
  {
   "cell_type": "code",
   "execution_count": 8,
   "id": "6e912d1c",
   "metadata": {
    "execution": {
     "iopub.execute_input": "2023-07-13T06:20:08.342675Z",
     "iopub.status.busy": "2023-07-13T06:20:08.342022Z",
     "iopub.status.idle": "2023-07-13T06:20:08.346383Z",
     "shell.execute_reply": "2023-07-13T06:20:08.345684Z"
    },
    "papermill": {
     "duration": 0.014504,
     "end_time": "2023-07-13T06:20:08.348231",
     "exception": false,
     "start_time": "2023-07-13T06:20:08.333727",
     "status": "completed"
    },
    "tags": []
   },
   "outputs": [],
   "source": [
    "# There are many ways to check for the device type, but let's pick just one:\n",
    "if torch.cuda.is_available():\n",
    "    tensor = tensor.to('cuda')"
   ]
  },
  {
   "cell_type": "markdown",
   "id": "1bee4d6d",
   "metadata": {
    "papermill": {
     "duration": 0.006873,
     "end_time": "2023-07-13T06:20:08.362304",
     "exception": false,
     "start_time": "2023-07-13T06:20:08.355431",
     "status": "completed"
    },
    "tags": []
   },
   "source": [
    "### Standard numpy-like indexing and slicing\n"
   ]
  },
  {
   "cell_type": "code",
   "execution_count": 9,
   "id": "02333674",
   "metadata": {
    "execution": {
     "iopub.execute_input": "2023-07-13T06:20:08.378049Z",
     "iopub.status.busy": "2023-07-13T06:20:08.377434Z",
     "iopub.status.idle": "2023-07-13T06:20:08.392107Z",
     "shell.execute_reply": "2023-07-13T06:20:08.390791Z"
    },
    "papermill": {
     "duration": 0.024849,
     "end_time": "2023-07-13T06:20:08.394137",
     "exception": false,
     "start_time": "2023-07-13T06:20:08.369288",
     "status": "completed"
    },
    "tags": []
   },
   "outputs": [
    {
     "name": "stdout",
     "output_type": "stream",
     "text": [
      "First row:  tensor([1., 1., 1., 1.])\n",
      "First column:  tensor([1., 1., 1., 1.])\n",
      "Last column: tensor([1., 1., 1., 1.])\n",
      "tensor([[1., 0., 1., 1.],\n",
      "        [1., 0., 1., 1.],\n",
      "        [1., 0., 1., 1.],\n",
      "        [1., 0., 1., 1.]])\n"
     ]
    }
   ],
   "source": [
    "tensor = torch.ones(4,4)\n",
    "print('First row: ',tensor[0])\n",
    "print('First column: ',tensor[:,0])\n",
    "print('Last column:',tensor[...,-1])\n",
    "tensor[:,1] = 0\n",
    "print(tensor)"
   ]
  },
  {
   "cell_type": "markdown",
   "id": "13572e28",
   "metadata": {
    "papermill": {
     "duration": 0.006954,
     "end_time": "2023-07-13T06:20:08.408473",
     "exception": false,
     "start_time": "2023-07-13T06:20:08.401519",
     "status": "completed"
    },
    "tags": []
   },
   "source": [
    "### Joining tensors\n",
    "\n",
    "You can use `torch.cat` to concatenate a sequence of tensors along a given dimension. See also `torch.stack`, another tensor joining op that is subtly different from `torch.cat`."
   ]
  },
  {
   "cell_type": "code",
   "execution_count": 10,
   "id": "e24ef9de",
   "metadata": {
    "execution": {
     "iopub.execute_input": "2023-07-13T06:20:08.424484Z",
     "iopub.status.busy": "2023-07-13T06:20:08.424078Z",
     "iopub.status.idle": "2023-07-13T06:20:08.431572Z",
     "shell.execute_reply": "2023-07-13T06:20:08.430591Z"
    },
    "papermill": {
     "duration": 0.017767,
     "end_time": "2023-07-13T06:20:08.433389",
     "exception": false,
     "start_time": "2023-07-13T06:20:08.415622",
     "status": "completed"
    },
    "tags": []
   },
   "outputs": [
    {
     "name": "stdout",
     "output_type": "stream",
     "text": [
      "tensor([[1., 0., 1., 1., 1., 0., 1., 1., 1., 0., 1., 1.],\n",
      "        [1., 0., 1., 1., 1., 0., 1., 1., 1., 0., 1., 1.],\n",
      "        [1., 0., 1., 1., 1., 0., 1., 1., 1., 0., 1., 1.],\n",
      "        [1., 0., 1., 1., 1., 0., 1., 1., 1., 0., 1., 1.]])\n"
     ]
    }
   ],
   "source": [
    "t1 = torch.cat([tensor, tensor, tensor], dim=1)\n",
    "print(t1)"
   ]
  },
  {
   "cell_type": "markdown",
   "id": "c5bf0427",
   "metadata": {
    "papermill": {
     "duration": 0.006926,
     "end_time": "2023-07-13T06:20:08.447589",
     "exception": false,
     "start_time": "2023-07-13T06:20:08.440663",
     "status": "completed"
    },
    "tags": []
   },
   "source": [
    "### Arithmetic operations"
   ]
  },
  {
   "cell_type": "code",
   "execution_count": 11,
   "id": "6bf8afde",
   "metadata": {
    "execution": {
     "iopub.execute_input": "2023-07-13T06:20:08.463605Z",
     "iopub.status.busy": "2023-07-13T06:20:08.463216Z",
     "iopub.status.idle": "2023-07-13T06:20:08.479968Z",
     "shell.execute_reply": "2023-07-13T06:20:08.478978Z"
    },
    "papermill": {
     "duration": 0.027187,
     "end_time": "2023-07-13T06:20:08.481990",
     "exception": false,
     "start_time": "2023-07-13T06:20:08.454803",
     "status": "completed"
    },
    "tags": []
   },
   "outputs": [
    {
     "data": {
      "text/plain": [
       "tensor([[1., 0., 1., 1.],\n",
       "        [1., 0., 1., 1.],\n",
       "        [1., 0., 1., 1.],\n",
       "        [1., 0., 1., 1.]])"
      ]
     },
     "execution_count": 11,
     "metadata": {},
     "output_type": "execute_result"
    }
   ],
   "source": [
    "# This computes the matrix multiplication between two tensors. y1, y2, y3 will have the same value\n",
    "y1 =tensor @ tensor.T\n",
    "y2 = tensor.matmul(tensor.T)\n",
    "\n",
    "y3 = torch.rand_like(tensor)\n",
    "torch.matmul(tensor, tensor.T, out=y3)\n",
    "\n",
    "# This computes the element-wise product. z1, z2, z3 will have the same value\n",
    "z1 = tensor * tensor\n",
    "z2 = tensor.mul(tensor)\n",
    "\n",
    "z3 = torch.rand_like(tensor)\n",
    "torch.mul(tensor, tensor, out=z3)"
   ]
  },
  {
   "cell_type": "markdown",
   "id": "c0b18122",
   "metadata": {
    "papermill": {
     "duration": 0.007145,
     "end_time": "2023-07-13T06:20:08.496585",
     "exception": false,
     "start_time": "2023-07-13T06:20:08.489440",
     "status": "completed"
    },
    "tags": []
   },
   "source": [
    "### Single-element tensors\n",
    "\n",
    "If you have a one-element tensor, for example by aggregating all values of a tensor into one value, you can convert it to a Python numerical value using `item()`:"
   ]
  },
  {
   "cell_type": "code",
   "execution_count": 12,
   "id": "a00defeb",
   "metadata": {
    "execution": {
     "iopub.execute_input": "2023-07-13T06:20:08.512755Z",
     "iopub.status.busy": "2023-07-13T06:20:08.512317Z",
     "iopub.status.idle": "2023-07-13T06:20:08.517928Z",
     "shell.execute_reply": "2023-07-13T06:20:08.516935Z"
    },
    "papermill": {
     "duration": 0.016027,
     "end_time": "2023-07-13T06:20:08.519890",
     "exception": false,
     "start_time": "2023-07-13T06:20:08.503863",
     "status": "completed"
    },
    "tags": []
   },
   "outputs": [
    {
     "name": "stdout",
     "output_type": "stream",
     "text": [
      "12.0 <class 'float'>\n"
     ]
    }
   ],
   "source": [
    "agg = tensor.sum()\n",
    "agg_item = agg.item()\n",
    "print(agg_item, type(agg_item))"
   ]
  },
  {
   "cell_type": "markdown",
   "id": "8a7ba07e",
   "metadata": {
    "papermill": {
     "duration": 0.007201,
     "end_time": "2023-07-13T06:20:08.534767",
     "exception": false,
     "start_time": "2023-07-13T06:20:08.527566",
     "status": "completed"
    },
    "tags": []
   },
   "source": [
    "### In-place operations\n",
    "\n",
    "Operations that store the result into the operand are called in-place. They are denoted by a `_` suffix. For example: `x.copy_(y)`, `x.t_()`, will change `x`.\n",
    "\n",
    "> **Note:** In-place operations save some memory, but can be problematic when computing derivatives because of an immediate loss of history. Hence, their use is discouraged."
   ]
  },
  {
   "cell_type": "code",
   "execution_count": 13,
   "id": "431b876d",
   "metadata": {
    "execution": {
     "iopub.execute_input": "2023-07-13T06:20:08.552538Z",
     "iopub.status.busy": "2023-07-13T06:20:08.552084Z",
     "iopub.status.idle": "2023-07-13T06:20:08.562143Z",
     "shell.execute_reply": "2023-07-13T06:20:08.560632Z"
    },
    "papermill": {
     "duration": 0.021308,
     "end_time": "2023-07-13T06:20:08.564353",
     "exception": false,
     "start_time": "2023-07-13T06:20:08.543045",
     "status": "completed"
    },
    "tags": []
   },
   "outputs": [
    {
     "name": "stdout",
     "output_type": "stream",
     "text": [
      "tensor([[1., 0., 1., 1.],\n",
      "        [1., 0., 1., 1.],\n",
      "        [1., 0., 1., 1.],\n",
      "        [1., 0., 1., 1.]]) \n",
      "\n",
      "tensor([[6., 5., 6., 6.],\n",
      "        [6., 5., 6., 6.],\n",
      "        [6., 5., 6., 6.],\n",
      "        [6., 5., 6., 6.]])\n"
     ]
    }
   ],
   "source": [
    "print(tensor, \"\\n\")\n",
    "tensor.add_(5)\n",
    "print(tensor)"
   ]
  },
  {
   "cell_type": "markdown",
   "id": "6aacbaaf",
   "metadata": {
    "papermill": {
     "duration": 0.007301,
     "end_time": "2023-07-13T06:20:08.579477",
     "exception": false,
     "start_time": "2023-07-13T06:20:08.572176",
     "status": "completed"
    },
    "tags": []
   },
   "source": [
    "## Bridge with NumPy\n",
    "\n",
    "Tensor on the CPU and NumPy arrays can share their underlying memory locations, and changing one will change the other."
   ]
  },
  {
   "cell_type": "markdown",
   "id": "9fb5083a",
   "metadata": {
    "papermill": {
     "duration": 0.007423,
     "end_time": "2023-07-13T06:20:08.594466",
     "exception": false,
     "start_time": "2023-07-13T06:20:08.587043",
     "status": "completed"
    },
    "tags": []
   },
   "source": [
    "### Tensor to NumPy array\n"
   ]
  },
  {
   "cell_type": "code",
   "execution_count": 14,
   "id": "1b4fca98",
   "metadata": {
    "execution": {
     "iopub.execute_input": "2023-07-13T06:20:08.611690Z",
     "iopub.status.busy": "2023-07-13T06:20:08.611292Z",
     "iopub.status.idle": "2023-07-13T06:20:08.618474Z",
     "shell.execute_reply": "2023-07-13T06:20:08.617372Z"
    },
    "papermill": {
     "duration": 0.017742,
     "end_time": "2023-07-13T06:20:08.620236",
     "exception": false,
     "start_time": "2023-07-13T06:20:08.602494",
     "status": "completed"
    },
    "tags": []
   },
   "outputs": [
    {
     "name": "stdout",
     "output_type": "stream",
     "text": [
      "t: tensor([1., 1., 1., 1., 1.])\n",
      "n: [1. 1. 1. 1. 1.]\n"
     ]
    }
   ],
   "source": [
    "t = torch.ones(5)\n",
    "print(f\"t: {t}\")\n",
    "n = t.numpy()\n",
    "print(f\"n: {n}\")"
   ]
  },
  {
   "cell_type": "markdown",
   "id": "8d29317c",
   "metadata": {
    "papermill": {
     "duration": 0.007356,
     "end_time": "2023-07-13T06:20:08.635152",
     "exception": false,
     "start_time": "2023-07-13T06:20:08.627796",
     "status": "completed"
    },
    "tags": []
   },
   "source": [
    "A change in the tensor reflects in the NumPy array."
   ]
  },
  {
   "cell_type": "code",
   "execution_count": 15,
   "id": "640893fd",
   "metadata": {
    "execution": {
     "iopub.execute_input": "2023-07-13T06:20:08.652065Z",
     "iopub.status.busy": "2023-07-13T06:20:08.651702Z",
     "iopub.status.idle": "2023-07-13T06:20:08.657741Z",
     "shell.execute_reply": "2023-07-13T06:20:08.656630Z"
    },
    "papermill": {
     "duration": 0.016812,
     "end_time": "2023-07-13T06:20:08.659629",
     "exception": false,
     "start_time": "2023-07-13T06:20:08.642817",
     "status": "completed"
    },
    "tags": []
   },
   "outputs": [
    {
     "name": "stdout",
     "output_type": "stream",
     "text": [
      "t: tensor([2., 2., 2., 2., 2.])\n",
      "n: [2. 2. 2. 2. 2.]\n"
     ]
    }
   ],
   "source": [
    "t.add_(1)\n",
    "print(f\"t: {t}\")\n",
    "print(f\"n: {n}\")"
   ]
  },
  {
   "cell_type": "markdown",
   "id": "2169e292",
   "metadata": {
    "papermill": {
     "duration": 0.00741,
     "end_time": "2023-07-13T06:20:08.674880",
     "exception": false,
     "start_time": "2023-07-13T06:20:08.667470",
     "status": "completed"
    },
    "tags": []
   },
   "source": [
    "### NumPy array to Tensor"
   ]
  },
  {
   "cell_type": "code",
   "execution_count": 16,
   "id": "3d7dc725",
   "metadata": {
    "execution": {
     "iopub.execute_input": "2023-07-13T06:20:08.693850Z",
     "iopub.status.busy": "2023-07-13T06:20:08.693502Z",
     "iopub.status.idle": "2023-07-13T06:20:08.697360Z",
     "shell.execute_reply": "2023-07-13T06:20:08.696658Z"
    },
    "papermill": {
     "duration": 0.014653,
     "end_time": "2023-07-13T06:20:08.699189",
     "exception": false,
     "start_time": "2023-07-13T06:20:08.684536",
     "status": "completed"
    },
    "tags": []
   },
   "outputs": [],
   "source": [
    "n = np.ones(5)\n",
    "t = torch.from_numpy(n)"
   ]
  },
  {
   "cell_type": "markdown",
   "id": "02c77496",
   "metadata": {
    "papermill": {
     "duration": 0.007402,
     "end_time": "2023-07-13T06:20:08.714381",
     "exception": false,
     "start_time": "2023-07-13T06:20:08.706979",
     "status": "completed"
    },
    "tags": []
   },
   "source": [
    "Changes in the NumPy array reflects in the tensor."
   ]
  },
  {
   "cell_type": "code",
   "execution_count": 17,
   "id": "23ab8559",
   "metadata": {
    "execution": {
     "iopub.execute_input": "2023-07-13T06:20:08.731444Z",
     "iopub.status.busy": "2023-07-13T06:20:08.731021Z",
     "iopub.status.idle": "2023-07-13T06:20:08.738548Z",
     "shell.execute_reply": "2023-07-13T06:20:08.737482Z"
    },
    "papermill": {
     "duration": 0.01831,
     "end_time": "2023-07-13T06:20:08.740357",
     "exception": false,
     "start_time": "2023-07-13T06:20:08.722047",
     "status": "completed"
    },
    "tags": []
   },
   "outputs": [
    {
     "name": "stdout",
     "output_type": "stream",
     "text": [
      "t: tensor([2., 2., 2., 2., 2.], dtype=torch.float64)\n",
      "n: [2. 2. 2. 2. 2.]\n"
     ]
    }
   ],
   "source": [
    "np.add(n, 1, out=n)\n",
    "print(f\"t: {t}\")\n",
    "print(f\"n: {n}\")"
   ]
  }
 ],
 "metadata": {
  "kernelspec": {
   "display_name": "Python 3",
   "language": "python",
   "name": "python3"
  },
  "language_info": {
   "codemirror_mode": {
    "name": "ipython",
    "version": 3
   },
   "file_extension": ".py",
   "mimetype": "text/x-python",
   "name": "python",
   "nbconvert_exporter": "python",
   "pygments_lexer": "ipython3",
   "version": "3.10.12"
  },
  "papermill": {
   "default_parameters": {},
   "duration": 27.472865,
   "end_time": "2023-07-13T06:20:11.906578",
   "environment_variables": {},
   "exception": null,
   "input_path": "__notebook__.ipynb",
   "output_path": "__notebook__.ipynb",
   "parameters": {},
   "start_time": "2023-07-13T06:19:44.433713",
   "version": "2.4.0"
  }
 },
 "nbformat": 4,
 "nbformat_minor": 5
}
