{
 "cells": [
  {
   "cell_type": "markdown",
   "id": "2952d299",
   "metadata": {
    "_cell_guid": "b1076dfc-b9ad-4769-8c92-a6c4dae69d19",
    "_uuid": "8f2839f25d086af736a60e9eeb907d3b93b6e0e5",
    "papermill": {
     "duration": 0.007017,
     "end_time": "2024-05-11T00:02:09.139148",
     "exception": false,
     "start_time": "2024-05-11T00:02:09.132131",
     "status": "completed"
    },
    "tags": []
   },
   "source": [
    "# Overview\n",
    "\n",
    "What should we do in data cleaning process and how to do it? Let's use NumPy in this notebook.\n",
    "\n",
    "Normally we will drop the missing data.The missing data can occur duce to various reasons such as human error, data corrpution, or data collection issues. Handing missing data is important becuase it can effect the accuracy and reliability of the data analysis.\n",
    "\n",
    "There are several ways to handle missing data:\n",
    "\n",
    "* Deletion\n",
    "* Imputation: replacing messing data with estimated values.\n",
    "* Interpolation: estimating missing data based on the values of nearby data points.\n",
    "* Prediction\n",
    "\n",
    "\n",
    "# Handling Missing Data\n",
    "\n",
    "Here we use `numpy.nan` which is a special value representing missing or undefined data. And there are further functions like:\n",
    "* `numpy.nan_to_num()` replaces NaN values with zero\n",
    "* `numpy.delete()` removes rows or columns with missing data\n",
    "* `numpy.isnan()` checks ig a value is NaN"
   ]
  },
  {
   "cell_type": "code",
   "execution_count": 1,
   "id": "4126a327",
   "metadata": {
    "execution": {
     "iopub.execute_input": "2024-05-11T00:02:09.154206Z",
     "iopub.status.busy": "2024-05-11T00:02:09.152382Z",
     "iopub.status.idle": "2024-05-11T00:02:09.172514Z",
     "shell.execute_reply": "2024-05-11T00:02:09.171035Z"
    },
    "papermill": {
     "duration": 0.030334,
     "end_time": "2024-05-11T00:02:09.175405",
     "exception": false,
     "start_time": "2024-05-11T00:02:09.145071",
     "status": "completed"
    },
    "tags": []
   },
   "outputs": [
    {
     "name": "stdout",
     "output_type": "stream",
     "text": [
      "[1. 2. 0. 4. 5.]\n"
     ]
    }
   ],
   "source": [
    "import numpy as np\n",
    "\n",
    "# Creating an array with missing values\n",
    "data = np.array([1, 2, np.nan, 4, 5])\n",
    "\n",
    "# Checking for missing values\n",
    "has_missing = np.isnan(data)\n",
    "\n",
    "# Filling missing values with a specific value or the mean\n",
    "data[has_missing] = 0  # Replace with a specific value\n",
    "# Alternatively:\n",
    "# data[has_missing] = np.nanmean(data)\n",
    "\n",
    "print(data)"
   ]
  },
  {
   "cell_type": "code",
   "execution_count": 2,
   "id": "08c394bb",
   "metadata": {
    "execution": {
     "iopub.execute_input": "2024-05-11T00:02:09.189258Z",
     "iopub.status.busy": "2024-05-11T00:02:09.188809Z",
     "iopub.status.idle": "2024-05-11T00:02:09.196370Z",
     "shell.execute_reply": "2024-05-11T00:02:09.195096Z"
    },
    "papermill": {
     "duration": 0.017719,
     "end_time": "2024-05-11T00:02:09.199052",
     "exception": false,
     "start_time": "2024-05-11T00:02:09.181333",
     "status": "completed"
    },
    "tags": []
   },
   "outputs": [
    {
     "name": "stdout",
     "output_type": "stream",
     "text": [
      "[1. 2. 0. 4. 5.]\n"
     ]
    }
   ],
   "source": [
    "# Filling missing data\n",
    "arr = np.array([1, 2, np.nan, 4, 5])\n",
    "\n",
    "# fill missing data with zero\n",
    "arr_filled = np.nan_to_num(arr)\n",
    "\n",
    "print(arr_filled)"
   ]
  },
  {
   "cell_type": "code",
   "execution_count": 3,
   "id": "81eff3c5",
   "metadata": {
    "execution": {
     "iopub.execute_input": "2024-05-11T00:02:09.213088Z",
     "iopub.status.busy": "2024-05-11T00:02:09.212631Z",
     "iopub.status.idle": "2024-05-11T00:02:09.220347Z",
     "shell.execute_reply": "2024-05-11T00:02:09.218929Z"
    },
    "papermill": {
     "duration": 0.018263,
     "end_time": "2024-05-11T00:02:09.223542",
     "exception": false,
     "start_time": "2024-05-11T00:02:09.205279",
     "status": "completed"
    },
    "tags": []
   },
   "outputs": [
    {
     "name": "stdout",
     "output_type": "stream",
     "text": [
      "[[7. 8. 9.]]\n"
     ]
    }
   ],
   "source": [
    "# Dropping missing data\n",
    "arr = np.array([[1, 2, np.nan], [4, np.nan, 6], [7, 8, 9]])\n",
    "\n",
    "# delete rows with missing data\n",
    "arr_no_missing = np.delete(arr, np.where(np.isnan(arr).any(axis=1)), axis=0)\n",
    "\n",
    "print(arr_no_missing)"
   ]
  },
  {
   "cell_type": "code",
   "execution_count": 4,
   "id": "32720743",
   "metadata": {
    "execution": {
     "iopub.execute_input": "2024-05-11T00:02:09.237238Z",
     "iopub.status.busy": "2024-05-11T00:02:09.236797Z",
     "iopub.status.idle": "2024-05-11T00:02:09.244410Z",
     "shell.execute_reply": "2024-05-11T00:02:09.243123Z"
    },
    "papermill": {
     "duration": 0.017914,
     "end_time": "2024-05-11T00:02:09.247379",
     "exception": false,
     "start_time": "2024-05-11T00:02:09.229465",
     "status": "completed"
    },
    "tags": []
   },
   "outputs": [
    {
     "name": "stdout",
     "output_type": "stream",
     "text": [
      "[1. 2. 3. 4. 5.]\n"
     ]
    }
   ],
   "source": [
    "# Imputing missing data\n",
    "arr = np.array([1, 2, np.nan, 4, 5])\n",
    "\n",
    "# impute missing data with mean\n",
    "arr_imputed = np.where(np.isnan(arr), np.mean(arr[~np.isnan(arr)]), arr)\n",
    "\n",
    "print(arr_imputed)"
   ]
  },
  {
   "cell_type": "markdown",
   "id": "f1227639",
   "metadata": {
    "papermill": {
     "duration": 0.006109,
     "end_time": "2024-05-11T00:02:09.259639",
     "exception": false,
     "start_time": "2024-05-11T00:02:09.253530",
     "status": "completed"
    },
    "tags": []
   },
   "source": [
    "# Addressing Outliers\n",
    "\n",
    "Outliers can skew analytical results and impact the accuracy of models."
   ]
  },
  {
   "cell_type": "code",
   "execution_count": 5,
   "id": "6dfb72d3",
   "metadata": {
    "execution": {
     "iopub.execute_input": "2024-05-11T00:02:09.275108Z",
     "iopub.status.busy": "2024-05-11T00:02:09.274319Z",
     "iopub.status.idle": "2024-05-11T00:02:09.285286Z",
     "shell.execute_reply": "2024-05-11T00:02:09.283351Z"
    },
    "papermill": {
     "duration": 0.021783,
     "end_time": "2024-05-11T00:02:09.287878",
     "exception": false,
     "start_time": "2024-05-11T00:02:09.266095",
     "status": "completed"
    },
    "tags": []
   },
   "outputs": [
    {
     "name": "stdout",
     "output_type": "stream",
     "text": [
      "[0.55021329 0.5201235  0.33958476 0.45994392 0.42985413 0.12895624\n",
      " 2.42867585]\n",
      "[ 1  2  8  4  5 15]\n"
     ]
    }
   ],
   "source": [
    "# Creating an array with outliers\n",
    "data = np.array([1, 2, 8, 4, 5, 15, 100])\n",
    "\n",
    "# Identifying outliers based on z-score\n",
    "z_scores = np.abs((data - np.mean(data)) / np.std(data))\n",
    "print(z_scores)\n",
    "\n",
    "is_outlier = z_scores > 2  # Adjust the threshold as needed\n",
    "\n",
    "# Removing outliers\n",
    "cleaned_data = data[~is_outlier]\n",
    "\n",
    "print(cleaned_data)"
   ]
  },
  {
   "cell_type": "markdown",
   "id": "f15ea888",
   "metadata": {
    "papermill": {
     "duration": 0.006259,
     "end_time": "2024-05-11T00:02:09.300459",
     "exception": false,
     "start_time": "2024-05-11T00:02:09.294200",
     "status": "completed"
    },
    "tags": []
   },
   "source": [
    "## Percentile-based Clipping\n",
    "\n",
    "We can use the `numpy.percentile()` function to calculate percentiles, and the `numpy.clip()` function to clip values outside a certain range."
   ]
  },
  {
   "cell_type": "code",
   "execution_count": 6,
   "id": "8591dbcf",
   "metadata": {
    "execution": {
     "iopub.execute_input": "2024-05-11T00:02:09.316251Z",
     "iopub.status.busy": "2024-05-11T00:02:09.315431Z",
     "iopub.status.idle": "2024-05-11T00:02:09.326383Z",
     "shell.execute_reply": "2024-05-11T00:02:09.325160Z"
    },
    "papermill": {
     "duration": 0.021876,
     "end_time": "2024-05-11T00:02:09.329271",
     "exception": false,
     "start_time": "2024-05-11T00:02:09.307395",
     "status": "completed"
    },
    "tags": []
   },
   "outputs": [
    {
     "name": "stdout",
     "output_type": "stream",
     "text": [
      "[1.05 2.   3.   6.   5.   6.  ]\n"
     ]
    }
   ],
   "source": [
    "# create an array with outliers\n",
    "arr = np.array([1, 2, 3, 100, 5, 6])\n",
    "\n",
    "# clip values outside the range of the 1st and 80th percentiles\n",
    "arr_clipped = np.clip(arr, np.percentile(arr, 1), np.percentile(arr, 80))\n",
    "\n",
    "print(arr_clipped)"
   ]
  },
  {
   "cell_type": "markdown",
   "id": "8fdcce2c",
   "metadata": {
    "papermill": {
     "duration": 0.006321,
     "end_time": "2024-05-11T00:02:09.341859",
     "exception": false,
     "start_time": "2024-05-11T00:02:09.335538",
     "status": "completed"
    },
    "tags": []
   },
   "source": [
    "## Z-score-based filtering\n",
    "\n",
    "We can use the `numpy.mean()` and `numpy.std()` functions to calculate the mean and standard deviation of the data, and the `numpy.abs()` function to calculate the absolute deviation from the mean. "
   ]
  },
  {
   "cell_type": "code",
   "execution_count": 7,
   "id": "90e5eb20",
   "metadata": {
    "execution": {
     "iopub.execute_input": "2024-05-11T00:02:09.357295Z",
     "iopub.status.busy": "2024-05-11T00:02:09.356785Z",
     "iopub.status.idle": "2024-05-11T00:02:09.366235Z",
     "shell.execute_reply": "2024-05-11T00:02:09.364610Z"
    },
    "papermill": {
     "duration": 0.020027,
     "end_time": "2024-05-11T00:02:09.368754",
     "exception": false,
     "start_time": "2024-05-11T00:02:09.348727",
     "status": "completed"
    },
    "tags": []
   },
   "outputs": [
    {
     "name": "stdout",
     "output_type": "stream",
     "text": [
      "[0.51331161 0.48556503 0.45781846 2.23359915 0.40232531 0.37457874]\n",
      "[1 2 3 5 6]\n"
     ]
    }
   ],
   "source": [
    "# create an array with outliers\n",
    "arr = np.array([1, 2, 3, 100, 5, 6])\n",
    "\n",
    "# calculate mean and standard deviation\n",
    "mean = np.mean(arr)\n",
    "std = np.std(arr)\n",
    "\n",
    "# calculate z-scores\n",
    "z_scores = np.abs((arr - mean) / std)\n",
    "print(z_scores)\n",
    "\n",
    "# remove values with z-scores greater than 3\n",
    "arr_filtered = arr[z_scores <= 2]\n",
    "\n",
    "print(arr_filtered)"
   ]
  },
  {
   "cell_type": "markdown",
   "id": "6fc5ca39",
   "metadata": {
    "papermill": {
     "duration": 0.006549,
     "end_time": "2024-05-11T00:02:09.381435",
     "exception": false,
     "start_time": "2024-05-11T00:02:09.374886",
     "status": "completed"
    },
    "tags": []
   },
   "source": [
    "## Median-based filtering\n",
    "\n",
    "We can use the `numpy.median()` function to calcualte the median of the data, and the `numpy.percentitle()` function to calculate the 1st and 99th percentiles."
   ]
  },
  {
   "cell_type": "code",
   "execution_count": 8,
   "id": "9ca06ed1",
   "metadata": {
    "execution": {
     "iopub.execute_input": "2024-05-11T00:02:09.399793Z",
     "iopub.status.busy": "2024-05-11T00:02:09.398453Z",
     "iopub.status.idle": "2024-05-11T00:02:09.407494Z",
     "shell.execute_reply": "2024-05-11T00:02:09.406380Z"
    },
    "papermill": {
     "duration": 0.02132,
     "end_time": "2024-05-11T00:02:09.410046",
     "exception": false,
     "start_time": "2024-05-11T00:02:09.388726",
     "status": "completed"
    },
    "tags": []
   },
   "outputs": [
    {
     "name": "stdout",
     "output_type": "stream",
     "text": [
      "[4. 2. 3. 4. 5. 6.]\n"
     ]
    }
   ],
   "source": [
    "# create an array with outliers\n",
    "arr = np.array([1, 2, 3, 100, 5, 6])\n",
    "\n",
    "# calculate median\n",
    "median = np.median(arr)\n",
    "\n",
    "# replace values outside the range of the 1st and 99th percentiles with the median\n",
    "arr_filtered = np.where(np.logical_or(arr < np.percentile(arr, 1), arr > np.percentile(arr, 99)), median, arr)\n",
    "\n",
    "print(arr_filtered)"
   ]
  },
  {
   "cell_type": "markdown",
   "id": "c17e867d",
   "metadata": {
    "papermill": {
     "duration": 0.006163,
     "end_time": "2024-05-11T00:02:09.422798",
     "exception": false,
     "start_time": "2024-05-11T00:02:09.416635",
     "status": "completed"
    },
    "tags": []
   },
   "source": [
    "# Scikit-learn intergrates with NumPy"
   ]
  },
  {
   "cell_type": "code",
   "execution_count": 9,
   "id": "6b5efaa7",
   "metadata": {
    "execution": {
     "iopub.execute_input": "2024-05-11T00:02:09.439477Z",
     "iopub.status.busy": "2024-05-11T00:02:09.438683Z",
     "iopub.status.idle": "2024-05-11T00:02:11.123972Z",
     "shell.execute_reply": "2024-05-11T00:02:11.122701Z"
    },
    "papermill": {
     "duration": 1.69787,
     "end_time": "2024-05-11T00:02:11.128396",
     "exception": false,
     "start_time": "2024-05-11T00:02:09.430526",
     "status": "completed"
    },
    "tags": []
   },
   "outputs": [
    {
     "name": "stdout",
     "output_type": "stream",
     "text": [
      "[12.]\n"
     ]
    }
   ],
   "source": [
    "from sklearn.linear_model import LinearRegression\n",
    "\n",
    "# create a NumPy array\n",
    "arr = np.array([[1], [2], [3], [4], [5]])\n",
    "\n",
    "# create a linear regression model\n",
    "model = LinearRegression()\n",
    "\n",
    "# train the model\n",
    "model.fit(arr, np.array([2, 4, 6, 8, 10]))\n",
    "\n",
    "# make a prediction\n",
    "prediction = model.predict(np.array([[6]]))\n",
    "\n",
    "print(prediction)"
   ]
  },
  {
   "cell_type": "markdown",
   "id": "9396b91b",
   "metadata": {
    "papermill": {
     "duration": 0.006244,
     "end_time": "2024-05-11T00:02:11.141338",
     "exception": false,
     "start_time": "2024-05-11T00:02:11.135094",
     "status": "completed"
    },
    "tags": []
   },
   "source": [
    "# Credit\n",
    "\n",
    "* https://blog.stackademic.com/numpy-in-real-world-data-science-projects-abfb517507e1"
   ]
  }
 ],
 "metadata": {
  "kaggle": {
   "accelerator": "none",
   "dataSources": [],
   "dockerImageVersionId": 30698,
   "isGpuEnabled": false,
   "isInternetEnabled": true,
   "language": "python",
   "sourceType": "notebook"
  },
  "kernelspec": {
   "display_name": "Python 3",
   "language": "python",
   "name": "python3"
  },
  "language_info": {
   "codemirror_mode": {
    "name": "ipython",
    "version": 3
   },
   "file_extension": ".py",
   "mimetype": "text/x-python",
   "name": "python",
   "nbconvert_exporter": "python",
   "pygments_lexer": "ipython3",
   "version": "3.10.13"
  },
  "papermill": {
   "default_parameters": {},
   "duration": 6.422181,
   "end_time": "2024-05-11T00:02:11.871890",
   "environment_variables": {},
   "exception": null,
   "input_path": "__notebook__.ipynb",
   "output_path": "__notebook__.ipynb",
   "parameters": {},
   "start_time": "2024-05-11T00:02:05.449709",
   "version": "2.5.0"
  }
 },
 "nbformat": 4,
 "nbformat_minor": 5
}
