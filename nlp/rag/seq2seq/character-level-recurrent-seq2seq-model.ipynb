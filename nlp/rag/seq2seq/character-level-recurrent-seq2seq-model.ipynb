{
 "cells": [
  {
   "cell_type": "markdown",
   "id": "538fa58a",
   "metadata": {
    "_cell_guid": "b1076dfc-b9ad-4769-8c92-a6c4dae69d19",
    "_uuid": "8f2839f25d086af736a60e9eeb907d3b93b6e0e5",
    "papermill": {
     "duration": 0.005685,
     "end_time": "2024-03-14T06:08:15.311391",
     "exception": false,
     "start_time": "2024-03-14T06:08:15.305706",
     "status": "completed"
    },
    "tags": []
   },
   "source": [
    "# Overview\n",
    "\n",
    "In this notebook, we implement a basic character-level recurrent sequence-to-sequence model. We apply it to translating short English sentences into short French sentences, character-by-character. Normally, word-level models are more common in machine translation domain.\n",
    "\n",
    "We will start with input sentences from a English sentences and corresponding target sequences from French sentences. And we will use LSTM as an encoder turns input sequences to 2 state vectors(the last LSTM state and discard the outputs). A LSTM decoder is trained to turn the target sequences into the same sequence but offset by one timestep in the future, a training process called \"teacher forcing\" in this context. It uses as initial state the state vectors from the encoder. \n",
    "\n",
    "In inference mode, when we want to decode unknown input sequences, we encode the input sequence into state vectors. -Start with a target sequence of size 1(just the start-of-sequence character). - Feed the state vectors and 1-char target sequence to the decoder to produce predictions for the next character - Sample the next character using these predictions(here we use argmax). And append the sampled character to the target sequence- Repeat until we generate the end-of-sequence character or we hit the character limit.\n",
    "\n",
    "\n",
    "# Loading the Dataset"
   ]
  },
  {
   "cell_type": "code",
   "execution_count": 1,
   "id": "f0c91181",
   "metadata": {
    "execution": {
     "iopub.execute_input": "2024-03-14T06:08:15.323449Z",
     "iopub.status.busy": "2024-03-14T06:08:15.323062Z",
     "iopub.status.idle": "2024-03-14T06:08:18.226163Z",
     "shell.execute_reply": "2024-03-14T06:08:18.224791Z"
    },
    "papermill": {
     "duration": 2.911975,
     "end_time": "2024-03-14T06:08:18.228755",
     "exception": false,
     "start_time": "2024-03-14T06:08:15.316780",
     "status": "completed"
    },
    "tags": []
   },
   "outputs": [],
   "source": [
    "%%capture\n",
    "!wget http://www.manythings.org/anki/fra-eng.zip"
   ]
  },
  {
   "cell_type": "code",
   "execution_count": 2,
   "id": "f6b4132d",
   "metadata": {
    "execution": {
     "iopub.execute_input": "2024-03-14T06:08:18.240583Z",
     "iopub.status.busy": "2024-03-14T06:08:18.240219Z",
     "iopub.status.idle": "2024-03-14T06:08:19.459426Z",
     "shell.execute_reply": "2024-03-14T06:08:19.458450Z"
    },
    "papermill": {
     "duration": 1.228079,
     "end_time": "2024-03-14T06:08:19.461897",
     "exception": false,
     "start_time": "2024-03-14T06:08:18.233818",
     "status": "completed"
    },
    "tags": []
   },
   "outputs": [
    {
     "name": "stdout",
     "output_type": "stream",
     "text": [
      "Archive:  fra-eng.zip\r\n",
      "  inflating: _about.txt              \r\n",
      "  inflating: fra.txt                 \r\n"
     ]
    }
   ],
   "source": [
    "!unzip fra-eng.zip"
   ]
  },
  {
   "cell_type": "markdown",
   "id": "c4f0da7a",
   "metadata": {
    "papermill": {
     "duration": 0.004544,
     "end_time": "2024-03-14T06:08:19.471715",
     "exception": false,
     "start_time": "2024-03-14T06:08:19.467171",
     "status": "completed"
    },
    "tags": []
   },
   "source": [
    "# Preparing the Data"
   ]
  },
  {
   "cell_type": "code",
   "execution_count": 3,
   "id": "a418da47",
   "metadata": {
    "execution": {
     "iopub.execute_input": "2024-03-14T06:08:19.482783Z",
     "iopub.status.busy": "2024-03-14T06:08:19.482468Z",
     "iopub.status.idle": "2024-03-14T06:08:19.716086Z",
     "shell.execute_reply": "2024-03-14T06:08:19.714878Z"
    },
    "papermill": {
     "duration": 0.241837,
     "end_time": "2024-03-14T06:08:19.718321",
     "exception": false,
     "start_time": "2024-03-14T06:08:19.476484",
     "status": "completed"
    },
    "tags": []
   },
   "outputs": [
    {
     "name": "stdout",
     "output_type": "stream",
     "text": [
      "Number of samples: 10000\n",
      "Number of unique input tokens: 70\n",
      "Number of unique output tokens: 93\n",
      "Max sequence length for inputs: 14\n",
      "Max sequence length for outputs: 59\n"
     ]
    }
   ],
   "source": [
    "import os\n",
    "\n",
    "num_samples=10000 # number of samples to train on\n",
    "\n",
    "# vectorize the data\n",
    "input_texts=[]\n",
    "target_texts=[]\n",
    "input_characters=set()\n",
    "target_characters=set()\n",
    "\n",
    "data_path=os.path.join('', \"fra.txt\")\n",
    "\n",
    "with open(data_path, \"r\", encoding=\"utf-8\") as f:\n",
    "    lines=f.read().split(\"\\n\")\n",
    "    \n",
    "\n",
    "for line in lines[:min(num_samples, len(lines)-1)]:\n",
    "    input_text, target_text,_=line.split(\"\\t\")\n",
    "    # we use \"tab\" as the \"start sequence\" character for the targets, and \"\\n\" as \"end sequence\" character\n",
    "    target_text=\"\\t\"+target_text+\"\\n\"\n",
    "    input_texts.append(input_text)\n",
    "    target_texts.append(target_text)\n",
    "    \n",
    "    for char in input_text:\n",
    "        if char not in input_characters:\n",
    "            input_characters.add(char)\n",
    "    for char in target_text:\n",
    "        if char not in target_characters:\n",
    "            target_characters.add(char)\n",
    "\n",
    "input_characters=sorted(list(input_characters))\n",
    "target_characters=sorted(list(target_characters))\n",
    "num_encoder_tokens=len(input_characters)\n",
    "num_decoder_tokens=len(target_characters)\n",
    "max_encoder_seq_length=max([len(txt) for txt in input_texts])\n",
    "max_decoder_seq_length=max([len(txt) for txt in target_texts])\n",
    "\n",
    "print(\"Number of samples:\", len(input_texts))\n",
    "print(\"Number of unique input tokens:\", num_encoder_tokens)\n",
    "print(\"Number of unique output tokens:\", num_decoder_tokens)\n",
    "print(\"Max sequence length for inputs:\", max_encoder_seq_length)\n",
    "print(\"Max sequence length for outputs:\", max_decoder_seq_length)"
   ]
  },
  {
   "cell_type": "code",
   "execution_count": 4,
   "id": "a2bb0f65",
   "metadata": {
    "execution": {
     "iopub.execute_input": "2024-03-14T06:08:19.730166Z",
     "iopub.status.busy": "2024-03-14T06:08:19.729826Z",
     "iopub.status.idle": "2024-03-14T06:08:20.345317Z",
     "shell.execute_reply": "2024-03-14T06:08:20.343600Z"
    },
    "papermill": {
     "duration": 0.625075,
     "end_time": "2024-03-14T06:08:20.348715",
     "exception": false,
     "start_time": "2024-03-14T06:08:19.723640",
     "status": "completed"
    },
    "tags": []
   },
   "outputs": [],
   "source": [
    "import numpy as np\n",
    "\n",
    "input_token_index=dict([(char, i) for i, char in enumerate(input_characters)])\n",
    "target_token_index=dict([(char, i) for i, char in enumerate(target_characters)])\n",
    "\n",
    "encoder_input_data=np.zeros(\n",
    "    (len(input_texts), max_encoder_seq_length, num_encoder_tokens), dtype=\"float32\"\n",
    ")\n",
    "\n",
    "decoder_input_data=np.zeros(\n",
    "    (len(input_texts), max_decoder_seq_length, num_decoder_tokens), dtype=\"float32\"\n",
    ")\n",
    "\n",
    "decoder_target_data=np.zeros(\n",
    "    (len(input_texts), max_decoder_seq_length, num_decoder_tokens), dtype=\"float32\"\n",
    ")\n",
    "\n",
    "for i, (input_text, target_text) in enumerate(zip(input_texts, target_texts)):\n",
    "    for t, char in enumerate(input_text):\n",
    "        encoder_input_data[i, t, input_token_index[char]]=1.0\n",
    "    encoder_input_data[i, t+1:, input_token_index[\" \"]]=1.0\n",
    "    for t, char in enumerate(target_text):\n",
    "        decoder_input_data[t, t,target_token_index[char]]=1.0\n",
    "        if t>0:\n",
    "            decoder_target_data[i, t-1, target_token_index[char]]=1.0\n",
    "    decoder_input_data[i, t+1:, target_token_index[\" \"]]=1.0\n",
    "    decoder_target_data[i, t:, target_token_index[\" \"]]=1.0"
   ]
  },
  {
   "cell_type": "markdown",
   "id": "e66a67d7",
   "metadata": {
    "papermill": {
     "duration": 0.00539,
     "end_time": "2024-03-14T06:08:20.359466",
     "exception": false,
     "start_time": "2024-03-14T06:08:20.354076",
     "status": "completed"
    },
    "tags": []
   },
   "source": [
    "# Build the Model"
   ]
  },
  {
   "cell_type": "code",
   "execution_count": 5,
   "id": "f2cc94fc",
   "metadata": {
    "execution": {
     "iopub.execute_input": "2024-03-14T06:08:20.370928Z",
     "iopub.status.busy": "2024-03-14T06:08:20.370599Z",
     "iopub.status.idle": "2024-03-14T06:08:34.356496Z",
     "shell.execute_reply": "2024-03-14T06:08:34.355453Z"
    },
    "papermill": {
     "duration": 13.994101,
     "end_time": "2024-03-14T06:08:34.358677",
     "exception": false,
     "start_time": "2024-03-14T06:08:20.364576",
     "status": "completed"
    },
    "tags": []
   },
   "outputs": [
    {
     "name": "stderr",
     "output_type": "stream",
     "text": [
      "2024-03-14 06:08:22.211606: E external/local_xla/xla/stream_executor/cuda/cuda_dnn.cc:9261] Unable to register cuDNN factory: Attempting to register factory for plugin cuDNN when one has already been registered\n",
      "2024-03-14 06:08:22.211708: E external/local_xla/xla/stream_executor/cuda/cuda_fft.cc:607] Unable to register cuFFT factory: Attempting to register factory for plugin cuFFT when one has already been registered\n",
      "2024-03-14 06:08:22.329168: E external/local_xla/xla/stream_executor/cuda/cuda_blas.cc:1515] Unable to register cuBLAS factory: Attempting to register factory for plugin cuBLAS when one has already been registered\n"
     ]
    },
    {
     "data": {
      "text/plain": [
       "<Functional name=functional_1, built=True>"
      ]
     },
     "execution_count": 5,
     "metadata": {},
     "output_type": "execute_result"
    }
   ],
   "source": [
    "import keras\n",
    "\n",
    "latent_dim=256 # Latnet dimensionality of the encoding space\n",
    "\n",
    "# Define an input sequence and process it\n",
    "encoder_inputs=keras.Input(shape=(None, num_encoder_tokens))\n",
    "encoder=keras.layers.LSTM(latent_dim, return_state=True)\n",
    "encoder_outputs, state_h, state_c=encoder(encoder_inputs)\n",
    "\n",
    "# we discard encoder_outputs and only keep the states\n",
    "encoder_states=[state_h, state_c]\n",
    "\n",
    "# set up the decoder, using encoder_states as initial state\n",
    "decoder_inputs=keras.Input(shape=(None, num_decoder_tokens))\n",
    "\n",
    "# we set up our decoder to return full output sequences, and to return internal states as well. We do not use the return\n",
    "# states in the trianing model, but we will use them in inference.\n",
    "decoder_lstm=keras.layers.LSTM(latent_dim, return_sequences=True, return_state=True)\n",
    "decoder_outputs, _, _=decoder_lstm(decoder_inputs, initial_state=encoder_states)\n",
    "decoder_dense=keras.layers.Dense(num_decoder_tokens, activation=\"softmax\")\n",
    "decoder_outputs=decoder_dense(decoder_outputs)\n",
    "\n",
    "# define the model that will turn `encoder_input_data` & `decoder_input_data` into `decoder_target_data`\n",
    "model=keras.Model(\n",
    "    [encoder_inputs, decoder_inputs],\n",
    "    decoder_outputs\n",
    ")\n",
    "\n",
    "model"
   ]
  },
  {
   "cell_type": "markdown",
   "id": "e38f60ee",
   "metadata": {
    "papermill": {
     "duration": 0.005296,
     "end_time": "2024-03-14T06:08:34.369169",
     "exception": false,
     "start_time": "2024-03-14T06:08:34.363873",
     "status": "completed"
    },
    "tags": []
   },
   "source": [
    "# Train the Model"
   ]
  },
  {
   "cell_type": "code",
   "execution_count": 6,
   "id": "d86c74b8",
   "metadata": {
    "execution": {
     "iopub.execute_input": "2024-03-14T06:08:34.381409Z",
     "iopub.status.busy": "2024-03-14T06:08:34.380762Z",
     "iopub.status.idle": "2024-03-14T06:08:34.386923Z",
     "shell.execute_reply": "2024-03-14T06:08:34.386032Z"
    },
    "papermill": {
     "duration": 0.014568,
     "end_time": "2024-03-14T06:08:34.388980",
     "exception": false,
     "start_time": "2024-03-14T06:08:34.374412",
     "status": "completed"
    },
    "tags": []
   },
   "outputs": [
    {
     "data": {
      "text/plain": [
       "[PhysicalDevice(name='/physical_device:GPU:0', device_type='GPU')]"
      ]
     },
     "execution_count": 6,
     "metadata": {},
     "output_type": "execute_result"
    }
   ],
   "source": [
    "import tensorflow as tf\n",
    "\n",
    "tf.config.experimental.list_physical_devices('GPU')"
   ]
  },
  {
   "cell_type": "code",
   "execution_count": 7,
   "id": "b5d6be21",
   "metadata": {
    "execution": {
     "iopub.execute_input": "2024-03-14T06:08:34.402616Z",
     "iopub.status.busy": "2024-03-14T06:08:34.401943Z",
     "iopub.status.idle": "2024-03-14T06:08:34.406121Z",
     "shell.execute_reply": "2024-03-14T06:08:34.405207Z"
    },
    "papermill": {
     "duration": 0.013422,
     "end_time": "2024-03-14T06:08:34.408029",
     "exception": false,
     "start_time": "2024-03-14T06:08:34.394607",
     "status": "completed"
    },
    "tags": []
   },
   "outputs": [],
   "source": [
    "tf.debugging.set_log_device_placement(True)"
   ]
  },
  {
   "cell_type": "code",
   "execution_count": 8,
   "id": "f79b3666",
   "metadata": {
    "execution": {
     "iopub.execute_input": "2024-03-14T06:08:34.420071Z",
     "iopub.status.busy": "2024-03-14T06:08:34.419503Z",
     "iopub.status.idle": "2024-03-14T06:09:52.248220Z",
     "shell.execute_reply": "2024-03-14T06:09:52.247411Z"
    },
    "papermill": {
     "duration": 77.8372,
     "end_time": "2024-03-14T06:09:52.250522",
     "exception": false,
     "start_time": "2024-03-14T06:08:34.413322",
     "status": "completed"
    },
    "tags": []
   },
   "outputs": [
    {
     "name": "stdout",
     "output_type": "stream",
     "text": [
      "Epoch 1/50\n",
      "\u001b[1m125/125\u001b[0m \u001b[32m━━━━━━━━━━━━━━━━━━━━\u001b[0m\u001b[37m\u001b[0m \u001b[1m4s\u001b[0m 16ms/step - accuracy: 0.7055 - loss: 1.5872 - val_accuracy: 0.7129 - val_loss: 1.1143\n",
      "Epoch 2/50\n",
      "\u001b[1m125/125\u001b[0m \u001b[32m━━━━━━━━━━━━━━━━━━━━\u001b[0m\u001b[37m\u001b[0m \u001b[1m1s\u001b[0m 12ms/step - accuracy: 0.7442 - loss: 0.9866 - val_accuracy: 0.7129 - val_loss: 1.0468\n",
      "Epoch 3/50\n",
      "\u001b[1m125/125\u001b[0m \u001b[32m━━━━━━━━━━━━━━━━━━━━\u001b[0m\u001b[37m\u001b[0m \u001b[1m1s\u001b[0m 12ms/step - accuracy: 0.7442 - loss: 0.9334 - val_accuracy: 0.7193 - val_loss: 1.0117\n",
      "Epoch 4/50\n",
      "\u001b[1m125/125\u001b[0m \u001b[32m━━━━━━━━━━━━━━━━━━━━\u001b[0m\u001b[37m\u001b[0m \u001b[1m1s\u001b[0m 12ms/step - accuracy: 0.7484 - loss: 0.9007 - val_accuracy: 0.7165 - val_loss: 0.9951\n",
      "Epoch 5/50\n",
      "\u001b[1m125/125\u001b[0m \u001b[32m━━━━━━━━━━━━━━━━━━━━\u001b[0m\u001b[37m\u001b[0m \u001b[1m1s\u001b[0m 12ms/step - accuracy: 0.7486 - loss: 0.8928 - val_accuracy: 0.7222 - val_loss: 0.9844\n",
      "Epoch 6/50\n",
      "\u001b[1m125/125\u001b[0m \u001b[32m━━━━━━━━━━━━━━━━━━━━\u001b[0m\u001b[37m\u001b[0m \u001b[1m1s\u001b[0m 12ms/step - accuracy: 0.7504 - loss: 0.8847 - val_accuracy: 0.7243 - val_loss: 0.9689\n",
      "Epoch 7/50\n",
      "\u001b[1m125/125\u001b[0m \u001b[32m━━━━━━━━━━━━━━━━━━━━\u001b[0m\u001b[37m\u001b[0m \u001b[1m1s\u001b[0m 12ms/step - accuracy: 0.7534 - loss: 0.8708 - val_accuracy: 0.7243 - val_loss: 0.9620\n",
      "Epoch 8/50\n",
      "\u001b[1m125/125\u001b[0m \u001b[32m━━━━━━━━━━━━━━━━━━━━\u001b[0m\u001b[37m\u001b[0m \u001b[1m1s\u001b[0m 12ms/step - accuracy: 0.7559 - loss: 0.8613 - val_accuracy: 0.7323 - val_loss: 0.9510\n",
      "Epoch 9/50\n",
      "\u001b[1m125/125\u001b[0m \u001b[32m━━━━━━━━━━━━━━━━━━━━\u001b[0m\u001b[37m\u001b[0m \u001b[1m1s\u001b[0m 12ms/step - accuracy: 0.7572 - loss: 0.8575 - val_accuracy: 0.7332 - val_loss: 0.9407\n",
      "Epoch 10/50\n",
      "\u001b[1m125/125\u001b[0m \u001b[32m━━━━━━━━━━━━━━━━━━━━\u001b[0m\u001b[37m\u001b[0m \u001b[1m1s\u001b[0m 12ms/step - accuracy: 0.7594 - loss: 0.8516 - val_accuracy: 0.7331 - val_loss: 0.9315\n",
      "Epoch 11/50\n",
      "\u001b[1m125/125\u001b[0m \u001b[32m━━━━━━━━━━━━━━━━━━━━\u001b[0m\u001b[37m\u001b[0m \u001b[1m1s\u001b[0m 12ms/step - accuracy: 0.7605 - loss: 0.8474 - val_accuracy: 0.7373 - val_loss: 0.9305\n",
      "Epoch 12/50\n",
      "\u001b[1m125/125\u001b[0m \u001b[32m━━━━━━━━━━━━━━━━━━━━\u001b[0m\u001b[37m\u001b[0m \u001b[1m1s\u001b[0m 12ms/step - accuracy: 0.7617 - loss: 0.8408 - val_accuracy: 0.7387 - val_loss: 0.9190\n",
      "Epoch 13/50\n",
      "\u001b[1m125/125\u001b[0m \u001b[32m━━━━━━━━━━━━━━━━━━━━\u001b[0m\u001b[37m\u001b[0m \u001b[1m1s\u001b[0m 12ms/step - accuracy: 0.7629 - loss: 0.8363 - val_accuracy: 0.7399 - val_loss: 0.9125\n",
      "Epoch 14/50\n",
      "\u001b[1m125/125\u001b[0m \u001b[32m━━━━━━━━━━━━━━━━━━━━\u001b[0m\u001b[37m\u001b[0m \u001b[1m1s\u001b[0m 12ms/step - accuracy: 0.7651 - loss: 0.8288 - val_accuracy: 0.7431 - val_loss: 0.9074\n",
      "Epoch 15/50\n",
      "\u001b[1m125/125\u001b[0m \u001b[32m━━━━━━━━━━━━━━━━━━━━\u001b[0m\u001b[37m\u001b[0m \u001b[1m1s\u001b[0m 12ms/step - accuracy: 0.7669 - loss: 0.8247 - val_accuracy: 0.7461 - val_loss: 0.8990\n",
      "Epoch 16/50\n",
      "\u001b[1m125/125\u001b[0m \u001b[32m━━━━━━━━━━━━━━━━━━━━\u001b[0m\u001b[37m\u001b[0m \u001b[1m2s\u001b[0m 12ms/step - accuracy: 0.7705 - loss: 0.8120 - val_accuracy: 0.7473 - val_loss: 0.8961\n",
      "Epoch 17/50\n",
      "\u001b[1m125/125\u001b[0m \u001b[32m━━━━━━━━━━━━━━━━━━━━\u001b[0m\u001b[37m\u001b[0m \u001b[1m1s\u001b[0m 12ms/step - accuracy: 0.7696 - loss: 0.8150 - val_accuracy: 0.7436 - val_loss: 0.8918\n",
      "Epoch 18/50\n",
      "\u001b[1m125/125\u001b[0m \u001b[32m━━━━━━━━━━━━━━━━━━━━\u001b[0m\u001b[37m\u001b[0m \u001b[1m1s\u001b[0m 12ms/step - accuracy: 0.7729 - loss: 0.8039 - val_accuracy: 0.7496 - val_loss: 0.8816\n",
      "Epoch 19/50\n",
      "\u001b[1m125/125\u001b[0m \u001b[32m━━━━━━━━━━━━━━━━━━━━\u001b[0m\u001b[37m\u001b[0m \u001b[1m3s\u001b[0m 11ms/step - accuracy: 0.7746 - loss: 0.7984 - val_accuracy: 0.7486 - val_loss: 0.8839\n",
      "Epoch 20/50\n",
      "\u001b[1m125/125\u001b[0m \u001b[32m━━━━━━━━━━━━━━━━━━━━\u001b[0m\u001b[37m\u001b[0m \u001b[1m1s\u001b[0m 12ms/step - accuracy: 0.7733 - loss: 0.7977 - val_accuracy: 0.7492 - val_loss: 0.8839\n",
      "Epoch 21/50\n",
      "\u001b[1m125/125\u001b[0m \u001b[32m━━━━━━━━━━━━━━━━━━━━\u001b[0m\u001b[37m\u001b[0m \u001b[1m1s\u001b[0m 12ms/step - accuracy: 0.7750 - loss: 0.7956 - val_accuracy: 0.7513 - val_loss: 0.8769\n",
      "Epoch 22/50\n",
      "\u001b[1m125/125\u001b[0m \u001b[32m━━━━━━━━━━━━━━━━━━━━\u001b[0m\u001b[37m\u001b[0m \u001b[1m1s\u001b[0m 12ms/step - accuracy: 0.7746 - loss: 0.7939 - val_accuracy: 0.7513 - val_loss: 0.8787\n",
      "Epoch 23/50\n",
      "\u001b[1m125/125\u001b[0m \u001b[32m━━━━━━━━━━━━━━━━━━━━\u001b[0m\u001b[37m\u001b[0m \u001b[1m1s\u001b[0m 11ms/step - accuracy: 0.7731 - loss: 0.7998 - val_accuracy: 0.7516 - val_loss: 0.8747\n",
      "Epoch 24/50\n",
      "\u001b[1m125/125\u001b[0m \u001b[32m━━━━━━━━━━━━━━━━━━━━\u001b[0m\u001b[37m\u001b[0m \u001b[1m1s\u001b[0m 11ms/step - accuracy: 0.7771 - loss: 0.7834 - val_accuracy: 0.7529 - val_loss: 0.8703\n",
      "Epoch 25/50\n",
      "\u001b[1m125/125\u001b[0m \u001b[32m━━━━━━━━━━━━━━━━━━━━\u001b[0m\u001b[37m\u001b[0m \u001b[1m1s\u001b[0m 11ms/step - accuracy: 0.7776 - loss: 0.7811 - val_accuracy: 0.7510 - val_loss: 0.8736\n",
      "Epoch 26/50\n",
      "\u001b[1m125/125\u001b[0m \u001b[32m━━━━━━━━━━━━━━━━━━━━\u001b[0m\u001b[37m\u001b[0m \u001b[1m1s\u001b[0m 12ms/step - accuracy: 0.7784 - loss: 0.7789 - val_accuracy: 0.7528 - val_loss: 0.8664\n",
      "Epoch 27/50\n",
      "\u001b[1m125/125\u001b[0m \u001b[32m━━━━━━━━━━━━━━━━━━━━\u001b[0m\u001b[37m\u001b[0m \u001b[1m1s\u001b[0m 12ms/step - accuracy: 0.7777 - loss: 0.7779 - val_accuracy: 0.7541 - val_loss: 0.8707\n",
      "Epoch 28/50\n",
      "\u001b[1m125/125\u001b[0m \u001b[32m━━━━━━━━━━━━━━━━━━━━\u001b[0m\u001b[37m\u001b[0m \u001b[1m1s\u001b[0m 11ms/step - accuracy: 0.7810 - loss: 0.7701 - val_accuracy: 0.7546 - val_loss: 0.8654\n",
      "Epoch 29/50\n",
      "\u001b[1m125/125\u001b[0m \u001b[32m━━━━━━━━━━━━━━━━━━━━\u001b[0m\u001b[37m\u001b[0m \u001b[1m1s\u001b[0m 12ms/step - accuracy: 0.7793 - loss: 0.7737 - val_accuracy: 0.7537 - val_loss: 0.8695\n",
      "Epoch 30/50\n",
      "\u001b[1m125/125\u001b[0m \u001b[32m━━━━━━━━━━━━━━━━━━━━\u001b[0m\u001b[37m\u001b[0m \u001b[1m1s\u001b[0m 12ms/step - accuracy: 0.7816 - loss: 0.7670 - val_accuracy: 0.7544 - val_loss: 0.8622\n",
      "Epoch 31/50\n",
      "\u001b[1m125/125\u001b[0m \u001b[32m━━━━━━━━━━━━━━━━━━━━\u001b[0m\u001b[37m\u001b[0m \u001b[1m1s\u001b[0m 11ms/step - accuracy: 0.7819 - loss: 0.7633 - val_accuracy: 0.7559 - val_loss: 0.8587\n",
      "Epoch 32/50\n",
      "\u001b[1m125/125\u001b[0m \u001b[32m━━━━━━━━━━━━━━━━━━━━\u001b[0m\u001b[37m\u001b[0m \u001b[1m1s\u001b[0m 11ms/step - accuracy: 0.7818 - loss: 0.7644 - val_accuracy: 0.7568 - val_loss: 0.8549\n",
      "Epoch 33/50\n",
      "\u001b[1m125/125\u001b[0m \u001b[32m━━━━━━━━━━━━━━━━━━━━\u001b[0m\u001b[37m\u001b[0m \u001b[1m1s\u001b[0m 11ms/step - accuracy: 0.7848 - loss: 0.7526 - val_accuracy: 0.7554 - val_loss: 0.8595\n",
      "Epoch 34/50\n",
      "\u001b[1m125/125\u001b[0m \u001b[32m━━━━━━━━━━━━━━━━━━━━\u001b[0m\u001b[37m\u001b[0m \u001b[1m1s\u001b[0m 11ms/step - accuracy: 0.7839 - loss: 0.7536 - val_accuracy: 0.7556 - val_loss: 0.8590\n",
      "Epoch 35/50\n",
      "\u001b[1m125/125\u001b[0m \u001b[32m━━━━━━━━━━━━━━━━━━━━\u001b[0m\u001b[37m\u001b[0m \u001b[1m1s\u001b[0m 11ms/step - accuracy: 0.7838 - loss: 0.7548 - val_accuracy: 0.7566 - val_loss: 0.8549\n",
      "Epoch 36/50\n",
      "\u001b[1m125/125\u001b[0m \u001b[32m━━━━━━━━━━━━━━━━━━━━\u001b[0m\u001b[37m\u001b[0m \u001b[1m1s\u001b[0m 11ms/step - accuracy: 0.7847 - loss: 0.7490 - val_accuracy: 0.7588 - val_loss: 0.8510\n",
      "Epoch 37/50\n",
      "\u001b[1m125/125\u001b[0m \u001b[32m━━━━━━━━━━━━━━━━━━━━\u001b[0m\u001b[37m\u001b[0m \u001b[1m2s\u001b[0m 12ms/step - accuracy: 0.7843 - loss: 0.7532 - val_accuracy: 0.7576 - val_loss: 0.8518\n",
      "Epoch 38/50\n",
      "\u001b[1m125/125\u001b[0m \u001b[32m━━━━━━━━━━━━━━━━━━━━\u001b[0m\u001b[37m\u001b[0m \u001b[1m1s\u001b[0m 11ms/step - accuracy: 0.7861 - loss: 0.7446 - val_accuracy: 0.7587 - val_loss: 0.8501\n",
      "Epoch 39/50\n",
      "\u001b[1m125/125\u001b[0m \u001b[32m━━━━━━━━━━━━━━━━━━━━\u001b[0m\u001b[37m\u001b[0m \u001b[1m1s\u001b[0m 11ms/step - accuracy: 0.7846 - loss: 0.7511 - val_accuracy: 0.7612 - val_loss: 0.8443\n",
      "Epoch 40/50\n",
      "\u001b[1m125/125\u001b[0m \u001b[32m━━━━━━━━━━━━━━━━━━━━\u001b[0m\u001b[37m\u001b[0m \u001b[1m1s\u001b[0m 11ms/step - accuracy: 0.7871 - loss: 0.7389 - val_accuracy: 0.7584 - val_loss: 0.8476\n",
      "Epoch 41/50\n",
      "\u001b[1m125/125\u001b[0m \u001b[32m━━━━━━━━━━━━━━━━━━━━\u001b[0m\u001b[37m\u001b[0m \u001b[1m1s\u001b[0m 11ms/step - accuracy: 0.7866 - loss: 0.7414 - val_accuracy: 0.7568 - val_loss: 0.8488\n",
      "Epoch 42/50\n",
      "\u001b[1m125/125\u001b[0m \u001b[32m━━━━━━━━━━━━━━━━━━━━\u001b[0m\u001b[37m\u001b[0m \u001b[1m1s\u001b[0m 12ms/step - accuracy: 0.7877 - loss: 0.7379 - val_accuracy: 0.7596 - val_loss: 0.8478\n",
      "Epoch 43/50\n",
      "\u001b[1m125/125\u001b[0m \u001b[32m━━━━━━━━━━━━━━━━━━━━\u001b[0m\u001b[37m\u001b[0m \u001b[1m1s\u001b[0m 11ms/step - accuracy: 0.7876 - loss: 0.7365 - val_accuracy: 0.7597 - val_loss: 0.8475\n",
      "Epoch 44/50\n",
      "\u001b[1m125/125\u001b[0m \u001b[32m━━━━━━━━━━━━━━━━━━━━\u001b[0m\u001b[37m\u001b[0m \u001b[1m1s\u001b[0m 11ms/step - accuracy: 0.7883 - loss: 0.7358 - val_accuracy: 0.7628 - val_loss: 0.8390\n",
      "Epoch 45/50\n",
      "\u001b[1m125/125\u001b[0m \u001b[32m━━━━━━━━━━━━━━━━━━━━\u001b[0m\u001b[37m\u001b[0m \u001b[1m1s\u001b[0m 11ms/step - accuracy: 0.7903 - loss: 0.7271 - val_accuracy: 0.7615 - val_loss: 0.8390\n",
      "Epoch 46/50\n",
      "\u001b[1m125/125\u001b[0m \u001b[32m━━━━━━━━━━━━━━━━━━━━\u001b[0m\u001b[37m\u001b[0m \u001b[1m1s\u001b[0m 11ms/step - accuracy: 0.7892 - loss: 0.7319 - val_accuracy: 0.7616 - val_loss: 0.8421\n",
      "Epoch 47/50\n",
      "\u001b[1m125/125\u001b[0m \u001b[32m━━━━━━━━━━━━━━━━━━━━\u001b[0m\u001b[37m\u001b[0m \u001b[1m1s\u001b[0m 11ms/step - accuracy: 0.7893 - loss: 0.7277 - val_accuracy: 0.7631 - val_loss: 0.8377\n",
      "Epoch 48/50\n",
      "\u001b[1m125/125\u001b[0m \u001b[32m━━━━━━━━━━━━━━━━━━━━\u001b[0m\u001b[37m\u001b[0m \u001b[1m1s\u001b[0m 11ms/step - accuracy: 0.7902 - loss: 0.7267 - val_accuracy: 0.7617 - val_loss: 0.8380\n",
      "Epoch 49/50\n",
      "\u001b[1m125/125\u001b[0m \u001b[32m━━━━━━━━━━━━━━━━━━━━\u001b[0m\u001b[37m\u001b[0m \u001b[1m1s\u001b[0m 11ms/step - accuracy: 0.7908 - loss: 0.7211 - val_accuracy: 0.7619 - val_loss: 0.8405\n",
      "Epoch 50/50\n",
      "\u001b[1m125/125\u001b[0m \u001b[32m━━━━━━━━━━━━━━━━━━━━\u001b[0m\u001b[37m\u001b[0m \u001b[1m1s\u001b[0m 11ms/step - accuracy: 0.7921 - loss: 0.7177 - val_accuracy: 0.7628 - val_loss: 0.8373\n"
     ]
    }
   ],
   "source": [
    "epochs=50 # number of epochs to train for\n",
    "batch_size=64 # batch size of training\n",
    "\n",
    "model.compile(optimizer=\"rmsprop\", loss=\"categorical_crossentropy\", metrics=[\"accuracy\"])\n",
    "\n",
    "model.fit(\n",
    "    [encoder_input_data, decoder_input_data],\n",
    "    decoder_target_data,\n",
    "    batch_size=batch_size,\n",
    "    epochs=epochs,\n",
    "    validation_split=0.2\n",
    ")\n",
    "\n",
    "# save model\n",
    "model.save(\"s2s_model.keras\")"
   ]
  },
  {
   "cell_type": "markdown",
   "id": "107802bc",
   "metadata": {
    "papermill": {
     "duration": 0.101704,
     "end_time": "2024-03-14T06:09:52.453987",
     "exception": false,
     "start_time": "2024-03-14T06:09:52.352283",
     "status": "completed"
    },
    "tags": []
   },
   "source": [
    "# Inference\n",
    "\n",
    "* Encoding input and retrieve intial decoder state\n",
    "* Runing one step of decoder with this initial state and a \"start of sequence\" token as target. Output wil be the bext target token\n",
    "* Repeat with the current target token and curent states"
   ]
  },
  {
   "cell_type": "code",
   "execution_count": 9,
   "id": "6d1a97a8",
   "metadata": {
    "execution": {
     "iopub.execute_input": "2024-03-14T06:09:52.662100Z",
     "iopub.status.busy": "2024-03-14T06:09:52.661184Z",
     "iopub.status.idle": "2024-03-14T06:09:52.828186Z",
     "shell.execute_reply": "2024-03-14T06:09:52.827170Z"
    },
    "papermill": {
     "duration": 0.272439,
     "end_time": "2024-03-14T06:09:52.830522",
     "exception": false,
     "start_time": "2024-03-14T06:09:52.558083",
     "status": "completed"
    },
    "tags": []
   },
   "outputs": [],
   "source": [
    "model=keras.models.load_model(\"s2s_model.keras\")\n",
    "\n",
    "encoder_inputs=model.input[0] # input_1\n",
    "encoder_outputs, state_h_enc, state_c_enc=model.layers[2].output # lstm_1\n",
    "encoder_states=[state_h_enc, state_c_enc]\n",
    "encoder_model=keras.Model(encoder_inputs, encoder_states)\n",
    "\n",
    "decoder_inputs=model.input[1] # input_2\n",
    "decoder_state_input_h=keras.Input(shape=(latent_dim,))\n",
    "decoder_state_input_c=keras.Input(shape=(latent_dim,))\n",
    "decoder_states_inputs=[decoder_state_input_h, decoder_state_input_c]\n",
    "decoder_lstm=model.layers[3]\n",
    "decoder_outputs, state_h_dec, state_c_dec=decoder_lstm(\n",
    "    decoder_inputs, initial_state=decoder_states_inputs\n",
    ")\n",
    "\n",
    "decoder_states=[state_h_dec, state_c_dec]\n",
    "decoder_dense=model.layers[4]\n",
    "decoder_outputs=decoder_dense(decoder_outputs)\n",
    "decoder_model=keras.Model(\n",
    "    [decoder_inputs]+decoder_states_inputs, [decoder_outputs]+decoder_states\n",
    ")\n",
    "\n",
    "reverse_input_char_index=dict((i, char) for char, i in input_token_index.items())\n",
    "reverse_target_char_index=dict((i, char) for char, i in target_token_index.items())\n",
    "\n",
    "\n",
    "def decode_sequence(input_seq):\n",
    "    # encode the input as state vectors\n",
    "    states_value=encoder_model.predict(input_seq, verbose=0)\n",
    "    \n",
    "    # generate empty target sequence of length 1\n",
    "    target_seq=np.zeros((1,1, num_decoder_tokens))\n",
    "    # populate the first character of target sequence with the start character\n",
    "    target_seq[0,0, target_token_index[\"\\t\"]]=1.0\n",
    "    \n",
    "    # sampling loop for a batch of sequences (to simplify, here we assume a batch of size 1)\n",
    "    stop_condition=False\n",
    "    decoded_sentence=\"\"\n",
    "    while not stop_condition:\n",
    "        output_tokens, h,c=decoder_model.predict(\n",
    "            [target_seq]+states_value, verbose=0\n",
    "        )\n",
    "        \n",
    "        # sample a token\n",
    "        sampled_token_index=np.argmax(output_tokens[0,-1,:])\n",
    "        sampled_char=reverse_target_char_index[sampled_token_index]\n",
    "        decoded_sentence+=sampled_char\n",
    "        \n",
    "        \n",
    "        # exit condition: either hit max length of find stop character\n",
    "        if sampled_char==\"\\n\" or len(decoded_sentence) >max_decoder_seq_length:\n",
    "            stop_condition=True\n",
    "        \n",
    "        # update the target sequence (of length 1)\n",
    "        target_seq=np.zeros((1,1, num_decoder_tokens))\n",
    "        target_seq[0,0, sampled_token_index]=1.0\n",
    "        \n",
    "        # update states\n",
    "        states_value=[h,c]\n",
    "    return decoded_sentence"
   ]
  },
  {
   "cell_type": "code",
   "execution_count": 10,
   "id": "aaadcebd",
   "metadata": {
    "execution": {
     "iopub.execute_input": "2024-03-14T06:09:53.077329Z",
     "iopub.status.busy": "2024-03-14T06:09:53.076642Z",
     "iopub.status.idle": "2024-03-14T06:10:12.423195Z",
     "shell.execute_reply": "2024-03-14T06:10:12.422075Z"
    },
    "papermill": {
     "duration": 19.452169,
     "end_time": "2024-03-14T06:10:12.425287",
     "exception": false,
     "start_time": "2024-03-14T06:09:52.973118",
     "status": "completed"
    },
    "tags": []
   },
   "outputs": [
    {
     "name": "stdout",
     "output_type": "stream",
     "text": [
      "-\n",
      "Input sentence: Go.\n",
      "Decoded sentence: Fouez                                                       \n",
      "-\n",
      "Input sentence: Go.\n",
      "Decoded sentence: Fouez                                                       \n",
      "-\n",
      "Input sentence: Go.\n",
      "Decoded sentence: Fouez                                                       \n",
      "-\n",
      "Input sentence: Go.\n",
      "Decoded sentence: Fouez                                                       \n",
      "-\n",
      "Input sentence: Hi.\n",
      "Decoded sentence: Fattee                                                      \n"
     ]
    }
   ],
   "source": [
    "for seq_index in range(5):\n",
    "    # take one sequence (part of the trianing set)\n",
    "    # for trying out decoding\n",
    "    input_seq=encoder_input_data[seq_index:seq_index+1]\n",
    "    decoded_sentence=decode_sequence(input_seq)\n",
    "    print(\"-\")\n",
    "    print(\"Input sentence:\", input_texts[seq_index])\n",
    "    print(\"Decoded sentence:\", decoded_sentence)"
   ]
  },
  {
   "cell_type": "markdown",
   "id": "094c9327",
   "metadata": {
    "papermill": {
     "duration": 0.101904,
     "end_time": "2024-03-14T06:10:12.636293",
     "exception": false,
     "start_time": "2024-03-14T06:10:12.534389",
     "status": "completed"
    },
    "tags": []
   },
   "source": [
    "# Acknowledge\n",
    "* https://github.com/keras-team/keras-io/blob/master/examples/nlp/lstm_seq2seq.py\n",
    "* https://keras.io/examples/nlp/lstm_seq2seq/\n",
    "* https://huggingface.co/blog/ray-rag"
   ]
  }
 ],
 "metadata": {
  "kaggle": {
   "accelerator": "gpu",
   "dataSources": [],
   "dockerImageVersionId": 30665,
   "isGpuEnabled": true,
   "isInternetEnabled": true,
   "language": "python",
   "sourceType": "notebook"
  },
  "kernelspec": {
   "display_name": "Python 3",
   "language": "python",
   "name": "python3"
  },
  "language_info": {
   "codemirror_mode": {
    "name": "ipython",
    "version": 3
   },
   "file_extension": ".py",
   "mimetype": "text/x-python",
   "name": "python",
   "nbconvert_exporter": "python",
   "pygments_lexer": "ipython3",
   "version": "3.10.13"
  },
  "papermill": {
   "default_parameters": {},
   "duration": 122.112882,
   "end_time": "2024-03-14T06:10:14.562006",
   "environment_variables": {},
   "exception": null,
   "input_path": "__notebook__.ipynb",
   "output_path": "__notebook__.ipynb",
   "parameters": {},
   "start_time": "2024-03-14T06:08:12.449124",
   "version": "2.5.0"
  }
 },
 "nbformat": 4,
 "nbformat_minor": 5
}
