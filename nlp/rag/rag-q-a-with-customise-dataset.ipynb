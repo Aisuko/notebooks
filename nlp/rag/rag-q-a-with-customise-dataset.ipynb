{
 "cells": [
  {
   "cell_type": "markdown",
   "id": "d80dfe88",
   "metadata": {
    "_cell_guid": "b1076dfc-b9ad-4769-8c92-a6c4dae69d19",
    "_uuid": "8f2839f25d086af736a60e9eeb907d3b93b6e0e5",
    "papermill": {
     "duration": 0.003628,
     "end_time": "2024-03-11T10:44:15.315277",
     "exception": false,
     "start_time": "2024-03-11T10:44:15.311649",
     "status": "completed"
    },
    "tags": []
   },
   "source": [
    "# Overview\n",
    "\n",
    "In this notebook, we will use our own dataset as the knwoloedge of the RAG. We will load our data from CSV file. Next, loading `RagRetriever` witht the customise data. Finally, we will do some inference under the context of the customize data.\n",
    "\n",
    "\n",
    "# Installing faiss(GPU+CPU)\n",
    "\n",
    "Here we install Faceboook Faiss which is a library for efficient **similarity search** and **cluster of dense vectors**. It contains algorithms that search in sets of vectors of any size, up to ones that possibly do not fit in RAM. It also contains supporting code for evaluation and parameter tuning. Some of the most useful algorithms are implemented on the GPU. Further more, the GPU implementation can accept input from either CPU or GPU memeory. "
   ]
  },
  {
   "cell_type": "code",
   "execution_count": 1,
   "id": "296db23d",
   "metadata": {
    "execution": {
     "iopub.execute_input": "2024-03-11T10:44:15.324279Z",
     "iopub.status.busy": "2024-03-11T10:44:15.322780Z",
     "iopub.status.idle": "2024-03-11T10:48:03.541850Z",
     "shell.execute_reply": "2024-03-11T10:48:03.537527Z"
    },
    "papermill": {
     "duration": 228.234407,
     "end_time": "2024-03-11T10:48:03.552789",
     "exception": false,
     "start_time": "2024-03-11T10:44:15.318382",
     "status": "completed"
    },
    "tags": []
   },
   "outputs": [],
   "source": [
    "%%capture\n",
    "!conda install -c pytorch -c nvidia faiss-gpu=1.8.0 -y"
   ]
  },
  {
   "cell_type": "code",
   "execution_count": 2,
   "id": "c5919126",
   "metadata": {
    "execution": {
     "iopub.execute_input": "2024-03-11T10:48:03.570485Z",
     "iopub.status.busy": "2024-03-11T10:48:03.569915Z",
     "iopub.status.idle": "2024-03-11T10:48:03.804501Z",
     "shell.execute_reply": "2024-03-11T10:48:03.802955Z"
    },
    "papermill": {
     "duration": 0.24653,
     "end_time": "2024-03-11T10:48:03.808297",
     "exception": false,
     "start_time": "2024-03-11T10:48:03.561767",
     "status": "completed"
    },
    "tags": []
   },
   "outputs": [],
   "source": [
    "# for checking faiss-gpu\n",
    "import faiss"
   ]
  },
  {
   "cell_type": "markdown",
   "id": "42797431",
   "metadata": {
    "papermill": {
     "duration": 0.003206,
     "end_time": "2024-03-11T10:48:03.815291",
     "exception": false,
     "start_time": "2024-03-11T10:48:03.812085",
     "status": "completed"
    },
    "tags": []
   },
   "source": [
    "# Loading Dataset\n",
    "\n",
    "The dataset needed for RAG must have two columns:\n",
    "- title(string): title of the document\n",
    "- text(string): text of a passage of the document"
   ]
  },
  {
   "cell_type": "code",
   "execution_count": 3,
   "id": "691de37a",
   "metadata": {
    "execution": {
     "iopub.execute_input": "2024-03-11T10:48:03.827799Z",
     "iopub.status.busy": "2024-03-11T10:48:03.826028Z",
     "iopub.status.idle": "2024-03-11T10:48:05.193704Z",
     "shell.execute_reply": "2024-03-11T10:48:05.192282Z"
    },
    "papermill": {
     "duration": 1.379013,
     "end_time": "2024-03-11T10:48:05.198802",
     "exception": false,
     "start_time": "2024-03-11T10:48:03.819789",
     "status": "completed"
    },
    "tags": []
   },
   "outputs": [
    {
     "name": "stdout",
     "output_type": "stream",
     "text": [
      "(3, 2)\n"
     ]
    }
   ],
   "source": [
    "import pandas as pd\n",
    "\n",
    "csv_path='/kaggle/input/knowledge-dataset/own_knwoledge_dataset.csv'\n",
    "\n",
    "df=pd.read_csv(csv_path)\n",
    "print(df.shape)"
   ]
  }
 ],
 "metadata": {
  "kaggle": {
   "accelerator": "none",
   "dataSources": [
    {
     "datasetId": 4575347,
     "sourceId": 7811545,
     "sourceType": "datasetVersion"
    }
   ],
   "dockerImageVersionId": 30664,
   "isGpuEnabled": false,
   "isInternetEnabled": true,
   "language": "python",
   "sourceType": "notebook"
  },
  "kernelspec": {
   "display_name": "Python 3",
   "language": "python",
   "name": "python3"
  },
  "language_info": {
   "codemirror_mode": {
    "name": "ipython",
    "version": 3
   },
   "file_extension": ".py",
   "mimetype": "text/x-python",
   "name": "python",
   "nbconvert_exporter": "python",
   "pygments_lexer": "ipython3",
   "version": "3.10.13"
  },
  "papermill": {
   "default_parameters": {},
   "duration": 234.073454,
   "end_time": "2024-03-11T10:48:05.937251",
   "environment_variables": {},
   "exception": null,
   "input_path": "__notebook__.ipynb",
   "output_path": "__notebook__.ipynb",
   "parameters": {},
   "start_time": "2024-03-11T10:44:11.863797",
   "version": "2.5.0"
  }
 },
 "nbformat": 4,
 "nbformat_minor": 5
}
