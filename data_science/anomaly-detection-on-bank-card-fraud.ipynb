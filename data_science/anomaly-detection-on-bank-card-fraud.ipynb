{
 "cells": [
  {
   "cell_type": "markdown",
   "id": "4f2e700b",
   "metadata": {
    "_cell_guid": "b1076dfc-b9ad-4769-8c92-a6c4dae69d19",
    "_uuid": "8f2839f25d086af736a60e9eeb907d3b93b6e0e5",
    "papermill": {
     "duration": 0.003208,
     "end_time": "2025-01-21T05:11:54.287755",
     "exception": false,
     "start_time": "2025-01-21T05:11:54.284547",
     "status": "completed"
    },
    "tags": []
   },
   "source": [
    "# Overview\n",
    "\n",
    "Anomaly detection aims to identify data points that significantly differ from the majority of the data.\n",
    "\n",
    "# Data Preprocessing and Cleaning"
   ]
  },
  {
   "cell_type": "code",
   "execution_count": 1,
   "id": "1a448f73",
   "metadata": {
    "execution": {
     "iopub.execute_input": "2025-01-21T05:11:54.294713Z",
     "iopub.status.busy": "2025-01-21T05:11:54.294364Z",
     "iopub.status.idle": "2025-01-21T05:11:58.789450Z",
     "shell.execute_reply": "2025-01-21T05:11:58.788484Z"
    },
    "papermill": {
     "duration": 4.500376,
     "end_time": "2025-01-21T05:11:58.791165",
     "exception": false,
     "start_time": "2025-01-21T05:11:54.290789",
     "status": "completed"
    },
    "tags": []
   },
   "outputs": [],
   "source": [
    "import pandas as pd\n",
    "\n",
    "df = pd.read_csv(\"/kaggle/input/creditcardfraud/creditcard.csv\")"
   ]
  },
  {
   "cell_type": "code",
   "execution_count": 2,
   "id": "6fb8ed52",
   "metadata": {
    "execution": {
     "iopub.execute_input": "2025-01-21T05:11:58.797833Z",
     "iopub.status.busy": "2025-01-21T05:11:58.797504Z",
     "iopub.status.idle": "2025-01-21T05:11:58.824009Z",
     "shell.execute_reply": "2025-01-21T05:11:58.822755Z"
    },
    "papermill": {
     "duration": 0.031729,
     "end_time": "2025-01-21T05:11:58.825706",
     "exception": false,
     "start_time": "2025-01-21T05:11:58.793977",
     "status": "completed"
    },
    "tags": []
   },
   "outputs": [
    {
     "name": "stdout",
     "output_type": "stream",
     "text": [
      "Number of Outliers in 'Amount': 4076\n"
     ]
    }
   ],
   "source": [
    "import numpy as np\n",
    "\n",
    "# Detect outliers using Z-score for 'Amount'\n",
    "z_scores = np.abs((df['Amount'] - df['Amount'].mean()) / df['Amount'].std())\n",
    "outliers = np.where(z_scores > 3)[0]  # Set a threshold for outliers (usually z-score > 3)\n",
    "print(f\"Number of Outliers in 'Amount': {len(outliers)}\")"
   ]
  },
  {
   "cell_type": "code",
   "execution_count": 3,
   "id": "bf54fbe7",
   "metadata": {
    "execution": {
     "iopub.execute_input": "2025-01-21T05:11:58.832508Z",
     "iopub.status.busy": "2025-01-21T05:11:58.832210Z",
     "iopub.status.idle": "2025-01-21T05:11:58.876354Z",
     "shell.execute_reply": "2025-01-21T05:11:58.875394Z"
    },
    "papermill": {
     "duration": 0.049667,
     "end_time": "2025-01-21T05:11:58.878248",
     "exception": false,
     "start_time": "2025-01-21T05:11:58.828581",
     "status": "completed"
    },
    "tags": []
   },
   "outputs": [],
   "source": [
    "# convert 'Time' from seconds to hours for better analysis \n",
    "df['Hour'] = (df['Time'] //  3600) % 24\n",
    "\n",
    "# create a rolling mean to identify spikes in fraud\n",
    "df['Fraud_Spike'] = df['Class'].rolling(window=1200).mean()  # Window size can be adjusted\n",
    "\n",
    "# calculate the percentage of fraudulent transactions in different ranges \n",
    "bins = [0, 50, 100, 200, 500, 1000, 5000, 10000, 50000] \n",
    "labels = ['0-50', '51-100', '101-200', '201-500', '501-1000', '1001-5000', '5001-10000', '10001+']\n",
    "df['Amount Range'] = pd.cut(df['Amount'], bins=bins, labels=labels, right=False)"
   ]
  },
  {
   "cell_type": "markdown",
   "id": "c5338ad7",
   "metadata": {
    "papermill": {
     "duration": 0.002372,
     "end_time": "2025-01-21T05:11:58.883599",
     "exception": false,
     "start_time": "2025-01-21T05:11:58.881227",
     "status": "completed"
    },
    "tags": []
   },
   "source": [
    "## Data Scaling\n",
    "\n",
    "Data scaling is a method for reducing the effect of data bias on predictions which is highly used in pre-processing step in any Machine Learning project."
   ]
  },
  {
   "cell_type": "code",
   "execution_count": 4,
   "id": "c7f4a123",
   "metadata": {
    "execution": {
     "iopub.execute_input": "2025-01-21T05:11:58.890012Z",
     "iopub.status.busy": "2025-01-21T05:11:58.889645Z",
     "iopub.status.idle": "2025-01-21T05:12:00.306474Z",
     "shell.execute_reply": "2025-01-21T05:12:00.305499Z"
    },
    "papermill": {
     "duration": 1.422181,
     "end_time": "2025-01-21T05:12:00.308431",
     "exception": false,
     "start_time": "2025-01-21T05:11:58.886250",
     "status": "completed"
    },
    "tags": []
   },
   "outputs": [],
   "source": [
    "from sklearn.preprocessing import RobustScaler\n",
    "\n",
    "# Create an instance of the LabelEncoder\n",
    "rob_scaler = RobustScaler()\n",
    "\n",
    "# Apply Label Encoding to the 'Amount Range' feature\n",
    "df['Time'] = rob_scaler.fit_transform(df['Time'].values.reshape(-1, 1))\n",
    "df['Amount'] = rob_scaler.fit_transform(df['Amount'].values.reshape(-1, 1))\n",
    "df['Hour'] = rob_scaler.fit_transform(df['Hour'].values.reshape(-1, 1))\n",
    "\n",
    "# drop the amount range column and fraud spike column that were added for the analyses part \n",
    "df.drop(['Amount Range'], axis=1, inplace=True)\n",
    "df.drop(['Fraud_Spike'], axis=1, inplace=True)"
   ]
  },
  {
   "cell_type": "markdown",
   "id": "fec77327",
   "metadata": {
    "papermill": {
     "duration": 0.002454,
     "end_time": "2025-01-21T05:12:00.313843",
     "exception": false,
     "start_time": "2025-01-21T05:12:00.311389",
     "status": "completed"
    },
    "tags": []
   },
   "source": [
    "## Splitting the Dataset\n",
    "\n",
    "We will be using the stratified K-fold cross-validation to ensure that each fold has a similar distribution of the target classes *y*, which is important when dealing with imbalanced datasets."
   ]
  },
  {
   "cell_type": "code",
   "execution_count": 5,
   "id": "b1658c02",
   "metadata": {
    "execution": {
     "iopub.execute_input": "2025-01-21T05:12:00.320695Z",
     "iopub.status.busy": "2025-01-21T05:12:00.320199Z",
     "iopub.status.idle": "2025-01-21T05:12:00.750828Z",
     "shell.execute_reply": "2025-01-21T05:12:00.749905Z"
    },
    "papermill": {
     "duration": 0.436033,
     "end_time": "2025-01-21T05:12:00.752621",
     "exception": false,
     "start_time": "2025-01-21T05:12:00.316588",
     "status": "completed"
    },
    "tags": []
   },
   "outputs": [
    {
     "name": "stdout",
     "output_type": "stream",
     "text": [
      "Label Distributions in the Dataset :\n",
      " No Frauds 99.83 %\n",
      " Frauds 0.17 %\n",
      "Label Distributions in Train :\n",
      " No Frauds 99.83 %\n",
      " Frauds 0.17 %\n",
      "Label Distributions in Test :\n",
      " No Frauds 99.83 %\n",
      " Frauds 0.17 %\n"
     ]
    }
   ],
   "source": [
    "from sklearn.model_selection import StratifiedKFold\n",
    "\n",
    "\n",
    "X = df.drop('Class', axis=1)\n",
    "y = df['Class']\n",
    "\n",
    "sss = StratifiedKFold(n_splits=5, random_state=None, shuffle=False)\n",
    "\n",
    "for train_index, test_index in sss.split(X, y):\n",
    "    original_Xtrain, original_Xtest = X.iloc[train_index], X.iloc[test_index]\n",
    "    original_ytrain, original_ytest = y.iloc[train_index], y.iloc[test_index]\n",
    "\n",
    "# Check the Distribution of the labels\n",
    "\n",
    "# Turn into an array\n",
    "original_Xtrain = original_Xtrain.values\n",
    "original_Xtest = original_Xtest.values\n",
    "original_ytrain = original_ytrain.values\n",
    "original_ytest = original_ytest.values\n",
    "\n",
    "# See if both the train and test label distribution are similarly distributed\n",
    "train_unique_label, train_counts_label = np.unique(original_ytrain, return_counts=True)\n",
    "test_unique_label, test_counts_label = np.unique(original_ytest, return_counts=True)\n",
    "\n",
    "print('Label Distributions in the Dataset :')\n",
    "print(' No Frauds', round(df['Class'].value_counts()[0]/len(df) * 100,2), '%')\n",
    "print(' Frauds', round(df['Class'].value_counts()[1]/len(df) * 100,2), '%')\n",
    "\n",
    "print('Label Distributions in Train :')\n",
    "print(\" No Frauds \" + str(round(train_counts_label[0]/ len(original_ytrain)*100, 2)) + \" %\")\n",
    "print(\" Frauds \" + str(round(train_counts_label[1]/ len(original_ytrain)*100, 2)) + \" %\")\n",
    "\n",
    "print('Label Distributions in Test :')\n",
    "print(\" No Frauds \" + str(round(test_counts_label[0]/ len(original_ytest)*100, 2)) + \" %\")\n",
    "print(\" Frauds \" + str(round(test_counts_label[1]/ len(original_ytest)*100, 2)) + \" %\")"
   ]
  },
  {
   "cell_type": "markdown",
   "id": "0b19d4f5",
   "metadata": {
    "papermill": {
     "duration": 0.002633,
     "end_time": "2025-01-21T05:12:00.758236",
     "exception": false,
     "start_time": "2025-01-21T05:12:00.755603",
     "status": "completed"
    },
    "tags": []
   },
   "source": [
    "# Classification\n",
    "\n",
    "## SMOTE Technique\n",
    "\n",
    "The SMOTE(Synthetic Minority Over-sampling Technique) is a method used to address the problem of imbalanced datasets in machine learning.\n",
    "\n",
    "## RandomizedSearchCV\n",
    "\n",
    "RandomizedSearchCV is hyperparameter optimization technique used in machine learning.\n",
    "\n",
    "## Cross-Validation\n",
    "\n",
    "It is a technique used to assess the performance and generalizability of a machine learning model."
   ]
  },
  {
   "cell_type": "markdown",
   "id": "f3af89f6",
   "metadata": {
    "papermill": {
     "duration": 0.0024,
     "end_time": "2025-01-21T05:12:00.763425",
     "exception": false,
     "start_time": "2025-01-21T05:12:00.761025",
     "status": "completed"
    },
    "tags": []
   },
   "source": [
    "# Acknowledge\n",
    "\n",
    "* https://python.plainenglish.io/anomaly-detection-end-to-end-real-life-bank-card-fraud-detection-with-xgboost-2a343f761fa9\n",
    "* https://medium.com/@onersarpnalcin/standardscaler-vs-minmaxscaler-vs-robustscaler-which-one-to-use-for-your-next-ml-project-ae5b44f571b9"
   ]
  }
 ],
 "metadata": {
  "kaggle": {
   "accelerator": "none",
   "dataSources": [
    {
     "datasetId": 310,
     "sourceId": 23498,
     "sourceType": "datasetVersion"
    }
   ],
   "dockerImageVersionId": 30839,
   "isGpuEnabled": false,
   "isInternetEnabled": true,
   "language": "python",
   "sourceType": "notebook"
  },
  "kernelspec": {
   "display_name": "Python 3",
   "language": "python",
   "name": "python3"
  },
  "language_info": {
   "codemirror_mode": {
    "name": "ipython",
    "version": 3
   },
   "file_extension": ".py",
   "mimetype": "text/x-python",
   "name": "python",
   "nbconvert_exporter": "python",
   "pygments_lexer": "ipython3",
   "version": "3.10.12"
  },
  "papermill": {
   "default_parameters": {},
   "duration": 9.766986,
   "end_time": "2025-01-21T05:12:01.386332",
   "environment_variables": {},
   "exception": null,
   "input_path": "__notebook__.ipynb",
   "output_path": "__notebook__.ipynb",
   "parameters": {},
   "start_time": "2025-01-21T05:11:51.619346",
   "version": "2.6.0"
  }
 },
 "nbformat": 4,
 "nbformat_minor": 5
}
