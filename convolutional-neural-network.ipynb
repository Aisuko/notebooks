{
 "cells": [
  {
   "cell_type": "markdown",
   "id": "0d5425e0",
   "metadata": {
    "papermill": {
     "duration": 0.008316,
     "end_time": "2023-07-17T11:36:08.457477",
     "exception": false,
     "start_time": "2023-07-17T11:36:08.449161",
     "status": "completed"
    },
    "tags": []
   },
   "source": [
    "## Convolutional nerual network\n",
    "\n",
    "In the [Training a simple dense neural network](https://www.kaggle.com/code/aisuko/training-a-simple-dense-neural-network) using class definition, but those networks were generic, and not specialized for computer vision tasks. This time we will trying to define `Convolutional Neural Networks(CNNs)`, which are specifically designed for computer vision.\n",
    "\n",
    "Computer vision is different from generic classification, because when we are trying to fing a certain object in the picture, we are scanning the image looking for some specific `patterns` and their combinations. For example, when looking for a catm,, we first may look for horizontal lines, which can form whiskers, and then certain combinations of whiskers can tell us that it is actually a picture of a cat. Relative position and presence of certain patterns is important, and not their exact position on the image.\n",
    "\n",
    "To extract patterns, we will use the notion of `convolutional filters`."
   ]
  },
  {
   "cell_type": "code",
   "execution_count": 1,
   "id": "c1a5c0e1",
   "metadata": {
    "execution": {
     "iopub.execute_input": "2023-07-17T11:36:08.475592Z",
     "iopub.status.busy": "2023-07-17T11:36:08.474861Z",
     "iopub.status.idle": "2023-07-17T11:36:21.848250Z",
     "shell.execute_reply": "2023-07-17T11:36:21.847137Z"
    },
    "papermill": {
     "duration": 13.385065,
     "end_time": "2023-07-17T11:36:21.850504",
     "exception": false,
     "start_time": "2023-07-17T11:36:08.465439",
     "status": "completed"
    },
    "tags": []
   },
   "outputs": [
    {
     "name": "stdout",
     "output_type": "stream",
     "text": [
      "Looking in indexes: https://download.pytorch.org/whl/cu118\r\n",
      "Requirement already satisfied: torch in /opt/conda/lib/python3.10/site-packages (2.0.0)\r\n",
      "Requirement already satisfied: torchvision in /opt/conda/lib/python3.10/site-packages (0.15.1)\r\n",
      "Requirement already satisfied: torchaudio in /opt/conda/lib/python3.10/site-packages (2.0.1)\r\n",
      "Requirement already satisfied: filelock in /opt/conda/lib/python3.10/site-packages (from torch) (3.12.2)\r\n",
      "Requirement already satisfied: typing-extensions in /opt/conda/lib/python3.10/site-packages (from torch) (4.6.3)\r\n",
      "Requirement already satisfied: sympy in /opt/conda/lib/python3.10/site-packages (from torch) (1.12)\r\n",
      "Requirement already satisfied: networkx in /opt/conda/lib/python3.10/site-packages (from torch) (3.1)\r\n",
      "Requirement already satisfied: jinja2 in /opt/conda/lib/python3.10/site-packages (from torch) (3.1.2)\r\n",
      "Requirement already satisfied: numpy in /opt/conda/lib/python3.10/site-packages (from torchvision) (1.23.5)\r\n",
      "Requirement already satisfied: requests in /opt/conda/lib/python3.10/site-packages (from torchvision) (2.31.0)\r\n",
      "Requirement already satisfied: pillow!=8.3.*,>=5.3.0 in /opt/conda/lib/python3.10/site-packages (from torchvision) (9.5.0)\r\n",
      "Requirement already satisfied: MarkupSafe>=2.0 in /opt/conda/lib/python3.10/site-packages (from jinja2->torch) (2.1.3)\r\n",
      "Requirement already satisfied: charset-normalizer<4,>=2 in /opt/conda/lib/python3.10/site-packages (from requests->torchvision) (3.1.0)\r\n",
      "Requirement already satisfied: idna<4,>=2.5 in /opt/conda/lib/python3.10/site-packages (from requests->torchvision) (3.4)\r\n",
      "Requirement already satisfied: urllib3<3,>=1.21.1 in /opt/conda/lib/python3.10/site-packages (from requests->torchvision) (1.26.15)\r\n",
      "Requirement already satisfied: certifi>=2017.4.17 in /opt/conda/lib/python3.10/site-packages (from requests->torchvision) (2023.5.7)\r\n",
      "Requirement already satisfied: mpmath>=0.19 in /opt/conda/lib/python3.10/site-packages (from sympy->torch) (1.3.0)\r\n",
      "Note: you may need to restart the kernel to use updated packages.\n"
     ]
    }
   ],
   "source": [
    "pip install torch torchvision torchaudio --index-url https://download.pytorch.org/whl/cu118"
   ]
  },
  {
   "cell_type": "code",
   "execution_count": 2,
   "id": "c27d2427",
   "metadata": {
    "execution": {
     "iopub.execute_input": "2023-07-17T11:36:21.869192Z",
     "iopub.status.busy": "2023-07-17T11:36:21.868881Z",
     "iopub.status.idle": "2023-07-17T11:36:21.875077Z",
     "shell.execute_reply": "2023-07-17T11:36:21.874230Z"
    },
    "papermill": {
     "duration": 0.018322,
     "end_time": "2023-07-17T11:36:21.877221",
     "exception": false,
     "start_time": "2023-07-17T11:36:21.858899",
     "status": "completed"
    },
    "tags": []
   },
   "outputs": [],
   "source": [
    "# check the paltform, Apple Silicon or Linux\n",
    "import os, platform\n",
    "\n",
    "torch_device=\"cpu\"\n",
    "\n",
    "if 'kaggle' in os.environ.get('KAGGLE_URL_BASE','localhost'):\n",
    "    torch_device = 'cuda'\n",
    "else:\n",
    "    torch_device = 'mps' if platform.system() == 'Darwin' else 'cpu'"
   ]
  },
  {
   "cell_type": "code",
   "execution_count": 3,
   "id": "61c98f05",
   "metadata": {
    "execution": {
     "iopub.execute_input": "2023-07-17T11:36:21.894715Z",
     "iopub.status.busy": "2023-07-17T11:36:21.894447Z",
     "iopub.status.idle": "2023-07-17T11:36:21.898669Z",
     "shell.execute_reply": "2023-07-17T11:36:21.897743Z"
    },
    "papermill": {
     "duration": 0.015143,
     "end_time": "2023-07-17T11:36:21.900656",
     "exception": false,
     "start_time": "2023-07-17T11:36:21.885513",
     "status": "completed"
    },
    "tags": []
   },
   "outputs": [],
   "source": [
    "os.environ['PYTORCH_ENABLE_MPS_FALLBACK'] = '1'"
   ]
  },
  {
   "cell_type": "code",
   "execution_count": 4,
   "id": "ecd26773",
   "metadata": {
    "execution": {
     "iopub.execute_input": "2023-07-17T11:36:21.918200Z",
     "iopub.status.busy": "2023-07-17T11:36:21.917941Z",
     "iopub.status.idle": "2023-07-17T11:36:21.925054Z",
     "shell.execute_reply": "2023-07-17T11:36:21.924035Z"
    },
    "papermill": {
     "duration": 0.01798,
     "end_time": "2023-07-17T11:36:21.927012",
     "exception": false,
     "start_time": "2023-07-17T11:36:21.909032",
     "status": "completed"
    },
    "tags": []
   },
   "outputs": [
    {
     "data": {
      "text/plain": [
       "'cuda'"
      ]
     },
     "execution_count": 4,
     "metadata": {},
     "output_type": "execute_result"
    }
   ],
   "source": [
    "torch_device"
   ]
  },
  {
   "cell_type": "code",
   "execution_count": 5,
   "id": "789f0dd7",
   "metadata": {
    "execution": {
     "iopub.execute_input": "2023-07-17T11:36:21.945284Z",
     "iopub.status.busy": "2023-07-17T11:36:21.944487Z",
     "iopub.status.idle": "2023-07-17T11:36:25.321002Z",
     "shell.execute_reply": "2023-07-17T11:36:25.320023Z"
    },
    "papermill": {
     "duration": 3.388214,
     "end_time": "2023-07-17T11:36:25.323512",
     "exception": false,
     "start_time": "2023-07-17T11:36:21.935298",
     "status": "completed"
    },
    "tags": []
   },
   "outputs": [],
   "source": [
    "import torch\n",
    "import torch.nn as nn\n",
    "import torchvision\n",
    "import matplotlib.pyplot as plt\n",
    "from torchinfo import summary\n",
    "import numpy as np\n",
    "\n",
    "from torchvision.transforms import ToTensor\n",
    "from torchvision import datasets\n",
    "from torch.utils.data import DataLoader"
   ]
  },
  {
   "cell_type": "code",
   "execution_count": 6,
   "id": "26960680",
   "metadata": {
    "execution": {
     "iopub.execute_input": "2023-07-17T11:36:25.342013Z",
     "iopub.status.busy": "2023-07-17T11:36:25.341500Z",
     "iopub.status.idle": "2023-07-17T11:36:30.993960Z",
     "shell.execute_reply": "2023-07-17T11:36:30.992840Z"
    },
    "papermill": {
     "duration": 5.666344,
     "end_time": "2023-07-17T11:36:30.998502",
     "exception": false,
     "start_time": "2023-07-17T11:36:25.332158",
     "status": "completed"
    },
    "tags": []
   },
   "outputs": [
    {
     "name": "stdout",
     "output_type": "stream",
     "text": [
      "Downloading http://yann.lecun.com/exdb/mnist/train-images-idx3-ubyte.gz\n",
      "Downloading http://yann.lecun.com/exdb/mnist/train-images-idx3-ubyte.gz to data/MNIST/raw/train-images-idx3-ubyte.gz\n"
     ]
    },
    {
     "name": "stderr",
     "output_type": "stream",
     "text": [
      "100%|██████████| 9912422/9912422 [00:00<00:00, 297266632.66it/s]\n"
     ]
    },
    {
     "name": "stdout",
     "output_type": "stream",
     "text": [
      "Extracting data/MNIST/raw/train-images-idx3-ubyte.gz to data/MNIST/raw\n",
      "\n",
      "Downloading http://yann.lecun.com/exdb/mnist/train-labels-idx1-ubyte.gz\n",
      "Downloading http://yann.lecun.com/exdb/mnist/train-labels-idx1-ubyte.gz to data/MNIST/raw/train-labels-idx1-ubyte.gz\n"
     ]
    },
    {
     "name": "stderr",
     "output_type": "stream",
     "text": [
      "100%|██████████| 28881/28881 [00:00<00:00, 43016936.73it/s]\n"
     ]
    },
    {
     "name": "stdout",
     "output_type": "stream",
     "text": [
      "Extracting data/MNIST/raw/train-labels-idx1-ubyte.gz to data/MNIST/raw\n",
      "\n",
      "Downloading http://yann.lecun.com/exdb/mnist/t10k-images-idx3-ubyte.gz\n",
      "Downloading http://yann.lecun.com/exdb/mnist/t10k-images-idx3-ubyte.gz to data/MNIST/raw/t10k-images-idx3-ubyte.gz\n"
     ]
    },
    {
     "name": "stderr",
     "output_type": "stream",
     "text": [
      "100%|██████████| 1648877/1648877 [00:00<00:00, 146824860.34it/s]\n"
     ]
    },
    {
     "name": "stdout",
     "output_type": "stream",
     "text": [
      "Extracting data/MNIST/raw/t10k-images-idx3-ubyte.gz to data/MNIST/raw\n",
      "\n",
      "Downloading http://yann.lecun.com/exdb/mnist/t10k-labels-idx1-ubyte.gz\n",
      "Downloading http://yann.lecun.com/exdb/mnist/t10k-labels-idx1-ubyte.gz to data/MNIST/raw/t10k-labels-idx1-ubyte.gz\n"
     ]
    },
    {
     "name": "stderr",
     "output_type": "stream",
     "text": [
      "100%|██████████| 4542/4542 [00:00<00:00, 16725661.78it/s]"
     ]
    },
    {
     "name": "stdout",
     "output_type": "stream",
     "text": [
      "Extracting data/MNIST/raw/t10k-labels-idx1-ubyte.gz to data/MNIST/raw\n",
      "\n"
     ]
    },
    {
     "name": "stderr",
     "output_type": "stream",
     "text": [
      "\n"
     ]
    }
   ],
   "source": [
    "data_train = datasets.MNIST(\n",
    "    root=\"data\",\n",
    "    train=True,\n",
    "    download=True,\n",
    "    transform=ToTensor()\n",
    ")\n",
    "\n",
    "data_test = datasets.MNIST(\n",
    "    root=\"data\",\n",
    "    train=False,\n",
    "    download=True,\n",
    "    transform=ToTensor()\n",
    ")"
   ]
  },
  {
   "cell_type": "markdown",
   "id": "f977e1f5",
   "metadata": {
    "papermill": {
     "duration": 0.009821,
     "end_time": "2023-07-17T11:36:31.018469",
     "exception": false,
     "start_time": "2023-07-17T11:36:31.008648",
     "status": "completed"
    },
    "tags": []
   },
   "source": [
    "### Peek digit dataset "
   ]
  },
  {
   "cell_type": "code",
   "execution_count": 7,
   "id": "c465d00c",
   "metadata": {
    "execution": {
     "iopub.execute_input": "2023-07-17T11:36:31.040320Z",
     "iopub.status.busy": "2023-07-17T11:36:31.039360Z",
     "iopub.status.idle": "2023-07-17T11:36:31.062049Z",
     "shell.execute_reply": "2023-07-17T11:36:31.060827Z"
    },
    "papermill": {
     "duration": 0.035684,
     "end_time": "2023-07-17T11:36:31.064079",
     "exception": false,
     "start_time": "2023-07-17T11:36:31.028395",
     "status": "completed"
    },
    "tags": []
   },
   "outputs": [
    {
     "name": "stdout",
     "output_type": "stream",
     "text": [
      "Digit to be predicted: 5\n"
     ]
    }
   ],
   "source": [
    "print('Digit to be predicted:',data_train[0][1])"
   ]
  },
  {
   "cell_type": "code",
   "execution_count": 8,
   "id": "55e09012",
   "metadata": {
    "execution": {
     "iopub.execute_input": "2023-07-17T11:36:31.086067Z",
     "iopub.status.busy": "2023-07-17T11:36:31.085273Z",
     "iopub.status.idle": "2023-07-17T11:36:31.090318Z",
     "shell.execute_reply": "2023-07-17T11:36:31.089330Z"
    },
    "papermill": {
     "duration": 0.018098,
     "end_time": "2023-07-17T11:36:31.092370",
     "exception": false,
     "start_time": "2023-07-17T11:36:31.074272",
     "status": "completed"
    },
    "tags": []
   },
   "outputs": [],
   "source": [
    "train_loader = torch.utils.data.DataLoader(data_train, batch_size=128)\n",
    "test_loader = torch.utils.data.DataLoader(data_test, batch_size=128)"
   ]
  },
  {
   "cell_type": "markdown",
   "id": "4758d19f",
   "metadata": {
    "papermill": {
     "duration": 0.00981,
     "end_time": "2023-07-17T11:36:31.112091",
     "exception": false,
     "start_time": "2023-07-17T11:36:31.102281",
     "status": "completed"
    },
    "tags": []
   },
   "source": [
    "## Convolutional filters\n",
    "\n",
    "Convolutional filters are small windows that run over each pixel of the image and weighted average of the neighboring pixels. Here are the examples of applying two different convolutional filters over our MNIST handwritten digits:"
   ]
  },
  {
   "cell_type": "code",
   "execution_count": 9,
   "id": "4c04790e",
   "metadata": {
    "execution": {
     "iopub.execute_input": "2023-07-17T11:36:31.133882Z",
     "iopub.status.busy": "2023-07-17T11:36:31.133005Z",
     "iopub.status.idle": "2023-07-17T11:36:33.191673Z",
     "shell.execute_reply": "2023-07-17T11:36:33.190728Z"
    },
    "papermill": {
     "duration": 2.071618,
     "end_time": "2023-07-17T11:36:33.193797",
     "exception": false,
     "start_time": "2023-07-17T11:36:31.122179",
     "status": "completed"
    },
    "tags": []
   },
   "outputs": [
    {
     "data": {
      "image/png": "[encoded data removed]",
      "text/plain": [
       "<Figure size 800x300 with 12 Axes>"
      ]
     },
     "metadata": {},
     "output_type": "display_data"
    },
    {
     "data": {
      "image/png": "[encoded data removed]",
      "text/plain": [
       "<Figure size 800x300 with 12 Axes>"
      ]
     },
     "metadata": {},
     "output_type": "display_data"
    }
   ],
   "source": [
    "def plot_convolution(t, title=''):\n",
    "    with torch.no_grad():\n",
    "        # nn.Con2d is used to perform the convolution\n",
    "        # * kernel_size is the size of the filter, filter is a 3x3 matrix\n",
    "        # * out_channels is the number of filters to use, this corresponds to the number of output channels\n",
    "        # * in_channels is the number of channels in the input image, this corresponds to the number of input channels\n",
    "        # * the channels are the colors, so for a color image, the number of channels is 3 (red, green, blue)\n",
    "        # * for a grayscale image, the number of channels is 1\n",
    "        c = nn.Conv2d(kernel_size=(3,3), out_channels=1, in_channels=1)\n",
    "        c.weight.copy_(t) # copy the filter to the convolution layer\n",
    "        fig, ax=plt.subplots(2,6,figsize=(8,3)) # create a figure with 2 rows and 6 columns, each plot is 8x3\n",
    "        fig.suptitle(title, fontsize=16) # set the title of the figure\n",
    "        for i in range(5):\n",
    "            im = data_train[i][0] # get the image\n",
    "            ax[0][i].imshow(im[0]) # plot the image\n",
    "            ax[1][i].imshow(c(im.unsqueeze(0))[0][0]) # plot the convolution\n",
    "            ax[0][1].axis('off') # turn off the axis\n",
    "            ax[1][1].axis('off') # turn off the axis\n",
    "        ax[0,5].imshow(t) # plot the filter\n",
    "        ax[0,5].axis('off') # turn off the axis\n",
    "        ax[1,5].axis('off') # turn off the axis\n",
    "        plt.show() # show the plot\n",
    "\n",
    "plot_convolution(torch.tensor([[-1.,0.,1.],[-1.,0.,1.],[-1.,0.,1.]]), 'Vertical edge filter')\n",
    "plot_convolution(torch.tensor([[-1.,-1.,-1.],[0.,0.,0.],[1.,1.,1.]]), 'Horizontal edge filter')"
   ]
  },
  {
   "cell_type": "markdown",
   "id": "9dde3e9f",
   "metadata": {
    "papermill": {
     "duration": 0.011203,
     "end_time": "2023-07-17T11:36:33.216436",
     "exception": false,
     "start_time": "2023-07-17T11:36:33.205233",
     "status": "completed"
    },
    "tags": []
   },
   "source": [
    "First fileter is called a `vertical edge filter`, and it is defined by the following matrix:\n",
    "\n",
    "$$\n",
    "\\left(\\begin{matrix}\n",
    "-1 & 0 & 1 \\\\\n",
    "-1 & 0 & 1 \\\\\n",
    "-1 & 0 & 1 \\\\\n",
    "\\end{matrix}\n",
    "\\right)\n",
    "$$\n",
    "\n",
    "When this filter goes over realatively uniform pixel field, all values add up to 0. However, when it encounters a vertical edge in the image, high spike value is generated. That's why in the images above you can see vertical edges represented by high and low values, while horizontal edges are averaged out.\n",
    "\n",
    "An oposite thing happens when we apply horizontal edge filter - horizontal lines are amplified, and vertical are averaged out.\n",
    "\n",
    "In classical computer vision, **multiple filters were applied to the image to generate features, which then were used by machine learning algorithm to build a classifier**. However, in `deep learning` we construct networks that `learn` best convolutional filters to sovle classfication problem.\n",
    "\n",
    "To do that, we introduce `convolutional layers`."
   ]
  },
  {
   "cell_type": "markdown",
   "id": "fd023038",
   "metadata": {
    "papermill": {
     "duration": 0.010718,
     "end_time": "2023-07-17T11:36:33.237975",
     "exception": false,
     "start_time": "2023-07-17T11:36:33.227257",
     "status": "completed"
    },
    "tags": []
   },
   "source": [
    "## Covolutional layers\n",
    "\n",
    "Convolutional layers are defined using `nn.Conv2d` construction. We need to specify the following:\n",
    "\n",
    "* `in_channels` - number of channels in the input image. For example, MNIST images are grayscale, so we have only one channel. If we were using color images, we would have 3 channels - red, green and blue.\n",
    "* `out_channels` - number of channels produced by the convolution. This is equal to the number of filters we want to use.\n",
    "* `kernel_size` - size of the convolutional filter(sliding window). For example, if we have `kernel_size=3`, then each convolutional filter will be 3x3. Usually 3x3 or 5x5 filters are used.\n",
    "\n",
    "Simplest CNN will contain one convolutional layer. Given the input size 28x28, after applying nine 5x5 filters we will end up with a tensor of 9x24x24 (the spatial size is smaller, because there are only 24 positions where a sliding interval of length 5 can fit into 28 pixels).\n",
    "\n",
    "After convolution, we flattern 9x24x24 tensor into one vector of size 5184, and then add linear layer, to produce 10 classes. We also use `ReLU` activation function in between layers."
   ]
  },
  {
   "cell_type": "code",
   "execution_count": 10,
   "id": "e599c4ec",
   "metadata": {
    "execution": {
     "iopub.execute_input": "2023-07-17T11:36:33.261017Z",
     "iopub.status.busy": "2023-07-17T11:36:33.260662Z",
     "iopub.status.idle": "2023-07-17T11:36:40.061828Z",
     "shell.execute_reply": "2023-07-17T11:36:40.060893Z"
    },
    "papermill": {
     "duration": 6.815197,
     "end_time": "2023-07-17T11:36:40.064009",
     "exception": false,
     "start_time": "2023-07-17T11:36:33.248812",
     "status": "completed"
    },
    "tags": []
   },
   "outputs": [
    {
     "data": {
      "text/plain": [
       "==========================================================================================\n",
       "Layer (type:depth-idx)                   Output Shape              Param #\n",
       "==========================================================================================\n",
       "OneConv                                  [1, 10]                   --\n",
       "├─Conv2d: 1-1                            [1, 9, 24, 24]            234\n",
       "├─Flatten: 1-2                           [1, 5184]                 --\n",
       "├─Linear: 1-3                            [1, 10]                   51,850\n",
       "==========================================================================================\n",
       "Total params: 52,084\n",
       "Trainable params: 52,084\n",
       "Non-trainable params: 0\n",
       "Total mult-adds (M): 0.19\n",
       "==========================================================================================\n",
       "Input size (MB): 0.00\n",
       "Forward/backward pass size (MB): 0.04\n",
       "Params size (MB): 0.21\n",
       "Estimated Total Size (MB): 0.25\n",
       "=========================================================================================="
      ]
     },
     "execution_count": 10,
     "metadata": {},
     "output_type": "execute_result"
    }
   ],
   "source": [
    "class OneConv(nn.Module):\n",
    "    def __init__(self):\n",
    "        super(OneConv, self).__init__()\n",
    "        self.conv = nn.Conv2d(kernel_size=(5,5), out_channels=9, in_channels=1) # create a convolution layer\n",
    "        self.flatten = nn.Flatten() # nn.Flattern is used to flatten the output of the convolution layer to a vector\n",
    "        self.fc = nn.Linear((9*24*24), 10) # create a fully connected layer\n",
    "    def forward(self, x):\n",
    "        x = nn.functional.relu(self.conv(x)) # nn.funtional is used to apply the relu function\n",
    "        x = self.flatten(x) # flatten the output of the convolution layer\n",
    "        x = nn.functional.log_softmax(self.fc(x), dim=1) # apply the log_softmax function to the output of the fully connected layer, more https://www.kaggle.com/code/aisuko/building-the-model-layers?scriptVersionId=136624674&cellId=28\n",
    "        return x\n",
    "\n",
    "net=OneConv().to(torch_device)\n",
    "summary(net, input_size=(1,1,28,28))\n"
   ]
  },
  {
   "cell_type": "markdown",
   "id": "2e9bd179",
   "metadata": {
    "papermill": {
     "duration": 0.010867,
     "end_time": "2023-07-17T11:36:40.086317",
     "exception": false,
     "start_time": "2023-07-17T11:36:40.075450",
     "status": "completed"
    },
    "tags": []
   },
   "source": [
    "You can see that this network contains around 50k trainable parameters, compared to around 80k in fully-connected multi-layered networks. This allows us to achieve good results even on smaller datasets, because convolutional networks generalize much better."
   ]
  },
  {
   "cell_type": "code",
   "execution_count": 11,
   "id": "fd5ca438",
   "metadata": {
    "execution": {
     "iopub.execute_input": "2023-07-17T11:36:40.110293Z",
     "iopub.status.busy": "2023-07-17T11:36:40.109966Z",
     "iopub.status.idle": "2023-07-17T11:37:21.565622Z",
     "shell.execute_reply": "2023-07-17T11:37:21.564705Z"
    },
    "papermill": {
     "duration": 41.471165,
     "end_time": "2023-07-17T11:37:21.568430",
     "exception": false,
     "start_time": "2023-07-17T11:36:40.097265",
     "status": "completed"
    },
    "tags": []
   },
   "outputs": [
    {
     "name": "stdout",
     "output_type": "stream",
     "text": [
      "Epoch  0, Train acc=0.950, Val acc=0.975, Train loss=0.001, Val loss=0.001\n",
      "Epoch  1, Train acc=0.979, Val acc=0.977, Train loss=0.001, Val loss=0.001\n",
      "Epoch  2, Train acc=0.986, Val acc=0.977, Train loss=0.000, Val loss=0.001\n",
      "Epoch  3, Train acc=0.988, Val acc=0.978, Train loss=0.000, Val loss=0.001\n",
      "Epoch  4, Train acc=0.989, Val acc=0.975, Train loss=0.000, Val loss=0.001\n"
     ]
    },
    {
     "data": {
      "image/png": "[encoded data removed]",
      "text/plain": [
       "<Figure size 1500x500 with 2 Axes>"
      ]
     },
     "metadata": {},
     "output_type": "display_data"
    }
   ],
   "source": [
    "def train_epoch(net, dataloader, lr=0.01, optimizer=None, loss_fn=nn.NLLLoss()):\n",
    "    optimizer = optimizer or torch.optim.Adam(net.parameters(), lr=lr) # use Adam optimizer if not provided\n",
    "    net.train() # put the network into training mode make sure the parameters are trainable\n",
    "    total_loss,acc,count =0,0,0\n",
    "    for features, labels in dataloader:\n",
    "        features,labels = features.to(torch_device), labels.to(torch_device)\n",
    "        optimizer.zero_grad() # reset the gradients to zero before each batch to avoid accumulation\n",
    "        out=net(features) # forward pass of the mini-batch through the network to obtain the outputs\n",
    "        loss=loss_fn(out,labels) # compute the loss\n",
    "        loss.backward() # compute the gradients of the loss with respect to all the parameters of the network\n",
    "        optimizer.step() # update the parameters of the network using the gradients to minimize the loss\n",
    "        total_loss+=loss # accumulate the loss for inspection\n",
    "        _,preds=torch.max(out,dim=1) # compute the predictions to obtain the accuracy\n",
    "        acc+=(preds==labels).sum() # accumulate the correct predictions\n",
    "        count+=len(labels) # accumulate the total number of examples\n",
    "    return total_loss.item()/count, acc.item()/count # return the loss and accuracy\n",
    "\n",
    "def validate(net, dataloader, loss_fn=nn.NLLLoss()):\n",
    "    net.eval() # put the network into evaluation mode to deactivate the dropout layers\n",
    "    count,acc,loss =0,0,0\n",
    "    with torch.no_grad(): # deactivate autograd to save memory and speed up computations\n",
    "        for features, labels in dataloader:\n",
    "            features,labels = features.to(torch_device), labels.to(torch_device)\n",
    "            out=net(features) # forward pass of the mini-batch through the network to obtain the outputs\n",
    "            loss += loss_fn(out,labels) # compute the loss\n",
    "            preds=torch.max(out,dim=1)[1] # compute the predictions to obtain the accuracy\n",
    "            acc+=(preds==labels).sum() # accumulate the correct predictions\n",
    "            count+=len(labels) # accumulate the total number of examples\n",
    "    return loss.item()/count, acc.item()/count # return the loss and accuracy\n",
    "\n",
    "def train(net, train_loader, test_loader, optimizer=None, lr=0.01, epochs=10, loss_fn=nn.NLLLoss()):\n",
    "    optimizer = optimizer or torch.optim.Adam(net.parameters(), lr=lr) # use Adam optimizer if not provided\n",
    "    res = {'train_loss': [], 'train_acc': [], 'val_loss': [], 'val_acc':[]}\n",
    "    for ep in range(epochs):\n",
    "        tl, ta = train_epoch(net, train_loader, optimizer=optimizer,lr=lr, loss_fn=loss_fn)\n",
    "        vl,va = validate(net, test_loader, loss_fn=loss_fn)\n",
    "        print(f\"Epoch {ep:2}, Train acc={ta:.3f}, Val acc={va:.3f}, Train loss={tl:.3f}, Val loss={vl:.3f}\")\n",
    "        res['train_loss'].append(tl)\n",
    "        res['train_acc'].append(ta)\n",
    "        res['val_loss'].append(vl)\n",
    "        res['val_acc'].append(va)\n",
    "    return res\n",
    "\n",
    "def plot_results(hist):\n",
    "    plt.figure(figsize=(15,5)) # figure is used to create a new figure\n",
    "    plt.subplot(121) # subplot is used to create a new subplot on a grid\n",
    "    plt.plot(hist['train_acc'], label='Training acc')\n",
    "    plt.plot(hist['val_acc'], label='Validation acc')\n",
    "    plt.legend() # legend is used to add a legend to the plot\n",
    "    plt.subplot(122) # plot the loss\n",
    "    plt.plot(hist['train_loss'], label='Training loss')\n",
    "    plt.plot(hist['val_loss'], label='Validation loss')\n",
    "    plt.legend()\n",
    "\n",
    "hist = train(net, train_loader, test_loader, epochs=5)\n",
    "plot_results(hist)"
   ]
  },
  {
   "cell_type": "markdown",
   "id": "d8fc4883",
   "metadata": {
    "papermill": {
     "duration": 0.018038,
     "end_time": "2023-07-17T11:37:21.605563",
     "exception": false,
     "start_time": "2023-07-17T11:37:21.587525",
     "status": "completed"
    },
    "tags": []
   },
   "source": [
    "As you can see, we are able to achieve higher accuracy, and much faster, compared to the fully-connected networks. We can also visualize the weights of our trained convolutional layers, to try and make some more sense of what is going on:"
   ]
  },
  {
   "cell_type": "code",
   "execution_count": 12,
   "id": "16bce3f5",
   "metadata": {
    "execution": {
     "iopub.execute_input": "2023-07-17T11:37:21.647732Z",
     "iopub.status.busy": "2023-07-17T11:37:21.647359Z",
     "iopub.status.idle": "2023-07-17T11:37:22.008904Z",
     "shell.execute_reply": "2023-07-17T11:37:22.007543Z"
    },
    "papermill": {
     "duration": 0.384404,
     "end_time": "2023-07-17T11:37:22.012475",
     "exception": false,
     "start_time": "2023-07-17T11:37:21.628071",
     "status": "completed"
    },
    "tags": []
   },
   "outputs": [
    {
     "data": {
      "image/png": "[encoded data removed]",
      "text/plain": [
       "<Figure size 640x480 with 9 Axes>"
      ]
     },
     "metadata": {},
     "output_type": "display_data"
    }
   ],
   "source": [
    "fig, ax = plt.subplots(1,9)\n",
    "with torch.no_grad():\n",
    "    p = next(net.conv.parameters())\n",
    "    for i,x in enumerate(p):\n",
    "        ax[i].imshow(x.detach().cpu()[0,...])\n",
    "        ax[i].axis('off')"
   ]
  },
  {
   "cell_type": "markdown",
   "id": "454dfee4",
   "metadata": {
    "papermill": {
     "duration": 0.025825,
     "end_time": "2023-07-17T11:37:22.064969",
     "exception": false,
     "start_time": "2023-07-17T11:37:22.039144",
     "status": "completed"
    },
    "tags": []
   },
   "source": [
    "You can see that some of those filters look like they can recognize some oblique strokes, while others loook pretty random."
   ]
  },
  {
   "cell_type": "markdown",
   "id": "1f291e8f",
   "metadata": {
    "papermill": {
     "duration": 0.012065,
     "end_time": "2023-07-17T11:37:22.102518",
     "exception": false,
     "start_time": "2023-07-17T11:37:22.090453",
     "status": "completed"
    },
    "tags": []
   },
   "source": [
    "## Multi-layered CNNs and pooling layers\n",
    "\n",
    "First converlutional layers looks for primitive patterns, such as horizontal or vertical lines, but we can apply further convolutional layers on top of them to look for higher-level patterns, such as primitive shapes. Then more convolutional layers can combine those shapes into some parts of the picture, up to the final object that we are trying to classsify.\n",
    "\n",
    "When doing so, we may also apply one trick: reducing the spatial size of the image. Once we have detected there is a horizontal stoke within sliding 3x3 window, it is not so important at which exact pixel it occurred. Thus we can \"scale down\" the size of the image, which is done using one of the `pooling layers`:\n",
    "\n",
    "* `Average Pooling` takes a sliding window (for example, 2x2 pixels) and computes an average of valyes within the window\n",
    "* `Max Pooling` replaces the window with the maximum value. The idea behind max pooling is to detect a presence of a certain pattern within the sliding window.\n",
    "\n",
    "Thus, in a typical CNN there would be several convolutional layers, with pooling layers in between them to decrease dimensions of the image. We would also increase the number of filters, because as patterns become more advanced  - there are more possible interesting combinations that we need to be looking for.\n",
    "\n",
    "<figure><img src=\"https://hostux.social/system/media_attachments/files/110/729/082/002/900/524/original/1c7f7d5fc1cc2373.png\" alt=\"\" ><figcaption><p>Source from Microsoft learning</p></figcaption></figure>\n",
    "\n",
    "Because of decreasing spatial dimensions and increasing feature/filters dimensions, this architecture is also called `pyramid architecture`."
   ]
  },
  {
   "cell_type": "code",
   "execution_count": 13,
   "id": "b36590b0",
   "metadata": {
    "execution": {
     "iopub.execute_input": "2023-07-17T11:37:22.128700Z",
     "iopub.status.busy": "2023-07-17T11:37:22.128370Z",
     "iopub.status.idle": "2023-07-17T11:37:22.149473Z",
     "shell.execute_reply": "2023-07-17T11:37:22.148587Z"
    },
    "papermill": {
     "duration": 0.036706,
     "end_time": "2023-07-17T11:37:22.151382",
     "exception": false,
     "start_time": "2023-07-17T11:37:22.114676",
     "status": "completed"
    },
    "tags": []
   },
   "outputs": [
    {
     "data": {
      "text/plain": [
       "==========================================================================================\n",
       "Layer (type:depth-idx)                   Output Shape              Param #\n",
       "==========================================================================================\n",
       "MultiLayerCNN                            [1, 10]                   --\n",
       "├─Conv2d: 1-1                            [1, 10, 24, 24]           260\n",
       "├─MaxPool2d: 1-2                         [1, 10, 12, 12]           --\n",
       "├─Conv2d: 1-3                            [1, 20, 8, 8]             5,020\n",
       "├─MaxPool2d: 1-4                         [1, 20, 4, 4]             --\n",
       "├─Linear: 1-5                            [1, 10]                   3,210\n",
       "==========================================================================================\n",
       "Total params: 8,490\n",
       "Trainable params: 8,490\n",
       "Non-trainable params: 0\n",
       "Total mult-adds (M): 0.47\n",
       "==========================================================================================\n",
       "Input size (MB): 0.00\n",
       "Forward/backward pass size (MB): 0.06\n",
       "Params size (MB): 0.03\n",
       "Estimated Total Size (MB): 0.09\n",
       "=========================================================================================="
      ]
     },
     "execution_count": 13,
     "metadata": {},
     "output_type": "execute_result"
    }
   ],
   "source": [
    "class MultiLayerCNN(nn.Module):\n",
    "    def __init__(self) -> None:\n",
    "        super(MultiLayerCNN, self).__init__()\n",
    "        self.conv1 = nn.Conv2d(1,10,5) # 1 input channel, 10 output channels, 5x5 filter\n",
    "        self.pool = nn.MaxPool2d(2,2) # 2x2 max pooling\n",
    "        self.conv2 = nn.Conv2d(10,20,5) # 10 input channels, 20 output channels, 5x5 filter\n",
    "        self.fc = nn.Linear(20*4*4,10) # 320 input features, 10 output features\n",
    "    \n",
    "    def forward(self, x):\n",
    "        x = self.pool(nn.functional.relu(self.conv1(x))) # apply the first convolution, relu and pooling\n",
    "        x = self.pool(nn.functional.relu(self.conv2(x))) # apply the second convolution, relu and pooling\n",
    "        x = x.view(-1, 320) # view is used to reshape the tensor, -1 means the size is inferred from the other dimensions, 320 is the number of input features for the fully connected layer\n",
    "        x = nn.functional.log_softmax(self.fc(x), dim=1) # apply the log_softmax function to the output of the fully connected layer, more https://www.kaggle.com/code/aisuko/building-the-model-layers?scriptVersionId=136624674&cellId=28\n",
    "        return x\n",
    "\n",
    "net = MultiLayerCNN().to(torch_device)\n",
    "summary(net, input_size=(1,1,28,28)) # summary is used to print a summary of the network"
   ]
  },
  {
   "cell_type": "markdown",
   "id": "42825d09",
   "metadata": {
    "papermill": {
     "duration": 0.012194,
     "end_time": "2023-07-17T11:37:22.176766",
     "exception": false,
     "start_time": "2023-07-17T11:37:22.164572",
     "status": "completed"
    },
    "tags": []
   },
   "source": [
    "Here are few things about this definition:\n",
    "* Instead of using `Flatten` layer, we are flattening the tensor inside `forward` function using `view` function. Since flattening layer does not have trainable weights, it is not essential that we create a separate layer instance within our class.\n",
    "* We use just one instance of pooling layer in our model, also because it does not contain any trainable parameters, and this one instance can be effectively resued.\n",
    "* The number of trainable parameters (~8.5k) is dramatically smaller than in previous cases. This happens becuasee convolutional layers in general have few parameters, and dimentionality of the image before applying final dense layer is significantly reduced. Small number of parameters have positive impact on our models, because it helps to prevent overfitting even on smaller dataset sizes."
   ]
  },
  {
   "cell_type": "code",
   "execution_count": 14,
   "id": "ba1206c3",
   "metadata": {
    "execution": {
     "iopub.execute_input": "2023-07-17T11:37:22.202667Z",
     "iopub.status.busy": "2023-07-17T11:37:22.202375Z",
     "iopub.status.idle": "2023-07-17T11:38:03.047749Z",
     "shell.execute_reply": "2023-07-17T11:38:03.046211Z"
    },
    "papermill": {
     "duration": 40.860912,
     "end_time": "2023-07-17T11:38:03.049983",
     "exception": false,
     "start_time": "2023-07-17T11:37:22.189071",
     "status": "completed"
    },
    "tags": []
   },
   "outputs": [
    {
     "name": "stdout",
     "output_type": "stream",
     "text": [
      "Epoch  0, Train acc=0.946, Val acc=0.980, Train loss=0.001, Val loss=0.000\n",
      "Epoch  1, Train acc=0.980, Val acc=0.985, Train loss=0.001, Val loss=0.000\n",
      "Epoch  2, Train acc=0.984, Val acc=0.985, Train loss=0.000, Val loss=0.000\n",
      "Epoch  3, Train acc=0.986, Val acc=0.986, Train loss=0.000, Val loss=0.000\n",
      "Epoch  4, Train acc=0.986, Val acc=0.983, Train loss=0.000, Val loss=0.000\n"
     ]
    }
   ],
   "source": [
    "hist = train(net, train_loader, test_loader, epochs=5)"
   ]
  },
  {
   "cell_type": "markdown",
   "id": "07f97c74",
   "metadata": {
    "papermill": {
     "duration": 0.012786,
     "end_time": "2023-07-17T11:38:03.076166",
     "exception": false,
     "start_time": "2023-07-17T11:38:03.063380",
     "status": "completed"
    },
    "tags": []
   },
   "source": [
    "What you should probably observe is that we are able to achieve higher accuracy than with just one layer, and much faster -  just with 1 or 2 epochs. It means that sophisticated network architecture needs much fewer data to figure out what is going on, and to extract generic patterns from our images."
   ]
  },
  {
   "cell_type": "markdown",
   "id": "cfbbcb08",
   "metadata": {
    "papermill": {
     "duration": 0.012509,
     "end_time": "2023-07-17T11:38:03.101381",
     "exception": false,
     "start_time": "2023-07-17T11:38:03.088872",
     "status": "completed"
    },
    "tags": []
   },
   "source": [
    "## Playing with real images from the CIFAR-10 dataset\n",
    "\n",
    "While our handwritten digit recognition problem may seem like a toy problem, we are now ready to do something more serious. Let's explore more advanced dataset of pictures of different object, called [CIFAR-10](https://www.cs.toronto.edu/~kriz/cifar.html). It contains 60k 32x32 images, divided into 10 classes."
   ]
  },
  {
   "cell_type": "code",
   "execution_count": 15,
   "id": "2b816fdb",
   "metadata": {
    "execution": {
     "iopub.execute_input": "2023-07-17T11:38:03.129501Z",
     "iopub.status.busy": "2023-07-17T11:38:03.128643Z",
     "iopub.status.idle": "2023-07-17T11:38:19.769384Z",
     "shell.execute_reply": "2023-07-17T11:38:19.768407Z"
    },
    "papermill": {
     "duration": 16.657514,
     "end_time": "2023-07-17T11:38:19.771744",
     "exception": false,
     "start_time": "2023-07-17T11:38:03.114230",
     "status": "completed"
    },
    "tags": []
   },
   "outputs": [
    {
     "name": "stdout",
     "output_type": "stream",
     "text": [
      "Downloading https://www.cs.toronto.edu/~kriz/cifar-10-python.tar.gz to ./data/cifar-10-python.tar.gz\n"
     ]
    },
    {
     "name": "stderr",
     "output_type": "stream",
     "text": [
      "100%|██████████| 170498071/170498071 [00:11<00:00, 14314450.41it/s]\n"
     ]
    },
    {
     "name": "stdout",
     "output_type": "stream",
     "text": [
      "Extracting ./data/cifar-10-python.tar.gz to ./data\n",
      "Files already downloaded and verified\n"
     ]
    }
   ],
   "source": [
    "transform = torchvision.transforms.Compose([\n",
    "    torchvision.transforms.ToTensor(),\n",
    "    torchvision.transforms.Normalize((0.5,0.5,0.5), (0.5,0.5,0.5))\n",
    "])\n",
    "\n",
    "trainset = torchvision.datasets.CIFAR10(\n",
    "    root='./data',\n",
    "    train=True,\n",
    "    download=True,\n",
    "    transform=transform\n",
    ")\n",
    "\n",
    "testset = torchvision.datasets.CIFAR10(\n",
    "    root='./data',\n",
    "    train=False,\n",
    "    download=True,\n",
    "    transform=transform\n",
    ")\n",
    "\n",
    "train_loader = torch.utils.data.DataLoader(trainset, batch_size=14, shuffle=True) # shuffle is used to shuffle the data before each epoch in order to avoid overfitting\n",
    "test_loader = torch.utils.data.DataLoader(testset, batch_size=14, shuffle=False)\n",
    "\n",
    "classses = ('plane', 'car', 'bird', 'cat', 'deer', 'dog', 'frog', 'horse', 'ship', 'truck') # the classes is used to map the labels to the names of the classes"
   ]
  },
  {
   "cell_type": "code",
   "execution_count": 16,
   "id": "727a4cc4",
   "metadata": {
    "execution": {
     "iopub.execute_input": "2023-07-17T11:38:19.808968Z",
     "iopub.status.busy": "2023-07-17T11:38:19.808643Z",
     "iopub.status.idle": "2023-07-17T11:38:20.463968Z",
     "shell.execute_reply": "2023-07-17T11:38:20.462901Z"
    },
    "papermill": {
     "duration": 0.676109,
     "end_time": "2023-07-17T11:38:20.466114",
     "exception": false,
     "start_time": "2023-07-17T11:38:19.790005",
     "status": "completed"
    },
    "tags": []
   },
   "outputs": [
    {
     "data": {
      "image/png": "[encoded data removed]",
      "text/plain": [
       "<Figure size 1500x300 with 10 Axes>"
      ]
     },
     "metadata": {},
     "output_type": "display_data"
    }
   ],
   "source": [
    "def display_dataset(dataset, n=10, classes=None):\n",
    "    fig, ax=plt.subplots(1,n,figsize=(15,3))\n",
    "    mn = min(dataset[i][0].min() for i in range(n))\n",
    "    mx = max(dataset[i][0].max() for i in range(n))\n",
    "\n",
    "    for i in range(n):\n",
    "        ax[i].imshow(np.transpose((dataset[i][0]-mn)/(mx-mn), (1,2,0))) # transpose is used to change the order of the dimensions in order to plot the image\n",
    "        ax[i].axis('off')\n",
    "        if classes:\n",
    "            ax[i].set_title(classes[dataset[i][1]])\n",
    "\n",
    "display_dataset(trainset, classes=classses)"
   ]
  },
  {
   "cell_type": "markdown",
   "id": "b3350e0c",
   "metadata": {
    "papermill": {
     "duration": 0.018142,
     "end_time": "2023-07-17T11:38:20.503114",
     "exception": false,
     "start_time": "2023-07-17T11:38:20.484972",
     "status": "completed"
    },
    "tags": []
   },
   "source": [
    "The architecture for CIFAR-10 is called LeNet, and has been proposed by Yann LeCun. It follows the same principles as we have outlined above, the main difference being 3 inpput color channels instead of 1.\n",
    "\n",
    "We also do one more simplification to this model - we do not use `log_softmax` as output activation function, and just return the output of last fully-connected layer. In this case we can just use `CrossEntropyLoss` loss function to optimize the model."
   ]
  },
  {
   "cell_type": "code",
   "execution_count": 17,
   "id": "70a94334",
   "metadata": {
    "execution": {
     "iopub.execute_input": "2023-07-17T11:38:20.542684Z",
     "iopub.status.busy": "2023-07-17T11:38:20.541147Z",
     "iopub.status.idle": "2023-07-17T11:38:20.564059Z",
     "shell.execute_reply": "2023-07-17T11:38:20.563118Z"
    },
    "papermill": {
     "duration": 0.044802,
     "end_time": "2023-07-17T11:38:20.566218",
     "exception": false,
     "start_time": "2023-07-17T11:38:20.521416",
     "status": "completed"
    },
    "tags": []
   },
   "outputs": [
    {
     "data": {
      "text/plain": [
       "==========================================================================================\n",
       "Layer (type:depth-idx)                   Output Shape              Param #\n",
       "==========================================================================================\n",
       "LeNet                                    [1, 10]                   --\n",
       "├─Conv2d: 1-1                            [1, 6, 28, 28]            456\n",
       "├─MaxPool2d: 1-2                         [1, 6, 14, 14]            --\n",
       "├─Conv2d: 1-3                            [1, 16, 10, 10]           2,416\n",
       "├─MaxPool2d: 1-4                         [1, 16, 5, 5]             --\n",
       "├─Conv2d: 1-5                            [1, 120, 1, 1]            48,120\n",
       "├─Flatten: 1-6                           [1, 120]                  --\n",
       "├─Linear: 1-7                            [1, 64]                   7,744\n",
       "├─Linear: 1-8                            [1, 10]                   650\n",
       "==========================================================================================\n",
       "Total params: 59,386\n",
       "Trainable params: 59,386\n",
       "Non-trainable params: 0\n",
       "Total mult-adds (M): 0.66\n",
       "==========================================================================================\n",
       "Input size (MB): 0.01\n",
       "Forward/backward pass size (MB): 0.05\n",
       "Params size (MB): 0.24\n",
       "Estimated Total Size (MB): 0.30\n",
       "=========================================================================================="
      ]
     },
     "execution_count": 17,
     "metadata": {},
     "output_type": "execute_result"
    }
   ],
   "source": [
    "class LeNet(nn.Module):\n",
    "    def __init__(self) -> None:\n",
    "        super(LeNet, self).__init__()\n",
    "        self.conv1 = nn.Conv2d(3,6,5) # 3 input channel, 6 output channels, 5x5 filter\n",
    "        self.pool = nn.MaxPool2d(2,2) # 2x2 max pooling\n",
    "        self.conv2 = nn.Conv2d(6,16,5) # 6 input channels, 16 output channels, 5x5 filter\n",
    "        self.conv3 = nn.Conv2d(16,120,5) # 16 input channels, 120 output channels, 5x5 filter\n",
    "        self.flat = nn.Flatten() # flatten the output of the convolution layer to a vector\n",
    "        self.fc1 = nn.Linear(120,64) # 120 input features, 64 output features\n",
    "        self.fc2 = nn.Linear(64,10) # 64 input features, 10 output features\n",
    "    \n",
    "    def forward(self, x):\n",
    "        x = self.pool(nn.functional.relu(self.conv1(x))) # apply the first convolution, relu and pooling\n",
    "        x = self.pool(nn.functional.relu(self.conv2(x))) # apply the second convolution, relu and pooling\n",
    "        x = nn.functional.relu(self.conv3(x)) # apply the third convolution and relu\n",
    "        x = self.flat(x) # flatten the output of the convolution layer\n",
    "        x = nn.functional.relu(self.fc1(x)) # apply the first fully connected layer and relu\n",
    "        x = self.fc2(x) # apply the second fully connected layer\n",
    "        return x\n",
    "\n",
    "net = LeNet().to(torch_device)\n",
    "summary(net, input_size=(1,3,32,32))"
   ]
  },
  {
   "cell_type": "markdown",
   "id": "4ad20451",
   "metadata": {
    "papermill": {
     "duration": 0.018226,
     "end_time": "2023-07-17T11:38:20.603277",
     "exception": false,
     "start_time": "2023-07-17T11:38:20.585051",
     "status": "completed"
    },
    "tags": []
   },
   "source": [
    "Training this network properly will take significant amount of time, aand should preferably be done on GPU-enable compute."
   ]
  },
  {
   "cell_type": "code",
   "execution_count": 18,
   "id": "a1ccc2b8",
   "metadata": {
    "execution": {
     "iopub.execute_input": "2023-07-17T11:38:20.642059Z",
     "iopub.status.busy": "2023-07-17T11:38:20.641194Z",
     "iopub.status.idle": "2023-07-17T11:40:09.944563Z",
     "shell.execute_reply": "2023-07-17T11:40:09.943521Z"
    },
    "papermill": {
     "duration": 109.325197,
     "end_time": "2023-07-17T11:40:09.946818",
     "exception": false,
     "start_time": "2023-07-17T11:38:20.621621",
     "status": "completed"
    },
    "tags": []
   },
   "outputs": [
    {
     "name": "stdout",
     "output_type": "stream",
     "text": [
      "Epoch  0, Train acc=0.386, Val acc=0.440, Train loss=0.119, Val loss=0.114\n",
      "Epoch  1, Train acc=0.497, Val acc=0.528, Train loss=0.101, Val loss=0.097\n",
      "Epoch  2, Train acc=0.531, Val acc=0.519, Train loss=0.095, Val loss=0.098\n",
      "Epoch  3, Train acc=0.551, Val acc=0.528, Train loss=0.092, Val loss=0.097\n",
      "Epoch  4, Train acc=0.562, Val acc=0.527, Train loss=0.090, Val loss=0.101\n"
     ]
    }
   ],
   "source": [
    "opt = torch.optim.SGD(net.parameters(), lr=0.01, momentum=0.9) # use SGD optimizer with momentum\n",
    "hist = train(net, train_loader, test_loader, epochs=5, optimizer=opt, loss_fn=nn.CrossEntropyLoss()) # use CrossEntropyLoss as loss function"
   ]
  },
  {
   "cell_type": "markdown",
   "id": "c249ce37",
   "metadata": {
    "papermill": {
     "duration": 0.018686,
     "end_time": "2023-07-17T11:40:09.984981",
     "exception": false,
     "start_time": "2023-07-17T11:40:09.966295",
     "status": "completed"
    },
    "tags": []
   },
   "source": [
    "The accuracy that we have been able to achieve with 3 epochs of training does not see, great. However, remember that blind guessing would only give us 10% accuracy, and that our problem is actually significantly more difficult than MNIST digit classification. Getting above 50% accuracy in such a short training time seems like a good accomplishment.\n",
    "\n",
    "Real-life architectures that power image classification, object detection, and even image generation networks are all based on CNNs, just with more layers and some additional tricks."
   ]
  }
 ],
 "metadata": {
  "kernelspec": {
   "display_name": "Python 3",
   "language": "python",
   "name": "python3"
  },
  "language_info": {
   "codemirror_mode": {
    "name": "ipython",
    "version": 3
   },
   "file_extension": ".py",
   "mimetype": "text/x-python",
   "name": "python",
   "nbconvert_exporter": "python",
   "pygments_lexer": "ipython3",
   "version": "3.10.12"
  },
  "papermill": {
   "default_parameters": {},
   "duration": 253.695136,
   "end_time": "2023-07-17T11:40:12.765205",
   "environment_variables": {},
   "exception": null,
   "input_path": "__notebook__.ipynb",
   "output_path": "__notebook__.ipynb",
   "parameters": {},
   "start_time": "2023-07-17T11:35:59.070069",
   "version": "2.4.0"
  }
 },
 "nbformat": 4,
 "nbformat_minor": 5
}
