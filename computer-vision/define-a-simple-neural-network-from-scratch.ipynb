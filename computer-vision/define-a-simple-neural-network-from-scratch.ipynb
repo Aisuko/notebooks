{
 "cells": [
  {
   "cell_type": "markdown",
   "id": "e97273c1",
   "metadata": {
    "_cell_guid": "b1076dfc-b9ad-4769-8c92-a6c4dae69d19",
    "_uuid": "8f2839f25d086af736a60e9eeb907d3b93b6e0e5",
    "papermill": {
     "duration": 0.007593,
     "end_time": "2024-08-21T05:05:58.095216",
     "exception": false,
     "start_time": "2024-08-21T05:05:58.087623",
     "status": "completed"
    },
    "tags": []
   },
   "source": [
    "# Overview\n",
    "\n",
    "Learning note from [The Math Behind Neural Networks](https://medium.com/towards-data-science/the-math-behind-neural-networks-a34a51b93873).\n",
    "\n",
    "Neural networks started with something called a percaptron in 1958, thanks to Frank Rosenblatt. Today we built more complex networks, like multi-layer perceptrons(MLPs), which has one or more hidden layers.\n",
    "\n",
    "\n",
    "# Type of common Neural Networks\n",
    "\n",
    "### Feedforward Neural Networks(FNN)\n",
    "\n",
    "The Feedforward Neural Network is the simplest type. It's like a one-way street for data - information travels straight from the input, through any hidden layers, and out the other side to the output. **These networks are the go-to for simple predictions and sorting things into categories.**\n",
    "\n",
    "### Convolutinal Neural Networks(CNN)\n",
    "\n",
    "Computer vision.\n",
    "\n",
    "### Long Short-Term Memory Networks(LSTM)\n",
    "\n",
    "LSTMs are a special breed of RNNs built to remember things for longer streches. They'are desgined to solve the problem of RNNd forgetting stuff over long sequences.\n",
    "\n",
    "### Generative Adversarial Networks(GAN)\n",
    "\n",
    "Imagine two AIs in a cat-and-mouse game: one generates fakes data(like images), and the other tries to catch what's fake and what's real.\n",
    "\n",
    "\n",
    "# The Architecture of Neural Networks\n",
    "\n",
    "### The Structure of a Neuron\n",
    "\n",
    "For each input, the neuron does a little math: it multiplies the input by a \"weight\" and then adds a \"bias\".\n",
    "\n",
    "### Activation function\n",
    "\n",
    "it add nonlinear to the neuron net, like ReLU, sigmoid and Tanh\n",
    "\n",
    "### Layers\n",
    "\n",
    "* Input layer\n",
    "* Hidden layers\n",
    "* Output layer\n",
    "\n",
    "#### Output layer\n",
    "\n",
    "The softmax function to give probabilities for each category in the final step. Output layer holds only one node normally is used for a regression task.\n",
    "\n",
    "\n",
    "# The Mathmatics of Neural Networks\n",
    "\n",
    "The first step in the neural computation process involves aggregating the inputs to a neuron, each multiplied by their respective weights, and then adding a bias term. It's called weighted sum or linear combination.\n",
    "\n",
    "$$z=\\sum_{i=1}^{n} w_{i}x_{i}+b$$\n",
    "\n",
    "* $w_{i}$ represents the weight associated with the i-th input\n",
    "* $x_{i}$ is the i-th input to the neuron\n",
    "\n",
    "\n",
    "Z is the weighted sum. It's allows the network to perform a linear transformation of the inputs, adjusting the importance(weight) of each input in the neuron's output.\n",
    "\n",
    "\n",
    "## Activation Functions\n",
    "\n",
    "They are mathematical equations that determine whether a neuron should be activated or not. It introduce non-linear properties to the network, enabling it to learn complex data patterns and perform tasks beyond mere linear classification, which is essential for deep learning models.\n",
    "\n",
    "### Sigmoid(for binary classification)\n",
    "\n",
    "This function squeezes its input intot a narrow range between 0 and 1. It's like taking any value, no matter how large or small, and translating it into a probability.\n",
    "\n",
    "![](https://upload.wikimedia.org/wikipedia/commons/thumb/8/88/Logistic-curve.svg/320px-Logistic-curve.svg.png)\n",
    "\n",
    "$$f(x)=\\frac{1}{1+e^{-x}}$$\n",
    "\n",
    "### Hyperbolic Tangent(tanh)\n",
    "\n",
    "Tanh stretches the output range to between -1 and 1. This centers the data around 0, making it easier for layers down the line to learn from it.\n",
    "\n",
    "![](https://upload.wikimedia.org/wikipedia/commons/thumb/7/76/Sinh_cosh_tanh.svg/300px-Sinh_cosh_tanh.svg.png)\n",
    "\n",
    "$$f(x)=tanh(x)=\\frac{2}{1+e^{-2x}}-1$$\n",
    "\n",
    "\n",
    "### Rectified Linear Unit(ReLU)\n",
    "\n",
    "ReLU is like a gatekeeper that passes psotive values unchanged but blocks nagtives, turning them to zero.\n",
    "\n",
    "![](https://upload.wikimedia.org/wikipedia/commons/thumb/4/42/ReLU_and_GELU.svg/220px-ReLU_and_GELU.svg.png)\n",
    "\n",
    "$$f(x)=max(0,x)$$\n",
    "\n",
    "\n",
    "### Leaky Rectified Linear Unit(Leaky ReLU)\n",
    "\n",
    "Leaky ReLU allows a tiny, none-zero gradient when the input is less than zero, which keeps neurons alive and kicking even when the're not actively firing.\n",
    "\n",
    "![](https://upload.wikimedia.org/wikipedia/commons/thumb/a/ae/Activation_prelu.svg/120px-Activation_prelu.svg.png)\n",
    "\n",
    "$$f(x)=max(\\alpha x, x)$$\n",
    "\n",
    "It's tweak to ReLU used in cases wher the network miht suffer from \"dead neurons\" ensuring all parts of the network stay active over time.\n",
    "\n",
    "\n",
    "### Exponential Linear Unit(ELU)\n",
    "\n",
    "![](https://upload.wikimedia.org/wikipedia/commons/thumb/b/bc/Activation_elu.svg/120px-Activation_elu.svg.png)\n",
    "\n",
    "$$f(x)=\\begin{cases}\\alpha \\left(e^{x}-1\\right)&{\\text{if }}x\\leq 0\\\\x&{\\text{if }}x>0\\end{cases}$$\n",
    " \n",
    " \n",
    "### Softmax Function\n",
    "\n",
    "The softmax function turns logits, the raw output socres from the neurons, into probabilities by exponentiating and normalizing them. It ensures that the output values sum up to one, makeing them directly interpretable as probabilities.\n",
    "\n",
    "$$f(x)_{i}=\\frac{e^{x}_{i}}{\\sum_{j} e^{x}_{j}}$$\n",
    "\n",
    "\n",
    "## Backpropagation(Backword propagation of errors)\n",
    "\n",
    "It's a method for efficiently calculating the gradient of the loss function concerning all weights in the network. It consists of two main phases:\n",
    "\n",
    "\n",
    "### Forward pass\n",
    "\n",
    "The intput data is passed through the network to generate an output\n",
    "\n",
    "\n",
    "### Backward pass\n",
    "\n",
    "The ouptut is compared to the target value, and the error is propagated back through the network to update the weights.\n",
    "\n",
    "**The essence of backpropagation is the chain rule of calculus, which is used to calcualte the gradients of the loss function for each weight by multiplying the gradients of the layers behind it.** \n",
    "\n",
    "$$\\frac{\\alpha L}{\\alpha w}=\\frac{\\alpha L}{\\alpha a}* \\frac{\\alpha a}{\\alpha z} * \\frac{\\alpha z}{\\alpha w}$$\n",
    "\n",
    "where:\n",
    "* $\\frac{\\alpha a}{\\alpha L}$ is the gradient of the loss function to the activation\n",
    "* $\\frac{\\alpha z}{\\alpha a}$ is the gradient of the activation function tot he weighted input z\n",
    "* $\\frac{\\alpha w}{\\alpha z}$ is the gradient of thr weighted input to the weight w\n",
    "* z represents the weighted sum of inputs and a is the activation\n",
    "\n",
    "### Gradient descent: Optimizing the weights\n",
    "\n",
    "Gradient descent is an optimization algorithm used for minimizing the loss function in a neural network. It works by iteratively mocing the weights in the direction of the steepest decrease in loss. The amount by which the weights are adjusted in each iteration is determined by the learning rate, a hyperparameter that controls the size of the steps.\n",
    "\n",
    "$$w_{new}=w_{old}-\\eta*\\frac{\\alpha L}{\\alpha w}$$\n",
    "\n",
    "* $w_{new}$ and $w_{old}$ represent the updated(new) and current(old) values of the weight, respectively.\n",
    "* $\\eta$ is the learning rate, a hyperparmeter that controls the size of the step taken in the direction of the negative gradient.\n",
    "* $\\alpha w/\\alpha L$ is the gradient of the loss function for the weight\n",
    "\n",
    "\n",
    "In the practice, backpropagation and gradient descent are perfomed in tandem. Backpropagation computes the gradient(the direction and magnitude of the error) for each weight in the network, and gradient descent uses this information to update the weights to minimize the loss.\n",
    "\n",
    "\n",
    "# Improvements of Gradient Descent\n",
    "\n",
    "\n",
    "## Stochastic Gradient Descent(SGD)\n",
    "\n",
    "This method is similar to making decisions based on quick, individual observations rather than waiting to gather everyone's opinion.\n",
    "\n",
    "\n",
    "## Adam(Adaptive Moment Estimation)\n",
    "\n",
    "It combines ideas from two other gradient descent improvements, AdaGrad and RMSProp, to adapt the learning rate for each weight in the network based on the first(mean) and second(uncentered variance) moments of the gradient."
   ]
  },
  {
   "cell_type": "code",
   "execution_count": 1,
   "id": "f88a8ff1",
   "metadata": {
    "execution": {
     "iopub.execute_input": "2024-08-21T05:05:58.111533Z",
     "iopub.status.busy": "2024-08-21T05:05:58.111091Z",
     "iopub.status.idle": "2024-08-21T05:05:58.144474Z",
     "shell.execute_reply": "2024-08-21T05:05:58.143406Z"
    },
    "papermill": {
     "duration": 0.04511,
     "end_time": "2024-08-21T05:05:58.147527",
     "exception": false,
     "start_time": "2024-08-21T05:05:58.102417",
     "status": "completed"
    },
    "tags": []
   },
   "outputs": [],
   "source": [
    "import numpy as np\n",
    "\n",
    "\n",
    "class SimpleNN:\n",
    "    \"\"\"\n",
    "    A simple neural network with one hidden layer.\n",
    "\n",
    "    Parameters:\n",
    "    -----------\n",
    "    input_size: int\n",
    "        The number of input features\n",
    "    hidden_size: int\n",
    "        The number of neurons in the hidden layer\n",
    "    output_size: int\n",
    "        The number of neurons in the output layer\n",
    "    loss_func: str\n",
    "        The loss function to use. Options are 'mse' for mean squared error, 'log_loss' for logistic loss, and 'categorical_crossentropy' for categorical crossentropy.\n",
    "    \"\"\"\n",
    "    def __init__(self, input_size, hidden_size, output_size, loss_func='mse'):\n",
    "        self.input_size = input_size\n",
    "        self.hidden_size = hidden_size\n",
    "        self.output_size = output_size\n",
    "        self.loss_func = loss_func\n",
    "        \n",
    "        # Initialize weights and biases\n",
    "        self.weights1 = np.random.randn(self.input_size, self.hidden_size)\n",
    "        self.bias1 = np.zeros((1, self.hidden_size))\n",
    "        self.weights2 = np.random.randn(self.hidden_size, self.output_size)\n",
    "        self.bias2 = np.zeros((1, self.output_size))\n",
    "\n",
    "        # track loss\n",
    "        self.train_loss = []\n",
    "        self.test_loss = []\n",
    "\n",
    "    def __str__(self):\n",
    "        \"\"\"\n",
    "        Print the neural network architecture.\n",
    "        \"\"\"\n",
    "        return f\"Neural Network Layout:\\nInput Layer: {self.input_size} neurons\\nHidden Layer: {self.hidden_size} neurons\\nOutput Layer: {self.output_size} neurons\\nLoss Function: {self.loss_func}\"\n",
    "        \n",
    "    def forward(self, X):\n",
    "        \"\"\"\n",
    "        Perform forward propagation.\n",
    "        \n",
    "        Parameters:\n",
    "        -----------\n",
    "        X: numpy array\n",
    "            The input data\n",
    "        \n",
    "        Returns:\n",
    "        --------\n",
    "        numpy array\n",
    "            The predicted output\n",
    "        \"\"\"\n",
    "        # Perform forward propagation\n",
    "        self.z1 = np.dot(X, self.weights1) + self.bias1\n",
    "        self.a1 = self.sigmoid(self.z1)\n",
    "        self.z2 = np.dot(self.a1, self.weights2) + self.bias2\n",
    "        if self.loss_func == 'categorical_crossentropy':\n",
    "            self.a2 = self.softmax(self.z2)\n",
    "        else:\n",
    "            self.a2 = self.sigmoid(self.z2)\n",
    "        return self.a2\n",
    "    \n",
    "    def backward(self, X, y, learning_rate):\n",
    "        \"\"\"\n",
    "        Perform backpropagation.\n",
    "\n",
    "        Parameters:\n",
    "        -----------\n",
    "        X: numpy array\n",
    "            The input data\n",
    "        y: numpy array\n",
    "            The target output\n",
    "        learning_rate: float\n",
    "            The learning rate\n",
    "        \"\"\"\n",
    "        # Perform backpropagation\n",
    "        m = X.shape[0]\n",
    "        \n",
    "        # Calculate gradients\n",
    "        if self.loss_func == 'mse':\n",
    "            self.dz2 = self.a2 - y\n",
    "        elif self.loss_func == 'log_loss':\n",
    "            self.dz2 = -(y/self.a2 - (1-y)/(1-self.a2))\n",
    "        elif self.loss_func == 'categorical_crossentropy':\n",
    "            self.dz2 = self.a2 - y\n",
    "        else:\n",
    "            raise ValueError('Invalid loss function')\n",
    "        \n",
    "        self.dw2 = (1 / m) * np.dot(self.a1.T, self.dz2)\n",
    "        self.db2 = (1 / m) * np.sum(self.dz2, axis=0, keepdims=True)\n",
    "        self.dz1 = np.dot(self.dz2, self.weights2.T) * self.sigmoid_derivative(self.a1)\n",
    "        self.dw1 = (1 / m) * np.dot(X.T, self.dz1)\n",
    "        self.db1 = (1 / m) * np.sum(self.dz1, axis=0, keepdims=True)\n",
    "        \n",
    "        # Update weights and biases\n",
    "        self.weights2 -= learning_rate * self.dw2\n",
    "        self.bias2 -= learning_rate * self.db2\n",
    "        self.weights1 -= learning_rate * self.dw1\n",
    "        self.bias1 -= learning_rate * self.db1\n",
    "        \n",
    "    def sigmoid(self, x):\n",
    "        \"\"\"\n",
    "        Sigmoid activation function.\n",
    "        \n",
    "        Parameters:\n",
    "        -----------\n",
    "        x: numpy array\n",
    "            The input data\n",
    "        \n",
    "        Returns:\n",
    "        --------\n",
    "        numpy array\n",
    "            The output of the sigmoid function\n",
    "        \"\"\"\n",
    "        return 1 / (1 + np.exp(-x))\n",
    "    \n",
    "    def sigmoid_derivative(self, x):\n",
    "        \"\"\"\n",
    "        Derivative of the sigmoid activation function.\n",
    "\n",
    "        Parameters:\n",
    "        -----------\n",
    "        x: numpy array\n",
    "            The input data\n",
    "        \n",
    "        Returns:\n",
    "        --------\n",
    "        numpy array\n",
    "            The output of the derivative of the sigmoid function\n",
    "        \"\"\"\n",
    "        return x * (1 - x)\n",
    "    \n",
    "    def softmax(self, x):\n",
    "        \"\"\"\n",
    "        Softmax activation function.\n",
    "\n",
    "        Parameters:\n",
    "        -----------\n",
    "        x: numpy array\n",
    "            The input data\n",
    "        \n",
    "        Returns:\n",
    "        --------\n",
    "        numpy array\n",
    "            The output of the softmax function\n",
    "        \"\"\"\n",
    "        exps = np.exp(x - np.max(x, axis=1, keepdims=True))\n",
    "        return exps/np.sum(exps, axis=1, keepdims=True)"
   ]
  },
  {
   "cell_type": "markdown",
   "id": "368dc441",
   "metadata": {
    "papermill": {
     "duration": 0.006662,
     "end_time": "2024-08-21T05:05:58.161310",
     "exception": false,
     "start_time": "2024-08-21T05:05:58.154648",
     "status": "completed"
    },
    "tags": []
   },
   "source": [
    "# Define trainer"
   ]
  },
  {
   "cell_type": "code",
   "execution_count": 2,
   "id": "26e89bce",
   "metadata": {
    "execution": {
     "iopub.execute_input": "2024-08-21T05:05:58.177022Z",
     "iopub.status.busy": "2024-08-21T05:05:58.176604Z",
     "iopub.status.idle": "2024-08-21T05:05:58.190296Z",
     "shell.execute_reply": "2024-08-21T05:05:58.188984Z"
    },
    "papermill": {
     "duration": 0.024974,
     "end_time": "2024-08-21T05:05:58.193148",
     "exception": false,
     "start_time": "2024-08-21T05:05:58.168174",
     "status": "completed"
    },
    "tags": []
   },
   "outputs": [],
   "source": [
    "class Trainer:\n",
    "    \"\"\"\n",
    "    A class to train a neural network.\n",
    "\n",
    "    Parameters:\n",
    "    -----------\n",
    "    model: NeuralNetwork\n",
    "        The neural network model to train\n",
    "    loss_func: str\n",
    "        The loss function to use. Options are 'mse' for mean squared error, 'log_loss' for logistic loss, and 'categorical_crossentropy' for categorical crossentropy.\n",
    "    \"\"\"\n",
    "    def __init__(self, model, loss_func='mse'):\n",
    "        self.model = model\n",
    "        self.loss_func = loss_func\n",
    "        self.train_loss = []\n",
    "        self.test_loss = []\n",
    "\n",
    "    def calculate_loss(self, y_true, y_pred):\n",
    "        \"\"\"\n",
    "        Calculate the loss.\n",
    "\n",
    "        Parameters:\n",
    "        -----------\n",
    "        y_true: numpy array\n",
    "            The true output\n",
    "        y_pred: numpy array\n",
    "            The predicted output\n",
    "        \n",
    "        Returns:\n",
    "        --------\n",
    "        float\n",
    "            The loss\n",
    "        \"\"\"\n",
    "        if self.loss_func == 'mse':\n",
    "            return np.mean((y_pred - y_true)**2)\n",
    "        elif self.loss_func == 'log_loss':\n",
    "            return -np.mean(y_true*np.log(y_pred) + (1-y_true)*np.log(1-y_pred))\n",
    "        elif self.loss_func == 'categorical_crossentropy':\n",
    "            return -np.mean(y_true*np.log(y_pred))\n",
    "        else:\n",
    "            raise ValueError('Invalid loss function')\n",
    "\n",
    "    def train(self, X_train, y_train, X_test, y_test, epochs, learning_rate):\n",
    "        \"\"\"\n",
    "        Train the neural network.\n",
    "\n",
    "        Parameters:\n",
    "        -----------\n",
    "        X_train: numpy array\n",
    "            The training input data\n",
    "        y_train: numpy array\n",
    "            The training target output\n",
    "        X_test: numpy array\n",
    "            The test input data\n",
    "        y_test: numpy array\n",
    "            The test target output\n",
    "        epochs: int\n",
    "            The number of epochs to train the model\n",
    "        learning_rate: float\n",
    "            The learning rate\n",
    "        \"\"\"\n",
    "        for _ in range(epochs):\n",
    "            self.model.forward(X_train)\n",
    "            self.model.backward(X_train, y_train, learning_rate)\n",
    "            train_loss = self.calculate_loss(y_train, self.model.a2)\n",
    "            self.train_loss.append(train_loss)\n",
    "            \n",
    "            self.model.forward(X_test)\n",
    "            test_loss = self.calculate_loss(y_test, self.model.a2)\n",
    "            self.test_loss.append(test_loss)"
   ]
  },
  {
   "cell_type": "markdown",
   "id": "f5117927",
   "metadata": {
    "papermill": {
     "duration": 0.006571,
     "end_time": "2024-08-21T05:05:58.208420",
     "exception": false,
     "start_time": "2024-08-21T05:05:58.201849",
     "status": "completed"
    },
    "tags": []
   },
   "source": [
    "# Load dataset"
   ]
  },
  {
   "cell_type": "code",
   "execution_count": 3,
   "id": "2c5899b3",
   "metadata": {
    "execution": {
     "iopub.execute_input": "2024-08-21T05:05:58.224319Z",
     "iopub.status.busy": "2024-08-21T05:05:58.223844Z",
     "iopub.status.idle": "2024-08-21T05:06:00.195667Z",
     "shell.execute_reply": "2024-08-21T05:06:00.194314Z"
    },
    "papermill": {
     "duration": 1.983668,
     "end_time": "2024-08-21T05:06:00.198982",
     "exception": false,
     "start_time": "2024-08-21T05:05:58.215314",
     "status": "completed"
    },
    "tags": []
   },
   "outputs": [],
   "source": [
    "import matplotlib.pyplot as plt\n",
    "\n",
    "from sklearn.datasets import load_digits\n",
    "from sklearn.model_selection import train_test_split\n",
    "from sklearn.preprocessing import MinMaxScaler # normalization\n",
    "from sklearn.preprocessing import OneHotEncoder # for one hot encodign\n",
    "\n",
    "import optuna # for hyperparameter tuning\n",
    "\n",
    "import warnings\n",
    "warnings.filterwarnings(\"ignore\")"
   ]
  },
  {
   "cell_type": "code",
   "execution_count": 4,
   "id": "51565bfb",
   "metadata": {
    "execution": {
     "iopub.execute_input": "2024-08-21T05:06:00.217764Z",
     "iopub.status.busy": "2024-08-21T05:06:00.217286Z",
     "iopub.status.idle": "2024-08-21T05:06:01.211808Z",
     "shell.execute_reply": "2024-08-21T05:06:01.209567Z"
    },
    "papermill": {
     "duration": 1.008538,
     "end_time": "2024-08-21T05:06:01.215248",
     "exception": false,
     "start_time": "2024-08-21T05:06:00.206710",
     "status": "completed"
    },
    "tags": []
   },
   "outputs": [
    {
     "data": {
      "image/png": "[encoded data removed]",
      "text/plain": [
       "<Figure size 1000x500 with 10 Axes>"
      ]
     },
     "metadata": {},
     "output_type": "display_data"
    }
   ],
   "source": [
    "# load the digits dataset\n",
    "digits=load_digits()\n",
    "\n",
    "# plot the first 10 images\n",
    "fig, axes=plt.subplots(2,5,figsize=(10,5))\n",
    "axes=axes.ravel()\n",
    "\n",
    "for i in range(10):\n",
    "    axes[i].imshow(digits.images[i], cmap='gray')\n",
    "    axes[i].axis('off')\n",
    "    axes[i].set_title(f\"Label: {digits.target[i]}\")\n",
    "\n",
    "plt.tight_layout()\n",
    "plt.show()"
   ]
  },
  {
   "cell_type": "markdown",
   "id": "168274fe",
   "metadata": {
    "papermill": {
     "duration": 0.007151,
     "end_time": "2024-08-21T05:06:01.229981",
     "exception": false,
     "start_time": "2024-08-21T05:06:01.222830",
     "status": "completed"
    },
    "tags": []
   },
   "source": [
    "# Data Preprocessing"
   ]
  },
  {
   "cell_type": "code",
   "execution_count": 5,
   "id": "c712dc92",
   "metadata": {
    "execution": {
     "iopub.execute_input": "2024-08-21T05:06:01.246604Z",
     "iopub.status.busy": "2024-08-21T05:06:01.246173Z",
     "iopub.status.idle": "2024-08-21T05:06:01.265123Z",
     "shell.execute_reply": "2024-08-21T05:06:01.263903Z"
    },
    "papermill": {
     "duration": 0.03077,
     "end_time": "2024-08-21T05:06:01.268157",
     "exception": false,
     "start_time": "2024-08-21T05:06:01.237387",
     "status": "completed"
    },
    "tags": []
   },
   "outputs": [],
   "source": [
    "# Preprocess the dataset\n",
    "\n",
    "scaler=MinMaxScaler()\n",
    "X=scaler.fit_transform(digits.data)\n",
    "y=digits.target\n",
    "\n",
    "# One-hot encode the target output\n",
    "encoder=OneHotEncoder(sparse=False)\n",
    "y_onehot=encoder.fit_transform(y.reshape(-1,1))\n",
    "\n",
    "# split the dataset into training and testing sets\n",
    "X_train, X_test, y_train, y_test = train_test_split(X, y_onehot, test_size=0.2, random_state=42)"
   ]
  },
  {
   "cell_type": "markdown",
   "id": "3a30e262",
   "metadata": {
    "papermill": {
     "duration": 0.006995,
     "end_time": "2024-08-21T05:06:01.282805",
     "exception": false,
     "start_time": "2024-08-21T05:06:01.275810",
     "status": "completed"
    },
    "tags": []
   },
   "source": [
    "# Create Neural Network"
   ]
  },
  {
   "cell_type": "code",
   "execution_count": 6,
   "id": "e3d37139",
   "metadata": {
    "execution": {
     "iopub.execute_input": "2024-08-21T05:06:01.299696Z",
     "iopub.status.busy": "2024-08-21T05:06:01.299281Z",
     "iopub.status.idle": "2024-08-21T05:06:01.309003Z",
     "shell.execute_reply": "2024-08-21T05:06:01.307480Z"
    },
    "papermill": {
     "duration": 0.021255,
     "end_time": "2024-08-21T05:06:01.311739",
     "exception": false,
     "start_time": "2024-08-21T05:06:01.290484",
     "status": "completed"
    },
    "tags": []
   },
   "outputs": [
    {
     "name": "stdout",
     "output_type": "stream",
     "text": [
      "Neural Network Layout:\n",
      "Input Layer: 64 neurons\n",
      "Hidden Layer: 64 neurons\n",
      "Output Layer: 10 neurons\n",
      "Loss Function: categorical_crossentropy\n"
     ]
    }
   ],
   "source": [
    "# Create an instance of the NeuralNetwork class\n",
    "input_size = X.shape[1]\n",
    "hidden_size = 64\n",
    "output_size = len(np.unique(y))\n",
    "loss_func = 'categorical_crossentropy'\n",
    "epochs = 1000\n",
    "learning_rate = 0.1\n",
    "\n",
    "math_model = SimpleNN(input_size, hidden_size, output_size, loss_func)\n",
    "\n",
    "# Print the neural network artchitecture\n",
    "print(math_model)"
   ]
  },
  {
   "cell_type": "markdown",
   "id": "58372540",
   "metadata": {
    "papermill": {
     "duration": 0.007215,
     "end_time": "2024-08-21T05:06:01.326681",
     "exception": false,
     "start_time": "2024-08-21T05:06:01.319466",
     "status": "completed"
    },
    "tags": []
   },
   "source": [
    "# Train model"
   ]
  },
  {
   "cell_type": "code",
   "execution_count": 7,
   "id": "ddbd709f",
   "metadata": {
    "execution": {
     "iopub.execute_input": "2024-08-21T05:06:01.343593Z",
     "iopub.status.busy": "2024-08-21T05:06:01.343146Z",
     "iopub.status.idle": "2024-08-21T05:06:12.421003Z",
     "shell.execute_reply": "2024-08-21T05:06:12.419271Z"
    },
    "papermill": {
     "duration": 11.092288,
     "end_time": "2024-08-21T05:06:12.426559",
     "exception": false,
     "start_time": "2024-08-21T05:06:01.334271",
     "status": "completed"
    },
    "tags": []
   },
   "outputs": [
    {
     "name": "stdout",
     "output_type": "stream",
     "text": [
      "Accuracy: 93.61%\n"
     ]
    }
   ],
   "source": [
    "trainer=Trainer(math_model, loss_func)\n",
    "trainer.train(X_train, y_train, X_test, y_test, epochs, learning_rate)\n",
    "\n",
    "# Convert y_test from one-hot encoding to labels\n",
    "y_test_labels = np.argmax(y_test, axis=1)\n",
    "\n",
    "# Evaluate the performance of the neural network\n",
    "predictions = np.argmax(math_model.forward(X_test), axis=1)\n",
    "accuracy = np.mean(predictions == y_test_labels)\n",
    "print(f\"Accuracy: {accuracy:.2%}\")"
   ]
  },
  {
   "cell_type": "markdown",
   "id": "bb135c92",
   "metadata": {
    "papermill": {
     "duration": 0.014679,
     "end_time": "2024-08-21T05:06:12.457513",
     "exception": false,
     "start_time": "2024-08-21T05:06:12.442834",
     "status": "completed"
    },
    "tags": []
   },
   "source": [
    "# Visualization loss"
   ]
  },
  {
   "cell_type": "code",
   "execution_count": 8,
   "id": "45b1891d",
   "metadata": {
    "execution": {
     "iopub.execute_input": "2024-08-21T05:06:12.491359Z",
     "iopub.status.busy": "2024-08-21T05:06:12.490583Z",
     "iopub.status.idle": "2024-08-21T05:06:12.845331Z",
     "shell.execute_reply": "2024-08-21T05:06:12.843798Z"
    },
    "papermill": {
     "duration": 0.375671,
     "end_time": "2024-08-21T05:06:12.848399",
     "exception": false,
     "start_time": "2024-08-21T05:06:12.472728",
     "status": "completed"
    },
    "tags": []
   },
   "outputs": [
    {
     "data": {
      "image/png": "[encoded data removed]",
      "text/plain": [
       "<Figure size 640x480 with 1 Axes>"
      ]
     },
     "metadata": {},
     "output_type": "display_data"
    }
   ],
   "source": [
    "plt.plot(trainer.train_loss, label='Train Loss')\n",
    "plt.plot(trainer.test_loss, label='Test Loss')\n",
    "plt.title('Train and Test Loss')\n",
    "plt.xlabel('Epochs')\n",
    "plt.ylabel('Loss')\n",
    "plt.legend()\n",
    "plt.show()"
   ]
  },
  {
   "cell_type": "markdown",
   "id": "7729630d",
   "metadata": {
    "papermill": {
     "duration": 0.00755,
     "end_time": "2024-08-21T05:06:12.864125",
     "exception": false,
     "start_time": "2024-08-21T05:06:12.856575",
     "status": "completed"
    },
    "tags": []
   },
   "source": [
    "# Hyperparameter optimization "
   ]
  },
  {
   "cell_type": "code",
   "execution_count": 9,
   "id": "d93ad3b3",
   "metadata": {
    "execution": {
     "iopub.execute_input": "2024-08-21T05:06:12.882036Z",
     "iopub.status.busy": "2024-08-21T05:06:12.881479Z",
     "iopub.status.idle": "2024-08-21T05:15:08.305465Z",
     "shell.execute_reply": "2024-08-21T05:15:08.303950Z"
    },
    "papermill": {
     "duration": 535.474978,
     "end_time": "2024-08-21T05:15:08.346898",
     "exception": false,
     "start_time": "2024-08-21T05:06:12.871920",
     "status": "completed"
    },
    "tags": []
   },
   "outputs": [
    {
     "name": "stderr",
     "output_type": "stream",
     "text": [
      "[I 2024-08-21 05:06:12,889] A new study created in memory with name: nn_study\n",
      "[I 2024-08-21 05:06:21,401] Trial 0 finished with value: 0.16944444444444445 and parameters: {'hidden_size': 36, 'learning_rate': 0.00019725985501801944, 'epochs': 1160}. Best is trial 0 with value: 0.16944444444444445.\n",
      "[I 2024-08-21 05:07:13,578] Trial 1 finished with value: 0.9555555555555556 and parameters: {'hidden_size': 39, 'learning_rate': 0.03512472589423577, 'epochs': 6608}. Best is trial 1 with value: 0.9555555555555556.\n",
      "[I 2024-08-21 05:08:58,225] Trial 2 finished with value: 0.875 and parameters: {'hidden_size': 91, 'learning_rate': 0.00403543832906102, 'epochs': 7837}. Best is trial 1 with value: 0.9555555555555556.\n",
      "[I 2024-08-21 05:09:28,167] Trial 3 finished with value: 0.1361111111111111 and parameters: {'hidden_size': 83, 'learning_rate': 0.0011850564452949117, 'epochs': 2339}. Best is trial 1 with value: 0.9555555555555556.\n",
      "[I 2024-08-21 05:11:34,768] Trial 4 finished with value: 0.10555555555555556 and parameters: {'hidden_size': 103, 'learning_rate': 0.00014718982427849026, 'epochs': 8662}. Best is trial 1 with value: 0.9555555555555556.\n",
      "[I 2024-08-21 05:13:17,508] Trial 5 finished with value: 0.9277777777777778 and parameters: {'hidden_size': 99, 'learning_rate': 0.011409291807293945, 'epochs': 7290}. Best is trial 1 with value: 0.9555555555555556.\n",
      "[I 2024-08-21 05:13:26,674] Trial 6 finished with value: 0.06111111111111111 and parameters: {'hidden_size': 109, 'learning_rate': 0.0006559886587148064, 'epochs': 618}. Best is trial 1 with value: 0.9555555555555556.\n",
      "[I 2024-08-21 05:13:38,210] Trial 7 finished with value: 0.6305555555555555 and parameters: {'hidden_size': 106, 'learning_rate': 0.011015743857958827, 'epochs': 801}. Best is trial 1 with value: 0.9555555555555556.\n",
      "[I 2024-08-21 05:14:12,478] Trial 8 finished with value: 0.058333333333333334 and parameters: {'hidden_size': 51, 'learning_rate': 0.00011423583311151437, 'epochs': 3709}. Best is trial 1 with value: 0.9555555555555556.\n",
      "[I 2024-08-21 05:15:08,297] Trial 9 finished with value: 0.9444444444444444 and parameters: {'hidden_size': 51, 'learning_rate': 0.024455741583026713, 'epochs': 5962}. Best is trial 1 with value: 0.9555555555555556.\n"
     ]
    },
    {
     "name": "stdout",
     "output_type": "stream",
     "text": [
      "Best trial: {'hidden_size': 39, 'learning_rate': 0.03512472589423577, 'epochs': 6608}\n",
      "Best value: 0.9555555555555556\n"
     ]
    }
   ],
   "source": [
    "def objective(trial):\n",
    "    # Define hyperparameters\n",
    "    hidden_size = trial.suggest_int('hidden_size', 32, 128)\n",
    "    learning_rate = trial.suggest_loguniform('learning_rate', 1e-4, 1e-1)\n",
    "    epochs = trial.suggest_int('epochs', 500, 10000)\n",
    "\n",
    "    # Create and train the neural network\n",
    "    nn = SimpleNN(input_size, hidden_size, output_size, loss_func)\n",
    "    trainer = Trainer(nn, loss_func)\n",
    "    trainer.train(X_train, y_train, X_test, y_test, epochs, learning_rate)\n",
    "\n",
    "    # Evaluate the performance of the neural network\n",
    "    predictions = np.argmax(nn.forward(X_test), axis=1)\n",
    "    accuracy = np.mean(predictions == y_test_labels)\n",
    "\n",
    "    return accuracy\n",
    "\n",
    "# Create a study object and optimize the objective function\n",
    "study = optuna.create_study(study_name='nn_study', direction='maximize')\n",
    "study.optimize(objective, n_trials=10)\n",
    "\n",
    "# Print the best hyperparameters\n",
    "print(f\"Best trial: {study.best_trial.params}\")\n",
    "print(f\"Best value: {study.best_trial.value}\")"
   ]
  },
  {
   "cell_type": "markdown",
   "id": "2735b4cd",
   "metadata": {
    "papermill": {
     "duration": 0.018267,
     "end_time": "2024-08-21T05:15:08.384292",
     "exception": false,
     "start_time": "2024-08-21T05:15:08.366025",
     "status": "completed"
    },
    "tags": []
   },
   "source": [
    "# Prediction"
   ]
  },
  {
   "cell_type": "code",
   "execution_count": 10,
   "id": "70d9e3ff",
   "metadata": {
    "execution": {
     "iopub.execute_input": "2024-08-21T05:15:08.424563Z",
     "iopub.status.busy": "2024-08-21T05:15:08.424086Z",
     "iopub.status.idle": "2024-08-21T05:16:01.430920Z",
     "shell.execute_reply": "2024-08-21T05:16:01.429592Z"
    },
    "papermill": {
     "duration": 53.04489,
     "end_time": "2024-08-21T05:16:01.454527",
     "exception": false,
     "start_time": "2024-08-21T05:15:08.409637",
     "status": "completed"
    },
    "tags": []
   },
   "outputs": [
    {
     "name": "stdout",
     "output_type": "stream",
     "text": [
      "Best accuracy: 95.00%\n"
     ]
    }
   ],
   "source": [
    "best_nn = SimpleNN(input_size, study.best_trial.params['hidden_size'], output_size, loss_func)\n",
    "best_trainer = Trainer(best_nn, loss_func)\n",
    "best_trainer.train(X_train, y_train, X_test, y_test, study.best_trial.params['epochs'], study.best_trial.params['learning_rate'])\n",
    "\n",
    "# Evaluate the performance of the best neural network\n",
    "predictions = np.argmax(best_nn.forward(X_test), axis=1)\n",
    "accuracy = np.mean(predictions == y_test_labels)\n",
    "print(f\"Best accuracy: {accuracy:.2%}\")"
   ]
  },
  {
   "cell_type": "markdown",
   "id": "ac90e3f4",
   "metadata": {
    "papermill": {
     "duration": 0.018735,
     "end_time": "2024-08-21T05:16:01.492593",
     "exception": false,
     "start_time": "2024-08-21T05:16:01.473858",
     "status": "completed"
    },
    "tags": []
   },
   "source": [
    "# Acknowledgements\n",
    "\n",
    "* https://en.wikipedia.org/wiki/Activation_function\n",
    "* https://medium.com/towards-data-science/the-math-behind-neural-networks-a34a51b93873"
   ]
  }
 ],
 "metadata": {
  "kaggle": {
   "accelerator": "none",
   "dataSources": [],
   "dockerImageVersionId": 30746,
   "isGpuEnabled": false,
   "isInternetEnabled": true,
   "language": "python",
   "sourceType": "notebook"
  },
  "kernelspec": {
   "display_name": "Python 3",
   "language": "python",
   "name": "python3"
  },
  "language_info": {
   "codemirror_mode": {
    "name": "ipython",
    "version": 3
   },
   "file_extension": ".py",
   "mimetype": "text/x-python",
   "name": "python",
   "nbconvert_exporter": "python",
   "pygments_lexer": "ipython3",
   "version": "3.10.13"
  },
  "papermill": {
   "default_parameters": {},
   "duration": 607.259583,
   "end_time": "2024-08-21T05:16:02.141386",
   "environment_variables": {},
   "exception": null,
   "input_path": "__notebook__.ipynb",
   "output_path": "__notebook__.ipynb",
   "parameters": {},
   "start_time": "2024-08-21T05:05:54.881803",
   "version": "2.5.0"
  }
 },
 "nbformat": 4,
 "nbformat_minor": 5
}
