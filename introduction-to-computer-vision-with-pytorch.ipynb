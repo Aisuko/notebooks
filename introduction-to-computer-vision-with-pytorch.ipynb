{
 "cells": [
  {
   "cell_type": "markdown",
   "id": "e3c586db",
   "metadata": {
    "papermill": {
     "duration": 0.00555,
     "end_time": "2023-07-15T07:15:29.149346",
     "exception": false,
     "start_time": "2023-07-15T07:15:29.143796",
     "status": "completed"
    },
    "tags": []
   },
   "source": [
    "## Computer Vision Images as Tensors\n",
    "\n",
    "Computer Vision (CV) is a field that studies how computers can gain some degree of understanding form digital images and/or video. `Understanding` in this definition has a rather broad meaning - it can range from being able to distinguish between a cat and a dog on the picture, to more complex tasks such as describing the image in natural language.\n",
    "\n",
    "The most common problems of computer vision include:\n",
    "\n",
    "* **Image Classificatin** is the simplest task, when we need to classify an image into one of many pre-define categories, for example, distinguish a cat fromm a dog on a photograph, or recognize handwritten digits.\n",
    "* **Object Detection** is a bit more difficult task, in which we need to find known objects on the picture and localize them, that is, return the `bounding box` for each of recognized objects.\n",
    "* **Segmentation** is similar to object detection, but instead of giving bounding box we need to return an exact pixel map outlining each of the recognized objects."
   ]
  },
  {
   "cell_type": "markdown",
   "id": "22897056",
   "metadata": {
    "papermill": {
     "duration": 0.004616,
     "end_time": "2023-07-15T07:15:29.159002",
     "exception": false,
     "start_time": "2023-07-15T07:15:29.154386",
     "status": "completed"
    },
    "tags": []
   },
   "source": [
    "### Image classification\n",
    "\n",
    "As with any other machine learning tasks, to train a model for classifying images we'll need a labeled dataset, that is, a large number of images for each of the classes."
   ]
  },
  {
   "cell_type": "markdown",
   "id": "21b669cd",
   "metadata": {
    "papermill": {
     "duration": 0.004396,
     "end_time": "2023-07-15T07:15:29.168290",
     "exception": false,
     "start_time": "2023-07-15T07:15:29.163894",
     "status": "completed"
    },
    "tags": []
   },
   "source": [
    "### Images as Tensors\n",
    "\n",
    "Computer Vision works with Images. As you probably know, images consist of pixels, so they can be thought of as a rectangualr collection (array) of pixels.\n",
    "\n",
    "In the first part, we will deal with handwritten digit recognition. We will use the MNIST dataset, which consists of grayscale images of handwritten digits, 28x28 pixels. Each image can be represented as 28x28 array, and elements of this array would denote instensity of corresponding pixel-either in the scale of range 0 to 1 (in which case floating point numbers are used), or 0 to 255 (integers). A popular python library called `numpy` is often used with computer vision tasks, because it allows to operate with multidimensional arrays effectively.\n",
    "\n",
    "To deal with color images, we need some way to represent colors. In mose cases, we represent each pixel by 3 intensity values, corresponding to Red(R), Green(G) and Blue(B) components. This color encoding is called RGB, and thus color image of size $W * H$ will be represented as an array of size $3*H*W$ (sometimes tha order of components might be different, but the idea is the same).\n",
    "\n",
    "|Grayscale Image|RGB Image|\n",
    "|:---:|:---:|\n",
    "|5x5 Grayscale Image|5x5 Color (RGB) Image|\n",
    "\n",
    "Using multi-dimensional arrays to represent images also has an advatage, because we can use an extra dimentison to store a sequence of images. For example, `to represent a video fragment consisting of 200 frames with 800x600 dimension, we may use the tensor of size 200x3x600x800`.\n",
    "\n",
    "Multi-dimensional arrays are also called `tensors`. Usually, we refers to tensors when we speak about some neural network framework, such as PyTorch. The main difference between tensors in PyTorch and numpy arrays is that tensors support parallel operations on GPU, if it is avaliable. Also, PyTorch offers additional functionality, such as automatic differentiation, when operation on tensors."
   ]
  },
  {
   "cell_type": "code",
   "execution_count": 1,
   "id": "169b05e0",
   "metadata": {
    "execution": {
     "iopub.execute_input": "2023-07-15T07:15:29.180461Z",
     "iopub.status.busy": "2023-07-15T07:15:29.179907Z",
     "iopub.status.idle": "2023-07-15T07:15:44.687513Z",
     "shell.execute_reply": "2023-07-15T07:15:44.685419Z"
    },
    "papermill": {
     "duration": 15.517884,
     "end_time": "2023-07-15T07:15:44.690994",
     "exception": false,
     "start_time": "2023-07-15T07:15:29.173110",
     "status": "completed"
    },
    "tags": []
   },
   "outputs": [
    {
     "name": "stdout",
     "output_type": "stream",
     "text": [
      "Looking in indexes: https://download.pytorch.org/whl/cu118\r\n",
      "Requirement already satisfied: torch in /opt/conda/lib/python3.10/site-packages (2.0.0+cpu)\r\n",
      "Requirement already satisfied: torchvision in /opt/conda/lib/python3.10/site-packages (0.15.1+cpu)\r\n",
      "Requirement already satisfied: torchaudio in /opt/conda/lib/python3.10/site-packages (2.0.1+cpu)\r\n",
      "Requirement already satisfied: filelock in /opt/conda/lib/python3.10/site-packages (from torch) (3.12.2)\r\n",
      "Requirement already satisfied: typing-extensions in /opt/conda/lib/python3.10/site-packages (from torch) (4.6.3)\r\n",
      "Requirement already satisfied: sympy in /opt/conda/lib/python3.10/site-packages (from torch) (1.12)\r\n",
      "Requirement already satisfied: networkx in /opt/conda/lib/python3.10/site-packages (from torch) (3.1)\r\n",
      "Requirement already satisfied: jinja2 in /opt/conda/lib/python3.10/site-packages (from torch) (3.1.2)\r\n",
      "Requirement already satisfied: numpy in /opt/conda/lib/python3.10/site-packages (from torchvision) (1.23.5)\r\n",
      "Requirement already satisfied: requests in /opt/conda/lib/python3.10/site-packages (from torchvision) (2.31.0)\r\n",
      "Requirement already satisfied: pillow!=8.3.*,>=5.3.0 in /opt/conda/lib/python3.10/site-packages (from torchvision) (9.5.0)\r\n",
      "Requirement already satisfied: MarkupSafe>=2.0 in /opt/conda/lib/python3.10/site-packages (from jinja2->torch) (2.1.3)\r\n",
      "Requirement already satisfied: charset-normalizer<4,>=2 in /opt/conda/lib/python3.10/site-packages (from requests->torchvision) (3.1.0)\r\n",
      "Requirement already satisfied: idna<4,>=2.5 in /opt/conda/lib/python3.10/site-packages (from requests->torchvision) (3.4)\r\n",
      "Requirement already satisfied: urllib3<3,>=1.21.1 in /opt/conda/lib/python3.10/site-packages (from requests->torchvision) (1.26.15)\r\n",
      "Requirement already satisfied: certifi>=2017.4.17 in /opt/conda/lib/python3.10/site-packages (from requests->torchvision) (2023.5.7)\r\n",
      "Requirement already satisfied: mpmath>=0.19 in /opt/conda/lib/python3.10/site-packages (from sympy->torch) (1.3.0)\r\n",
      "Note: you may need to restart the kernel to use updated packages.\n"
     ]
    }
   ],
   "source": [
    "pip install torch torchvision torchaudio --index-url https://download.pytorch.org/whl/cu118"
   ]
  },
  {
   "cell_type": "code",
   "execution_count": 2,
   "id": "fdf2fb9e",
   "metadata": {
    "execution": {
     "iopub.execute_input": "2023-07-15T07:15:44.706538Z",
     "iopub.status.busy": "2023-07-15T07:15:44.706087Z",
     "iopub.status.idle": "2023-07-15T07:15:49.254856Z",
     "shell.execute_reply": "2023-07-15T07:15:49.253466Z"
    },
    "papermill": {
     "duration": 4.558794,
     "end_time": "2023-07-15T07:15:49.257791",
     "exception": false,
     "start_time": "2023-07-15T07:15:44.698997",
     "status": "completed"
    },
    "tags": []
   },
   "outputs": [],
   "source": [
    "#Import the packages needed\n",
    "from __future__ import annotations\n",
    "import torch\n",
    "from torch.utils.data import Dataset, DataLoader\n",
    "import torchvision\n",
    "from torchvision import datasets\n",
    "import matplotlib.pyplot as plt\n",
    "import numpy as np"
   ]
  },
  {
   "cell_type": "markdown",
   "id": "481d5999",
   "metadata": {
    "papermill": {
     "duration": 0.005055,
     "end_time": "2023-07-15T07:15:49.268531",
     "exception": false,
     "start_time": "2023-07-15T07:15:49.263476",
     "status": "completed"
    },
    "tags": []
   },
   "source": [
    "PyTorch has a number of datasets avaliable right from the library. Here we are using the well-known MNIST dataset of handwritten digits, avaliable through `torchvison.datasets.MNIST` in PyTorch. The dataset objects returns the data in the form of Python Imagine Library (PIL) images, which we convert to tensors by passing a `transform=ToTensor()` parameter.\n",
    "\n",
    "When using your own notebooks, you can also experiment with the other built in datasets. in particular FashionMNIST."
   ]
  },
  {
   "cell_type": "code",
   "execution_count": 3,
   "id": "5d84a821",
   "metadata": {
    "execution": {
     "iopub.execute_input": "2023-07-15T07:15:49.281853Z",
     "iopub.status.busy": "2023-07-15T07:15:49.281114Z",
     "iopub.status.idle": "2023-07-15T07:15:50.331268Z",
     "shell.execute_reply": "2023-07-15T07:15:50.330146Z"
    },
    "papermill": {
     "duration": 1.061126,
     "end_time": "2023-07-15T07:15:50.335203",
     "exception": false,
     "start_time": "2023-07-15T07:15:49.274077",
     "status": "completed"
    },
    "tags": []
   },
   "outputs": [
    {
     "name": "stdout",
     "output_type": "stream",
     "text": [
      "Downloading http://yann.lecun.com/exdb/mnist/train-images-idx3-ubyte.gz\n",
      "Downloading http://yann.lecun.com/exdb/mnist/train-images-idx3-ubyte.gz to data/MNIST/raw/train-images-idx3-ubyte.gz\n"
     ]
    },
    {
     "name": "stderr",
     "output_type": "stream",
     "text": [
      "100%|██████████| 9912422/9912422 [00:00<00:00, 138783702.23it/s]"
     ]
    },
    {
     "name": "stdout",
     "output_type": "stream",
     "text": [
      "Extracting data/MNIST/raw/train-images-idx3-ubyte.gz to data/MNIST/raw\n"
     ]
    },
    {
     "name": "stderr",
     "output_type": "stream",
     "text": [
      "\n"
     ]
    },
    {
     "name": "stdout",
     "output_type": "stream",
     "text": [
      "\n",
      "Downloading http://yann.lecun.com/exdb/mnist/train-labels-idx1-ubyte.gz\n",
      "Downloading http://yann.lecun.com/exdb/mnist/train-labels-idx1-ubyte.gz to data/MNIST/raw/train-labels-idx1-ubyte.gz\n"
     ]
    },
    {
     "name": "stderr",
     "output_type": "stream",
     "text": [
      "100%|██████████| 28881/28881 [00:00<00:00, 32148538.70it/s]\n"
     ]
    },
    {
     "name": "stdout",
     "output_type": "stream",
     "text": [
      "Extracting data/MNIST/raw/train-labels-idx1-ubyte.gz to data/MNIST/raw\n",
      "\n",
      "Downloading http://yann.lecun.com/exdb/mnist/t10k-images-idx3-ubyte.gz\n",
      "Downloading http://yann.lecun.com/exdb/mnist/t10k-images-idx3-ubyte.gz to data/MNIST/raw/t10k-images-idx3-ubyte.gz\n"
     ]
    },
    {
     "name": "stderr",
     "output_type": "stream",
     "text": [
      "100%|██████████| 1648877/1648877 [00:00<00:00, 30232479.87it/s]\n"
     ]
    },
    {
     "name": "stdout",
     "output_type": "stream",
     "text": [
      "Extracting data/MNIST/raw/t10k-images-idx3-ubyte.gz to data/MNIST/raw\n",
      "\n",
      "Downloading http://yann.lecun.com/exdb/mnist/t10k-labels-idx1-ubyte.gz\n",
      "Downloading http://yann.lecun.com/exdb/mnist/t10k-labels-idx1-ubyte.gz to data/MNIST/raw/t10k-labels-idx1-ubyte.gz\n"
     ]
    },
    {
     "name": "stderr",
     "output_type": "stream",
     "text": [
      "100%|██████████| 4542/4542 [00:00<00:00, 7313062.87it/s]\n"
     ]
    },
    {
     "name": "stdout",
     "output_type": "stream",
     "text": [
      "Extracting data/MNIST/raw/t10k-labels-idx1-ubyte.gz to data/MNIST/raw\n",
      "\n"
     ]
    }
   ],
   "source": [
    "from torchvision.transforms import ToTensor\n",
    "\n",
    "data_train = datasets.MNIST(\n",
    "    root = 'data',\n",
    "    train = True,\n",
    "    download = True,\n",
    "    transform = ToTensor()\n",
    ")\n",
    "\n",
    "data_test = datasets.MNIST(\n",
    "    root = 'data',\n",
    "    train = False,\n",
    "    download = True,\n",
    "    transform = ToTensor()\n",
    ")"
   ]
  },
  {
   "cell_type": "markdown",
   "id": "b82a7e8f",
   "metadata": {
    "papermill": {
     "duration": 0.006876,
     "end_time": "2023-07-15T07:15:50.349932",
     "exception": false,
     "start_time": "2023-07-15T07:15:50.343056",
     "status": "completed"
    },
    "tags": []
   },
   "source": [
    "### Visualizing the dataset\n",
    "\n",
    "We have downloaded the dataset we can visualize some of the digits."
   ]
  },
  {
   "cell_type": "code",
   "execution_count": 4,
   "id": "0fd0e0d6",
   "metadata": {
    "execution": {
     "iopub.execute_input": "2023-07-15T07:15:50.365983Z",
     "iopub.status.busy": "2023-07-15T07:15:50.365253Z",
     "iopub.status.idle": "2023-07-15T07:15:50.988876Z",
     "shell.execute_reply": "2023-07-15T07:15:50.987705Z"
    },
    "papermill": {
     "duration": 0.634755,
     "end_time": "2023-07-15T07:15:50.991527",
     "exception": false,
     "start_time": "2023-07-15T07:15:50.356772",
     "status": "completed"
    },
    "tags": []
   },
   "outputs": [
    {
     "data": {
      "image/png": "[encoded data removed]",
      "text/plain": [
       "<Figure size 640x480 with 7 Axes>"
      ]
     },
     "metadata": {},
     "output_type": "display_data"
    }
   ],
   "source": [
    "fig, ax = plt.subplots(1,7)\n",
    "for i in range(7):\n",
    "    ax[i].imshow(data_train[i][0].view(28,28))\n",
    "    ax[i].set_title(data_train[i][1])\n",
    "    ax[i].axis('off')"
   ]
  },
  {
   "cell_type": "markdown",
   "id": "867bdbf7",
   "metadata": {
    "papermill": {
     "duration": 0.007391,
     "end_time": "2023-07-15T07:15:51.006325",
     "exception": false,
     "start_time": "2023-07-15T07:15:50.998934",
     "status": "completed"
    },
    "tags": []
   },
   "source": [
    "### Dataset structure\n",
    "\n",
    "We have a total of 6000 training images and 1000 testing images. Its important to split out the data for training and testing. We also want to do some data exploration  to get a better idea of what our data looks like.\n",
    "\n",
    "Each sample is a tuple in the following structure:\n",
    "\n",
    "* First element is the actual image of a digit, represented by a tensor of shape 1x28x28\n",
    "* Second element is a `label` that specifies whcih digit is represented by the tensor. It is a tensor that contains a number from 0 to 9\n",
    "\n",
    "`data_train` is a training dataset that we will to train our model on, and `data_test` is s smaller test dataset that we can use to verify our model."
   ]
  },
  {
   "cell_type": "code",
   "execution_count": 5,
   "id": "4f0727d5",
   "metadata": {
    "execution": {
     "iopub.execute_input": "2023-07-15T07:15:51.024694Z",
     "iopub.status.busy": "2023-07-15T07:15:51.023855Z",
     "iopub.status.idle": "2023-07-15T07:15:51.034529Z",
     "shell.execute_reply": "2023-07-15T07:15:51.033127Z"
    },
    "papermill": {
     "duration": 0.022546,
     "end_time": "2023-07-15T07:15:51.037144",
     "exception": false,
     "start_time": "2023-07-15T07:15:51.014598",
     "status": "completed"
    },
    "tags": []
   },
   "outputs": [
    {
     "name": "stdout",
     "output_type": "stream",
     "text": [
      "Training samples: 60000\n",
      "Test samples: 10000\n",
      "Tensor size: torch.Size([1, 28, 28])\n",
      "First 10 digits are: [5, 0, 4, 1, 9, 2, 1, 3, 1, 4]\n"
     ]
    }
   ],
   "source": [
    "print('Training samples:', len(data_train))\n",
    "print('Test samples:', len(data_test))\n",
    "\n",
    "print('Tensor size:', data_train[0][0].size())\n",
    "print('First 10 digits are:', [data_train[i][1] for i in range(10)])"
   ]
  },
  {
   "cell_type": "markdown",
   "id": "85985936",
   "metadata": {
    "papermill": {
     "duration": 0.007091,
     "end_time": "2023-07-15T07:15:51.053307",
     "exception": false,
     "start_time": "2023-07-15T07:15:51.046216",
     "status": "completed"
    },
    "tags": []
   },
   "source": [
    "All pixel intensities of the images are represented by floating-point values in between 0 and 1:"
   ]
  },
  {
   "cell_type": "code",
   "execution_count": 6,
   "id": "db1ac56d",
   "metadata": {
    "execution": {
     "iopub.execute_input": "2023-07-15T07:15:51.070732Z",
     "iopub.status.busy": "2023-07-15T07:15:51.069735Z",
     "iopub.status.idle": "2023-07-15T07:15:51.085771Z",
     "shell.execute_reply": "2023-07-15T07:15:51.084821Z"
    },
    "papermill": {
     "duration": 0.027851,
     "end_time": "2023-07-15T07:15:51.088534",
     "exception": false,
     "start_time": "2023-07-15T07:15:51.060683",
     "status": "completed"
    },
    "tags": []
   },
   "outputs": [
    {
     "name": "stdout",
     "output_type": "stream",
     "text": [
      "Min intensity value: 0.0\n",
      "Max intensity value: 1.0\n"
     ]
    }
   ],
   "source": [
    "print('Min intensity value:', data_train[0][0].min().item())\n",
    "print('Max intensity value:', data_train[0][0].max().item())"
   ]
  },
  {
   "cell_type": "markdown",
   "id": "66094c57",
   "metadata": {
    "papermill": {
     "duration": 0.007341,
     "end_time": "2023-07-15T07:15:51.103662",
     "exception": false,
     "start_time": "2023-07-15T07:15:51.096321",
     "status": "completed"
    },
    "tags": []
   },
   "source": [
    "### Loading your own images\n",
    "\n",
    "In most of the practical applications, you would have your own images located on disk that you want to use to train your neural network. In thie case, you need to load them into PyTorch tensors.\n",
    "\n",
    "One of the ways to do that is to use one of the Python libraries for image manipulation, such as Open CV, or PIL/Pillow, or imageio. Once you load your images into numpy array, you can easily convert it to tensors.\n",
    "\n",
    " >Notes: It is important to make sure all values are scaled to the range [0..1] before you pass them to a neural network - it is the usual convention for data preparation, and all default weight initilizations in neural networks are designed to work with this range. `ToTensor` transform that we seen above automatically scales PIL/numpy images with integer pixel values into [0..1] range.\n",
    "\n",
    "Even better appraoch is to use functionality in `Torchvision` library, namely `ImageFolder`. It does all the preprocessing steps automatically, and also assigns labels to images according to the directory structure.\n",
    "\n",
    "\n",
    "Neural networks work with tensors, and before training any models we need to convert our dataset into a set of tensors. This will open require we have loaded training and test datasets, and we are ready to start training our first neural network."
   ]
  }
 ],
 "metadata": {
  "kernelspec": {
   "display_name": "Python 3",
   "language": "python",
   "name": "python3"
  },
  "language_info": {
   "codemirror_mode": {
    "name": "ipython",
    "version": 3
   },
   "file_extension": ".py",
   "mimetype": "text/x-python",
   "name": "python",
   "nbconvert_exporter": "python",
   "pygments_lexer": "ipython3",
   "version": "3.10.12"
  },
  "papermill": {
   "default_parameters": {},
   "duration": 36.856082,
   "end_time": "2023-07-15T07:15:52.637101",
   "environment_variables": {},
   "exception": null,
   "input_path": "__notebook__.ipynb",
   "output_path": "__notebook__.ipynb",
   "parameters": {},
   "start_time": "2023-07-15T07:15:15.781019",
   "version": "2.4.0"
  }
 },
 "nbformat": 4,
 "nbformat_minor": 5
}
