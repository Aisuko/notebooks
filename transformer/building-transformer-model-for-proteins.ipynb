{
 "cells": [
  {
   "cell_type": "markdown",
   "id": "2f0bd9a1",
   "metadata": {
    "_cell_guid": "b1076dfc-b9ad-4769-8c92-a6c4dae69d19",
    "_uuid": "8f2839f25d086af736a60e9eeb907d3b93b6e0e5",
    "papermill": {
     "duration": 0.007447,
     "end_time": "2024-05-14T05:26:24.160741",
     "exception": false,
     "start_time": "2024-05-14T05:26:24.153294",
     "status": "completed"
    },
    "tags": []
   },
   "source": [
    "# Overview\n",
    "\n",
    "\n",
    "# Tokenization\n",
    "\n",
    "We will tokenize a protein sequence into its indivisual amino acids. Each amino acid, along with special tokens for the start, end, padding, and unknown symbols, is then assigned a unique integer value."
   ]
  },
  {
   "cell_type": "code",
   "execution_count": 1,
   "id": "ddf83103",
   "metadata": {
    "execution": {
     "iopub.execute_input": "2024-05-14T05:26:24.175524Z",
     "iopub.status.busy": "2024-05-14T05:26:24.175180Z",
     "iopub.status.idle": "2024-05-14T05:26:24.194031Z",
     "shell.execute_reply": "2024-05-14T05:26:24.193002Z"
    },
    "papermill": {
     "duration": 0.028492,
     "end_time": "2024-05-14T05:26:24.195924",
     "exception": false,
     "start_time": "2024-05-14T05:26:24.167432",
     "status": "completed"
    },
    "tags": []
   },
   "outputs": [
    {
     "name": "stdout",
     "output_type": "stream",
     "text": [
      "{'input_ids': [[0, 4, 5, 5, 4, 2], [0, 4, 4, 2, 1, 1]], 'attention_mask': [[1, 1, 1, 1, 1, 1], [1, 1, 1, 1, 0, 0]]}\n",
      "24\n",
      "1\n"
     ]
    }
   ],
   "source": [
    "class Tokenizer:\n",
    "    def __init__(self):\n",
    "        # special tokens\n",
    "        vocab=[\"<cls>\", \"<pad>\",\"<eos>\",\"<unk>\"]\n",
    "        # 20 anonical amino acids\n",
    "        vocab+=list(\"ACDEFGHIKLMNPQRSTVWY\")\n",
    "        #mapping\n",
    "        self.token_to_index = {tok: i for i, tok in enumerate(vocab)}\n",
    "        self.index_to_token = {i: tok for i, tok in enumerate(vocab)}\n",
    "        \n",
    "    @property\n",
    "    def vocab_size(self):\n",
    "        return len(self.token_to_index)\n",
    "    \n",
    "    @property\n",
    "    def pad_token_id(self):\n",
    "        return self.token_to_index[\"<pad>\"]\n",
    "    \n",
    "    def __call__(self, seqs: list[str], padding: bool = True) -> dict[str, list[list[int]]]:\n",
    "        \"\"\"\n",
    "        Tokenizes a list of protein sequences and creates input representations with attention masks.\n",
    "        \"\"\"\n",
    "        \n",
    "        input_ids=[]\n",
    "        attention_mask=[]\n",
    "        \n",
    "        if padding:\n",
    "            max_len=max(len(seq) for seq in seqs)\n",
    "            \n",
    "        for seq in seqs:\n",
    "            # Preprocessing: strip whitespace, convert to uppercase\n",
    "            seq = seq.strip().upper()\n",
    "\n",
    "            # Add special tokens\n",
    "            toks = [\"<cls>\"] + list(seq) + [\"<eos>\"]\n",
    "            \n",
    "            if padding:\n",
    "                # Pad with '<pad>' tokens to reach max_len\n",
    "                toks += [\"<pad>\"] * (max_len - len(seq))\n",
    "                \n",
    "            # Convert tokens to IDs (handling unknown amino acids)\n",
    "            unk_id = self.token_to_index[\"<unk>\"]\n",
    "            input_ids.append([self.token_to_index.get(tok, unk_id) for tok in toks])\n",
    "\n",
    "            # Create attention mask (1 for real tokens, 0 for padding)\n",
    "            attention_mask.append([1 if tok != \"<pad>\" else 0 for tok in toks])\n",
    "\n",
    "        return {\"input_ids\": input_ids, \"attention_mask\": attention_mask}\n",
    "\n",
    "tokenizer=Tokenizer()\n",
    "print(tokenizer([\"ACcA\", \"AA\"], padding=True))\n",
    "print(tokenizer.vocab_size)\n",
    "print(tokenizer.pad_token_id)"
   ]
  },
  {
   "cell_type": "markdown",
   "id": "52188d4b",
   "metadata": {
    "papermill": {
     "duration": 0.006419,
     "end_time": "2024-05-14T05:26:24.209250",
     "exception": false,
     "start_time": "2024-05-14T05:26:24.202831",
     "status": "completed"
    },
    "tags": []
   },
   "source": [
    "# Embedding and Positional Encoding\n",
    "\n",
    "We use an embedding layer to convert the integer values representing out amino acids into vectors of flaoting-point number called embeddings.\n",
    "\n",
    "## Self-attention\n",
    "\n",
    "It provides a powerful mechanism for capturing relationships between amino acids within a protein sequence.\n",
    "\n",
    "Each of these embeddings is then used to generate three new vectors through linear transformation:\n",
    "\n",
    "* q -> the model focuses on\n",
    "* k -> used for relevance scoring\n",
    "* v -> the actual information to be extracted\n",
    "\n",
    "The scaled dot-product attention formula is as follows:\n",
    "\n",
    "$$Softmax(\\frac{qk^T}{\\sqrt{d_k}})V$$\n",
    "\n",
    "It is used to measure similarity, a higher dot product suggests a stronger relationship between the tokens. And `Softmax` function is applied to the dot products, giving us attention scores.\n",
    "\n",
    "To improve stability, we scale these dot products by the square root of the embedding dimension(dk). We also have the option to mask out vertain tokens if needed.\n",
    "\n",
    "Finally, we calcualte a new reoresentation by summing the value vectors(v) of all tokens, weighted by their respective attention scores."
   ]
  },
  {
   "cell_type": "code",
   "execution_count": 2,
   "id": "805d5218",
   "metadata": {
    "execution": {
     "iopub.execute_input": "2024-05-14T05:26:24.223519Z",
     "iopub.status.busy": "2024-05-14T05:26:24.223260Z",
     "iopub.status.idle": "2024-05-14T05:26:28.088191Z",
     "shell.execute_reply": "2024-05-14T05:26:28.087115Z"
    },
    "papermill": {
     "duration": 3.874791,
     "end_time": "2024-05-14T05:26:28.090488",
     "exception": false,
     "start_time": "2024-05-14T05:26:24.215697",
     "status": "completed"
    },
    "tags": []
   },
   "outputs": [],
   "source": [
    "import numpy as np\n",
    "import torch\n",
    "import torch.nn as nn\n",
    "\n",
    "def scale_dot_product_attention(q,k,v, mask=None):\n",
    "    \"\"\"\n",
    "    implement scaled dot product attention, which is essentially softmax(QK.T/sqrt(dk))V\n",
    "    \n",
    "    Inputs:\n",
    "    q: (*, seq_length, dq)\n",
    "    k: (*, seq_length, dk)\n",
    "    v: (*, seq_length, dv)\n",
    "    mask: (*, seq_length, seq_length), optional\n",
    "    \"\"\"\n",
    "    \n",
    "    attn_logits=(q@k.transpose(-2,-1)/np.sqrt(q.shape[-1]))\n",
    "    \n",
    "    if mask is not None:\n",
    "        attn_logits.masked_fill_(mask==0, -1e9)\n",
    "        \n",
    "    # softmax\n",
    "    attention=torch.softmax(attn_logits, dim=-1)\n",
    "    \n",
    "    values=attention@v\n",
    "    return values, attention\n",
    "\n",
    "\n",
    "q = torch.randn(16, 32)\n",
    "k = torch.randn(16, 32)\n",
    "v = torch.randn(16, 32)\n",
    "\n",
    "values, attention = scale_dot_product_attention(q, k, v)\n",
    "assert values.shape == (16, 32)\n",
    "assert attention.shape == (16, 16)"
   ]
  },
  {
   "cell_type": "markdown",
   "id": "8761bdb5",
   "metadata": {
    "papermill": {
     "duration": 0.006655,
     "end_time": "2024-05-14T05:26:28.104128",
     "exception": false,
     "start_time": "2024-05-14T05:26:28.097473",
     "status": "completed"
    },
    "tags": []
   },
   "source": [
    "# Multi Head attention\n",
    "\n",
    "Multi Head attention employs multiple self-attention mechanisms in parallel, allowing each \"head\" to focus on different aspects of the input.\n",
    "\n",
    "This gives the model the ability to capture diverse relationships and nuances within the protein sequence. "
   ]
  },
  {
   "cell_type": "code",
   "execution_count": 3,
   "id": "9674256c",
   "metadata": {
    "execution": {
     "iopub.execute_input": "2024-05-14T05:26:28.119058Z",
     "iopub.status.busy": "2024-05-14T05:26:28.118521Z",
     "iopub.status.idle": "2024-05-14T05:26:31.149342Z",
     "shell.execute_reply": "2024-05-14T05:26:31.148514Z"
    },
    "papermill": {
     "duration": 3.040911,
     "end_time": "2024-05-14T05:26:31.151691",
     "exception": false,
     "start_time": "2024-05-14T05:26:28.110780",
     "status": "completed"
    },
    "tags": []
   },
   "outputs": [],
   "source": [
    "class MultiheadAttention(nn.Module):\n",
    "    def __init__(self, d_model, num_heads, d_embed):\n",
    "        \"\"\"\n",
    "        d_model: dimensionality of input X\n",
    "        num_head: number of heads\n",
    "        d_embed: embedding dimensionality and should be a mutiple of num_head\n",
    "        \"\"\"\n",
    "        \n",
    "        super().__init__()\n",
    "        assert(d_embed % num_heads == 0), \"Embedding dimensionality and should be a mutiple of num_head\"\n",
    "        \n",
    "        self.d_model=d_model\n",
    "        self.num_heads=num_heads\n",
    "        self.d_head=d_embed//num_heads\n",
    "        \n",
    "        # linear for transform X into q,k,v\n",
    "        self.input=nn.Linear(d_model, 3*d_embed)\n",
    "        \n",
    "        # output layer\n",
    "        self.output=nn.Linear(d_embed, d_embed)\n",
    "\n",
    "    def expand_mask(self, mask):\n",
    "        assert 2 <= mask.ndim <= 4, \"Wrong mask dimensionality\"\n",
    "        if mask.ndim == 2:\n",
    "            return mask[:, None, None, :]\n",
    "        elif mask.ndim == 3:\n",
    "            return mask[:, None, :, :]\n",
    "        \n",
    "    def forward(self, x, mask=None, return_attention=False):\n",
    "        \"\"\"\n",
    "        X: (Batch, seq_len, d_model)\n",
    "        mask could be either:\n",
    "            1. None\n",
    "            2. (batch, seq_len)\n",
    "            3. (batch, seq_len, seq_len)\n",
    "            4. (batch, num_head, seq_len, seq_len)\n",
    "        \"\"\"\n",
    "\n",
    "        batch, seq_len = x.shape[0], x.shape[1]\n",
    "\n",
    "        x = self.input(x)  # (Batch, seq_len, 3 * d_model)\n",
    "\n",
    "        # split heads\n",
    "        x = x.reshape(batch, seq_len, self.num_heads, 3 * self.d_head)\n",
    "\n",
    "        # swap dims\n",
    "        x = x.permute(0, 2, 1, 3)  # (Batch, head, seq_len, 3 * d_head)\n",
    "\n",
    "        # q, k, v\n",
    "        q, k, v = x.chunk(3, dim=-1)  # (Batch, head, seq_len, d_head)\n",
    "\n",
    "        # expand mask to 4D if needed\n",
    "        if mask is not None:\n",
    "            mask = self.expand_mask(mask)\n",
    "\n",
    "        # values: (batch, head, seq_len, d_head)\n",
    "        # attention: (batch, head, seq_len, seq_len)\n",
    "        values, attention = scale_dot_product_attention(q, k, v, mask=mask)\n",
    "\n",
    "        # change dims\n",
    "        values = values.permute(0, 2, 1, 3)  # (batch, seq_len, head, d_head)\n",
    "\n",
    "        # concat heads\n",
    "        values = values.reshape(batch, seq_len, -1)  # (batch, seq_len, d_embed)\n",
    "\n",
    "        # output linear layer\n",
    "        o = self.output(values)  # (batch, seq_len, d_embed)\n",
    "\n",
    "        if return_attention:\n",
    "            return o, attention\n",
    "\n",
    "        return o\n",
    "\n",
    "d_model, num_head, d_embed = 512, 8, 256 * 8\n",
    "\n",
    "mha = MultiheadAttention(d_model, num_head, d_embed)\n",
    "x = torch.randn(16, 1024, d_model)\n",
    "assert mha(x).shape == (16, 1024, d_embed)"
   ]
  },
  {
   "cell_type": "markdown",
   "id": "ca85fe38",
   "metadata": {
    "papermill": {
     "duration": 0.006799,
     "end_time": "2024-05-14T05:26:31.165883",
     "exception": false,
     "start_time": "2024-05-14T05:26:31.159084",
     "status": "completed"
    },
    "tags": []
   },
   "source": [
    "# Encoder Layer and Encoder\n",
    "\n",
    "It builds upon the multi-head attention implementation to create encoder layers. Each encoder layer includes a multi-head attention mechanism to capture relationships between amino acids within a protein sequence,followed by a fully-connected feed-forward network (FFN) layer for further processing. \n",
    "\n",
    "And residual connections and layer normalization techniques are employed within each layer to improve training stability and performance."
   ]
  },
  {
   "cell_type": "code",
   "execution_count": 4,
   "id": "a346df37",
   "metadata": {
    "execution": {
     "iopub.execute_input": "2024-05-14T05:26:31.180761Z",
     "iopub.status.busy": "2024-05-14T05:26:31.180450Z",
     "iopub.status.idle": "2024-05-14T05:26:32.816386Z",
     "shell.execute_reply": "2024-05-14T05:26:32.815356Z"
    },
    "papermill": {
     "duration": 1.646211,
     "end_time": "2024-05-14T05:26:32.818876",
     "exception": false,
     "start_time": "2024-05-14T05:26:31.172665",
     "status": "completed"
    },
    "tags": []
   },
   "outputs": [],
   "source": [
    "class EncoderBlock(nn.Module):\n",
    "    def __init__(self, d_model, num_head, d_ffn, dropout=0.0):\n",
    "        super().__init__()\n",
    "        # d_embed is the same as d_model\n",
    "        self.attention = MultiheadAttention(d_model, num_head, d_model)\n",
    "\n",
    "        self.ffn = nn.Sequential(\n",
    "            nn.Linear(d_model, d_ffn),\n",
    "            nn.ReLU(),\n",
    "            nn.Dropout(dropout),\n",
    "            nn.Linear(d_ffn, d_model),\n",
    "        )\n",
    "\n",
    "        self.dropout = nn.Dropout(dropout)\n",
    "        self.norm1 = nn.LayerNorm(d_model)\n",
    "        self.norm2 = nn.LayerNorm(d_model)\n",
    "\n",
    "    def forward(self, x, mask=None):\n",
    "        attn_out = self.attention(x, mask)  # (batch, seq_len, d_model)\n",
    "\n",
    "        # residual connections\n",
    "        x = x + self.dropout(attn_out)\n",
    "        # layer norm\n",
    "        x = self.norm1(x)\n",
    "\n",
    "        # feed forward\n",
    "        ffn_out = self.ffn(x)  # (batch, seq_len, d_model)\n",
    "        x = x + self.dropout(ffn_out)\n",
    "        x = self.norm2(x)\n",
    "\n",
    "        return x\n",
    "\n",
    "x = torch.randn(16, 1024, 512)\n",
    "encoder_block = EncoderBlock(512, 8, 1024)\n",
    "assert x.shape == encoder_block(x).shape"
   ]
  },
  {
   "cell_type": "code",
   "execution_count": 5,
   "id": "a7abea44",
   "metadata": {
    "execution": {
     "iopub.execute_input": "2024-05-14T05:26:32.834302Z",
     "iopub.status.busy": "2024-05-14T05:26:32.833950Z",
     "iopub.status.idle": "2024-05-14T05:26:44.695913Z",
     "shell.execute_reply": "2024-05-14T05:26:44.694945Z"
    },
    "papermill": {
     "duration": 11.872225,
     "end_time": "2024-05-14T05:26:44.698313",
     "exception": false,
     "start_time": "2024-05-14T05:26:32.826088",
     "status": "completed"
    },
    "tags": []
   },
   "outputs": [],
   "source": [
    "class Encoder(nn.Module):\n",
    "    def __init__(self, num_layers, d_model, num_head, d_ffn, dropout=0.0):\n",
    "        super().__init__()\n",
    "\n",
    "        # Encoder consists of a list of EncoderBlocks specified by num_layers\n",
    "        self.layers = nn.ModuleList(\n",
    "            [EncoderBlock(d_model, num_head, d_ffn, dropout) for _ in range(num_layers)]\n",
    "        )\n",
    "\n",
    "    def forward(self, x, mask=None):\n",
    "        for layer in self.layers:\n",
    "            x = layer(x, mask)\n",
    "\n",
    "        return x\n",
    "\n",
    "    def get_attentions(self, x, mask=None):\n",
    "        \"\"\"\n",
    "        Helper function to get attention maps\n",
    "        \"\"\"\n",
    "\n",
    "        attention_maps = []\n",
    "\n",
    "        for layer in self.layers:\n",
    "            _, attn = layer.attention(x, mask=mask, return_attention=False)\n",
    "            attention_maps.append(attn)\n",
    "\n",
    "            x = layer(x)\n",
    "\n",
    "        return attention_maps\n",
    "\n",
    "x = torch.randn(16, 1024, 512)\n",
    "encoder = Encoder(8, 512, 8, 1024)\n",
    "assert x.shape == encoder(x).shape"
   ]
  },
  {
   "cell_type": "code",
   "execution_count": 6,
   "id": "41b618aa",
   "metadata": {
    "execution": {
     "iopub.execute_input": "2024-05-14T05:26:44.713342Z",
     "iopub.status.busy": "2024-05-14T05:26:44.713040Z",
     "iopub.status.idle": "2024-05-14T05:26:44.743499Z",
     "shell.execute_reply": "2024-05-14T05:26:44.742652Z"
    },
    "papermill": {
     "duration": 0.04022,
     "end_time": "2024-05-14T05:26:44.745484",
     "exception": false,
     "start_time": "2024-05-14T05:26:44.705264",
     "status": "completed"
    },
    "tags": []
   },
   "outputs": [
    {
     "data": {
      "text/plain": [
       "torch.Size([128, 10, 32])"
      ]
     },
     "execution_count": 6,
     "metadata": {},
     "output_type": "execute_result"
    }
   ],
   "source": [
    "import math\n",
    "\n",
    "class PositionalEncoding(nn.Module):\n",
    "    def __init__(self, input_dim, max_length=5000):\n",
    "        super().__init__()\n",
    "\n",
    "        pe = torch.zeros(max_length, input_dim)\n",
    "\n",
    "        # add an addtitional dimention for broadcasting\n",
    "        position = torch.arange(max_length).float().unsqueeze(1)\n",
    "\n",
    "        # div_term is of length input_dim//2:\n",
    "        div_term = torch.exp(-torch.arange(0, input_dim, 2) / input_dim * math.log(1e4))\n",
    "\n",
    "        # position*div_term: (max_length, input_dim//2)\n",
    "        pe[:, 0::2] = torch.sin(position * div_term)\n",
    "        pe[:, 1::2] = torch.cos(position * div_term)\n",
    "\n",
    "        # (max_length, input_dim) => (1, max_length, input_dim)\n",
    "        pe = pe.unsqueeze(0)\n",
    "\n",
    "        # pe is not a parameter\n",
    "        self.register_buffer(\"pe\", pe)\n",
    "\n",
    "    def forward(self, x):\n",
    "        # x: (batch, seq_len, input_dim)\n",
    "        x = x + self.pe[:, : x.shape[1], :]\n",
    "        return x\n",
    "\n",
    "pe=PositionalEncoding(32)\n",
    "x=torch.randn(128,10,32)\n",
    "pe(x).shape"
   ]
  },
  {
   "cell_type": "code",
   "execution_count": 7,
   "id": "2a7d564d",
   "metadata": {
    "execution": {
     "iopub.execute_input": "2024-05-14T05:26:44.759987Z",
     "iopub.status.busy": "2024-05-14T05:26:44.759677Z",
     "iopub.status.idle": "2024-05-14T05:26:46.513358Z",
     "shell.execute_reply": "2024-05-14T05:26:46.512505Z"
    },
    "papermill": {
     "duration": 1.763679,
     "end_time": "2024-05-14T05:26:46.515936",
     "exception": false,
     "start_time": "2024-05-14T05:26:44.752257",
     "status": "completed"
    },
    "tags": []
   },
   "outputs": [
    {
     "data": {
      "text/plain": [
       "Text(0, 0.5, 'Hidden Dimension')"
      ]
     },
     "execution_count": 7,
     "metadata": {},
     "output_type": "execute_result"
    },
    {
     "data": {
      "image/png": "[encoded data removed]",
      "text/plain": [
       "<Figure size 4800x6000 with 1 Axes>"
      ]
     },
     "metadata": {},
     "output_type": "display_data"
    }
   ],
   "source": [
    "import matplotlib.pyplot as plt\n",
    "\n",
    "pe=PositionalEncoding(50, 100).pe.squeeze().numpy().T\n",
    "fig, ax=plt.subplots(1,1,figsize=(16,20), dpi=300)\n",
    "pos = ax.imshow(pe)\n",
    "ax.set_xlabel(\"Position\")\n",
    "ax.set_ylabel(\"Hidden Dimension\")"
   ]
  },
  {
   "cell_type": "markdown",
   "id": "420354fc",
   "metadata": {
    "papermill": {
     "duration": 0.007913,
     "end_time": "2024-05-14T05:26:46.532873",
     "exception": false,
     "start_time": "2024-05-14T05:26:46.524960",
     "status": "completed"
    },
    "tags": []
   },
   "source": [
    "# The Classification Model"
   ]
  },
  {
   "cell_type": "code",
   "execution_count": 8,
   "id": "dc917290",
   "metadata": {
    "execution": {
     "iopub.execute_input": "2024-05-14T05:26:46.550319Z",
     "iopub.status.busy": "2024-05-14T05:26:46.549568Z",
     "iopub.status.idle": "2024-05-14T05:26:46.843137Z",
     "shell.execute_reply": "2024-05-14T05:26:46.842232Z"
    },
    "papermill": {
     "duration": 0.304412,
     "end_time": "2024-05-14T05:26:46.845137",
     "exception": false,
     "start_time": "2024-05-14T05:26:46.540725",
     "status": "completed"
    },
    "tags": []
   },
   "outputs": [
    {
     "data": {
      "text/plain": [
       "AntibodyClassifier(\n",
       "  (embedding): Embedding(24, 64, padding_idx=1)\n",
       "  (pe): PositionalEncoding()\n",
       "  (encoder): Encoder(\n",
       "    (layers): ModuleList(\n",
       "      (0-7): 8 x EncoderBlock(\n",
       "        (attention): MultiheadAttention(\n",
       "          (input): Linear(in_features=64, out_features=192, bias=True)\n",
       "          (output): Linear(in_features=64, out_features=64, bias=True)\n",
       "        )\n",
       "        (ffn): Sequential(\n",
       "          (0): Linear(in_features=64, out_features=128, bias=True)\n",
       "          (1): ReLU()\n",
       "          (2): Dropout(p=0.05, inplace=False)\n",
       "          (3): Linear(in_features=128, out_features=64, bias=True)\n",
       "        )\n",
       "        (dropout): Dropout(p=0.05, inplace=False)\n",
       "        (norm1): LayerNorm((64,), eps=1e-05, elementwise_affine=True)\n",
       "        (norm2): LayerNorm((64,), eps=1e-05, elementwise_affine=True)\n",
       "      )\n",
       "    )\n",
       "  )\n",
       "  (classifier): Sequential(\n",
       "    (0): Linear(in_features=64, out_features=64, bias=True)\n",
       "    (1): LayerNorm((64,), eps=1e-05, elementwise_affine=True)\n",
       "    (2): LeakyReLU(negative_slope=0.01)\n",
       "    (3): Linear(in_features=64, out_features=2, bias=True)\n",
       "  )\n",
       ")"
      ]
     },
     "execution_count": 8,
     "metadata": {},
     "output_type": "execute_result"
    }
   ],
   "source": [
    "class AntibodyClassifier(nn.Module):\n",
    "    def __init__(\n",
    "        self,\n",
    "        vocab_size,\n",
    "        padding_idx,\n",
    "        input_dim,\n",
    "        num_layers,\n",
    "        num_heads,\n",
    "        dim_ffn,\n",
    "        dropout,\n",
    "        num_classes,\n",
    "    ):\n",
    "        super().__init__()\n",
    "\n",
    "        self.embedding = nn.Embedding(vocab_size, input_dim, padding_idx)\n",
    "        self.pe = PositionalEncoding(input_dim)\n",
    "        self.encoder = Encoder(\n",
    "            num_layers=num_layers,\n",
    "            d_model=input_dim,\n",
    "            num_head=num_heads,\n",
    "            d_ffn=dim_ffn,\n",
    "            dropout=dropout,\n",
    "        )\n",
    "        self.classifier = nn.Sequential(\n",
    "            nn.Linear(input_dim, input_dim),\n",
    "            nn.LayerNorm(input_dim),\n",
    "            nn.LeakyReLU(),\n",
    "            nn.Linear(input_dim, num_classes),\n",
    "        )\n",
    "\n",
    "    def mean_pooling(\n",
    "        self, token_embeddings: torch.Tensor, attention_mask: torch.Tensor\n",
    "    ) -> torch.Tensor:\n",
    "        \"\"\"\n",
    "        Average the embedding of all amino acids in a sequence.\n",
    "\n",
    "        Args:\n",
    "            token_embeddings (torch.Tensor): Token embeddings from the ESM model (bs, seq_len, embedding_dim).\n",
    "            attention_mask (torch.Tensor): Attention mask (bs, seq_len).\n",
    "\n",
    "        Returns:\n",
    "            torch.Tensor: Mean-pooled embeddings (bs, embedding_dim).\n",
    "        \"\"\"\n",
    "\n",
    "        # expand the mask\n",
    "        expanded_mask = (\n",
    "            attention_mask.unsqueeze(-1).expand(token_embeddings.shape).float()\n",
    "        )\n",
    "\n",
    "        # sum unmasked token embeddings\n",
    "        sum_embeddings = torch.sum(token_embeddings * expanded_mask, dim=1)\n",
    "\n",
    "        # number of unmasked tokens for each sequence\n",
    "        # set a min value to avoid divide by zero\n",
    "        num_tokens = torch.clamp(expanded_mask.sum(1), min=1e-9)\n",
    "\n",
    "        # divide\n",
    "        mean_embeddings = sum_embeddings / num_tokens\n",
    "        return mean_embeddings\n",
    "\n",
    "    def forward(self, x, mask=None):\n",
    "        # x: [batch, seq_len]\n",
    "        x = self.embedding(x)  # [batch, seq_len, input_dim]\n",
    "        x = self.pe(x)  # [batch, seq_len, input_dim]\n",
    "        x = self.encoder(x, mask=mask)\n",
    "\n",
    "        x = self.mean_pooling(x, mask)\n",
    "        out = self.classifier(x)\n",
    "        return out\n",
    "\n",
    "model = AntibodyClassifier(\n",
    "    vocab_size=tokenizer.vocab_size,\n",
    "    padding_idx=tokenizer.pad_token_id,\n",
    "    num_layers=8,\n",
    "    input_dim=64,\n",
    "    num_heads=2,\n",
    "    dim_ffn=128,\n",
    "    dropout=0.05,\n",
    "    num_classes=2,\n",
    ")\n",
    "\n",
    "model.to(\"cuda\")"
   ]
  },
  {
   "cell_type": "markdown",
   "id": "79ba086f",
   "metadata": {
    "papermill": {
     "duration": 0.007992,
     "end_time": "2024-05-14T05:26:46.861385",
     "exception": false,
     "start_time": "2024-05-14T05:26:46.853393",
     "status": "completed"
    },
    "tags": []
   },
   "source": [
    "# Loading Dataset"
   ]
  },
  {
   "cell_type": "code",
   "execution_count": 9,
   "id": "cda5651e",
   "metadata": {
    "execution": {
     "iopub.execute_input": "2024-05-14T05:26:46.878858Z",
     "iopub.status.busy": "2024-05-14T05:26:46.878500Z",
     "iopub.status.idle": "2024-05-14T05:26:48.645920Z",
     "shell.execute_reply": "2024-05-14T05:26:48.645036Z"
    },
    "papermill": {
     "duration": 1.77872,
     "end_time": "2024-05-14T05:26:48.648090",
     "exception": false,
     "start_time": "2024-05-14T05:26:46.869370",
     "status": "completed"
    },
    "tags": []
   },
   "outputs": [
    {
     "data": {
      "text/html": [
       "<div>\n",
       "<style scoped>\n",
       "    .dataframe tbody tr th:only-of-type {\n",
       "        vertical-align: middle;\n",
       "    }\n",
       "\n",
       "    .dataframe tbody tr th {\n",
       "        vertical-align: top;\n",
       "    }\n",
       "\n",
       "    .dataframe thead th {\n",
       "        text-align: right;\n",
       "    }\n",
       "</style>\n",
       "<table border=\"1\" class=\"dataframe\">\n",
       "  <thead>\n",
       "    <tr style=\"text-align: right;\">\n",
       "      <th></th>\n",
       "      <th>sequence</th>\n",
       "      <th>target</th>\n",
       "      <th>label</th>\n",
       "    </tr>\n",
       "  </thead>\n",
       "  <tbody>\n",
       "    <tr>\n",
       "      <th>6229</th>\n",
       "      <td>EVQLVESGGGLVQPGGSLRLSCAASGFIVSSNYMTWVRQAPGKGLE...</td>\n",
       "      <td>SARS-CoV2</td>\n",
       "      <td>1</td>\n",
       "    </tr>\n",
       "    <tr>\n",
       "      <th>6920</th>\n",
       "      <td>QVQLVQSGAEVKKPGASVKVSCKASGYTFTSFYIHWVRQAPGQGLE...</td>\n",
       "      <td>SARS-CoV2</td>\n",
       "      <td>1</td>\n",
       "    </tr>\n",
       "    <tr>\n",
       "      <th>6738</th>\n",
       "      <td>QVQLVQSGAEVKKPGSSVKVSCKASGGTFSNYAISWVRQAPGQGLE...</td>\n",
       "      <td>SARS-CoV2</td>\n",
       "      <td>1</td>\n",
       "    </tr>\n",
       "    <tr>\n",
       "      <th>6582</th>\n",
       "      <td>EVQLVESGGGVVQPGRSLRISCAVSGFTFGSYAMHWVRQAPGKGLE...</td>\n",
       "      <td>SARS-CoV2</td>\n",
       "      <td>1</td>\n",
       "    </tr>\n",
       "    <tr>\n",
       "      <th>6401</th>\n",
       "      <td>QMQLVQSGTEVKKPGESLKISCKGSGYGFITYWIGWVRQMPGKGLE...</td>\n",
       "      <td>SARS-CoV2</td>\n",
       "      <td>1</td>\n",
       "    </tr>\n",
       "  </tbody>\n",
       "</table>\n",
       "</div>"
      ],
      "text/plain": [
       "                                               sequence     target  label\n",
       "6229  EVQLVESGGGLVQPGGSLRLSCAASGFIVSSNYMTWVRQAPGKGLE...  SARS-CoV2      1\n",
       "6920  QVQLVQSGAEVKKPGASVKVSCKASGYTFTSFYIHWVRQAPGQGLE...  SARS-CoV2      1\n",
       "6738  QVQLVQSGAEVKKPGSSVKVSCKASGGTFSNYAISWVRQAPGQGLE...  SARS-CoV2      1\n",
       "6582  EVQLVESGGGVVQPGRSLRISCAVSGFTFGSYAMHWVRQAPGKGLE...  SARS-CoV2      1\n",
       "6401  QMQLVQSGTEVKKPGESLKISCKGSGYGFITYWIGWVRQMPGKGLE...  SARS-CoV2      1"
      ]
     },
     "execution_count": 9,
     "metadata": {},
     "output_type": "execute_result"
    }
   ],
   "source": [
    "import pandas as pd\n",
    "from sklearn.preprocessing import LabelEncoder\n",
    "\n",
    "bcr=pd.read_parquet(\"/kaggle/input/write-parquet-files-in-pandas/bcr.parquet\")\n",
    "le=LabelEncoder()\n",
    "le.fit(bcr[\"target\"])\n",
    "bcr[\"label\"]=le.transform(bcr[\"target\"])\n",
    "bcr.head()"
   ]
  },
  {
   "cell_type": "code",
   "execution_count": 10,
   "id": "a5b38051",
   "metadata": {
    "execution": {
     "iopub.execute_input": "2024-05-14T05:26:48.666966Z",
     "iopub.status.busy": "2024-05-14T05:26:48.666548Z",
     "iopub.status.idle": "2024-05-14T05:26:48.762162Z",
     "shell.execute_reply": "2024-05-14T05:26:48.761335Z"
    },
    "papermill": {
     "duration": 0.106788,
     "end_time": "2024-05-14T05:26:48.763983",
     "exception": false,
     "start_time": "2024-05-14T05:26:48.657195",
     "status": "completed"
    },
    "tags": []
   },
   "outputs": [
    {
     "data": {
      "text/plain": [
       "(0.5, 0.5)"
      ]
     },
     "execution_count": 10,
     "metadata": {},
     "output_type": "execute_result"
    }
   ],
   "source": [
    "from sklearn.model_selection import train_test_split\n",
    "\n",
    "bcr_train, bcr_val = train_test_split(bcr, stratify=bcr[\"label\"], random_state=0)\n",
    "bcr_train[\"label\"].mean(), bcr_val[\"label\"].mean()"
   ]
  },
  {
   "cell_type": "code",
   "execution_count": 11,
   "id": "0aff801c",
   "metadata": {
    "execution": {
     "iopub.execute_input": "2024-05-14T05:26:48.782259Z",
     "iopub.status.busy": "2024-05-14T05:26:48.781680Z",
     "iopub.status.idle": "2024-05-14T05:26:48.791271Z",
     "shell.execute_reply": "2024-05-14T05:26:48.790361Z"
    },
    "papermill": {
     "duration": 0.020592,
     "end_time": "2024-05-14T05:26:48.793053",
     "exception": false,
     "start_time": "2024-05-14T05:26:48.772461",
     "status": "completed"
    },
    "tags": []
   },
   "outputs": [
    {
     "data": {
      "text/html": [
       "<div>\n",
       "<style scoped>\n",
       "    .dataframe tbody tr th:only-of-type {\n",
       "        vertical-align: middle;\n",
       "    }\n",
       "\n",
       "    .dataframe tbody tr th {\n",
       "        vertical-align: top;\n",
       "    }\n",
       "\n",
       "    .dataframe thead th {\n",
       "        text-align: right;\n",
       "    }\n",
       "</style>\n",
       "<table border=\"1\" class=\"dataframe\">\n",
       "  <thead>\n",
       "    <tr style=\"text-align: right;\">\n",
       "      <th></th>\n",
       "      <th>sequence</th>\n",
       "      <th>target</th>\n",
       "      <th>label</th>\n",
       "    </tr>\n",
       "  </thead>\n",
       "  <tbody>\n",
       "    <tr>\n",
       "      <th>0</th>\n",
       "      <td>VQLLEESGGGAVQPGRSLRLSCEASGFSFNSYGMHWVRQAPGKGLE...</td>\n",
       "      <td>SARS-CoV2</td>\n",
       "      <td>1</td>\n",
       "    </tr>\n",
       "    <tr>\n",
       "      <th>1</th>\n",
       "      <td>EGQLVQSGAELKKPGASVKISCKTSGYRFNFYHINWIRQTAGRGPE...</td>\n",
       "      <td>HIV-1</td>\n",
       "      <td>0</td>\n",
       "    </tr>\n",
       "    <tr>\n",
       "      <th>2</th>\n",
       "      <td>EVQLVESGGGLVQPGGSLRLSCAASGITVSSNYMNWVRQAPGKGLE...</td>\n",
       "      <td>SARS-CoV2</td>\n",
       "      <td>1</td>\n",
       "    </tr>\n",
       "    <tr>\n",
       "      <th>3</th>\n",
       "      <td>DRLFQSGGGVSRPGGSLRVNCGASGFTVRTHYMYWLRQSPGKGLEW...</td>\n",
       "      <td>HIV-1</td>\n",
       "      <td>0</td>\n",
       "    </tr>\n",
       "    <tr>\n",
       "      <th>4</th>\n",
       "      <td>QVQLVQSGAEVKKPGASVKVSCKVSGYTLPELSMHWVRQAPGKGLE...</td>\n",
       "      <td>SARS-CoV2</td>\n",
       "      <td>1</td>\n",
       "    </tr>\n",
       "  </tbody>\n",
       "</table>\n",
       "</div>"
      ],
      "text/plain": [
       "                                            sequence     target  label\n",
       "0  VQLLEESGGGAVQPGRSLRLSCEASGFSFNSYGMHWVRQAPGKGLE...  SARS-CoV2      1\n",
       "1  EGQLVQSGAELKKPGASVKISCKTSGYRFNFYHINWIRQTAGRGPE...      HIV-1      0\n",
       "2  EVQLVESGGGLVQPGGSLRLSCAASGITVSSNYMNWVRQAPGKGLE...  SARS-CoV2      1\n",
       "3  DRLFQSGGGVSRPGGSLRVNCGASGFTVRTHYMYWLRQSPGKGLEW...      HIV-1      0\n",
       "4  QVQLVQSGAEVKKPGASVKVSCKVSGYTLPELSMHWVRQAPGKGLE...  SARS-CoV2      1"
      ]
     },
     "execution_count": 11,
     "metadata": {},
     "output_type": "execute_result"
    }
   ],
   "source": [
    "bcr_train.reset_index(inplace=True, drop=True)\n",
    "bcr_val.reset_index(inplace=True, drop=True)\n",
    "bcr_train.head()"
   ]
  },
  {
   "cell_type": "code",
   "execution_count": 12,
   "id": "b575d34d",
   "metadata": {
    "execution": {
     "iopub.execute_input": "2024-05-14T05:26:48.812831Z",
     "iopub.status.busy": "2024-05-14T05:26:48.812365Z",
     "iopub.status.idle": "2024-05-14T05:26:48.818262Z",
     "shell.execute_reply": "2024-05-14T05:26:48.817463Z"
    },
    "papermill": {
     "duration": 0.018679,
     "end_time": "2024-05-14T05:26:48.820183",
     "exception": false,
     "start_time": "2024-05-14T05:26:48.801504",
     "status": "completed"
    },
    "tags": []
   },
   "outputs": [],
   "source": [
    "from torch.utils.data import Dataset\n",
    "\n",
    "class BCRDataset(Dataset):\n",
    "    def __init__(self, df):\n",
    "        super().__init__()\n",
    "        self.df = df\n",
    "\n",
    "    def __len__(self):\n",
    "        return len(self.df)\n",
    "\n",
    "    def __getitem__(self, i):\n",
    "        x = self.df.loc[i, \"sequence\"]\n",
    "        y = self.df.loc[i, \"label\"]\n",
    "\n",
    "        return x, y\n",
    "\n",
    "train_ds = BCRDataset(bcr_train)\n",
    "val_ds = BCRDataset(bcr_val)"
   ]
  },
  {
   "cell_type": "code",
   "execution_count": 13,
   "id": "b8570d98",
   "metadata": {
    "execution": {
     "iopub.execute_input": "2024-05-14T05:26:48.838108Z",
     "iopub.status.busy": "2024-05-14T05:26:48.837831Z",
     "iopub.status.idle": "2024-05-14T05:26:48.849431Z",
     "shell.execute_reply": "2024-05-14T05:26:48.848577Z"
    },
    "papermill": {
     "duration": 0.022783,
     "end_time": "2024-05-14T05:26:48.851404",
     "exception": false,
     "start_time": "2024-05-14T05:26:48.828621",
     "status": "completed"
    },
    "tags": []
   },
   "outputs": [
    {
     "name": "stdout",
     "output_type": "stream",
     "text": [
      "torch.Size([8, 245])\n",
      "torch.Size([8, 245])\n",
      "torch.Size([8])\n"
     ]
    }
   ],
   "source": [
    "import functools\n",
    "from torch.utils.data import DataLoader\n",
    "\n",
    "def collate_fn(batch, tokenizer, device):\n",
    "    seqs, labels = zip(*batch)\n",
    "\n",
    "    batch = tokenizer(seqs, padding=True)\n",
    "\n",
    "    # convert to tensor\n",
    "    batch[\"input_ids\"] = torch.tensor(\n",
    "        batch[\"input_ids\"], dtype=torch.long, device=device\n",
    "    )\n",
    "    batch[\"attention_mask\"] = torch.tensor(\n",
    "        batch[\"attention_mask\"], dtype=torch.long, device=device\n",
    "    )\n",
    "\n",
    "    # labels\n",
    "    batch[\"label\"] = torch.tensor(labels, dtype=torch.long, device=device)\n",
    "    return batch\n",
    "\n",
    "collate_fn_partial = functools.partial(collate_fn, tokenizer=tokenizer, device=\"cuda\")\n",
    "\n",
    "train_dl = DataLoader(train_ds, collate_fn=collate_fn_partial, batch_size=8)\n",
    "val_dl = DataLoader(val_ds, collate_fn=collate_fn_partial, batch_size=8)\n",
    "\n",
    "train_batch = next(iter(train_dl))\n",
    "\n",
    "print(train_batch[\"input_ids\"].shape)\n",
    "print(train_batch[\"attention_mask\"].shape)\n",
    "print(train_batch[\"label\"].shape)"
   ]
  },
  {
   "cell_type": "code",
   "execution_count": 14,
   "id": "279affe6",
   "metadata": {
    "execution": {
     "iopub.execute_input": "2024-05-14T05:26:48.870686Z",
     "iopub.status.busy": "2024-05-14T05:26:48.869731Z",
     "iopub.status.idle": "2024-05-14T05:26:49.492831Z",
     "shell.execute_reply": "2024-05-14T05:26:49.491877Z"
    },
    "papermill": {
     "duration": 0.63462,
     "end_time": "2024-05-14T05:26:49.494833",
     "exception": false,
     "start_time": "2024-05-14T05:26:48.860213",
     "status": "completed"
    },
    "tags": []
   },
   "outputs": [
    {
     "data": {
      "text/plain": [
       "torch.Size([8, 2])"
      ]
     },
     "execution_count": 14,
     "metadata": {},
     "output_type": "execute_result"
    }
   ],
   "source": [
    "model(train_batch[\"input_ids\"], train_batch[\"attention_mask\"]).shape"
   ]
  },
  {
   "cell_type": "markdown",
   "id": "635fe8ce",
   "metadata": {
    "papermill": {
     "duration": 0.008721,
     "end_time": "2024-05-14T05:26:49.512658",
     "exception": false,
     "start_time": "2024-05-14T05:26:49.503937",
     "status": "completed"
    },
    "tags": []
   },
   "source": [
    "# Loss function and scheduler"
   ]
  },
  {
   "cell_type": "code",
   "execution_count": 15,
   "id": "a4d18a59",
   "metadata": {
    "execution": {
     "iopub.execute_input": "2024-05-14T05:26:49.531664Z",
     "iopub.status.busy": "2024-05-14T05:26:49.531364Z",
     "iopub.status.idle": "2024-05-14T05:26:52.018172Z",
     "shell.execute_reply": "2024-05-14T05:26:52.017288Z"
    },
    "papermill": {
     "duration": 2.499145,
     "end_time": "2024-05-14T05:26:52.020553",
     "exception": false,
     "start_time": "2024-05-14T05:26:49.521408",
     "status": "completed"
    },
    "tags": []
   },
   "outputs": [],
   "source": [
    "from sklearn.metrics import roc_auc_score\n",
    "\n",
    "loss_fn = nn.CrossEntropyLoss()\n",
    "opt = torch.optim.Adam(model.parameters(), lr=1e-4)\n",
    "\n",
    "def train_step(model, train_dl, loss_fn, opt):\n",
    "    model.train()\n",
    "\n",
    "    losses = []\n",
    "    for batch in train_dl:\n",
    "        opt.zero_grad()\n",
    "        y = model(batch[\"input_ids\"], batch[\"attention_mask\"])\n",
    "        loss = loss_fn(y, batch[\"label\"])\n",
    "        loss.backward()\n",
    "        opt.step()\n",
    "        losses.append(loss.item())\n",
    "\n",
    "    return np.mean(losses)\n",
    "\n",
    "def val_step(model, val_dl, loss_fn):\n",
    "    model.eval()\n",
    "\n",
    "    losses = []\n",
    "    y_preds, y_true = [], []\n",
    "    with torch.inference_mode():\n",
    "        for batch in val_dl:\n",
    "            y = model(batch[\"input_ids\"], batch[\"attention_mask\"])\n",
    "            loss = loss_fn(y, batch[\"label\"])\n",
    "            losses.append(loss.item())\n",
    "            y_preds.append(torch.softmax(y, dim=-1).cpu().numpy())\n",
    "            y_true.append(batch[\"label\"].cpu().numpy())\n",
    "\n",
    "    return (np.mean(losses), np.vstack(y_preds), np.concatenate(y_true, axis=None))"
   ]
  },
  {
   "cell_type": "code",
   "execution_count": 16,
   "id": "4c392b50",
   "metadata": {
    "execution": {
     "iopub.execute_input": "2024-05-14T05:26:52.039709Z",
     "iopub.status.busy": "2024-05-14T05:26:52.039281Z",
     "iopub.status.idle": "2024-05-14T05:27:11.186798Z",
     "shell.execute_reply": "2024-05-14T05:27:11.185754Z"
    },
    "papermill": {
     "duration": 19.159506,
     "end_time": "2024-05-14T05:27:11.189112",
     "exception": false,
     "start_time": "2024-05-14T05:26:52.029606",
     "status": "completed"
    },
    "tags": []
   },
   "outputs": [
    {
     "name": "stdout",
     "output_type": "stream",
     "text": [
      "Epoch: 1; Train Loss: 0.6924202844154003; Valid Loss: 0.6844209988911947; Valid AUC Score: 0.701138811942136\n",
      "Epoch: 2; Train Loss: 0.6688635626504588; Valid Loss: 0.6758404612541199; Valid AUC Score: 0.7300707910126193\n",
      "Epoch: 3; Train Loss: 0.6397047728993172; Valid Loss: 0.6950348834196727; Valid AUC Score: 0.7639273622653123\n",
      "Epoch: 4; Train Loss: 0.6102192984070889; Valid Loss: 0.6419852395852407; Valid AUC Score: 0.7713142505386272\n",
      "Epoch: 5; Train Loss: 0.5990486235119575; Valid Loss: 0.6353920777638753; Valid AUC Score: 0.7802400738688827\n",
      "Epoch: 6; Train Loss: 0.5485854762238126; Valid Loss: 0.5560272792975108; Valid AUC Score: 0.7910126192674669\n",
      "Epoch: 7; Train Loss: 0.5853910792705624; Valid Loss: 0.6661182423432668; Valid AUC Score: 0.786088027085257\n",
      "Epoch: 8; Train Loss: 0.4974015219960102; Valid Loss: 0.5186769902706146; Valid AUC Score: 0.8128654970760234\n",
      "Epoch: 9; Train Loss: 0.5048359140407207; Valid Loss: 0.5116420770684879; Valid AUC Score: 0.8153277931671283\n",
      "Epoch: 10; Train Loss: 0.5108500126489374; Valid Loss: 0.5062272916237514; Valid AUC Score: 0.814404432132964\n",
      "Epoch: 11; Train Loss: 0.4676933843036031; Valid Loss: 0.5010973542928696; Valid AUC Score: 0.8177900892582333\n",
      "Epoch: 12; Train Loss: 0.463242277156475; Valid Loss: 0.5101279507080714; Valid AUC Score: 0.8211757463835027\n",
      "Epoch: 13; Train Loss: 0.4554001740938009; Valid Loss: 0.5339170853296916; Valid AUC Score: 0.8236380424746076\n",
      "Epoch: 14; Train Loss: 0.4458736513936242; Valid Loss: 0.514544744292895; Valid AUC Score: 0.8248691905201601\n",
      "Epoch: 15; Train Loss: 0.4283191033227499; Valid Loss: 0.500276138385137; Valid AUC Score: 0.8307171437365344\n",
      "Epoch: 16; Train Loss: 0.43370925011329875; Valid Loss: 0.5015875726938248; Valid AUC Score: 0.8337950138504154\n",
      "Epoch: 17; Train Loss: 0.4237420546800591; Valid Loss: 0.5064280549685161; Valid AUC Score: 0.8371806709756848\n",
      "Epoch: 18; Train Loss: 0.41368518440529356; Valid Loss: 0.49057687222957613; Valid AUC Score: 0.8384118190212373\n",
      "Epoch: 19; Train Loss: 0.41090809016726737; Valid Loss: 0.48683890104293825; Valid AUC Score: 0.8408741151123422\n",
      "Epoch: 20; Train Loss: 0.405949002954849; Valid Loss: 0.4812564661105474; Valid AUC Score: 0.8433364112034472\n"
     ]
    }
   ],
   "source": [
    "import csv\n",
    "\n",
    "def fit(model, train_dl, val_dl, loss_fn, opt, epochs, filename='train_history.csv'):\n",
    "    with open(filename, 'w',newline='') as csvfile:\n",
    "        csv_writter=csv.writer(csvfile)\n",
    "        csv_writter.writerow(['Epoch', 'Train Loss', 'Valid Loss', 'Valid AUC Score'])\n",
    "        \n",
    "        for epoch in range(epochs):\n",
    "            train_loss = train_step(model, train_dl, loss_fn, opt)\n",
    "            val_loss, y_preds, y_true = val_step(model, val_dl, loss_fn)\n",
    "            auc = roc_auc_score(y_true, y_preds[:, 1])\n",
    "            \n",
    "            csv_writter.writerow([epoch + 1, train_loss, val_loss, auc])\n",
    "            \n",
    "            print(\n",
    "                f\"Epoch: {epoch+1}; Train Loss: {train_loss}; Valid Loss: {val_loss}; Valid AUC Score: {auc}\"\n",
    "            )\n",
    "        \n",
    "fit(model, train_dl, val_dl, loss_fn, opt, 20)"
   ]
  },
  {
   "cell_type": "markdown",
   "id": "3e893954",
   "metadata": {
    "papermill": {
     "duration": 0.010164,
     "end_time": "2024-05-14T05:27:11.209911",
     "exception": false,
     "start_time": "2024-05-14T05:27:11.199747",
     "status": "completed"
    },
    "tags": []
   },
   "source": [
    "# Credit\n",
    "\n",
    "* https://towardsdatascience.com/building-transformer-models-for-proteins-from-scratch-60884eab5cc8\n",
    "* https://github.com/naity/protein-transformer/tree/main\n",
    "* https://jalammar.github.io/illustrated-transformer/"
   ]
  }
 ],
 "metadata": {
  "kaggle": {
   "accelerator": "gpu",
   "dataSources": [
    {
     "sourceId": 177507103,
     "sourceType": "kernelVersion"
    }
   ],
   "dockerImageVersionId": 30698,
   "isGpuEnabled": true,
   "isInternetEnabled": true,
   "language": "python",
   "sourceType": "notebook"
  },
  "kernelspec": {
   "display_name": "Python 3",
   "language": "python",
   "name": "python3"
  },
  "language_info": {
   "codemirror_mode": {
    "name": "ipython",
    "version": 3
   },
   "file_extension": ".py",
   "mimetype": "text/x-python",
   "name": "python",
   "nbconvert_exporter": "python",
   "pygments_lexer": "ipython3",
   "version": "3.10.13"
  },
  "papermill": {
   "default_parameters": {},
   "duration": 52.125547,
   "end_time": "2024-05-14T05:27:13.602703",
   "environment_variables": {},
   "exception": null,
   "input_path": "__notebook__.ipynb",
   "output_path": "__notebook__.ipynb",
   "parameters": {},
   "start_time": "2024-05-14T05:26:21.477156",
   "version": "2.5.0"
  }
 },
 "nbformat": 4,
 "nbformat_minor": 5
}
