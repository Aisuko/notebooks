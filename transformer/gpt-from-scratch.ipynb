{
 "cells": [
  {
   "cell_type": "markdown",
   "id": "79d20fff",
   "metadata": {
    "papermill": {
     "duration": 0.010436,
     "end_time": "2024-07-25T07:00:15.193874",
     "exception": false,
     "start_time": "2024-07-25T07:00:15.183438",
     "status": "completed"
    },
    "tags": []
   },
   "source": [
    "# Overview\n",
    "\n",
    "We are going to build a Generativelt Pretrained Transformer(GPT), following the paper \"Attention is All You Need\".\n",
    "\n",
    "# Build the dataset"
   ]
  },
  {
   "cell_type": "code",
   "execution_count": 1,
   "id": "2b460f9e",
   "metadata": {
    "_cell_guid": "b1076dfc-b9ad-4769-8c92-a6c4dae69d19",
    "_uuid": "8f2839f25d086af736a60e9eeb907d3b93b6e0e5",
    "execution": {
     "iopub.execute_input": "2024-07-25T07:00:15.214347Z",
     "iopub.status.busy": "2024-07-25T07:00:15.213313Z",
     "iopub.status.idle": "2024-07-25T07:00:16.666146Z",
     "shell.execute_reply": "2024-07-25T07:00:16.664524Z"
    },
    "papermill": {
     "duration": 1.466107,
     "end_time": "2024-07-25T07:00:16.669055",
     "exception": false,
     "start_time": "2024-07-25T07:00:15.202948",
     "status": "completed"
    },
    "tags": []
   },
   "outputs": [
    {
     "name": "stdout",
     "output_type": "stream",
     "text": [
      "--2024-07-25 07:00:16--  https://raw.githubusercontent.com/karpathy/char-rnn/master/data/tinyshakespeare/input.txt\r\n",
      "Resolving raw.githubusercontent.com (raw.githubusercontent.com)... 185.199.111.133, 185.199.110.133, 185.199.109.133, ...\r\n",
      "Connecting to raw.githubusercontent.com (raw.githubusercontent.com)|185.199.111.133|:443... connected.\r\n",
      "HTTP request sent, awaiting response... 200 OK\r\n",
      "Length: 1115394 (1.1M) [text/plain]\r\n",
      "Saving to: 'names.txt'\r\n",
      "\r\n",
      "names.txt           100%[===================>]   1.06M  --.-KB/s    in 0.02s   \r\n",
      "\r\n",
      "2024-07-25 07:00:16 (44.7 MB/s) - 'names.txt' saved [1115394/1115394]\r\n",
      "\r\n"
     ]
    }
   ],
   "source": [
    "!wget -O names.txt https://raw.githubusercontent.com/karpathy/char-rnn/master/data/tinyshakespeare/input.txt"
   ]
  },
  {
   "cell_type": "code",
   "execution_count": 2,
   "id": "c8f9593a",
   "metadata": {
    "execution": {
     "iopub.execute_input": "2024-07-25T07:00:16.691018Z",
     "iopub.status.busy": "2024-07-25T07:00:16.690590Z",
     "iopub.status.idle": "2024-07-25T07:00:16.699874Z",
     "shell.execute_reply": "2024-07-25T07:00:16.698413Z"
    },
    "papermill": {
     "duration": 0.024554,
     "end_time": "2024-07-25T07:00:16.703000",
     "exception": false,
     "start_time": "2024-07-25T07:00:16.678446",
     "status": "completed"
    },
    "tags": []
   },
   "outputs": [
    {
     "name": "stdout",
     "output_type": "stream",
     "text": [
      "length of dataset in chracters: 1115394\n"
     ]
    }
   ],
   "source": [
    "with open('/kaggle/working/names.txt', 'r', encoding='utf-8') as f:\n",
    "    text=f.read()\n",
    "    \n",
    "print(\"length of dataset in chracters:\", len(text))"
   ]
  },
  {
   "cell_type": "code",
   "execution_count": 3,
   "id": "c402baf3",
   "metadata": {
    "_kg_hide-output": true,
    "execution": {
     "iopub.execute_input": "2024-07-25T07:00:16.724468Z",
     "iopub.status.busy": "2024-07-25T07:00:16.724017Z",
     "iopub.status.idle": "2024-07-25T07:00:16.731408Z",
     "shell.execute_reply": "2024-07-25T07:00:16.729909Z"
    },
    "papermill": {
     "duration": 0.021771,
     "end_time": "2024-07-25T07:00:16.734342",
     "exception": false,
     "start_time": "2024-07-25T07:00:16.712571",
     "status": "completed"
    },
    "tags": []
   },
   "outputs": [
    {
     "name": "stdout",
     "output_type": "stream",
     "text": [
      "First Citizen:\n",
      "Before we proceed any further, hear me speak.\n",
      "\n",
      "All:\n",
      "Speak, speak.\n",
      "\n",
      "First Citizen:\n",
      "You are all resolved rather to die than to famish?\n",
      "\n",
      "All:\n",
      "Resolved. resolved.\n",
      "\n",
      "First Citizen:\n",
      "First, you know Caius Marcius is chief enemy to the people.\n",
      "\n",
      "All:\n",
      "We know't, we know't.\n",
      "\n",
      "First Citizen:\n",
      "Let us kill him, and we'll have corn at our own price.\n",
      "Is't a verdict?\n",
      "\n",
      "All:\n",
      "No more talking on't; let it be done: away, away!\n",
      "\n",
      "Second Citizen:\n",
      "One word, good citizens.\n",
      "\n",
      "First Citizen:\n",
      "We are accounted poor citizens, the patricians good.\n",
      "What authority surfeits on would relieve us: if they\n",
      "would yield us but the superfluity, while it were\n",
      "wholesome, we might guess they relieved us humanely;\n",
      "but they think we are too dear: the leanness that\n",
      "afflicts us, the object of our misery, is as an\n",
      "inventory to particularise their abundance; our\n",
      "sufferance is a gain to them Let us revenge this with\n",
      "our pikes, ere we become rakes: for the gods know I\n",
      "speak this in hunger for bread, not in thirst for revenge.\n",
      "\n",
      "\n"
     ]
    }
   ],
   "source": [
    "print(text[:1000])"
   ]
  },
  {
   "cell_type": "markdown",
   "id": "ec4ba6b8",
   "metadata": {
    "papermill": {
     "duration": 0.010311,
     "end_time": "2024-07-25T07:00:16.754531",
     "exception": false,
     "start_time": "2024-07-25T07:00:16.744220",
     "status": "completed"
    },
    "tags": []
   },
   "source": [
    "# Build vocabulary\n",
    "\n",
    "## Unique characters that occur in this text"
   ]
  },
  {
   "cell_type": "code",
   "execution_count": 4,
   "id": "7588eb30",
   "metadata": {
    "execution": {
     "iopub.execute_input": "2024-07-25T07:00:16.778561Z",
     "iopub.status.busy": "2024-07-25T07:00:16.777681Z",
     "iopub.status.idle": "2024-07-25T07:00:16.808449Z",
     "shell.execute_reply": "2024-07-25T07:00:16.807079Z"
    },
    "papermill": {
     "duration": 0.04518,
     "end_time": "2024-07-25T07:00:16.811339",
     "exception": false,
     "start_time": "2024-07-25T07:00:16.766159",
     "status": "completed"
    },
    "tags": []
   },
   "outputs": [
    {
     "name": "stdout",
     "output_type": "stream",
     "text": [
      "\n",
      " !$&',-.3:;?ABCDEFGHIJKLMNOPQRSTUVWXYZabcdefghijklmnopqrstuvwxyz\n",
      "65\n"
     ]
    }
   ],
   "source": [
    "chars=sorted(list(set(text)))\n",
    "vocab_size=len(chars)\n",
    "print(''.join(chars))\n",
    "print(vocab_size)"
   ]
  },
  {
   "cell_type": "markdown",
   "id": "459f26fa",
   "metadata": {
    "papermill": {
     "duration": 0.00972,
     "end_time": "2024-07-25T07:00:16.830763",
     "exception": false,
     "start_time": "2024-07-25T07:00:16.821043",
     "status": "completed"
    },
    "tags": []
   },
   "source": [
    "## Encoding and decoding\n",
    "\n",
    "We want to convert the raw text as a string to some sequence of integers according to some vocabulary of possible elements."
   ]
  },
  {
   "cell_type": "code",
   "execution_count": 5,
   "id": "c036961a",
   "metadata": {
    "execution": {
     "iopub.execute_input": "2024-07-25T07:00:16.852828Z",
     "iopub.status.busy": "2024-07-25T07:00:16.851999Z",
     "iopub.status.idle": "2024-07-25T07:00:16.860477Z",
     "shell.execute_reply": "2024-07-25T07:00:16.859314Z"
    },
    "papermill": {
     "duration": 0.022424,
     "end_time": "2024-07-25T07:00:16.863514",
     "exception": false,
     "start_time": "2024-07-25T07:00:16.841090",
     "status": "completed"
    },
    "tags": []
   },
   "outputs": [
    {
     "name": "stdout",
     "output_type": "stream",
     "text": [
      "[46, 47, 47, 1, 58, 46, 43, 56, 43]\n",
      "hii there\n"
     ]
    }
   ],
   "source": [
    "# create two lookup tables in character level\n",
    "stoi={ch:i for i, ch in enumerate(chars)}\n",
    "itos={i:ch for i, ch in enumerate(chars)}\n",
    "\n",
    "\n",
    "encode=lambda s: [stoi[c] for c in s] # encoder: take a string, output a list of integer\n",
    "decode=lambda l: ''.join([itos[i] for i in l]) # decoder: take a list of integers, output a string\n",
    "    \n",
    "print(encode(\"hii there\"))\n",
    "print(decode(encode(\"hii there\")))"
   ]
  },
  {
   "cell_type": "markdown",
   "id": "f512cb3a",
   "metadata": {
    "papermill": {
     "duration": 0.010065,
     "end_time": "2024-07-25T07:00:16.883261",
     "exception": false,
     "start_time": "2024-07-25T07:00:16.873196",
     "status": "completed"
    },
    "tags": []
   },
   "source": [
    "## Encode the dataset and store it into a torch.Tensor"
   ]
  },
  {
   "cell_type": "code",
   "execution_count": 6,
   "id": "573807c9",
   "metadata": {
    "execution": {
     "iopub.execute_input": "2024-07-25T07:00:16.905974Z",
     "iopub.status.busy": "2024-07-25T07:00:16.905568Z",
     "iopub.status.idle": "2024-07-25T07:00:21.147749Z",
     "shell.execute_reply": "2024-07-25T07:00:21.145913Z"
    },
    "papermill": {
     "duration": 4.258178,
     "end_time": "2024-07-25T07:00:21.151381",
     "exception": false,
     "start_time": "2024-07-25T07:00:16.893203",
     "status": "completed"
    },
    "tags": []
   },
   "outputs": [
    {
     "name": "stdout",
     "output_type": "stream",
     "text": [
      "torch.Size([1115394]) torch.int64\n",
      "tensor([18, 47, 56, 57, 58,  1, 15, 47, 58, 47, 64, 43, 52, 10,  0, 14, 43, 44,\n",
      "        53, 56, 43,  1, 61, 43,  1, 54, 56, 53, 41, 43, 43, 42,  1, 39, 52, 63,\n",
      "         1, 44, 59, 56, 58, 46, 43, 56,  6,  1, 46, 43, 39, 56,  1, 51, 43,  1,\n",
      "        57, 54, 43, 39, 49,  8,  0,  0, 13, 50, 50, 10,  0, 31, 54, 43, 39, 49,\n",
      "         6,  1, 57, 54, 43, 39, 49,  8,  0,  0, 18, 47, 56, 57, 58,  1, 15, 47,\n",
      "        58, 47, 64, 43, 52, 10,  0, 37, 53, 59])\n"
     ]
    }
   ],
   "source": [
    "import torch\n",
    "\n",
    "data=torch.tensor(encode(text), dtype=torch.long)\n",
    "print(data.shape, data.dtype)\n",
    "print(data[:100])"
   ]
  },
  {
   "cell_type": "markdown",
   "id": "3a0e138f",
   "metadata": {
    "papermill": {
     "duration": 0.014578,
     "end_time": "2024-07-25T07:00:21.180470",
     "exception": false,
     "start_time": "2024-07-25T07:00:21.165892",
     "status": "completed"
    },
    "tags": []
   },
   "source": [
    "# Split the dataset"
   ]
  },
  {
   "cell_type": "code",
   "execution_count": 7,
   "id": "296fe45e",
   "metadata": {
    "execution": {
     "iopub.execute_input": "2024-07-25T07:00:21.209995Z",
     "iopub.status.busy": "2024-07-25T07:00:21.208590Z",
     "iopub.status.idle": "2024-07-25T07:00:21.216751Z",
     "shell.execute_reply": "2024-07-25T07:00:21.215456Z"
    },
    "papermill": {
     "duration": 0.025028,
     "end_time": "2024-07-25T07:00:21.219845",
     "exception": false,
     "start_time": "2024-07-25T07:00:21.194817",
     "status": "completed"
    },
    "tags": []
   },
   "outputs": [],
   "source": [
    "n=int(0.9*len(data)) # first 90% will be train, rest val\n",
    "train_data=data[:n]\n",
    "val_data=data[n:]"
   ]
  },
  {
   "cell_type": "markdown",
   "id": "facdf397",
   "metadata": {
    "papermill": {
     "duration": 0.013659,
     "end_time": "2024-07-25T07:00:21.247296",
     "exception": false,
     "start_time": "2024-07-25T07:00:21.233637",
     "status": "completed"
    },
    "tags": []
   },
   "source": [
    "# Define the chunk(context) size\n",
    "\n",
    "Feed the entire text into model all at once that would be computationally very expensive and prohibitive. So, we only work with chunks of the dataset, like `tensor([18, 47, 56, 57, 58,  1, 15, 47, 58])`.\n",
    "\n",
    "When we plug it into a Transformer is we're going to actually simultaneously train it to make predict at every one of these positions. In the example below, these positions now in the chunk of nine characters there's actually eight individual examples packed in there. So there's the example that one 18 when in the context of 18 47 when in the context of 18 47 likely comes next. And in the context of 18 and 47 56 comes next in."
   ]
  },
  {
   "cell_type": "code",
   "execution_count": 8,
   "id": "bcd01a29",
   "metadata": {
    "execution": {
     "iopub.execute_input": "2024-07-25T07:00:21.278064Z",
     "iopub.status.busy": "2024-07-25T07:00:21.277051Z",
     "iopub.status.idle": "2024-07-25T07:00:21.290370Z",
     "shell.execute_reply": "2024-07-25T07:00:21.288969Z"
    },
    "papermill": {
     "duration": 0.032772,
     "end_time": "2024-07-25T07:00:21.293890",
     "exception": false,
     "start_time": "2024-07-25T07:00:21.261118",
     "status": "completed"
    },
    "tags": []
   },
   "outputs": [
    {
     "data": {
      "text/plain": [
       "tensor([18, 47, 56, 57, 58,  1, 15, 47, 58])"
      ]
     },
     "execution_count": 8,
     "metadata": {},
     "output_type": "execute_result"
    }
   ],
   "source": [
    "# transformer will never receive more than block size inputs when it's predicting the \n",
    "# next chracter\n",
    "block_size=8\n",
    "train_data[:block_size+1]"
   ]
  },
  {
   "cell_type": "code",
   "execution_count": 9,
   "id": "3de23f2e",
   "metadata": {
    "execution": {
     "iopub.execute_input": "2024-07-25T07:00:21.326147Z",
     "iopub.status.busy": "2024-07-25T07:00:21.325112Z",
     "iopub.status.idle": "2024-07-25T07:00:21.337418Z",
     "shell.execute_reply": "2024-07-25T07:00:21.335786Z"
    },
    "papermill": {
     "duration": 0.03199,
     "end_time": "2024-07-25T07:00:21.340272",
     "exception": false,
     "start_time": "2024-07-25T07:00:21.308282",
     "status": "completed"
    },
    "tags": []
   },
   "outputs": [
    {
     "name": "stdout",
     "output_type": "stream",
     "text": [
      "when input is tensor([18]) thr target: 47\n",
      "when input is tensor([18, 47]) thr target: 56\n",
      "when input is tensor([18, 47, 56]) thr target: 57\n",
      "when input is tensor([18, 47, 56, 57]) thr target: 58\n",
      "when input is tensor([18, 47, 56, 57, 58]) thr target: 1\n",
      "when input is tensor([18, 47, 56, 57, 58,  1]) thr target: 15\n",
      "when input is tensor([18, 47, 56, 57, 58,  1, 15]) thr target: 47\n",
      "when input is tensor([18, 47, 56, 57, 58,  1, 15, 47]) thr target: 58\n"
     ]
    }
   ],
   "source": [
    "x=train_data[:block_size]\n",
    "y=train_data[1:block_size+1]\n",
    "for t in range(block_size):\n",
    "    context=x[:t+1]\n",
    "    target=y[t]\n",
    "    print(f\"when input is {context} thr target: {target}\")"
   ]
  },
  {
   "cell_type": "markdown",
   "id": "346b1e68",
   "metadata": {
    "papermill": {
     "duration": 0.009766,
     "end_time": "2024-07-25T07:00:21.360377",
     "exception": false,
     "start_time": "2024-07-25T07:00:21.350611",
     "status": "completed"
    },
    "tags": []
   },
   "source": [
    "# Define batch dimension\n",
    "\n",
    "We're going to feed these chunks of text into a Transformer so we're going to have many batches of multiple chunks of text that are all like stacked up in a single tensor and that's just done for efficiency(We can keep the GPUs busy, because they are good at parallel processing of data.)\n",
    "\n",
    "We want to process multiple chunks all at the same time, but those chunks are procesed completely independently they don't talk to each other."
   ]
  },
  {
   "cell_type": "code",
   "execution_count": 10,
   "id": "3eefb525",
   "metadata": {
    "execution": {
     "iopub.execute_input": "2024-07-25T07:00:21.383672Z",
     "iopub.status.busy": "2024-07-25T07:00:21.383095Z",
     "iopub.status.idle": "2024-07-25T07:00:21.443731Z",
     "shell.execute_reply": "2024-07-25T07:00:21.442527Z"
    },
    "papermill": {
     "duration": 0.07593,
     "end_time": "2024-07-25T07:00:21.446777",
     "exception": false,
     "start_time": "2024-07-25T07:00:21.370847",
     "status": "completed"
    },
    "tags": []
   },
   "outputs": [
    {
     "name": "stdout",
     "output_type": "stream",
     "text": [
      "inputs:\n",
      "torch.Size([4, 8])\n",
      "tensor([[24, 43, 58,  5, 57,  1, 46, 43],\n",
      "        [44, 53, 56,  1, 58, 46, 39, 58],\n",
      "        [52, 58,  1, 58, 46, 39, 58,  1],\n",
      "        [25, 17, 27, 10,  0, 21,  1, 54]])\n",
      "targets:\n",
      "torch.Size([4, 8])\n",
      "tensor([[43, 58,  5, 57,  1, 46, 43, 39],\n",
      "        [53, 56,  1, 58, 46, 39, 58,  1],\n",
      "        [58,  1, 58, 46, 39, 58,  1, 46],\n",
      "        [17, 27, 10,  0, 21,  1, 54, 39]])\n",
      "----\n",
      "when input is [24] the target: 43\n",
      "when input is [24, 43] the target: 58\n",
      "when input is [24, 43, 58] the target: 5\n",
      "when input is [24, 43, 58, 5] the target: 57\n",
      "when input is [24, 43, 58, 5, 57] the target: 1\n",
      "when input is [24, 43, 58, 5, 57, 1] the target: 46\n",
      "when input is [24, 43, 58, 5, 57, 1, 46] the target: 43\n",
      "when input is [24, 43, 58, 5, 57, 1, 46, 43] the target: 39\n",
      "when input is [44] the target: 53\n",
      "when input is [44, 53] the target: 56\n",
      "when input is [44, 53, 56] the target: 1\n",
      "when input is [44, 53, 56, 1] the target: 58\n",
      "when input is [44, 53, 56, 1, 58] the target: 46\n",
      "when input is [44, 53, 56, 1, 58, 46] the target: 39\n",
      "when input is [44, 53, 56, 1, 58, 46, 39] the target: 58\n",
      "when input is [44, 53, 56, 1, 58, 46, 39, 58] the target: 1\n",
      "when input is [52] the target: 58\n",
      "when input is [52, 58] the target: 1\n",
      "when input is [52, 58, 1] the target: 58\n",
      "when input is [52, 58, 1, 58] the target: 46\n",
      "when input is [52, 58, 1, 58, 46] the target: 39\n",
      "when input is [52, 58, 1, 58, 46, 39] the target: 58\n",
      "when input is [52, 58, 1, 58, 46, 39, 58] the target: 1\n",
      "when input is [52, 58, 1, 58, 46, 39, 58, 1] the target: 46\n",
      "when input is [25] the target: 17\n",
      "when input is [25, 17] the target: 27\n",
      "when input is [25, 17, 27] the target: 10\n",
      "when input is [25, 17, 27, 10] the target: 0\n",
      "when input is [25, 17, 27, 10, 0] the target: 21\n",
      "when input is [25, 17, 27, 10, 0, 21] the target: 1\n",
      "when input is [25, 17, 27, 10, 0, 21, 1] the target: 54\n",
      "when input is [25, 17, 27, 10, 0, 21, 1, 54] the target: 39\n"
     ]
    }
   ],
   "source": [
    "# Sampling random location in the dataset to pull chunks from\n",
    "# setting seed\n",
    "torch.manual_seed(1337)\n",
    "batch_size=4 # how many independent sequences will we proces in parallel?\n",
    "block_size=8 # what is the maximum context length for predictions?\n",
    "\n",
    "def get_batch(split):\n",
    "    # generate a smal;l batch of data of inputs x and targets y\n",
    "    data=train_data if split=='train' else val_data\n",
    "    ix=torch.randint(len(data)-block_size, (batch_size,)) # we are randomy generate batch_size(4) numbers between len(data)-block_size\n",
    "    x=torch.stack([data[i:i+block_size] for i in ix]) # stack one dimension tensor up at rows, they become a row in four by eight tensor\n",
    "    y=torch.stack([data[i+1:i+block_size+1] for i in ix])\n",
    "    return x,y\n",
    "\n",
    "xb,yb=get_batch('train')\n",
    "print('inputs:')\n",
    "print(xb.shape)\n",
    "print(xb)\n",
    "print('targets:')\n",
    "print(yb.shape)\n",
    "print(yb)\n",
    "\n",
    "print('----')\n",
    "\n",
    "for b in range(batch_size): # batch dimension\n",
    "    for t in range(block_size): # time dimension\n",
    "        context=xb[b, :t+1]\n",
    "        target=yb[b,t]\n",
    "        print(f\"when input is {context.tolist()} the target: {target}\")"
   ]
  },
  {
   "cell_type": "code",
   "execution_count": 11,
   "id": "3f5b755e",
   "metadata": {
    "execution": {
     "iopub.execute_input": "2024-07-25T07:00:21.481703Z",
     "iopub.status.busy": "2024-07-25T07:00:21.481169Z",
     "iopub.status.idle": "2024-07-25T07:00:21.488613Z",
     "shell.execute_reply": "2024-07-25T07:00:21.487371Z"
    },
    "papermill": {
     "duration": 0.02957,
     "end_time": "2024-07-25T07:00:21.492797",
     "exception": false,
     "start_time": "2024-07-25T07:00:21.463227",
     "status": "completed"
    },
    "tags": []
   },
   "outputs": [
    {
     "name": "stdout",
     "output_type": "stream",
     "text": [
      "tensor([[24, 43, 58,  5, 57,  1, 46, 43],\n",
      "        [44, 53, 56,  1, 58, 46, 39, 58],\n",
      "        [52, 58,  1, 58, 46, 39, 58,  1],\n",
      "        [25, 17, 27, 10,  0, 21,  1, 54]])\n"
     ]
    }
   ],
   "source": [
    "print(xb)"
   ]
  },
  {
   "cell_type": "markdown",
   "id": "b09a8c4b",
   "metadata": {
    "papermill": {
     "duration": 0.014955,
     "end_time": "2024-07-25T07:00:21.522465",
     "exception": false,
     "start_time": "2024-07-25T07:00:21.507510",
     "status": "completed"
    },
    "tags": []
   },
   "source": [
    "# Define a biggram language model"
   ]
  },
  {
   "cell_type": "code",
   "execution_count": 12,
   "id": "e6daeb3c",
   "metadata": {
    "execution": {
     "iopub.execute_input": "2024-07-25T07:00:21.555079Z",
     "iopub.status.busy": "2024-07-25T07:00:21.554607Z",
     "iopub.status.idle": "2024-07-25T07:00:21.676905Z",
     "shell.execute_reply": "2024-07-25T07:00:21.675440Z"
    },
    "papermill": {
     "duration": 0.141159,
     "end_time": "2024-07-25T07:00:21.679834",
     "exception": false,
     "start_time": "2024-07-25T07:00:21.538675",
     "status": "completed"
    },
    "tags": []
   },
   "outputs": [
    {
     "name": "stdout",
     "output_type": "stream",
     "text": [
      "torch.Size([32, 65])\n",
      "tensor(4.8786, grad_fn=<NllLossBackward0>)\n",
      "\n",
      "Sr?qP-QWktXoL&jLDJgOLVz'RIoDqHdhsV&vLLxatjscMpwLERSPyao.qfzs$Ys$zF-w,;eEkzxjgCKFChs!iWW.ObzDnxA Ms$3\n"
     ]
    }
   ],
   "source": [
    "# import torch\n",
    "import torch.nn as nn\n",
    "from torch.nn import functional as F\n",
    "torch.manual_seed(1337)\n",
    "\n",
    "class BigramLanguageModel(nn.Module):\n",
    "    def __init__(self, vocab_size):\n",
    "        super().__init__()\n",
    "        # each token directly reads off the logits for the token from a lookup table\n",
    "        self.token_embedding_table=nn.Embedding(vocab_size, vocab_size)\n",
    "        \n",
    "    def forward(self, idx, targets=None):\n",
    "        # idx and targets are both (B,T) tensor of integers\n",
    "        logits=self.token_embedding_table(idx) # (B,T,C)->(batch size=4, Time=8, C: channel(vocabulary size):65 )\n",
    "        \n",
    "        if targets is None:\n",
    "            loss=None\n",
    "        else:\n",
    "            #F.cross_entropy wants B,C,T sequence, so, we need to reshape our logits.\n",
    "            B,T,C=logits.shape\n",
    "            logits=logits.view(B*T, C) # We stretching out the array to a two-dimensional array\n",
    "\n",
    "\n",
    "            targets=targets.view(B*T)\n",
    "\n",
    "            # the negative log likelihood loss\n",
    "            loss=F.cross_entropy(logits, targets)\n",
    "\n",
    "        return logits, loss # scores for the next character in the sequence\n",
    "    \n",
    "    def generate(self, idx, max_new_tokens):\n",
    "        \"\"\"\n",
    "        Take (B,T) and predict (B,T+1)\n",
    "        \"\"\"\n",
    "        # idx is (B,T) array of indices in the current context\n",
    "        for _ in range(max_new_tokens):\n",
    "            # get the predictions\n",
    "            logits, loss=self(idx) # end up going to the forward function\n",
    "            # focus only on the last time step\n",
    "            logits=logits[:,-1,:] # becomes (B,C) # pluck out the last dimension, it is the prediction for what comes next\n",
    "            # apply softmax to get probabilities\n",
    "            probs=F.softmax(logits, dim=-1) # (B,C)\n",
    "            # sample from the distribution\n",
    "            idx_next=torch.multinomial(probs, num_samples=1) # (B,1) # get one sample using torch.multinomial\n",
    "            # append sampled index to the running sequence\n",
    "            idx=torch.cat((idx, idx_next), dim=1) # (B, T+1)\n",
    "        return idx\n",
    "    \n",
    "m=BigramLanguageModel(vocab_size)\n",
    "logits, loss=m(xb,yb)\n",
    "print(logits.shape) # we got the scores for every 4 by 8 positions\n",
    "print(loss)\n",
    "\n",
    "print(decode(m.generate(idx=torch.zeros((1,1), dtype=torch.long), max_new_tokens=100)[0].tolist()))"
   ]
  },
  {
   "cell_type": "code",
   "execution_count": 13,
   "id": "1aabebb9",
   "metadata": {
    "execution": {
     "iopub.execute_input": "2024-07-25T07:00:21.704315Z",
     "iopub.status.busy": "2024-07-25T07:00:21.703768Z",
     "iopub.status.idle": "2024-07-25T07:00:21.712563Z",
     "shell.execute_reply": "2024-07-25T07:00:21.711248Z"
    },
    "papermill": {
     "duration": 0.024543,
     "end_time": "2024-07-25T07:00:21.715158",
     "exception": false,
     "start_time": "2024-07-25T07:00:21.690615",
     "status": "completed"
    },
    "tags": []
   },
   "outputs": [
    {
     "data": {
      "text/plain": [
       "<bound method Module.parameters of BigramLanguageModel(\n",
       "  (token_embedding_table): Embedding(65, 65)\n",
       ")>"
      ]
     },
     "execution_count": 13,
     "metadata": {},
     "output_type": "execute_result"
    }
   ],
   "source": [
    "m.parameters"
   ]
  },
  {
   "cell_type": "code",
   "execution_count": 14,
   "id": "cb1810dd",
   "metadata": {
    "execution": {
     "iopub.execute_input": "2024-07-25T07:00:21.738646Z",
     "iopub.status.busy": "2024-07-25T07:00:21.738219Z",
     "iopub.status.idle": "2024-07-25T07:00:21.750957Z",
     "shell.execute_reply": "2024-07-25T07:00:21.749059Z"
    },
    "papermill": {
     "duration": 0.028096,
     "end_time": "2024-07-25T07:00:21.754003",
     "exception": false,
     "start_time": "2024-07-25T07:00:21.725907",
     "status": "completed"
    },
    "tags": []
   },
   "outputs": [
    {
     "data": {
      "text/plain": [
       "OrderedDict([('token_embedding_table.weight',\n",
       "              tensor([[ 0.1808, -0.0700, -0.3596,  ...,  1.6097, -0.4032, -0.8345],\n",
       "                      [ 0.5978, -0.0514, -0.0646,  ..., -1.4649, -2.0555,  1.8275],\n",
       "                      [ 1.3035, -0.4501,  1.3471,  ...,  0.1910, -0.3425,  1.7955],\n",
       "                      ...,\n",
       "                      [ 0.4222, -1.8111, -1.0118,  ...,  0.5462,  0.2788,  0.7280],\n",
       "                      [-0.8109,  0.2410, -0.1139,  ...,  1.4509,  0.1836,  0.3064],\n",
       "                      [-1.4322, -0.2810, -2.2789,  ..., -0.5551,  1.0666,  0.5364]]))])"
      ]
     },
     "execution_count": 14,
     "metadata": {},
     "output_type": "execute_result"
    }
   ],
   "source": [
    "m.state_dict()"
   ]
  },
  {
   "cell_type": "code",
   "execution_count": 15,
   "id": "6ffbe7b6",
   "metadata": {
    "execution": {
     "iopub.execute_input": "2024-07-25T07:00:21.781673Z",
     "iopub.status.busy": "2024-07-25T07:00:21.780583Z",
     "iopub.status.idle": "2024-07-25T07:00:21.788136Z",
     "shell.execute_reply": "2024-07-25T07:00:21.786820Z"
    },
    "papermill": {
     "duration": 0.025546,
     "end_time": "2024-07-25T07:00:21.790911",
     "exception": false,
     "start_time": "2024-07-25T07:00:21.765365",
     "status": "completed"
    },
    "tags": []
   },
   "outputs": [
    {
     "name": "stdout",
     "output_type": "stream",
     "text": [
      "0 -> BigramLanguageModel(\n",
      "  (token_embedding_table): Embedding(65, 65)\n",
      ")\n",
      "1 -> Embedding(65, 65)\n"
     ]
    }
   ],
   "source": [
    "# https://pytorch.org/docs/stable/generated/torch.nn.Module.html#torch.nn.Module.modules\n",
    "for idx, n in enumerate(m.modules()):\n",
    "    print(idx, '->', n)"
   ]
  },
  {
   "cell_type": "markdown",
   "id": "fa1e0a62",
   "metadata": {
    "papermill": {
     "duration": 0.016164,
     "end_time": "2024-07-25T07:00:21.820374",
     "exception": false,
     "start_time": "2024-07-25T07:00:21.804210",
     "status": "completed"
    },
    "tags": []
   },
   "source": [
    "# Define the optimizer"
   ]
  },
  {
   "cell_type": "code",
   "execution_count": 16,
   "id": "d4357607",
   "metadata": {
    "execution": {
     "iopub.execute_input": "2024-07-25T07:00:21.848142Z",
     "iopub.status.busy": "2024-07-25T07:00:21.847721Z",
     "iopub.status.idle": "2024-07-25T07:00:23.588387Z",
     "shell.execute_reply": "2024-07-25T07:00:23.587132Z"
    },
    "papermill": {
     "duration": 1.757491,
     "end_time": "2024-07-25T07:00:23.591431",
     "exception": false,
     "start_time": "2024-07-25T07:00:21.833940",
     "status": "completed"
    },
    "tags": []
   },
   "outputs": [],
   "source": [
    "# create a PyTorch optimizer\n",
    "# Adam-> the simplest possible optimizer, we can use SGD instead\n",
    "\n",
    "# Adam is typically good with the learning rate 3E negative four\n",
    "optimizer = torch.optim.Adam(m.parameters(), lr=1e-3)"
   ]
  },
  {
   "cell_type": "markdown",
   "id": "ceee5826",
   "metadata": {
    "papermill": {
     "duration": 0.011219,
     "end_time": "2024-07-25T07:00:23.613832",
     "exception": false,
     "start_time": "2024-07-25T07:00:23.602613",
     "status": "completed"
    },
    "tags": []
   },
   "source": [
    "# Define the training loop"
   ]
  },
  {
   "cell_type": "code",
   "execution_count": 17,
   "id": "ffa10b2d",
   "metadata": {
    "execution": {
     "iopub.execute_input": "2024-07-25T07:00:23.639211Z",
     "iopub.status.busy": "2024-07-25T07:00:23.637978Z",
     "iopub.status.idle": "2024-07-25T07:00:43.859954Z",
     "shell.execute_reply": "2024-07-25T07:00:43.858761Z"
    },
    "papermill": {
     "duration": 20.237757,
     "end_time": "2024-07-25T07:00:43.862683",
     "exception": false,
     "start_time": "2024-07-25T07:00:23.624926",
     "status": "completed"
    },
    "tags": []
   },
   "outputs": [
    {
     "name": "stdout",
     "output_type": "stream",
     "text": [
      "2.572469472885132\n"
     ]
    }
   ],
   "source": [
    "batch_size=32\n",
    "for steps in range(10000):\n",
    "    # sample a batch of data\n",
    "    xb, yb = get_batch('train')\n",
    "    \n",
    "    # evaluate the loss\n",
    "    logits, loss=m(xb, yb)\n",
    "    optimizer.zero_grad(set_to_none=True) # zeroing out all the gradients from the previous step\n",
    "    loss.backward() # getting the gradients for all the parameters\n",
    "    optimizer.step() # using these gradients update out parameters\n",
    "    \n",
    "#     print(loss.item())\n",
    "\n",
    "print(loss.item())"
   ]
  },
  {
   "cell_type": "code",
   "execution_count": 18,
   "id": "da60f5c4",
   "metadata": {
    "execution": {
     "iopub.execute_input": "2024-07-25T07:00:43.887398Z",
     "iopub.status.busy": "2024-07-25T07:00:43.886981Z",
     "iopub.status.idle": "2024-07-25T07:00:43.960701Z",
     "shell.execute_reply": "2024-07-25T07:00:43.959326Z"
    },
    "papermill": {
     "duration": 0.089,
     "end_time": "2024-07-25T07:00:43.963605",
     "exception": false,
     "start_time": "2024-07-25T07:00:43.874605",
     "status": "completed"
    },
    "tags": []
   },
   "outputs": [
    {
     "name": "stdout",
     "output_type": "stream",
     "text": [
      "\n",
      "Iyoteng h hasbe pave pirance\n",
      "Rie hicomyonthar's\n",
      "Plinseard ith henoure wounonthioneir thondy, y heltieiengerofo'dsssit ey\n",
      "KIN d pe wither vouprrouthercckehathe; d!\n",
      "My hind tt hinig t ouchos tes; st yo hind wotte grotonear 'so it t jod weancotha:\n",
      "h hay.JUCle n prids, r loncave w hollular s O:\n",
      "HIs; ht anjx?\n",
      "\n",
      "DUThineent.\n",
      "\n",
      "Lavinde.\n",
      "athave l.\n",
      "KEONGBUCHandspo be y,-hedarwnoddy scace, tridesar, wne'shenous s ls, theresseys\n",
      "PlorseelapinghiybHen yof GLUCEN t l-t E:\n",
      "I hisgothers w dere! ABer wotouciullle's\n"
     ]
    }
   ],
   "source": [
    "print(decode(m.generate(idx=torch.zeros((1,1), dtype=torch.long), max_new_tokens=500)[0].tolist()))"
   ]
  },
  {
   "cell_type": "markdown",
   "id": "d974bcb8",
   "metadata": {
    "papermill": {
     "duration": 0.010716,
     "end_time": "2024-07-25T07:00:43.985431",
     "exception": false,
     "start_time": "2024-07-25T07:00:43.974715",
     "status": "completed"
    },
    "tags": []
   },
   "source": [
    "# Acknowledgements\n",
    "\n",
    "* https://youtu.be/kCc8FmEb1nY?si=6rdQ4iGCj-icyrtT\n",
    "* https://www.kaggle.com/code/aisuko/character-lm-without-framework"
   ]
  }
 ],
 "metadata": {
  "kaggle": {
   "accelerator": "none",
   "dataSources": [],
   "dockerImageVersionId": 30746,
   "isGpuEnabled": false,
   "isInternetEnabled": true,
   "language": "python",
   "sourceType": "notebook"
  },
  "kernelspec": {
   "display_name": "Python 3",
   "language": "python",
   "name": "python3"
  },
  "language_info": {
   "codemirror_mode": {
    "name": "ipython",
    "version": 3
   },
   "file_extension": ".py",
   "mimetype": "text/x-python",
   "name": "python",
   "nbconvert_exporter": "python",
   "pygments_lexer": "ipython3",
   "version": "3.10.13"
  },
  "papermill": {
   "default_parameters": {},
   "duration": 33.148852,
   "end_time": "2024-07-25T07:00:45.120948",
   "environment_variables": {},
   "exception": null,
   "input_path": "__notebook__.ipynb",
   "output_path": "__notebook__.ipynb",
   "parameters": {},
   "start_time": "2024-07-25T07:00:11.972096",
   "version": "2.5.0"
  }
 },
 "nbformat": 4,
 "nbformat_minor": 5
}
