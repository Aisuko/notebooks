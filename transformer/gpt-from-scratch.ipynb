{
 "cells": [
  {
   "cell_type": "markdown",
   "id": "4347bcb4",
   "metadata": {
    "papermill": {
     "duration": 0.006845,
     "end_time": "2024-07-25T05:41:07.702449",
     "exception": false,
     "start_time": "2024-07-25T05:41:07.695604",
     "status": "completed"
    },
    "tags": []
   },
   "source": [
    "# Overview\n",
    "\n",
    "We are going to build a Generativelt Pretrained Transformer(GPT), following the paper \"Attention is All You Need\".\n",
    "\n",
    "# Build the dataset"
   ]
  },
  {
   "cell_type": "code",
   "execution_count": 1,
   "id": "b099b13c",
   "metadata": {
    "_cell_guid": "b1076dfc-b9ad-4769-8c92-a6c4dae69d19",
    "_uuid": "8f2839f25d086af736a60e9eeb907d3b93b6e0e5",
    "execution": {
     "iopub.execute_input": "2024-07-25T05:41:07.717192Z",
     "iopub.status.busy": "2024-07-25T05:41:07.716758Z",
     "iopub.status.idle": "2024-07-25T05:41:09.504683Z",
     "shell.execute_reply": "2024-07-25T05:41:09.503141Z"
    },
    "papermill": {
     "duration": 1.798775,
     "end_time": "2024-07-25T05:41:09.507702",
     "exception": false,
     "start_time": "2024-07-25T05:41:07.708927",
     "status": "completed"
    },
    "tags": []
   },
   "outputs": [
    {
     "name": "stdout",
     "output_type": "stream",
     "text": [
      "--2024-07-25 05:41:08--  https://raw.githubusercontent.com/karpathy/char-rnn/master/data/tinyshakespeare/input.txt\r\n",
      "Resolving raw.githubusercontent.com (raw.githubusercontent.com)... 185.199.111.133, 185.199.110.133, 185.199.108.133, ...\r\n",
      "Connecting to raw.githubusercontent.com (raw.githubusercontent.com)|185.199.111.133|:443... connected.\r\n",
      "HTTP request sent, awaiting response... 200 OK\r\n",
      "Length: 1115394 (1.1M) [text/plain]\r\n",
      "Saving to: 'names.txt'\r\n",
      "\r\n",
      "names.txt           100%[===================>]   1.06M  5.90MB/s    in 0.2s    \r\n",
      "\r\n",
      "2024-07-25 05:41:09 (5.90 MB/s) - 'names.txt' saved [1115394/1115394]\r\n",
      "\r\n"
     ]
    }
   ],
   "source": [
    "!wget -O names.txt https://raw.githubusercontent.com/karpathy/char-rnn/master/data/tinyshakespeare/input.txt"
   ]
  },
  {
   "cell_type": "code",
   "execution_count": 2,
   "id": "ee235433",
   "metadata": {
    "execution": {
     "iopub.execute_input": "2024-07-25T05:41:09.523696Z",
     "iopub.status.busy": "2024-07-25T05:41:09.523251Z",
     "iopub.status.idle": "2024-07-25T05:41:09.532897Z",
     "shell.execute_reply": "2024-07-25T05:41:09.531086Z"
    },
    "papermill": {
     "duration": 0.020734,
     "end_time": "2024-07-25T05:41:09.535392",
     "exception": false,
     "start_time": "2024-07-25T05:41:09.514658",
     "status": "completed"
    },
    "tags": []
   },
   "outputs": [
    {
     "name": "stdout",
     "output_type": "stream",
     "text": [
      "length of dataset in chracters: 1115394\n"
     ]
    }
   ],
   "source": [
    "with open('/kaggle/working/names.txt', 'r', encoding='utf-8') as f:\n",
    "    text=f.read()\n",
    "    \n",
    "print(\"length of dataset in chracters:\", len(text))"
   ]
  },
  {
   "cell_type": "code",
   "execution_count": 3,
   "id": "d883b725",
   "metadata": {
    "_kg_hide-output": true,
    "execution": {
     "iopub.execute_input": "2024-07-25T05:41:09.550856Z",
     "iopub.status.busy": "2024-07-25T05:41:09.550471Z",
     "iopub.status.idle": "2024-07-25T05:41:09.556334Z",
     "shell.execute_reply": "2024-07-25T05:41:09.554905Z"
    },
    "papermill": {
     "duration": 0.01658,
     "end_time": "2024-07-25T05:41:09.558890",
     "exception": false,
     "start_time": "2024-07-25T05:41:09.542310",
     "status": "completed"
    },
    "tags": []
   },
   "outputs": [
    {
     "name": "stdout",
     "output_type": "stream",
     "text": [
      "First Citizen:\n",
      "Before we proceed any further, hear me speak.\n",
      "\n",
      "All:\n",
      "Speak, speak.\n",
      "\n",
      "First Citizen:\n",
      "You are all resolved rather to die than to famish?\n",
      "\n",
      "All:\n",
      "Resolved. resolved.\n",
      "\n",
      "First Citizen:\n",
      "First, you know Caius Marcius is chief enemy to the people.\n",
      "\n",
      "All:\n",
      "We know't, we know't.\n",
      "\n",
      "First Citizen:\n",
      "Let us kill him, and we'll have corn at our own price.\n",
      "Is't a verdict?\n",
      "\n",
      "All:\n",
      "No more talking on't; let it be done: away, away!\n",
      "\n",
      "Second Citizen:\n",
      "One word, good citizens.\n",
      "\n",
      "First Citizen:\n",
      "We are accounted poor citizens, the patricians good.\n",
      "What authority surfeits on would relieve us: if they\n",
      "would yield us but the superfluity, while it were\n",
      "wholesome, we might guess they relieved us humanely;\n",
      "but they think we are too dear: the leanness that\n",
      "afflicts us, the object of our misery, is as an\n",
      "inventory to particularise their abundance; our\n",
      "sufferance is a gain to them Let us revenge this with\n",
      "our pikes, ere we become rakes: for the gods know I\n",
      "speak this in hunger for bread, not in thirst for revenge.\n",
      "\n",
      "\n"
     ]
    }
   ],
   "source": [
    "print(text[:1000])"
   ]
  },
  {
   "cell_type": "markdown",
   "id": "97931908",
   "metadata": {
    "papermill": {
     "duration": 0.006668,
     "end_time": "2024-07-25T05:41:09.572498",
     "exception": false,
     "start_time": "2024-07-25T05:41:09.565830",
     "status": "completed"
    },
    "tags": []
   },
   "source": [
    "## Unique characters that occur in this text"
   ]
  },
  {
   "cell_type": "code",
   "execution_count": 4,
   "id": "19d974f5",
   "metadata": {
    "execution": {
     "iopub.execute_input": "2024-07-25T05:41:09.588723Z",
     "iopub.status.busy": "2024-07-25T05:41:09.588332Z",
     "iopub.status.idle": "2024-07-25T05:41:09.615534Z",
     "shell.execute_reply": "2024-07-25T05:41:09.614331Z"
    },
    "papermill": {
     "duration": 0.038204,
     "end_time": "2024-07-25T05:41:09.618112",
     "exception": false,
     "start_time": "2024-07-25T05:41:09.579908",
     "status": "completed"
    },
    "tags": []
   },
   "outputs": [
    {
     "name": "stdout",
     "output_type": "stream",
     "text": [
      "\n",
      " !$&',-.3:;?ABCDEFGHIJKLMNOPQRSTUVWXYZabcdefghijklmnopqrstuvwxyz\n",
      "65\n"
     ]
    }
   ],
   "source": [
    "chars=sorted(list(set(text)))\n",
    "vocab_size=len(chars)\n",
    "print(''.join(chars))\n",
    "print(vocab_size)"
   ]
  },
  {
   "cell_type": "markdown",
   "id": "393bfdb8",
   "metadata": {
    "papermill": {
     "duration": 0.006716,
     "end_time": "2024-07-25T05:41:09.631917",
     "exception": false,
     "start_time": "2024-07-25T05:41:09.625201",
     "status": "completed"
    },
    "tags": []
   },
   "source": [
    "# Tokenize the text\n",
    "\n",
    "We want to convert the raw text as a string to some sequence of integers according to some vocabulary of possible elements.\n",
    "\n",
    "## Create vocabulary"
   ]
  },
  {
   "cell_type": "code",
   "execution_count": 5,
   "id": "d46a772c",
   "metadata": {
    "execution": {
     "iopub.execute_input": "2024-07-25T05:41:09.648603Z",
     "iopub.status.busy": "2024-07-25T05:41:09.647801Z",
     "iopub.status.idle": "2024-07-25T05:41:09.655487Z",
     "shell.execute_reply": "2024-07-25T05:41:09.654172Z"
    },
    "papermill": {
     "duration": 0.019264,
     "end_time": "2024-07-25T05:41:09.658585",
     "exception": false,
     "start_time": "2024-07-25T05:41:09.639321",
     "status": "completed"
    },
    "tags": []
   },
   "outputs": [
    {
     "name": "stdout",
     "output_type": "stream",
     "text": [
      "[46, 47, 47, 1, 58, 46, 43, 56, 43]\n",
      "hii there\n"
     ]
    }
   ],
   "source": [
    "# create two lookup tables in character level\n",
    "stoi={ch:i for i, ch in enumerate(chars)}\n",
    "itos={i:ch for i, ch in enumerate(chars)}\n",
    "\n",
    "\n",
    "encode=lambda s: [stoi[c] for c in s] # encoder: take a string, output a list of integer\n",
    "decode=lambda l: ''.join([itos[i] for i in l]) # decoder: take a list of integers, output a string\n",
    "    \n",
    "print(encode(\"hii there\"))\n",
    "print(decode(encode(\"hii there\")))"
   ]
  },
  {
   "cell_type": "markdown",
   "id": "b7bd0948",
   "metadata": {
    "papermill": {
     "duration": 0.007506,
     "end_time": "2024-07-25T05:41:09.673296",
     "exception": false,
     "start_time": "2024-07-25T05:41:09.665790",
     "status": "completed"
    },
    "tags": []
   },
   "source": [
    "## Encode the dataset and store it into a torch.Tensor"
   ]
  },
  {
   "cell_type": "code",
   "execution_count": 6,
   "id": "a21b992c",
   "metadata": {
    "execution": {
     "iopub.execute_input": "2024-07-25T05:41:09.689191Z",
     "iopub.status.busy": "2024-07-25T05:41:09.688775Z",
     "iopub.status.idle": "2024-07-25T05:41:13.562673Z",
     "shell.execute_reply": "2024-07-25T05:41:13.561407Z"
    },
    "papermill": {
     "duration": 3.884987,
     "end_time": "2024-07-25T05:41:13.565293",
     "exception": false,
     "start_time": "2024-07-25T05:41:09.680306",
     "status": "completed"
    },
    "tags": []
   },
   "outputs": [
    {
     "name": "stdout",
     "output_type": "stream",
     "text": [
      "torch.Size([1115394]) torch.int64\n",
      "tensor([18, 47, 56, 57, 58,  1, 15, 47, 58, 47, 64, 43, 52, 10,  0, 14, 43, 44,\n",
      "        53, 56, 43,  1, 61, 43,  1, 54, 56, 53, 41, 43, 43, 42,  1, 39, 52, 63,\n",
      "         1, 44, 59, 56, 58, 46, 43, 56,  6,  1, 46, 43, 39, 56,  1, 51, 43,  1,\n",
      "        57, 54, 43, 39, 49,  8,  0,  0, 13, 50, 50, 10,  0, 31, 54, 43, 39, 49,\n",
      "         6,  1, 57, 54, 43, 39, 49,  8,  0,  0, 18, 47, 56, 57, 58,  1, 15, 47,\n",
      "        58, 47, 64, 43, 52, 10,  0, 37, 53, 59])\n"
     ]
    }
   ],
   "source": [
    "import torch\n",
    "\n",
    "data=torch.tensor(encode(text), dtype=torch.long)\n",
    "print(data.shape, data.dtype)\n",
    "print(data[:100])"
   ]
  },
  {
   "cell_type": "markdown",
   "id": "0a076e1c",
   "metadata": {
    "papermill": {
     "duration": 0.00775,
     "end_time": "2024-07-25T05:41:13.580471",
     "exception": false,
     "start_time": "2024-07-25T05:41:13.572721",
     "status": "completed"
    },
    "tags": []
   },
   "source": [
    "# Split the dataset"
   ]
  },
  {
   "cell_type": "code",
   "execution_count": 7,
   "id": "7f6d7c17",
   "metadata": {
    "execution": {
     "iopub.execute_input": "2024-07-25T05:41:13.596795Z",
     "iopub.status.busy": "2024-07-25T05:41:13.596274Z",
     "iopub.status.idle": "2024-07-25T05:41:13.601855Z",
     "shell.execute_reply": "2024-07-25T05:41:13.600766Z"
    },
    "papermill": {
     "duration": 0.016382,
     "end_time": "2024-07-25T05:41:13.604076",
     "exception": false,
     "start_time": "2024-07-25T05:41:13.587694",
     "status": "completed"
    },
    "tags": []
   },
   "outputs": [],
   "source": [
    "n=int(0.9*len(data)) # first 90% will be train, rest val\n",
    "train_data=data[:n]\n",
    "val_data=data[n:]"
   ]
  },
  {
   "cell_type": "markdown",
   "id": "7877fdaf",
   "metadata": {
    "papermill": {
     "duration": 0.007115,
     "end_time": "2024-07-25T05:41:13.618714",
     "exception": false,
     "start_time": "2024-07-25T05:41:13.611599",
     "status": "completed"
    },
    "tags": []
   },
   "source": [
    "# Define the chunk(context) size\n",
    "\n",
    "Feed the entire text into model all at once that would be computationally very expensive and prohibitive. So, we only work with chunks of the dataset, like `tensor([18, 47, 56, 57, 58,  1, 15, 47, 58])`.\n",
    "\n",
    "When we plug it into a Transformer is we're going to actually simultaneously train it to make predict at every one of these positions. In the example below, these positions now in the chunk of nine characters there's actually eight individual examples packed in there. So there's the example that one 18 when in the context of 18 47 when in the context of 18 47 likely comes next. And in the context of 18 and 47 56 comes next in."
   ]
  },
  {
   "cell_type": "code",
   "execution_count": 8,
   "id": "eb34909b",
   "metadata": {
    "execution": {
     "iopub.execute_input": "2024-07-25T05:41:13.635800Z",
     "iopub.status.busy": "2024-07-25T05:41:13.634704Z",
     "iopub.status.idle": "2024-07-25T05:41:13.643675Z",
     "shell.execute_reply": "2024-07-25T05:41:13.642571Z"
    },
    "papermill": {
     "duration": 0.019715,
     "end_time": "2024-07-25T05:41:13.645947",
     "exception": false,
     "start_time": "2024-07-25T05:41:13.626232",
     "status": "completed"
    },
    "tags": []
   },
   "outputs": [
    {
     "data": {
      "text/plain": [
       "tensor([18, 47, 56, 57, 58,  1, 15, 47, 58])"
      ]
     },
     "execution_count": 8,
     "metadata": {},
     "output_type": "execute_result"
    }
   ],
   "source": [
    "# transformer will never receive more than block size inputs when it's predicting the \n",
    "# next chracter\n",
    "block_size=8\n",
    "train_data[:block_size+1]"
   ]
  },
  {
   "cell_type": "code",
   "execution_count": 9,
   "id": "bab329f3",
   "metadata": {
    "execution": {
     "iopub.execute_input": "2024-07-25T05:41:13.662268Z",
     "iopub.status.busy": "2024-07-25T05:41:13.661861Z",
     "iopub.status.idle": "2024-07-25T05:41:13.670965Z",
     "shell.execute_reply": "2024-07-25T05:41:13.669470Z"
    },
    "papermill": {
     "duration": 0.020229,
     "end_time": "2024-07-25T05:41:13.673514",
     "exception": false,
     "start_time": "2024-07-25T05:41:13.653285",
     "status": "completed"
    },
    "tags": []
   },
   "outputs": [
    {
     "name": "stdout",
     "output_type": "stream",
     "text": [
      "when input is tensor([18]) thr target: 47\n",
      "when input is tensor([18, 47]) thr target: 56\n",
      "when input is tensor([18, 47, 56]) thr target: 57\n",
      "when input is tensor([18, 47, 56, 57]) thr target: 58\n",
      "when input is tensor([18, 47, 56, 57, 58]) thr target: 1\n",
      "when input is tensor([18, 47, 56, 57, 58,  1]) thr target: 15\n",
      "when input is tensor([18, 47, 56, 57, 58,  1, 15]) thr target: 47\n",
      "when input is tensor([18, 47, 56, 57, 58,  1, 15, 47]) thr target: 58\n"
     ]
    }
   ],
   "source": [
    "x=train_data[:block_size]\n",
    "y=train_data[1:block_size+1]\n",
    "for t in range(block_size):\n",
    "    context=x[:t+1]\n",
    "    target=y[t]\n",
    "    print(f\"when input is {context} thr target: {target}\")"
   ]
  },
  {
   "cell_type": "markdown",
   "id": "1a1d75b8",
   "metadata": {
    "papermill": {
     "duration": 0.007078,
     "end_time": "2024-07-25T05:41:13.688051",
     "exception": false,
     "start_time": "2024-07-25T05:41:13.680973",
     "status": "completed"
    },
    "tags": []
   },
   "source": [
    "# Define batch dimension\n",
    "\n",
    "We're going to feed these chunks of text into a Transformer so we're going to have many batches of multiple chunks of text that are all like stacked up in a single tensor and that's just done for efficiency(We can keep the GPUs busy, because they are good at parallel processing of data.)\n",
    "\n",
    "We want to process multiple chunks all at the same time, but those chunks are procesed completely independently they don't talk to each other."
   ]
  },
  {
   "cell_type": "code",
   "execution_count": 10,
   "id": "aa25bedb",
   "metadata": {
    "execution": {
     "iopub.execute_input": "2024-07-25T05:41:13.704697Z",
     "iopub.status.busy": "2024-07-25T05:41:13.704316Z",
     "iopub.status.idle": "2024-07-25T05:41:13.749097Z",
     "shell.execute_reply": "2024-07-25T05:41:13.747395Z"
    },
    "papermill": {
     "duration": 0.056374,
     "end_time": "2024-07-25T05:41:13.751744",
     "exception": false,
     "start_time": "2024-07-25T05:41:13.695370",
     "status": "completed"
    },
    "tags": []
   },
   "outputs": [
    {
     "name": "stdout",
     "output_type": "stream",
     "text": [
      "inputs:\n",
      "torch.Size([4, 8])\n",
      "tensor([[24, 43, 58,  5, 57,  1, 46, 43],\n",
      "        [44, 53, 56,  1, 58, 46, 39, 58],\n",
      "        [52, 58,  1, 58, 46, 39, 58,  1],\n",
      "        [25, 17, 27, 10,  0, 21,  1, 54]])\n",
      "targets:\n",
      "torch.Size([4, 8])\n",
      "tensor([[43, 58,  5, 57,  1, 46, 43, 39],\n",
      "        [53, 56,  1, 58, 46, 39, 58,  1],\n",
      "        [58,  1, 58, 46, 39, 58,  1, 46],\n",
      "        [17, 27, 10,  0, 21,  1, 54, 39]])\n",
      "----\n",
      "when input is [24] the target: 43\n",
      "when input is [24, 43] the target: 58\n",
      "when input is [24, 43, 58] the target: 5\n",
      "when input is [24, 43, 58, 5] the target: 57\n",
      "when input is [24, 43, 58, 5, 57] the target: 1\n",
      "when input is [24, 43, 58, 5, 57, 1] the target: 46\n",
      "when input is [24, 43, 58, 5, 57, 1, 46] the target: 43\n",
      "when input is [24, 43, 58, 5, 57, 1, 46, 43] the target: 39\n",
      "when input is [44] the target: 53\n",
      "when input is [44, 53] the target: 56\n",
      "when input is [44, 53, 56] the target: 1\n",
      "when input is [44, 53, 56, 1] the target: 58\n",
      "when input is [44, 53, 56, 1, 58] the target: 46\n",
      "when input is [44, 53, 56, 1, 58, 46] the target: 39\n",
      "when input is [44, 53, 56, 1, 58, 46, 39] the target: 58\n",
      "when input is [44, 53, 56, 1, 58, 46, 39, 58] the target: 1\n",
      "when input is [52] the target: 58\n",
      "when input is [52, 58] the target: 1\n",
      "when input is [52, 58, 1] the target: 58\n",
      "when input is [52, 58, 1, 58] the target: 46\n",
      "when input is [52, 58, 1, 58, 46] the target: 39\n",
      "when input is [52, 58, 1, 58, 46, 39] the target: 58\n",
      "when input is [52, 58, 1, 58, 46, 39, 58] the target: 1\n",
      "when input is [52, 58, 1, 58, 46, 39, 58, 1] the target: 46\n",
      "when input is [25] the target: 17\n",
      "when input is [25, 17] the target: 27\n",
      "when input is [25, 17, 27] the target: 10\n",
      "when input is [25, 17, 27, 10] the target: 0\n",
      "when input is [25, 17, 27, 10, 0] the target: 21\n",
      "when input is [25, 17, 27, 10, 0, 21] the target: 1\n",
      "when input is [25, 17, 27, 10, 0, 21, 1] the target: 54\n",
      "when input is [25, 17, 27, 10, 0, 21, 1, 54] the target: 39\n"
     ]
    }
   ],
   "source": [
    "# Sampling random location in the dataset to pull chunks from\n",
    "# setting seed\n",
    "torch.manual_seed(1337)\n",
    "batch_size=4 # how many independent sequences will we proces in parallel?\n",
    "block_size=8 # what is the maximum context length for predictions?\n",
    "\n",
    "def get_batch(split):\n",
    "    # generate a smal;l batch of data of inputs x and targets y\n",
    "    data=train_data if split=='train' else val_data\n",
    "    ix=torch.randint(len(data)-block_size, (batch_size,)) # we are randomy generate batch_size(4) numbers between len(data)-block_size\n",
    "    x=torch.stack([data[i:i+block_size] for i in ix]) # stack one dimension tensor up at rows, they become a row in four by eight tensor\n",
    "    y=torch.stack([data[i+1:i+block_size+1] for i in ix])\n",
    "    return x,y\n",
    "\n",
    "xb,yb=get_batch('train')\n",
    "print('inputs:')\n",
    "print(xb.shape)\n",
    "print(xb)\n",
    "print('targets:')\n",
    "print(yb.shape)\n",
    "print(yb)\n",
    "\n",
    "print('----')\n",
    "\n",
    "for b in range(batch_size): # batch dimension\n",
    "    for t in range(block_size): # time dimension\n",
    "        context=xb[b, :t+1]\n",
    "        target=yb[b,t]\n",
    "        print(f\"when input is {context.tolist()} the target: {target}\")"
   ]
  },
  {
   "cell_type": "code",
   "execution_count": 11,
   "id": "c5efafb3",
   "metadata": {
    "execution": {
     "iopub.execute_input": "2024-07-25T05:41:13.768548Z",
     "iopub.status.busy": "2024-07-25T05:41:13.768122Z",
     "iopub.status.idle": "2024-07-25T05:41:13.774749Z",
     "shell.execute_reply": "2024-07-25T05:41:13.773526Z"
    },
    "papermill": {
     "duration": 0.017703,
     "end_time": "2024-07-25T05:41:13.777043",
     "exception": false,
     "start_time": "2024-07-25T05:41:13.759340",
     "status": "completed"
    },
    "tags": []
   },
   "outputs": [
    {
     "name": "stdout",
     "output_type": "stream",
     "text": [
      "tensor([[24, 43, 58,  5, 57,  1, 46, 43],\n",
      "        [44, 53, 56,  1, 58, 46, 39, 58],\n",
      "        [52, 58,  1, 58, 46, 39, 58,  1],\n",
      "        [25, 17, 27, 10,  0, 21,  1, 54]])\n"
     ]
    }
   ],
   "source": [
    "print(xb)"
   ]
  },
  {
   "cell_type": "markdown",
   "id": "d56415da",
   "metadata": {
    "papermill": {
     "duration": 0.007449,
     "end_time": "2024-07-25T05:41:13.792150",
     "exception": false,
     "start_time": "2024-07-25T05:41:13.784701",
     "status": "completed"
    },
    "tags": []
   },
   "source": [
    "# Define a biggram language model"
   ]
  },
  {
   "cell_type": "code",
   "execution_count": 12,
   "id": "3a40090d",
   "metadata": {
    "execution": {
     "iopub.execute_input": "2024-07-25T05:41:13.809149Z",
     "iopub.status.busy": "2024-07-25T05:41:13.808717Z",
     "iopub.status.idle": "2024-07-25T05:41:13.912162Z",
     "shell.execute_reply": "2024-07-25T05:41:13.910683Z"
    },
    "papermill": {
     "duration": 0.115055,
     "end_time": "2024-07-25T05:41:13.914749",
     "exception": false,
     "start_time": "2024-07-25T05:41:13.799694",
     "status": "completed"
    },
    "tags": []
   },
   "outputs": [
    {
     "name": "stdout",
     "output_type": "stream",
     "text": [
      "torch.Size([32, 65])\n",
      "tensor(4.8786, grad_fn=<NllLossBackward0>)\n",
      "\n",
      "Sr?qP-QWktXoL&jLDJgOLVz'RIoDqHdhsV&vLLxatjscMpwLERSPyao.qfzs$Ys$zF-w,;eEkzxjgCKFChs!iWW.ObzDnxA Ms$3\n"
     ]
    }
   ],
   "source": [
    "# import torch\n",
    "import torch.nn as nn\n",
    "from torch.nn import functional as F\n",
    "torch.manual_seed(1337)\n",
    "\n",
    "class BigramLanguageModel(nn.Module):\n",
    "    def __init__(self, vocab_size):\n",
    "        super().__init__()\n",
    "        # each token directly reads off the logits for the token from a lookup table\n",
    "        self.token_embedding_table=nn.Embedding(vocab_size, vocab_size)\n",
    "        \n",
    "    def forward(self, idx, targets=None):\n",
    "        # idx and targets are both (B,T) tensor of integers\n",
    "        logits=self.token_embedding_table(idx) # (B,T,C)->(batch size=4, Time=8, C: channel(vocabulary size):65 )\n",
    "        \n",
    "        if targets is None:\n",
    "            loss=None\n",
    "        else:\n",
    "            #F.cross_entropy wants B,C,T sequence, so, we need to reshape our logits.\n",
    "            B,T,C=logits.shape\n",
    "            logits=logits.view(B*T, C) # We stretching out the array to a two-dimensional array\n",
    "\n",
    "\n",
    "            targets=targets.view(B*T)\n",
    "\n",
    "            # the negative log likelihood loss\n",
    "            loss=F.cross_entropy(logits, targets)\n",
    "\n",
    "        return logits, loss # scores for the next character in the sequence\n",
    "    \n",
    "    def generate(self, idx, max_new_tokens):\n",
    "        \"\"\"\n",
    "        Take (B,T) and predict (B,T+1)\n",
    "        \"\"\"\n",
    "        # idx is (B,T) array of indices in the current context\n",
    "        for _ in range(max_new_tokens):\n",
    "            # get the predictions\n",
    "            logits, loss=self(idx) # end up going to the forward function\n",
    "            # focus only on the last time step\n",
    "            logits=logits[:,-1,:] # becomes (B,C) # pluck out the last dimension, it is the prediction for what comes next\n",
    "            # apply softmax to get probabilities\n",
    "            probs=F.softmax(logits, dim=-1) # (B,C)\n",
    "            # sample from the distribution\n",
    "            idx_next=torch.multinomial(probs, num_samples=1) # (B,1) # get one sample using torch.multinomial\n",
    "            # append sampled index to the running sequence\n",
    "            idx=torch.cat((idx, idx_next), dim=1) # (B, T+1)\n",
    "        return idx\n",
    "    \n",
    "m=BigramLanguageModel(vocab_size)\n",
    "logits, loss=m(xb,yb)\n",
    "print(logits.shape) # we got the scores for every 4 by 8 positions\n",
    "print(loss)\n",
    "\n",
    "print(decode(m.generate(idx=torch.zeros((1,1), dtype=torch.long), max_new_tokens=100)[0].tolist()))"
   ]
  },
  {
   "cell_type": "code",
   "execution_count": 13,
   "id": "89ff36ed",
   "metadata": {
    "execution": {
     "iopub.execute_input": "2024-07-25T05:41:13.933019Z",
     "iopub.status.busy": "2024-07-25T05:41:13.931838Z",
     "iopub.status.idle": "2024-07-25T05:41:13.939784Z",
     "shell.execute_reply": "2024-07-25T05:41:13.938470Z"
    },
    "papermill": {
     "duration": 0.019774,
     "end_time": "2024-07-25T05:41:13.942418",
     "exception": false,
     "start_time": "2024-07-25T05:41:13.922644",
     "status": "completed"
    },
    "tags": []
   },
   "outputs": [
    {
     "data": {
      "text/plain": [
       "<bound method Module.parameters of BigramLanguageModel(\n",
       "  (token_embedding_table): Embedding(65, 65)\n",
       ")>"
      ]
     },
     "execution_count": 13,
     "metadata": {},
     "output_type": "execute_result"
    }
   ],
   "source": [
    "m.parameters"
   ]
  },
  {
   "cell_type": "code",
   "execution_count": 14,
   "id": "7e689486",
   "metadata": {
    "execution": {
     "iopub.execute_input": "2024-07-25T05:41:13.961617Z",
     "iopub.status.busy": "2024-07-25T05:41:13.961176Z",
     "iopub.status.idle": "2024-07-25T05:41:13.970675Z",
     "shell.execute_reply": "2024-07-25T05:41:13.969418Z"
    },
    "papermill": {
     "duration": 0.022052,
     "end_time": "2024-07-25T05:41:13.973288",
     "exception": false,
     "start_time": "2024-07-25T05:41:13.951236",
     "status": "completed"
    },
    "tags": []
   },
   "outputs": [
    {
     "data": {
      "text/plain": [
       "OrderedDict([('token_embedding_table.weight',\n",
       "              tensor([[ 0.1808, -0.0700, -0.3596,  ...,  1.6097, -0.4032, -0.8345],\n",
       "                      [ 0.5978, -0.0514, -0.0646,  ..., -1.4649, -2.0555,  1.8275],\n",
       "                      [ 1.3035, -0.4501,  1.3471,  ...,  0.1910, -0.3425,  1.7955],\n",
       "                      ...,\n",
       "                      [ 0.4222, -1.8111, -1.0118,  ...,  0.5462,  0.2788,  0.7280],\n",
       "                      [-0.8109,  0.2410, -0.1139,  ...,  1.4509,  0.1836,  0.3064],\n",
       "                      [-1.4322, -0.2810, -2.2789,  ..., -0.5551,  1.0666,  0.5364]]))])"
      ]
     },
     "execution_count": 14,
     "metadata": {},
     "output_type": "execute_result"
    }
   ],
   "source": [
    "m.state_dict()"
   ]
  },
  {
   "cell_type": "code",
   "execution_count": 15,
   "id": "85555d1a",
   "metadata": {
    "execution": {
     "iopub.execute_input": "2024-07-25T05:41:13.991537Z",
     "iopub.status.busy": "2024-07-25T05:41:13.991116Z",
     "iopub.status.idle": "2024-07-25T05:41:13.997304Z",
     "shell.execute_reply": "2024-07-25T05:41:13.995926Z"
    },
    "papermill": {
     "duration": 0.018464,
     "end_time": "2024-07-25T05:41:13.999864",
     "exception": false,
     "start_time": "2024-07-25T05:41:13.981400",
     "status": "completed"
    },
    "tags": []
   },
   "outputs": [
    {
     "name": "stdout",
     "output_type": "stream",
     "text": [
      "0 -> BigramLanguageModel(\n",
      "  (token_embedding_table): Embedding(65, 65)\n",
      ")\n",
      "1 -> BigramLanguageModel(\n",
      "  (token_embedding_table): Embedding(65, 65)\n",
      ")\n"
     ]
    }
   ],
   "source": [
    "# https://pytorch.org/docs/stable/generated/torch.nn.Module.html#torch.nn.Module.modules\n",
    "for idx, n in enumerate(m.modules()):\n",
    "    print(idx, '->', m)"
   ]
  },
  {
   "cell_type": "markdown",
   "id": "cd647864",
   "metadata": {
    "papermill": {
     "duration": 0.007764,
     "end_time": "2024-07-25T05:41:14.015993",
     "exception": false,
     "start_time": "2024-07-25T05:41:14.008229",
     "status": "completed"
    },
    "tags": []
   },
   "source": [
    "# Define the optimizer"
   ]
  },
  {
   "cell_type": "code",
   "execution_count": 16,
   "id": "eef4c0ed",
   "metadata": {
    "execution": {
     "iopub.execute_input": "2024-07-25T05:41:14.034113Z",
     "iopub.status.busy": "2024-07-25T05:41:14.033689Z",
     "iopub.status.idle": "2024-07-25T05:41:15.553212Z",
     "shell.execute_reply": "2024-07-25T05:41:15.552100Z"
    },
    "papermill": {
     "duration": 1.531815,
     "end_time": "2024-07-25T05:41:15.555917",
     "exception": false,
     "start_time": "2024-07-25T05:41:14.024102",
     "status": "completed"
    },
    "tags": []
   },
   "outputs": [],
   "source": [
    "# create a PyTorch optimizer\n",
    "# Adam-> the simplest possible optimizer, we can use SGD instead\n",
    "\n",
    "# Adam is typically good with the learning rate 3E negative four\n",
    "optimizer = torch.optim.Adam(m.parameters(), lr=1e-3)"
   ]
  },
  {
   "cell_type": "markdown",
   "id": "60c3248d",
   "metadata": {
    "papermill": {
     "duration": 0.007754,
     "end_time": "2024-07-25T05:41:15.571900",
     "exception": false,
     "start_time": "2024-07-25T05:41:15.564146",
     "status": "completed"
    },
    "tags": []
   },
   "source": [
    "# Define the training loop"
   ]
  },
  {
   "cell_type": "code",
   "execution_count": 17,
   "id": "3d82d9b8",
   "metadata": {
    "execution": {
     "iopub.execute_input": "2024-07-25T05:41:15.590530Z",
     "iopub.status.busy": "2024-07-25T05:41:15.589530Z",
     "iopub.status.idle": "2024-07-25T05:41:31.357164Z",
     "shell.execute_reply": "2024-07-25T05:41:31.356086Z"
    },
    "papermill": {
     "duration": 15.77944,
     "end_time": "2024-07-25T05:41:31.359590",
     "exception": false,
     "start_time": "2024-07-25T05:41:15.580150",
     "status": "completed"
    },
    "tags": []
   },
   "outputs": [
    {
     "name": "stdout",
     "output_type": "stream",
     "text": [
      "2.572469472885132\n"
     ]
    }
   ],
   "source": [
    "batch_size=32\n",
    "for steps in range(10000):\n",
    "    # sample a batch of data\n",
    "    xb, yb = get_batch('train')\n",
    "    \n",
    "    # evaluate the loss\n",
    "    logits, loss=m(xb, yb)\n",
    "    optimizer.zero_grad(set_to_none=True) # zeroing out all the gradients from the previous step\n",
    "    loss.backward() # getting the gradients for all the parameters\n",
    "    optimizer.step() # using these gradients update out parameters\n",
    "    \n",
    "#     print(loss.item())\n",
    "\n",
    "print(loss.item())"
   ]
  },
  {
   "cell_type": "code",
   "execution_count": 18,
   "id": "3b805c32",
   "metadata": {
    "execution": {
     "iopub.execute_input": "2024-07-25T05:41:31.377564Z",
     "iopub.status.busy": "2024-07-25T05:41:31.377169Z",
     "iopub.status.idle": "2024-07-25T05:41:31.438699Z",
     "shell.execute_reply": "2024-07-25T05:41:31.437358Z"
    },
    "papermill": {
     "duration": 0.0733,
     "end_time": "2024-07-25T05:41:31.441197",
     "exception": false,
     "start_time": "2024-07-25T05:41:31.367897",
     "status": "completed"
    },
    "tags": []
   },
   "outputs": [
    {
     "name": "stdout",
     "output_type": "stream",
     "text": [
      "\n",
      "Iyoteng h hasbe pave pirance\n",
      "Rie hicomyonthar's\n",
      "Plinseard ith henoure wounonthioneir thondy, y heltieiengerofo'dsssit ey\n",
      "KIN d pe wither vouprrouthercckehathe; d!\n",
      "My hind tt hinig t ouchos tes; st yo hind wotte grotonear 'so it t jod weancotha:\n",
      "h hay.JUCle n prids, r loncave w hollular s O:\n",
      "HIs; ht anjx?\n",
      "\n",
      "DUThineent.\n",
      "\n",
      "Lavinde.\n",
      "athave l.\n",
      "KEONGBUCHandspo be y,-hedarwnoddy scace, tridesar, wne'shenous s ls, theresseys\n",
      "PlorseelapinghiybHen yof GLUCEN t l-t E:\n",
      "I hisgothers w dere! ABer wotouciullle's\n"
     ]
    }
   ],
   "source": [
    "print(decode(m.generate(idx=torch.zeros((1,1), dtype=torch.long), max_new_tokens=500)[0].tolist()))"
   ]
  },
  {
   "cell_type": "markdown",
   "id": "d31f37f0",
   "metadata": {
    "papermill": {
     "duration": 0.007987,
     "end_time": "2024-07-25T05:41:31.457526",
     "exception": false,
     "start_time": "2024-07-25T05:41:31.449539",
     "status": "completed"
    },
    "tags": []
   },
   "source": [
    "# Acknowledgements\n",
    "\n",
    "* https://youtu.be/kCc8FmEb1nY?si=6rdQ4iGCj-icyrtT\n",
    "* https://www.kaggle.com/code/aisuko/character-lm-without-framework"
   ]
  }
 ],
 "metadata": {
  "kaggle": {
   "accelerator": "none",
   "dataSources": [],
   "dockerImageVersionId": 30746,
   "isGpuEnabled": false,
   "isInternetEnabled": true,
   "language": "python",
   "sourceType": "notebook"
  },
  "kernelspec": {
   "display_name": "Python 3",
   "language": "python",
   "name": "python3"
  },
  "language_info": {
   "codemirror_mode": {
    "name": "ipython",
    "version": 3
   },
   "file_extension": ".py",
   "mimetype": "text/x-python",
   "name": "python",
   "nbconvert_exporter": "python",
   "pygments_lexer": "ipython3",
   "version": "3.10.13"
  },
  "papermill": {
   "default_parameters": {},
   "duration": 28.104306,
   "end_time": "2024-07-25T05:41:32.488873",
   "environment_variables": {},
   "exception": null,
   "input_path": "__notebook__.ipynb",
   "output_path": "__notebook__.ipynb",
   "parameters": {},
   "start_time": "2024-07-25T05:41:04.384567",
   "version": "2.5.0"
  }
 },
 "nbformat": 4,
 "nbformat_minor": 5
}
