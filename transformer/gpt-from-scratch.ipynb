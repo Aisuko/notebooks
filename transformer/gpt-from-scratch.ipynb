{
 "cells": [
  {
   "cell_type": "markdown",
   "id": "b55c9ca6",
   "metadata": {
    "papermill": {
     "duration": 0.009043,
     "end_time": "2024-07-25T02:16:24.500689",
     "exception": false,
     "start_time": "2024-07-25T02:16:24.491646",
     "status": "completed"
    },
    "tags": []
   },
   "source": [
    "# Overview\n",
    "\n",
    "We are going to build a Generativelt Pretrained Transformer(GPT), following the paper \"Attention is All You Need\".\n",
    "\n",
    "# Build the dataset"
   ]
  },
  {
   "cell_type": "code",
   "execution_count": 1,
   "id": "bb353066",
   "metadata": {
    "_cell_guid": "b1076dfc-b9ad-4769-8c92-a6c4dae69d19",
    "_uuid": "8f2839f25d086af736a60e9eeb907d3b93b6e0e5",
    "execution": {
     "iopub.execute_input": "2024-07-25T02:16:24.518799Z",
     "iopub.status.busy": "2024-07-25T02:16:24.518366Z",
     "iopub.status.idle": "2024-07-25T02:16:25.964860Z",
     "shell.execute_reply": "2024-07-25T02:16:25.963392Z"
    },
    "papermill": {
     "duration": 1.459148,
     "end_time": "2024-07-25T02:16:25.968003",
     "exception": false,
     "start_time": "2024-07-25T02:16:24.508855",
     "status": "completed"
    },
    "tags": []
   },
   "outputs": [
    {
     "name": "stdout",
     "output_type": "stream",
     "text": [
      "--2024-07-25 02:16:25--  https://raw.githubusercontent.com/karpathy/char-rnn/master/data/tinyshakespeare/input.txt\r\n",
      "Resolving raw.githubusercontent.com (raw.githubusercontent.com)... 185.199.111.133, 185.199.110.133, 185.199.109.133, ...\r\n",
      "Connecting to raw.githubusercontent.com (raw.githubusercontent.com)|185.199.111.133|:443... connected.\r\n",
      "HTTP request sent, awaiting response... 200 OK\r\n",
      "Length: 1115394 (1.1M) [text/plain]\r\n",
      "Saving to: 'names.txt'\r\n",
      "\r\n",
      "names.txt           100%[===================>]   1.06M  --.-KB/s    in 0.04s   \r\n",
      "\r\n",
      "2024-07-25 02:16:25 (24.0 MB/s) - 'names.txt' saved [1115394/1115394]\r\n",
      "\r\n"
     ]
    }
   ],
   "source": [
    "!wget -O names.txt https://raw.githubusercontent.com/karpathy/char-rnn/master/data/tinyshakespeare/input.txt"
   ]
  },
  {
   "cell_type": "code",
   "execution_count": 2,
   "id": "a51351e1",
   "metadata": {
    "execution": {
     "iopub.execute_input": "2024-07-25T02:16:25.989221Z",
     "iopub.status.busy": "2024-07-25T02:16:25.988004Z",
     "iopub.status.idle": "2024-07-25T02:16:25.998119Z",
     "shell.execute_reply": "2024-07-25T02:16:25.996781Z"
    },
    "papermill": {
     "duration": 0.024127,
     "end_time": "2024-07-25T02:16:26.001140",
     "exception": false,
     "start_time": "2024-07-25T02:16:25.977013",
     "status": "completed"
    },
    "tags": []
   },
   "outputs": [
    {
     "name": "stdout",
     "output_type": "stream",
     "text": [
      "length of dataset in chracters: 1115394\n"
     ]
    }
   ],
   "source": [
    "with open('/kaggle/working/names.txt', 'r', encoding='utf-8') as f:\n",
    "    text=f.read()\n",
    "    \n",
    "print(\"length of dataset in chracters:\", len(text))"
   ]
  },
  {
   "cell_type": "code",
   "execution_count": 3,
   "id": "79063a56",
   "metadata": {
    "_kg_hide-output": true,
    "execution": {
     "iopub.execute_input": "2024-07-25T02:16:26.020920Z",
     "iopub.status.busy": "2024-07-25T02:16:26.020525Z",
     "iopub.status.idle": "2024-07-25T02:16:26.026655Z",
     "shell.execute_reply": "2024-07-25T02:16:26.025392Z"
    },
    "papermill": {
     "duration": 0.01922,
     "end_time": "2024-07-25T02:16:26.029721",
     "exception": false,
     "start_time": "2024-07-25T02:16:26.010501",
     "status": "completed"
    },
    "tags": []
   },
   "outputs": [
    {
     "name": "stdout",
     "output_type": "stream",
     "text": [
      "First Citizen:\n",
      "Before we proceed any further, hear me speak.\n",
      "\n",
      "All:\n",
      "Speak, speak.\n",
      "\n",
      "First Citizen:\n",
      "You are all resolved rather to die than to famish?\n",
      "\n",
      "All:\n",
      "Resolved. resolved.\n",
      "\n",
      "First Citizen:\n",
      "First, you know Caius Marcius is chief enemy to the people.\n",
      "\n",
      "All:\n",
      "We know't, we know't.\n",
      "\n",
      "First Citizen:\n",
      "Let us kill him, and we'll have corn at our own price.\n",
      "Is't a verdict?\n",
      "\n",
      "All:\n",
      "No more talking on't; let it be done: away, away!\n",
      "\n",
      "Second Citizen:\n",
      "One word, good citizens.\n",
      "\n",
      "First Citizen:\n",
      "We are accounted poor citizens, the patricians good.\n",
      "What authority surfeits on would relieve us: if they\n",
      "would yield us but the superfluity, while it were\n",
      "wholesome, we might guess they relieved us humanely;\n",
      "but they think we are too dear: the leanness that\n",
      "afflicts us, the object of our misery, is as an\n",
      "inventory to particularise their abundance; our\n",
      "sufferance is a gain to them Let us revenge this with\n",
      "our pikes, ere we become rakes: for the gods know I\n",
      "speak this in hunger for bread, not in thirst for revenge.\n",
      "\n",
      "\n"
     ]
    }
   ],
   "source": [
    "print(text[:1000])"
   ]
  },
  {
   "cell_type": "markdown",
   "id": "edf97ed2",
   "metadata": {
    "papermill": {
     "duration": 0.009031,
     "end_time": "2024-07-25T02:16:26.047521",
     "exception": false,
     "start_time": "2024-07-25T02:16:26.038490",
     "status": "completed"
    },
    "tags": []
   },
   "source": [
    "## Unique characters that occur in this text"
   ]
  },
  {
   "cell_type": "code",
   "execution_count": 4,
   "id": "a23257cc",
   "metadata": {
    "execution": {
     "iopub.execute_input": "2024-07-25T02:16:26.067079Z",
     "iopub.status.busy": "2024-07-25T02:16:26.066647Z",
     "iopub.status.idle": "2024-07-25T02:16:26.092392Z",
     "shell.execute_reply": "2024-07-25T02:16:26.091091Z"
    },
    "papermill": {
     "duration": 0.038996,
     "end_time": "2024-07-25T02:16:26.095356",
     "exception": false,
     "start_time": "2024-07-25T02:16:26.056360",
     "status": "completed"
    },
    "tags": []
   },
   "outputs": [
    {
     "name": "stdout",
     "output_type": "stream",
     "text": [
      "\n",
      " !$&',-.3:;?ABCDEFGHIJKLMNOPQRSTUVWXYZabcdefghijklmnopqrstuvwxyz\n",
      "65\n"
     ]
    }
   ],
   "source": [
    "chars=sorted(list(set(text)))\n",
    "vocab_size=len(chars)\n",
    "print(''.join(chars))\n",
    "print(vocab_size)"
   ]
  },
  {
   "cell_type": "markdown",
   "id": "a543cf54",
   "metadata": {
    "papermill": {
     "duration": 0.008704,
     "end_time": "2024-07-25T02:16:26.113024",
     "exception": false,
     "start_time": "2024-07-25T02:16:26.104320",
     "status": "completed"
    },
    "tags": []
   },
   "source": [
    "# Tokenize the text\n",
    "\n",
    "We want to convert the raw text as a string to some sequence of integers according to some vocabulary of possible elements.\n",
    "\n",
    "## Create vocabulary"
   ]
  },
  {
   "cell_type": "code",
   "execution_count": 5,
   "id": "b8cdb564",
   "metadata": {
    "execution": {
     "iopub.execute_input": "2024-07-25T02:16:26.133022Z",
     "iopub.status.busy": "2024-07-25T02:16:26.132252Z",
     "iopub.status.idle": "2024-07-25T02:16:26.141187Z",
     "shell.execute_reply": "2024-07-25T02:16:26.139710Z"
    },
    "papermill": {
     "duration": 0.022339,
     "end_time": "2024-07-25T02:16:26.144237",
     "exception": false,
     "start_time": "2024-07-25T02:16:26.121898",
     "status": "completed"
    },
    "tags": []
   },
   "outputs": [
    {
     "name": "stdout",
     "output_type": "stream",
     "text": [
      "[46, 47, 47, 1, 58, 46, 43, 56, 43]\n",
      "hii there\n"
     ]
    }
   ],
   "source": [
    "# create two lookup tables in character level\n",
    "stoi={ch:i for i, ch in enumerate(chars)}\n",
    "itos={i:ch for i, ch in enumerate(chars)}\n",
    "\n",
    "\n",
    "encode=lambda s: [stoi[c] for c in s] # encoder: take a string, output a list of integer\n",
    "decode=lambda l: ''.join([itos[i] for i in l]) # decoder: take a list of integers, output a string\n",
    "    \n",
    "print(encode(\"hii there\"))\n",
    "print(decode(encode(\"hii there\")))"
   ]
  },
  {
   "cell_type": "markdown",
   "id": "35e8d278",
   "metadata": {
    "papermill": {
     "duration": 0.008549,
     "end_time": "2024-07-25T02:16:26.161817",
     "exception": false,
     "start_time": "2024-07-25T02:16:26.153268",
     "status": "completed"
    },
    "tags": []
   },
   "source": [
    "## Encode the dataset and store it into a torch.Tensor"
   ]
  },
  {
   "cell_type": "code",
   "execution_count": 6,
   "id": "7228a9ac",
   "metadata": {
    "execution": {
     "iopub.execute_input": "2024-07-25T02:16:26.183210Z",
     "iopub.status.busy": "2024-07-25T02:16:26.182161Z",
     "iopub.status.idle": "2024-07-25T02:16:30.483208Z",
     "shell.execute_reply": "2024-07-25T02:16:30.481681Z"
    },
    "papermill": {
     "duration": 4.314975,
     "end_time": "2024-07-25T02:16:30.486052",
     "exception": false,
     "start_time": "2024-07-25T02:16:26.171077",
     "status": "completed"
    },
    "tags": []
   },
   "outputs": [
    {
     "name": "stdout",
     "output_type": "stream",
     "text": [
      "torch.Size([1115394]) torch.int64\n",
      "tensor([18, 47, 56, 57, 58,  1, 15, 47, 58, 47, 64, 43, 52, 10,  0, 14, 43, 44,\n",
      "        53, 56, 43,  1, 61, 43,  1, 54, 56, 53, 41, 43, 43, 42,  1, 39, 52, 63,\n",
      "         1, 44, 59, 56, 58, 46, 43, 56,  6,  1, 46, 43, 39, 56,  1, 51, 43,  1,\n",
      "        57, 54, 43, 39, 49,  8,  0,  0, 13, 50, 50, 10,  0, 31, 54, 43, 39, 49,\n",
      "         6,  1, 57, 54, 43, 39, 49,  8,  0,  0, 18, 47, 56, 57, 58,  1, 15, 47,\n",
      "        58, 47, 64, 43, 52, 10,  0, 37, 53, 59])\n"
     ]
    }
   ],
   "source": [
    "import torch\n",
    "\n",
    "data=torch.tensor(encode(text), dtype=torch.long)\n",
    "print(data.shape, data.dtype)\n",
    "print(data[:100])"
   ]
  },
  {
   "cell_type": "markdown",
   "id": "e702c49b",
   "metadata": {
    "papermill": {
     "duration": 0.009506,
     "end_time": "2024-07-25T02:16:30.504917",
     "exception": false,
     "start_time": "2024-07-25T02:16:30.495411",
     "status": "completed"
    },
    "tags": []
   },
   "source": [
    "# Split the dataset"
   ]
  },
  {
   "cell_type": "code",
   "execution_count": 7,
   "id": "51ada64e",
   "metadata": {
    "execution": {
     "iopub.execute_input": "2024-07-25T02:16:30.525292Z",
     "iopub.status.busy": "2024-07-25T02:16:30.524743Z",
     "iopub.status.idle": "2024-07-25T02:16:30.530631Z",
     "shell.execute_reply": "2024-07-25T02:16:30.529443Z"
    },
    "papermill": {
     "duration": 0.019076,
     "end_time": "2024-07-25T02:16:30.533268",
     "exception": false,
     "start_time": "2024-07-25T02:16:30.514192",
     "status": "completed"
    },
    "tags": []
   },
   "outputs": [],
   "source": [
    "n=int(0.9*len(data)) # first 90% will be train, rest val\n",
    "train_data=data[:n]\n",
    "val_data=data[n:]"
   ]
  },
  {
   "cell_type": "markdown",
   "id": "32fb0c01",
   "metadata": {
    "papermill": {
     "duration": 0.009319,
     "end_time": "2024-07-25T02:16:30.551694",
     "exception": false,
     "start_time": "2024-07-25T02:16:30.542375",
     "status": "completed"
    },
    "tags": []
   },
   "source": [
    "# Define the chunk(context) size\n",
    "\n",
    "Feed the entire text into model all at once that would be computationally very expensive and prohibitive. So, we only work with chunks of the dataset, like `tensor([18, 47, 56, 57, 58,  1, 15, 47, 58])`.\n",
    "\n",
    "When we plug it into a Transformer is we're going to actually simultaneously train it to make predict at every one of these positions. In the example below, these positions now in the chunk of nine characters there's actually eight individual examples packed in there. So there's the example that one 18 when in the context of 18 47 when in the context of 18 47 likely comes next. And in the context of 18 and 47 56 comes next in."
   ]
  },
  {
   "cell_type": "code",
   "execution_count": 8,
   "id": "9ee0076d",
   "metadata": {
    "execution": {
     "iopub.execute_input": "2024-07-25T02:16:30.572863Z",
     "iopub.status.busy": "2024-07-25T02:16:30.572427Z",
     "iopub.status.idle": "2024-07-25T02:16:30.582459Z",
     "shell.execute_reply": "2024-07-25T02:16:30.581189Z"
    },
    "papermill": {
     "duration": 0.023326,
     "end_time": "2024-07-25T02:16:30.585030",
     "exception": false,
     "start_time": "2024-07-25T02:16:30.561704",
     "status": "completed"
    },
    "tags": []
   },
   "outputs": [
    {
     "data": {
      "text/plain": [
       "tensor([18, 47, 56, 57, 58,  1, 15, 47, 58])"
      ]
     },
     "execution_count": 8,
     "metadata": {},
     "output_type": "execute_result"
    }
   ],
   "source": [
    "# transformer will never receive more than block size inputs when it's predicting the \n",
    "# next chracter\n",
    "block_size=8\n",
    "train_data[:block_size+1]"
   ]
  },
  {
   "cell_type": "code",
   "execution_count": 9,
   "id": "4d50fa89",
   "metadata": {
    "execution": {
     "iopub.execute_input": "2024-07-25T02:16:30.607544Z",
     "iopub.status.busy": "2024-07-25T02:16:30.606581Z",
     "iopub.status.idle": "2024-07-25T02:16:30.616077Z",
     "shell.execute_reply": "2024-07-25T02:16:30.614531Z"
    },
    "papermill": {
     "duration": 0.024508,
     "end_time": "2024-07-25T02:16:30.618855",
     "exception": false,
     "start_time": "2024-07-25T02:16:30.594347",
     "status": "completed"
    },
    "tags": []
   },
   "outputs": [
    {
     "name": "stdout",
     "output_type": "stream",
     "text": [
      "when input is tensor([18]) thr target: 47\n",
      "when input is tensor([18, 47]) thr target: 56\n",
      "when input is tensor([18, 47, 56]) thr target: 57\n",
      "when input is tensor([18, 47, 56, 57]) thr target: 58\n",
      "when input is tensor([18, 47, 56, 57, 58]) thr target: 1\n",
      "when input is tensor([18, 47, 56, 57, 58,  1]) thr target: 15\n",
      "when input is tensor([18, 47, 56, 57, 58,  1, 15]) thr target: 47\n",
      "when input is tensor([18, 47, 56, 57, 58,  1, 15, 47]) thr target: 58\n"
     ]
    }
   ],
   "source": [
    "x=train_data[:block_size]\n",
    "y=train_data[1:block_size+1]\n",
    "for t in range(block_size):\n",
    "    context=x[:t+1]\n",
    "    target=y[t]\n",
    "    print(f\"when input is {context} thr target: {target}\")"
   ]
  },
  {
   "cell_type": "markdown",
   "id": "64a6590a",
   "metadata": {
    "papermill": {
     "duration": 0.008991,
     "end_time": "2024-07-25T02:16:30.637492",
     "exception": false,
     "start_time": "2024-07-25T02:16:30.628501",
     "status": "completed"
    },
    "tags": []
   },
   "source": [
    "# Define batch dimension\n",
    "\n",
    "We're going to feed these chunks of text into a Transformer so we're going to have many batches of multiple chunks of text that are all like stacked up in a single tensor and that's just done for efficiency(We can keep the GPUs busy, because they are good at parallel processing of data.)\n",
    "\n",
    "We want to process multiple chunks all at the same time, but those chunks are procesed completely independently they don't talk to each other."
   ]
  },
  {
   "cell_type": "code",
   "execution_count": 10,
   "id": "cb1e0ed9",
   "metadata": {
    "execution": {
     "iopub.execute_input": "2024-07-25T02:16:30.658286Z",
     "iopub.status.busy": "2024-07-25T02:16:30.657843Z",
     "iopub.status.idle": "2024-07-25T02:16:30.701446Z",
     "shell.execute_reply": "2024-07-25T02:16:30.699630Z"
    },
    "papermill": {
     "duration": 0.056868,
     "end_time": "2024-07-25T02:16:30.704064",
     "exception": false,
     "start_time": "2024-07-25T02:16:30.647196",
     "status": "completed"
    },
    "tags": []
   },
   "outputs": [
    {
     "name": "stdout",
     "output_type": "stream",
     "text": [
      "inputs:\n",
      "torch.Size([4, 8])\n",
      "tensor([[24, 43, 58,  5, 57,  1, 46, 43],\n",
      "        [44, 53, 56,  1, 58, 46, 39, 58],\n",
      "        [52, 58,  1, 58, 46, 39, 58,  1],\n",
      "        [25, 17, 27, 10,  0, 21,  1, 54]])\n",
      "targets:\n",
      "torch.Size([4, 8])\n",
      "tensor([[43, 58,  5, 57,  1, 46, 43, 39],\n",
      "        [53, 56,  1, 58, 46, 39, 58,  1],\n",
      "        [58,  1, 58, 46, 39, 58,  1, 46],\n",
      "        [17, 27, 10,  0, 21,  1, 54, 39]])\n",
      "----\n",
      "when input is [24] the target: 43\n",
      "when input is [24, 43] the target: 58\n",
      "when input is [24, 43, 58] the target: 5\n",
      "when input is [24, 43, 58, 5] the target: 57\n",
      "when input is [24, 43, 58, 5, 57] the target: 1\n",
      "when input is [24, 43, 58, 5, 57, 1] the target: 46\n",
      "when input is [24, 43, 58, 5, 57, 1, 46] the target: 43\n",
      "when input is [24, 43, 58, 5, 57, 1, 46, 43] the target: 39\n",
      "when input is [44] the target: 53\n",
      "when input is [44, 53] the target: 56\n",
      "when input is [44, 53, 56] the target: 1\n",
      "when input is [44, 53, 56, 1] the target: 58\n",
      "when input is [44, 53, 56, 1, 58] the target: 46\n",
      "when input is [44, 53, 56, 1, 58, 46] the target: 39\n",
      "when input is [44, 53, 56, 1, 58, 46, 39] the target: 58\n",
      "when input is [44, 53, 56, 1, 58, 46, 39, 58] the target: 1\n",
      "when input is [52] the target: 58\n",
      "when input is [52, 58] the target: 1\n",
      "when input is [52, 58, 1] the target: 58\n",
      "when input is [52, 58, 1, 58] the target: 46\n",
      "when input is [52, 58, 1, 58, 46] the target: 39\n",
      "when input is [52, 58, 1, 58, 46, 39] the target: 58\n",
      "when input is [52, 58, 1, 58, 46, 39, 58] the target: 1\n",
      "when input is [52, 58, 1, 58, 46, 39, 58, 1] the target: 46\n",
      "when input is [25] the target: 17\n",
      "when input is [25, 17] the target: 27\n",
      "when input is [25, 17, 27] the target: 10\n",
      "when input is [25, 17, 27, 10] the target: 0\n",
      "when input is [25, 17, 27, 10, 0] the target: 21\n",
      "when input is [25, 17, 27, 10, 0, 21] the target: 1\n",
      "when input is [25, 17, 27, 10, 0, 21, 1] the target: 54\n",
      "when input is [25, 17, 27, 10, 0, 21, 1, 54] the target: 39\n"
     ]
    }
   ],
   "source": [
    "# Sampling random location in the dataset to pull chunks from\n",
    "# setting seed\n",
    "torch.manual_seed(1337)\n",
    "batch_size=4 # how many independent sequences will we proces in parallel?\n",
    "block_size=8 # what is the maximum context length for predictions?\n",
    "\n",
    "def get_batch(split):\n",
    "    # generate a smal;l batch of data of inputs x and targets y\n",
    "    data=train_data if split=='train' else val_data\n",
    "    ix=torch.randint(len(data)-block_size, (batch_size,)) # we are randomy generate batch_size(4) numbers between len(data)-block_size\n",
    "    x=torch.stack([data[i:i+block_size] for i in ix]) # stack one dimension tensor up at rows, they become a row in four by eight tensor\n",
    "    y=torch.stack([data[i+1:i+block_size+1] for i in ix])\n",
    "    return x,y\n",
    "\n",
    "xb,yb=get_batch('train')\n",
    "print('inputs:')\n",
    "print(xb.shape)\n",
    "print(xb)\n",
    "print('targets:')\n",
    "print(yb.shape)\n",
    "print(yb)\n",
    "\n",
    "print('----')\n",
    "\n",
    "for b in range(batch_size): # batch dimension\n",
    "    for t in range(block_size): # time dimension\n",
    "        context=xb[b, :t+1]\n",
    "        target=yb[b,t]\n",
    "        print(f\"when input is {context.tolist()} the target: {target}\")"
   ]
  },
  {
   "cell_type": "code",
   "execution_count": 11,
   "id": "dc2aafe6",
   "metadata": {
    "execution": {
     "iopub.execute_input": "2024-07-25T02:16:30.725050Z",
     "iopub.status.busy": "2024-07-25T02:16:30.724589Z",
     "iopub.status.idle": "2024-07-25T02:16:30.731775Z",
     "shell.execute_reply": "2024-07-25T02:16:30.730460Z"
    },
    "papermill": {
     "duration": 0.020863,
     "end_time": "2024-07-25T02:16:30.734501",
     "exception": false,
     "start_time": "2024-07-25T02:16:30.713638",
     "status": "completed"
    },
    "tags": []
   },
   "outputs": [
    {
     "name": "stdout",
     "output_type": "stream",
     "text": [
      "tensor([[24, 43, 58,  5, 57,  1, 46, 43],\n",
      "        [44, 53, 56,  1, 58, 46, 39, 58],\n",
      "        [52, 58,  1, 58, 46, 39, 58,  1],\n",
      "        [25, 17, 27, 10,  0, 21,  1, 54]])\n"
     ]
    }
   ],
   "source": [
    "print(xb)"
   ]
  },
  {
   "cell_type": "markdown",
   "id": "24fcbe8c",
   "metadata": {
    "papermill": {
     "duration": 0.009184,
     "end_time": "2024-07-25T02:16:30.753228",
     "exception": false,
     "start_time": "2024-07-25T02:16:30.744044",
     "status": "completed"
    },
    "tags": []
   },
   "source": [
    "# Define a biggram language model"
   ]
  },
  {
   "cell_type": "code",
   "execution_count": 12,
   "id": "ab958880",
   "metadata": {
    "execution": {
     "iopub.execute_input": "2024-07-25T02:16:30.774534Z",
     "iopub.status.busy": "2024-07-25T02:16:30.774109Z",
     "iopub.status.idle": "2024-07-25T02:16:30.887353Z",
     "shell.execute_reply": "2024-07-25T02:16:30.885826Z"
    },
    "papermill": {
     "duration": 0.127535,
     "end_time": "2024-07-25T02:16:30.890548",
     "exception": false,
     "start_time": "2024-07-25T02:16:30.763013",
     "status": "completed"
    },
    "tags": []
   },
   "outputs": [
    {
     "name": "stdout",
     "output_type": "stream",
     "text": [
      "torch.Size([32, 65])\n",
      "tensor(4.8786, grad_fn=<NllLossBackward0>)\n",
      "\n",
      "Sr?qP-QWktXoL&jLDJgOLVz'RIoDqHdhsV&vLLxatjscMpwLERSPyao.qfzs$Ys$zF-w,;eEkzxjgCKFChs!iWW.ObzDnxA Ms$3\n"
     ]
    }
   ],
   "source": [
    "# import torch\n",
    "import torch.nn as nn\n",
    "from torch.nn import functional as F\n",
    "torch.manual_seed(1337)\n",
    "\n",
    "class BigramLanguageModel(nn.Module):\n",
    "    def __init__(self, vocab_size):\n",
    "        super().__init__()\n",
    "        # each token directly reads off the logits for the token from a lookup table\n",
    "        self.token_embedding_table=nn.Embedding(vocab_size, vocab_size)\n",
    "        \n",
    "    def forward(self, idx, targets=None):\n",
    "        # idx and targets are both (B,T) tensor of integers\n",
    "        logits=self.token_embedding_table(idx) # (B,T,C)->(batch size=4, Time=8, C: channel(vocabulary size):65 )\n",
    "        \n",
    "        if targets is None:\n",
    "            loss=None\n",
    "        else:\n",
    "            #F.cross_entropy wants B,C,T sequence, so, we need to reshape our logits.\n",
    "            B,T,C=logits.shape\n",
    "            logits=logits.view(B*T, C) # We stretching out the array to a two-dimensional array\n",
    "\n",
    "\n",
    "            targets=targets.view(B*T)\n",
    "\n",
    "            # the negative log likelihood loss\n",
    "            loss=F.cross_entropy(logits, targets)\n",
    "\n",
    "        return logits, loss # scores for the next character in the sequence\n",
    "    \n",
    "    def generate(self, idx, max_new_tokens):\n",
    "        \"\"\"\n",
    "        Take (B,T) and predict (B,T+1)\n",
    "        \"\"\"\n",
    "        # idx is (B,T) array of indices in the current context\n",
    "        for _ in range(max_new_tokens):\n",
    "            # get the predictions\n",
    "            logits, loss=self(idx) # end up going to the forward function\n",
    "            # focus only on the last time step\n",
    "            logits=logits[:,-1,:] # becomes (B,C) # pluck out the last dimension, it is the prediction for what comes next\n",
    "            # apply softmax to get probabilities\n",
    "            probs=F.softmax(logits, dim=-1) # (B,C)\n",
    "            # sample from the distribution\n",
    "            idx_next=torch.multinomial(probs, num_samples=1) # (B,1) # get one sample using torch.multinomial\n",
    "            # append sampled index to the running sequence\n",
    "            idx=torch.cat((idx, idx_next), dim=1) # (B, T+1)\n",
    "        return idx\n",
    "    \n",
    "m=BigramLanguageModel(vocab_size)\n",
    "logits, loss=m(xb,yb)\n",
    "print(logits.shape) # we got the scores for every 4 by 8 positions\n",
    "print(loss)\n",
    "\n",
    "print(decode(m.generate(idx=torch.zeros((1,1), dtype=torch.long), max_new_tokens=100)[0].tolist()))"
   ]
  },
  {
   "cell_type": "markdown",
   "id": "c56beadd",
   "metadata": {
    "papermill": {
     "duration": 0.00937,
     "end_time": "2024-07-25T02:16:30.910123",
     "exception": false,
     "start_time": "2024-07-25T02:16:30.900753",
     "status": "completed"
    },
    "tags": []
   },
   "source": [
    "# Define the optimizer"
   ]
  },
  {
   "cell_type": "code",
   "execution_count": 13,
   "id": "82753a94",
   "metadata": {
    "execution": {
     "iopub.execute_input": "2024-07-25T02:16:30.933198Z",
     "iopub.status.busy": "2024-07-25T02:16:30.932065Z",
     "iopub.status.idle": "2024-07-25T02:16:32.735536Z",
     "shell.execute_reply": "2024-07-25T02:16:32.734564Z"
    },
    "papermill": {
     "duration": 1.817959,
     "end_time": "2024-07-25T02:16:32.738281",
     "exception": false,
     "start_time": "2024-07-25T02:16:30.920322",
     "status": "completed"
    },
    "tags": []
   },
   "outputs": [],
   "source": [
    "# create a PyTorch optimizer\n",
    "# Adam-> the simplest possible optimizer, we can use SGD instead\n",
    "\n",
    "# Adam is typically good with the learning rate 3E negative four\n",
    "optimizer = torch.optim.Adam(m.parameters(), lr=1e-3)"
   ]
  },
  {
   "cell_type": "markdown",
   "id": "1ee298ea",
   "metadata": {
    "papermill": {
     "duration": 0.009275,
     "end_time": "2024-07-25T02:16:32.757300",
     "exception": false,
     "start_time": "2024-07-25T02:16:32.748025",
     "status": "completed"
    },
    "tags": []
   },
   "source": [
    "# Define the training loop"
   ]
  },
  {
   "cell_type": "code",
   "execution_count": 14,
   "id": "1a9c2b54",
   "metadata": {
    "execution": {
     "iopub.execute_input": "2024-07-25T02:16:32.778799Z",
     "iopub.status.busy": "2024-07-25T02:16:32.778149Z",
     "iopub.status.idle": "2024-07-25T02:16:52.847189Z",
     "shell.execute_reply": "2024-07-25T02:16:52.845838Z"
    },
    "papermill": {
     "duration": 20.08291,
     "end_time": "2024-07-25T02:16:52.850004",
     "exception": false,
     "start_time": "2024-07-25T02:16:32.767094",
     "status": "completed"
    },
    "tags": []
   },
   "outputs": [
    {
     "name": "stdout",
     "output_type": "stream",
     "text": [
      "2.572469472885132\n"
     ]
    }
   ],
   "source": [
    "batch_size=32\n",
    "for steps in range(10000):\n",
    "    # sample a batch of data\n",
    "    xb, yb = get_batch('train')\n",
    "    \n",
    "    # evaluate the loss\n",
    "    logits, loss=m(xb, yb)\n",
    "    optimizer.zero_grad(set_to_none=True) # zeroing out all the gradients from the previous step\n",
    "    loss.backward() # getting the gradients for all the parameters\n",
    "    optimizer.step() # using these gradients update out parameters\n",
    "    \n",
    "#     print(loss.item())\n",
    "\n",
    "print(loss.item())"
   ]
  },
  {
   "cell_type": "code",
   "execution_count": 15,
   "id": "84bab94d",
   "metadata": {
    "execution": {
     "iopub.execute_input": "2024-07-25T02:16:52.871903Z",
     "iopub.status.busy": "2024-07-25T02:16:52.871129Z",
     "iopub.status.idle": "2024-07-25T02:16:52.944099Z",
     "shell.execute_reply": "2024-07-25T02:16:52.942919Z"
    },
    "papermill": {
     "duration": 0.086727,
     "end_time": "2024-07-25T02:16:52.946777",
     "exception": false,
     "start_time": "2024-07-25T02:16:52.860050",
     "status": "completed"
    },
    "tags": []
   },
   "outputs": [
    {
     "name": "stdout",
     "output_type": "stream",
     "text": [
      "\n",
      "Iyoteng h hasbe pave pirance\n",
      "Rie hicomyonthar's\n",
      "Plinseard ith henoure wounonthioneir thondy, y heltieiengerofo'dsssit ey\n",
      "KIN d pe wither vouprrouthercckehathe; d!\n",
      "My hind tt hinig t ouchos tes; st yo hind wotte grotonear 'so it t jod weancotha:\n",
      "h hay.JUCle n prids, r loncave w hollular s O:\n",
      "HIs; ht anjx?\n",
      "\n",
      "DUThineent.\n",
      "\n",
      "Lavinde.\n",
      "athave l.\n",
      "KEONGBUCHandspo be y,-hedarwnoddy scace, tridesar, wne'shenous s ls, theresseys\n",
      "PlorseelapinghiybHen yof GLUCEN t l-t E:\n",
      "I hisgothers w dere! ABer wotouciullle's\n"
     ]
    }
   ],
   "source": [
    "print(decode(m.generate(idx=torch.zeros((1,1), dtype=torch.long), max_new_tokens=500)[0].tolist()))"
   ]
  },
  {
   "cell_type": "markdown",
   "id": "ac88843f",
   "metadata": {
    "papermill": {
     "duration": 0.009376,
     "end_time": "2024-07-25T02:16:52.966034",
     "exception": false,
     "start_time": "2024-07-25T02:16:52.956658",
     "status": "completed"
    },
    "tags": []
   },
   "source": [
    "# Acknowledgements\n",
    "\n",
    "* https://youtu.be/kCc8FmEb1nY?si=6rdQ4iGCj-icyrtT\n",
    "* https://www.kaggle.com/code/aisuko/character-lm-without-framework"
   ]
  }
 ],
 "metadata": {
  "kaggle": {
   "accelerator": "none",
   "dataSources": [],
   "dockerImageVersionId": 30746,
   "isGpuEnabled": false,
   "isInternetEnabled": true,
   "language": "python",
   "sourceType": "notebook"
  },
  "kernelspec": {
   "display_name": "Python 3",
   "language": "python",
   "name": "python3"
  },
  "language_info": {
   "codemirror_mode": {
    "name": "ipython",
    "version": 3
   },
   "file_extension": ".py",
   "mimetype": "text/x-python",
   "name": "python",
   "nbconvert_exporter": "python",
   "pygments_lexer": "ipython3",
   "version": "3.10.13"
  },
  "papermill": {
   "default_parameters": {},
   "duration": 32.838304,
   "end_time": "2024-07-25T02:16:54.100524",
   "environment_variables": {},
   "exception": null,
   "input_path": "__notebook__.ipynb",
   "output_path": "__notebook__.ipynb",
   "parameters": {},
   "start_time": "2024-07-25T02:16:21.262220",
   "version": "2.5.0"
  }
 },
 "nbformat": 4,
 "nbformat_minor": 5
}
