{
 "cells": [
  {
   "cell_type": "markdown",
   "id": "12e963f3",
   "metadata": {
    "papermill": {
     "duration": 0.015442,
     "end_time": "2024-08-25T01:07:35.531526",
     "exception": false,
     "start_time": "2024-08-25T01:07:35.516084",
     "status": "completed"
    },
    "tags": []
   },
   "source": [
    "# Overview\n",
    "\n",
    "Note: Learning note of Daniel warfield article [BERT — Intuitively and Exhaustively Explained](https://medium.com/towards-data-science/bert-intuitively-and-exhaustively-explained-48a24ecc1c8a)\n",
    "\n",
    "Some code were wisted by the author."
   ]
  },
  {
   "cell_type": "code",
   "execution_count": 1,
   "id": "510b3c89",
   "metadata": {
    "_cell_guid": "b1076dfc-b9ad-4769-8c92-a6c4dae69d19",
    "_uuid": "8f2839f25d086af736a60e9eeb907d3b93b6e0e5",
    "execution": {
     "iopub.execute_input": "2024-08-25T01:07:35.562978Z",
     "iopub.status.busy": "2024-08-25T01:07:35.561819Z",
     "iopub.status.idle": "2024-08-25T01:08:39.220044Z",
     "shell.execute_reply": "2024-08-25T01:08:39.218951Z"
    },
    "papermill": {
     "duration": 63.676521,
     "end_time": "2024-08-25T01:08:39.222717",
     "exception": false,
     "start_time": "2024-08-25T01:07:35.546196",
     "status": "completed"
    },
    "tags": []
   },
   "outputs": [
    {
     "name": "stdout",
     "output_type": "stream",
     "text": [
      "\u001b[31mERROR: pip's dependency resolver does not currently take into account all the packages that are installed. This behaviour is the source of the following dependency conflicts.\r\n",
      "cudf 24.8.2 requires cubinlinker, which is not installed.\r\n",
      "cudf 24.8.2 requires cupy-cuda11x>=12.0.0, which is not installed.\r\n",
      "cudf 24.8.2 requires ptxcompiler, which is not installed.\r\n",
      "cuml 24.8.0 requires cupy-cuda11x>=12.0.0, which is not installed.\r\n",
      "dask-cudf 24.8.2 requires cupy-cuda11x>=12.0.0, which is not installed.\r\n",
      "bigframes 0.22.0 requires google-cloud-bigquery[bqstorage,pandas]>=3.10.0, but you have google-cloud-bigquery 2.34.4 which is incompatible.\r\n",
      "bigframes 0.22.0 requires google-cloud-storage>=2.0.0, but you have google-cloud-storage 1.44.0 which is incompatible.\r\n",
      "bigframes 0.22.0 requires pandas<2.1.4,>=1.5.0, but you have pandas 2.2.2 which is incompatible.\r\n",
      "cudf 24.8.2 requires cuda-python<12.0a0,>=11.7.1, but you have cuda-python 12.6.0 which is incompatible.\r\n",
      "dataproc-jupyter-plugin 0.1.79 requires pydantic~=1.10.0, but you have pydantic 2.8.2 which is incompatible.\r\n",
      "distributed 2024.7.1 requires dask==2024.7.1, but you have dask 2024.8.1 which is incompatible.\r\n",
      "gcsfs 2024.6.1 requires fsspec==2024.6.1, but you have fsspec 2024.2.0 which is incompatible.\r\n",
      "rapids-dask-dependency 24.8.0a0 requires dask==2024.7.1, but you have dask 2024.8.1 which is incompatible.\r\n",
      "s3fs 2024.6.1 requires fsspec==2024.6.1.*, but you have fsspec 2024.2.0 which is incompatible.\u001b[0m\u001b[31m\r\n",
      "\u001b[0m\u001b[31mERROR: pip's dependency resolver does not currently take into account all the packages that are installed. This behaviour is the source of the following dependency conflicts.\r\n",
      "preprocessing 0.1.13 requires nltk==3.2.4, but you have nltk 3.9.1 which is incompatible.\u001b[0m\u001b[31m\r\n",
      "\u001b[0m"
     ]
    }
   ],
   "source": [
    "!pip install -U -q transformers==4.39.3\n",
    "!pip install -U -q datasets==2.18.0\n",
    "!pip install -U -q nltk==3.9.1"
   ]
  },
  {
   "cell_type": "markdown",
   "id": "87b55b51",
   "metadata": {
    "papermill": {
     "duration": 0.016259,
     "end_time": "2024-08-25T01:08:39.254950",
     "exception": false,
     "start_time": "2024-08-25T01:08:39.238691",
     "status": "completed"
    },
    "tags": []
   },
   "source": [
    "# Load dataset"
   ]
  },
  {
   "cell_type": "code",
   "execution_count": 2,
   "id": "8cbf5ca0",
   "metadata": {
    "execution": {
     "iopub.execute_input": "2024-08-25T01:08:39.285814Z",
     "iopub.status.busy": "2024-08-25T01:08:39.285017Z",
     "iopub.status.idle": "2024-08-25T01:08:46.666988Z",
     "shell.execute_reply": "2024-08-25T01:08:46.666047Z"
    },
    "papermill": {
     "duration": 7.400476,
     "end_time": "2024-08-25T01:08:46.669517",
     "exception": false,
     "start_time": "2024-08-25T01:08:39.269041",
     "status": "completed"
    },
    "tags": []
   },
   "outputs": [
    {
     "data": {
      "application/vnd.jupyter.widget-view+json": {
       "model_id": "23fc79031af64b9b857b07fe998887bc",
       "version_major": 2,
       "version_minor": 0
      },
      "text/plain": [
       "Downloading builder script:   0%|          | 0.00/36.7k [00:00<?, ?B/s]"
      ]
     },
     "metadata": {},
     "output_type": "display_data"
    },
    {
     "data": {
      "application/vnd.jupyter.widget-view+json": {
       "model_id": "af617c059f0342f9a12d03b7cbfd5680",
       "version_major": 2,
       "version_minor": 0
      },
      "text/plain": [
       "Downloading readme:   0%|          | 0.00/16.0k [00:00<?, ?B/s]"
      ]
     },
     "metadata": {},
     "output_type": "display_data"
    }
   ],
   "source": [
    "from datasets import load_dataset\n",
    "\n",
    "dataset = load_dataset(\"wikipedia\", \"20220301.en\", trust_remote_code=True, streaming=True)"
   ]
  },
  {
   "cell_type": "markdown",
   "id": "41c510cb",
   "metadata": {
    "papermill": {
     "duration": 0.014743,
     "end_time": "2024-08-25T01:08:46.699618",
     "exception": false,
     "start_time": "2024-08-25T01:08:46.684875",
     "status": "completed"
    },
    "tags": []
   },
   "source": [
    "# Extract sentences from articles"
   ]
  },
  {
   "cell_type": "code",
   "execution_count": 3,
   "id": "12bac59c",
   "metadata": {
    "execution": {
     "iopub.execute_input": "2024-08-25T01:08:46.731110Z",
     "iopub.status.busy": "2024-08-25T01:08:46.730459Z",
     "iopub.status.idle": "2024-08-25T01:08:48.399682Z",
     "shell.execute_reply": "2024-08-25T01:08:48.398416Z"
    },
    "papermill": {
     "duration": 1.687866,
     "end_time": "2024-08-25T01:08:48.402015",
     "exception": false,
     "start_time": "2024-08-25T01:08:46.714149",
     "status": "completed"
    },
    "tags": []
   },
   "outputs": [
    {
     "name": "stderr",
     "output_type": "stream",
     "text": [
      "[nltk_data] Downloading package punkt to /usr/share/nltk_data...\n",
      "[nltk_data]   Package punkt is already up-to-date!\n",
      "[nltk_data] Downloading package punkt_tab to /usr/share/nltk_data...\n",
      "[nltk_data]   Unzipping tokenizers/punkt_tab.zip.\n"
     ]
    },
    {
     "data": {
      "text/plain": [
       "True"
      ]
     },
     "execution_count": 3,
     "metadata": {},
     "output_type": "execute_result"
    }
   ],
   "source": [
    "import nltk\n",
    "\n",
    "nltk.download('punkt')\n",
    "nltk.download('punkt_tab')"
   ]
  },
  {
   "cell_type": "code",
   "execution_count": 4,
   "id": "ede2e7e9",
   "metadata": {
    "_kg_hide-output": true,
    "execution": {
     "iopub.execute_input": "2024-08-25T01:08:48.435380Z",
     "iopub.status.busy": "2024-08-25T01:08:48.434334Z",
     "iopub.status.idle": "2024-08-25T01:08:49.954329Z",
     "shell.execute_reply": "2024-08-25T01:08:49.953015Z"
    },
    "papermill": {
     "duration": 1.539324,
     "end_time": "2024-08-25T01:08:49.956981",
     "exception": false,
     "start_time": "2024-08-25T01:08:48.417657",
     "status": "completed"
    },
    "tags": []
   },
   "outputs": [
    {
     "name": "stdout",
     "output_type": "stream",
     "text": [
      "Archive:  /usr/share/nltk_data/corpora/wordnet.zip\r\n",
      "   creating: /usr/share/nltk_data/corpora/wordnet/\r\n",
      "  inflating: /usr/share/nltk_data/corpora/wordnet/lexnames  \r\n",
      "  inflating: /usr/share/nltk_data/corpora/wordnet/data.verb  \r\n",
      "  inflating: /usr/share/nltk_data/corpora/wordnet/index.adv  \r\n",
      "  inflating: /usr/share/nltk_data/corpora/wordnet/adv.exc  \r\n",
      "  inflating: /usr/share/nltk_data/corpora/wordnet/index.verb  \r\n",
      "  inflating: /usr/share/nltk_data/corpora/wordnet/cntlist.rev  \r\n",
      "  inflating: /usr/share/nltk_data/corpora/wordnet/data.adj  \r\n",
      "  inflating: /usr/share/nltk_data/corpora/wordnet/index.adj  \r\n",
      "  inflating: /usr/share/nltk_data/corpora/wordnet/LICENSE  \r\n",
      "  inflating: /usr/share/nltk_data/corpora/wordnet/citation.bib  \r\n",
      "  inflating: /usr/share/nltk_data/corpora/wordnet/noun.exc  \r\n",
      "  inflating: /usr/share/nltk_data/corpora/wordnet/verb.exc  \r\n",
      "  inflating: /usr/share/nltk_data/corpora/wordnet/README  \r\n",
      "  inflating: /usr/share/nltk_data/corpora/wordnet/index.sense  \r\n",
      "  inflating: /usr/share/nltk_data/corpora/wordnet/data.noun  \r\n",
      "  inflating: /usr/share/nltk_data/corpora/wordnet/data.adv  \r\n",
      "  inflating: /usr/share/nltk_data/corpora/wordnet/index.noun  \r\n",
      "  inflating: /usr/share/nltk_data/corpora/wordnet/adj.exc  \r\n"
     ]
    }
   ],
   "source": [
    "! unzip /usr/share/nltk_data/corpora/wordnet.zip -d /usr/share/nltk_data/corpora/"
   ]
  },
  {
   "cell_type": "code",
   "execution_count": 5,
   "id": "fcde306d",
   "metadata": {
    "execution": {
     "iopub.execute_input": "2024-08-25T01:08:49.989638Z",
     "iopub.status.busy": "2024-08-25T01:08:49.989200Z",
     "iopub.status.idle": "2024-08-25T01:08:52.338291Z",
     "shell.execute_reply": "2024-08-25T01:08:52.337126Z"
    },
    "papermill": {
     "duration": 2.368602,
     "end_time": "2024-08-25T01:08:52.340861",
     "exception": false,
     "start_time": "2024-08-25T01:08:49.972259",
     "status": "completed"
    },
    "tags": []
   },
   "outputs": [
    {
     "data": {
      "text/plain": [
       "498"
      ]
     },
     "execution_count": 5,
     "metadata": {},
     "output_type": "execute_result"
    }
   ],
   "source": [
    "import itertools\n",
    "\n",
    "num_articles=10\n",
    "\n",
    "dataset_iter = iter(dataset['train'])\n",
    "\n",
    "# getting n articles\n",
    "articles=list(itertools.islice(dataset_iter, num_articles))\n",
    "\n",
    "# getting paragraphs\n",
    "paragraphs=[]\n",
    "for article in articles:\n",
    "    paragraphs.extend(article['text'].splitlines())\n",
    "\n",
    "# filtering paragraphs so they're hopefully actually paragraphs\n",
    "paragraps=[p for p in paragraphs if len(p)>50]\n",
    "\n",
    "#dividing paragraphs into sentences\n",
    "divided_paragraphs = []\n",
    "for p in paragraphs:\n",
    "    divided_paragraphs.append(nltk.sent_tokenize(p))\n",
    "\n",
    "#only using paragraphs with 3 or more sentences\n",
    "divided_paragraphs = [pls for pls in divided_paragraphs if len(pls)>=3]\n",
    "len(divided_paragraphs)"
   ]
  },
  {
   "cell_type": "markdown",
   "id": "b5fc2728",
   "metadata": {
    "papermill": {
     "duration": 0.016472,
     "end_time": "2024-08-25T01:08:52.374290",
     "exception": false,
     "start_time": "2024-08-25T01:08:52.357818",
     "status": "completed"
    },
    "tags": []
   },
   "source": [
    "# Constructing positive pairs and nagetive pairs"
   ]
  },
  {
   "cell_type": "code",
   "execution_count": 6,
   "id": "5502dac2",
   "metadata": {
    "execution": {
     "iopub.execute_input": "2024-08-25T01:08:52.408842Z",
     "iopub.status.busy": "2024-08-25T01:08:52.408146Z",
     "iopub.status.idle": "2024-08-25T01:08:52.429823Z",
     "shell.execute_reply": "2024-08-25T01:08:52.428836Z"
    },
    "papermill": {
     "duration": 0.041665,
     "end_time": "2024-08-25T01:08:52.432167",
     "exception": false,
     "start_time": "2024-08-25T01:08:52.390502",
     "status": "completed"
    },
    "tags": []
   },
   "outputs": [
    {
     "data": {
      "text/plain": [
       "1873"
      ]
     },
     "execution_count": 6,
     "metadata": {},
     "output_type": "execute_result"
    }
   ],
   "source": [
    "import random\n",
    "\n",
    "positive_pairs = []\n",
    "negative_pairs = []\n",
    "\n",
    "num_paragraphs = len(divided_paragraphs)\n",
    "\n",
    "for i, paragraph in enumerate(divided_paragraphs):\n",
    "    for j in range(len(paragraph)-1):\n",
    "        positive_pairs.append((paragraph[j], paragraph[j+1]))\n",
    "        rand_par = i\n",
    "        while rand_par == i:\n",
    "            rand_par = random.randint(0, num_paragraphs-1)\n",
    "        rand_sent = random.randint(0, len(divided_paragraphs[rand_par])-1)\n",
    "        negative_pairs.append((paragraph[j], divided_paragraphs[rand_par][rand_sent]))\n",
    "        \n",
    "len(positive_pairs)"
   ]
  },
  {
   "cell_type": "markdown",
   "id": "e039ed6e",
   "metadata": {
    "papermill": {
     "duration": 0.016612,
     "end_time": "2024-08-25T01:08:52.465114",
     "exception": false,
     "start_time": "2024-08-25T01:08:52.448502",
     "status": "completed"
    },
    "tags": []
   },
   "source": [
    "# Setting up tokenization"
   ]
  },
  {
   "cell_type": "code",
   "execution_count": 7,
   "id": "27493ee8",
   "metadata": {
    "execution": {
     "iopub.execute_input": "2024-08-25T01:08:52.498417Z",
     "iopub.status.busy": "2024-08-25T01:08:52.498011Z",
     "iopub.status.idle": "2024-08-25T01:08:54.661276Z",
     "shell.execute_reply": "2024-08-25T01:08:54.660229Z"
    },
    "papermill": {
     "duration": 2.182527,
     "end_time": "2024-08-25T01:08:54.663762",
     "exception": false,
     "start_time": "2024-08-25T01:08:52.481235",
     "status": "completed"
    },
    "tags": []
   },
   "outputs": [
    {
     "name": "stderr",
     "output_type": "stream",
     "text": [
      "/opt/conda/lib/python3.10/site-packages/huggingface_hub/file_download.py:1150: FutureWarning: `resume_download` is deprecated and will be removed in version 1.0.0. Downloads always resume when possible. If you want to force a new download, use `force_download=True`.\n",
      "  warnings.warn(\n"
     ]
    },
    {
     "data": {
      "application/vnd.jupyter.widget-view+json": {
       "model_id": "002d6eedf75a4696954a5e5a1de980dd",
       "version_major": 2,
       "version_minor": 0
      },
      "text/plain": [
       "tokenizer_config.json:   0%|          | 0.00/48.0 [00:00<?, ?B/s]"
      ]
     },
     "metadata": {},
     "output_type": "display_data"
    },
    {
     "data": {
      "application/vnd.jupyter.widget-view+json": {
       "model_id": "e22e66e82a654e5187b4c25a712257b4",
       "version_major": 2,
       "version_minor": 0
      },
      "text/plain": [
       "vocab.txt:   0%|          | 0.00/232k [00:00<?, ?B/s]"
      ]
     },
     "metadata": {},
     "output_type": "display_data"
    },
    {
     "data": {
      "application/vnd.jupyter.widget-view+json": {
       "model_id": "d3b37d0c710b4cff8ec6a277a04eb925",
       "version_major": 2,
       "version_minor": 0
      },
      "text/plain": [
       "tokenizer.json:   0%|          | 0.00/466k [00:00<?, ?B/s]"
      ]
     },
     "metadata": {},
     "output_type": "display_data"
    },
    {
     "data": {
      "application/vnd.jupyter.widget-view+json": {
       "model_id": "e427c40a2e814ca9af6f62fe256c1a4c",
       "version_major": 2,
       "version_minor": 0
      },
      "text/plain": [
       "config.json:   0%|          | 0.00/570 [00:00<?, ?B/s]"
      ]
     },
     "metadata": {},
     "output_type": "display_data"
    },
    {
     "data": {
      "text/plain": [
       "BertTokenizerFast(name_or_path='google-bert/bert-base-uncased', vocab_size=30522, model_max_length=512, is_fast=True, padding_side='right', truncation_side='right', special_tokens={'unk_token': '[UNK]', 'sep_token': '[SEP]', 'pad_token': '[PAD]', 'cls_token': '[CLS]', 'mask_token': '[MASK]'}, clean_up_tokenization_spaces=True),  added_tokens_decoder={\n",
       "\t0: AddedToken(\"[PAD]\", rstrip=False, lstrip=False, single_word=False, normalized=False, special=True),\n",
       "\t100: AddedToken(\"[UNK]\", rstrip=False, lstrip=False, single_word=False, normalized=False, special=True),\n",
       "\t101: AddedToken(\"[CLS]\", rstrip=False, lstrip=False, single_word=False, normalized=False, special=True),\n",
       "\t102: AddedToken(\"[SEP]\", rstrip=False, lstrip=False, single_word=False, normalized=False, special=True),\n",
       "\t103: AddedToken(\"[MASK]\", rstrip=False, lstrip=False, single_word=False, normalized=False, special=True),\n",
       "}"
      ]
     },
     "execution_count": 7,
     "metadata": {},
     "output_type": "execute_result"
    }
   ],
   "source": [
    "from transformers.models.bert.tokenization_bert_fast import BertTokenizerFast\n",
    "\n",
    "tokenizer=BertTokenizerFast.from_pretrained(\"google-bert/bert-base-uncased\")\n",
    "tokenizer"
   ]
  },
  {
   "cell_type": "markdown",
   "id": "674e0a71",
   "metadata": {
    "papermill": {
     "duration": 0.017366,
     "end_time": "2024-08-25T01:08:54.698455",
     "exception": false,
     "start_time": "2024-08-25T01:08:54.681089",
     "status": "completed"
    },
    "tags": []
   },
   "source": [
    "## Testing tokenizer"
   ]
  },
  {
   "cell_type": "code",
   "execution_count": 8,
   "id": "a96ca33c",
   "metadata": {
    "execution": {
     "iopub.execute_input": "2024-08-25T01:08:54.735380Z",
     "iopub.status.busy": "2024-08-25T01:08:54.734407Z",
     "iopub.status.idle": "2024-08-25T01:08:54.741934Z",
     "shell.execute_reply": "2024-08-25T01:08:54.740946Z"
    },
    "papermill": {
     "duration": 0.028284,
     "end_time": "2024-08-25T01:08:54.744332",
     "exception": false,
     "start_time": "2024-08-25T01:08:54.716048",
     "status": "completed"
    },
    "tags": []
   },
   "outputs": [
    {
     "name": "stdout",
     "output_type": "stream",
     "text": [
      "original sentence: \"Here's a weird word: Withoutadoubricus.\"\n",
      "token IDs: [[101, 2182, 1005, 1055, 1037, 6881, 2773, 1024, 2302, 9365, 12083, 7277, 2271, 1012, 102]]\n",
      "token values: ['[CLS]', 'here', \"'\", 's', 'a', 'weird', 'word', ':', 'without', '##ado', '##ub', '##ric', '##us', '.', '[SEP]']\n"
     ]
    }
   ],
   "source": [
    "sentence=\"Here's a weird word: Withoutadoubricus.\"\n",
    "print(f'original sentence: \"{sentence}\"')\n",
    "demo_tokens=tokenizer([sentence])\n",
    "print(f\"token IDs: {demo_tokens['input_ids']}\")\n",
    "tokens=tokenizer.convert_ids_to_tokens(demo_tokens['input_ids'][0])\n",
    "print(f'token values: {tokens}')"
   ]
  },
  {
   "cell_type": "code",
   "execution_count": 9,
   "id": "737338bd",
   "metadata": {
    "execution": {
     "iopub.execute_input": "2024-08-25T01:08:54.779056Z",
     "iopub.status.busy": "2024-08-25T01:08:54.778265Z",
     "iopub.status.idle": "2024-08-25T01:08:54.784511Z",
     "shell.execute_reply": "2024-08-25T01:08:54.783432Z"
    },
    "papermill": {
     "duration": 0.026133,
     "end_time": "2024-08-25T01:08:54.786975",
     "exception": false,
     "start_time": "2024-08-25T01:08:54.760842",
     "status": "completed"
    },
    "tags": []
   },
   "outputs": [
    {
     "name": "stdout",
     "output_type": "stream",
     "text": [
      "{'input_ids': [[101, 2182, 1005, 1055, 1037, 6881, 2773, 1024, 2302, 9365, 12083, 29587, 102]], 'token_type_ids': [[0, 0, 0, 0, 0, 0, 0, 0, 0, 0, 0, 0, 0]], 'attention_mask': [[1, 1, 1, 1, 1, 1, 1, 1, 1, 1, 1, 1, 1]]}\n"
     ]
    }
   ],
   "source": [
    "print(tokenizer([\"Here's a weird word: Withoutadoubticus\"]))"
   ]
  },
  {
   "cell_type": "code",
   "execution_count": 10,
   "id": "9e993f28",
   "metadata": {
    "execution": {
     "iopub.execute_input": "2024-08-25T01:08:54.822858Z",
     "iopub.status.busy": "2024-08-25T01:08:54.822439Z",
     "iopub.status.idle": "2024-08-25T01:09:06.277751Z",
     "shell.execute_reply": "2024-08-25T01:09:06.276707Z"
    },
    "papermill": {
     "duration": 11.475751,
     "end_time": "2024-08-25T01:09:06.280184",
     "exception": false,
     "start_time": "2024-08-25T01:08:54.804433",
     "status": "completed"
    },
    "tags": []
   },
   "outputs": [
    {
     "data": {
      "text/plain": [
       "\"[CLS] here's a weird word : withoutadoubricus. [SEP]\""
      ]
     },
     "execution_count": 10,
     "metadata": {},
     "output_type": "execute_result"
    }
   ],
   "source": [
    "decoded_string=tokenizer.decode(demo_tokens['input_ids'][0], skip_special_tokens=False)\n",
    "decoded_string"
   ]
  },
  {
   "cell_type": "code",
   "execution_count": 11,
   "id": "300167b6",
   "metadata": {
    "execution": {
     "iopub.execute_input": "2024-08-25T01:09:06.318029Z",
     "iopub.status.busy": "2024-08-25T01:09:06.317270Z",
     "iopub.status.idle": "2024-08-25T01:09:06.324258Z",
     "shell.execute_reply": "2024-08-25T01:09:06.323268Z"
    },
    "papermill": {
     "duration": 0.028346,
     "end_time": "2024-08-25T01:09:06.326657",
     "exception": false,
     "start_time": "2024-08-25T01:09:06.298311",
     "status": "completed"
    },
    "tags": []
   },
   "outputs": [
    {
     "data": {
      "text/plain": [
       "30522"
      ]
     },
     "execution_count": 11,
     "metadata": {},
     "output_type": "execute_result"
    }
   ],
   "source": [
    "tokenizer.vocab_size"
   ]
  },
  {
   "cell_type": "code",
   "execution_count": 12,
   "id": "20c8c9f5",
   "metadata": {
    "execution": {
     "iopub.execute_input": "2024-08-25T01:09:06.363426Z",
     "iopub.status.busy": "2024-08-25T01:09:06.363008Z",
     "iopub.status.idle": "2024-08-25T01:09:06.369661Z",
     "shell.execute_reply": "2024-08-25T01:09:06.368706Z"
    },
    "papermill": {
     "duration": 0.027586,
     "end_time": "2024-08-25T01:09:06.371827",
     "exception": false,
     "start_time": "2024-08-25T01:09:06.344241",
     "status": "completed"
    },
    "tags": []
   },
   "outputs": [
    {
     "data": {
      "text/plain": [
       "dict_keys([0, 100, 101, 102, 103])"
      ]
     },
     "execution_count": 12,
     "metadata": {},
     "output_type": "execute_result"
    }
   ],
   "source": [
    "tokenizer.added_tokens_decoder.keys()"
   ]
  },
  {
   "cell_type": "markdown",
   "id": "2c34fa08",
   "metadata": {
    "papermill": {
     "duration": 0.017751,
     "end_time": "2024-08-25T01:09:06.407254",
     "exception": false,
     "start_time": "2024-08-25T01:09:06.389503",
     "status": "completed"
    },
    "tags": []
   },
   "source": [
    "# Create batch\n",
    "\n",
    "It's different from original paper, but similar."
   ]
  },
  {
   "cell_type": "code",
   "execution_count": 13,
   "id": "6b0c5fe9",
   "metadata": {
    "execution": {
     "iopub.execute_input": "2024-08-25T01:09:06.444794Z",
     "iopub.status.busy": "2024-08-25T01:09:06.443814Z",
     "iopub.status.idle": "2024-08-25T01:09:06.452406Z",
     "shell.execute_reply": "2024-08-25T01:09:06.451403Z"
    },
    "papermill": {
     "duration": 0.029912,
     "end_time": "2024-08-25T01:09:06.454726",
     "exception": false,
     "start_time": "2024-08-25T01:09:06.424814",
     "status": "completed"
    },
    "tags": []
   },
   "outputs": [],
   "source": [
    "from random import shuffle\n",
    "\n",
    "shuffle(positive_pairs)\n",
    "shuffle(negative_pairs)"
   ]
  },
  {
   "cell_type": "code",
   "execution_count": 14,
   "id": "b9435dd6",
   "metadata": {
    "execution": {
     "iopub.execute_input": "2024-08-25T01:09:06.491976Z",
     "iopub.status.busy": "2024-08-25T01:09:06.491589Z",
     "iopub.status.idle": "2024-08-25T01:09:08.424634Z",
     "shell.execute_reply": "2024-08-25T01:09:08.423516Z"
    },
    "papermill": {
     "duration": 1.955387,
     "end_time": "2024-08-25T01:09:08.427402",
     "exception": false,
     "start_time": "2024-08-25T01:09:06.472015",
     "status": "completed"
    },
    "tags": []
   },
   "outputs": [
    {
     "name": "stderr",
     "output_type": "stream",
     "text": [
      "/opt/conda/lib/python3.10/multiprocessing/popen_fork.py:66: RuntimeWarning: os.fork() was called. os.fork() is incompatible with multithreaded code, and JAX is multithreaded, so this will likely lead to a deadlock.\n",
      "  self.pid = os.fork()\n",
      "huggingface/tokenizers: The current process just got forked, after parallelism has already been used. Disabling parallelism to avoid deadlocks...\n",
      "To disable this warning, you can either:\n",
      "\t- Avoid using `tokenizers` before the fork if possible\n",
      "\t- Explicitly set the environment variable TOKENIZERS_PARALLELISM=(true | false)\n",
      "huggingface/tokenizers: The current process just got forked, after parallelism has already been used. Disabling parallelism to avoid deadlocks...\n",
      "To disable this warning, you can either:\n",
      "\t- Avoid using `tokenizers` before the fork if possible\n",
      "\t- Explicitly set the environment variable TOKENIZERS_PARALLELISM=(true | false)\n",
      "huggingface/tokenizers: The current process just got forked, after parallelism has already been used. Disabling parallelism to avoid deadlocks...\n",
      "To disable this warning, you can either:\n",
      "\t- Avoid using `tokenizers` before the fork if possible\n",
      "\t- Explicitly set the environment variable TOKENIZERS_PARALLELISM=(true | false)\n",
      "huggingface/tokenizers: The current process just got forked, after parallelism has already been used. Disabling parallelism to avoid deadlocks...\n",
      "To disable this warning, you can either:\n",
      "\t- Avoid using `tokenizers` before the fork if possible\n",
      "\t- Explicitly set the environment variable TOKENIZERS_PARALLELISM=(true | false)\n",
      "100%|██████████| 14/14 [00:01<00:00,  9.14it/s]\n"
     ]
    }
   ],
   "source": [
    "\"\"\"Parallelized\n",
    "\"\"\"\n",
    "\n",
    "from tqdm import tqdm\n",
    "import torch\n",
    "from multiprocessing import Pool, cpu_count\n",
    "\n",
    "#defining the device the data ends up living on\n",
    "device = torch.device('cuda' if torch.cuda.is_available() else 'cpu')\n",
    "\n",
    "#number of examples in the batch\n",
    "batch_size = 128  # should be divisible by 2\n",
    "#sequence length of model\n",
    "max_input_length = 64\n",
    "\n",
    "#defining parallelizable function for processign batches\n",
    "def process_batch(batch_index):\n",
    "    #establishing bounds of the batch\n",
    "    start_index = batch_index * batch_size\n",
    "    end_index = start_index + batch_size\n",
    "\n",
    "    if end_index > len(positive_pairs):\n",
    "        return None, None, None\n",
    "\n",
    "    #getting the sentence pairs of the batch, and if they're pos or neg\n",
    "    sentence_pairs = []\n",
    "    is_positives = []\n",
    "\n",
    "    # Creating positive pairs\n",
    "    sentence_pairs.extend(positive_pairs[start_index:start_index + int(batch_size / 2)])\n",
    "    is_positives.extend([1] * int(batch_size / 2))\n",
    "\n",
    "    # Creating negative pairs\n",
    "    sentence_pairs.extend(negative_pairs[start_index + int(batch_size / 2):end_index])\n",
    "    is_positives.extend([0] * int(batch_size / 2))\n",
    "\n",
    "    # Defining outputs\n",
    "    # At the end of the day we need to know three things:\n",
    "    #   - the tokens for the sequences in a batch\n",
    "    #   - which sentence the tokens belong to, for positional encoding\n",
    "    #   - if the examples in the batch are positive or negative\n",
    "    # these keep track of the first two\n",
    "    batch_sentence_location_tokens = []\n",
    "    batch_sequence_tokens = []\n",
    "\n",
    "    # Tokenizing pairs\n",
    "    for sentence_pair in sentence_pairs:\n",
    "        sentence1 = sentence_pair[0]\n",
    "        sentence2 = sentence_pair[1]\n",
    "\n",
    "        # Tokenizing both sentences\n",
    "        tokens = tokenizer([sentence1, sentence2])\n",
    "        sentence1_tokens = tokens['input_ids'][0]\n",
    "        sentence2_tokens = tokens['input_ids'][1]\n",
    "\n",
    "        # Trimming down tokens\n",
    "        if len(sentence1_tokens) + len(sentence2_tokens) > max_input_length:\n",
    "            sentence1_tokens = [101] + sentence1_tokens[-int(max_input_length / 2) + 1:]\n",
    "            sentence2_tokens = sentence2_tokens[:int(max_input_length / 2) - 1] + [102]\n",
    "\n",
    "        # Creating sentence tokens\n",
    "        sentence_tokens = [0] * len(sentence1_tokens) + [1] * len(sentence2_tokens)\n",
    "\n",
    "        # Combining and padding\n",
    "        pad_num = max_input_length - (len(sentence1_tokens) + len(sentence2_tokens))\n",
    "        sequence_tokens = sentence1_tokens + sentence2_tokens + [0] * pad_num\n",
    "        sentence_location_tokens = sentence_tokens + [1] * pad_num\n",
    "\n",
    "        # Adding to batch\n",
    "        batch_sequence_tokens.append(sequence_tokens)\n",
    "        batch_sentence_location_tokens.append(sentence_location_tokens)\n",
    "\n",
    "    return torch.tensor(batch_sentence_location_tokens), torch.tensor(batch_sequence_tokens), torch.tensor(is_positives)\n",
    "\n",
    "# Determine the number of batches\n",
    "num_batches = len(positive_pairs) // batch_size\n",
    "\n",
    "# Use a Pool of workers equal to the number of CPU cores\n",
    "with Pool(processes=cpu_count()) as pool:\n",
    "    results = list(tqdm(pool.imap(process_batch, range(num_batches)), total=num_batches))\n",
    "\n",
    "# Filter out None results from the process_batch function\n",
    "results = [result for result in results if result[0] is not None]\n",
    "\n",
    "# Unpack results into batches\n",
    "sentence_location_batches, sequence_tokens_batches, is_positives_batches = zip(*results)\n",
    "\n",
    "# Stack tensors into final batches\n",
    "sentence_location_batches = torch.stack(sentence_location_batches).to(device)\n",
    "sequence_tokens_batches = torch.stack(sequence_tokens_batches).to(device)\n",
    "is_positives_batches = torch.stack(is_positives_batches).to(device)"
   ]
  },
  {
   "cell_type": "code",
   "execution_count": 15,
   "id": "169419df",
   "metadata": {
    "execution": {
     "iopub.execute_input": "2024-08-25T01:09:08.467801Z",
     "iopub.status.busy": "2024-08-25T01:09:08.467005Z",
     "iopub.status.idle": "2024-08-25T01:09:08.474739Z",
     "shell.execute_reply": "2024-08-25T01:09:08.473773Z"
    },
    "papermill": {
     "duration": 0.030229,
     "end_time": "2024-08-25T01:09:08.476950",
     "exception": false,
     "start_time": "2024-08-25T01:09:08.446721",
     "status": "completed"
    },
    "tags": []
   },
   "outputs": [
    {
     "data": {
      "text/plain": [
       "torch.Size([14, 128, 64])"
      ]
     },
     "execution_count": 15,
     "metadata": {},
     "output_type": "execute_result"
    }
   ],
   "source": [
    "sentence_location_batches.shape"
   ]
  },
  {
   "cell_type": "markdown",
   "id": "97cdd99a",
   "metadata": {
    "papermill": {
     "duration": 0.017878,
     "end_time": "2024-08-25T01:09:08.513254",
     "exception": false,
     "start_time": "2024-08-25T01:09:08.495376",
     "status": "completed"
    },
    "tags": []
   },
   "source": [
    "# Setting up masking"
   ]
  },
  {
   "cell_type": "code",
   "execution_count": 16,
   "id": "c576c71f",
   "metadata": {
    "execution": {
     "iopub.execute_input": "2024-08-25T01:09:08.553119Z",
     "iopub.status.busy": "2024-08-25T01:09:08.552365Z",
     "iopub.status.idle": "2024-08-25T01:09:08.930460Z",
     "shell.execute_reply": "2024-08-25T01:09:08.929388Z"
    },
    "papermill": {
     "duration": 0.400914,
     "end_time": "2024-08-25T01:09:08.932936",
     "exception": false,
     "start_time": "2024-08-25T01:09:08.532022",
     "status": "completed"
    },
    "tags": []
   },
   "outputs": [
    {
     "data": {
      "text/plain": [
       "tensor([[  101,   103,  3266,  ...,     0,     0,     0],\n",
       "        [  101,  2715,  9201,  ...,   102,     0,     0],\n",
       "        [  101, 22330,  8713,  ...,     0,     0,     0],\n",
       "        ...,\n",
       "        [  101,   103,  2896,  ...,     0,     0,     0],\n",
       "        [  101,   103,  4472,  ...,     0,     0,     0],\n",
       "        [  101,  1999,  1037,  ...,     0,     0,     0]], device='cuda:0')"
      ]
     },
     "execution_count": 16,
     "metadata": {},
     "output_type": "execute_result"
    }
   ],
   "source": [
    "#listing out vocab for random token masking\n",
    "vocab = tokenizer.get_vocab()\n",
    "valid_token_ids = list(vocab.values())\n",
    "\n",
    "def mask_batch(batch_tokens, clone=True):\n",
    "    if clone:\n",
    "        batch_tokens = torch.clone(batch_tokens)\n",
    "\n",
    "    # Define the percentage of tokens to potentially mask\n",
    "    replace_percentage = 0.15\n",
    "\n",
    "    # Define tokens that should not be replaced\n",
    "    excluded_tokens = {0, 100, 101, 102, 103}\n",
    "\n",
    "    # Create a mask to identify tokens that are eligible for replacement\n",
    "    eligible_mask = ~torch.isin(batch_tokens, torch.tensor(list(excluded_tokens)).to(device))\n",
    "\n",
    "    # Count the number of eligible tokens\n",
    "    num_eligible_tokens = eligible_mask.sum().item()\n",
    "\n",
    "    # Calculate the number of tokens to potentially mask\n",
    "    num_tokens_to_mask = int(num_eligible_tokens * replace_percentage)\n",
    "\n",
    "    # Create a random permutation of eligible token indices\n",
    "    eligible_indices = eligible_mask.nonzero(as_tuple=True)\n",
    "    random_indices = torch.randperm(num_eligible_tokens)[:num_tokens_to_mask]\n",
    "\n",
    "    # Create a probability distribution for replacement\n",
    "    replacement_probs = torch.tensor([0.8, 0.1, 0.1])  # Probabilities for [103, random token, leave unchanged]\n",
    "    replacement_choices = torch.multinomial(replacement_probs, num_tokens_to_mask, replacement=True)\n",
    "\n",
    "    # Vector to store if a token was masked (0: not masked, 1: masked)\n",
    "    masked_indicator = torch.zeros_like(batch_tokens, dtype=torch.int32)\n",
    "\n",
    "    # Apply replacements based on sampled choices\n",
    "    for i, idx in enumerate(random_indices):\n",
    "        row = eligible_indices[0][idx]\n",
    "        col = eligible_indices[1][idx]\n",
    "\n",
    "        if replacement_choices[i] == 0:\n",
    "            batch_tokens[row, col] = 103\n",
    "            masked_indicator[row, col] = 1\n",
    "        elif replacement_choices[i] == 1:\n",
    "            batch_tokens[row, col] = random.choice(valid_token_ids)\n",
    "            masked_indicator[row, col] = 1\n",
    "        elif replacement_choices[i] == 2:\n",
    "            masked_indicator[row, col] = 1\n",
    "\n",
    "    return batch_tokens, masked_indicator\n",
    "\n",
    "batch_tokens, masked_indicator = mask_batch(sequence_tokens_batches[0])\n",
    "batch_tokens"
   ]
  },
  {
   "cell_type": "markdown",
   "id": "fc34d34f",
   "metadata": {
    "papermill": {
     "duration": 0.018916,
     "end_time": "2024-08-25T01:09:08.971340",
     "exception": false,
     "start_time": "2024-08-25T01:09:08.952424",
     "status": "completed"
    },
    "tags": []
   },
   "source": [
    "# Setting up embedding"
   ]
  },
  {
   "cell_type": "code",
   "execution_count": 17,
   "id": "a2343dbc",
   "metadata": {
    "execution": {
     "iopub.execute_input": "2024-08-25T01:09:09.010764Z",
     "iopub.status.busy": "2024-08-25T01:09:09.010300Z",
     "iopub.status.idle": "2024-08-25T01:09:09.126954Z",
     "shell.execute_reply": "2024-08-25T01:09:09.125821Z"
    },
    "papermill": {
     "duration": 0.139161,
     "end_time": "2024-08-25T01:09:09.129405",
     "exception": false,
     "start_time": "2024-08-25T01:09:08.990244",
     "status": "completed"
    },
    "tags": []
   },
   "outputs": [
    {
     "data": {
      "text/plain": [
       "Embedding(\n",
       "  (tok_embed): Embedding(30522, 256)\n",
       "  (pos_embed): Embedding(64, 256)\n",
       "  (seg_embed): Embedding(2, 256)\n",
       "  (norm): LayerNorm((256,), eps=1e-05, elementwise_affine=True)\n",
       ")"
      ]
     },
     "execution_count": 17,
     "metadata": {},
     "output_type": "execute_result"
    }
   ],
   "source": [
    "import torch.nn as nn\n",
    "import torch\n",
    "\n",
    "vocab_size=tokenizer.vocab_size\n",
    "d_model=256\n",
    "n_segments=2\n",
    "\n",
    "class Embedding(nn.Module):\n",
    "    def __init__(self):\n",
    "        super(Embedding, self).__init__()\n",
    "        self.tok_embed = nn.Embedding(vocab_size, d_model)  # token embedding\n",
    "        self.pos_embed = nn.Embedding(max_input_length, d_model)  # position embedding\n",
    "        self.seg_embed = nn.Embedding(n_segments, d_model)  # segment(token type) embedding\n",
    "        self.norm = nn.LayerNorm(d_model)\n",
    "\n",
    "    def forward(self, x, seg):\n",
    "        seq_len = x.size(1)\n",
    "        pos = torch.arange(seq_len, dtype=torch.long).to(device)\n",
    "        pos = pos.unsqueeze(0).expand_as(x)  # (seq_len,) -> (batch_size, seq_len)\n",
    "        embedding = self.tok_embed(x) + self.pos_embed(pos) + self.seg_embed(seg)\n",
    "        return self.norm(embedding)\n",
    "\n",
    "embedding = Embedding()\n",
    "embedding.to(device)"
   ]
  },
  {
   "cell_type": "code",
   "execution_count": 18,
   "id": "9fa4b8e4",
   "metadata": {
    "execution": {
     "iopub.execute_input": "2024-08-25T01:09:09.170434Z",
     "iopub.status.busy": "2024-08-25T01:09:09.169694Z",
     "iopub.status.idle": "2024-08-25T01:09:09.312816Z",
     "shell.execute_reply": "2024-08-25T01:09:09.311788Z"
    },
    "papermill": {
     "duration": 0.166398,
     "end_time": "2024-08-25T01:09:09.315287",
     "exception": false,
     "start_time": "2024-08-25T01:09:09.148889",
     "status": "completed"
    },
    "tags": []
   },
   "outputs": [
    {
     "name": "stdout",
     "output_type": "stream",
     "text": [
      "torch.Size([128, 64, 256])\n"
     ]
    }
   ],
   "source": [
    "#in order for the input to work all sequences need to be padded to be equivilent length\n",
    "dummy_embedding = embedding(sequence_tokens_batches[0], sentence_location_batches[0])\n",
    "print(dummy_embedding.shape)"
   ]
  },
  {
   "cell_type": "markdown",
   "id": "597c3683",
   "metadata": {
    "papermill": {
     "duration": 0.01926,
     "end_time": "2024-08-25T01:09:09.353132",
     "exception": false,
     "start_time": "2024-08-25T01:09:09.333872",
     "status": "completed"
    },
    "tags": []
   },
   "source": [
    "# Defining model\n",
    "\n",
    "The structure below:\n",
    "\n",
    "* embedding\n",
    "* encoder block\n",
    "  * multi headed self-attention\n",
    "  * feed forward\n",
    "* a fully connected layer for outputting the prediction\n",
    "* a fully connected layer for turning masked vectors(logits) to token"
   ]
  },
  {
   "cell_type": "code",
   "execution_count": 19,
   "id": "9915315a",
   "metadata": {
    "execution": {
     "iopub.execute_input": "2024-08-25T01:09:09.393989Z",
     "iopub.status.busy": "2024-08-25T01:09:09.393175Z",
     "iopub.status.idle": "2024-08-25T01:09:09.702406Z",
     "shell.execute_reply": "2024-08-25T01:09:09.701283Z"
    },
    "papermill": {
     "duration": 0.332638,
     "end_time": "2024-08-25T01:09:09.704872",
     "exception": false,
     "start_time": "2024-08-25T01:09:09.372234",
     "status": "completed"
    },
    "tags": []
   },
   "outputs": [
    {
     "data": {
      "text/plain": [
       "(tensor([[[0.9771, 0.9927],\n",
       "          [0.9912, 1.0280]]], device='cuda:0'),\n",
       " tensor([[[0.3854, 0.6146],\n",
       "          [0.4559, 0.5441]]], device='cuda:0'))"
      ]
     },
     "execution_count": 19,
     "metadata": {},
     "output_type": "execute_result"
    }
   ],
   "source": [
    "import numpy as np\n",
    "\n",
    "class ScaledDotProductAttention(nn.Module):\n",
    "    def __init__(self):\n",
    "        super(ScaledDotProductAttention, self).__init__()\n",
    "\n",
    "    def forward(self, Q, K, V):\n",
    "        #Q, K, V of size [batch x sequence_length x dim]\n",
    "        scores = torch.matmul(Q, K.transpose(-1, -2)) / np.sqrt(Q.shape[1])\n",
    "        attn = nn.Softmax(dim=-1)(scores)\n",
    "        context = torch.matmul(attn, V)\n",
    "        return context, attn\n",
    "\n",
    "#sanity checking\n",
    "q = torch.tensor([[[1.1,1.3],[0.9,0.8]]]).to(device)\n",
    "k = torch.tensor([[[0.9,1],[0.2,2.1]]]).to(device)\n",
    "v = torch.tensor([[[1.1,1.3],[0.9,0.8]]]).to(device)\n",
    "sample = ScaledDotProductAttention().to(device)\n",
    "sample(q,k,v)"
   ]
  },
  {
   "cell_type": "markdown",
   "id": "b5385b7c",
   "metadata": {
    "papermill": {
     "duration": 0.019005,
     "end_time": "2024-08-25T01:09:09.742429",
     "exception": false,
     "start_time": "2024-08-25T01:09:09.723424",
     "status": "completed"
    },
    "tags": []
   },
   "source": [
    "## Mock shape transformations"
   ]
  },
  {
   "cell_type": "code",
   "execution_count": 20,
   "id": "8f041cf8",
   "metadata": {
    "execution": {
     "iopub.execute_input": "2024-08-25T01:09:09.783132Z",
     "iopub.status.busy": "2024-08-25T01:09:09.782377Z",
     "iopub.status.idle": "2024-08-25T01:09:09.794410Z",
     "shell.execute_reply": "2024-08-25T01:09:09.793380Z"
    },
    "papermill": {
     "duration": 0.034755,
     "end_time": "2024-08-25T01:09:09.796537",
     "exception": false,
     "start_time": "2024-08-25T01:09:09.761782",
     "status": "completed"
    },
    "tags": []
   },
   "outputs": [
    {
     "data": {
      "text/plain": [
       "tensor([[[ 0,  1,  2,  3],\n",
       "         [ 4,  5,  6,  7]],\n",
       "\n",
       "        [[ 0, -1, -2, -3],\n",
       "         [-4, -5, -6, -7]]])"
      ]
     },
     "execution_count": 20,
     "metadata": {},
     "output_type": "execute_result"
    }
   ],
   "source": [
    "# defining sample value matrix, [batch_size x sequence_len x (query_key_dim * n_heads)]\n",
    "# in this matrix, [0,1,2,3] represents the values for 2 heads across a single word vector\n",
    "samp_val=torch.tensor([[[0,1,2,3],[4,5,6,7]],[[0,-1,-2,-3],[-4,-5,-6,-7]]])\n",
    "\n",
    "# dividing into two heads\n",
    "# [batch_size x sequence_len x query_key_dim x n_heads]\n",
    "samp_val=samp_val.view(2,2,2,2)\n",
    "\n",
    "# moving the head dimension next to the batch dimension\n",
    "# [batch_size x n_heads x sequence_len x query_key_dim]\n",
    "samp_val = samp_val.permute(0, 3, 1, 2)\n",
    "\n",
    "# combining batch and head dimension\n",
    "# [batch_size*n_heads x sequence_len x query_key_dim]\n",
    "samp_val = samp_val.reshape(-1, 2, 2)\n",
    "\n",
    "# seperating heads, [batch_size x n_heads x sequence_len x query_key_dim]\n",
    "samp_val = samp_val.reshape(2,2,2,2)\n",
    "\n",
    "# moving the head dimension to the end [batch_size x sequence_len x query_key_dim x n_heads]\n",
    "samp_val = samp_val.permute(0, 2, 3, 1)\n",
    "\n",
    "#combining the last dim to effectively concatonate the result of the heads\n",
    "#[batch_size x sequence_len x query_key_dim*n_heads]\n",
    "samp_val = samp_val.reshape(2, 2, -1)\n",
    "samp_val"
   ]
  },
  {
   "cell_type": "markdown",
   "id": "799ead40",
   "metadata": {
    "papermill": {
     "duration": 0.018951,
     "end_time": "2024-08-25T01:09:09.834738",
     "exception": false,
     "start_time": "2024-08-25T01:09:09.815787",
     "status": "completed"
    },
    "tags": []
   },
   "source": [
    "# Implementing MHSA"
   ]
  },
  {
   "cell_type": "code",
   "execution_count": 21,
   "id": "0f62218f",
   "metadata": {
    "execution": {
     "iopub.execute_input": "2024-08-25T01:09:09.875507Z",
     "iopub.status.busy": "2024-08-25T01:09:09.874652Z",
     "iopub.status.idle": "2024-08-25T01:09:10.601188Z",
     "shell.execute_reply": "2024-08-25T01:09:10.600074Z"
    },
    "papermill": {
     "duration": 0.74978,
     "end_time": "2024-08-25T01:09:10.603778",
     "exception": false,
     "start_time": "2024-08-25T01:09:09.853998",
     "status": "completed"
    },
    "tags": []
   },
   "outputs": [
    {
     "name": "stdout",
     "output_type": "stream",
     "text": [
      "Sample embeddings shape: torch.Size([128, 64, 256])\n",
      "Output shape of mhsa: torch.Size([128, 64, 256])\n"
     ]
    }
   ],
   "source": [
    "import torch\n",
    "import torch.nn as nn\n",
    "\n",
    "# Define constants\n",
    "n_heads = 3\n",
    "query_key_dim = 64\n",
    "value_dim = 64\n",
    "\n",
    "class MultiHeadSelfAttention(nn.Module):\n",
    "    def __init__(self):\n",
    "        super(MultiHeadSelfAttention, self).__init__()\n",
    "        # Defining the linear layers that construct the query, key, and value\n",
    "        self.W_Q = nn.Linear(d_model, query_key_dim * n_heads)   # Projects input to [batch x sequence x (q/k_dim*num_heads)]\n",
    "        self.W_K = nn.Linear(d_model, query_key_dim * n_heads)   # Projects input to [batch x sequence x (q/k_dim*num_heads)]\n",
    "        self.W_V = nn.Linear(d_model, value_dim * n_heads)       # Projects input to [batch x sequence x (v_dim*num_heads)]\n",
    "        self.dot_prod_attn = ScaledDotProductAttention()         # Parameterless system that calculates attention\n",
    "        self.proj_back = nn.Linear(value_dim * n_heads, d_model) # Projects final output of mhsa back into model dimension\n",
    "\n",
    "    def forward(self, embedding):\n",
    "\n",
    "        # passing embedding through dense networks\n",
    "        qs = self.W_Q(embedding)  # [batch_size x sequence_len x (query_key_dim * n_heads)]\n",
    "        ks = self.W_K(embedding)  # [batch_size x sequence_len x (query_key_dim * n_heads)]\n",
    "        vs = self.W_V(embedding)  # [batch_size x sequence_len x (value_dim * n_heads)]\n",
    "\n",
    "        #dividing out heads\n",
    "        #[batch_size, sequence_len, q/k/v_dim, n_heads]\n",
    "        qs = qs.view(batch_size, max_input_length, query_key_dim, n_heads)\n",
    "        ks = ks.view(batch_size, max_input_length, query_key_dim, n_heads)\n",
    "        vs = vs.view(batch_size, max_input_length, value_dim, n_heads)\n",
    "\n",
    "        #moving the head dimension next to the batch dimension\n",
    "        #[batch_size x n_heads x sequence_len x q/k/v_dim]\n",
    "        qs = qs.permute(0, 3, 1, 2)\n",
    "        ks = ks.permute(0, 3, 1, 2)\n",
    "        vs = vs.permute(0, 3, 1, 2)\n",
    "\n",
    "        #combining batch and head dimension\n",
    "        #[batch_size*n_heads x sequence_len x q/k/v_dim]\n",
    "        qs = qs.reshape(-1, max_input_length, query_key_dim)\n",
    "        ks = ks.reshape(-1, max_input_length, query_key_dim)\n",
    "        vs = vs.reshape(-1, max_input_length, value_dim)\n",
    "\n",
    "        #passing batches/heads of self attention through attn\n",
    "        #[batch_size*n_heads x sequence_len x q/k/v_dim]\n",
    "        head_results, _ = self.dot_prod_attn(qs,ks,vs)\n",
    "\n",
    "        #seperating heads\n",
    "        #[batch_size x n_heads x sequence_len x v_dim]\n",
    "        head_results = head_results.reshape(batch_size,n_heads,max_input_length,value_dim)\n",
    "\n",
    "        #moving the head dimension to the end\n",
    "        #[batch_size x sequence_len x query_key_dim x n_heads]\n",
    "        head_results = head_results.permute(0, 2, 3, 1)\n",
    "\n",
    "        #combining the last dim to effectively concatonate the result of the heads\n",
    "        #[batch_size x sequence_len x query_key_dim*n_heads]\n",
    "        head_results = head_results.reshape(batch_size, max_input_length, -1)\n",
    "\n",
    "        #projecting result of head back into model dimension\n",
    "        return self.proj_back(head_results)\n",
    "\n",
    "# Example usage\n",
    "sample_embeddings = torch.tensor([[[1.1] * d_model] * max_input_length] * batch_size).to(device)\n",
    "print(\"Sample embeddings shape:\", sample_embeddings.shape)\n",
    "\n",
    "sample = MultiHeadSelfAttention().to(device)\n",
    "output = sample(sample_embeddings)\n",
    "print('Output shape of mhsa:', output.shape)"
   ]
  },
  {
   "cell_type": "markdown",
   "id": "11611bb0",
   "metadata": {
    "papermill": {
     "duration": 0.02393,
     "end_time": "2024-08-25T01:09:10.647308",
     "exception": false,
     "start_time": "2024-08-25T01:09:10.623378",
     "status": "completed"
    },
    "tags": []
   },
   "source": [
    "# Point wise feed forward"
   ]
  },
  {
   "cell_type": "code",
   "execution_count": 22,
   "id": "57b58f3c",
   "metadata": {
    "execution": {
     "iopub.execute_input": "2024-08-25T01:09:10.703403Z",
     "iopub.status.busy": "2024-08-25T01:09:10.702829Z",
     "iopub.status.idle": "2024-08-25T01:09:11.461839Z",
     "shell.execute_reply": "2024-08-25T01:09:11.460729Z"
    },
    "papermill": {
     "duration": 0.789589,
     "end_time": "2024-08-25T01:09:11.464199",
     "exception": false,
     "start_time": "2024-08-25T01:09:10.674610",
     "status": "completed"
    },
    "tags": []
   },
   "outputs": [
    {
     "data": {
      "text/plain": [
       "torch.Size([128, 64, 256])"
      ]
     },
     "execution_count": 22,
     "metadata": {},
     "output_type": "execute_result"
    }
   ],
   "source": [
    "d_ff = 4*d_model\n",
    "\n",
    "class PoswiseFeedForwardNet(nn.Module):\n",
    "    def __init__(self):\n",
    "        super(PoswiseFeedForwardNet, self).__init__()\n",
    "        self.fc1 = nn.Linear(d_model, d_ff)\n",
    "        self.fc2 = nn.Linear(d_ff, d_model)\n",
    "\n",
    "    def forward(self, x):\n",
    "        # (batch_size, len_seq, d_model) -> (batch_size, len_seq, d_ff) -> (batch_size, len_seq, d_model)\n",
    "        return self.fc2(torch.nn.functional.gelu(self.fc1(x)))\n",
    "\n",
    "sample = PoswiseFeedForwardNet().to(device)\n",
    "sample_embeddings = torch.tensor([[[1.1] * d_model] * max_input_length] * batch_size).to(device)\n",
    "sample(sample_embeddings).shape"
   ]
  },
  {
   "cell_type": "markdown",
   "id": "77240adb",
   "metadata": {
    "papermill": {
     "duration": 0.019998,
     "end_time": "2024-08-25T01:09:11.551747",
     "exception": false,
     "start_time": "2024-08-25T01:09:11.531749",
     "status": "completed"
    },
    "tags": []
   },
   "source": [
    "# Implementing an encoder block"
   ]
  },
  {
   "cell_type": "code",
   "execution_count": 23,
   "id": "c48ec1b1",
   "metadata": {
    "execution": {
     "iopub.execute_input": "2024-08-25T01:09:11.593735Z",
     "iopub.status.busy": "2024-08-25T01:09:11.593282Z",
     "iopub.status.idle": "2024-08-25T01:09:12.311376Z",
     "shell.execute_reply": "2024-08-25T01:09:12.310287Z"
    },
    "papermill": {
     "duration": 0.74191,
     "end_time": "2024-08-25T01:09:12.313775",
     "exception": false,
     "start_time": "2024-08-25T01:09:11.571865",
     "status": "completed"
    },
    "tags": []
   },
   "outputs": [
    {
     "data": {
      "text/plain": [
       "torch.Size([128, 64, 256])"
      ]
     },
     "execution_count": 23,
     "metadata": {},
     "output_type": "execute_result"
    }
   ],
   "source": [
    "class EncoderBlock(nn.Module):\n",
    "    def __init__(self):\n",
    "        super(EncoderBlock, self).__init__()\n",
    "        self.mhsa = MultiHeadSelfAttention()\n",
    "        self.pwff = PoswiseFeedForwardNet()\n",
    "\n",
    "    def forward(self, x):\n",
    "        mhsa_output = self.mhsa(x)\n",
    "        skip1 = mhsa_output + x\n",
    "        pwff_output = self.pwff(skip1)\n",
    "        skip2 = skip1+pwff_output\n",
    "        return skip2\n",
    "\n",
    "sample = EncoderBlock().to(device)\n",
    "sample_embeddings = torch.tensor([[[1.1] * d_model] * max_input_length] * batch_size).to(device)\n",
    "sample(sample_embeddings).shape"
   ]
  },
  {
   "cell_type": "markdown",
   "id": "f211b2e2",
   "metadata": {
    "papermill": {
     "duration": 0.019755,
     "end_time": "2024-08-25T01:09:12.354070",
     "exception": false,
     "start_time": "2024-08-25T01:09:12.334315",
     "status": "completed"
    },
    "tags": []
   },
   "source": [
    "# Building BERT"
   ]
  },
  {
   "cell_type": "code",
   "execution_count": 24,
   "id": "111aada9",
   "metadata": {
    "_kg_hide-output": true,
    "execution": {
     "iopub.execute_input": "2024-08-25T01:09:12.396095Z",
     "iopub.status.busy": "2024-08-25T01:09:12.395667Z",
     "iopub.status.idle": "2024-08-25T01:09:12.725740Z",
     "shell.execute_reply": "2024-08-25T01:09:12.724644Z"
    },
    "papermill": {
     "duration": 0.354614,
     "end_time": "2024-08-25T01:09:12.728755",
     "exception": false,
     "start_time": "2024-08-25T01:09:12.374141",
     "status": "completed"
    },
    "tags": []
   },
   "outputs": [
    {
     "data": {
      "text/plain": [
       "tensor([[-1.3212],\n",
       "        [-1.1761],\n",
       "        [-1.2210],\n",
       "        [-1.1518],\n",
       "        [-1.2443],\n",
       "        [-1.1676],\n",
       "        [-1.1510],\n",
       "        [-1.1844],\n",
       "        [-1.2118],\n",
       "        [-1.2523],\n",
       "        [-1.2566],\n",
       "        [-1.2692],\n",
       "        [-1.3077],\n",
       "        [-1.3386],\n",
       "        [-1.2643],\n",
       "        [-1.1812],\n",
       "        [-1.2178],\n",
       "        [-1.2392],\n",
       "        [-1.1497],\n",
       "        [-1.2008],\n",
       "        [-1.1623],\n",
       "        [-1.1801],\n",
       "        [-1.2562],\n",
       "        [-1.2456],\n",
       "        [-1.3230],\n",
       "        [-1.1768],\n",
       "        [-1.2693],\n",
       "        [-1.1812],\n",
       "        [-1.2837],\n",
       "        [-1.1889],\n",
       "        [-1.1633],\n",
       "        [-1.1933],\n",
       "        [-1.2116],\n",
       "        [-1.2690],\n",
       "        [-1.2327],\n",
       "        [-1.2117],\n",
       "        [-1.1549],\n",
       "        [-1.2192],\n",
       "        [-1.2083],\n",
       "        [-1.2221],\n",
       "        [-1.2382],\n",
       "        [-1.3255],\n",
       "        [-1.2475],\n",
       "        [-1.1745],\n",
       "        [-1.2860],\n",
       "        [-1.1509],\n",
       "        [-1.3219],\n",
       "        [-1.2202],\n",
       "        [-1.2154],\n",
       "        [-1.1827],\n",
       "        [-1.1684],\n",
       "        [-1.1851],\n",
       "        [-1.2045],\n",
       "        [-1.2588],\n",
       "        [-1.3368],\n",
       "        [-1.1926],\n",
       "        [-1.1885],\n",
       "        [-1.2296],\n",
       "        [-1.2819],\n",
       "        [-1.2300],\n",
       "        [-1.1768],\n",
       "        [-1.2170],\n",
       "        [-1.3072],\n",
       "        [-1.2081],\n",
       "        [-1.1434],\n",
       "        [-1.1928],\n",
       "        [-1.2413],\n",
       "        [-1.2747],\n",
       "        [-1.1623],\n",
       "        [-1.2486],\n",
       "        [-1.2284],\n",
       "        [-1.2431],\n",
       "        [-1.2121],\n",
       "        [-1.3107],\n",
       "        [-1.2695],\n",
       "        [-1.2511],\n",
       "        [-1.3379],\n",
       "        [-1.2826],\n",
       "        [-1.2867],\n",
       "        [-1.3228],\n",
       "        [-1.1735],\n",
       "        [-1.1699],\n",
       "        [-1.3050],\n",
       "        [-1.1870],\n",
       "        [-1.1886],\n",
       "        [-1.2437],\n",
       "        [-1.2441],\n",
       "        [-1.1687],\n",
       "        [-1.2640],\n",
       "        [-1.2616],\n",
       "        [-1.3271],\n",
       "        [-1.1712],\n",
       "        [-1.1735],\n",
       "        [-1.2092],\n",
       "        [-1.2050],\n",
       "        [-1.1961],\n",
       "        [-1.1882],\n",
       "        [-1.2163],\n",
       "        [-1.2962],\n",
       "        [-1.1774],\n",
       "        [-1.2041],\n",
       "        [-1.2675],\n",
       "        [-1.1847],\n",
       "        [-1.2544],\n",
       "        [-1.2988],\n",
       "        [-1.2773],\n",
       "        [-1.1667],\n",
       "        [-1.3554],\n",
       "        [-1.2273],\n",
       "        [-1.1535],\n",
       "        [-1.2162],\n",
       "        [-1.3021],\n",
       "        [-1.2178],\n",
       "        [-1.1677],\n",
       "        [-1.2349],\n",
       "        [-1.2147],\n",
       "        [-1.1864],\n",
       "        [-1.2147],\n",
       "        [-1.1816],\n",
       "        [-1.1932],\n",
       "        [-1.1497],\n",
       "        [-1.1772],\n",
       "        [-1.2521],\n",
       "        [-1.1960],\n",
       "        [-1.1511],\n",
       "        [-1.2616],\n",
       "        [-1.3061],\n",
       "        [-1.2272]], device='cuda:0', grad_fn=<MmBackward0>)"
      ]
     },
     "execution_count": 24,
     "metadata": {},
     "output_type": "execute_result"
    }
   ],
   "source": [
    "n_layers = 1\n",
    "\n",
    "class BERT(nn.Module):\n",
    "    def __init__(self):\n",
    "        super(BERT, self).__init__()\n",
    "        #for converting tokens into vector embeddings\n",
    "        self.embedding = Embedding()\n",
    "        #encoder blocks\n",
    "        self.encoder_blocks = nn.ModuleList([EncoderBlock() for _ in range(n_layers)])\n",
    "        #for decoding a word vector (or tensor of them) into token predictions\n",
    "        self.decoder = nn.Linear(d_model, tokenizer.vocab_size, bias=False)\n",
    "        #for converting the first output token into a binary classification\n",
    "        self.classifier = nn.Linear(d_model, 1, bias=False)\n",
    "\n",
    "    def forward(self, x, seg, masked_token_locations):\n",
    "\n",
    "        #x of shape [batch x seq_len x model_dim]\n",
    "        embeddings = self.embedding(x, seg)\n",
    "        x = embeddings\n",
    "        for block in self.encoder_blocks:\n",
    "            x = block(x)\n",
    "\n",
    "        #passing first token through classifier\n",
    "        clsf_logits = self.classifier(x[:,0,:])\n",
    "\n",
    "        #passing masked tokens through decoder\n",
    "        masked_token_embeddings = embeddings[masked_token_locations.bool()]\n",
    "        token_logits = self.decoder(masked_token_embeddings)\n",
    "\n",
    "        return clsf_logits, token_logits\n",
    "\n",
    "sample = BERT().to(device)\n",
    "masked_tokens, masked_token_locations = mask_batch(sequence_tokens_batches[0])\n",
    "clsf_logits, token_logits = sample(masked_tokens,sentence_location_batches[0], masked_token_locations)\n",
    "clsf_logits"
   ]
  },
  {
   "cell_type": "markdown",
   "id": "2ed3ea32",
   "metadata": {
    "papermill": {
     "duration": 0.019617,
     "end_time": "2024-08-25T01:09:12.770317",
     "exception": false,
     "start_time": "2024-08-25T01:09:12.750700",
     "status": "completed"
    },
    "tags": []
   },
   "source": [
    "# Pre-training"
   ]
  },
  {
   "cell_type": "code",
   "execution_count": 25,
   "id": "c8b40b4d",
   "metadata": {
    "execution": {
     "iopub.execute_input": "2024-08-25T01:09:12.814686Z",
     "iopub.status.busy": "2024-08-25T01:09:12.813847Z",
     "iopub.status.idle": "2024-08-25T01:09:21.205602Z",
     "shell.execute_reply": "2024-08-25T01:09:21.204426Z"
    },
    "papermill": {
     "duration": 8.41708,
     "end_time": "2024-08-25T01:09:21.209009",
     "exception": false,
     "start_time": "2024-08-25T01:09:12.791929",
     "status": "completed"
    },
    "tags": []
   },
   "outputs": [
    {
     "name": "stderr",
     "output_type": "stream",
     "text": [
      "14it [00:02,  6.91it/s]\n"
     ]
    },
    {
     "name": "stdout",
     "output_type": "stream",
     "text": [
      "=======Epoch 0 Completed=======\n",
      "average loss in epoch: 10.44417428970337\n"
     ]
    },
    {
     "name": "stderr",
     "output_type": "stream",
     "text": [
      "14it [00:01,  8.09it/s]\n"
     ]
    },
    {
     "name": "stdout",
     "output_type": "stream",
     "text": [
      "=======Epoch 1 Completed=======\n",
      "average loss in epoch: 8.756936073303223\n"
     ]
    },
    {
     "name": "stderr",
     "output_type": "stream",
     "text": [
      "14it [00:01,  8.04it/s]\n"
     ]
    },
    {
     "name": "stdout",
     "output_type": "stream",
     "text": [
      "=======Epoch 2 Completed=======\n",
      "average loss in epoch: 8.051488501685006\n"
     ]
    },
    {
     "name": "stderr",
     "output_type": "stream",
     "text": [
      "14it [00:01,  7.94it/s]"
     ]
    },
    {
     "name": "stdout",
     "output_type": "stream",
     "text": [
      "=======Epoch 3 Completed=======\n",
      "average loss in epoch: 7.827998808452061\n"
     ]
    },
    {
     "name": "stderr",
     "output_type": "stream",
     "text": [
      "\n"
     ]
    }
   ],
   "source": [
    "import torch\n",
    "import torch.nn as nn\n",
    "import torch.optim as optim\n",
    "from tqdm import tqdm\n",
    "\n",
    "# Assume the BERT class and necessary preprocessing functions are already defined\n",
    "\n",
    "model = BERT().to(device)\n",
    "token_criterion = nn.CrossEntropyLoss()  # Expect indices, not one-hot vectors\n",
    "classification_criterion = nn.BCEWithLogitsLoss()  # For logits directly\n",
    "optimizer = optim.Adam(model.parameters(), lr=0.001)\n",
    "\n",
    "losses = [[]*1]\n",
    "\n",
    "#these epochs can take a while, keeping it at a fairly small number\n",
    "for epoch in range(4):\n",
    "    for sequence_batch, location_batch, classtarg_batch in tqdm(zip(sequence_tokens_batches, sentence_location_batches, is_positives_batches)):\n",
    "        # Zeroing out gradients from last iteration\n",
    "        optimizer.zero_grad()\n",
    "\n",
    "        # Masking the tokens in the input sequence\n",
    "        masked_tokens, masked_token_locations = mask_batch(sequence_batch)\n",
    "\n",
    "        # Generating class and masked token predictions\n",
    "        clsf_logits, token_logits = model(masked_tokens, location_batch, masked_token_locations)\n",
    "\n",
    "        # Setting up target for masked token prediction\n",
    "        masked_token_targets = sequence_batch[masked_token_locations.bool()]\n",
    "\n",
    "        # Calculating loss for next sentence classification\n",
    "        loss_clsf = classification_criterion(clsf_logits.squeeze(), classtarg_batch.float())\n",
    "\n",
    "        # Calculating loss for masked language modeling\n",
    "        loss_mlm = token_criterion(token_logits, masked_token_targets)\n",
    "\n",
    "        # Combining losses\n",
    "        loss = loss_mlm + loss_clsf\n",
    "\n",
    "        #keeping track of loss across the current epoch\n",
    "        losses[-1].append(float(loss))\n",
    "\n",
    "        # Backpropagation\n",
    "        loss.backward()\n",
    "        optimizer.step()\n",
    "\n",
    "    print(f'=======Epoch {epoch} Completed=======')\n",
    "    print(f'average loss in epoch: {np.mean(losses[-1])}')\n",
    "    losses.append([])"
   ]
  },
  {
   "cell_type": "code",
   "execution_count": 26,
   "id": "cc4e6fea",
   "metadata": {
    "execution": {
     "iopub.execute_input": "2024-08-25T01:09:21.265869Z",
     "iopub.status.busy": "2024-08-25T01:09:21.264723Z",
     "iopub.status.idle": "2024-08-25T01:09:21.272774Z",
     "shell.execute_reply": "2024-08-25T01:09:21.271661Z"
    },
    "papermill": {
     "duration": 0.038854,
     "end_time": "2024-08-25T01:09:21.275087",
     "exception": false,
     "start_time": "2024-08-25T01:09:21.236233",
     "status": "completed"
    },
    "tags": []
   },
   "outputs": [
    {
     "data": {
      "text/plain": [
       "BERT(\n",
       "  (embedding): Embedding(\n",
       "    (tok_embed): Embedding(30522, 256)\n",
       "    (pos_embed): Embedding(64, 256)\n",
       "    (seg_embed): Embedding(2, 256)\n",
       "    (norm): LayerNorm((256,), eps=1e-05, elementwise_affine=True)\n",
       "  )\n",
       "  (encoder_blocks): ModuleList(\n",
       "    (0): EncoderBlock(\n",
       "      (mhsa): MultiHeadSelfAttention(\n",
       "        (W_Q): Linear(in_features=256, out_features=192, bias=True)\n",
       "        (W_K): Linear(in_features=256, out_features=192, bias=True)\n",
       "        (W_V): Linear(in_features=256, out_features=192, bias=True)\n",
       "        (dot_prod_attn): ScaledDotProductAttention()\n",
       "        (proj_back): Linear(in_features=192, out_features=256, bias=True)\n",
       "      )\n",
       "      (pwff): PoswiseFeedForwardNet(\n",
       "        (fc1): Linear(in_features=256, out_features=1024, bias=True)\n",
       "        (fc2): Linear(in_features=1024, out_features=256, bias=True)\n",
       "      )\n",
       "    )\n",
       "  )\n",
       "  (decoder): Linear(in_features=256, out_features=30522, bias=False)\n",
       "  (classifier): Linear(in_features=256, out_features=1, bias=False)\n",
       ")"
      ]
     },
     "execution_count": 26,
     "metadata": {},
     "output_type": "execute_result"
    }
   ],
   "source": [
    "model"
   ]
  },
  {
   "cell_type": "code",
   "execution_count": 27,
   "id": "3e7e5946",
   "metadata": {
    "execution": {
     "iopub.execute_input": "2024-08-25T01:09:21.332238Z",
     "iopub.status.busy": "2024-08-25T01:09:21.330845Z",
     "iopub.status.idle": "2024-08-25T01:09:21.340467Z",
     "shell.execute_reply": "2024-08-25T01:09:21.338942Z"
    },
    "papermill": {
     "duration": 0.041242,
     "end_time": "2024-08-25T01:09:21.343417",
     "exception": false,
     "start_time": "2024-08-25T01:09:21.302175",
     "status": "completed"
    },
    "tags": []
   },
   "outputs": [
    {
     "data": {
      "text/plain": [
       "16367936"
      ]
     },
     "execution_count": 27,
     "metadata": {},
     "output_type": "execute_result"
    }
   ],
   "source": [
    "sum(p.numel() for p in model.parameters() if p.requires_grad)"
   ]
  },
  {
   "cell_type": "markdown",
   "id": "0d5e2c17",
   "metadata": {
    "papermill": {
     "duration": 0.027518,
     "end_time": "2024-08-25T01:09:21.400881",
     "exception": false,
     "start_time": "2024-08-25T01:09:21.373363",
     "status": "completed"
    },
    "tags": []
   },
   "source": [
    "# Fine tuning on sentiment analysis"
   ]
  },
  {
   "cell_type": "code",
   "execution_count": 28,
   "id": "8f9fdc5b",
   "metadata": {
    "execution": {
     "iopub.execute_input": "2024-08-25T01:09:21.458182Z",
     "iopub.status.busy": "2024-08-25T01:09:21.457765Z",
     "iopub.status.idle": "2024-08-25T01:10:01.483061Z",
     "shell.execute_reply": "2024-08-25T01:10:01.481872Z"
    },
    "papermill": {
     "duration": 40.057304,
     "end_time": "2024-08-25T01:10:01.485693",
     "exception": false,
     "start_time": "2024-08-25T01:09:21.428389",
     "status": "completed"
    },
    "tags": []
   },
   "outputs": [
    {
     "data": {
      "application/vnd.jupyter.widget-view+json": {
       "model_id": "0d38618280e74bf3819395d3f48598e8",
       "version_major": 2,
       "version_minor": 0
      },
      "text/plain": [
       "Downloading readme:   0%|          | 0.00/6.81k [00:00<?, ?B/s]"
      ]
     },
     "metadata": {},
     "output_type": "display_data"
    },
    {
     "name": "stderr",
     "output_type": "stream",
     "text": [
      "Downloading data: 100%|██████████| 260M/260M [00:05<00:00, 48.2MB/s]\n",
      "Downloading data: 100%|██████████| 258M/258M [00:06<00:00, 37.8MB/s]\n",
      "Downloading data: 100%|██████████| 255M/255M [00:05<00:00, 43.2MB/s]\n",
      "Downloading data: 100%|██████████| 254M/254M [00:05<00:00, 46.4MB/s]\n",
      "Downloading data: 100%|██████████| 117M/117M [00:03<00:00, 31.0MB/s]\n"
     ]
    },
    {
     "data": {
      "application/vnd.jupyter.widget-view+json": {
       "model_id": "8391fbc8706841d0922feb241151d8f7",
       "version_major": 2,
       "version_minor": 0
      },
      "text/plain": [
       "Generating train split:   0%|          | 0/3600000 [00:00<?, ? examples/s]"
      ]
     },
     "metadata": {},
     "output_type": "display_data"
    },
    {
     "data": {
      "application/vnd.jupyter.widget-view+json": {
       "model_id": "fb3a7c3e50344c3e8dd8d92ba33040fd",
       "version_major": 2,
       "version_minor": 0
      },
      "text/plain": [
       "Generating test split:   0%|          | 0/400000 [00:00<?, ? examples/s]"
      ]
     },
     "metadata": {},
     "output_type": "display_data"
    }
   ],
   "source": [
    "fine_tune_ds = load_dataset(\"fancyzhx/amazon_polarity\")"
   ]
  },
  {
   "cell_type": "code",
   "execution_count": 29,
   "id": "8d1731c8",
   "metadata": {
    "execution": {
     "iopub.execute_input": "2024-08-25T01:10:01.559921Z",
     "iopub.status.busy": "2024-08-25T01:10:01.559115Z",
     "iopub.status.idle": "2024-08-25T01:12:37.177160Z",
     "shell.execute_reply": "2024-08-25T01:12:37.175930Z"
    },
    "papermill": {
     "duration": 155.694173,
     "end_time": "2024-08-25T01:12:37.215357",
     "exception": false,
     "start_time": "2024-08-25T01:10:01.521184",
     "status": "completed"
    },
    "tags": []
   },
   "outputs": [
    {
     "name": "stdout",
     "output_type": "stream",
     "text": [
      "tensor([[  101,   101, 24646,  ...,     0,     0,     0],\n",
      "        [  101,   101,  1996,  ...,     0,     0,     0],\n",
      "        [  101,   101,  6429,  ...,     0,     0,     0],\n",
      "        ...,\n",
      "        [  101,   101,  2438,  ...,     0,     0,     0],\n",
      "        [  101,   101,  2307,  ...,     0,     0,     0],\n",
      "        [  101,   101,  9458,  ...,     0,     0,     0]], device='cuda:0')\n"
     ]
    }
   ],
   "source": [
    "def preprocess_data(data, max_num = 100000):\n",
    "    data_tokens = []\n",
    "    data_positional = []\n",
    "    data_targets = []\n",
    "\n",
    "    #unpacking data\n",
    "    for i, elem in enumerate(data):\n",
    "\n",
    "        #tokenizing the title and content\n",
    "        sentence1 = elem['title']\n",
    "        sentence2 = elem['content']\n",
    "        tokens = tokenizer([sentence1, sentence2])\n",
    "        sentence1_tokens = tokens['input_ids'][0]\n",
    "        sentence2_tokens = tokens['input_ids'][1]\n",
    "\n",
    "        # Trimming down tokens\n",
    "        if len(sentence1_tokens) + len(sentence2_tokens) > max_input_length:\n",
    "            sentence1_tokens = [101] + sentence1_tokens[-int(max_input_length / 2) + 1:]\n",
    "            sentence2_tokens = sentence2_tokens[:int(max_input_length / 2) - 1] + [102]\n",
    "\n",
    "        # Creating sentence tokens\n",
    "        sentence_tokens = [0] * len(sentence1_tokens) + [1] * len(sentence2_tokens)\n",
    "\n",
    "        # Combining and padding\n",
    "        pad_num = max_input_length - (len(sentence1_tokens) + len(sentence2_tokens))\n",
    "        sequence_tokens = sentence1_tokens + sentence2_tokens + [0] * pad_num\n",
    "        sentence_location_tokens = sentence_tokens + [1] * pad_num\n",
    "\n",
    "        data_tokens.append(sequence_tokens)\n",
    "        data_positional.append(sentence_location_tokens)\n",
    "        data_targets.append(elem['label'])\n",
    "\n",
    "        if i > max_num: break\n",
    "\n",
    "    return torch.tensor(data_positional), torch.tensor(data_tokens), torch.tensor(data_targets)\n",
    "\n",
    "#processing data into modeling data\n",
    "train_pos, train_tok, train_targ = preprocess_data(fine_tune_ds['train'])\n",
    "test_pos, test_tok, test_targ = preprocess_data(fine_tune_ds['test'])\n",
    "\n",
    "#moving to training\n",
    "train_pos = train_pos.to(device)\n",
    "train_tok = train_tok.to(device)\n",
    "train_targ = train_targ.to(device)\n",
    "\n",
    "#moving to testing\n",
    "test_pos = test_pos.to(device)\n",
    "test_tok = test_tok.to(device)\n",
    "test_targ = test_targ.to(device)\n",
    "\n",
    "print(train_tok)"
   ]
  },
  {
   "cell_type": "code",
   "execution_count": 30,
   "id": "ce95ba06",
   "metadata": {
    "execution": {
     "iopub.execute_input": "2024-08-25T01:12:37.288995Z",
     "iopub.status.busy": "2024-08-25T01:12:37.288028Z",
     "iopub.status.idle": "2024-08-25T01:12:37.294990Z",
     "shell.execute_reply": "2024-08-25T01:12:37.293984Z"
    },
    "papermill": {
     "duration": 0.045552,
     "end_time": "2024-08-25T01:12:37.297020",
     "exception": false,
     "start_time": "2024-08-25T01:12:37.251468",
     "status": "completed"
    },
    "tags": []
   },
   "outputs": [],
   "source": [
    "# Replacing classification head with a new head\n",
    "# the new training objective is still binary classification,\n",
    "# except these parameters will be used to decide if a\n",
    "# review was positive or negative\n",
    "model.classifier = nn.Linear(d_model, 1, bias=False).to(device)\n",
    "\n",
    "# resetting the optimizer to have access to the parameters of the new head\n",
    "optimizer = optim.Adam(model.parameters(), lr=0.001)"
   ]
  },
  {
   "cell_type": "code",
   "execution_count": 31,
   "id": "6be5dfd0",
   "metadata": {
    "execution": {
     "iopub.execute_input": "2024-08-25T01:12:37.370008Z",
     "iopub.status.busy": "2024-08-25T01:12:37.368977Z",
     "iopub.status.idle": "2024-08-25T01:19:21.607627Z",
     "shell.execute_reply": "2024-08-25T01:19:21.606603Z"
    },
    "papermill": {
     "duration": 404.27784,
     "end_time": "2024-08-25T01:19:21.610819",
     "exception": false,
     "start_time": "2024-08-25T01:12:37.332979",
     "status": "completed"
    },
    "tags": []
   },
   "outputs": [
    {
     "name": "stderr",
     "output_type": "stream",
     "text": [
      "100%|█████████▉| 781/782 [01:21<00:00,  9.62it/s]\n"
     ]
    },
    {
     "name": "stdout",
     "output_type": "stream",
     "text": [
      "=======Epoch 0 Completed=======\n",
      "average loss in epoch: 5.109838737263112\n"
     ]
    },
    {
     "name": "stderr",
     "output_type": "stream",
     "text": [
      "100%|█████████▉| 781/782 [01:20<00:00,  9.69it/s]\n"
     ]
    },
    {
     "name": "stdout",
     "output_type": "stream",
     "text": [
      "=======Epoch 1 Completed=======\n",
      "average loss in epoch: 4.900701988674462\n"
     ]
    },
    {
     "name": "stderr",
     "output_type": "stream",
     "text": [
      "100%|█████████▉| 781/782 [01:20<00:00,  9.66it/s]\n"
     ]
    },
    {
     "name": "stdout",
     "output_type": "stream",
     "text": [
      "=======Epoch 2 Completed=======\n",
      "average loss in epoch: 4.81253920830675\n"
     ]
    },
    {
     "name": "stderr",
     "output_type": "stream",
     "text": [
      "100%|█████████▉| 781/782 [01:20<00:00,  9.68it/s]\n"
     ]
    },
    {
     "name": "stdout",
     "output_type": "stream",
     "text": [
      "=======Epoch 3 Completed=======\n",
      "average loss in epoch: 4.760771188784806\n"
     ]
    },
    {
     "name": "stderr",
     "output_type": "stream",
     "text": [
      "100%|█████████▉| 781/782 [01:20<00:00,  9.65it/s]"
     ]
    },
    {
     "name": "stdout",
     "output_type": "stream",
     "text": [
      "=======Epoch 4 Completed=======\n",
      "average loss in epoch: 4.723997773892138\n"
     ]
    },
    {
     "name": "stderr",
     "output_type": "stream",
     "text": [
      "\n"
     ]
    }
   ],
   "source": [
    "ft_losses = [[]*1]\n",
    "ft_test_acc = []\n",
    "\n",
    "for epoch in range(5):\n",
    "    for i in tqdm(range(0, train_pos.shape[0], batch_size)):\n",
    "\n",
    "        if i+batch_size>=train_pos.shape[0]:\n",
    "            break\n",
    "\n",
    "        #getting batch\n",
    "        train_pos_batch = train_pos[i:i+batch_size]\n",
    "        train_tok_batch = train_tok[i:i+batch_size]\n",
    "        train_targ_batch = train_targ[i:i+batch_size]\n",
    "\n",
    "        # Zeroing out gradients from last iteration\n",
    "        optimizer.zero_grad()\n",
    "\n",
    "        # Masking the tokens in the input sequence\n",
    "        masked_tokens, masked_token_locations = mask_batch(train_tok_batch)\n",
    "\n",
    "        # Generating class and masked token predictions\n",
    "        clsf_logits, token_logits = model(masked_tokens, train_pos_batch, masked_token_locations)\n",
    "\n",
    "        # Setting up target for masked token prediction\n",
    "        masked_token_targets = sequence_batch[masked_token_locations.bool()]\n",
    "\n",
    "        # Calculating loss for next sentence classification\n",
    "        loss_clsf = classification_criterion(clsf_logits.squeeze(), train_targ_batch.float())\n",
    "\n",
    "        # Calculating loss for masked language modeling\n",
    "        loss_mlm = token_criterion(token_logits, masked_token_targets)\n",
    "\n",
    "        # Combining losses\n",
    "        loss = loss_mlm + loss_clsf\n",
    "\n",
    "        ft_losses[-1].append(float(loss))\n",
    "\n",
    "        # Backpropagation\n",
    "        loss.backward()\n",
    "        optimizer.step()\n",
    "\n",
    "    print(f'=======Epoch {epoch} Completed=======')\n",
    "    print(f'average loss in epoch: {np.mean(ft_losses[-1])}')\n",
    "    losses.append([])"
   ]
  },
  {
   "cell_type": "code",
   "execution_count": 32,
   "id": "4fb1770e",
   "metadata": {
    "execution": {
     "iopub.execute_input": "2024-08-25T01:19:22.358355Z",
     "iopub.status.busy": "2024-08-25T01:19:22.357149Z",
     "iopub.status.idle": "2024-08-25T01:19:24.939963Z",
     "shell.execute_reply": "2024-08-25T01:19:24.938820Z"
    },
    "papermill": {
     "duration": 2.960405,
     "end_time": "2024-08-25T01:19:24.942334",
     "exception": false,
     "start_time": "2024-08-25T01:19:21.981929",
     "status": "completed"
    },
    "tags": []
   },
   "outputs": [
    {
     "name": "stderr",
     "output_type": "stream",
     "text": [
      "100%|█████████▉| 781/782 [00:02<00:00, 304.01it/s]\n"
     ]
    }
   ],
   "source": [
    "is_correct = []\n",
    "predicted_class = []\n",
    "original_class = []\n",
    "\n",
    "for i in tqdm(range(0, test_pos.shape[0], batch_size)):\n",
    "\n",
    "    if i+batch_size>=test_pos.shape[0]:\n",
    "            break\n",
    "\n",
    "    #getting batch\n",
    "    test_pos_batch = test_pos[i:i+batch_size]\n",
    "    test_tok_batch = test_tok[i:i+batch_size]\n",
    "    test_targ_batch = test_targ[i:i+batch_size]\n",
    "\n",
    "    #making prediction, not masking anything\n",
    "    clsf_logits, _ = model(test_tok_batch, test_pos_batch, torch.zeros(test_pos_batch.shape))\n",
    "\n",
    "    #converting logits to probabilities then rounding to classifications\n",
    "    res = torch.sigmoid(clsf_logits).round().squeeze()\n",
    "\n",
    "    #keeping track of the original class (positive or negative) and if the model was correct\n",
    "    original_class.extend(np.array(test_targ_batch.to('cpu')))\n",
    "    is_correct.extend(np.array((res == test_targ_batch).to('cpu')))\n",
    "    predicted_class.extend(np.array(res.detach().to('cpu')))"
   ]
  },
  {
   "cell_type": "code",
   "execution_count": 33,
   "id": "332104f0",
   "metadata": {
    "execution": {
     "iopub.execute_input": "2024-08-25T01:19:25.690850Z",
     "iopub.status.busy": "2024-08-25T01:19:25.690137Z",
     "iopub.status.idle": "2024-08-25T01:19:25.721969Z",
     "shell.execute_reply": "2024-08-25T01:19:25.720866Z"
    },
    "papermill": {
     "duration": 0.410836,
     "end_time": "2024-08-25T01:19:25.724272",
     "exception": false,
     "start_time": "2024-08-25T01:19:25.313436",
     "status": "completed"
    },
    "tags": []
   },
   "outputs": [
    {
     "data": {
      "text/plain": [
       "0.8422795294494239"
      ]
     },
     "execution_count": 33,
     "metadata": {},
     "output_type": "execute_result"
    }
   ],
   "source": [
    "#accuracy\n",
    "sum(list(is_correct))/len(is_correct)"
   ]
  },
  {
   "cell_type": "code",
   "execution_count": 34,
   "id": "68733f43",
   "metadata": {
    "execution": {
     "iopub.execute_input": "2024-08-25T01:19:26.517542Z",
     "iopub.status.busy": "2024-08-25T01:19:26.516779Z",
     "iopub.status.idle": "2024-08-25T01:19:26.623408Z",
     "shell.execute_reply": "2024-08-25T01:19:26.622258Z"
    },
    "papermill": {
     "duration": 0.476923,
     "end_time": "2024-08-25T01:19:26.625727",
     "exception": false,
     "start_time": "2024-08-25T01:19:26.148804",
     "status": "completed"
    },
    "tags": []
   },
   "outputs": [
    {
     "name": "stdout",
     "output_type": "stream",
     "text": [
      "              precision    recall  f1-score   support\n",
      "\n",
      "           0       0.88      0.79      0.83     49405\n",
      "           1       0.81      0.90      0.85     50563\n",
      "\n",
      "    accuracy                           0.84     99968\n",
      "   macro avg       0.85      0.84      0.84     99968\n",
      "weighted avg       0.85      0.84      0.84     99968\n",
      "\n"
     ]
    }
   ],
   "source": [
    "from sklearn.metrics import confusion_matrix, classification_report\n",
    "print(classification_report(original_class, predicted_class))"
   ]
  },
  {
   "cell_type": "markdown",
   "id": "f07a9f06",
   "metadata": {
    "papermill": {
     "duration": 0.374079,
     "end_time": "2024-08-25T01:19:27.373731",
     "exception": false,
     "start_time": "2024-08-25T01:19:26.999652",
     "status": "completed"
    },
    "tags": []
   },
   "source": [
    "# Acknowledgements\n",
    "\n",
    "* https://medium.com/towards-data-science/bert-intuitively-and-exhaustively-explained-48a24ecc1c8a\n",
    "* https://github.com/DanielWarfield1/MLWritingAndResearch/blob/main/BERTFromScratch.ipynb"
   ]
  }
 ],
 "metadata": {
  "kaggle": {
   "accelerator": "gpu",
   "dataSources": [],
   "dockerImageVersionId": 30762,
   "isGpuEnabled": true,
   "isInternetEnabled": true,
   "language": "python",
   "sourceType": "notebook"
  },
  "kernelspec": {
   "display_name": "Python 3",
   "language": "python",
   "name": "python3"
  },
  "language_info": {
   "codemirror_mode": {
    "name": "ipython",
    "version": 3
   },
   "file_extension": ".py",
   "mimetype": "text/x-python",
   "name": "python",
   "nbconvert_exporter": "python",
   "pygments_lexer": "ipython3",
   "version": "3.10.14"
  },
  "papermill": {
   "default_parameters": {},
   "duration": 718.19385,
   "end_time": "2024-08-25T01:19:30.636272",
   "environment_variables": {},
   "exception": null,
   "input_path": "__notebook__.ipynb",
   "output_path": "__notebook__.ipynb",
   "parameters": {},
   "start_time": "2024-08-25T01:07:32.442422",
   "version": "2.6.0"
  },
  "widgets": {
   "application/vnd.jupyter.widget-state+json": {
    "state": {
     "002d6eedf75a4696954a5e5a1de980dd": {
      "model_module": "@jupyter-widgets/controls",
      "model_module_version": "1.5.0",
      "model_name": "HBoxModel",
      "state": {
       "_dom_classes": [],
       "_model_module": "@jupyter-widgets/controls",
       "_model_module_version": "1.5.0",
       "_model_name": "HBoxModel",
       "_view_count": null,
       "_view_module": "@jupyter-widgets/controls",
       "_view_module_version": "1.5.0",
       "_view_name": "HBoxView",
       "box_style": "",
       "children": [
        "IPY_MODEL_7bcbc70f17dd4ffa9df44572d4bbe350",
        "IPY_MODEL_07323e411a244e58a59d728288f47d8c",
        "IPY_MODEL_c30798d3b97a44279028924ff717f6f6"
       ],
       "layout": "IPY_MODEL_230ff15fd53944bda27e546c14958c02"
      }
     },
     "07323e411a244e58a59d728288f47d8c": {
      "model_module": "@jupyter-widgets/controls",
      "model_module_version": "1.5.0",
      "model_name": "FloatProgressModel",
      "state": {
       "_dom_classes": [],
       "_model_module": "@jupyter-widgets/controls",
       "_model_module_version": "1.5.0",
       "_model_name": "FloatProgressModel",
       "_view_count": null,
       "_view_module": "@jupyter-widgets/controls",
       "_view_module_version": "1.5.0",
       "_view_name": "ProgressView",
       "bar_style": "success",
       "description": "",
       "description_tooltip": null,
       "layout": "IPY_MODEL_3428f45b92024b01b0de36f320bf8f3b",
       "max": 48.0,
       "min": 0.0,
       "orientation": "horizontal",
       "style": "IPY_MODEL_1db3c6d18de542e8990ac1b8ce2763be",
       "value": 48.0
      }
     },
     "07bb810b9989447a942d677d84acdaf0": {
      "model_module": "@jupyter-widgets/controls",
      "model_module_version": "1.5.0",
      "model_name": "DescriptionStyleModel",
      "state": {
       "_model_module": "@jupyter-widgets/controls",
       "_model_module_version": "1.5.0",
       "_model_name": "DescriptionStyleModel",
       "_view_count": null,
       "_view_module": "@jupyter-widgets/base",
       "_view_module_version": "1.2.0",
       "_view_name": "StyleView",
       "description_width": ""
      }
     },
     "086fd6245470451e85de03da36b30480": {
      "model_module": "@jupyter-widgets/base",
      "model_module_version": "1.2.0",
      "model_name": "LayoutModel",
      "state": {
       "_model_module": "@jupyter-widgets/base",
       "_model_module_version": "1.2.0",
       "_model_name": "LayoutModel",
       "_view_count": null,
       "_view_module": "@jupyter-widgets/base",
       "_view_module_version": "1.2.0",
       "_view_name": "LayoutView",
       "align_content": null,
       "align_items": null,
       "align_self": null,
       "border": null,
       "bottom": null,
       "display": null,
       "flex": null,
       "flex_flow": null,
       "grid_area": null,
       "grid_auto_columns": null,
       "grid_auto_flow": null,
       "grid_auto_rows": null,
       "grid_column": null,
       "grid_gap": null,
       "grid_row": null,
       "grid_template_areas": null,
       "grid_template_columns": null,
       "grid_template_rows": null,
       "height": null,
       "justify_content": null,
       "justify_items": null,
       "left": null,
       "margin": null,
       "max_height": null,
       "max_width": null,
       "min_height": null,
       "min_width": null,
       "object_fit": null,
       "object_position": null,
       "order": null,
       "overflow": null,
       "overflow_x": null,
       "overflow_y": null,
       "padding": null,
       "right": null,
       "top": null,
       "visibility": null,
       "width": null
      }
     },
     "0b05acd225334434b177c7892df04c18": {
      "model_module": "@jupyter-widgets/controls",
      "model_module_version": "1.5.0",
      "model_name": "ProgressStyleModel",
      "state": {
       "_model_module": "@jupyter-widgets/controls",
       "_model_module_version": "1.5.0",
       "_model_name": "ProgressStyleModel",
       "_view_count": null,
       "_view_module": "@jupyter-widgets/base",
       "_view_module_version": "1.2.0",
       "_view_name": "StyleView",
       "bar_color": null,
       "description_width": ""
      }
     },
     "0cba6ef697d64bf7879d83f491be221f": {
      "model_module": "@jupyter-widgets/controls",
      "model_module_version": "1.5.0",
      "model_name": "FloatProgressModel",
      "state": {
       "_dom_classes": [],
       "_model_module": "@jupyter-widgets/controls",
       "_model_module_version": "1.5.0",
       "_model_name": "FloatProgressModel",
       "_view_count": null,
       "_view_module": "@jupyter-widgets/controls",
       "_view_module_version": "1.5.0",
       "_view_name": "ProgressView",
       "bar_style": "success",
       "description": "",
       "description_tooltip": null,
       "layout": "IPY_MODEL_56c0ffc3329e4001b876e9792e24f5cd",
       "max": 231508.0,
       "min": 0.0,
       "orientation": "horizontal",
       "style": "IPY_MODEL_2151459aa5f54b9f8b47689a58dbec2f",
       "value": 231508.0
      }
     },
     "0cecb021e7dc420aa495a01ffb1e35e6": {
      "model_module": "@jupyter-widgets/base",
      "model_module_version": "1.2.0",
      "model_name": "LayoutModel",
      "state": {
       "_model_module": "@jupyter-widgets/base",
       "_model_module_version": "1.2.0",
       "_model_name": "LayoutModel",
       "_view_count": null,
       "_view_module": "@jupyter-widgets/base",
       "_view_module_version": "1.2.0",
       "_view_name": "LayoutView",
       "align_content": null,
       "align_items": null,
       "align_self": null,
       "border": null,
       "bottom": null,
       "display": null,
       "flex": null,
       "flex_flow": null,
       "grid_area": null,
       "grid_auto_columns": null,
       "grid_auto_flow": null,
       "grid_auto_rows": null,
       "grid_column": null,
       "grid_gap": null,
       "grid_row": null,
       "grid_template_areas": null,
       "grid_template_columns": null,
       "grid_template_rows": null,
       "height": null,
       "justify_content": null,
       "justify_items": null,
       "left": null,
       "margin": null,
       "max_height": null,
       "max_width": null,
       "min_height": null,
       "min_width": null,
       "object_fit": null,
       "object_position": null,
       "order": null,
       "overflow": null,
       "overflow_x": null,
       "overflow_y": null,
       "padding": null,
       "right": null,
       "top": null,
       "visibility": null,
       "width": null
      }
     },
     "0d38618280e74bf3819395d3f48598e8": {
      "model_module": "@jupyter-widgets/controls",
      "model_module_version": "1.5.0",
      "model_name": "HBoxModel",
      "state": {
       "_dom_classes": [],
       "_model_module": "@jupyter-widgets/controls",
       "_model_module_version": "1.5.0",
       "_model_name": "HBoxModel",
       "_view_count": null,
       "_view_module": "@jupyter-widgets/controls",
       "_view_module_version": "1.5.0",
       "_view_name": "HBoxView",
       "box_style": "",
       "children": [
        "IPY_MODEL_51004d87fdc64bc7941ddacf9d7cfccc",
        "IPY_MODEL_88fc9f37360f4fb89e11230c7e59251c",
        "IPY_MODEL_8ce4e0460cf54cc4b17295cba4791084"
       ],
       "layout": "IPY_MODEL_32b1a93bc20942f6a4e1417cc4864ff6"
      }
     },
     "10357156c70545e38580ef6daa8bf961": {
      "model_module": "@jupyter-widgets/base",
      "model_module_version": "1.2.0",
      "model_name": "LayoutModel",
      "state": {
       "_model_module": "@jupyter-widgets/base",
       "_model_module_version": "1.2.0",
       "_model_name": "LayoutModel",
       "_view_count": null,
       "_view_module": "@jupyter-widgets/base",
       "_view_module_version": "1.2.0",
       "_view_name": "LayoutView",
       "align_content": null,
       "align_items": null,
       "align_self": null,
       "border": null,
       "bottom": null,
       "display": null,
       "flex": null,
       "flex_flow": null,
       "grid_area": null,
       "grid_auto_columns": null,
       "grid_auto_flow": null,
       "grid_auto_rows": null,
       "grid_column": null,
       "grid_gap": null,
       "grid_row": null,
       "grid_template_areas": null,
       "grid_template_columns": null,
       "grid_template_rows": null,
       "height": null,
       "justify_content": null,
       "justify_items": null,
       "left": null,
       "margin": null,
       "max_height": null,
       "max_width": null,
       "min_height": null,
       "min_width": null,
       "object_fit": null,
       "object_position": null,
       "order": null,
       "overflow": null,
       "overflow_x": null,
       "overflow_y": null,
       "padding": null,
       "right": null,
       "top": null,
       "visibility": null,
       "width": null
      }
     },
     "10fcca04a5fa42c592a42817060a1a69": {
      "model_module": "@jupyter-widgets/base",
      "model_module_version": "1.2.0",
      "model_name": "LayoutModel",
      "state": {
       "_model_module": "@jupyter-widgets/base",
       "_model_module_version": "1.2.0",
       "_model_name": "LayoutModel",
       "_view_count": null,
       "_view_module": "@jupyter-widgets/base",
       "_view_module_version": "1.2.0",
       "_view_name": "LayoutView",
       "align_content": null,
       "align_items": null,
       "align_self": null,
       "border": null,
       "bottom": null,
       "display": null,
       "flex": null,
       "flex_flow": null,
       "grid_area": null,
       "grid_auto_columns": null,
       "grid_auto_flow": null,
       "grid_auto_rows": null,
       "grid_column": null,
       "grid_gap": null,
       "grid_row": null,
       "grid_template_areas": null,
       "grid_template_columns": null,
       "grid_template_rows": null,
       "height": null,
       "justify_content": null,
       "justify_items": null,
       "left": null,
       "margin": null,
       "max_height": null,
       "max_width": null,
       "min_height": null,
       "min_width": null,
       "object_fit": null,
       "object_position": null,
       "order": null,
       "overflow": null,
       "overflow_x": null,
       "overflow_y": null,
       "padding": null,
       "right": null,
       "top": null,
       "visibility": null,
       "width": null
      }
     },
     "144afccf72d94f40a494f1ae4afecbb8": {
      "model_module": "@jupyter-widgets/base",
      "model_module_version": "1.2.0",
      "model_name": "LayoutModel",
      "state": {
       "_model_module": "@jupyter-widgets/base",
       "_model_module_version": "1.2.0",
       "_model_name": "LayoutModel",
       "_view_count": null,
       "_view_module": "@jupyter-widgets/base",
       "_view_module_version": "1.2.0",
       "_view_name": "LayoutView",
       "align_content": null,
       "align_items": null,
       "align_self": null,
       "border": null,
       "bottom": null,
       "display": null,
       "flex": null,
       "flex_flow": null,
       "grid_area": null,
       "grid_auto_columns": null,
       "grid_auto_flow": null,
       "grid_auto_rows": null,
       "grid_column": null,
       "grid_gap": null,
       "grid_row": null,
       "grid_template_areas": null,
       "grid_template_columns": null,
       "grid_template_rows": null,
       "height": null,
       "justify_content": null,
       "justify_items": null,
       "left": null,
       "margin": null,
       "max_height": null,
       "max_width": null,
       "min_height": null,
       "min_width": null,
       "object_fit": null,
       "object_position": null,
       "order": null,
       "overflow": null,
       "overflow_x": null,
       "overflow_y": null,
       "padding": null,
       "right": null,
       "top": null,
       "visibility": null,
       "width": null
      }
     },
     "194a41bacb404c839c16ea100397c2c0": {
      "model_module": "@jupyter-widgets/controls",
      "model_module_version": "1.5.0",
      "model_name": "HBoxModel",
      "state": {
       "_dom_classes": [],
       "_model_module": "@jupyter-widgets/controls",
       "_model_module_version": "1.5.0",
       "_model_name": "HBoxModel",
       "_view_count": null,
       "_view_module": "@jupyter-widgets/controls",
       "_view_module_version": "1.5.0",
       "_view_name": "HBoxView",
       "box_style": "",
       "children": [
        "IPY_MODEL_820655b972e1426d981788fd7391df58",
        "IPY_MODEL_43669d979e6844d9832877e2d765bc5b",
        "IPY_MODEL_99dc6192ff53420882fb4633b6fe64fd"
       ],
       "layout": "IPY_MODEL_ddb77b22f5d94faca8f0d53458327c46"
      }
     },
     "1a71becb30dd4ac08a1c3add04bfce83": {
      "model_module": "@jupyter-widgets/base",
      "model_module_version": "1.2.0",
      "model_name": "LayoutModel",
      "state": {
       "_model_module": "@jupyter-widgets/base",
       "_model_module_version": "1.2.0",
       "_model_name": "LayoutModel",
       "_view_count": null,
       "_view_module": "@jupyter-widgets/base",
       "_view_module_version": "1.2.0",
       "_view_name": "LayoutView",
       "align_content": null,
       "align_items": null,
       "align_self": null,
       "border": null,
       "bottom": null,
       "display": null,
       "flex": null,
       "flex_flow": null,
       "grid_area": null,
       "grid_auto_columns": null,
       "grid_auto_flow": null,
       "grid_auto_rows": null,
       "grid_column": null,
       "grid_gap": null,
       "grid_row": null,
       "grid_template_areas": null,
       "grid_template_columns": null,
       "grid_template_rows": null,
       "height": null,
       "justify_content": null,
       "justify_items": null,
       "left": null,
       "margin": null,
       "max_height": null,
       "max_width": null,
       "min_height": null,
       "min_width": null,
       "object_fit": null,
       "object_position": null,
       "order": null,
       "overflow": null,
       "overflow_x": null,
       "overflow_y": null,
       "padding": null,
       "right": null,
       "top": null,
       "visibility": null,
       "width": null
      }
     },
     "1db3c6d18de542e8990ac1b8ce2763be": {
      "model_module": "@jupyter-widgets/controls",
      "model_module_version": "1.5.0",
      "model_name": "ProgressStyleModel",
      "state": {
       "_model_module": "@jupyter-widgets/controls",
       "_model_module_version": "1.5.0",
       "_model_name": "ProgressStyleModel",
       "_view_count": null,
       "_view_module": "@jupyter-widgets/base",
       "_view_module_version": "1.2.0",
       "_view_name": "StyleView",
       "bar_color": null,
       "description_width": ""
      }
     },
     "2034f40500ed46c9a1881224aed70fb7": {
      "model_module": "@jupyter-widgets/base",
      "model_module_version": "1.2.0",
      "model_name": "LayoutModel",
      "state": {
       "_model_module": "@jupyter-widgets/base",
       "_model_module_version": "1.2.0",
       "_model_name": "LayoutModel",
       "_view_count": null,
       "_view_module": "@jupyter-widgets/base",
       "_view_module_version": "1.2.0",
       "_view_name": "LayoutView",
       "align_content": null,
       "align_items": null,
       "align_self": null,
       "border": null,
       "bottom": null,
       "display": null,
       "flex": null,
       "flex_flow": null,
       "grid_area": null,
       "grid_auto_columns": null,
       "grid_auto_flow": null,
       "grid_auto_rows": null,
       "grid_column": null,
       "grid_gap": null,
       "grid_row": null,
       "grid_template_areas": null,
       "grid_template_columns": null,
       "grid_template_rows": null,
       "height": null,
       "justify_content": null,
       "justify_items": null,
       "left": null,
       "margin": null,
       "max_height": null,
       "max_width": null,
       "min_height": null,
       "min_width": null,
       "object_fit": null,
       "object_position": null,
       "order": null,
       "overflow": null,
       "overflow_x": null,
       "overflow_y": null,
       "padding": null,
       "right": null,
       "top": null,
       "visibility": null,
       "width": null
      }
     },
     "2151459aa5f54b9f8b47689a58dbec2f": {
      "model_module": "@jupyter-widgets/controls",
      "model_module_version": "1.5.0",
      "model_name": "ProgressStyleModel",
      "state": {
       "_model_module": "@jupyter-widgets/controls",
       "_model_module_version": "1.5.0",
       "_model_name": "ProgressStyleModel",
       "_view_count": null,
       "_view_module": "@jupyter-widgets/base",
       "_view_module_version": "1.2.0",
       "_view_name": "StyleView",
       "bar_color": null,
       "description_width": ""
      }
     },
     "230ff15fd53944bda27e546c14958c02": {
      "model_module": "@jupyter-widgets/base",
      "model_module_version": "1.2.0",
      "model_name": "LayoutModel",
      "state": {
       "_model_module": "@jupyter-widgets/base",
       "_model_module_version": "1.2.0",
       "_model_name": "LayoutModel",
       "_view_count": null,
       "_view_module": "@jupyter-widgets/base",
       "_view_module_version": "1.2.0",
       "_view_name": "LayoutView",
       "align_content": null,
       "align_items": null,
       "align_self": null,
       "border": null,
       "bottom": null,
       "display": null,
       "flex": null,
       "flex_flow": null,
       "grid_area": null,
       "grid_auto_columns": null,
       "grid_auto_flow": null,
       "grid_auto_rows": null,
       "grid_column": null,
       "grid_gap": null,
       "grid_row": null,
       "grid_template_areas": null,
       "grid_template_columns": null,
       "grid_template_rows": null,
       "height": null,
       "justify_content": null,
       "justify_items": null,
       "left": null,
       "margin": null,
       "max_height": null,
       "max_width": null,
       "min_height": null,
       "min_width": null,
       "object_fit": null,
       "object_position": null,
       "order": null,
       "overflow": null,
       "overflow_x": null,
       "overflow_y": null,
       "padding": null,
       "right": null,
       "top": null,
       "visibility": null,
       "width": null
      }
     },
     "23fc79031af64b9b857b07fe998887bc": {
      "model_module": "@jupyter-widgets/controls",
      "model_module_version": "1.5.0",
      "model_name": "HBoxModel",
      "state": {
       "_dom_classes": [],
       "_model_module": "@jupyter-widgets/controls",
       "_model_module_version": "1.5.0",
       "_model_name": "HBoxModel",
       "_view_count": null,
       "_view_module": "@jupyter-widgets/controls",
       "_view_module_version": "1.5.0",
       "_view_name": "HBoxView",
       "box_style": "",
       "children": [
        "IPY_MODEL_c6e3c4bbbaf943809f2c8f9041850256",
        "IPY_MODEL_7a888203c77946f79136a652db4757ce",
        "IPY_MODEL_a835e91832f443778fabb7c8685b2f20"
       ],
       "layout": "IPY_MODEL_47bfbe64e07f414a8160273dc2090022"
      }
     },
     "265251147fcb49ca904292e056775606": {
      "model_module": "@jupyter-widgets/base",
      "model_module_version": "1.2.0",
      "model_name": "LayoutModel",
      "state": {
       "_model_module": "@jupyter-widgets/base",
       "_model_module_version": "1.2.0",
       "_model_name": "LayoutModel",
       "_view_count": null,
       "_view_module": "@jupyter-widgets/base",
       "_view_module_version": "1.2.0",
       "_view_name": "LayoutView",
       "align_content": null,
       "align_items": null,
       "align_self": null,
       "border": null,
       "bottom": null,
       "display": null,
       "flex": null,
       "flex_flow": null,
       "grid_area": null,
       "grid_auto_columns": null,
       "grid_auto_flow": null,
       "grid_auto_rows": null,
       "grid_column": null,
       "grid_gap": null,
       "grid_row": null,
       "grid_template_areas": null,
       "grid_template_columns": null,
       "grid_template_rows": null,
       "height": null,
       "justify_content": null,
       "justify_items": null,
       "left": null,
       "margin": null,
       "max_height": null,
       "max_width": null,
       "min_height": null,
       "min_width": null,
       "object_fit": null,
       "object_position": null,
       "order": null,
       "overflow": null,
       "overflow_x": null,
       "overflow_y": null,
       "padding": null,
       "right": null,
       "top": null,
       "visibility": null,
       "width": null
      }
     },
     "26939d48c03449e594c8e70235efcd96": {
      "model_module": "@jupyter-widgets/controls",
      "model_module_version": "1.5.0",
      "model_name": "ProgressStyleModel",
      "state": {
       "_model_module": "@jupyter-widgets/controls",
       "_model_module_version": "1.5.0",
       "_model_name": "ProgressStyleModel",
       "_view_count": null,
       "_view_module": "@jupyter-widgets/base",
       "_view_module_version": "1.2.0",
       "_view_name": "StyleView",
       "bar_color": null,
       "description_width": ""
      }
     },
     "294f2d9e130149a5ba58a0fc79d52e54": {
      "model_module": "@jupyter-widgets/base",
      "model_module_version": "1.2.0",
      "model_name": "LayoutModel",
      "state": {
       "_model_module": "@jupyter-widgets/base",
       "_model_module_version": "1.2.0",
       "_model_name": "LayoutModel",
       "_view_count": null,
       "_view_module": "@jupyter-widgets/base",
       "_view_module_version": "1.2.0",
       "_view_name": "LayoutView",
       "align_content": null,
       "align_items": null,
       "align_self": null,
       "border": null,
       "bottom": null,
       "display": null,
       "flex": null,
       "flex_flow": null,
       "grid_area": null,
       "grid_auto_columns": null,
       "grid_auto_flow": null,
       "grid_auto_rows": null,
       "grid_column": null,
       "grid_gap": null,
       "grid_row": null,
       "grid_template_areas": null,
       "grid_template_columns": null,
       "grid_template_rows": null,
       "height": null,
       "justify_content": null,
       "justify_items": null,
       "left": null,
       "margin": null,
       "max_height": null,
       "max_width": null,
       "min_height": null,
       "min_width": null,
       "object_fit": null,
       "object_position": null,
       "order": null,
       "overflow": null,
       "overflow_x": null,
       "overflow_y": null,
       "padding": null,
       "right": null,
       "top": null,
       "visibility": null,
       "width": null
      }
     },
     "2b2413d24f5641d38fe3404ea7c58cef": {
      "model_module": "@jupyter-widgets/controls",
      "model_module_version": "1.5.0",
      "model_name": "HTMLModel",
      "state": {
       "_dom_classes": [],
       "_model_module": "@jupyter-widgets/controls",
       "_model_module_version": "1.5.0",
       "_model_name": "HTMLModel",
       "_view_count": null,
       "_view_module": "@jupyter-widgets/controls",
       "_view_module_version": "1.5.0",
       "_view_name": "HTMLView",
       "description": "",
       "description_tooltip": null,
       "layout": "IPY_MODEL_55e330676a03435d966ad774ab68cffd",
       "placeholder": "​",
       "style": "IPY_MODEL_5ea9977473ec420d955c6b53e48d1c4b",
       "value": "tokenizer.json: 100%"
      }
     },
     "302b731e995244f39889dd741c60f3d3": {
      "model_module": "@jupyter-widgets/controls",
      "model_module_version": "1.5.0",
      "model_name": "HTMLModel",
      "state": {
       "_dom_classes": [],
       "_model_module": "@jupyter-widgets/controls",
       "_model_module_version": "1.5.0",
       "_model_name": "HTMLModel",
       "_view_count": null,
       "_view_module": "@jupyter-widgets/controls",
       "_view_module_version": "1.5.0",
       "_view_name": "HTMLView",
       "description": "",
       "description_tooltip": null,
       "layout": "IPY_MODEL_805afe4ca2054639806fe1c3da243fc1",
       "placeholder": "​",
       "style": "IPY_MODEL_5100e65c5d9e4200ab1f28e68dba5d0a",
       "value": "Downloading readme: 100%"
      }
     },
     "32b1a93bc20942f6a4e1417cc4864ff6": {
      "model_module": "@jupyter-widgets/base",
      "model_module_version": "1.2.0",
      "model_name": "LayoutModel",
      "state": {
       "_model_module": "@jupyter-widgets/base",
       "_model_module_version": "1.2.0",
       "_model_name": "LayoutModel",
       "_view_count": null,
       "_view_module": "@jupyter-widgets/base",
       "_view_module_version": "1.2.0",
       "_view_name": "LayoutView",
       "align_content": null,
       "align_items": null,
       "align_self": null,
       "border": null,
       "bottom": null,
       "display": null,
       "flex": null,
       "flex_flow": null,
       "grid_area": null,
       "grid_auto_columns": null,
       "grid_auto_flow": null,
       "grid_auto_rows": null,
       "grid_column": null,
       "grid_gap": null,
       "grid_row": null,
       "grid_template_areas": null,
       "grid_template_columns": null,
       "grid_template_rows": null,
       "height": null,
       "justify_content": null,
       "justify_items": null,
       "left": null,
       "margin": null,
       "max_height": null,
       "max_width": null,
       "min_height": null,
       "min_width": null,
       "object_fit": null,
       "object_position": null,
       "order": null,
       "overflow": null,
       "overflow_x": null,
       "overflow_y": null,
       "padding": null,
       "right": null,
       "top": null,
       "visibility": null,
       "width": null
      }
     },
     "3428f45b92024b01b0de36f320bf8f3b": {
      "model_module": "@jupyter-widgets/base",
      "model_module_version": "1.2.0",
      "model_name": "LayoutModel",
      "state": {
       "_model_module": "@jupyter-widgets/base",
       "_model_module_version": "1.2.0",
       "_model_name": "LayoutModel",
       "_view_count": null,
       "_view_module": "@jupyter-widgets/base",
       "_view_module_version": "1.2.0",
       "_view_name": "LayoutView",
       "align_content": null,
       "align_items": null,
       "align_self": null,
       "border": null,
       "bottom": null,
       "display": null,
       "flex": null,
       "flex_flow": null,
       "grid_area": null,
       "grid_auto_columns": null,
       "grid_auto_flow": null,
       "grid_auto_rows": null,
       "grid_column": null,
       "grid_gap": null,
       "grid_row": null,
       "grid_template_areas": null,
       "grid_template_columns": null,
       "grid_template_rows": null,
       "height": null,
       "justify_content": null,
       "justify_items": null,
       "left": null,
       "margin": null,
       "max_height": null,
       "max_width": null,
       "min_height": null,
       "min_width": null,
       "object_fit": null,
       "object_position": null,
       "order": null,
       "overflow": null,
       "overflow_x": null,
       "overflow_y": null,
       "padding": null,
       "right": null,
       "top": null,
       "visibility": null,
       "width": null
      }
     },
     "40bd98d9ff4c4d8b8a9cd03a16dd2751": {
      "model_module": "@jupyter-widgets/controls",
      "model_module_version": "1.5.0",
      "model_name": "ProgressStyleModel",
      "state": {
       "_model_module": "@jupyter-widgets/controls",
       "_model_module_version": "1.5.0",
       "_model_name": "ProgressStyleModel",
       "_view_count": null,
       "_view_module": "@jupyter-widgets/base",
       "_view_module_version": "1.2.0",
       "_view_name": "StyleView",
       "bar_color": null,
       "description_width": ""
      }
     },
     "42634a7c61fb4be99c6db527a04b3e4c": {
      "model_module": "@jupyter-widgets/controls",
      "model_module_version": "1.5.0",
      "model_name": "HTMLModel",
      "state": {
       "_dom_classes": [],
       "_model_module": "@jupyter-widgets/controls",
       "_model_module_version": "1.5.0",
       "_model_name": "HTMLModel",
       "_view_count": null,
       "_view_module": "@jupyter-widgets/controls",
       "_view_module_version": "1.5.0",
       "_view_name": "HTMLView",
       "description": "",
       "description_tooltip": null,
       "layout": "IPY_MODEL_086fd6245470451e85de03da36b30480",
       "placeholder": "​",
       "style": "IPY_MODEL_5e359b6efab34e229c26d51eccde3d21",
       "value": "Generating train split: 100%"
      }
     },
     "43669d979e6844d9832877e2d765bc5b": {
      "model_module": "@jupyter-widgets/controls",
      "model_module_version": "1.5.0",
      "model_name": "FloatProgressModel",
      "state": {
       "_dom_classes": [],
       "_model_module": "@jupyter-widgets/controls",
       "_model_module_version": "1.5.0",
       "_model_name": "FloatProgressModel",
       "_view_count": null,
       "_view_module": "@jupyter-widgets/controls",
       "_view_module_version": "1.5.0",
       "_view_name": "ProgressView",
       "bar_style": "success",
       "description": "",
       "description_tooltip": null,
       "layout": "IPY_MODEL_4d0fa431ba274840afe92d881eb34cd9",
       "max": 5.0,
       "min": 0.0,
       "orientation": "horizontal",
       "style": "IPY_MODEL_9cf557c15bfd414d9d1f514b7bd11e1e",
       "value": 5.0
      }
     },
     "44683cd6d4154c2699601a38bd8c8bb1": {
      "model_module": "@jupyter-widgets/controls",
      "model_module_version": "1.5.0",
      "model_name": "DescriptionStyleModel",
      "state": {
       "_model_module": "@jupyter-widgets/controls",
       "_model_module_version": "1.5.0",
       "_model_name": "DescriptionStyleModel",
       "_view_count": null,
       "_view_module": "@jupyter-widgets/base",
       "_view_module_version": "1.2.0",
       "_view_name": "StyleView",
       "description_width": ""
      }
     },
     "45518a8e3ae14ab69f8cc194ee63332c": {
      "model_module": "@jupyter-widgets/controls",
      "model_module_version": "1.5.0",
      "model_name": "DescriptionStyleModel",
      "state": {
       "_model_module": "@jupyter-widgets/controls",
       "_model_module_version": "1.5.0",
       "_model_name": "DescriptionStyleModel",
       "_view_count": null,
       "_view_module": "@jupyter-widgets/base",
       "_view_module_version": "1.2.0",
       "_view_name": "StyleView",
       "description_width": ""
      }
     },
     "47bfbe64e07f414a8160273dc2090022": {
      "model_module": "@jupyter-widgets/base",
      "model_module_version": "1.2.0",
      "model_name": "LayoutModel",
      "state": {
       "_model_module": "@jupyter-widgets/base",
       "_model_module_version": "1.2.0",
       "_model_name": "LayoutModel",
       "_view_count": null,
       "_view_module": "@jupyter-widgets/base",
       "_view_module_version": "1.2.0",
       "_view_name": "LayoutView",
       "align_content": null,
       "align_items": null,
       "align_self": null,
       "border": null,
       "bottom": null,
       "display": null,
       "flex": null,
       "flex_flow": null,
       "grid_area": null,
       "grid_auto_columns": null,
       "grid_auto_flow": null,
       "grid_auto_rows": null,
       "grid_column": null,
       "grid_gap": null,
       "grid_row": null,
       "grid_template_areas": null,
       "grid_template_columns": null,
       "grid_template_rows": null,
       "height": null,
       "justify_content": null,
       "justify_items": null,
       "left": null,
       "margin": null,
       "max_height": null,
       "max_width": null,
       "min_height": null,
       "min_width": null,
       "object_fit": null,
       "object_position": null,
       "order": null,
       "overflow": null,
       "overflow_x": null,
       "overflow_y": null,
       "padding": null,
       "right": null,
       "top": null,
       "visibility": null,
       "width": null
      }
     },
     "4d0fa431ba274840afe92d881eb34cd9": {
      "model_module": "@jupyter-widgets/base",
      "model_module_version": "1.2.0",
      "model_name": "LayoutModel",
      "state": {
       "_model_module": "@jupyter-widgets/base",
       "_model_module_version": "1.2.0",
       "_model_name": "LayoutModel",
       "_view_count": null,
       "_view_module": "@jupyter-widgets/base",
       "_view_module_version": "1.2.0",
       "_view_name": "LayoutView",
       "align_content": null,
       "align_items": null,
       "align_self": null,
       "border": null,
       "bottom": null,
       "display": null,
       "flex": null,
       "flex_flow": null,
       "grid_area": null,
       "grid_auto_columns": null,
       "grid_auto_flow": null,
       "grid_auto_rows": null,
       "grid_column": null,
       "grid_gap": null,
       "grid_row": null,
       "grid_template_areas": null,
       "grid_template_columns": null,
       "grid_template_rows": null,
       "height": null,
       "justify_content": null,
       "justify_items": null,
       "left": null,
       "margin": null,
       "max_height": null,
       "max_width": null,
       "min_height": null,
       "min_width": null,
       "object_fit": null,
       "object_position": null,
       "order": null,
       "overflow": null,
       "overflow_x": null,
       "overflow_y": null,
       "padding": null,
       "right": null,
       "top": null,
       "visibility": null,
       "width": null
      }
     },
     "4e455e993f6c4ff4a46796b5a02e5b55": {
      "model_module": "@jupyter-widgets/controls",
      "model_module_version": "1.5.0",
      "model_name": "HTMLModel",
      "state": {
       "_dom_classes": [],
       "_model_module": "@jupyter-widgets/controls",
       "_model_module_version": "1.5.0",
       "_model_name": "HTMLModel",
       "_view_count": null,
       "_view_module": "@jupyter-widgets/controls",
       "_view_module_version": "1.5.0",
       "_view_name": "HTMLView",
       "description": "",
       "description_tooltip": null,
       "layout": "IPY_MODEL_10357156c70545e38580ef6daa8bf961",
       "placeholder": "​",
       "style": "IPY_MODEL_07bb810b9989447a942d677d84acdaf0",
       "value": " 232k/232k [00:00&lt;00:00, 6.13MB/s]"
      }
     },
     "51004d87fdc64bc7941ddacf9d7cfccc": {
      "model_module": "@jupyter-widgets/controls",
      "model_module_version": "1.5.0",
      "model_name": "HTMLModel",
      "state": {
       "_dom_classes": [],
       "_model_module": "@jupyter-widgets/controls",
       "_model_module_version": "1.5.0",
       "_model_name": "HTMLModel",
       "_view_count": null,
       "_view_module": "@jupyter-widgets/controls",
       "_view_module_version": "1.5.0",
       "_view_name": "HTMLView",
       "description": "",
       "description_tooltip": null,
       "layout": "IPY_MODEL_9a0d82fe6bb54bd4acef0fd8c2243a87",
       "placeholder": "​",
       "style": "IPY_MODEL_5c2093ce7b724c68b528fd49b2f520ed",
       "value": "Downloading readme: 100%"
      }
     },
     "5100e65c5d9e4200ab1f28e68dba5d0a": {
      "model_module": "@jupyter-widgets/controls",
      "model_module_version": "1.5.0",
      "model_name": "DescriptionStyleModel",
      "state": {
       "_model_module": "@jupyter-widgets/controls",
       "_model_module_version": "1.5.0",
       "_model_name": "DescriptionStyleModel",
       "_view_count": null,
       "_view_module": "@jupyter-widgets/base",
       "_view_module_version": "1.2.0",
       "_view_name": "StyleView",
       "description_width": ""
      }
     },
     "53bebe19d87e4e26ba9d7f6bbf2a9cf4": {
      "model_module": "@jupyter-widgets/controls",
      "model_module_version": "1.5.0",
      "model_name": "DescriptionStyleModel",
      "state": {
       "_model_module": "@jupyter-widgets/controls",
       "_model_module_version": "1.5.0",
       "_model_name": "DescriptionStyleModel",
       "_view_count": null,
       "_view_module": "@jupyter-widgets/base",
       "_view_module_version": "1.2.0",
       "_view_name": "StyleView",
       "description_width": ""
      }
     },
     "55e330676a03435d966ad774ab68cffd": {
      "model_module": "@jupyter-widgets/base",
      "model_module_version": "1.2.0",
      "model_name": "LayoutModel",
      "state": {
       "_model_module": "@jupyter-widgets/base",
       "_model_module_version": "1.2.0",
       "_model_name": "LayoutModel",
       "_view_count": null,
       "_view_module": "@jupyter-widgets/base",
       "_view_module_version": "1.2.0",
       "_view_name": "LayoutView",
       "align_content": null,
       "align_items": null,
       "align_self": null,
       "border": null,
       "bottom": null,
       "display": null,
       "flex": null,
       "flex_flow": null,
       "grid_area": null,
       "grid_auto_columns": null,
       "grid_auto_flow": null,
       "grid_auto_rows": null,
       "grid_column": null,
       "grid_gap": null,
       "grid_row": null,
       "grid_template_areas": null,
       "grid_template_columns": null,
       "grid_template_rows": null,
       "height": null,
       "justify_content": null,
       "justify_items": null,
       "left": null,
       "margin": null,
       "max_height": null,
       "max_width": null,
       "min_height": null,
       "min_width": null,
       "object_fit": null,
       "object_position": null,
       "order": null,
       "overflow": null,
       "overflow_x": null,
       "overflow_y": null,
       "padding": null,
       "right": null,
       "top": null,
       "visibility": null,
       "width": null
      }
     },
     "56c0ffc3329e4001b876e9792e24f5cd": {
      "model_module": "@jupyter-widgets/base",
      "model_module_version": "1.2.0",
      "model_name": "LayoutModel",
      "state": {
       "_model_module": "@jupyter-widgets/base",
       "_model_module_version": "1.2.0",
       "_model_name": "LayoutModel",
       "_view_count": null,
       "_view_module": "@jupyter-widgets/base",
       "_view_module_version": "1.2.0",
       "_view_name": "LayoutView",
       "align_content": null,
       "align_items": null,
       "align_self": null,
       "border": null,
       "bottom": null,
       "display": null,
       "flex": null,
       "flex_flow": null,
       "grid_area": null,
       "grid_auto_columns": null,
       "grid_auto_flow": null,
       "grid_auto_rows": null,
       "grid_column": null,
       "grid_gap": null,
       "grid_row": null,
       "grid_template_areas": null,
       "grid_template_columns": null,
       "grid_template_rows": null,
       "height": null,
       "justify_content": null,
       "justify_items": null,
       "left": null,
       "margin": null,
       "max_height": null,
       "max_width": null,
       "min_height": null,
       "min_width": null,
       "object_fit": null,
       "object_position": null,
       "order": null,
       "overflow": null,
       "overflow_x": null,
       "overflow_y": null,
       "padding": null,
       "right": null,
       "top": null,
       "visibility": null,
       "width": null
      }
     },
     "591563270eba4bcb82e2aecc19a2fd36": {
      "model_module": "@jupyter-widgets/controls",
      "model_module_version": "1.5.0",
      "model_name": "ProgressStyleModel",
      "state": {
       "_model_module": "@jupyter-widgets/controls",
       "_model_module_version": "1.5.0",
       "_model_name": "ProgressStyleModel",
       "_view_count": null,
       "_view_module": "@jupyter-widgets/base",
       "_view_module_version": "1.2.0",
       "_view_name": "StyleView",
       "bar_color": null,
       "description_width": ""
      }
     },
     "5a029278ccc74991a9af0e12d0ba2c18": {
      "model_module": "@jupyter-widgets/controls",
      "model_module_version": "1.5.0",
      "model_name": "HTMLModel",
      "state": {
       "_dom_classes": [],
       "_model_module": "@jupyter-widgets/controls",
       "_model_module_version": "1.5.0",
       "_model_name": "HTMLModel",
       "_view_count": null,
       "_view_module": "@jupyter-widgets/controls",
       "_view_module_version": "1.5.0",
       "_view_name": "HTMLView",
       "description": "",
       "description_tooltip": null,
       "layout": "IPY_MODEL_637f0e0d8d0d44b4a892f4b4cff56944",
       "placeholder": "​",
       "style": "IPY_MODEL_ac300d10419740569ff017ac1d47d3a8",
       "value": " 400000/400000 [00:01&lt;00:00, 403287.09 examples/s]"
      }
     },
     "5acc06f61a0b4bf3bb7e2199649f5c15": {
      "model_module": "@jupyter-widgets/base",
      "model_module_version": "1.2.0",
      "model_name": "LayoutModel",
      "state": {
       "_model_module": "@jupyter-widgets/base",
       "_model_module_version": "1.2.0",
       "_model_name": "LayoutModel",
       "_view_count": null,
       "_view_module": "@jupyter-widgets/base",
       "_view_module_version": "1.2.0",
       "_view_name": "LayoutView",
       "align_content": null,
       "align_items": null,
       "align_self": null,
       "border": null,
       "bottom": null,
       "display": null,
       "flex": null,
       "flex_flow": null,
       "grid_area": null,
       "grid_auto_columns": null,
       "grid_auto_flow": null,
       "grid_auto_rows": null,
       "grid_column": null,
       "grid_gap": null,
       "grid_row": null,
       "grid_template_areas": null,
       "grid_template_columns": null,
       "grid_template_rows": null,
       "height": null,
       "justify_content": null,
       "justify_items": null,
       "left": null,
       "margin": null,
       "max_height": null,
       "max_width": null,
       "min_height": null,
       "min_width": null,
       "object_fit": null,
       "object_position": null,
       "order": null,
       "overflow": null,
       "overflow_x": null,
       "overflow_y": null,
       "padding": null,
       "right": null,
       "top": null,
       "visibility": null,
       "width": null
      }
     },
     "5be80103757d4e06b5425873ba76416c": {
      "model_module": "@jupyter-widgets/controls",
      "model_module_version": "1.5.0",
      "model_name": "FloatProgressModel",
      "state": {
       "_dom_classes": [],
       "_model_module": "@jupyter-widgets/controls",
       "_model_module_version": "1.5.0",
       "_model_name": "FloatProgressModel",
       "_view_count": null,
       "_view_module": "@jupyter-widgets/controls",
       "_view_module_version": "1.5.0",
       "_view_name": "ProgressView",
       "bar_style": "success",
       "description": "",
       "description_tooltip": null,
       "layout": "IPY_MODEL_8768ea2599834605a31062d13cb9dbb0",
       "max": 3600000.0,
       "min": 0.0,
       "orientation": "horizontal",
       "style": "IPY_MODEL_26939d48c03449e594c8e70235efcd96",
       "value": 3600000.0
      }
     },
     "5c2093ce7b724c68b528fd49b2f520ed": {
      "model_module": "@jupyter-widgets/controls",
      "model_module_version": "1.5.0",
      "model_name": "DescriptionStyleModel",
      "state": {
       "_model_module": "@jupyter-widgets/controls",
       "_model_module_version": "1.5.0",
       "_model_name": "DescriptionStyleModel",
       "_view_count": null,
       "_view_module": "@jupyter-widgets/base",
       "_view_module_version": "1.2.0",
       "_view_name": "StyleView",
       "description_width": ""
      }
     },
     "5e045d2bd095472982097b9dc4780e22": {
      "model_module": "@jupyter-widgets/base",
      "model_module_version": "1.2.0",
      "model_name": "LayoutModel",
      "state": {
       "_model_module": "@jupyter-widgets/base",
       "_model_module_version": "1.2.0",
       "_model_name": "LayoutModel",
       "_view_count": null,
       "_view_module": "@jupyter-widgets/base",
       "_view_module_version": "1.2.0",
       "_view_name": "LayoutView",
       "align_content": null,
       "align_items": null,
       "align_self": null,
       "border": null,
       "bottom": null,
       "display": null,
       "flex": null,
       "flex_flow": null,
       "grid_area": null,
       "grid_auto_columns": null,
       "grid_auto_flow": null,
       "grid_auto_rows": null,
       "grid_column": null,
       "grid_gap": null,
       "grid_row": null,
       "grid_template_areas": null,
       "grid_template_columns": null,
       "grid_template_rows": null,
       "height": null,
       "justify_content": null,
       "justify_items": null,
       "left": null,
       "margin": null,
       "max_height": null,
       "max_width": null,
       "min_height": null,
       "min_width": null,
       "object_fit": null,
       "object_position": null,
       "order": null,
       "overflow": null,
       "overflow_x": null,
       "overflow_y": null,
       "padding": null,
       "right": null,
       "top": null,
       "visibility": null,
       "width": null
      }
     },
     "5e359b6efab34e229c26d51eccde3d21": {
      "model_module": "@jupyter-widgets/controls",
      "model_module_version": "1.5.0",
      "model_name": "DescriptionStyleModel",
      "state": {
       "_model_module": "@jupyter-widgets/controls",
       "_model_module_version": "1.5.0",
       "_model_name": "DescriptionStyleModel",
       "_view_count": null,
       "_view_module": "@jupyter-widgets/base",
       "_view_module_version": "1.2.0",
       "_view_name": "StyleView",
       "description_width": ""
      }
     },
     "5ea9977473ec420d955c6b53e48d1c4b": {
      "model_module": "@jupyter-widgets/controls",
      "model_module_version": "1.5.0",
      "model_name": "DescriptionStyleModel",
      "state": {
       "_model_module": "@jupyter-widgets/controls",
       "_model_module_version": "1.5.0",
       "_model_name": "DescriptionStyleModel",
       "_view_count": null,
       "_view_module": "@jupyter-widgets/base",
       "_view_module_version": "1.2.0",
       "_view_name": "StyleView",
       "description_width": ""
      }
     },
     "5ef856b11b714edf8770d5e71242a6f6": {
      "model_module": "@jupyter-widgets/controls",
      "model_module_version": "1.5.0",
      "model_name": "HTMLModel",
      "state": {
       "_dom_classes": [],
       "_model_module": "@jupyter-widgets/controls",
       "_model_module_version": "1.5.0",
       "_model_name": "HTMLModel",
       "_view_count": null,
       "_view_module": "@jupyter-widgets/controls",
       "_view_module_version": "1.5.0",
       "_view_name": "HTMLView",
       "description": "",
       "description_tooltip": null,
       "layout": "IPY_MODEL_981971f80dfe4a80a4931234b2b26ac8",
       "placeholder": "​",
       "style": "IPY_MODEL_6eca891c7a1c4733b34637441b9aa619",
       "value": " 466k/466k [00:00&lt;00:00, 17.8MB/s]"
      }
     },
     "613ccba6a7864830b857658e00b3eefc": {
      "model_module": "@jupyter-widgets/controls",
      "model_module_version": "1.5.0",
      "model_name": "HTMLModel",
      "state": {
       "_dom_classes": [],
       "_model_module": "@jupyter-widgets/controls",
       "_model_module_version": "1.5.0",
       "_model_name": "HTMLModel",
       "_view_count": null,
       "_view_module": "@jupyter-widgets/controls",
       "_view_module_version": "1.5.0",
       "_view_name": "HTMLView",
       "description": "",
       "description_tooltip": null,
       "layout": "IPY_MODEL_294f2d9e130149a5ba58a0fc79d52e54",
       "placeholder": "​",
       "style": "IPY_MODEL_96b64a67fc7d4cedb9284e192fc2b9bc",
       "value": "config.json: 100%"
      }
     },
     "637f0e0d8d0d44b4a892f4b4cff56944": {
      "model_module": "@jupyter-widgets/base",
      "model_module_version": "1.2.0",
      "model_name": "LayoutModel",
      "state": {
       "_model_module": "@jupyter-widgets/base",
       "_model_module_version": "1.2.0",
       "_model_name": "LayoutModel",
       "_view_count": null,
       "_view_module": "@jupyter-widgets/base",
       "_view_module_version": "1.2.0",
       "_view_name": "LayoutView",
       "align_content": null,
       "align_items": null,
       "align_self": null,
       "border": null,
       "bottom": null,
       "display": null,
       "flex": null,
       "flex_flow": null,
       "grid_area": null,
       "grid_auto_columns": null,
       "grid_auto_flow": null,
       "grid_auto_rows": null,
       "grid_column": null,
       "grid_gap": null,
       "grid_row": null,
       "grid_template_areas": null,
       "grid_template_columns": null,
       "grid_template_rows": null,
       "height": null,
       "justify_content": null,
       "justify_items": null,
       "left": null,
       "margin": null,
       "max_height": null,
       "max_width": null,
       "min_height": null,
       "min_width": null,
       "object_fit": null,
       "object_position": null,
       "order": null,
       "overflow": null,
       "overflow_x": null,
       "overflow_y": null,
       "padding": null,
       "right": null,
       "top": null,
       "visibility": null,
       "width": null
      }
     },
     "6a869ad764f04d29938e1ab8931d2fed": {
      "model_module": "@jupyter-widgets/controls",
      "model_module_version": "1.5.0",
      "model_name": "DescriptionStyleModel",
      "state": {
       "_model_module": "@jupyter-widgets/controls",
       "_model_module_version": "1.5.0",
       "_model_name": "DescriptionStyleModel",
       "_view_count": null,
       "_view_module": "@jupyter-widgets/base",
       "_view_module_version": "1.2.0",
       "_view_name": "StyleView",
       "description_width": ""
      }
     },
     "6bfed9bfa34648a8b163434087b520eb": {
      "model_module": "@jupyter-widgets/controls",
      "model_module_version": "1.5.0",
      "model_name": "ProgressStyleModel",
      "state": {
       "_model_module": "@jupyter-widgets/controls",
       "_model_module_version": "1.5.0",
       "_model_name": "ProgressStyleModel",
       "_view_count": null,
       "_view_module": "@jupyter-widgets/base",
       "_view_module_version": "1.2.0",
       "_view_name": "StyleView",
       "bar_color": null,
       "description_width": ""
      }
     },
     "6d713af1cf5341b8b0be809b1c40b96a": {
      "model_module": "@jupyter-widgets/controls",
      "model_module_version": "1.5.0",
      "model_name": "HTMLModel",
      "state": {
       "_dom_classes": [],
       "_model_module": "@jupyter-widgets/controls",
       "_model_module_version": "1.5.0",
       "_model_name": "HTMLModel",
       "_view_count": null,
       "_view_module": "@jupyter-widgets/controls",
       "_view_module_version": "1.5.0",
       "_view_name": "HTMLView",
       "description": "",
       "description_tooltip": null,
       "layout": "IPY_MODEL_144afccf72d94f40a494f1ae4afecbb8",
       "placeholder": "​",
       "style": "IPY_MODEL_dc38ac13dfd6449d8040a9e4461c61e4",
       "value": "vocab.txt: 100%"
      }
     },
     "6eca891c7a1c4733b34637441b9aa619": {
      "model_module": "@jupyter-widgets/controls",
      "model_module_version": "1.5.0",
      "model_name": "DescriptionStyleModel",
      "state": {
       "_model_module": "@jupyter-widgets/controls",
       "_model_module_version": "1.5.0",
       "_model_name": "DescriptionStyleModel",
       "_view_count": null,
       "_view_module": "@jupyter-widgets/base",
       "_view_module_version": "1.2.0",
       "_view_name": "StyleView",
       "description_width": ""
      }
     },
     "70ceed4c7ec1410da7b6681f685c5bb7": {
      "model_module": "@jupyter-widgets/base",
      "model_module_version": "1.2.0",
      "model_name": "LayoutModel",
      "state": {
       "_model_module": "@jupyter-widgets/base",
       "_model_module_version": "1.2.0",
       "_model_name": "LayoutModel",
       "_view_count": null,
       "_view_module": "@jupyter-widgets/base",
       "_view_module_version": "1.2.0",
       "_view_name": "LayoutView",
       "align_content": null,
       "align_items": null,
       "align_self": null,
       "border": null,
       "bottom": null,
       "display": null,
       "flex": null,
       "flex_flow": null,
       "grid_area": null,
       "grid_auto_columns": null,
       "grid_auto_flow": null,
       "grid_auto_rows": null,
       "grid_column": null,
       "grid_gap": null,
       "grid_row": null,
       "grid_template_areas": null,
       "grid_template_columns": null,
       "grid_template_rows": null,
       "height": null,
       "justify_content": null,
       "justify_items": null,
       "left": null,
       "margin": null,
       "max_height": null,
       "max_width": null,
       "min_height": null,
       "min_width": null,
       "object_fit": null,
       "object_position": null,
       "order": null,
       "overflow": null,
       "overflow_x": null,
       "overflow_y": null,
       "padding": null,
       "right": null,
       "top": null,
       "visibility": null,
       "width": null
      }
     },
     "7353ea70066c481a93fda61c01772ff0": {
      "model_module": "@jupyter-widgets/base",
      "model_module_version": "1.2.0",
      "model_name": "LayoutModel",
      "state": {
       "_model_module": "@jupyter-widgets/base",
       "_model_module_version": "1.2.0",
       "_model_name": "LayoutModel",
       "_view_count": null,
       "_view_module": "@jupyter-widgets/base",
       "_view_module_version": "1.2.0",
       "_view_name": "LayoutView",
       "align_content": null,
       "align_items": null,
       "align_self": null,
       "border": null,
       "bottom": null,
       "display": null,
       "flex": null,
       "flex_flow": null,
       "grid_area": null,
       "grid_auto_columns": null,
       "grid_auto_flow": null,
       "grid_auto_rows": null,
       "grid_column": null,
       "grid_gap": null,
       "grid_row": null,
       "grid_template_areas": null,
       "grid_template_columns": null,
       "grid_template_rows": null,
       "height": null,
       "justify_content": null,
       "justify_items": null,
       "left": null,
       "margin": null,
       "max_height": null,
       "max_width": null,
       "min_height": null,
       "min_width": null,
       "object_fit": null,
       "object_position": null,
       "order": null,
       "overflow": null,
       "overflow_x": null,
       "overflow_y": null,
       "padding": null,
       "right": null,
       "top": null,
       "visibility": null,
       "width": null
      }
     },
     "78536f14a0a84780a5dacf6471bf7f04": {
      "model_module": "@jupyter-widgets/base",
      "model_module_version": "1.2.0",
      "model_name": "LayoutModel",
      "state": {
       "_model_module": "@jupyter-widgets/base",
       "_model_module_version": "1.2.0",
       "_model_name": "LayoutModel",
       "_view_count": null,
       "_view_module": "@jupyter-widgets/base",
       "_view_module_version": "1.2.0",
       "_view_name": "LayoutView",
       "align_content": null,
       "align_items": null,
       "align_self": null,
       "border": null,
       "bottom": null,
       "display": null,
       "flex": null,
       "flex_flow": null,
       "grid_area": null,
       "grid_auto_columns": null,
       "grid_auto_flow": null,
       "grid_auto_rows": null,
       "grid_column": null,
       "grid_gap": null,
       "grid_row": null,
       "grid_template_areas": null,
       "grid_template_columns": null,
       "grid_template_rows": null,
       "height": null,
       "justify_content": null,
       "justify_items": null,
       "left": null,
       "margin": null,
       "max_height": null,
       "max_width": null,
       "min_height": null,
       "min_width": null,
       "object_fit": null,
       "object_position": null,
       "order": null,
       "overflow": null,
       "overflow_x": null,
       "overflow_y": null,
       "padding": null,
       "right": null,
       "top": null,
       "visibility": null,
       "width": null
      }
     },
     "799ec12aeec44904b69235a1462985ed": {
      "model_module": "@jupyter-widgets/controls",
      "model_module_version": "1.5.0",
      "model_name": "FloatProgressModel",
      "state": {
       "_dom_classes": [],
       "_model_module": "@jupyter-widgets/controls",
       "_model_module_version": "1.5.0",
       "_model_name": "FloatProgressModel",
       "_view_count": null,
       "_view_module": "@jupyter-widgets/controls",
       "_view_module_version": "1.5.0",
       "_view_name": "ProgressView",
       "bar_style": "success",
       "description": "",
       "description_tooltip": null,
       "layout": "IPY_MODEL_a7ad01133b8e4b93a32191b1fda60e83",
       "max": 400000.0,
       "min": 0.0,
       "orientation": "horizontal",
       "style": "IPY_MODEL_6bfed9bfa34648a8b163434087b520eb",
       "value": 400000.0
      }
     },
     "7a888203c77946f79136a652db4757ce": {
      "model_module": "@jupyter-widgets/controls",
      "model_module_version": "1.5.0",
      "model_name": "FloatProgressModel",
      "state": {
       "_dom_classes": [],
       "_model_module": "@jupyter-widgets/controls",
       "_model_module_version": "1.5.0",
       "_model_name": "FloatProgressModel",
       "_view_count": null,
       "_view_module": "@jupyter-widgets/controls",
       "_view_module_version": "1.5.0",
       "_view_name": "ProgressView",
       "bar_style": "success",
       "description": "",
       "description_tooltip": null,
       "layout": "IPY_MODEL_f0d2ecbb7e464b3aaa0f69d26631926b",
       "max": 36699.0,
       "min": 0.0,
       "orientation": "horizontal",
       "style": "IPY_MODEL_591563270eba4bcb82e2aecc19a2fd36",
       "value": 36699.0
      }
     },
     "7bcbc70f17dd4ffa9df44572d4bbe350": {
      "model_module": "@jupyter-widgets/controls",
      "model_module_version": "1.5.0",
      "model_name": "HTMLModel",
      "state": {
       "_dom_classes": [],
       "_model_module": "@jupyter-widgets/controls",
       "_model_module_version": "1.5.0",
       "_model_name": "HTMLModel",
       "_view_count": null,
       "_view_module": "@jupyter-widgets/controls",
       "_view_module_version": "1.5.0",
       "_view_name": "HTMLView",
       "description": "",
       "description_tooltip": null,
       "layout": "IPY_MODEL_9934ad7443a0483494283ea212c6dfaa",
       "placeholder": "​",
       "style": "IPY_MODEL_c24ab4d54c794d799aa152830269b2de",
       "value": "tokenizer_config.json: 100%"
      }
     },
     "805afe4ca2054639806fe1c3da243fc1": {
      "model_module": "@jupyter-widgets/base",
      "model_module_version": "1.2.0",
      "model_name": "LayoutModel",
      "state": {
       "_model_module": "@jupyter-widgets/base",
       "_model_module_version": "1.2.0",
       "_model_name": "LayoutModel",
       "_view_count": null,
       "_view_module": "@jupyter-widgets/base",
       "_view_module_version": "1.2.0",
       "_view_name": "LayoutView",
       "align_content": null,
       "align_items": null,
       "align_self": null,
       "border": null,
       "bottom": null,
       "display": null,
       "flex": null,
       "flex_flow": null,
       "grid_area": null,
       "grid_auto_columns": null,
       "grid_auto_flow": null,
       "grid_auto_rows": null,
       "grid_column": null,
       "grid_gap": null,
       "grid_row": null,
       "grid_template_areas": null,
       "grid_template_columns": null,
       "grid_template_rows": null,
       "height": null,
       "justify_content": null,
       "justify_items": null,
       "left": null,
       "margin": null,
       "max_height": null,
       "max_width": null,
       "min_height": null,
       "min_width": null,
       "object_fit": null,
       "object_position": null,
       "order": null,
       "overflow": null,
       "overflow_x": null,
       "overflow_y": null,
       "padding": null,
       "right": null,
       "top": null,
       "visibility": null,
       "width": null
      }
     },
     "8127a726f80d4033a050da2a544361df": {
      "model_module": "@jupyter-widgets/base",
      "model_module_version": "1.2.0",
      "model_name": "LayoutModel",
      "state": {
       "_model_module": "@jupyter-widgets/base",
       "_model_module_version": "1.2.0",
       "_model_name": "LayoutModel",
       "_view_count": null,
       "_view_module": "@jupyter-widgets/base",
       "_view_module_version": "1.2.0",
       "_view_name": "LayoutView",
       "align_content": null,
       "align_items": null,
       "align_self": null,
       "border": null,
       "bottom": null,
       "display": null,
       "flex": null,
       "flex_flow": null,
       "grid_area": null,
       "grid_auto_columns": null,
       "grid_auto_flow": null,
       "grid_auto_rows": null,
       "grid_column": null,
       "grid_gap": null,
       "grid_row": null,
       "grid_template_areas": null,
       "grid_template_columns": null,
       "grid_template_rows": null,
       "height": null,
       "justify_content": null,
       "justify_items": null,
       "left": null,
       "margin": null,
       "max_height": null,
       "max_width": null,
       "min_height": null,
       "min_width": null,
       "object_fit": null,
       "object_position": null,
       "order": null,
       "overflow": null,
       "overflow_x": null,
       "overflow_y": null,
       "padding": null,
       "right": null,
       "top": null,
       "visibility": null,
       "width": null
      }
     },
     "81cdb52ca11e4464aab70e450ba6842e": {
      "model_module": "@jupyter-widgets/base",
      "model_module_version": "1.2.0",
      "model_name": "LayoutModel",
      "state": {
       "_model_module": "@jupyter-widgets/base",
       "_model_module_version": "1.2.0",
       "_model_name": "LayoutModel",
       "_view_count": null,
       "_view_module": "@jupyter-widgets/base",
       "_view_module_version": "1.2.0",
       "_view_name": "LayoutView",
       "align_content": null,
       "align_items": null,
       "align_self": null,
       "border": null,
       "bottom": null,
       "display": null,
       "flex": null,
       "flex_flow": null,
       "grid_area": null,
       "grid_auto_columns": null,
       "grid_auto_flow": null,
       "grid_auto_rows": null,
       "grid_column": null,
       "grid_gap": null,
       "grid_row": null,
       "grid_template_areas": null,
       "grid_template_columns": null,
       "grid_template_rows": null,
       "height": null,
       "justify_content": null,
       "justify_items": null,
       "left": null,
       "margin": null,
       "max_height": null,
       "max_width": null,
       "min_height": null,
       "min_width": null,
       "object_fit": null,
       "object_position": null,
       "order": null,
       "overflow": null,
       "overflow_x": null,
       "overflow_y": null,
       "padding": null,
       "right": null,
       "top": null,
       "visibility": null,
       "width": null
      }
     },
     "820655b972e1426d981788fd7391df58": {
      "model_module": "@jupyter-widgets/controls",
      "model_module_version": "1.5.0",
      "model_name": "HTMLModel",
      "state": {
       "_dom_classes": [],
       "_model_module": "@jupyter-widgets/controls",
       "_model_module_version": "1.5.0",
       "_model_name": "HTMLModel",
       "_view_count": null,
       "_view_module": "@jupyter-widgets/controls",
       "_view_module_version": "1.5.0",
       "_view_name": "HTMLView",
       "description": "",
       "description_tooltip": null,
       "layout": "IPY_MODEL_8127a726f80d4033a050da2a544361df",
       "placeholder": "​",
       "style": "IPY_MODEL_82d7b5bbee4742b9b7264fe475cd16ae",
       "value": "Computing checksums: 100%"
      }
     },
     "825c43656d36473cadb5361691fc9c16": {
      "model_module": "@jupyter-widgets/controls",
      "model_module_version": "1.5.0",
      "model_name": "ProgressStyleModel",
      "state": {
       "_model_module": "@jupyter-widgets/controls",
       "_model_module_version": "1.5.0",
       "_model_name": "ProgressStyleModel",
       "_view_count": null,
       "_view_module": "@jupyter-widgets/base",
       "_view_module_version": "1.2.0",
       "_view_name": "StyleView",
       "bar_color": null,
       "description_width": ""
      }
     },
     "82d7b5bbee4742b9b7264fe475cd16ae": {
      "model_module": "@jupyter-widgets/controls",
      "model_module_version": "1.5.0",
      "model_name": "DescriptionStyleModel",
      "state": {
       "_model_module": "@jupyter-widgets/controls",
       "_model_module_version": "1.5.0",
       "_model_name": "DescriptionStyleModel",
       "_view_count": null,
       "_view_module": "@jupyter-widgets/base",
       "_view_module_version": "1.2.0",
       "_view_name": "StyleView",
       "description_width": ""
      }
     },
     "82efad7d72f345eb8f7e8e94a200bf0b": {
      "model_module": "@jupyter-widgets/controls",
      "model_module_version": "1.5.0",
      "model_name": "ProgressStyleModel",
      "state": {
       "_model_module": "@jupyter-widgets/controls",
       "_model_module_version": "1.5.0",
       "_model_name": "ProgressStyleModel",
       "_view_count": null,
       "_view_module": "@jupyter-widgets/base",
       "_view_module_version": "1.2.0",
       "_view_name": "StyleView",
       "bar_color": null,
       "description_width": ""
      }
     },
     "8391fbc8706841d0922feb241151d8f7": {
      "model_module": "@jupyter-widgets/controls",
      "model_module_version": "1.5.0",
      "model_name": "HBoxModel",
      "state": {
       "_dom_classes": [],
       "_model_module": "@jupyter-widgets/controls",
       "_model_module_version": "1.5.0",
       "_model_name": "HBoxModel",
       "_view_count": null,
       "_view_module": "@jupyter-widgets/controls",
       "_view_module_version": "1.5.0",
       "_view_name": "HBoxView",
       "box_style": "",
       "children": [
        "IPY_MODEL_42634a7c61fb4be99c6db527a04b3e4c",
        "IPY_MODEL_5be80103757d4e06b5425873ba76416c",
        "IPY_MODEL_f025e6b7af7a489b8efe8605273d5c82"
       ],
       "layout": "IPY_MODEL_70ceed4c7ec1410da7b6681f685c5bb7"
      }
     },
     "8768ea2599834605a31062d13cb9dbb0": {
      "model_module": "@jupyter-widgets/base",
      "model_module_version": "1.2.0",
      "model_name": "LayoutModel",
      "state": {
       "_model_module": "@jupyter-widgets/base",
       "_model_module_version": "1.2.0",
       "_model_name": "LayoutModel",
       "_view_count": null,
       "_view_module": "@jupyter-widgets/base",
       "_view_module_version": "1.2.0",
       "_view_name": "LayoutView",
       "align_content": null,
       "align_items": null,
       "align_self": null,
       "border": null,
       "bottom": null,
       "display": null,
       "flex": null,
       "flex_flow": null,
       "grid_area": null,
       "grid_auto_columns": null,
       "grid_auto_flow": null,
       "grid_auto_rows": null,
       "grid_column": null,
       "grid_gap": null,
       "grid_row": null,
       "grid_template_areas": null,
       "grid_template_columns": null,
       "grid_template_rows": null,
       "height": null,
       "justify_content": null,
       "justify_items": null,
       "left": null,
       "margin": null,
       "max_height": null,
       "max_width": null,
       "min_height": null,
       "min_width": null,
       "object_fit": null,
       "object_position": null,
       "order": null,
       "overflow": null,
       "overflow_x": null,
       "overflow_y": null,
       "padding": null,
       "right": null,
       "top": null,
       "visibility": null,
       "width": null
      }
     },
     "88fc9f37360f4fb89e11230c7e59251c": {
      "model_module": "@jupyter-widgets/controls",
      "model_module_version": "1.5.0",
      "model_name": "FloatProgressModel",
      "state": {
       "_dom_classes": [],
       "_model_module": "@jupyter-widgets/controls",
       "_model_module_version": "1.5.0",
       "_model_name": "FloatProgressModel",
       "_view_count": null,
       "_view_module": "@jupyter-widgets/controls",
       "_view_module_version": "1.5.0",
       "_view_name": "ProgressView",
       "bar_style": "success",
       "description": "",
       "description_tooltip": null,
       "layout": "IPY_MODEL_0cecb021e7dc420aa495a01ffb1e35e6",
       "max": 6812.0,
       "min": 0.0,
       "orientation": "horizontal",
       "style": "IPY_MODEL_40bd98d9ff4c4d8b8a9cd03a16dd2751",
       "value": 6812.0
      }
     },
     "8ce4e0460cf54cc4b17295cba4791084": {
      "model_module": "@jupyter-widgets/controls",
      "model_module_version": "1.5.0",
      "model_name": "HTMLModel",
      "state": {
       "_dom_classes": [],
       "_model_module": "@jupyter-widgets/controls",
       "_model_module_version": "1.5.0",
       "_model_name": "HTMLModel",
       "_view_count": null,
       "_view_module": "@jupyter-widgets/controls",
       "_view_module_version": "1.5.0",
       "_view_name": "HTMLView",
       "description": "",
       "description_tooltip": null,
       "layout": "IPY_MODEL_7353ea70066c481a93fda61c01772ff0",
       "placeholder": "​",
       "style": "IPY_MODEL_53bebe19d87e4e26ba9d7f6bbf2a9cf4",
       "value": " 6.81k/6.81k [00:00&lt;00:00, 438kB/s]"
      }
     },
     "96b64a67fc7d4cedb9284e192fc2b9bc": {
      "model_module": "@jupyter-widgets/controls",
      "model_module_version": "1.5.0",
      "model_name": "DescriptionStyleModel",
      "state": {
       "_model_module": "@jupyter-widgets/controls",
       "_model_module_version": "1.5.0",
       "_model_name": "DescriptionStyleModel",
       "_view_count": null,
       "_view_module": "@jupyter-widgets/base",
       "_view_module_version": "1.2.0",
       "_view_name": "StyleView",
       "description_width": ""
      }
     },
     "981971f80dfe4a80a4931234b2b26ac8": {
      "model_module": "@jupyter-widgets/base",
      "model_module_version": "1.2.0",
      "model_name": "LayoutModel",
      "state": {
       "_model_module": "@jupyter-widgets/base",
       "_model_module_version": "1.2.0",
       "_model_name": "LayoutModel",
       "_view_count": null,
       "_view_module": "@jupyter-widgets/base",
       "_view_module_version": "1.2.0",
       "_view_name": "LayoutView",
       "align_content": null,
       "align_items": null,
       "align_self": null,
       "border": null,
       "bottom": null,
       "display": null,
       "flex": null,
       "flex_flow": null,
       "grid_area": null,
       "grid_auto_columns": null,
       "grid_auto_flow": null,
       "grid_auto_rows": null,
       "grid_column": null,
       "grid_gap": null,
       "grid_row": null,
       "grid_template_areas": null,
       "grid_template_columns": null,
       "grid_template_rows": null,
       "height": null,
       "justify_content": null,
       "justify_items": null,
       "left": null,
       "margin": null,
       "max_height": null,
       "max_width": null,
       "min_height": null,
       "min_width": null,
       "object_fit": null,
       "object_position": null,
       "order": null,
       "overflow": null,
       "overflow_x": null,
       "overflow_y": null,
       "padding": null,
       "right": null,
       "top": null,
       "visibility": null,
       "width": null
      }
     },
     "9934ad7443a0483494283ea212c6dfaa": {
      "model_module": "@jupyter-widgets/base",
      "model_module_version": "1.2.0",
      "model_name": "LayoutModel",
      "state": {
       "_model_module": "@jupyter-widgets/base",
       "_model_module_version": "1.2.0",
       "_model_name": "LayoutModel",
       "_view_count": null,
       "_view_module": "@jupyter-widgets/base",
       "_view_module_version": "1.2.0",
       "_view_name": "LayoutView",
       "align_content": null,
       "align_items": null,
       "align_self": null,
       "border": null,
       "bottom": null,
       "display": null,
       "flex": null,
       "flex_flow": null,
       "grid_area": null,
       "grid_auto_columns": null,
       "grid_auto_flow": null,
       "grid_auto_rows": null,
       "grid_column": null,
       "grid_gap": null,
       "grid_row": null,
       "grid_template_areas": null,
       "grid_template_columns": null,
       "grid_template_rows": null,
       "height": null,
       "justify_content": null,
       "justify_items": null,
       "left": null,
       "margin": null,
       "max_height": null,
       "max_width": null,
       "min_height": null,
       "min_width": null,
       "object_fit": null,
       "object_position": null,
       "order": null,
       "overflow": null,
       "overflow_x": null,
       "overflow_y": null,
       "padding": null,
       "right": null,
       "top": null,
       "visibility": null,
       "width": null
      }
     },
     "99884eccc01c41b998f7505000a2c8f3": {
      "model_module": "@jupyter-widgets/controls",
      "model_module_version": "1.5.0",
      "model_name": "DescriptionStyleModel",
      "state": {
       "_model_module": "@jupyter-widgets/controls",
       "_model_module_version": "1.5.0",
       "_model_name": "DescriptionStyleModel",
       "_view_count": null,
       "_view_module": "@jupyter-widgets/base",
       "_view_module_version": "1.2.0",
       "_view_name": "StyleView",
       "description_width": ""
      }
     },
     "99dc6192ff53420882fb4633b6fe64fd": {
      "model_module": "@jupyter-widgets/controls",
      "model_module_version": "1.5.0",
      "model_name": "HTMLModel",
      "state": {
       "_dom_classes": [],
       "_model_module": "@jupyter-widgets/controls",
       "_model_module_version": "1.5.0",
       "_model_name": "HTMLModel",
       "_view_count": null,
       "_view_module": "@jupyter-widgets/controls",
       "_view_module_version": "1.5.0",
       "_view_name": "HTMLView",
       "description": "",
       "description_tooltip": null,
       "layout": "IPY_MODEL_2034f40500ed46c9a1881224aed70fb7",
       "placeholder": "​",
       "style": "IPY_MODEL_45518a8e3ae14ab69f8cc194ee63332c",
       "value": " 5/5 [00:00&lt;00:00, 408.13it/s]"
      }
     },
     "9a0d82fe6bb54bd4acef0fd8c2243a87": {
      "model_module": "@jupyter-widgets/base",
      "model_module_version": "1.2.0",
      "model_name": "LayoutModel",
      "state": {
       "_model_module": "@jupyter-widgets/base",
       "_model_module_version": "1.2.0",
       "_model_name": "LayoutModel",
       "_view_count": null,
       "_view_module": "@jupyter-widgets/base",
       "_view_module_version": "1.2.0",
       "_view_name": "LayoutView",
       "align_content": null,
       "align_items": null,
       "align_self": null,
       "border": null,
       "bottom": null,
       "display": null,
       "flex": null,
       "flex_flow": null,
       "grid_area": null,
       "grid_auto_columns": null,
       "grid_auto_flow": null,
       "grid_auto_rows": null,
       "grid_column": null,
       "grid_gap": null,
       "grid_row": null,
       "grid_template_areas": null,
       "grid_template_columns": null,
       "grid_template_rows": null,
       "height": null,
       "justify_content": null,
       "justify_items": null,
       "left": null,
       "margin": null,
       "max_height": null,
       "max_width": null,
       "min_height": null,
       "min_width": null,
       "object_fit": null,
       "object_position": null,
       "order": null,
       "overflow": null,
       "overflow_x": null,
       "overflow_y": null,
       "padding": null,
       "right": null,
       "top": null,
       "visibility": null,
       "width": null
      }
     },
     "9cf557c15bfd414d9d1f514b7bd11e1e": {
      "model_module": "@jupyter-widgets/controls",
      "model_module_version": "1.5.0",
      "model_name": "ProgressStyleModel",
      "state": {
       "_model_module": "@jupyter-widgets/controls",
       "_model_module_version": "1.5.0",
       "_model_name": "ProgressStyleModel",
       "_view_count": null,
       "_view_module": "@jupyter-widgets/base",
       "_view_module_version": "1.2.0",
       "_view_name": "StyleView",
       "bar_color": null,
       "description_width": ""
      }
     },
     "a7ad01133b8e4b93a32191b1fda60e83": {
      "model_module": "@jupyter-widgets/base",
      "model_module_version": "1.2.0",
      "model_name": "LayoutModel",
      "state": {
       "_model_module": "@jupyter-widgets/base",
       "_model_module_version": "1.2.0",
       "_model_name": "LayoutModel",
       "_view_count": null,
       "_view_module": "@jupyter-widgets/base",
       "_view_module_version": "1.2.0",
       "_view_name": "LayoutView",
       "align_content": null,
       "align_items": null,
       "align_self": null,
       "border": null,
       "bottom": null,
       "display": null,
       "flex": null,
       "flex_flow": null,
       "grid_area": null,
       "grid_auto_columns": null,
       "grid_auto_flow": null,
       "grid_auto_rows": null,
       "grid_column": null,
       "grid_gap": null,
       "grid_row": null,
       "grid_template_areas": null,
       "grid_template_columns": null,
       "grid_template_rows": null,
       "height": null,
       "justify_content": null,
       "justify_items": null,
       "left": null,
       "margin": null,
       "max_height": null,
       "max_width": null,
       "min_height": null,
       "min_width": null,
       "object_fit": null,
       "object_position": null,
       "order": null,
       "overflow": null,
       "overflow_x": null,
       "overflow_y": null,
       "padding": null,
       "right": null,
       "top": null,
       "visibility": null,
       "width": null
      }
     },
     "a835e91832f443778fabb7c8685b2f20": {
      "model_module": "@jupyter-widgets/controls",
      "model_module_version": "1.5.0",
      "model_name": "HTMLModel",
      "state": {
       "_dom_classes": [],
       "_model_module": "@jupyter-widgets/controls",
       "_model_module_version": "1.5.0",
       "_model_name": "HTMLModel",
       "_view_count": null,
       "_view_module": "@jupyter-widgets/controls",
       "_view_module_version": "1.5.0",
       "_view_name": "HTMLView",
       "description": "",
       "description_tooltip": null,
       "layout": "IPY_MODEL_5e045d2bd095472982097b9dc4780e22",
       "placeholder": "​",
       "style": "IPY_MODEL_99884eccc01c41b998f7505000a2c8f3",
       "value": " 36.7k/36.7k [00:00&lt;00:00, 2.15MB/s]"
      }
     },
     "a88e83aba2c14b8dbe3665b3cdf60825": {
      "model_module": "@jupyter-widgets/controls",
      "model_module_version": "1.5.0",
      "model_name": "HTMLModel",
      "state": {
       "_dom_classes": [],
       "_model_module": "@jupyter-widgets/controls",
       "_model_module_version": "1.5.0",
       "_model_name": "HTMLModel",
       "_view_count": null,
       "_view_module": "@jupyter-widgets/controls",
       "_view_module_version": "1.5.0",
       "_view_name": "HTMLView",
       "description": "",
       "description_tooltip": null,
       "layout": "IPY_MODEL_10fcca04a5fa42c592a42817060a1a69",
       "placeholder": "​",
       "style": "IPY_MODEL_f707fa4e2bf24354b2e8ac47ec3a46a9",
       "value": "Generating test split: 100%"
      }
     },
     "aae5de59e3a04eadadaf32983d95c267": {
      "model_module": "@jupyter-widgets/controls",
      "model_module_version": "1.5.0",
      "model_name": "DescriptionStyleModel",
      "state": {
       "_model_module": "@jupyter-widgets/controls",
       "_model_module_version": "1.5.0",
       "_model_name": "DescriptionStyleModel",
       "_view_count": null,
       "_view_module": "@jupyter-widgets/base",
       "_view_module_version": "1.2.0",
       "_view_name": "StyleView",
       "description_width": ""
      }
     },
     "ab15f44c9b834ba78752426f55ef838a": {
      "model_module": "@jupyter-widgets/controls",
      "model_module_version": "1.5.0",
      "model_name": "FloatProgressModel",
      "state": {
       "_dom_classes": [],
       "_model_module": "@jupyter-widgets/controls",
       "_model_module_version": "1.5.0",
       "_model_name": "FloatProgressModel",
       "_view_count": null,
       "_view_module": "@jupyter-widgets/controls",
       "_view_module_version": "1.5.0",
       "_view_name": "ProgressView",
       "bar_style": "success",
       "description": "",
       "description_tooltip": null,
       "layout": "IPY_MODEL_d51ea0da31834e9c8e5fb1a1b83d0bba",
       "max": 570.0,
       "min": 0.0,
       "orientation": "horizontal",
       "style": "IPY_MODEL_0b05acd225334434b177c7892df04c18",
       "value": 570.0
      }
     },
     "ac300d10419740569ff017ac1d47d3a8": {
      "model_module": "@jupyter-widgets/controls",
      "model_module_version": "1.5.0",
      "model_name": "DescriptionStyleModel",
      "state": {
       "_model_module": "@jupyter-widgets/controls",
       "_model_module_version": "1.5.0",
       "_model_name": "DescriptionStyleModel",
       "_view_count": null,
       "_view_module": "@jupyter-widgets/base",
       "_view_module_version": "1.2.0",
       "_view_name": "StyleView",
       "description_width": ""
      }
     },
     "ad782159f5cd4ed0810ca66ebe6300bb": {
      "model_module": "@jupyter-widgets/base",
      "model_module_version": "1.2.0",
      "model_name": "LayoutModel",
      "state": {
       "_model_module": "@jupyter-widgets/base",
       "_model_module_version": "1.2.0",
       "_model_name": "LayoutModel",
       "_view_count": null,
       "_view_module": "@jupyter-widgets/base",
       "_view_module_version": "1.2.0",
       "_view_name": "LayoutView",
       "align_content": null,
       "align_items": null,
       "align_self": null,
       "border": null,
       "bottom": null,
       "display": null,
       "flex": null,
       "flex_flow": null,
       "grid_area": null,
       "grid_auto_columns": null,
       "grid_auto_flow": null,
       "grid_auto_rows": null,
       "grid_column": null,
       "grid_gap": null,
       "grid_row": null,
       "grid_template_areas": null,
       "grid_template_columns": null,
       "grid_template_rows": null,
       "height": null,
       "justify_content": null,
       "justify_items": null,
       "left": null,
       "margin": null,
       "max_height": null,
       "max_width": null,
       "min_height": null,
       "min_width": null,
       "object_fit": null,
       "object_position": null,
       "order": null,
       "overflow": null,
       "overflow_x": null,
       "overflow_y": null,
       "padding": null,
       "right": null,
       "top": null,
       "visibility": null,
       "width": null
      }
     },
     "af617c059f0342f9a12d03b7cbfd5680": {
      "model_module": "@jupyter-widgets/controls",
      "model_module_version": "1.5.0",
      "model_name": "HBoxModel",
      "state": {
       "_dom_classes": [],
       "_model_module": "@jupyter-widgets/controls",
       "_model_module_version": "1.5.0",
       "_model_name": "HBoxModel",
       "_view_count": null,
       "_view_module": "@jupyter-widgets/controls",
       "_view_module_version": "1.5.0",
       "_view_name": "HBoxView",
       "box_style": "",
       "children": [
        "IPY_MODEL_302b731e995244f39889dd741c60f3d3",
        "IPY_MODEL_d9cdecde6369402aa8bf32272ad6576a",
        "IPY_MODEL_ca302392d0744542a6044c64e9679eec"
       ],
       "layout": "IPY_MODEL_c3d8dee3e0ec4965b831ff1aa78e589c"
      }
     },
     "b2b109ded201498382902743d1eea4b0": {
      "model_module": "@jupyter-widgets/controls",
      "model_module_version": "1.5.0",
      "model_name": "HTMLModel",
      "state": {
       "_dom_classes": [],
       "_model_module": "@jupyter-widgets/controls",
       "_model_module_version": "1.5.0",
       "_model_name": "HTMLModel",
       "_view_count": null,
       "_view_module": "@jupyter-widgets/controls",
       "_view_module_version": "1.5.0",
       "_view_name": "HTMLView",
       "description": "",
       "description_tooltip": null,
       "layout": "IPY_MODEL_d52cccdc8c6a4822946aa37246caad00",
       "placeholder": "​",
       "style": "IPY_MODEL_aae5de59e3a04eadadaf32983d95c267",
       "value": " 570/570 [00:00&lt;00:00, 41.9kB/s]"
      }
     },
     "c24ab4d54c794d799aa152830269b2de": {
      "model_module": "@jupyter-widgets/controls",
      "model_module_version": "1.5.0",
      "model_name": "DescriptionStyleModel",
      "state": {
       "_model_module": "@jupyter-widgets/controls",
       "_model_module_version": "1.5.0",
       "_model_name": "DescriptionStyleModel",
       "_view_count": null,
       "_view_module": "@jupyter-widgets/base",
       "_view_module_version": "1.2.0",
       "_view_name": "StyleView",
       "description_width": ""
      }
     },
     "c30798d3b97a44279028924ff717f6f6": {
      "model_module": "@jupyter-widgets/controls",
      "model_module_version": "1.5.0",
      "model_name": "HTMLModel",
      "state": {
       "_dom_classes": [],
       "_model_module": "@jupyter-widgets/controls",
       "_model_module_version": "1.5.0",
       "_model_name": "HTMLModel",
       "_view_count": null,
       "_view_module": "@jupyter-widgets/controls",
       "_view_module_version": "1.5.0",
       "_view_name": "HTMLView",
       "description": "",
       "description_tooltip": null,
       "layout": "IPY_MODEL_ad782159f5cd4ed0810ca66ebe6300bb",
       "placeholder": "​",
       "style": "IPY_MODEL_c8a10080092d4cd18e0cdf12633dbd38",
       "value": " 48.0/48.0 [00:00&lt;00:00, 3.30kB/s]"
      }
     },
     "c3d8dee3e0ec4965b831ff1aa78e589c": {
      "model_module": "@jupyter-widgets/base",
      "model_module_version": "1.2.0",
      "model_name": "LayoutModel",
      "state": {
       "_model_module": "@jupyter-widgets/base",
       "_model_module_version": "1.2.0",
       "_model_name": "LayoutModel",
       "_view_count": null,
       "_view_module": "@jupyter-widgets/base",
       "_view_module_version": "1.2.0",
       "_view_name": "LayoutView",
       "align_content": null,
       "align_items": null,
       "align_self": null,
       "border": null,
       "bottom": null,
       "display": null,
       "flex": null,
       "flex_flow": null,
       "grid_area": null,
       "grid_auto_columns": null,
       "grid_auto_flow": null,
       "grid_auto_rows": null,
       "grid_column": null,
       "grid_gap": null,
       "grid_row": null,
       "grid_template_areas": null,
       "grid_template_columns": null,
       "grid_template_rows": null,
       "height": null,
       "justify_content": null,
       "justify_items": null,
       "left": null,
       "margin": null,
       "max_height": null,
       "max_width": null,
       "min_height": null,
       "min_width": null,
       "object_fit": null,
       "object_position": null,
       "order": null,
       "overflow": null,
       "overflow_x": null,
       "overflow_y": null,
       "padding": null,
       "right": null,
       "top": null,
       "visibility": null,
       "width": null
      }
     },
     "c6e3c4bbbaf943809f2c8f9041850256": {
      "model_module": "@jupyter-widgets/controls",
      "model_module_version": "1.5.0",
      "model_name": "HTMLModel",
      "state": {
       "_dom_classes": [],
       "_model_module": "@jupyter-widgets/controls",
       "_model_module_version": "1.5.0",
       "_model_name": "HTMLModel",
       "_view_count": null,
       "_view_module": "@jupyter-widgets/controls",
       "_view_module_version": "1.5.0",
       "_view_name": "HTMLView",
       "description": "",
       "description_tooltip": null,
       "layout": "IPY_MODEL_5acc06f61a0b4bf3bb7e2199649f5c15",
       "placeholder": "​",
       "style": "IPY_MODEL_6a869ad764f04d29938e1ab8931d2fed",
       "value": "Downloading builder script: 100%"
      }
     },
     "c8a10080092d4cd18e0cdf12633dbd38": {
      "model_module": "@jupyter-widgets/controls",
      "model_module_version": "1.5.0",
      "model_name": "DescriptionStyleModel",
      "state": {
       "_model_module": "@jupyter-widgets/controls",
       "_model_module_version": "1.5.0",
       "_model_name": "DescriptionStyleModel",
       "_view_count": null,
       "_view_module": "@jupyter-widgets/base",
       "_view_module_version": "1.2.0",
       "_view_name": "StyleView",
       "description_width": ""
      }
     },
     "ca302392d0744542a6044c64e9679eec": {
      "model_module": "@jupyter-widgets/controls",
      "model_module_version": "1.5.0",
      "model_name": "HTMLModel",
      "state": {
       "_dom_classes": [],
       "_model_module": "@jupyter-widgets/controls",
       "_model_module_version": "1.5.0",
       "_model_name": "HTMLModel",
       "_view_count": null,
       "_view_module": "@jupyter-widgets/controls",
       "_view_module_version": "1.5.0",
       "_view_name": "HTMLView",
       "description": "",
       "description_tooltip": null,
       "layout": "IPY_MODEL_1a71becb30dd4ac08a1c3add04bfce83",
       "placeholder": "​",
       "style": "IPY_MODEL_eb28ab81a8164e0c98d2b0a9f641425f",
       "value": " 16.0k/16.0k [00:00&lt;00:00, 1.14MB/s]"
      }
     },
     "d3b37d0c710b4cff8ec6a277a04eb925": {
      "model_module": "@jupyter-widgets/controls",
      "model_module_version": "1.5.0",
      "model_name": "HBoxModel",
      "state": {
       "_dom_classes": [],
       "_model_module": "@jupyter-widgets/controls",
       "_model_module_version": "1.5.0",
       "_model_name": "HBoxModel",
       "_view_count": null,
       "_view_module": "@jupyter-widgets/controls",
       "_view_module_version": "1.5.0",
       "_view_name": "HBoxView",
       "box_style": "",
       "children": [
        "IPY_MODEL_2b2413d24f5641d38fe3404ea7c58cef",
        "IPY_MODEL_e630f13f3f9549289bdb75d6c0d4d8df",
        "IPY_MODEL_5ef856b11b714edf8770d5e71242a6f6"
       ],
       "layout": "IPY_MODEL_f585578a59fd436da94abdc45c4282ca"
      }
     },
     "d51ea0da31834e9c8e5fb1a1b83d0bba": {
      "model_module": "@jupyter-widgets/base",
      "model_module_version": "1.2.0",
      "model_name": "LayoutModel",
      "state": {
       "_model_module": "@jupyter-widgets/base",
       "_model_module_version": "1.2.0",
       "_model_name": "LayoutModel",
       "_view_count": null,
       "_view_module": "@jupyter-widgets/base",
       "_view_module_version": "1.2.0",
       "_view_name": "LayoutView",
       "align_content": null,
       "align_items": null,
       "align_self": null,
       "border": null,
       "bottom": null,
       "display": null,
       "flex": null,
       "flex_flow": null,
       "grid_area": null,
       "grid_auto_columns": null,
       "grid_auto_flow": null,
       "grid_auto_rows": null,
       "grid_column": null,
       "grid_gap": null,
       "grid_row": null,
       "grid_template_areas": null,
       "grid_template_columns": null,
       "grid_template_rows": null,
       "height": null,
       "justify_content": null,
       "justify_items": null,
       "left": null,
       "margin": null,
       "max_height": null,
       "max_width": null,
       "min_height": null,
       "min_width": null,
       "object_fit": null,
       "object_position": null,
       "order": null,
       "overflow": null,
       "overflow_x": null,
       "overflow_y": null,
       "padding": null,
       "right": null,
       "top": null,
       "visibility": null,
       "width": null
      }
     },
     "d52cccdc8c6a4822946aa37246caad00": {
      "model_module": "@jupyter-widgets/base",
      "model_module_version": "1.2.0",
      "model_name": "LayoutModel",
      "state": {
       "_model_module": "@jupyter-widgets/base",
       "_model_module_version": "1.2.0",
       "_model_name": "LayoutModel",
       "_view_count": null,
       "_view_module": "@jupyter-widgets/base",
       "_view_module_version": "1.2.0",
       "_view_name": "LayoutView",
       "align_content": null,
       "align_items": null,
       "align_self": null,
       "border": null,
       "bottom": null,
       "display": null,
       "flex": null,
       "flex_flow": null,
       "grid_area": null,
       "grid_auto_columns": null,
       "grid_auto_flow": null,
       "grid_auto_rows": null,
       "grid_column": null,
       "grid_gap": null,
       "grid_row": null,
       "grid_template_areas": null,
       "grid_template_columns": null,
       "grid_template_rows": null,
       "height": null,
       "justify_content": null,
       "justify_items": null,
       "left": null,
       "margin": null,
       "max_height": null,
       "max_width": null,
       "min_height": null,
       "min_width": null,
       "object_fit": null,
       "object_position": null,
       "order": null,
       "overflow": null,
       "overflow_x": null,
       "overflow_y": null,
       "padding": null,
       "right": null,
       "top": null,
       "visibility": null,
       "width": null
      }
     },
     "d9cdecde6369402aa8bf32272ad6576a": {
      "model_module": "@jupyter-widgets/controls",
      "model_module_version": "1.5.0",
      "model_name": "FloatProgressModel",
      "state": {
       "_dom_classes": [],
       "_model_module": "@jupyter-widgets/controls",
       "_model_module_version": "1.5.0",
       "_model_name": "FloatProgressModel",
       "_view_count": null,
       "_view_module": "@jupyter-widgets/controls",
       "_view_module_version": "1.5.0",
       "_view_name": "ProgressView",
       "bar_style": "success",
       "description": "",
       "description_tooltip": null,
       "layout": "IPY_MODEL_78536f14a0a84780a5dacf6471bf7f04",
       "max": 16046.0,
       "min": 0.0,
       "orientation": "horizontal",
       "style": "IPY_MODEL_82efad7d72f345eb8f7e8e94a200bf0b",
       "value": 16046.0
      }
     },
     "dc38ac13dfd6449d8040a9e4461c61e4": {
      "model_module": "@jupyter-widgets/controls",
      "model_module_version": "1.5.0",
      "model_name": "DescriptionStyleModel",
      "state": {
       "_model_module": "@jupyter-widgets/controls",
       "_model_module_version": "1.5.0",
       "_model_name": "DescriptionStyleModel",
       "_view_count": null,
       "_view_module": "@jupyter-widgets/base",
       "_view_module_version": "1.2.0",
       "_view_name": "StyleView",
       "description_width": ""
      }
     },
     "ddb77b22f5d94faca8f0d53458327c46": {
      "model_module": "@jupyter-widgets/base",
      "model_module_version": "1.2.0",
      "model_name": "LayoutModel",
      "state": {
       "_model_module": "@jupyter-widgets/base",
       "_model_module_version": "1.2.0",
       "_model_name": "LayoutModel",
       "_view_count": null,
       "_view_module": "@jupyter-widgets/base",
       "_view_module_version": "1.2.0",
       "_view_name": "LayoutView",
       "align_content": null,
       "align_items": null,
       "align_self": null,
       "border": null,
       "bottom": null,
       "display": null,
       "flex": null,
       "flex_flow": null,
       "grid_area": null,
       "grid_auto_columns": null,
       "grid_auto_flow": null,
       "grid_auto_rows": null,
       "grid_column": null,
       "grid_gap": null,
       "grid_row": null,
       "grid_template_areas": null,
       "grid_template_columns": null,
       "grid_template_rows": null,
       "height": null,
       "justify_content": null,
       "justify_items": null,
       "left": null,
       "margin": null,
       "max_height": null,
       "max_width": null,
       "min_height": null,
       "min_width": null,
       "object_fit": null,
       "object_position": null,
       "order": null,
       "overflow": null,
       "overflow_x": null,
       "overflow_y": null,
       "padding": null,
       "right": null,
       "top": null,
       "visibility": null,
       "width": null
      }
     },
     "e22e66e82a654e5187b4c25a712257b4": {
      "model_module": "@jupyter-widgets/controls",
      "model_module_version": "1.5.0",
      "model_name": "HBoxModel",
      "state": {
       "_dom_classes": [],
       "_model_module": "@jupyter-widgets/controls",
       "_model_module_version": "1.5.0",
       "_model_name": "HBoxModel",
       "_view_count": null,
       "_view_module": "@jupyter-widgets/controls",
       "_view_module_version": "1.5.0",
       "_view_name": "HBoxView",
       "box_style": "",
       "children": [
        "IPY_MODEL_6d713af1cf5341b8b0be809b1c40b96a",
        "IPY_MODEL_0cba6ef697d64bf7879d83f491be221f",
        "IPY_MODEL_4e455e993f6c4ff4a46796b5a02e5b55"
       ],
       "layout": "IPY_MODEL_f4806ddc1c4d43f3a80882f9c039ca3d"
      }
     },
     "e427c40a2e814ca9af6f62fe256c1a4c": {
      "model_module": "@jupyter-widgets/controls",
      "model_module_version": "1.5.0",
      "model_name": "HBoxModel",
      "state": {
       "_dom_classes": [],
       "_model_module": "@jupyter-widgets/controls",
       "_model_module_version": "1.5.0",
       "_model_name": "HBoxModel",
       "_view_count": null,
       "_view_module": "@jupyter-widgets/controls",
       "_view_module_version": "1.5.0",
       "_view_name": "HBoxView",
       "box_style": "",
       "children": [
        "IPY_MODEL_613ccba6a7864830b857658e00b3eefc",
        "IPY_MODEL_ab15f44c9b834ba78752426f55ef838a",
        "IPY_MODEL_b2b109ded201498382902743d1eea4b0"
       ],
       "layout": "IPY_MODEL_ff6c3bb004554447a1129ea2efbbdbe5"
      }
     },
     "e630f13f3f9549289bdb75d6c0d4d8df": {
      "model_module": "@jupyter-widgets/controls",
      "model_module_version": "1.5.0",
      "model_name": "FloatProgressModel",
      "state": {
       "_dom_classes": [],
       "_model_module": "@jupyter-widgets/controls",
       "_model_module_version": "1.5.0",
       "_model_name": "FloatProgressModel",
       "_view_count": null,
       "_view_module": "@jupyter-widgets/controls",
       "_view_module_version": "1.5.0",
       "_view_name": "ProgressView",
       "bar_style": "success",
       "description": "",
       "description_tooltip": null,
       "layout": "IPY_MODEL_265251147fcb49ca904292e056775606",
       "max": 466062.0,
       "min": 0.0,
       "orientation": "horizontal",
       "style": "IPY_MODEL_825c43656d36473cadb5361691fc9c16",
       "value": 466062.0
      }
     },
     "e92b3fd237484c10a554a2b7c8ccb0f4": {
      "model_module": "@jupyter-widgets/base",
      "model_module_version": "1.2.0",
      "model_name": "LayoutModel",
      "state": {
       "_model_module": "@jupyter-widgets/base",
       "_model_module_version": "1.2.0",
       "_model_name": "LayoutModel",
       "_view_count": null,
       "_view_module": "@jupyter-widgets/base",
       "_view_module_version": "1.2.0",
       "_view_name": "LayoutView",
       "align_content": null,
       "align_items": null,
       "align_self": null,
       "border": null,
       "bottom": null,
       "display": null,
       "flex": null,
       "flex_flow": null,
       "grid_area": null,
       "grid_auto_columns": null,
       "grid_auto_flow": null,
       "grid_auto_rows": null,
       "grid_column": null,
       "grid_gap": null,
       "grid_row": null,
       "grid_template_areas": null,
       "grid_template_columns": null,
       "grid_template_rows": null,
       "height": null,
       "justify_content": null,
       "justify_items": null,
       "left": null,
       "margin": null,
       "max_height": null,
       "max_width": null,
       "min_height": null,
       "min_width": null,
       "object_fit": null,
       "object_position": null,
       "order": null,
       "overflow": null,
       "overflow_x": null,
       "overflow_y": null,
       "padding": null,
       "right": null,
       "top": null,
       "visibility": null,
       "width": null
      }
     },
     "eb28ab81a8164e0c98d2b0a9f641425f": {
      "model_module": "@jupyter-widgets/controls",
      "model_module_version": "1.5.0",
      "model_name": "DescriptionStyleModel",
      "state": {
       "_model_module": "@jupyter-widgets/controls",
       "_model_module_version": "1.5.0",
       "_model_name": "DescriptionStyleModel",
       "_view_count": null,
       "_view_module": "@jupyter-widgets/base",
       "_view_module_version": "1.2.0",
       "_view_name": "StyleView",
       "description_width": ""
      }
     },
     "f025e6b7af7a489b8efe8605273d5c82": {
      "model_module": "@jupyter-widgets/controls",
      "model_module_version": "1.5.0",
      "model_name": "HTMLModel",
      "state": {
       "_dom_classes": [],
       "_model_module": "@jupyter-widgets/controls",
       "_model_module_version": "1.5.0",
       "_model_name": "HTMLModel",
       "_view_count": null,
       "_view_module": "@jupyter-widgets/controls",
       "_view_module_version": "1.5.0",
       "_view_name": "HTMLView",
       "description": "",
       "description_tooltip": null,
       "layout": "IPY_MODEL_e92b3fd237484c10a554a2b7c8ccb0f4",
       "placeholder": "​",
       "style": "IPY_MODEL_44683cd6d4154c2699601a38bd8c8bb1",
       "value": " 3600000/3600000 [00:09&lt;00:00, 381009.35 examples/s]"
      }
     },
     "f0d2ecbb7e464b3aaa0f69d26631926b": {
      "model_module": "@jupyter-widgets/base",
      "model_module_version": "1.2.0",
      "model_name": "LayoutModel",
      "state": {
       "_model_module": "@jupyter-widgets/base",
       "_model_module_version": "1.2.0",
       "_model_name": "LayoutModel",
       "_view_count": null,
       "_view_module": "@jupyter-widgets/base",
       "_view_module_version": "1.2.0",
       "_view_name": "LayoutView",
       "align_content": null,
       "align_items": null,
       "align_self": null,
       "border": null,
       "bottom": null,
       "display": null,
       "flex": null,
       "flex_flow": null,
       "grid_area": null,
       "grid_auto_columns": null,
       "grid_auto_flow": null,
       "grid_auto_rows": null,
       "grid_column": null,
       "grid_gap": null,
       "grid_row": null,
       "grid_template_areas": null,
       "grid_template_columns": null,
       "grid_template_rows": null,
       "height": null,
       "justify_content": null,
       "justify_items": null,
       "left": null,
       "margin": null,
       "max_height": null,
       "max_width": null,
       "min_height": null,
       "min_width": null,
       "object_fit": null,
       "object_position": null,
       "order": null,
       "overflow": null,
       "overflow_x": null,
       "overflow_y": null,
       "padding": null,
       "right": null,
       "top": null,
       "visibility": null,
       "width": null
      }
     },
     "f4806ddc1c4d43f3a80882f9c039ca3d": {
      "model_module": "@jupyter-widgets/base",
      "model_module_version": "1.2.0",
      "model_name": "LayoutModel",
      "state": {
       "_model_module": "@jupyter-widgets/base",
       "_model_module_version": "1.2.0",
       "_model_name": "LayoutModel",
       "_view_count": null,
       "_view_module": "@jupyter-widgets/base",
       "_view_module_version": "1.2.0",
       "_view_name": "LayoutView",
       "align_content": null,
       "align_items": null,
       "align_self": null,
       "border": null,
       "bottom": null,
       "display": null,
       "flex": null,
       "flex_flow": null,
       "grid_area": null,
       "grid_auto_columns": null,
       "grid_auto_flow": null,
       "grid_auto_rows": null,
       "grid_column": null,
       "grid_gap": null,
       "grid_row": null,
       "grid_template_areas": null,
       "grid_template_columns": null,
       "grid_template_rows": null,
       "height": null,
       "justify_content": null,
       "justify_items": null,
       "left": null,
       "margin": null,
       "max_height": null,
       "max_width": null,
       "min_height": null,
       "min_width": null,
       "object_fit": null,
       "object_position": null,
       "order": null,
       "overflow": null,
       "overflow_x": null,
       "overflow_y": null,
       "padding": null,
       "right": null,
       "top": null,
       "visibility": null,
       "width": null
      }
     },
     "f585578a59fd436da94abdc45c4282ca": {
      "model_module": "@jupyter-widgets/base",
      "model_module_version": "1.2.0",
      "model_name": "LayoutModel",
      "state": {
       "_model_module": "@jupyter-widgets/base",
       "_model_module_version": "1.2.0",
       "_model_name": "LayoutModel",
       "_view_count": null,
       "_view_module": "@jupyter-widgets/base",
       "_view_module_version": "1.2.0",
       "_view_name": "LayoutView",
       "align_content": null,
       "align_items": null,
       "align_self": null,
       "border": null,
       "bottom": null,
       "display": null,
       "flex": null,
       "flex_flow": null,
       "grid_area": null,
       "grid_auto_columns": null,
       "grid_auto_flow": null,
       "grid_auto_rows": null,
       "grid_column": null,
       "grid_gap": null,
       "grid_row": null,
       "grid_template_areas": null,
       "grid_template_columns": null,
       "grid_template_rows": null,
       "height": null,
       "justify_content": null,
       "justify_items": null,
       "left": null,
       "margin": null,
       "max_height": null,
       "max_width": null,
       "min_height": null,
       "min_width": null,
       "object_fit": null,
       "object_position": null,
       "order": null,
       "overflow": null,
       "overflow_x": null,
       "overflow_y": null,
       "padding": null,
       "right": null,
       "top": null,
       "visibility": null,
       "width": null
      }
     },
     "f707fa4e2bf24354b2e8ac47ec3a46a9": {
      "model_module": "@jupyter-widgets/controls",
      "model_module_version": "1.5.0",
      "model_name": "DescriptionStyleModel",
      "state": {
       "_model_module": "@jupyter-widgets/controls",
       "_model_module_version": "1.5.0",
       "_model_name": "DescriptionStyleModel",
       "_view_count": null,
       "_view_module": "@jupyter-widgets/base",
       "_view_module_version": "1.2.0",
       "_view_name": "StyleView",
       "description_width": ""
      }
     },
     "fb3a7c3e50344c3e8dd8d92ba33040fd": {
      "model_module": "@jupyter-widgets/controls",
      "model_module_version": "1.5.0",
      "model_name": "HBoxModel",
      "state": {
       "_dom_classes": [],
       "_model_module": "@jupyter-widgets/controls",
       "_model_module_version": "1.5.0",
       "_model_name": "HBoxModel",
       "_view_count": null,
       "_view_module": "@jupyter-widgets/controls",
       "_view_module_version": "1.5.0",
       "_view_name": "HBoxView",
       "box_style": "",
       "children": [
        "IPY_MODEL_a88e83aba2c14b8dbe3665b3cdf60825",
        "IPY_MODEL_799ec12aeec44904b69235a1462985ed",
        "IPY_MODEL_5a029278ccc74991a9af0e12d0ba2c18"
       ],
       "layout": "IPY_MODEL_81cdb52ca11e4464aab70e450ba6842e"
      }
     },
     "ff6c3bb004554447a1129ea2efbbdbe5": {
      "model_module": "@jupyter-widgets/base",
      "model_module_version": "1.2.0",
      "model_name": "LayoutModel",
      "state": {
       "_model_module": "@jupyter-widgets/base",
       "_model_module_version": "1.2.0",
       "_model_name": "LayoutModel",
       "_view_count": null,
       "_view_module": "@jupyter-widgets/base",
       "_view_module_version": "1.2.0",
       "_view_name": "LayoutView",
       "align_content": null,
       "align_items": null,
       "align_self": null,
       "border": null,
       "bottom": null,
       "display": null,
       "flex": null,
       "flex_flow": null,
       "grid_area": null,
       "grid_auto_columns": null,
       "grid_auto_flow": null,
       "grid_auto_rows": null,
       "grid_column": null,
       "grid_gap": null,
       "grid_row": null,
       "grid_template_areas": null,
       "grid_template_columns": null,
       "grid_template_rows": null,
       "height": null,
       "justify_content": null,
       "justify_items": null,
       "left": null,
       "margin": null,
       "max_height": null,
       "max_width": null,
       "min_height": null,
       "min_width": null,
       "object_fit": null,
       "object_position": null,
       "order": null,
       "overflow": null,
       "overflow_x": null,
       "overflow_y": null,
       "padding": null,
       "right": null,
       "top": null,
       "visibility": null,
       "width": null
      }
     }
    },
    "version_major": 2,
    "version_minor": 0
   }
  }
 },
 "nbformat": 4,
 "nbformat_minor": 5
}
